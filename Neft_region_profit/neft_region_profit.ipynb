{
 "cells": [
  {
   "cell_type": "markdown",
   "metadata": {},
   "source": [
    "# Выбор локации для скважины"
   ]
  },
  {
   "cell_type": "markdown",
   "metadata": {},
   "source": [
    "Допустим, вы работаете в добывающей компании «ГлавРосГосНефть». Нужно решить, где бурить новую скважину.\n",
    "\n",
    "Вам предоставлены пробы нефти в трёх регионах: в каждом 10 000 месторождений, где измерили качество нефти и объём её запасов. Постройте модель машинного обучения, которая поможет определить регион, где добыча принесёт наибольшую прибыль. Проанализируйте возможную прибыль и риски техникой *Bootstrap.*\n",
    "\n",
    "Шаги для выбора локации:\n",
    "\n",
    "- В избранном регионе ищут месторождения, для каждого определяют значения признаков;\n",
    "- Строят модель и оценивают объём запасов;\n",
    "- Выбирают месторождения с самым высокими оценками значений. Количество месторождений зависит от бюджета компании и стоимости разработки одной скважины;\n",
    "- Прибыль равна суммарной прибыли отобранных месторождений."
   ]
  },
  {
   "cell_type": "markdown",
   "metadata": {},
   "source": [
    "## Загрузка и подготовка данных"
   ]
  },
  {
   "cell_type": "code",
   "execution_count": 1,
   "metadata": {},
   "outputs": [],
   "source": [
    "import pandas as pd\n",
    "import numpy as np\n",
    "from scipy import stats as st\n",
    "\n",
    "from matplotlib import pyplot\n",
    "import matplotlib.pyplot as plt\n",
    "\n",
    "from sklearn.model_selection import train_test_split\n",
    "from sklearn.linear_model import LinearRegression\n",
    "from sklearn.metrics import mean_squared_error #MSE\n",
    "\n",
    "#ПРОСТО ИЗ ЛЮБОПЫТСТВА ПРОБОВАЛ ДРУГОЙ АЛГОРИТМ\n",
    "#from sklearn.ensemble import RandomForestRegressor"
   ]
  },

  {
   "cell_type": "code",
   "execution_count": 2,
   "metadata": {},
   "outputs": [],
   "source": [
    "reg_0 = pd.read_csv('/datasets/geo_data_0.csv')#, sep='\\t')\n",
    "reg_1 = pd.read_csv('/datasets/geo_data_1.csv')#, sep='\\t')\n",
    "reg_2 = pd.read_csv('/datasets/geo_data_2.csv')#, sep='\\t')"
   ]
  },
  {
   "cell_type": "code",
   "execution_count": 3,
   "metadata": {},
   "outputs": [
    {
     "data": {
      "text/html": [
       "<div>\n",
       "<style scoped>\n",
       "    .dataframe tbody tr th:only-of-type {\n",
       "        vertical-align: middle;\n",
       "    }\n",
       "\n",
       "    .dataframe tbody tr th {\n",
       "        vertical-align: top;\n",
       "    }\n",
       "\n",
       "    .dataframe thead th {\n",
       "        text-align: right;\n",
       "    }\n",
       "</style>\n",
       "<table border=\"1\" class=\"dataframe\">\n",
       "  <thead>\n",
       "    <tr style=\"text-align: right;\">\n",
       "      <th></th>\n",
       "      <th>id</th>\n",
       "      <th>f0</th>\n",
       "      <th>f1</th>\n",
       "      <th>f2</th>\n",
       "      <th>product</th>\n",
       "    </tr>\n",
       "  </thead>\n",
       "  <tbody>\n",
       "    <tr>\n",
       "      <th>0</th>\n",
       "      <td>txEyH</td>\n",
       "      <td>0.705745</td>\n",
       "      <td>-0.497823</td>\n",
       "      <td>1.221170</td>\n",
       "      <td>105.280062</td>\n",
       "    </tr>\n",
       "    <tr>\n",
       "      <th>1</th>\n",
       "      <td>2acmU</td>\n",
       "      <td>1.334711</td>\n",
       "      <td>-0.340164</td>\n",
       "      <td>4.365080</td>\n",
       "      <td>73.037750</td>\n",
       "    </tr>\n",
       "    <tr>\n",
       "      <th>2</th>\n",
       "      <td>409Wp</td>\n",
       "      <td>1.022732</td>\n",
       "      <td>0.151990</td>\n",
       "      <td>1.419926</td>\n",
       "      <td>85.265647</td>\n",
       "    </tr>\n",
       "    <tr>\n",
       "      <th>3</th>\n",
       "      <td>iJLyR</td>\n",
       "      <td>-0.032172</td>\n",
       "      <td>0.139033</td>\n",
       "      <td>2.978566</td>\n",
       "      <td>168.620776</td>\n",
       "    </tr>\n",
       "    <tr>\n",
       "      <th>4</th>\n",
       "      <td>Xdl7t</td>\n",
       "      <td>1.988431</td>\n",
       "      <td>0.155413</td>\n",
       "      <td>4.751769</td>\n",
       "      <td>154.036647</td>\n",
       "    </tr>\n",
       "  </tbody>\n",
       "</table>\n",
       "</div>"
      ],
      "text/plain": [
       "      id        f0        f1        f2     product\n",
       "0  txEyH  0.705745 -0.497823  1.221170  105.280062\n",
       "1  2acmU  1.334711 -0.340164  4.365080   73.037750\n",
       "2  409Wp  1.022732  0.151990  1.419926   85.265647\n",
       "3  iJLyR -0.032172  0.139033  2.978566  168.620776\n",
       "4  Xdl7t  1.988431  0.155413  4.751769  154.036647"
      ]
     },
     "execution_count": 3,
     "metadata": {},
     "output_type": "execute_result"
    }
   ],
   "source": [
    "reg_0.head()"
   ]
  },
  {
   "cell_type": "code",
   "execution_count": 4,
   "metadata": {},
   "outputs": [
    {
     "data": {
      "text/html": [
       "<div>\n",
       "<style scoped>\n",
       "    .dataframe tbody tr th:only-of-type {\n",
       "        vertical-align: middle;\n",
       "    }\n",
       "\n",
       "    .dataframe tbody tr th {\n",
       "        vertical-align: top;\n",
       "    }\n",
       "\n",
       "    .dataframe thead th {\n",
       "        text-align: right;\n",
       "    }\n",
       "</style>\n",
       "<table border=\"1\" class=\"dataframe\">\n",
       "  <thead>\n",
       "    <tr style=\"text-align: right;\">\n",
       "      <th></th>\n",
       "      <th>id</th>\n",
       "      <th>f0</th>\n",
       "      <th>f1</th>\n",
       "      <th>f2</th>\n",
       "      <th>product</th>\n",
       "    </tr>\n",
       "  </thead>\n",
       "  <tbody>\n",
       "    <tr>\n",
       "      <th>0</th>\n",
       "      <td>kBEdx</td>\n",
       "      <td>-15.001348</td>\n",
       "      <td>-8.276000</td>\n",
       "      <td>-0.005876</td>\n",
       "      <td>3.179103</td>\n",
       "    </tr>\n",
       "    <tr>\n",
       "      <th>1</th>\n",
       "      <td>62mP7</td>\n",
       "      <td>14.272088</td>\n",
       "      <td>-3.475083</td>\n",
       "      <td>0.999183</td>\n",
       "      <td>26.953261</td>\n",
       "    </tr>\n",
       "    <tr>\n",
       "      <th>2</th>\n",
       "      <td>vyE1P</td>\n",
       "      <td>6.263187</td>\n",
       "      <td>-5.948386</td>\n",
       "      <td>5.001160</td>\n",
       "      <td>134.766305</td>\n",
       "    </tr>\n",
       "    <tr>\n",
       "      <th>3</th>\n",
       "      <td>KcrkZ</td>\n",
       "      <td>-13.081196</td>\n",
       "      <td>-11.506057</td>\n",
       "      <td>4.999415</td>\n",
       "      <td>137.945408</td>\n",
       "    </tr>\n",
       "    <tr>\n",
       "      <th>4</th>\n",
       "      <td>AHL4O</td>\n",
       "      <td>12.702195</td>\n",
       "      <td>-8.147433</td>\n",
       "      <td>5.004363</td>\n",
       "      <td>134.766305</td>\n",
       "    </tr>\n",
       "  </tbody>\n",
       "</table>\n",
       "</div>"
      ],
      "text/plain": [
       "      id         f0         f1        f2     product\n",
       "0  kBEdx -15.001348  -8.276000 -0.005876    3.179103\n",
       "1  62mP7  14.272088  -3.475083  0.999183   26.953261\n",
       "2  vyE1P   6.263187  -5.948386  5.001160  134.766305\n",
       "3  KcrkZ -13.081196 -11.506057  4.999415  137.945408\n",
       "4  AHL4O  12.702195  -8.147433  5.004363  134.766305"
      ]
     },
     "execution_count": 4,
     "metadata": {},
     "output_type": "execute_result"
    }
   ],
   "source": [
    "reg_1.head()"
   ]
  },
  {
   "cell_type": "code",
   "execution_count": 5,
   "metadata": {},
   "outputs": [
    {
     "data": {
      "text/html": [
       "<div>\n",
       "<style scoped>\n",
       "    .dataframe tbody tr th:only-of-type {\n",
       "        vertical-align: middle;\n",
       "    }\n",
       "\n",
       "    .dataframe tbody tr th {\n",
       "        vertical-align: top;\n",
       "    }\n",
       "\n",
       "    .dataframe thead th {\n",
       "        text-align: right;\n",
       "    }\n",
       "</style>\n",
       "<table border=\"1\" class=\"dataframe\">\n",
       "  <thead>\n",
       "    <tr style=\"text-align: right;\">\n",
       "      <th></th>\n",
       "      <th>id</th>\n",
       "      <th>f0</th>\n",
       "      <th>f1</th>\n",
       "      <th>f2</th>\n",
       "      <th>product</th>\n",
       "    </tr>\n",
       "  </thead>\n",
       "  <tbody>\n",
       "    <tr>\n",
       "      <th>0</th>\n",
       "      <td>fwXo0</td>\n",
       "      <td>-1.146987</td>\n",
       "      <td>0.963328</td>\n",
       "      <td>-0.828965</td>\n",
       "      <td>27.758673</td>\n",
       "    </tr>\n",
       "    <tr>\n",
       "      <th>1</th>\n",
       "      <td>WJtFt</td>\n",
       "      <td>0.262778</td>\n",
       "      <td>0.269839</td>\n",
       "      <td>-2.530187</td>\n",
       "      <td>56.069697</td>\n",
       "    </tr>\n",
       "    <tr>\n",
       "      <th>2</th>\n",
       "      <td>ovLUW</td>\n",
       "      <td>0.194587</td>\n",
       "      <td>0.289035</td>\n",
       "      <td>-5.586433</td>\n",
       "      <td>62.871910</td>\n",
       "    </tr>\n",
       "    <tr>\n",
       "      <th>3</th>\n",
       "      <td>q6cA6</td>\n",
       "      <td>2.236060</td>\n",
       "      <td>-0.553760</td>\n",
       "      <td>0.930038</td>\n",
       "      <td>114.572842</td>\n",
       "    </tr>\n",
       "    <tr>\n",
       "      <th>4</th>\n",
       "      <td>WPMUX</td>\n",
       "      <td>-0.515993</td>\n",
       "      <td>1.716266</td>\n",
       "      <td>5.899011</td>\n",
       "      <td>149.600746</td>\n",
       "    </tr>\n",
       "  </tbody>\n",
       "</table>\n",
       "</div>"
      ],
      "text/plain": [
       "      id        f0        f1        f2     product\n",
       "0  fwXo0 -1.146987  0.963328 -0.828965   27.758673\n",
       "1  WJtFt  0.262778  0.269839 -2.530187   56.069697\n",
       "2  ovLUW  0.194587  0.289035 -5.586433   62.871910\n",
       "3  q6cA6  2.236060 -0.553760  0.930038  114.572842\n",
       "4  WPMUX -0.515993  1.716266  5.899011  149.600746"
      ]
     },
     "execution_count": 5,
     "metadata": {},
     "output_type": "execute_result"
    }
   ],
   "source": [
    "reg_2.head()"
   ]
  },
  {
   "cell_type": "markdown",
   "metadata": {},
   "source": [
    "Для дальнейшего удобства обозначим соответствующие регионы (датасеты), и связанные с ними расчеты, как:\n",
    "- \"Регион 0\"\n",
    "- \"Регион 1\"\n",
    "- \"Регион 2\""
   ]
  },
  {
   "cell_type": "code",
   "execution_count": 6,
   "metadata": {},
   "outputs": [
    {
     "name": "stdout",
     "output_type": "stream",
     "text": [
      "<class 'pandas.core.frame.DataFrame'>\n",
      "RangeIndex: 100000 entries, 0 to 99999\n",
      "Data columns (total 5 columns):\n",
      " #   Column   Non-Null Count   Dtype  \n",
      "---  ------   --------------   -----  \n",
      " 0   id       100000 non-null  object \n",
      " 1   f0       100000 non-null  float64\n",
      " 2   f1       100000 non-null  float64\n",
      " 3   f2       100000 non-null  float64\n",
      " 4   product  100000 non-null  float64\n",
      "dtypes: float64(4), object(1)\n",
      "memory usage: 3.8+ MB\n"
     ]
    }
   ],
   "source": [
    "reg_0.info()"
   ]
  },
  {
   "cell_type": "markdown",
   "metadata": {},
   "source": [
    "Пропусков нет. Данные храняться в соответствующих форматах."
   ]
  },
  {
   "cell_type": "code",
   "execution_count": 7,
   "metadata": {},
   "outputs": [
    {
     "data": {
      "text/plain": [
       "count    100000.000000\n",
       "mean         92.500000\n",
       "std          44.288691\n",
       "min           0.000000\n",
       "25%          56.497507\n",
       "50%          91.849972\n",
       "75%         128.564089\n",
       "max         185.364347\n",
       "Name: product, dtype: float64"
      ]
     },
     "execution_count": 7,
     "metadata": {},
     "output_type": "execute_result"
    }
   ],
   "source": [
    "reg_0['product'].describe()"
   ]
  },
  {
   "cell_type": "code",
   "execution_count": 8,
   "metadata": {},
   "outputs": [
    {
     "data": {
      "image/png": "[encoded data removed]",
      "text/plain": [
       "<Figure size 864x432 with 1 Axes>"
      ]
     },
     "metadata": {
      "needs_background": "light"
     },
     "output_type": "display_data"
    }
   ],
   "source": [
    "reg_0['product'].plot(kind='hist', grid=True, rot=45,figsize=(12,6))\n",
    "plt.title(\"Распределение значений уровня запасов сырья в Регионе 0\")\n",
    "plt.ylabel(\"Кол-во значений\")\n",
    "plt.xlabel('Уровень запасов , тыс. баррелей')\n",
    "plt.show()"
   ]
  },
  {
   "cell_type": "markdown",
   "metadata": {},
   "source": [
    "Распределение целевого параметра 'product' для Региона 0 довольно близко к нормальному. Медианное и среднее значения близки. Т.е. в большинстве скважин запасы оценены в диапазоне от 56 до 128 тыс. баррелей."
   ]
  },
  {
   "cell_type": "code",
   "execution_count": 9,
   "metadata": {},
   "outputs": [
    {
     "name": "stdout",
     "output_type": "stream",
     "text": [
      "<class 'pandas.core.frame.DataFrame'>\n",
      "RangeIndex: 100000 entries, 0 to 99999\n",
      "Data columns (total 5 columns):\n",
      " #   Column   Non-Null Count   Dtype  \n",
      "---  ------   --------------   -----  \n",
      " 0   id       100000 non-null  object \n",
      " 1   f0       100000 non-null  float64\n",
      " 2   f1       100000 non-null  float64\n",
      " 3   f2       100000 non-null  float64\n",
      " 4   product  100000 non-null  float64\n",
      "dtypes: float64(4), object(1)\n",
      "memory usage: 3.8+ MB\n"
     ]
    }
   ],
   "source": [
    "reg_1.info()"
   ]
  },
  {
   "cell_type": "markdown",
   "metadata": {},
   "source": [
    "Пропусков нет. Данные храняться в соответствующих форматах."
   ]
  },
  {
   "cell_type": "code",
   "execution_count": 10,
   "metadata": {},
   "outputs": [
    {
     "data": {
      "text/plain": [
       "count    100000.000000\n",
       "mean         68.825000\n",
       "std          45.944423\n",
       "min           0.000000\n",
       "25%          26.953261\n",
       "50%          57.085625\n",
       "75%         107.813044\n",
       "max         137.945408\n",
       "Name: product, dtype: float64"
      ]
     },
     "execution_count": 10,
     "metadata": {},
     "output_type": "execute_result"
    }
   ],
   "source": [
    "reg_1['product'].describe()"
   ]
  },
  {
   "cell_type": "code",
   "execution_count": 11,
   "metadata": {},
   "outputs": [
    {
     "data": {
      "image/png": "[encoded data removed]",
      "text/plain": [
       "<Figure size 864x432 with 1 Axes>"
      ]
     },
     "metadata": {
      "needs_background": "light"
     },
     "output_type": "display_data"
    }
   ],
   "source": [
    "reg_1['product'].plot(kind='hist', grid=True, rot=45,figsize=(12,6))\n",
    "plt.title(\"Распределение значений уровня запасов сырья  в Регионе 1\")\n",
    "plt.ylabel(\"Кол-во значений\")\n",
    "plt.xlabel('Уровень запасов , тыс. баррелей')\n",
    "plt.show()"
   ]
  },
  {
   "cell_type": "markdown",
   "metadata": {},
   "source": [
    "Распределение целевого параметра 'product' для Региона 1 очень специфическое. Медианное и среднее значения заметно отличаются (разница около 20%). Значения очевидно распределяются в трех зонах: \n",
    "- одна часть (левый пик) расположена в диапазоне от 0 до примерно 18 тыс. баррелей.;\n",
    "- вторая часть (правый пик) расположена в диапазоне от примерно 125 до 140 тыс. баррелей.\n",
    "- третья, самая большая, часть распределена примерно \"ровным слоем\" в кол-ве по 8.1 тыс. значений в диапазоне от 18 до 125 тыс. баррелей  "
   ]
  },
  {
   "cell_type": "code",
   "execution_count": 12,
   "metadata": {},
   "outputs": [
    {
     "name": "stdout",
     "output_type": "stream",
     "text": [
      "<class 'pandas.core.frame.DataFrame'>\n",
      "RangeIndex: 100000 entries, 0 to 99999\n",
      "Data columns (total 5 columns):\n",
      " #   Column   Non-Null Count   Dtype  \n",
      "---  ------   --------------   -----  \n",
      " 0   id       100000 non-null  object \n",
      " 1   f0       100000 non-null  float64\n",
      " 2   f1       100000 non-null  float64\n",
      " 3   f2       100000 non-null  float64\n",
      " 4   product  100000 non-null  float64\n",
      "dtypes: float64(4), object(1)\n",
      "memory usage: 3.8+ MB\n"
     ]
    }
   ],
   "source": [
    "reg_2.info()"
   ]
  },
  {
   "cell_type": "markdown",
   "metadata": {},
   "source": [
    "Пропусков нет. Данные храняться в соответствующих форматах."
   ]
  },
  {
   "cell_type": "code",
   "execution_count": 13,
   "metadata": {},
   "outputs": [
    {
     "data": {
      "text/plain": [
       "count    100000.000000\n",
       "mean         95.000000\n",
       "std          44.749921\n",
       "min           0.000000\n",
       "25%          59.450441\n",
       "50%          94.925613\n",
       "75%         130.595027\n",
       "max         190.029838\n",
       "Name: product, dtype: float64"
      ]
     },
     "execution_count": 13,
     "metadata": {},
     "output_type": "execute_result"
    }
   ],
   "source": [
    "reg_2['product'].describe()"
   ]
  },
  {
   "cell_type": "code",
   "execution_count": 14,
   "metadata": {},
   "outputs": [
    {
     "data": {
      "image/png": "[encoded data removed]",
      "text/plain": [
       "<Figure size 864x432 with 1 Axes>"
      ]
     },
     "metadata": {
      "needs_background": "light"
     },
     "output_type": "display_data"
    }
   ],
   "source": [
    "reg_2['product'].plot(kind='hist', grid=True, rot=45,figsize=(12,6))\n",
    "plt.title(\"Распределение значений уровня запасов сырья  в Регионе 2\")\n",
    "plt.ylabel(\"Кол-во значений\")\n",
    "plt.xlabel('Уровень запасов , тыс. баррелей')\n",
    "plt.show()"
   ]
  },
  {
   "cell_type": "markdown",
   "metadata": {},
   "source": [
    "Распределение целевого параметра 'product' для Региона 2 также довольно близко к нормальному. Медианное и среднее значения близки. Т.е. в большинстве скважин запасы оценены в диапазоне от 59 до 130 тыс. баррелей."
   ]
  },
  {
   "cell_type": "markdown",
   "metadata": {},
   "source": [
    "__Итак.__ Для моделирования представлены три датасета по 100 тыс. записей.\n",
    "\n",
    "Датасеты не содержат пропусков, не требуют дополнительной предобработки для обучения. \n",
    "\n",
    "По условиям проекта значения параметров f0,f1,f2 не раскрываются, поэтому сделать заключение о качестве данных не представляется возможным.\n",
    "\n",
    "Параметр \"product\" во всех трех датасетах не содержит аномальных значений.\n",
    "\n",
    "Таким образом, можно переходить к обучению моделей."
   ]
  },
  {
   "cell_type": "markdown",
   "metadata": {},
   "source": [
    "## Обучение и проверка модели"
   ]
  },
  {
   "cell_type": "markdown",
   "metadata": {},
   "source": [
    "Для начала подготовим сводную таблицу для будущих результатов расчетов для регионов. С ней удобней будет анализировать результаты и делать выводы."
   ]
  },
  {
   "cell_type": "code",
   "execution_count": 15,
   "metadata": {},
   "outputs": [],
   "source": [
    "region_pivot=pd.DataFrame(index=['Регион 0', 'Регион 1','Регион 2'], \n",
    "                          columns=['Средний \"валидный\" запас сырья','Средний оценочный (предсказанный) запас сырья','RMSE'])\n",
    "#region_pivot"
   ]
  },
  {
   "cell_type": "markdown",
   "metadata": {},
   "source": [
    "Подготовим функцию, которая формирует учебные и пр. наборы, учит модели и выдаёт результаты валидации."
   ]
  },
  {
   "cell_type": "code",
   "execution_count": 16,
   "metadata": {},
   "outputs": [],
   "source": [
    "#прогнозирование запасов в скважинах\n",
    "# функция принимает датасет с показателями по региону (data) и название региона (reg)\n",
    "\n",
    "def data_prep(data,reg):\n",
    "    #обучающие признаки\n",
    "    features = data.drop(['id','product'], axis=1)\n",
    "    #целевой признак\n",
    "    target = data['product']\n",
    "    \n",
    "    #формируем обучающий и валидный наборы данных\n",
    "    features_train, features_valid, target_train, target_valid = train_test_split(\n",
    "    features, target, train_size= 0.75, random_state=54321)\n",
    "    \n",
    "    # печатаем размеры обучающих и валидных наборов для контроля\n",
    "    print('РАСЧЕТЫ ПО РЕГИОНУ:', reg)\n",
    "    print('---------------------------------------------------------------------')\n",
    "    print('Обучающие признаки:',features_train.shape)\n",
    "    print('Обучающая валидация:',features_valid.shape)\n",
    "\n",
    "    print('Обучающий целевой признак:',target_train.shape)\n",
    "    print('Обучающая целевая валидация:',target_valid.shape)\n",
    "    \n",
    "      \n",
    "    #ПРОСТО ИЗ ЛЮБОПЫТСТВА ПРОБОВАЛ ДРУГОЙ АЛГОРИТМ \n",
    "    #lr = RandomForestRegressor(n_estimators=100, \n",
    "                          #criterion='mse', \n",
    "                          #max_depth=6, \n",
    "                          #n_jobs=-1, \n",
    "                          #random_state=12345, \n",
    "                          #)\n",
    "    \n",
    "    #учим модель регрессии\n",
    "    lr = LinearRegression(n_jobs=-1)\n",
    "    lr.fit(features_train, target_train)\n",
    "    \n",
    "    #получаем предсказания\n",
    "    predicted_valid = lr.predict(features_valid)\n",
    "\n",
    "    # рассчитываем RMSE\n",
    "    rmse = round(mean_squared_error(target_valid, predicted_valid)**0.5,2)\n",
    "    \n",
    "    #рассчитываем средний прогнозируемый объем запасов\n",
    "     #прогнозируемый средний запас нефти\n",
    "    estim_mean_resourses=round(predicted_valid.mean(),2)\n",
    "     #\"валидный\" средний запас нефти\n",
    "    valid_mean_resourses=round(target_valid.mean(),2)\n",
    "    \n",
    "    # печатаем результаты прогнозирования\n",
    "    print('---------------------------------------------------------------------')\n",
    "    print('Средний \"валидный\" запас сырья, тыс. баррелей', reg,':', round(valid_mean_resourses,2))\n",
    "    print('Средний оценочный (предсказанный) запас сырья, тыс. баррелей', reg,':', round(estim_mean_resourses,2))\n",
    "    print('RMSE',reg,':', round(rmse,2))\n",
    "    print() \n",
    "    print('Статистические характеристики полученных предсказаний')\n",
    "    print(pd.Series(predicted_valid).describe())\n",
    "    print()\n",
    "    print('График распределения прогнозных значений запаса сырья в скважине')\n",
    "    \n",
    "    # выводим график распределния прогнозных значений\n",
    "    pd.Series(predicted_valid).hist()\n",
    "    \n",
    "   \n",
    "    \n",
    "    # возвращаем средний прогнозируемый запас, средний \"валидный\" запас, RMSE, \n",
    "    # предсказания по региону и валидационный набор по региону\n",
    "    return estim_mean_resourses,  valid_mean_resourses,  rmse, predicted_valid, target_valid"
   ]
  },
  {
   "cell_type": "markdown",
   "metadata": {},
   "source": [
    "Переходим к расчету результатов для каждого региона"
   ]
  },
  {
   "cell_type": "markdown",
   "metadata": {},
   "source": [
    "### Регион \"0\""
   ]
  },
  {
   "cell_type": "code",
   "execution_count": 17,
   "metadata": {},
   "outputs": [
    {
     "name": "stdout",
     "output_type": "stream",
     "text": [
      "РАСЧЕТЫ ПО РЕГИОНУ: \"Регион 0\"\n",
      "---------------------------------------------------------------------\n",
      "Обучающие признаки: (75000, 3)\n",
      "Обучающая валидация: (25000, 3)\n",
      "Обучающий целевой признак: (75000,)\n",
      "Обучающая целевая валидация: (25000,)\n",
      "---------------------------------------------------------------------\n",
      "Средний \"валидный\" запас сырья, тыс. баррелей \"Регион 0\" : 92.58\n",
      "Средний оценочный (предсказанный) запас сырья, тыс. баррелей \"Регион 0\" : 92.16\n",
      "RMSE \"Регион 0\" : 37.68\n",
      "\n",
      "Статистические характеристики полученных предсказаний\n",
      "count    25000.000000\n",
      "mean        92.159212\n",
      "std         23.285735\n",
      "min        -10.136645\n",
      "25%         76.391201\n",
      "50%         92.335147\n",
      "75%        107.862862\n",
      "max        176.187650\n",
      "dtype: float64\n",
      "\n",
      "График распределения прогнозных значений запаса сырья в скважине\n"
     ]
    },
    {
     "data": {
      "image/png": "[encoded data removed]",
      "text/plain": [
       "<Figure size 432x288 with 1 Axes>"
      ]
     },
     "metadata": {
      "needs_background": "light"
     },
     "output_type": "display_data"
    }
   ],
   "source": [
    "estim_maen_resourses_0, valid_mean_resourses_0, rmse_reg_0, pred_0, target_0 = data_prep(reg_0,'\"Регион 0\"')\n",
    "region_pivot.loc['Регион 0','Средний \"валидный\" запас сырья']= valid_mean_resourses_0\n",
    "region_pivot.loc['Регион 0','Средний оценочный (предсказанный) запас сырья']= estim_maen_resourses_0\n",
    "region_pivot.loc['Регион 0','RMSE']= rmse_reg_0"
   ]
  },
  {
   "cell_type": "markdown",
   "metadata": {},
   "source": [
    "Распределение полученных прогнозных запасов в Регионе 0 довольно близко к нормальному. Медианное и средние значения запасов сырья очень близки. Обращают на себя внимание отрицательные значения прогноза, что естественно противоречит природе вещей, т.к. речь идет о прогнозе физического кол-ва нефти. "
   ]
  },
  {
   "cell_type": "markdown",
   "metadata": {},
   "source": [
    "### Регион \"1\""
   ]
  },
  {
   "cell_type": "code",
   "execution_count": 18,
   "metadata": {},
   "outputs": [
    {
     "name": "stdout",
     "output_type": "stream",
     "text": [
      "РАСЧЕТЫ ПО РЕГИОНУ: \"Регион 1\"\n",
      "---------------------------------------------------------------------\n",
      "Обучающие признаки: (75000, 3)\n",
      "Обучающая валидация: (25000, 3)\n",
      "Обучающий целевой признак: (75000,)\n",
      "Обучающая целевая валидация: (25000,)\n",
      "---------------------------------------------------------------------\n",
      "Средний \"валидный\" запас сырья, тыс. баррелей \"Регион 1\" : 68.44\n",
      "Средний оценочный (предсказанный) запас сырья, тыс. баррелей \"Регион 1\" : 68.45\n",
      "RMSE \"Регион 1\" : 0.89\n",
      "\n",
      "Статистические характеристики полученных предсказаний\n",
      "count    25000.000000\n",
      "mean        68.445941\n",
      "std         45.886833\n",
      "min         -1.917073\n",
      "25%         28.502290\n",
      "50%         57.740097\n",
      "75%        109.262062\n",
      "max        139.525949\n",
      "dtype: float64\n",
      "\n",
      "График распределения прогнозных значений запаса сырья в скважине\n"
     ]
    },
    {
     "data": {
      "image/png": "[encoded data removed]",
      "text/plain": [
       "<Figure size 432x288 with 1 Axes>"
      ]
     },
     "metadata": {
      "needs_background": "light"
     },
     "output_type": "display_data"
    }
   ],
   "source": [
    "estim_maen_resourses_1, valid_mean_resourses_1, rmse_reg_1, pred_1, target_1  = data_prep(reg_1,'\"Регион 1\"')\n",
    "region_pivot.loc['Регион 1','Средний \"валидный\" запас сырья']= valid_mean_resourses_1\n",
    "region_pivot.loc['Регион 1','Средний оценочный (предсказанный) запас сырья']= estim_maen_resourses_1\n",
    "region_pivot.loc['Регион 1','RMSE']= rmse_reg_1"
   ]
  },
  {
   "cell_type": "markdown",
   "metadata": {},
   "source": [
    "Распределение полученных прогнозных запасов в Регионе 1 очень специфическое. Явно выражены кластеры: диапазоны запасов, в которых Формируются пиковые значения. \n",
    "\n",
    "Например, \"кластер 125-140 тыс. баррелей\", в котором порядка 4 тыс. прогнозных результатов. \n",
    "Еще \"кластер 27-40 тыс. баррелей\", в котором также около 4 тыс. прогнозных результатов.\n",
    "И т.д. \n",
    "\n",
    "Т.е. Регион 1 какой-то \"ненормальный\" в плане распределения запасов."
   ]
  },
  {
   "cell_type": "markdown",
   "metadata": {},
   "source": [
    "###  Регион \"2\""
   ]
  },
  {
   "cell_type": "code",
   "execution_count": 19,
   "metadata": {},
   "outputs": [
    {
     "name": "stdout",
     "output_type": "stream",
     "text": [
      "РАСЧЕТЫ ПО РЕГИОНУ: \"Регион 2\"\n",
      "---------------------------------------------------------------------\n",
      "Обучающие признаки: (75000, 3)\n",
      "Обучающая валидация: (25000, 3)\n",
      "Обучающий целевой признак: (75000,)\n",
      "Обучающая целевая валидация: (25000,)\n",
      "---------------------------------------------------------------------\n",
      "Средний \"валидный\" запас сырья, тыс. баррелей \"Регион 2\" : 95.08\n",
      "Средний оценочный (предсказанный) запас сырья, тыс. баррелей \"Регион 2\" : 94.92\n",
      "RMSE \"Регион 2\" : 40.15\n",
      "\n",
      "Статистические характеристики полученных предсказаний\n",
      "count    25000.000000\n",
      "mean        94.922295\n",
      "std         19.852319\n",
      "min         14.291189\n",
      "25%         81.332496\n",
      "50%         94.825128\n",
      "75%        108.546305\n",
      "max        176.150855\n",
      "dtype: float64\n",
      "\n",
      "График распределения прогнозных значений запаса сырья в скважине\n"
     ]
    },
    {
     "data": {
      "image/png": "[encoded data removed]",
      "text/plain": [
       "<Figure size 432x288 with 1 Axes>"
      ]
     },
     "metadata": {
      "needs_background": "light"
     },
     "output_type": "display_data"
    }
   ],
   "source": [
    "estim_maen_resourses_2, valid_mean_resourses_2, rmse_reg_2, pred_2, target_2  = data_prep(reg_2,'\"Регион 2\"')\n",
    "region_pivot.loc['Регион 2','Средний \"валидный\" запас сырья']= valid_mean_resourses_2\n",
    "region_pivot.loc['Регион 2','Средний оценочный (предсказанный) запас сырья']= estim_maen_resourses_2\n",
    "region_pivot.loc['Регион 2','RMSE']= rmse_reg_2"
   ]
  },
  {
   "cell_type": "markdown",
   "metadata": {},
   "source": [
    "Распределение полученных прогнозных запасов в Регионе 2 также довольно близко к нормальному. Медианное и средние значения запасов сырья очень близки. Аномальных значений, отрицательных прогнозов, нет."
   ]
  },
  {
   "cell_type": "markdown",
   "metadata": {},
   "source": [
    "**Выводы:**"
   ]
  },
  {
   "cell_type": "code",
   "execution_count": 20,
   "metadata": {},
   "outputs": [
    {
     "data": {
      "text/html": [
       "<div>\n",
       "<style scoped>\n",
       "    .dataframe tbody tr th:only-of-type {\n",
       "        vertical-align: middle;\n",
       "    }\n",
       "\n",
       "    .dataframe tbody tr th {\n",
       "        vertical-align: top;\n",
       "    }\n",
       "\n",
       "    .dataframe thead th {\n",
       "        text-align: right;\n",
       "    }\n",
       "</style>\n",
       "<table border=\"1\" class=\"dataframe\">\n",
       "  <thead>\n",
       "    <tr style=\"text-align: right;\">\n",
       "      <th></th>\n",
       "      <th>Средний \"валидный\" запас сырья</th>\n",
       "      <th>Средний оценочный (предсказанный) запас сырья</th>\n",
       "      <th>RMSE</th>\n",
       "    </tr>\n",
       "  </thead>\n",
       "  <tbody>\n",
       "    <tr>\n",
       "      <th>Регион 0</th>\n",
       "      <td>92.58</td>\n",
       "      <td>92.16</td>\n",
       "      <td>37.68</td>\n",
       "    </tr>\n",
       "    <tr>\n",
       "      <th>Регион 1</th>\n",
       "      <td>68.44</td>\n",
       "      <td>68.45</td>\n",
       "      <td>0.89</td>\n",
       "    </tr>\n",
       "    <tr>\n",
       "      <th>Регион 2</th>\n",
       "      <td>95.08</td>\n",
       "      <td>94.92</td>\n",
       "      <td>40.15</td>\n",
       "    </tr>\n",
       "  </tbody>\n",
       "</table>\n",
       "</div>"
      ],
      "text/plain": [
       "         Средний \"валидный\" запас сырья  \\\n",
       "Регион 0                          92.58   \n",
       "Регион 1                          68.44   \n",
       "Регион 2                          95.08   \n",
       "\n",
       "         Средний оценочный (предсказанный) запас сырья   RMSE  \n",
       "Регион 0                                         92.16  37.68  \n",
       "Регион 1                                         68.45   0.89  \n",
       "Регион 2                                         94.92  40.15  "
      ]
     },
     "execution_count": 20,
     "metadata": {},
     "output_type": "execute_result"
    }
   ],
   "source": [
    "# сводная таблица по регионам\n",
    "region_pivot"
   ]
  },
  {
   "cell_type": "markdown",
   "metadata": {},
   "source": [
    "Очевидно, что лучшие результаты даёт модель для Региона 1 (минимальная RMSE). При этом средний прогнозируемый уровень запасов в Регионе 1 наименьший.  Да и сам Регион 1, как было показано выше, какой-то \"ненормальный\".\n",
    "\n",
    "Максимальный прогнозируемый уровень запасов в Регионе 2. Однако качество прогноза модели для Региона 2 нихудшее из трёх регионов (максимальная RMSE).\n",
    "\n",
    "Прогнозируемые запасы в Регионах 0 и 2, как было показано выше, распределены очень близко к нормальному распределению."
   ]
  },
  {
   "cell_type": "markdown",
   "metadata": {},
   "source": [
    "## Подготовка к расчёту прибыли"
   ]
  },
  {
   "cell_type": "markdown",
   "metadata": {},
   "source": [
    "Установим экономические показатели (константы):"
   ]
  },
  {
   "cell_type": "code",
   "execution_count": 21,
   "metadata": {},
   "outputs": [],
   "source": [
    "#доход от продажи 1 тыс. баррелей\n",
    "REVENUE_PER_BARREL=450"
   ]
  },
  {
   "cell_type": "code",
   "execution_count": 22,
   "metadata": {},
   "outputs": [],
   "source": [
    "# планируемое кол-во разрабатываемых скважин\n",
    "OILWELLS=200"
   ]
  },
  {
   "cell_type": "code",
   "execution_count": 23,
   "metadata": {},
   "outputs": [],
   "source": [
    "# максимальный риск убытков\n",
    "MAX_LOSS_RISK=0.025"
   ]
  },
  {
   "cell_type": "code",
   "execution_count": 24,
   "metadata": {},
   "outputs": [],
   "source": [
    "#бюджет на разработку скважин в регионе\n",
    "OILWELLS_BUDJET=10000000000"
   ]
  },
  {
   "cell_type": "markdown",
   "metadata": {},
   "source": [
    "Т.к. в регионе планируется разрабатывать 200 скважин, при бюджете на разработку 10 млрд. руб., то на одну скважину приходится в среднем ..."
   ]
  },
  {
   "cell_type": "code",
   "execution_count": 25,
   "metadata": {},
   "outputs": [
    {
     "data": {
      "text/plain": [
       "50.0"
      ]
     },
     "execution_count": 25,
     "metadata": {},
     "output_type": "execute_result"
    }
   ],
   "source": [
    "OILWELLS_BUDJET/OILWELLS/1000000 #результат в млн."
   ]
  },
  {
   "cell_type": "markdown",
   "metadata": {},
   "source": [
    "... 50 млн. руб.инвестиций.\n",
    "При цене 450 руб. за 1 баррель, __чтобы покрыть инвестиции, каждая разрабатываемая скважина должна дать в среднем не менее...__"
   ]
  },
  {
   "cell_type": "code",
   "execution_count": 26,
   "metadata": {},
   "outputs": [
    {
     "data": {
      "text/plain": [
       "111.11"
      ]
     },
     "execution_count": 26,
     "metadata": {},
     "output_type": "execute_result"
    }
   ],
   "source": [
    "MIN_RES=round((OILWELLS_BUDJET/OILWELLS)/REVENUE_PER_BARREL/1000,2)\n",
    "MIN_RES"
   ]
  },
  {
   "cell_type": "markdown",
   "metadata": {},
   "source": [
    "__.. 111,(11) тыс. баррелей нефти.__ Посмотрим снова на полученные прогнозные запасы нефти по регионам:"
   ]
  },
  {
   "cell_type": "code",
   "execution_count": 27,
   "metadata": {},
   "outputs": [
    {
     "data": {
      "text/html": [
       "<div>\n",
       "<style scoped>\n",
       "    .dataframe tbody tr th:only-of-type {\n",
       "        vertical-align: middle;\n",
       "    }\n",
       "\n",
       "    .dataframe tbody tr th {\n",
       "        vertical-align: top;\n",
       "    }\n",
       "\n",
       "    .dataframe thead th {\n",
       "        text-align: right;\n",
       "    }\n",
       "</style>\n",
       "<table border=\"1\" class=\"dataframe\">\n",
       "  <thead>\n",
       "    <tr style=\"text-align: right;\">\n",
       "      <th></th>\n",
       "      <th>Средний \"валидный\" запас сырья</th>\n",
       "      <th>Средний оценочный (предсказанный) запас сырья</th>\n",
       "      <th>RMSE</th>\n",
       "      <th>Дефицит запаса, %</th>\n",
       "    </tr>\n",
       "  </thead>\n",
       "  <tbody>\n",
       "    <tr>\n",
       "      <th>Регион 0</th>\n",
       "      <td>92.58</td>\n",
       "      <td>92.16</td>\n",
       "      <td>37.68</td>\n",
       "      <td>17</td>\n",
       "    </tr>\n",
       "    <tr>\n",
       "      <th>Регион 1</th>\n",
       "      <td>68.44</td>\n",
       "      <td>68.45</td>\n",
       "      <td>0.89</td>\n",
       "      <td>38</td>\n",
       "    </tr>\n",
       "    <tr>\n",
       "      <th>Регион 2</th>\n",
       "      <td>95.08</td>\n",
       "      <td>94.92</td>\n",
       "      <td>40.15</td>\n",
       "      <td>15</td>\n",
       "    </tr>\n",
       "  </tbody>\n",
       "</table>\n",
       "</div>"
      ],
      "text/plain": [
       "         Средний \"валидный\" запас сырья  \\\n",
       "Регион 0                          92.58   \n",
       "Регион 1                          68.44   \n",
       "Регион 2                          95.08   \n",
       "\n",
       "         Средний оценочный (предсказанный) запас сырья   RMSE  \\\n",
       "Регион 0                                         92.16  37.68   \n",
       "Регион 1                                         68.45   0.89   \n",
       "Регион 2                                         94.92  40.15   \n",
       "\n",
       "          Дефицит запаса, %  \n",
       "Регион 0                 17  \n",
       "Регион 1                 38  \n",
       "Регион 2                 15  "
      ]
     },
     "execution_count": 27,
     "metadata": {},
     "output_type": "execute_result"
    }
   ],
   "source": [
    "# сводная таблица по регионам\n",
    "region_pivot['Дефицит запаса, %'] =(1-region_pivot['Средний оценочный (предсказанный) запас сырья']/MIN_RES)*100\n",
    "#столбец для расчета дефицита нефти в сважинах по сравнению с минимально рентабельным\n",
    "region_pivot['Дефицит запаса, %']=region_pivot['Дефицит запаса, %'].apply(round)\n",
    "region_pivot"
   ]
  },
  {
   "cell_type": "markdown",
   "metadata": {},
   "source": [
    "Очевидно, что средние прогнозируемые запасы нефти в регионах на более чем 15% меньше, чем минимально рентабельный уровень запаса."
   ]
  },
  {
   "cell_type": "markdown",
   "metadata": {},
   "source": [
    "Итак. Подготовительные расчеты показывают, что __ни один из трех исследуемых регионов, по своим средним прогнозным показателям, не обеспечит получение прибыли__ от разработки нефтяных месторождений. \n",
    "\n",
    "Т.е. необходимо провести более тщательный анализ, чтобы подтвердить или опровергнуть, полученный промежуточный вывод."
   ]
  },
  {
   "cell_type": "markdown",
   "metadata": {},
   "source": [
    "## Расчёт прибыли и рисков "
   ]
  },
  {
   "cell_type": "markdown",
   "metadata": {},
   "source": [
    "Для начала подготовим функции для:\n",
    "\n",
    "    - расчета прибыли от месторождения из 'count' скважин;\n",
    "    - для проведения процедуры bootstrap;\n",
    "    - для оценки риска получения убытков."
   ]
  },
  {
   "cell_type": "code",
   "execution_count": 28,
   "metadata": {},
   "outputs": [],
   "source": [
    "#расчет прибыли месторождения \n",
    "def profit(predicted,target,count,price):\n",
    "       \n",
    "    #сортируем прогнозы по убыванию\n",
    "    probs_sorted = predicted.sort_values(ascending=False) # ВОТ ИЗ-ЗА ЭТОГО ХВОСТА Я ПОДОЗРЕВАЮ БЫЛА БЕДА .head(count)\n",
    "    \n",
    "    # формируем соответсвующую выборку целевых параметров \n",
    "    selected = target[probs_sorted.index][:count] #ВОТ ЭТОТ \"ХВОСТ\" ДОБАВИЛ\n",
    "     \n",
    "    #рассчитываем прибыль месторождения\n",
    "    prof = round(((price * selected.sum()*1000-OILWELLS_BUDJET)/1000000),0)\n",
    "    \n",
    "    #ВСТАВКА ДЛЯ ПРОВЕРКИ ОШИБКИ\n",
    "    if selected.shape!=(200,):\n",
    "        print('--------------------------------------------------------')\n",
    "       #print('Размер отсортированных предсказанных значений:',probs_sorted.shape)\n",
    "        print('Размер соответствующих целевых значений:',selected.shape)\n",
    "        print('--------------------------------------------------------')\n",
    "        \n",
    "    return prof#, mean, lower"
   ]
  },
  {
   "cell_type": "code",
   "execution_count": 29,
   "metadata": {},
   "outputs": [],
   "source": [
    "#бутстрап \n",
    "def bootstrap(targ,pred,reg): #targ-целевой признак и pred-предсказания по региону-reg\n",
    "    values =[] #хранилище для значений прогнозной прибыли \n",
    "    \n",
    "    state = np.random.RandomState(54321) \n",
    "    pred = pd.Series(pred)\n",
    "    targ = targ.reset_index(drop=True)\n",
    "    \n",
    "    #цикл для формирования тестовых выборок\n",
    "    for i in range(1000):   \n",
    "        #формируем случайную выборку 500 скважин из прогнозного датасета по региону\n",
    "        target_subsample = targ.sample(n=500, replace=True, random_state=state)\n",
    "        \n",
    "        #print('размер буста из targeta', target_subsample.shape)\n",
    "        \n",
    "        #отбираем соответсвующие значения целевого параметра 'product'\n",
    "        probs_subsample = pred[target_subsample.index] \n",
    "        \n",
    "        #print('размер буста из предсказаний', probs_subsample.shape)\n",
    "        \n",
    "        \n",
    "        #расчитываем прибыль для тестовой выборки и записываем в хранилище\n",
    "        values.append(profit(probs_subsample,target_subsample,OILWELLS,REVENUE_PER_BARREL))\n",
    "       \n",
    "    values = pd.Series(values)\n",
    "    #2.5% квантиль\n",
    "    lower =  round(values.quantile(0.025),2)\n",
    "    \n",
    "    print('РАСЧЕТЫ ПО РЕГИОНУ:', reg)\n",
    "    print('---------------------------------------------------------------------')\n",
    "\n",
    "    mean = values.mean()\n",
    "    #print('------------------------')\n",
    "    print(\"Средняя прогнозная прибыль, млн. руб.:\", mean)\n",
    "    print(\"2.5%-квантиль, млн. руб.:\", lower)\n",
    "\n",
    "    #ВСТАВКА 97.5% квантиля \n",
    "    higher =  round(values.quantile(0.975),2)\n",
    "    print(\"97.5%-квантиль, млн. руб.:\", higher)\n",
    "    \n",
    "    #СТАРЫЙ ДОВЕРИТЕЛЬНЫЙ ИНТЕРВАЛ ЗАКОМЕНТИЛ\n",
    "    #confidence_interval = st.t.interval(0.95, len(values)-1, mean, values.sem())\n",
    "    #confid=[round(confidence_interval[0],2),round(confidence_interval[1],2)]\n",
    "    \n",
    "    #НОВЫЙ ДОВЕРИТЕЛЬНЫЙ ИНТЕРВАЛ\n",
    "    confid=[lower,higher]\n",
    "    print(\"95%-ый доверительный интервал:\", confid)\n",
    "    \n",
    "    \n",
    "    return values, round(lower,2), round(mean,2),confid"
   ]
  },
  {
   "cell_type": "code",
   "execution_count": 30,
   "metadata": {},
   "outputs": [],
   "source": [
    "# оценка риска убытков\n",
    "def loss_risc(data,reg): #data-предсказания прибыли для региона\n",
    "    #график распределения прогнозных значений прибыли для региона reg\n",
    "    data.plot(kind='hist', grid=True)\n",
    "    \n",
    "    # !!!!ИСПРАВЛЕННЫЙ РАСЧЕТ РИСКА УБЫТКОВ\n",
    "    loss_possibility =  (data < 0).mean()*100\n",
    "    \n",
    "    #ЭТО УЖЕ НЕ НАДО\n",
    "    #print('Кол-во отрицательных прогнозов прибыли:', loss_count)\n",
    "    \n",
    "    print('Риск убытков, %:',round(loss_possibility,2))\n",
    "    \n",
    "    #строим график распределения прогнозов прибыли\n",
    "    data.plot(kind='hist', grid=True, rot=45,figsize=(12,6),bins=100,)\n",
    "    plt.title(\"Распределение прогнозных значений прибыли \"+reg)\n",
    "    plt.ylabel(\"Кол-во значений\")\n",
    "    plt.xlabel('Прогнозируемая прибыль, млн.руб.')\n",
    "    plt.show()\n",
    "    \n",
    "    return round(loss_possibility,2)"
   ]
  },
  {
   "cell_type": "markdown",
   "metadata": {},
   "source": [
    "Подготовим сводную таблицу для результатов расчетов прибыли для регионов. С ней удобней будет позже анализировать результаты расчетов и делать выводы."
   ]
  },
  {
   "cell_type": "code",
   "execution_count": 31,
   "metadata": {},
   "outputs": [],
   "source": [
    "kpi=['Средняя прогнозная прибыль, млн. руб.:',\n",
    "     '2.5%-квантиль, млн. руб.:',\n",
    "     '95%-ый доверительный интервал, млн. руб.:', \n",
    "     'Риск убытков, %:']\n",
    "region_pivot=pd.DataFrame(columns=['Показатели региона','Регион 0', 'Регион 1','Регион 2'])\n",
    "region_pivot['Показатели региона']=kpi"
   ]
  },
  {
   "cell_type": "markdown",
   "metadata": {},
   "source": [
    "### Расчет прибыли и рисков Регион \"0\""
   ]
  },
  {
   "cell_type": "code",
   "execution_count": 32,
   "metadata": {},
   "outputs": [
    {
     "name": "stdout",
     "output_type": "stream",
     "text": [
      "РАСЧЕТЫ ПО РЕГИОНУ: Регион 0\n",
      "---------------------------------------------------------------------\n",
      "Средняя прогнозная прибыль, млн. руб.: 408.945\n",
      "2.5%-квантиль, млн. руб.: -96.02\n",
      "97.5%-квантиль, млн. руб.: 962.02\n",
      "95%-ый доверительный интервал: [-96.02, 962.02]\n",
      "Риск убытков, %: 5.2\n"
     ]
    },
    {
     "data": {
      "image/png": "[encoded data removed]",
      "text/plain": [
       "<Figure size 864x432 with 1 Axes>"
      ]
     },
     "metadata": {
      "needs_background": "light"
     },
     "output_type": "display_data"
    }
   ],
   "source": [
    "#вызываем бутсртап\n",
    "profit_0, lower_0, mean_0, confidence_interval_0  = bootstrap(target_0, pred_0, 'Регион 0')\n",
    "\n",
    "#считаем риски\n",
    "loss_possibility_0=loss_risc(profit_0, 'Регион 0')\n",
    "\n",
    "#добавляем результаты в сводную таблицу\n",
    "region_pivot.loc[0,'Регион 0'] = mean_0\n",
    "region_pivot.loc[1,'Регион 0'] = lower_0\n",
    "region_pivot.loc[2,'Регион 0'] = confidence_interval_0\n",
    "region_pivot.loc[3,'Регион 0'] = loss_possibility_0"
   ]
  },
  {
   "cell_type": "markdown",
   "metadata": {},
   "source": [
    "### Расчет прибыли и рисков Регион \"1\""
   ]
  },
  {
   "cell_type": "code",
   "execution_count": 33,
   "metadata": {},
   "outputs": [
    {
     "name": "stdout",
     "output_type": "stream",
     "text": [
      "РАСЧЕТЫ ПО РЕГИОНУ: Регион 1\n",
      "---------------------------------------------------------------------\n",
      "Средняя прогнозная прибыль, млн. руб.: 471.484\n",
      "2.5%-квантиль, млн. руб.: 51.9\n",
      "97.5%-квантиль, млн. руб.: 911.02\n",
      "95%-ый доверительный интервал: [51.9, 911.02]\n",
      "Риск убытков, %: 1.2\n"
     ]
    },
    {
     "data": {
      "image/png": "[encoded data removed]",
      "text/plain": [
       "<Figure size 864x432 with 1 Axes>"
      ]
     },
     "metadata": {
      "needs_background": "light"
     },
     "output_type": "display_data"
    }
   ],
   "source": [
    "#вызываем бутсртап\n",
    "profit_1, lower_1, mean_1, confidence_interval_1  = bootstrap(target_1, pred_1, 'Регион 1')\n",
    "\n",
    "#считаем риски\n",
    "loss_possibility_1=loss_risc(profit_1, 'Регион 1')\n",
    "\n",
    "#добавляем результаты в сводную таблицу\n",
    "region_pivot.loc[0,'Регион 1'] = mean_1\n",
    "region_pivot.loc[1,'Регион 1'] = lower_1\n",
    "region_pivot.loc[2,'Регион 1'] = confidence_interval_1\n",
    "region_pivot.loc[3,'Регион 1'] = loss_possibility_1"
   ]
  },
  {
   "cell_type": "markdown",
   "metadata": {},
   "source": [
    "### Расчет прибыли и рисков Регион \"2\""
   ]
  },
  {
   "cell_type": "code",
   "execution_count": 34,
   "metadata": {},
   "outputs": [
    {
     "name": "stdout",
     "output_type": "stream",
     "text": [
      "РАСЧЕТЫ ПО РЕГИОНУ: Регион 2\n",
      "---------------------------------------------------------------------\n",
      "Средняя прогнозная прибыль, млн. руб.: 420.904\n",
      "2.5%-квантиль, млн. руб.: -140.07\n",
      "97.5%-квантиль, млн. руб.: 934.22\n",
      "95%-ый доверительный интервал: [-140.07, 934.22]\n",
      "Риск убытков, %: 7.4\n"
     ]
    },
    {
     "data": {
      "image/png": "[encoded data removed]",
      "text/plain": [
       "<Figure size 864x432 with 1 Axes>"
      ]
     },
     "metadata": {
      "needs_background": "light"
     },
     "output_type": "display_data"
    }
   ],
   "source": [
    "#вызываем бутсртап\n",
    "profit_2, lower_2, mean_2, confidence_interval_2  = bootstrap(target_2, pred_2, 'Регион 2')\n",
    "\n",
    "#считаем риски\n",
    "loss_possibility_2=loss_risc(profit_2, 'Регион 2')\n",
    "\n",
    "#добавляем результаты в сводную таблицу\n",
    "region_pivot.loc[0,'Регион 2'] = mean_2\n",
    "region_pivot.loc[1,'Регион 2'] = lower_2\n",
    "region_pivot.loc[2,'Регион 2'] = confidence_interval_2\n",
    "region_pivot.loc[3,'Регион 2'] = loss_possibility_2"
   ]
  },
  {
   "cell_type": "markdown",
   "metadata": {},
   "source": [
    "## **ВЫВОД:**"
   ]
  },
  {
   "cell_type": "code",
   "execution_count": 35,
   "metadata": {},
   "outputs": [
    {
     "data": {
      "text/html": [
       "<div>\n",
       "<style scoped>\n",
       "    .dataframe tbody tr th:only-of-type {\n",
       "        vertical-align: middle;\n",
       "    }\n",
       "\n",
       "    .dataframe tbody tr th {\n",
       "        vertical-align: top;\n",
       "    }\n",
       "\n",
       "    .dataframe thead th {\n",
       "        text-align: right;\n",
       "    }\n",
       "</style>\n",
       "<table border=\"1\" class=\"dataframe\">\n",
       "  <thead>\n",
       "    <tr style=\"text-align: right;\">\n",
       "      <th></th>\n",
       "      <th>Показатели региона</th>\n",
       "      <th>Регион 0</th>\n",
       "      <th>Регион 1</th>\n",
       "      <th>Регион 2</th>\n",
       "    </tr>\n",
       "  </thead>\n",
       "  <tbody>\n",
       "    <tr>\n",
       "      <th>0</th>\n",
       "      <td>Средняя прогнозная прибыль, млн. руб.:</td>\n",
       "      <td>408.94</td>\n",
       "      <td>471.48</td>\n",
       "      <td>420.9</td>\n",
       "    </tr>\n",
       "    <tr>\n",
       "      <th>1</th>\n",
       "      <td>2.5%-квантиль, млн. руб.:</td>\n",
       "      <td>-96.02</td>\n",
       "      <td>51.9</td>\n",
       "      <td>-140.07</td>\n",
       "    </tr>\n",
       "    <tr>\n",
       "      <th>2</th>\n",
       "      <td>95%-ый доверительный интервал, млн. руб.:</td>\n",
       "      <td>[-96.02, 962.02]</td>\n",
       "      <td>[51.9, 911.02]</td>\n",
       "      <td>[-140.07, 934.22]</td>\n",
       "    </tr>\n",
       "    <tr>\n",
       "      <th>3</th>\n",
       "      <td>Риск убытков, %:</td>\n",
       "      <td>5.2</td>\n",
       "      <td>1.2</td>\n",
       "      <td>7.4</td>\n",
       "    </tr>\n",
       "  </tbody>\n",
       "</table>\n",
       "</div>"
      ],
      "text/plain": [
       "                          Показатели региона          Регион 0  \\\n",
       "0     Средняя прогнозная прибыль, млн. руб.:            408.94   \n",
       "1                  2.5%-квантиль, млн. руб.:            -96.02   \n",
       "2  95%-ый доверительный интервал, млн. руб.:  [-96.02, 962.02]   \n",
       "3                           Риск убытков, %:               5.2   \n",
       "\n",
       "         Регион 1           Регион 2  \n",
       "0          471.48              420.9  \n",
       "1            51.9            -140.07  \n",
       "2  [51.9, 911.02]  [-140.07, 934.22]  \n",
       "3             1.2                7.4  "
      ]
     },
     "execution_count": 35,
     "metadata": {},
     "output_type": "execute_result"
    }
   ],
   "source": [
    "region_pivot"
   ]
  },
  {
   "cell_type": "markdown",
   "metadata": {},
   "source": [
    "Как следует из полученных результатов (см. таблицу выше), по совокупности исследуемых параметров __наиболее предпочтительным является Регион 1.__\n",
    "\n",
    "Так, расчеты показывают, что несмотря на \"ненормальное\" распределение запасов нефти в Регионе 1:\n",
    "- прогнозируется максимальный уровень приыбли (471.48 млн. руб.);\n",
    "- лучший, без отрицательных значений, доверительный интервал (51.9, 911.02);\n",
    "- лучший, положительный в отличие от других регионов, 2.5% квантиль (51.9 млн. руб.); \n",
    "- минимальный риск убытков 1.2%. \n",
    "\n",
    "Таким образом, предварительные выводы о том, что запасы нефти в регионах не смогут обеспечить безубыточную добычу, не подтвердились. "
   ]
  },
  {
   "cell_type": "code",
   "execution_count": 36,
   "metadata": {},
   "outputs": [
    {
     "name": "stdout",
     "output_type": "stream",
     "text": [
      "Спасибо за внимание!\n"
     ]
    }
   ],
   "source": [
    "print('Спасибо за внимание!')"
   ]
  }
 ],
 "metadata": {
  "ExecuteTimeLog": [
   {
    "duration": 949,
    "start_time": "2022-01-15T12:35:16.568Z"
   },
   {
    "duration": 309,
    "start_time": "2022-01-15T12:37:09.138Z"
   },
   {
    "duration": 11,
    "start_time": "2022-01-15T12:37:10.168Z"
   },
   {
    "duration": 8,
    "start_time": "2022-01-15T12:37:10.596Z"
   },
   {
    "duration": 8,
    "start_time": "2022-01-15T12:37:11.107Z"
   },
   {
    "duration": 9,
    "start_time": "2022-01-15T12:37:30.686Z"
   },
   {
    "duration": 6,
    "start_time": "2022-01-15T12:37:31.216Z"
   },
   {
    "duration": 10,
    "start_time": "2022-01-15T12:37:31.916Z"
   },
   {
    "duration": 6,
    "start_time": "2022-01-15T12:37:32.268Z"
   },
   {
    "duration": 9,
    "start_time": "2022-01-15T12:37:32.768Z"
   },
   {
    "duration": 6,
    "start_time": "2022-01-15T12:37:33.176Z"
   },
   {
    "duration": 5,
    "start_time": "2022-01-15T12:38:30.258Z"
   },
   {
    "duration": 8,
    "start_time": "2022-01-15T12:38:33.885Z"
   },
   {
    "duration": 7,
    "start_time": "2022-01-15T12:46:54.173Z"
   },
   {
    "duration": 33,
    "start_time": "2022-01-15T12:47:50.285Z"
   },
   {
    "duration": 28,
    "start_time": "2022-01-15T12:48:57.376Z"
   },
   {
    "duration": 47,
    "start_time": "2022-01-15T12:48:58.666Z"
   },
   {
    "duration": 6,
    "start_time": "2022-01-15T12:51:47.040Z"
   },
   {
    "duration": 1585,
    "start_time": "2022-01-16T07:59:30.986Z"
   },
   {
    "duration": 591,
    "start_time": "2022-01-16T07:59:32.574Z"
   },
   {
    "duration": 17,
    "start_time": "2022-01-16T07:59:33.167Z"
   },
   {
    "duration": 22,
    "start_time": "2022-01-16T07:59:33.187Z"
   },
   {
    "duration": 14,
    "start_time": "2022-01-16T07:59:33.211Z"
   },
   {
    "duration": 18,
    "start_time": "2022-01-16T07:59:33.227Z"
   },
   {
    "duration": 11,
    "start_time": "2022-01-16T07:59:33.248Z"
   },
   {
    "duration": 14,
    "start_time": "2022-01-16T07:59:33.301Z"
   },
   {
    "duration": 14,
    "start_time": "2022-01-16T07:59:33.318Z"
   },
   {
    "duration": 14,
    "start_time": "2022-01-16T07:59:33.335Z"
   },
   {
    "duration": 10,
    "start_time": "2022-01-16T07:59:33.351Z"
   },
   {
    "duration": 15,
    "start_time": "2022-01-16T07:59:33.400Z"
   },
   {
    "duration": 10,
    "start_time": "2022-01-16T07:59:33.417Z"
   },
   {
    "duration": 171,
    "start_time": "2022-01-16T07:59:33.430Z"
   },
   {
    "duration": 117,
    "start_time": "2022-01-16T07:59:33.604Z"
   },
   {
    "duration": 202,
    "start_time": "2022-01-16T07:59:33.803Z"
   },
   {
    "duration": 100,
    "start_time": "2022-01-16T07:59:34.009Z"
   },
   {
    "duration": 5,
    "start_time": "2022-01-16T08:00:41.244Z"
   },
   {
    "duration": 16,
    "start_time": "2022-01-16T08:11:58.818Z"
   },
   {
    "duration": 15,
    "start_time": "2022-01-16T08:12:40.600Z"
   },
   {
    "duration": 14,
    "start_time": "2022-01-16T08:12:41.299Z"
   },
   {
    "duration": 15,
    "start_time": "2022-01-16T08:12:43.200Z"
   },
   {
    "duration": 14,
    "start_time": "2022-01-16T08:12:43.831Z"
   },
   {
    "duration": 123,
    "start_time": "2022-01-16T08:12:46.418Z"
   },
   {
    "duration": 16,
    "start_time": "2022-01-16T08:12:49.838Z"
   },
   {
    "duration": 337,
    "start_time": "2022-01-16T08:13:32.429Z"
   },
   {
    "duration": 125,
    "start_time": "2022-01-16T08:14:27.329Z"
   },
   {
    "duration": 168,
    "start_time": "2022-01-16T08:14:53.318Z"
   },
   {
    "duration": 144,
    "start_time": "2022-01-16T08:15:03.089Z"
   },
   {
    "duration": 472,
    "start_time": "2022-01-16T08:15:30.168Z"
   },
   {
    "duration": 442,
    "start_time": "2022-01-16T08:16:48.838Z"
   },
   {
    "duration": 472,
    "start_time": "2022-01-16T08:17:07.138Z"
   },
   {
    "duration": 448,
    "start_time": "2022-01-16T08:17:39.290Z"
   },
   {
    "duration": 433,
    "start_time": "2022-01-16T08:17:51.267Z"
   },
   {
    "duration": 199,
    "start_time": "2022-01-16T14:35:59.629Z"
   },
   {
    "duration": 1118,
    "start_time": "2022-01-16T14:36:08.474Z"
   },
   {
    "duration": 469,
    "start_time": "2022-01-16T14:36:09.594Z"
   },
   {
    "duration": 12,
    "start_time": "2022-01-16T14:36:10.065Z"
   },
   {
    "duration": 34,
    "start_time": "2022-01-16T14:36:10.079Z"
   },
   {
    "duration": 35,
    "start_time": "2022-01-16T14:36:10.115Z"
   },
   {
    "duration": 21,
    "start_time": "2022-01-16T14:36:10.152Z"
   },
   {
    "duration": 40,
    "start_time": "2022-01-16T14:36:10.175Z"
   },
   {
    "duration": 293,
    "start_time": "2022-01-16T14:36:10.216Z"
   },
   {
    "duration": 10,
    "start_time": "2022-01-16T14:36:10.511Z"
   },
   {
    "duration": 21,
    "start_time": "2022-01-16T14:36:10.523Z"
   },
   {
    "duration": 285,
    "start_time": "2022-01-16T14:36:10.545Z"
   },
   {
    "duration": 9,
    "start_time": "2022-01-16T14:36:10.832Z"
   },
   {
    "duration": 32,
    "start_time": "2022-01-16T14:36:10.842Z"
   },
   {
    "duration": 301,
    "start_time": "2022-01-16T14:36:10.876Z"
   },
   {
    "duration": 13,
    "start_time": "2022-01-16T14:36:11.179Z"
   },
   {
    "duration": 30,
    "start_time": "2022-01-16T14:36:11.193Z"
   },
   {
    "duration": 77,
    "start_time": "2022-01-16T14:36:11.224Z"
   },
   {
    "duration": 391,
    "start_time": "2022-01-16T14:36:11.304Z"
   },
   {
    "duration": -971,
    "start_time": "2022-01-16T14:36:12.668Z"
   },
   {
    "duration": -972,
    "start_time": "2022-01-16T14:36:12.670Z"
   },
   {
    "duration": -974,
    "start_time": "2022-01-16T14:36:12.673Z"
   },
   {
    "duration": -976,
    "start_time": "2022-01-16T14:36:12.675Z"
   },
   {
    "duration": 201,
    "start_time": "2022-01-16T14:36:38.956Z"
   },
   {
    "duration": 176,
    "start_time": "2022-01-16T14:36:58.183Z"
   },
   {
    "duration": 339,
    "start_time": "2022-01-16T14:37:55.896Z"
   },
   {
    "duration": 329,
    "start_time": "2022-01-16T14:39:59.673Z"
   },
   {
    "duration": 6,
    "start_time": "2022-01-16T14:40:26.339Z"
   },
   {
    "duration": 337,
    "start_time": "2022-01-16T14:40:42.414Z"
   },
   {
    "duration": 273,
    "start_time": "2022-01-16T14:41:02.963Z"
   },
   {
    "duration": 192,
    "start_time": "2022-01-16T14:41:11.973Z"
   },
   {
    "duration": 206,
    "start_time": "2022-01-16T14:41:37.094Z"
   },
   {
    "duration": 7,
    "start_time": "2022-01-16T14:42:28.378Z"
   },
   {
    "duration": 360,
    "start_time": "2022-01-16T14:42:33.123Z"
   },
   {
    "duration": 196,
    "start_time": "2022-01-16T14:42:35.614Z"
   },
   {
    "duration": 427,
    "start_time": "2022-01-16T14:42:39.464Z"
   },
   {
    "duration": 376,
    "start_time": "2022-01-16T14:42:42.204Z"
   },
   {
    "duration": 7,
    "start_time": "2022-01-16T14:43:54.682Z"
   },
   {
    "duration": 409,
    "start_time": "2022-01-16T14:43:56.752Z"
   },
   {
    "duration": 10,
    "start_time": "2022-01-16T14:44:16.788Z"
   },
   {
    "duration": 417,
    "start_time": "2022-01-16T14:44:20.171Z"
   },
   {
    "duration": 415,
    "start_time": "2022-01-16T14:44:25.872Z"
   },
   {
    "duration": 352,
    "start_time": "2022-01-16T14:44:32.142Z"
   },
   {
    "duration": 7,
    "start_time": "2022-01-16T14:45:08.802Z"
   },
   {
    "duration": 373,
    "start_time": "2022-01-16T14:45:11.142Z"
   },
   {
    "duration": 82,
    "start_time": "2022-01-16T14:45:31.360Z"
   },
   {
    "duration": 351,
    "start_time": "2022-01-16T14:45:33.216Z"
   },
   {
    "duration": 348,
    "start_time": "2022-01-16T14:45:41.032Z"
   },
   {
    "duration": 347,
    "start_time": "2022-01-16T14:45:42.444Z"
   },
   {
    "duration": 7,
    "start_time": "2022-01-16T14:46:17.482Z"
   },
   {
    "duration": 374,
    "start_time": "2022-01-16T14:46:20.511Z"
   },
   {
    "duration": 399,
    "start_time": "2022-01-16T14:46:21.780Z"
   },
   {
    "duration": 396,
    "start_time": "2022-01-16T14:46:22.281Z"
   },
   {
    "duration": 8,
    "start_time": "2022-01-16T14:46:23.591Z"
   },
   {
    "duration": 5,
    "start_time": "2022-01-16T15:05:18.030Z"
   },
   {
    "duration": 376,
    "start_time": "2022-01-16T15:06:37.501Z"
   },
   {
    "duration": 7,
    "start_time": "2022-01-16T15:08:46.545Z"
   },
   {
    "duration": 740,
    "start_time": "2022-01-16T15:08:48.281Z"
   },
   {
    "duration": 6,
    "start_time": "2022-01-16T15:09:07.054Z"
   },
   {
    "duration": 394,
    "start_time": "2022-01-16T15:09:08.491Z"
   },
   {
    "duration": 7,
    "start_time": "2022-01-16T15:10:18.543Z"
   },
   {
    "duration": 414,
    "start_time": "2022-01-16T15:10:20.291Z"
   },
   {
    "duration": 7,
    "start_time": "2022-01-16T15:10:37.453Z"
   },
   {
    "duration": 438,
    "start_time": "2022-01-16T15:10:39.153Z"
   },
   {
    "duration": 436,
    "start_time": "2022-01-16T15:14:29.431Z"
   },
   {
    "duration": 426,
    "start_time": "2022-01-16T15:15:05.454Z"
   },
   {
    "duration": 3,
    "start_time": "2022-01-16T15:28:15.011Z"
   },
   {
    "duration": 2,
    "start_time": "2022-01-16T15:28:15.504Z"
   },
   {
    "duration": 3,
    "start_time": "2022-01-16T15:28:15.941Z"
   },
   {
    "duration": 2,
    "start_time": "2022-01-16T15:28:16.320Z"
   },
   {
    "duration": 4,
    "start_time": "2022-01-16T15:28:17.230Z"
   },
   {
    "duration": 4,
    "start_time": "2022-01-16T15:28:18.292Z"
   },
   {
    "duration": 11,
    "start_time": "2022-01-16T15:28:19.792Z"
   },
   {
    "duration": 4,
    "start_time": "2022-01-16T15:28:51.699Z"
   },
   {
    "duration": 3,
    "start_time": "2022-01-16T15:34:41.731Z"
   },
   {
    "duration": 4,
    "start_time": "2022-01-16T15:35:32.401Z"
   },
   {
    "duration": 10,
    "start_time": "2022-01-16T15:36:16.941Z"
   },
   {
    "duration": 10,
    "start_time": "2022-01-16T15:39:30.101Z"
   },
   {
    "duration": 4,
    "start_time": "2022-01-16T15:45:32.152Z"
   },
   {
    "duration": 6,
    "start_time": "2022-01-16T15:53:03.984Z"
   },
   {
    "duration": 7,
    "start_time": "2022-01-16T15:53:34.289Z"
   },
   {
    "duration": 7,
    "start_time": "2022-01-16T15:53:49.114Z"
   },
   {
    "duration": 2746,
    "start_time": "2022-01-16T15:54:00.591Z"
   },
   {
    "duration": 6,
    "start_time": "2022-01-16T15:54:07.402Z"
   },
   {
    "duration": 6,
    "start_time": "2022-01-16T15:54:09.230Z"
   },
   {
    "duration": 8,
    "start_time": "2022-01-16T15:54:09.792Z"
   },
   {
    "duration": 2973,
    "start_time": "2022-01-16T15:54:10.432Z"
   },
   {
    "duration": 5,
    "start_time": "2022-01-16T15:56:31.395Z"
   },
   {
    "duration": 3021,
    "start_time": "2022-01-16T15:58:52.721Z"
   },
   {
    "duration": 3232,
    "start_time": "2022-01-16T15:58:59.360Z"
   },
   {
    "duration": 12,
    "start_time": "2022-01-16T15:59:02.595Z"
   },
   {
    "duration": 8,
    "start_time": "2022-01-16T16:00:14.290Z"
   },
   {
    "duration": 3071,
    "start_time": "2022-01-16T16:00:33.053Z"
   },
   {
    "duration": 7,
    "start_time": "2022-01-16T16:11:33.269Z"
   },
   {
    "duration": 3,
    "start_time": "2022-01-16T16:11:35.017Z"
   },
   {
    "duration": 3146,
    "start_time": "2022-01-16T16:14:39.449Z"
   },
   {
    "duration": 1058,
    "start_time": "2022-01-16T16:16:58.239Z"
   },
   {
    "duration": 367,
    "start_time": "2022-01-16T16:16:59.299Z"
   },
   {
    "duration": 13,
    "start_time": "2022-01-16T16:16:59.669Z"
   },
   {
    "duration": 23,
    "start_time": "2022-01-16T16:16:59.691Z"
   },
   {
    "duration": 19,
    "start_time": "2022-01-16T16:16:59.716Z"
   },
   {
    "duration": 19,
    "start_time": "2022-01-16T16:16:59.737Z"
   },
   {
    "duration": 14,
    "start_time": "2022-01-16T16:16:59.757Z"
   },
   {
    "duration": 298,
    "start_time": "2022-01-16T16:16:59.773Z"
   },
   {
    "duration": 19,
    "start_time": "2022-01-16T16:17:00.074Z"
   },
   {
    "duration": 22,
    "start_time": "2022-01-16T16:17:00.095Z"
   },
   {
    "duration": 298,
    "start_time": "2022-01-16T16:17:00.119Z"
   },
   {
    "duration": 10,
    "start_time": "2022-01-16T16:17:00.419Z"
   },
   {
    "duration": 30,
    "start_time": "2022-01-16T16:17:00.430Z"
   },
   {
    "duration": 308,
    "start_time": "2022-01-16T16:17:00.462Z"
   },
   {
    "duration": 5,
    "start_time": "2022-01-16T16:17:00.772Z"
   },
   {
    "duration": 30,
    "start_time": "2022-01-16T16:17:00.779Z"
   },
   {
    "duration": 483,
    "start_time": "2022-01-16T16:17:00.811Z"
   },
   {
    "duration": 410,
    "start_time": "2022-01-16T16:17:01.296Z"
   },
   {
    "duration": 392,
    "start_time": "2022-01-16T16:17:01.708Z"
   },
   {
    "duration": 8,
    "start_time": "2022-01-16T16:17:02.101Z"
   },
   {
    "duration": 15,
    "start_time": "2022-01-16T16:17:02.110Z"
   },
   {
    "duration": 30,
    "start_time": "2022-01-16T16:17:02.126Z"
   },
   {
    "duration": 26,
    "start_time": "2022-01-16T16:17:02.158Z"
   },
   {
    "duration": 11,
    "start_time": "2022-01-16T16:17:02.186Z"
   },
   {
    "duration": 35,
    "start_time": "2022-01-16T16:17:02.199Z"
   },
   {
    "duration": 11,
    "start_time": "2022-01-16T16:17:02.235Z"
   },
   {
    "duration": 325,
    "start_time": "2022-01-16T16:17:02.250Z"
   },
   {
    "duration": -959,
    "start_time": "2022-01-16T16:17:03.537Z"
   },
   {
    "duration": -960,
    "start_time": "2022-01-16T16:17:03.539Z"
   },
   {
    "duration": -961,
    "start_time": "2022-01-16T16:17:03.541Z"
   },
   {
    "duration": -961,
    "start_time": "2022-01-16T16:17:03.542Z"
   },
   {
    "duration": -962,
    "start_time": "2022-01-16T16:17:03.544Z"
   },
   {
    "duration": -989,
    "start_time": "2022-01-16T16:17:03.572Z"
   },
   {
    "duration": -993,
    "start_time": "2022-01-16T16:17:03.577Z"
   },
   {
    "duration": -994,
    "start_time": "2022-01-16T16:17:03.579Z"
   },
   {
    "duration": -995,
    "start_time": "2022-01-16T16:17:03.581Z"
   },
   {
    "duration": 5,
    "start_time": "2022-01-16T16:18:05.965Z"
   },
   {
    "duration": 1065,
    "start_time": "2022-01-16T16:18:12.237Z"
   },
   {
    "duration": 352,
    "start_time": "2022-01-16T16:18:13.304Z"
   },
   {
    "duration": 12,
    "start_time": "2022-01-16T16:18:13.658Z"
   },
   {
    "duration": 22,
    "start_time": "2022-01-16T16:18:13.671Z"
   },
   {
    "duration": 38,
    "start_time": "2022-01-16T16:18:13.694Z"
   },
   {
    "duration": 44,
    "start_time": "2022-01-16T16:18:13.734Z"
   },
   {
    "duration": 11,
    "start_time": "2022-01-16T16:18:13.780Z"
   },
   {
    "duration": 293,
    "start_time": "2022-01-16T16:18:13.793Z"
   },
   {
    "duration": 11,
    "start_time": "2022-01-16T16:18:14.092Z"
   },
   {
    "duration": 23,
    "start_time": "2022-01-16T16:18:14.105Z"
   },
   {
    "duration": 295,
    "start_time": "2022-01-16T16:18:14.129Z"
   },
   {
    "duration": 10,
    "start_time": "2022-01-16T16:18:14.426Z"
   },
   {
    "duration": 37,
    "start_time": "2022-01-16T16:18:14.438Z"
   },
   {
    "duration": 281,
    "start_time": "2022-01-16T16:18:14.476Z"
   },
   {
    "duration": 5,
    "start_time": "2022-01-16T16:18:14.758Z"
   },
   {
    "duration": 7,
    "start_time": "2022-01-16T16:18:14.765Z"
   },
   {
    "duration": 430,
    "start_time": "2022-01-16T16:18:14.774Z"
   },
   {
    "duration": 386,
    "start_time": "2022-01-16T16:18:15.205Z"
   },
   {
    "duration": 389,
    "start_time": "2022-01-16T16:18:15.593Z"
   },
   {
    "duration": 7,
    "start_time": "2022-01-16T16:18:15.991Z"
   },
   {
    "duration": 34,
    "start_time": "2022-01-16T16:18:16.000Z"
   },
   {
    "duration": 24,
    "start_time": "2022-01-16T16:18:16.036Z"
   },
   {
    "duration": 36,
    "start_time": "2022-01-16T16:18:16.062Z"
   },
   {
    "duration": 31,
    "start_time": "2022-01-16T16:18:16.099Z"
   },
   {
    "duration": 26,
    "start_time": "2022-01-16T16:18:16.132Z"
   },
   {
    "duration": 26,
    "start_time": "2022-01-16T16:18:16.160Z"
   },
   {
    "duration": 18,
    "start_time": "2022-01-16T16:18:16.190Z"
   },
   {
    "duration": 22,
    "start_time": "2022-01-16T16:18:16.210Z"
   },
   {
    "duration": 69,
    "start_time": "2022-01-16T16:18:16.234Z"
   },
   {
    "duration": 22,
    "start_time": "2022-01-16T16:18:16.305Z"
   },
   {
    "duration": 46,
    "start_time": "2022-01-16T16:18:16.329Z"
   },
   {
    "duration": 3137,
    "start_time": "2022-01-16T16:18:16.377Z"
   },
   {
    "duration": 3241,
    "start_time": "2022-01-16T16:18:19.516Z"
   },
   {
    "duration": 3270,
    "start_time": "2022-01-16T16:18:22.760Z"
   },
   {
    "duration": 8,
    "start_time": "2022-01-16T16:18:26.032Z"
   },
   {
    "duration": 4,
    "start_time": "2022-01-16T16:18:26.043Z"
   },
   {
    "duration": 3103,
    "start_time": "2022-01-16T16:19:58.646Z"
   },
   {
    "duration": 2997,
    "start_time": "2022-01-16T16:20:29.204Z"
   },
   {
    "duration": 1077,
    "start_time": "2022-01-16T16:21:01.626Z"
   },
   {
    "duration": 355,
    "start_time": "2022-01-16T16:21:02.705Z"
   },
   {
    "duration": 13,
    "start_time": "2022-01-16T16:21:03.063Z"
   },
   {
    "duration": 22,
    "start_time": "2022-01-16T16:21:03.078Z"
   },
   {
    "duration": 12,
    "start_time": "2022-01-16T16:21:03.102Z"
   },
   {
    "duration": 12,
    "start_time": "2022-01-16T16:21:03.116Z"
   },
   {
    "duration": 11,
    "start_time": "2022-01-16T16:21:03.130Z"
   },
   {
    "duration": 319,
    "start_time": "2022-01-16T16:21:03.143Z"
   },
   {
    "duration": 10,
    "start_time": "2022-01-16T16:21:03.465Z"
   },
   {
    "duration": 22,
    "start_time": "2022-01-16T16:21:03.478Z"
   },
   {
    "duration": 287,
    "start_time": "2022-01-16T16:21:03.502Z"
   },
   {
    "duration": 10,
    "start_time": "2022-01-16T16:21:03.792Z"
   },
   {
    "duration": 12,
    "start_time": "2022-01-16T16:21:03.804Z"
   },
   {
    "duration": 301,
    "start_time": "2022-01-16T16:21:03.817Z"
   },
   {
    "duration": 5,
    "start_time": "2022-01-16T16:21:04.120Z"
   },
   {
    "duration": 7,
    "start_time": "2022-01-16T16:21:04.127Z"
   },
   {
    "duration": 422,
    "start_time": "2022-01-16T16:21:04.136Z"
   },
   {
    "duration": 417,
    "start_time": "2022-01-16T16:21:04.559Z"
   },
   {
    "duration": 418,
    "start_time": "2022-01-16T16:21:04.978Z"
   },
   {
    "duration": 6,
    "start_time": "2022-01-16T16:21:05.398Z"
   },
   {
    "duration": 7,
    "start_time": "2022-01-16T16:21:05.406Z"
   },
   {
    "duration": 5,
    "start_time": "2022-01-16T16:21:05.414Z"
   },
   {
    "duration": 5,
    "start_time": "2022-01-16T16:21:05.420Z"
   },
   {
    "duration": 6,
    "start_time": "2022-01-16T16:21:05.426Z"
   },
   {
    "duration": 8,
    "start_time": "2022-01-16T16:21:05.434Z"
   },
   {
    "duration": 6,
    "start_time": "2022-01-16T16:21:05.444Z"
   },
   {
    "duration": 43,
    "start_time": "2022-01-16T16:21:05.452Z"
   },
   {
    "duration": 3,
    "start_time": "2022-01-16T16:21:05.497Z"
   },
   {
    "duration": 71,
    "start_time": "2022-01-16T16:21:05.502Z"
   },
   {
    "duration": 22,
    "start_time": "2022-01-16T16:21:05.574Z"
   },
   {
    "duration": 13,
    "start_time": "2022-01-16T16:21:05.598Z"
   },
   {
    "duration": 2988,
    "start_time": "2022-01-16T16:21:05.613Z"
   },
   {
    "duration": 3002,
    "start_time": "2022-01-16T16:21:08.603Z"
   },
   {
    "duration": 2989,
    "start_time": "2022-01-16T16:21:11.607Z"
   },
   {
    "duration": 8,
    "start_time": "2022-01-16T16:21:14.598Z"
   },
   {
    "duration": 5,
    "start_time": "2022-01-16T16:21:14.608Z"
   },
   {
    "duration": 4,
    "start_time": "2022-01-16T16:25:36.892Z"
   },
   {
    "duration": 10,
    "start_time": "2022-01-16T16:26:55.911Z"
   },
   {
    "duration": 12,
    "start_time": "2022-01-16T16:26:58.773Z"
   },
   {
    "duration": 287,
    "start_time": "2022-01-16T16:27:02.805Z"
   },
   {
    "duration": 4,
    "start_time": "2022-01-16T16:29:04.462Z"
   },
   {
    "duration": 1415,
    "start_time": "2022-01-17T08:00:26.212Z"
   },
   {
    "duration": 1003,
    "start_time": "2022-01-17T08:00:27.630Z"
   },
   {
    "duration": 29,
    "start_time": "2022-01-17T08:00:28.642Z"
   },
   {
    "duration": 14,
    "start_time": "2022-01-17T08:00:28.675Z"
   },
   {
    "duration": 13,
    "start_time": "2022-01-17T08:00:28.692Z"
   },
   {
    "duration": 15,
    "start_time": "2022-01-17T08:00:28.708Z"
   },
   {
    "duration": 16,
    "start_time": "2022-01-17T08:00:28.765Z"
   },
   {
    "duration": 455,
    "start_time": "2022-01-17T08:00:28.784Z"
   },
   {
    "duration": 23,
    "start_time": "2022-01-17T08:00:29.242Z"
   },
   {
    "duration": 18,
    "start_time": "2022-01-17T08:00:29.268Z"
   },
   {
    "duration": 568,
    "start_time": "2022-01-17T08:00:29.289Z"
   },
   {
    "duration": 16,
    "start_time": "2022-01-17T08:00:29.859Z"
   },
   {
    "duration": 20,
    "start_time": "2022-01-17T08:00:29.878Z"
   },
   {
    "duration": 465,
    "start_time": "2022-01-17T08:00:29.901Z"
   },
   {
    "duration": 7,
    "start_time": "2022-01-17T08:00:30.369Z"
   },
   {
    "duration": 17,
    "start_time": "2022-01-17T08:00:30.378Z"
   },
   {
    "duration": 529,
    "start_time": "2022-01-17T08:00:30.397Z"
   },
   {
    "duration": 536,
    "start_time": "2022-01-17T08:00:30.929Z"
   },
   {
    "duration": 504,
    "start_time": "2022-01-17T08:00:31.467Z"
   },
   {
    "duration": 11,
    "start_time": "2022-01-17T08:00:31.973Z"
   },
   {
    "duration": 5,
    "start_time": "2022-01-17T08:00:31.987Z"
   },
   {
    "duration": 4,
    "start_time": "2022-01-17T08:00:31.997Z"
   },
   {
    "duration": 6,
    "start_time": "2022-01-17T08:00:32.004Z"
   },
   {
    "duration": 7,
    "start_time": "2022-01-17T08:00:32.012Z"
   },
   {
    "duration": 8,
    "start_time": "2022-01-17T08:00:32.021Z"
   },
   {
    "duration": 6,
    "start_time": "2022-01-17T08:00:32.064Z"
   },
   {
    "duration": 25,
    "start_time": "2022-01-17T08:00:32.072Z"
   },
   {
    "duration": 5,
    "start_time": "2022-01-17T08:00:32.100Z"
   },
   {
    "duration": 113,
    "start_time": "2022-01-17T08:00:32.107Z"
   },
   {
    "duration": 9,
    "start_time": "2022-01-17T08:00:32.223Z"
   },
   {
    "duration": 29,
    "start_time": "2022-01-17T08:00:32.234Z"
   },
   {
    "duration": 4981,
    "start_time": "2022-01-17T08:00:32.266Z"
   },
   {
    "duration": 5080,
    "start_time": "2022-01-17T08:00:37.249Z"
   },
   {
    "duration": 5284,
    "start_time": "2022-01-17T08:00:42.332Z"
   },
   {
    "duration": 13,
    "start_time": "2022-01-17T08:00:47.618Z"
   },
   {
    "duration": 30,
    "start_time": "2022-01-17T08:00:47.634Z"
   },
   {
    "duration": 8294,
    "start_time": "2022-01-17T08:14:29.448Z"
   },
   {
    "duration": 7,
    "start_time": "2022-01-17T08:17:30.378Z"
   },
   {
    "duration": 6,
    "start_time": "2022-01-17T08:18:34.874Z"
   },
   {
    "duration": 7,
    "start_time": "2022-01-17T08:19:26.472Z"
   },
   {
    "duration": 1504,
    "start_time": "2022-01-17T08:20:10.223Z"
   },
   {
    "duration": 466,
    "start_time": "2022-01-17T08:20:11.729Z"
   },
   {
    "duration": 18,
    "start_time": "2022-01-17T08:20:12.198Z"
   },
   {
    "duration": 12,
    "start_time": "2022-01-17T08:20:12.219Z"
   },
   {
    "duration": 34,
    "start_time": "2022-01-17T08:20:12.234Z"
   },
   {
    "duration": 16,
    "start_time": "2022-01-17T08:20:12.270Z"
   },
   {
    "duration": 15,
    "start_time": "2022-01-17T08:20:12.288Z"
   },
   {
    "duration": 496,
    "start_time": "2022-01-17T08:20:12.306Z"
   },
   {
    "duration": 14,
    "start_time": "2022-01-17T08:20:12.805Z"
   },
   {
    "duration": 14,
    "start_time": "2022-01-17T08:20:12.822Z"
   },
   {
    "duration": 480,
    "start_time": "2022-01-17T08:20:12.838Z"
   },
   {
    "duration": 14,
    "start_time": "2022-01-17T08:20:13.321Z"
   },
   {
    "duration": 31,
    "start_time": "2022-01-17T08:20:13.337Z"
   },
   {
    "duration": 449,
    "start_time": "2022-01-17T08:20:13.371Z"
   },
   {
    "duration": 7,
    "start_time": "2022-01-17T08:20:13.823Z"
   },
   {
    "duration": 31,
    "start_time": "2022-01-17T08:20:13.832Z"
   },
   {
    "duration": 545,
    "start_time": "2022-01-17T08:20:13.866Z"
   },
   {
    "duration": 550,
    "start_time": "2022-01-17T08:20:14.414Z"
   },
   {
    "duration": 522,
    "start_time": "2022-01-17T08:20:14.967Z"
   },
   {
    "duration": 11,
    "start_time": "2022-01-17T08:20:15.491Z"
   },
   {
    "duration": 5,
    "start_time": "2022-01-17T08:20:15.505Z"
   },
   {
    "duration": 5,
    "start_time": "2022-01-17T08:20:15.513Z"
   },
   {
    "duration": 4,
    "start_time": "2022-01-17T08:20:15.524Z"
   },
   {
    "duration": 3,
    "start_time": "2022-01-17T08:20:15.564Z"
   },
   {
    "duration": 8,
    "start_time": "2022-01-17T08:20:15.569Z"
   },
   {
    "duration": 708,
    "start_time": "2022-01-17T08:20:15.580Z"
   },
   {
    "duration": -1448,
    "start_time": "2022-01-17T08:20:17.739Z"
   },
   {
    "duration": -1449,
    "start_time": "2022-01-17T08:20:17.742Z"
   },
   {
    "duration": -1451,
    "start_time": "2022-01-17T08:20:17.745Z"
   },
   {
    "duration": -1451,
    "start_time": "2022-01-17T08:20:17.748Z"
   },
   {
    "duration": -1456,
    "start_time": "2022-01-17T08:20:17.755Z"
   },
   {
    "duration": -1456,
    "start_time": "2022-01-17T08:20:17.758Z"
   },
   {
    "duration": -1458,
    "start_time": "2022-01-17T08:20:17.762Z"
   },
   {
    "duration": -1458,
    "start_time": "2022-01-17T08:20:17.764Z"
   },
   {
    "duration": -1459,
    "start_time": "2022-01-17T08:20:17.767Z"
   },
   {
    "duration": -1460,
    "start_time": "2022-01-17T08:20:17.770Z"
   },
   {
    "duration": 90,
    "start_time": "2022-01-17T08:28:15.872Z"
   },
   {
    "duration": 6,
    "start_time": "2022-01-17T08:29:27.063Z"
   },
   {
    "duration": 6,
    "start_time": "2022-01-17T08:34:30.343Z"
   },
   {
    "duration": 6,
    "start_time": "2022-01-17T08:34:40.451Z"
   },
   {
    "duration": 1465,
    "start_time": "2022-01-17T08:34:46.992Z"
   },
   {
    "duration": 463,
    "start_time": "2022-01-17T08:34:48.460Z"
   },
   {
    "duration": 17,
    "start_time": "2022-01-17T08:34:48.926Z"
   },
   {
    "duration": 24,
    "start_time": "2022-01-17T08:34:48.946Z"
   },
   {
    "duration": 12,
    "start_time": "2022-01-17T08:34:48.972Z"
   },
   {
    "duration": 15,
    "start_time": "2022-01-17T08:34:48.987Z"
   },
   {
    "duration": 15,
    "start_time": "2022-01-17T08:34:49.004Z"
   },
   {
    "duration": 489,
    "start_time": "2022-01-17T08:34:49.021Z"
   },
   {
    "duration": 15,
    "start_time": "2022-01-17T08:34:49.514Z"
   },
   {
    "duration": 39,
    "start_time": "2022-01-17T08:34:49.532Z"
   },
   {
    "duration": 457,
    "start_time": "2022-01-17T08:34:49.575Z"
   },
   {
    "duration": 33,
    "start_time": "2022-01-17T08:34:50.036Z"
   },
   {
    "duration": 18,
    "start_time": "2022-01-17T08:34:50.073Z"
   },
   {
    "duration": 470,
    "start_time": "2022-01-17T08:34:50.093Z"
   },
   {
    "duration": 7,
    "start_time": "2022-01-17T08:34:50.565Z"
   },
   {
    "duration": 10,
    "start_time": "2022-01-17T08:34:50.575Z"
   },
   {
    "duration": 497,
    "start_time": "2022-01-17T08:34:50.588Z"
   },
   {
    "duration": 492,
    "start_time": "2022-01-17T08:34:51.088Z"
   },
   {
    "duration": 500,
    "start_time": "2022-01-17T08:34:51.582Z"
   },
   {
    "duration": 12,
    "start_time": "2022-01-17T08:34:52.085Z"
   },
   {
    "duration": 4,
    "start_time": "2022-01-17T08:34:52.100Z"
   },
   {
    "duration": 7,
    "start_time": "2022-01-17T08:34:52.106Z"
   },
   {
    "duration": 5,
    "start_time": "2022-01-17T08:34:52.115Z"
   },
   {
    "duration": 40,
    "start_time": "2022-01-17T08:34:52.123Z"
   },
   {
    "duration": 6,
    "start_time": "2022-01-17T08:34:52.166Z"
   },
   {
    "duration": 428,
    "start_time": "2022-01-17T08:34:52.175Z"
   },
   {
    "duration": -1398,
    "start_time": "2022-01-17T08:34:54.078Z"
   },
   {
    "duration": -1405,
    "start_time": "2022-01-17T08:34:54.086Z"
   },
   {
    "duration": -1409,
    "start_time": "2022-01-17T08:34:54.092Z"
   },
   {
    "duration": -1425,
    "start_time": "2022-01-17T08:34:54.109Z"
   },
   {
    "duration": -1430,
    "start_time": "2022-01-17T08:34:54.116Z"
   },
   {
    "duration": -1436,
    "start_time": "2022-01-17T08:34:54.124Z"
   },
   {
    "duration": -1451,
    "start_time": "2022-01-17T08:34:54.140Z"
   },
   {
    "duration": -1458,
    "start_time": "2022-01-17T08:34:54.148Z"
   },
   {
    "duration": -1462,
    "start_time": "2022-01-17T08:34:54.154Z"
   },
   {
    "duration": -1469,
    "start_time": "2022-01-17T08:34:54.162Z"
   },
   {
    "duration": 5,
    "start_time": "2022-01-17T08:35:46.471Z"
   },
   {
    "duration": 23,
    "start_time": "2022-01-17T08:35:49.518Z"
   },
   {
    "duration": 6,
    "start_time": "2022-01-17T08:35:56.470Z"
   },
   {
    "duration": 9,
    "start_time": "2022-01-17T08:35:58.061Z"
   },
   {
    "duration": 6,
    "start_time": "2022-01-17T08:35:59.260Z"
   },
   {
    "duration": 10,
    "start_time": "2022-01-17T08:36:01.610Z"
   },
   {
    "duration": 660,
    "start_time": "2022-01-17T08:36:03.028Z"
   },
   {
    "duration": 10,
    "start_time": "2022-01-17T08:37:08.613Z"
   },
   {
    "duration": 6,
    "start_time": "2022-01-17T08:37:11.131Z"
   },
   {
    "duration": 11,
    "start_time": "2022-01-17T08:37:12.859Z"
   },
   {
    "duration": 8548,
    "start_time": "2022-01-17T08:37:14.049Z"
   },
   {
    "duration": 10,
    "start_time": "2022-01-17T08:38:28.940Z"
   },
   {
    "duration": 6,
    "start_time": "2022-01-17T08:38:31.881Z"
   },
   {
    "duration": 10,
    "start_time": "2022-01-17T08:38:33.722Z"
   },
   {
    "duration": 941,
    "start_time": "2022-01-17T08:38:34.867Z"
   },
   {
    "duration": 7,
    "start_time": "2022-01-17T08:40:08.559Z"
   },
   {
    "duration": 10,
    "start_time": "2022-01-17T08:40:10.840Z"
   },
   {
    "duration": 790,
    "start_time": "2022-01-17T08:40:11.840Z"
   },
   {
    "duration": 5,
    "start_time": "2022-01-17T08:40:57.613Z"
   },
   {
    "duration": 9,
    "start_time": "2022-01-17T08:40:58.832Z"
   },
   {
    "duration": 6,
    "start_time": "2022-01-17T08:41:00.249Z"
   },
   {
    "duration": 9,
    "start_time": "2022-01-17T08:41:01.744Z"
   },
   {
    "duration": 748,
    "start_time": "2022-01-17T08:41:02.897Z"
   },
   {
    "duration": 12,
    "start_time": "2022-01-17T08:41:18.723Z"
   },
   {
    "duration": 6,
    "start_time": "2022-01-17T08:41:19.591Z"
   },
   {
    "duration": 10,
    "start_time": "2022-01-17T08:41:21.560Z"
   },
   {
    "duration": 5272,
    "start_time": "2022-01-17T08:41:22.760Z"
   },
   {
    "duration": 5297,
    "start_time": "2022-01-17T08:41:44.315Z"
   },
   {
    "duration": 6005,
    "start_time": "2022-01-17T08:42:00.618Z"
   },
   {
    "duration": 14,
    "start_time": "2022-01-17T08:42:10.690Z"
   },
   {
    "duration": 1474,
    "start_time": "2022-01-17T08:46:42.643Z"
   },
   {
    "duration": 487,
    "start_time": "2022-01-17T08:46:44.119Z"
   },
   {
    "duration": 18,
    "start_time": "2022-01-17T08:46:44.609Z"
   },
   {
    "duration": 16,
    "start_time": "2022-01-17T08:46:44.629Z"
   },
   {
    "duration": 13,
    "start_time": "2022-01-17T08:46:44.664Z"
   },
   {
    "duration": 17,
    "start_time": "2022-01-17T08:46:44.679Z"
   },
   {
    "duration": 15,
    "start_time": "2022-01-17T08:46:44.699Z"
   },
   {
    "duration": 486,
    "start_time": "2022-01-17T08:46:44.717Z"
   },
   {
    "duration": 14,
    "start_time": "2022-01-17T08:46:45.208Z"
   },
   {
    "duration": 39,
    "start_time": "2022-01-17T08:46:45.225Z"
   },
   {
    "duration": 443,
    "start_time": "2022-01-17T08:46:45.266Z"
   },
   {
    "duration": 14,
    "start_time": "2022-01-17T08:46:45.712Z"
   },
   {
    "duration": 39,
    "start_time": "2022-01-17T08:46:45.729Z"
   },
   {
    "duration": 457,
    "start_time": "2022-01-17T08:46:45.771Z"
   },
   {
    "duration": 7,
    "start_time": "2022-01-17T08:46:46.231Z"
   },
   {
    "duration": 27,
    "start_time": "2022-01-17T08:46:46.241Z"
   },
   {
    "duration": 503,
    "start_time": "2022-01-17T08:46:46.270Z"
   },
   {
    "duration": 549,
    "start_time": "2022-01-17T08:46:46.776Z"
   },
   {
    "duration": 554,
    "start_time": "2022-01-17T08:46:47.327Z"
   },
   {
    "duration": 11,
    "start_time": "2022-01-17T08:46:47.885Z"
   },
   {
    "duration": 4,
    "start_time": "2022-01-17T08:46:47.898Z"
   },
   {
    "duration": 6,
    "start_time": "2022-01-17T08:46:47.904Z"
   },
   {
    "duration": 5,
    "start_time": "2022-01-17T08:46:47.913Z"
   },
   {
    "duration": 42,
    "start_time": "2022-01-17T08:46:47.921Z"
   },
   {
    "duration": 6,
    "start_time": "2022-01-17T08:46:47.966Z"
   },
   {
    "duration": 5,
    "start_time": "2022-01-17T08:46:47.975Z"
   },
   {
    "duration": 37,
    "start_time": "2022-01-17T08:46:47.985Z"
   },
   {
    "duration": 5,
    "start_time": "2022-01-17T08:46:48.025Z"
   },
   {
    "duration": 109,
    "start_time": "2022-01-17T08:46:48.033Z"
   },
   {
    "duration": 19,
    "start_time": "2022-01-17T08:46:48.144Z"
   },
   {
    "duration": 14,
    "start_time": "2022-01-17T08:46:48.165Z"
   },
   {
    "duration": 5136,
    "start_time": "2022-01-17T08:46:48.181Z"
   },
   {
    "duration": 5038,
    "start_time": "2022-01-17T08:46:53.319Z"
   },
   {
    "duration": 5336,
    "start_time": "2022-01-17T08:46:58.363Z"
   },
   {
    "duration": 12,
    "start_time": "2022-01-17T08:47:03.701Z"
   },
   {
    "duration": 5,
    "start_time": "2022-01-17T08:47:03.716Z"
   },
   {
    "duration": 10,
    "start_time": "2022-01-17T08:50:31.234Z"
   },
   {
    "duration": 10,
    "start_time": "2022-01-17T08:50:39.252Z"
   },
   {
    "duration": 938,
    "start_time": "2022-01-17T08:50:44.745Z"
   },
   {
    "duration": 6,
    "start_time": "2022-01-17T08:53:33.178Z"
   },
   {
    "duration": 864,
    "start_time": "2022-01-17T08:53:38.344Z"
   },
   {
    "duration": 6,
    "start_time": "2022-01-17T08:55:22.622Z"
   },
   {
    "duration": 10,
    "start_time": "2022-01-17T08:55:25.558Z"
   },
   {
    "duration": 6,
    "start_time": "2022-01-17T08:55:26.155Z"
   },
   {
    "duration": 10,
    "start_time": "2022-01-17T08:55:27.044Z"
   },
   {
    "duration": 875,
    "start_time": "2022-01-17T08:55:28.393Z"
   },
   {
    "duration": 412,
    "start_time": "2022-01-17T08:56:30.605Z"
   },
   {
    "duration": 7,
    "start_time": "2022-01-17T08:56:45.204Z"
   },
   {
    "duration": 422,
    "start_time": "2022-01-17T08:56:55.422Z"
   },
   {
    "duration": 7,
    "start_time": "2022-01-17T08:57:14.575Z"
   },
   {
    "duration": 6,
    "start_time": "2022-01-17T08:57:45.703Z"
   },
   {
    "duration": 5,
    "start_time": "2022-01-17T08:58:08.396Z"
   },
   {
    "duration": 6,
    "start_time": "2022-01-17T08:58:14.424Z"
   },
   {
    "duration": 7,
    "start_time": "2022-01-17T08:58:50.334Z"
   },
   {
    "duration": 6,
    "start_time": "2022-01-17T08:58:57.995Z"
   },
   {
    "duration": 4,
    "start_time": "2022-01-17T08:59:32.614Z"
   },
   {
    "duration": 6,
    "start_time": "2022-01-17T08:59:33.234Z"
   },
   {
    "duration": 484,
    "start_time": "2022-01-17T08:59:55.174Z"
   },
   {
    "duration": 6,
    "start_time": "2022-01-17T09:00:07.974Z"
   },
   {
    "duration": 6,
    "start_time": "2022-01-17T09:06:32.720Z"
   },
   {
    "duration": 11,
    "start_time": "2022-01-17T09:06:48.139Z"
   },
   {
    "duration": 7,
    "start_time": "2022-01-17T09:06:50.567Z"
   },
   {
    "duration": 10,
    "start_time": "2022-01-17T09:06:52.286Z"
   },
   {
    "duration": 824,
    "start_time": "2022-01-17T09:06:53.554Z"
   },
   {
    "duration": 7,
    "start_time": "2022-01-17T09:07:35.470Z"
   },
   {
    "duration": 817,
    "start_time": "2022-01-17T09:07:39.454Z"
   },
   {
    "duration": 3,
    "start_time": "2022-01-17T09:09:06.844Z"
   },
   {
    "duration": 806,
    "start_time": "2022-01-17T09:09:14.984Z"
   },
   {
    "duration": 3,
    "start_time": "2022-01-17T09:09:43.952Z"
   },
   {
    "duration": 816,
    "start_time": "2022-01-17T09:09:49.470Z"
   },
   {
    "duration": 7,
    "start_time": "2022-01-17T09:11:02.781Z"
   },
   {
    "duration": 850,
    "start_time": "2022-01-17T09:11:06.774Z"
   },
   {
    "duration": 97,
    "start_time": "2022-01-17T09:12:45.573Z"
   },
   {
    "duration": 8,
    "start_time": "2022-01-17T09:13:13.791Z"
   },
   {
    "duration": 4957,
    "start_time": "2022-01-17T09:13:18.539Z"
   },
   {
    "duration": 108,
    "start_time": "2022-01-17T09:14:42.842Z"
   },
   {
    "duration": 814,
    "start_time": "2022-01-17T09:14:46.530Z"
   },
   {
    "duration": 8,
    "start_time": "2022-01-17T09:16:19.701Z"
   },
   {
    "duration": 10,
    "start_time": "2022-01-17T09:16:21.714Z"
   },
   {
    "duration": 6,
    "start_time": "2022-01-17T09:16:22.231Z"
   },
   {
    "duration": 10,
    "start_time": "2022-01-17T09:16:23.150Z"
   },
   {
    "duration": 6422,
    "start_time": "2022-01-17T09:16:23.951Z"
   },
   {
    "duration": 7,
    "start_time": "2022-01-17T09:16:53.382Z"
   },
   {
    "duration": 5483,
    "start_time": "2022-01-17T09:16:57.750Z"
   },
   {
    "duration": 7,
    "start_time": "2022-01-17T09:19:40.573Z"
   },
   {
    "duration": 843,
    "start_time": "2022-01-17T09:19:45.512Z"
   },
   {
    "duration": 3,
    "start_time": "2022-01-17T09:20:36.273Z"
   },
   {
    "duration": 6,
    "start_time": "2022-01-17T09:20:39.298Z"
   },
   {
    "duration": 845,
    "start_time": "2022-01-17T09:20:43.242Z"
   },
   {
    "duration": 7,
    "start_time": "2022-01-17T11:34:56.695Z"
   },
   {
    "duration": 2379,
    "start_time": "2022-01-17T11:35:17.541Z"
   },
   {
    "duration": 4102,
    "start_time": "2022-01-17T11:35:19.923Z"
   },
   {
    "duration": 17,
    "start_time": "2022-01-17T11:35:24.028Z"
   },
   {
    "duration": 26,
    "start_time": "2022-01-17T11:35:24.049Z"
   },
   {
    "duration": 13,
    "start_time": "2022-01-17T11:35:24.077Z"
   },
   {
    "duration": 14,
    "start_time": "2022-01-17T11:35:24.093Z"
   },
   {
    "duration": 16,
    "start_time": "2022-01-17T11:35:24.109Z"
   },
   {
    "duration": 443,
    "start_time": "2022-01-17T11:35:24.161Z"
   },
   {
    "duration": 14,
    "start_time": "2022-01-17T11:35:24.607Z"
   },
   {
    "duration": 37,
    "start_time": "2022-01-17T11:35:24.624Z"
   },
   {
    "duration": 439,
    "start_time": "2022-01-17T11:35:24.663Z"
   },
   {
    "duration": 15,
    "start_time": "2022-01-17T11:35:25.105Z"
   },
   {
    "duration": 37,
    "start_time": "2022-01-17T11:35:25.122Z"
   },
   {
    "duration": 458,
    "start_time": "2022-01-17T11:35:25.161Z"
   },
   {
    "duration": 7,
    "start_time": "2022-01-17T11:35:25.622Z"
   },
   {
    "duration": 28,
    "start_time": "2022-01-17T11:35:25.631Z"
   },
   {
    "duration": 523,
    "start_time": "2022-01-17T11:35:25.662Z"
   },
   {
    "duration": 482,
    "start_time": "2022-01-17T11:35:26.188Z"
   },
   {
    "duration": 538,
    "start_time": "2022-01-17T11:35:26.673Z"
   },
   {
    "duration": 10,
    "start_time": "2022-01-17T11:35:27.214Z"
   },
   {
    "duration": 7,
    "start_time": "2022-01-17T11:35:27.227Z"
   },
   {
    "duration": 27,
    "start_time": "2022-01-17T11:35:27.236Z"
   },
   {
    "duration": 11,
    "start_time": "2022-01-17T11:35:27.268Z"
   },
   {
    "duration": 10,
    "start_time": "2022-01-17T11:35:27.282Z"
   },
   {
    "duration": 17,
    "start_time": "2022-01-17T11:35:27.295Z"
   },
   {
    "duration": 15,
    "start_time": "2022-01-17T11:35:27.315Z"
   },
   {
    "duration": 22,
    "start_time": "2022-01-17T11:35:27.332Z"
   },
   {
    "duration": 66,
    "start_time": "2022-01-17T11:35:27.357Z"
   },
   {
    "duration": 17,
    "start_time": "2022-01-17T11:35:27.425Z"
   },
   {
    "duration": 18,
    "start_time": "2022-01-17T11:35:27.445Z"
   },
   {
    "duration": 16,
    "start_time": "2022-01-17T11:35:27.466Z"
   },
   {
    "duration": 852,
    "start_time": "2022-01-17T11:35:27.484Z"
   },
   {
    "duration": 829,
    "start_time": "2022-01-17T11:35:28.338Z"
   },
   {
    "duration": 813,
    "start_time": "2022-01-17T11:35:29.169Z"
   },
   {
    "duration": 13,
    "start_time": "2022-01-17T11:35:29.984Z"
   },
   {
    "duration": 10,
    "start_time": "2022-01-17T11:35:29.999Z"
   },
   {
    "duration": 3,
    "start_time": "2022-01-17T11:36:05.283Z"
   },
   {
    "duration": 9,
    "start_time": "2022-01-17T11:36:21.177Z"
   },
   {
    "duration": 893,
    "start_time": "2022-01-17T11:36:25.759Z"
   },
   {
    "duration": 6,
    "start_time": "2022-01-17T11:40:02.657Z"
   },
   {
    "duration": 10,
    "start_time": "2022-01-17T11:40:10.279Z"
   },
   {
    "duration": 1587,
    "start_time": "2022-01-17T11:40:15.528Z"
   },
   {
    "duration": 6,
    "start_time": "2022-01-17T11:43:59.917Z"
   },
   {
    "duration": 9,
    "start_time": "2022-01-17T11:44:09.413Z"
   },
   {
    "duration": 1471,
    "start_time": "2022-01-17T11:44:28.024Z"
   },
   {
    "duration": 452,
    "start_time": "2022-01-17T11:44:29.498Z"
   },
   {
    "duration": 17,
    "start_time": "2022-01-17T11:44:29.953Z"
   },
   {
    "duration": 11,
    "start_time": "2022-01-17T11:44:29.973Z"
   },
   {
    "duration": 12,
    "start_time": "2022-01-17T11:44:29.987Z"
   },
   {
    "duration": 16,
    "start_time": "2022-01-17T11:44:30.001Z"
   },
   {
    "duration": 18,
    "start_time": "2022-01-17T11:44:30.060Z"
   },
   {
    "duration": 460,
    "start_time": "2022-01-17T11:44:30.081Z"
   },
   {
    "duration": 24,
    "start_time": "2022-01-17T11:44:30.547Z"
   },
   {
    "duration": 16,
    "start_time": "2022-01-17T11:44:30.575Z"
   },
   {
    "duration": 502,
    "start_time": "2022-01-17T11:44:30.594Z"
   },
   {
    "duration": 21,
    "start_time": "2022-01-17T11:44:31.099Z"
   },
   {
    "duration": 44,
    "start_time": "2022-01-17T11:44:31.123Z"
   },
   {
    "duration": 523,
    "start_time": "2022-01-17T11:44:31.170Z"
   },
   {
    "duration": 7,
    "start_time": "2022-01-17T11:44:31.695Z"
   },
   {
    "duration": 10,
    "start_time": "2022-01-17T11:44:31.704Z"
   },
   {
    "duration": 561,
    "start_time": "2022-01-17T11:44:31.717Z"
   },
   {
    "duration": 599,
    "start_time": "2022-01-17T11:44:32.281Z"
   },
   {
    "duration": 546,
    "start_time": "2022-01-17T11:44:32.883Z"
   },
   {
    "duration": 10,
    "start_time": "2022-01-17T11:44:33.431Z"
   },
   {
    "duration": 3,
    "start_time": "2022-01-17T11:44:33.460Z"
   },
   {
    "duration": 7,
    "start_time": "2022-01-17T11:44:33.465Z"
   },
   {
    "duration": 6,
    "start_time": "2022-01-17T11:44:33.474Z"
   },
   {
    "duration": 7,
    "start_time": "2022-01-17T11:44:33.483Z"
   },
   {
    "duration": 7,
    "start_time": "2022-01-17T11:44:33.492Z"
   },
   {
    "duration": 7,
    "start_time": "2022-01-17T11:44:33.501Z"
   },
   {
    "duration": 49,
    "start_time": "2022-01-17T11:44:33.515Z"
   },
   {
    "duration": 6,
    "start_time": "2022-01-17T11:44:33.568Z"
   },
   {
    "duration": 92,
    "start_time": "2022-01-17T11:44:33.577Z"
   },
   {
    "duration": 10,
    "start_time": "2022-01-17T11:44:33.671Z"
   },
   {
    "duration": 17,
    "start_time": "2022-01-17T11:44:33.684Z"
   },
   {
    "duration": 8729,
    "start_time": "2022-01-17T11:44:33.704Z"
   },
   {
    "duration": 9339,
    "start_time": "2022-01-17T11:44:42.435Z"
   },
   {
    "duration": 8742,
    "start_time": "2022-01-17T11:44:51.777Z"
   },
   {
    "duration": 13,
    "start_time": "2022-01-17T11:45:00.521Z"
   },
   {
    "duration": 22,
    "start_time": "2022-01-17T11:45:00.537Z"
   },
   {
    "duration": 10,
    "start_time": "2022-01-17T11:45:22.473Z"
   },
   {
    "duration": 7704,
    "start_time": "2022-01-17T11:45:35.232Z"
   },
   {
    "duration": 6,
    "start_time": "2022-01-17T11:46:32.311Z"
   },
   {
    "duration": 6016,
    "start_time": "2022-01-17T11:46:41.099Z"
   },
   {
    "duration": 6026,
    "start_time": "2022-01-17T11:47:34.081Z"
   },
   {
    "duration": 6364,
    "start_time": "2022-01-17T11:48:45.078Z"
   },
   {
    "duration": 17,
    "start_time": "2022-01-17T11:48:57.090Z"
   },
   {
    "duration": 1474,
    "start_time": "2022-01-17T11:50:40.945Z"
   },
   {
    "duration": 460,
    "start_time": "2022-01-17T11:50:42.422Z"
   },
   {
    "duration": 16,
    "start_time": "2022-01-17T11:50:42.885Z"
   },
   {
    "duration": 18,
    "start_time": "2022-01-17T11:50:42.904Z"
   },
   {
    "duration": 13,
    "start_time": "2022-01-17T11:50:42.924Z"
   },
   {
    "duration": 37,
    "start_time": "2022-01-17T11:50:42.940Z"
   },
   {
    "duration": 17,
    "start_time": "2022-01-17T11:50:42.981Z"
   },
   {
    "duration": 480,
    "start_time": "2022-01-17T11:50:43.000Z"
   },
   {
    "duration": 16,
    "start_time": "2022-01-17T11:50:43.484Z"
   },
   {
    "duration": 17,
    "start_time": "2022-01-17T11:50:43.504Z"
   },
   {
    "duration": 495,
    "start_time": "2022-01-17T11:50:43.523Z"
   },
   {
    "duration": 13,
    "start_time": "2022-01-17T11:50:44.021Z"
   },
   {
    "duration": 30,
    "start_time": "2022-01-17T11:50:44.037Z"
   },
   {
    "duration": 439,
    "start_time": "2022-01-17T11:50:44.069Z"
   },
   {
    "duration": 7,
    "start_time": "2022-01-17T11:50:44.512Z"
   },
   {
    "duration": 10,
    "start_time": "2022-01-17T11:50:44.522Z"
   },
   {
    "duration": 542,
    "start_time": "2022-01-17T11:50:44.534Z"
   },
   {
    "duration": 483,
    "start_time": "2022-01-17T11:50:45.079Z"
   },
   {
    "duration": 507,
    "start_time": "2022-01-17T11:50:45.565Z"
   },
   {
    "duration": 10,
    "start_time": "2022-01-17T11:50:46.074Z"
   },
   {
    "duration": 17,
    "start_time": "2022-01-17T11:50:46.086Z"
   },
   {
    "duration": 21,
    "start_time": "2022-01-17T11:50:46.105Z"
   },
   {
    "duration": 21,
    "start_time": "2022-01-17T11:50:46.128Z"
   },
   {
    "duration": 8,
    "start_time": "2022-01-17T11:50:46.152Z"
   },
   {
    "duration": 17,
    "start_time": "2022-01-17T11:50:46.163Z"
   },
   {
    "duration": 20,
    "start_time": "2022-01-17T11:50:46.182Z"
   },
   {
    "duration": 26,
    "start_time": "2022-01-17T11:50:46.207Z"
   },
   {
    "duration": 5,
    "start_time": "2022-01-17T11:50:46.236Z"
   },
   {
    "duration": 79,
    "start_time": "2022-01-17T11:50:46.243Z"
   },
   {
    "duration": 22,
    "start_time": "2022-01-17T11:50:46.325Z"
   },
   {
    "duration": 28,
    "start_time": "2022-01-17T11:50:46.349Z"
   },
   {
    "duration": 5939,
    "start_time": "2022-01-17T11:50:46.380Z"
   },
   {
    "duration": 6471,
    "start_time": "2022-01-17T11:50:52.322Z"
   },
   {
    "duration": 6178,
    "start_time": "2022-01-17T11:50:58.796Z"
   },
   {
    "duration": 13,
    "start_time": "2022-01-17T11:51:04.977Z"
   },
   {
    "duration": 6,
    "start_time": "2022-01-17T11:51:04.992Z"
   },
   {
    "duration": 6,
    "start_time": "2022-01-17T11:54:26.057Z"
   },
   {
    "duration": 8,
    "start_time": "2022-01-17T12:05:10.093Z"
   },
   {
    "duration": 1491,
    "start_time": "2022-01-17T12:05:43.709Z"
   },
   {
    "duration": 465,
    "start_time": "2022-01-17T12:05:45.202Z"
   },
   {
    "duration": 18,
    "start_time": "2022-01-17T12:05:45.670Z"
   },
   {
    "duration": 12,
    "start_time": "2022-01-17T12:05:45.691Z"
   },
   {
    "duration": 17,
    "start_time": "2022-01-17T12:05:45.705Z"
   },
   {
    "duration": 52,
    "start_time": "2022-01-17T12:05:45.725Z"
   },
   {
    "duration": 20,
    "start_time": "2022-01-17T12:05:45.780Z"
   },
   {
    "duration": 557,
    "start_time": "2022-01-17T12:05:45.805Z"
   },
   {
    "duration": 16,
    "start_time": "2022-01-17T12:05:46.366Z"
   },
   {
    "duration": 15,
    "start_time": "2022-01-17T12:05:46.385Z"
   },
   {
    "duration": 492,
    "start_time": "2022-01-17T12:05:46.402Z"
   },
   {
    "duration": 15,
    "start_time": "2022-01-17T12:05:46.897Z"
   },
   {
    "duration": 15,
    "start_time": "2022-01-17T12:05:46.914Z"
   },
   {
    "duration": 485,
    "start_time": "2022-01-17T12:05:46.932Z"
   },
   {
    "duration": 7,
    "start_time": "2022-01-17T12:05:47.420Z"
   },
   {
    "duration": 30,
    "start_time": "2022-01-17T12:05:47.429Z"
   },
   {
    "duration": 511,
    "start_time": "2022-01-17T12:05:47.462Z"
   },
   {
    "duration": 654,
    "start_time": "2022-01-17T12:05:47.976Z"
   },
   {
    "duration": 541,
    "start_time": "2022-01-17T12:05:48.632Z"
   },
   {
    "duration": 10,
    "start_time": "2022-01-17T12:05:49.175Z"
   },
   {
    "duration": 5,
    "start_time": "2022-01-17T12:05:49.188Z"
   },
   {
    "duration": 7,
    "start_time": "2022-01-17T12:05:49.195Z"
   },
   {
    "duration": 5,
    "start_time": "2022-01-17T12:05:49.206Z"
   },
   {
    "duration": 5,
    "start_time": "2022-01-17T12:05:49.214Z"
   },
   {
    "duration": 39,
    "start_time": "2022-01-17T12:05:49.222Z"
   },
   {
    "duration": 8,
    "start_time": "2022-01-17T12:05:49.263Z"
   },
   {
    "duration": 21,
    "start_time": "2022-01-17T12:05:49.273Z"
   },
   {
    "duration": 5,
    "start_time": "2022-01-17T12:05:49.296Z"
   },
   {
    "duration": 112,
    "start_time": "2022-01-17T12:05:49.303Z"
   },
   {
    "duration": 9,
    "start_time": "2022-01-17T12:05:49.417Z"
   },
   {
    "duration": 11,
    "start_time": "2022-01-17T12:05:49.429Z"
   },
   {
    "duration": 6025,
    "start_time": "2022-01-17T12:05:49.460Z"
   },
   {
    "duration": 6035,
    "start_time": "2022-01-17T12:05:55.487Z"
   },
   {
    "duration": 10018,
    "start_time": "2022-01-17T12:06:01.524Z"
   },
   {
    "duration": 17,
    "start_time": "2022-01-17T12:06:11.545Z"
   },
   {
    "duration": 10,
    "start_time": "2022-01-17T12:06:11.565Z"
   },
   {
    "duration": 128,
    "start_time": "2022-01-17T12:14:53.420Z"
   },
   {
    "duration": 11,
    "start_time": "2022-01-17T12:15:13.834Z"
   },
   {
    "duration": 1495,
    "start_time": "2022-01-17T12:15:20.953Z"
   },
   {
    "duration": 476,
    "start_time": "2022-01-17T12:15:22.451Z"
   },
   {
    "duration": 17,
    "start_time": "2022-01-17T12:15:22.930Z"
   },
   {
    "duration": 12,
    "start_time": "2022-01-17T12:15:22.960Z"
   },
   {
    "duration": 15,
    "start_time": "2022-01-17T12:15:22.976Z"
   },
   {
    "duration": 17,
    "start_time": "2022-01-17T12:15:22.994Z"
   },
   {
    "duration": 59,
    "start_time": "2022-01-17T12:15:23.014Z"
   },
   {
    "duration": 448,
    "start_time": "2022-01-17T12:15:23.086Z"
   },
   {
    "duration": 26,
    "start_time": "2022-01-17T12:15:23.537Z"
   },
   {
    "duration": 19,
    "start_time": "2022-01-17T12:15:23.566Z"
   },
   {
    "duration": 505,
    "start_time": "2022-01-17T12:15:23.588Z"
   },
   {
    "duration": 67,
    "start_time": "2022-01-17T12:15:24.096Z"
   },
   {
    "duration": 15,
    "start_time": "2022-01-17T12:15:24.166Z"
   },
   {
    "duration": 1040,
    "start_time": "2022-01-17T12:15:24.184Z"
   },
   {
    "duration": 9,
    "start_time": "2022-01-17T12:15:25.227Z"
   },
   {
    "duration": 31,
    "start_time": "2022-01-17T12:15:25.239Z"
   },
   {
    "duration": 1016,
    "start_time": "2022-01-17T12:15:25.273Z"
   },
   {
    "duration": -1497,
    "start_time": "2022-01-17T12:15:27.790Z"
   },
   {
    "duration": -1498,
    "start_time": "2022-01-17T12:15:27.792Z"
   },
   {
    "duration": -1500,
    "start_time": "2022-01-17T12:15:27.795Z"
   },
   {
    "duration": -1530,
    "start_time": "2022-01-17T12:15:27.827Z"
   },
   {
    "duration": -1534,
    "start_time": "2022-01-17T12:15:27.833Z"
   },
   {
    "duration": -1535,
    "start_time": "2022-01-17T12:15:27.835Z"
   },
   {
    "duration": -1536,
    "start_time": "2022-01-17T12:15:27.837Z"
   },
   {
    "duration": -1535,
    "start_time": "2022-01-17T12:15:27.838Z"
   },
   {
    "duration": -1536,
    "start_time": "2022-01-17T12:15:27.840Z"
   },
   {
    "duration": -1536,
    "start_time": "2022-01-17T12:15:27.842Z"
   },
   {
    "duration": -1537,
    "start_time": "2022-01-17T12:15:27.844Z"
   },
   {
    "duration": -1538,
    "start_time": "2022-01-17T12:15:27.846Z"
   },
   {
    "duration": -1538,
    "start_time": "2022-01-17T12:15:27.848Z"
   },
   {
    "duration": -1539,
    "start_time": "2022-01-17T12:15:27.850Z"
   },
   {
    "duration": -1540,
    "start_time": "2022-01-17T12:15:27.852Z"
   },
   {
    "duration": -1540,
    "start_time": "2022-01-17T12:15:27.853Z"
   },
   {
    "duration": -1540,
    "start_time": "2022-01-17T12:15:27.855Z"
   },
   {
    "duration": -1541,
    "start_time": "2022-01-17T12:15:27.857Z"
   },
   {
    "duration": -1542,
    "start_time": "2022-01-17T12:15:27.859Z"
   },
   {
    "duration": 11,
    "start_time": "2022-01-17T12:16:50.596Z"
   },
   {
    "duration": 13551,
    "start_time": "2022-01-17T12:16:55.725Z"
   },
   {
    "duration": 14200,
    "start_time": "2022-01-17T12:17:20.402Z"
   },
   {
    "duration": 13860,
    "start_time": "2022-01-17T12:17:47.822Z"
   },
   {
    "duration": 10,
    "start_time": "2022-01-17T12:18:01.684Z"
   },
   {
    "duration": 4,
    "start_time": "2022-01-17T12:18:22.752Z"
   },
   {
    "duration": 3,
    "start_time": "2022-01-17T12:18:23.172Z"
   },
   {
    "duration": 3,
    "start_time": "2022-01-17T12:18:23.381Z"
   },
   {
    "duration": 4,
    "start_time": "2022-01-17T12:18:23.572Z"
   },
   {
    "duration": 5,
    "start_time": "2022-01-17T12:18:24.132Z"
   },
   {
    "duration": 6,
    "start_time": "2022-01-17T12:18:24.501Z"
   },
   {
    "duration": 25,
    "start_time": "2022-01-17T12:18:24.902Z"
   },
   {
    "duration": 6,
    "start_time": "2022-01-17T12:18:26.502Z"
   },
   {
    "duration": 9,
    "start_time": "2022-01-17T12:18:27.058Z"
   },
   {
    "duration": 6,
    "start_time": "2022-01-17T12:18:27.804Z"
   },
   {
    "duration": 10,
    "start_time": "2022-01-17T12:18:28.933Z"
   },
   {
    "duration": 6459,
    "start_time": "2022-01-17T12:18:29.912Z"
   },
   {
    "duration": 5873,
    "start_time": "2022-01-17T12:18:39.541Z"
   },
   {
    "duration": 6091,
    "start_time": "2022-01-17T12:18:45.417Z"
   },
   {
    "duration": 12,
    "start_time": "2022-01-17T12:18:51.511Z"
   },
   {
    "duration": 1514,
    "start_time": "2022-01-17T12:37:19.222Z"
   },
   {
    "duration": 464,
    "start_time": "2022-01-17T12:37:20.739Z"
   },
   {
    "duration": 19,
    "start_time": "2022-01-17T12:37:21.206Z"
   },
   {
    "duration": 33,
    "start_time": "2022-01-17T12:37:21.228Z"
   },
   {
    "duration": 12,
    "start_time": "2022-01-17T12:37:21.264Z"
   },
   {
    "duration": 14,
    "start_time": "2022-01-17T12:37:21.279Z"
   },
   {
    "duration": 15,
    "start_time": "2022-01-17T12:37:21.296Z"
   },
   {
    "duration": 471,
    "start_time": "2022-01-17T12:37:21.314Z"
   },
   {
    "duration": 14,
    "start_time": "2022-01-17T12:37:21.788Z"
   },
   {
    "duration": 17,
    "start_time": "2022-01-17T12:37:21.806Z"
   },
   {
    "duration": 483,
    "start_time": "2022-01-17T12:37:21.825Z"
   },
   {
    "duration": 14,
    "start_time": "2022-01-17T12:37:22.311Z"
   },
   {
    "duration": 36,
    "start_time": "2022-01-17T12:37:22.328Z"
   },
   {
    "duration": 445,
    "start_time": "2022-01-17T12:37:22.366Z"
   },
   {
    "duration": 7,
    "start_time": "2022-01-17T12:37:22.814Z"
   },
   {
    "duration": 11,
    "start_time": "2022-01-17T12:37:22.824Z"
   },
   {
    "duration": 532,
    "start_time": "2022-01-17T12:37:22.837Z"
   },
   {
    "duration": 519,
    "start_time": "2022-01-17T12:37:23.372Z"
   },
   {
    "duration": 558,
    "start_time": "2022-01-17T12:37:23.893Z"
   },
   {
    "duration": 10,
    "start_time": "2022-01-17T12:37:24.459Z"
   },
   {
    "duration": 5,
    "start_time": "2022-01-17T12:37:24.472Z"
   },
   {
    "duration": 5,
    "start_time": "2022-01-17T12:37:24.479Z"
   },
   {
    "duration": 6,
    "start_time": "2022-01-17T12:37:24.486Z"
   },
   {
    "duration": 8,
    "start_time": "2022-01-17T12:37:24.495Z"
   },
   {
    "duration": 11,
    "start_time": "2022-01-17T12:37:24.505Z"
   },
   {
    "duration": 42,
    "start_time": "2022-01-17T12:37:24.519Z"
   },
   {
    "duration": 20,
    "start_time": "2022-01-17T12:37:24.565Z"
   },
   {
    "duration": 5,
    "start_time": "2022-01-17T12:37:24.588Z"
   },
   {
    "duration": 13,
    "start_time": "2022-01-17T12:37:24.596Z"
   },
   {
    "duration": 8,
    "start_time": "2022-01-17T12:37:24.612Z"
   },
   {
    "duration": 11,
    "start_time": "2022-01-17T12:37:24.661Z"
   },
   {
    "duration": 5935,
    "start_time": "2022-01-17T12:37:24.675Z"
   },
   {
    "duration": 6097,
    "start_time": "2022-01-17T12:37:30.614Z"
   },
   {
    "duration": 5826,
    "start_time": "2022-01-17T12:37:36.714Z"
   },
   {
    "duration": 25,
    "start_time": "2022-01-17T12:37:42.542Z"
   },
   {
    "duration": 6,
    "start_time": "2022-01-17T12:37:42.570Z"
   },
   {
    "duration": 9,
    "start_time": "2022-01-17T12:38:20.234Z"
   },
   {
    "duration": 7,
    "start_time": "2022-01-17T12:38:22.740Z"
   },
   {
    "duration": 9,
    "start_time": "2022-01-17T12:38:24.204Z"
   },
   {
    "duration": 5912,
    "start_time": "2022-01-17T12:38:24.685Z"
   },
   {
    "duration": 6376,
    "start_time": "2022-01-17T12:38:30.600Z"
   },
   {
    "duration": 5993,
    "start_time": "2022-01-17T12:38:36.980Z"
   },
   {
    "duration": 13,
    "start_time": "2022-01-17T12:38:42.976Z"
   },
   {
    "duration": 10,
    "start_time": "2022-01-17T12:39:31.736Z"
   },
   {
    "duration": 7,
    "start_time": "2022-01-17T12:39:32.885Z"
   },
   {
    "duration": 10,
    "start_time": "2022-01-17T12:39:33.692Z"
   },
   {
    "duration": 6191,
    "start_time": "2022-01-17T12:39:34.106Z"
   },
   {
    "duration": 5852,
    "start_time": "2022-01-17T12:39:40.300Z"
   },
   {
    "duration": 6086,
    "start_time": "2022-01-17T12:39:46.155Z"
   },
   {
    "duration": 22,
    "start_time": "2022-01-17T12:39:52.244Z"
   },
   {
    "duration": 1428,
    "start_time": "2022-01-17T12:43:06.781Z"
   },
   {
    "duration": 460,
    "start_time": "2022-01-17T12:43:08.212Z"
   },
   {
    "duration": 17,
    "start_time": "2022-01-17T12:43:08.675Z"
   },
   {
    "duration": 12,
    "start_time": "2022-01-17T12:43:08.695Z"
   },
   {
    "duration": 15,
    "start_time": "2022-01-17T12:43:08.710Z"
   },
   {
    "duration": 44,
    "start_time": "2022-01-17T12:43:08.728Z"
   },
   {
    "duration": 15,
    "start_time": "2022-01-17T12:43:08.774Z"
   },
   {
    "duration": 559,
    "start_time": "2022-01-17T12:43:08.792Z"
   },
   {
    "duration": 14,
    "start_time": "2022-01-17T12:43:09.354Z"
   },
   {
    "duration": 15,
    "start_time": "2022-01-17T12:43:09.371Z"
   },
   {
    "duration": 467,
    "start_time": "2022-01-17T12:43:09.388Z"
   },
   {
    "duration": 16,
    "start_time": "2022-01-17T12:43:09.860Z"
   },
   {
    "duration": 15,
    "start_time": "2022-01-17T12:43:09.878Z"
   },
   {
    "duration": 687,
    "start_time": "2022-01-17T12:43:09.895Z"
   },
   {
    "duration": 7,
    "start_time": "2022-01-17T12:43:10.584Z"
   },
   {
    "duration": 11,
    "start_time": "2022-01-17T12:43:10.593Z"
   },
   {
    "duration": 633,
    "start_time": "2022-01-17T12:43:10.606Z"
   },
   {
    "duration": 523,
    "start_time": "2022-01-17T12:43:11.242Z"
   },
   {
    "duration": 494,
    "start_time": "2022-01-17T12:43:11.768Z"
   },
   {
    "duration": 10,
    "start_time": "2022-01-17T12:43:12.264Z"
   },
   {
    "duration": 8,
    "start_time": "2022-01-17T12:43:12.277Z"
   },
   {
    "duration": 24,
    "start_time": "2022-01-17T12:43:12.287Z"
   },
   {
    "duration": 9,
    "start_time": "2022-01-17T12:43:12.316Z"
   },
   {
    "duration": 16,
    "start_time": "2022-01-17T12:43:12.327Z"
   },
   {
    "duration": 23,
    "start_time": "2022-01-17T12:43:12.346Z"
   },
   {
    "duration": 11,
    "start_time": "2022-01-17T12:43:12.372Z"
   },
   {
    "duration": 28,
    "start_time": "2022-01-17T12:43:12.385Z"
   },
   {
    "duration": 5,
    "start_time": "2022-01-17T12:43:12.416Z"
   },
   {
    "duration": 88,
    "start_time": "2022-01-17T12:43:12.424Z"
   },
   {
    "duration": 21,
    "start_time": "2022-01-17T12:43:12.515Z"
   },
   {
    "duration": 34,
    "start_time": "2022-01-17T12:43:12.538Z"
   },
   {
    "duration": 5924,
    "start_time": "2022-01-17T12:43:12.575Z"
   },
   {
    "duration": 6095,
    "start_time": "2022-01-17T12:43:18.503Z"
   },
   {
    "duration": 6244,
    "start_time": "2022-01-17T12:43:24.601Z"
   },
   {
    "duration": 20,
    "start_time": "2022-01-17T12:43:30.848Z"
   },
   {
    "duration": 8,
    "start_time": "2022-01-17T12:43:30.871Z"
   },
   {
    "duration": 1940,
    "start_time": "2022-03-19T09:37:39.387Z"
   },
   {
    "duration": 425,
    "start_time": "2022-03-19T09:37:41.330Z"
   },
   {
    "duration": 15,
    "start_time": "2022-03-19T09:37:41.758Z"
   },
   {
    "duration": 11,
    "start_time": "2022-03-19T09:37:41.776Z"
   },
   {
    "duration": 15,
    "start_time": "2022-03-19T09:37:41.801Z"
   },
   {
    "duration": 28,
    "start_time": "2022-03-19T09:37:41.818Z"
   },
   {
    "duration": 14,
    "start_time": "2022-03-19T09:37:41.848Z"
   },
   {
    "duration": 263,
    "start_time": "2022-03-19T09:37:41.864Z"
   },
   {
    "duration": 17,
    "start_time": "2022-03-19T09:37:42.129Z"
   },
   {
    "duration": 12,
    "start_time": "2022-03-19T09:37:42.150Z"
   },
   {
    "duration": 247,
    "start_time": "2022-03-19T09:37:42.164Z"
   },
   {
    "duration": 22,
    "start_time": "2022-03-19T09:37:42.415Z"
   },
   {
    "duration": 12,
    "start_time": "2022-03-19T09:37:42.440Z"
   },
   {
    "duration": 241,
    "start_time": "2022-03-19T09:37:42.454Z"
   },
   {
    "duration": 8,
    "start_time": "2022-03-19T09:37:42.701Z"
   },
   {
    "duration": 17,
    "start_time": "2022-03-19T09:37:42.711Z"
   },
   {
    "duration": 500,
    "start_time": "2022-03-19T09:37:42.730Z"
   },
   {
    "duration": 379,
    "start_time": "2022-03-19T09:37:43.232Z"
   },
   {
    "duration": 405,
    "start_time": "2022-03-19T09:37:43.613Z"
   },
   {
    "duration": 9,
    "start_time": "2022-03-19T09:37:44.020Z"
   },
   {
    "duration": 7,
    "start_time": "2022-03-19T09:37:44.031Z"
   },
   {
    "duration": 5,
    "start_time": "2022-03-19T09:37:44.040Z"
   },
   {
    "duration": 9,
    "start_time": "2022-03-19T09:37:44.047Z"
   },
   {
    "duration": 6,
    "start_time": "2022-03-19T09:37:44.058Z"
   },
   {
    "duration": 7,
    "start_time": "2022-03-19T09:37:44.066Z"
   },
   {
    "duration": 30,
    "start_time": "2022-03-19T09:37:44.075Z"
   },
   {
    "duration": 19,
    "start_time": "2022-03-19T09:37:44.110Z"
   },
   {
    "duration": 5,
    "start_time": "2022-03-19T09:37:44.132Z"
   },
   {
    "duration": 104,
    "start_time": "2022-03-19T09:37:44.139Z"
   },
   {
    "duration": 14,
    "start_time": "2022-03-19T09:37:44.245Z"
   },
   {
    "duration": 8,
    "start_time": "2022-03-19T09:37:44.261Z"
   },
   {
    "duration": 1743,
    "start_time": "2022-03-19T09:37:44.271Z"
   },
   {
    "duration": 1727,
    "start_time": "2022-03-19T09:37:46.017Z"
   },
   {
    "duration": 1706,
    "start_time": "2022-03-19T09:37:47.745Z"
   },
   {
    "duration": 10,
    "start_time": "2022-03-19T09:37:49.453Z"
   },
   {
    "duration": 9,
    "start_time": "2022-03-19T09:37:49.465Z"
   }
  ],
  "kernelspec": {
   "display_name": "Python 3 (ipykernel)",
   "language": "python",
   "name": "python3"
  },
  "language_info": {
   "codemirror_mode": {
    "name": "ipython",
    "version": 3
   },
   "file_extension": ".py",
   "mimetype": "text/x-python",
   "name": "python",
   "nbconvert_exporter": "python",
   "pygments_lexer": "ipython3",
   "version": "3.9.5"
  },
  "toc": {
   "base_numbering": 1,
   "nav_menu": {},
   "number_sections": true,
   "sideBar": true,
   "skip_h1_title": true,
   "title_cell": "Table of Contents",
   "title_sidebar": "Contents",
   "toc_cell": false,
   "toc_position": {
    "height": "calc(100% - 180px)",
    "left": "10px",
    "top": "150px",
    "width": "289.6px"
   },
   "toc_section_display": true,
   "toc_window_display": true
  }
 },
 "nbformat": 4,
 "nbformat_minor": 2
}
