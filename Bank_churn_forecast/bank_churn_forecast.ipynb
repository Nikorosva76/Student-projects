{
  "cells": [
    {
      "cell_type": "markdown",
      "source": [
        "***Содержание:***\n",
        "1. Подготовка данных\n",
        "2. Исследование задачи\n",
        " - Подготовка обучающего набора данных\n",
        " - Логистическая регрессия на дисбалансе\n",
        " - Дерево решений на дисбалансе\n",
        " - Случайный лес на дисбалансе\n",
        "3. Борьба с дисбалансом\n",
        " - Логистическая регрессия на сбалансированных данных\n",
        " - Дерево решений на дисбалансе на сбалансированных данных\n",
        " - Случайный лес на дисбалансе на сбалансированных данных\n",
        "4. Тестирование\n",
        "5. Выводы\n"
      ],
      "metadata": {
        "id": "TiBfmwowwBnd"
      }
    },
    {
      "cell_type": "markdown",
      "metadata": {
        "id": "uJT4Wk1Hv_Lp"
      },
      "source": [
        "# Отток клиентов"
      ]
    },
    {
      "cell_type": "markdown",
      "metadata": {
        "id": "gb224rcgv_Ls"
      },
      "source": [
        "Из «Бета-Банка» стали уходить клиенты. Каждый месяц. Немного, но заметно. Банковские маркетологи посчитали: сохранять текущих клиентов дешевле, чем привлекать новых.\n",
        "\n",
        "Нужно спрогнозировать, уйдёт клиент из банка в ближайшее время или нет. Вам предоставлены исторические данные о поведении клиентов и расторжении договоров с банком. \n",
        "\n",
        "Постройте модель с предельно большим значением *F1*-меры. Чтобы сдать проект успешно, нужно довести метрику до 0.59. Проверьте *F1*-меру на тестовой выборке самостоятельно.\n",
        "\n",
        "Дополнительно измеряйте *AUC-ROC*, сравнивайте её значение с *F1*-мерой.\n",
        "\n",
        "Источник данных: [https://www.kaggle.com/barelydedicated/bank-customer-churn-modeling](https://www.kaggle.com/barelydedicated/bank-customer-churn-modeling)"
      ]
    },
    {
      "cell_type": "markdown",
      "metadata": {
        "id": "lZJaLpoUv_Lv"
      },
      "source": [
        "## Подготовка данных"
      ]
    },
    {
      "cell_type": "code",
      "execution_count": null,
      "metadata": {
        "id": "OYw_5Bomv_Lx"
      },
      "outputs": [],
      "source": [
        "import pandas as pd\n",
        "import seaborn as sns\n",
        "import numpy as np\n",
        "\n",
        "from matplotlib import pyplot\n",
        "import matplotlib.pyplot as plt\n",
        "\n",
        "\n",
        "\n",
        "from sklearn.model_selection import train_test_split\n",
        "\n",
        "from sklearn.linear_model import LinearRegression\n",
        "from sklearn.tree import DecisionTreeRegressor\n",
        "from sklearn.tree import DecisionTreeClassifier\n",
        "from sklearn.ensemble import RandomForestRegressor\n",
        "from sklearn.ensemble import RandomForestClassifier\n",
        "from sklearn.linear_model import LogisticRegression\n",
        "\n",
        "\n",
        "from sklearn.metrics import mean_squared_error #MSE\n",
        "from sklearn.metrics import mean_absolute_error #MAE\n",
        "from sklearn.metrics import accuracy_score #Accuracy\n",
        "from sklearn.metrics import recall_score #Recall\n",
        "from sklearn.metrics import precision_score #Precision\n",
        "from sklearn.metrics import f1_score #F1 ->1\n",
        "from sklearn.metrics import roc_auc_score #ROC AUC score ->1\n",
        "\n",
        "from sklearn.metrics import roc_curve #ROC AUC\n",
        "from sklearn.metrics import precision_recall_curve #\n",
        "\n",
        "from sklearn.dummy import DummyClassifier\n",
        "from sklearn.utils import shuffle\n",
        "\n",
        "from sklearn.preprocessing import StandardScaler\n",
        "\n",
        "\n",
        "\n",
        "from sklearn.model_selection import GridSearchCV, cross_val_predict\n",
        "from sklearn.metrics import classification_report"
      ]
    },
    {
      "cell_type": "code",
      "execution_count": null,
      "metadata": {
        "id": "qw7yU1yUv_L3",
        "outputId": "fa9f73a8-21bb-4995-83af-76fb2a4df92a"
      },
      "outputs": [
        {
          "data": {
            "text/html": [
              "<div>\n",
              "<style scoped>\n",
              "    .dataframe tbody tr th:only-of-type {\n",
              "        vertical-align: middle;\n",
              "    }\n",
              "\n",
              "    .dataframe tbody tr th {\n",
              "        vertical-align: top;\n",
              "    }\n",
              "\n",
              "    .dataframe thead th {\n",
              "        text-align: right;\n",
              "    }\n",
              "</style>\n",
              "<table border=\"1\" class=\"dataframe\">\n",
              "  <thead>\n",
              "    <tr style=\"text-align: right;\">\n",
              "      <th></th>\n",
              "      <th>RowNumber</th>\n",
              "      <th>CustomerId</th>\n",
              "      <th>Surname</th>\n",
              "      <th>CreditScore</th>\n",
              "      <th>Geography</th>\n",
              "      <th>Gender</th>\n",
              "      <th>Age</th>\n",
              "      <th>Tenure</th>\n",
              "      <th>Balance</th>\n",
              "      <th>NumOfProducts</th>\n",
              "      <th>HasCrCard</th>\n",
              "      <th>IsActiveMember</th>\n",
              "      <th>EstimatedSalary</th>\n",
              "      <th>Exited</th>\n",
              "    </tr>\n",
              "  </thead>\n",
              "  <tbody>\n",
              "    <tr>\n",
              "      <th>0</th>\n",
              "      <td>1</td>\n",
              "      <td>15634602</td>\n",
              "      <td>Hargrave</td>\n",
              "      <td>619</td>\n",
              "      <td>France</td>\n",
              "      <td>Female</td>\n",
              "      <td>42</td>\n",
              "      <td>2.0</td>\n",
              "      <td>0.00</td>\n",
              "      <td>1</td>\n",
              "      <td>1</td>\n",
              "      <td>1</td>\n",
              "      <td>101348.88</td>\n",
              "      <td>1</td>\n",
              "    </tr>\n",
              "    <tr>\n",
              "      <th>1</th>\n",
              "      <td>2</td>\n",
              "      <td>15647311</td>\n",
              "      <td>Hill</td>\n",
              "      <td>608</td>\n",
              "      <td>Spain</td>\n",
              "      <td>Female</td>\n",
              "      <td>41</td>\n",
              "      <td>1.0</td>\n",
              "      <td>83807.86</td>\n",
              "      <td>1</td>\n",
              "      <td>0</td>\n",
              "      <td>1</td>\n",
              "      <td>112542.58</td>\n",
              "      <td>0</td>\n",
              "    </tr>\n",
              "    <tr>\n",
              "      <th>2</th>\n",
              "      <td>3</td>\n",
              "      <td>15619304</td>\n",
              "      <td>Onio</td>\n",
              "      <td>502</td>\n",
              "      <td>France</td>\n",
              "      <td>Female</td>\n",
              "      <td>42</td>\n",
              "      <td>8.0</td>\n",
              "      <td>159660.80</td>\n",
              "      <td>3</td>\n",
              "      <td>1</td>\n",
              "      <td>0</td>\n",
              "      <td>113931.57</td>\n",
              "      <td>1</td>\n",
              "    </tr>\n",
              "    <tr>\n",
              "      <th>3</th>\n",
              "      <td>4</td>\n",
              "      <td>15701354</td>\n",
              "      <td>Boni</td>\n",
              "      <td>699</td>\n",
              "      <td>France</td>\n",
              "      <td>Female</td>\n",
              "      <td>39</td>\n",
              "      <td>1.0</td>\n",
              "      <td>0.00</td>\n",
              "      <td>2</td>\n",
              "      <td>0</td>\n",
              "      <td>0</td>\n",
              "      <td>93826.63</td>\n",
              "      <td>0</td>\n",
              "    </tr>\n",
              "    <tr>\n",
              "      <th>4</th>\n",
              "      <td>5</td>\n",
              "      <td>15737888</td>\n",
              "      <td>Mitchell</td>\n",
              "      <td>850</td>\n",
              "      <td>Spain</td>\n",
              "      <td>Female</td>\n",
              "      <td>43</td>\n",
              "      <td>2.0</td>\n",
              "      <td>125510.82</td>\n",
              "      <td>1</td>\n",
              "      <td>1</td>\n",
              "      <td>1</td>\n",
              "      <td>79084.10</td>\n",
              "      <td>0</td>\n",
              "    </tr>\n",
              "  </tbody>\n",
              "</table>\n",
              "</div>"
            ],
            "text/plain": [
              "   RowNumber  CustomerId   Surname  CreditScore Geography  Gender  Age  \\\n",
              "0          1    15634602  Hargrave          619    France  Female   42   \n",
              "1          2    15647311      Hill          608     Spain  Female   41   \n",
              "2          3    15619304      Onio          502    France  Female   42   \n",
              "3          4    15701354      Boni          699    France  Female   39   \n",
              "4          5    15737888  Mitchell          850     Spain  Female   43   \n",
              "\n",
              "   Tenure    Balance  NumOfProducts  HasCrCard  IsActiveMember  \\\n",
              "0     2.0       0.00              1          1               1   \n",
              "1     1.0   83807.86              1          0               1   \n",
              "2     8.0  159660.80              3          1               0   \n",
              "3     1.0       0.00              2          0               0   \n",
              "4     2.0  125510.82              1          1               1   \n",
              "\n",
              "   EstimatedSalary  Exited  \n",
              "0        101348.88       1  \n",
              "1        112542.58       0  \n",
              "2        113931.57       1  \n",
              "3         93826.63       0  \n",
              "4         79084.10       0  "
            ]
          },
          "execution_count": 2,
          "metadata": {},
          "output_type": "execute_result"
        }
      ],
      "source": [
        "try:\n",
        "    df = pd.read_csv('/datasets/Churn.csv')#, sep='\\,')\n",
        "    \n",
        "except:\n",
        "    df = pd.read_csv('C:\\\\Users\\\\с\\\\Desktop\\\\data_science\\\\DATA_CSV\\\\Churn.csv') #, sep='\\,')\n",
        "\n",
        "df.head()"
      ]
    },
    {
      "cell_type": "markdown",
      "metadata": {
        "id": "jn2w-CHFv_L8"
      },
      "source": [
        "В соответствии с заданием исходный датасет состоит из следующих данных:"
      ]
    },
    {
      "cell_type": "markdown",
      "metadata": {
        "id": "DS0hPnRqv_L_"
      },
      "source": [
        "__Признаки__\n",
        "- RowNumber — индекс строки в данных\n",
        "- CustomerId — уникальный идентификатор клиента\n",
        "- Surname — фамилия\n",
        "- CreditScore — кредитный рейтинг\n",
        "- Geography — страна проживания\n",
        "- Gender — пол\n",
        "- Age — возраст\n",
        "- Tenure — сколько лет человек является клиентом банка\n",
        "- Balance — баланс на счёте\n",
        "- NumOfProducts — количество продуктов банка, используемых клиентом\n",
        "- HasCrCard — наличие кредитной карты\n",
        "- IsActiveMember — активность клиента\n",
        "- EstimatedSalary — предполагаемая зарплата\n",
        "\n",
        "__Целевой признак__\n",
        "- Exited — факт ухода клиента\n"
      ]
    },
    {
      "cell_type": "markdown",
      "metadata": {
        "id": "3440jfudv_MC"
      },
      "source": [
        "Таким образом, необходимо обучить модель классификации, которая будет прогнозировать класс \"1\" (целевой признак \"Exited\"), если есть основания считать, что клиент в ближайшее время уйдет из банка."
      ]
    },
    {
      "cell_type": "markdown",
      "metadata": {
        "id": "OIrKQCQov_ME"
      },
      "source": [
        "Для начала приведем в порядок названия столбцов "
      ]
    },
    {
      "cell_type": "code",
      "execution_count": null,
      "metadata": {
        "id": "4yjxRUNRv_MG"
      },
      "outputs": [],
      "source": [
        "df.columns = df.columns.str.lower()"
      ]
    },
    {
      "cell_type": "code",
      "execution_count": null,
      "metadata": {
        "id": "T9RIZVAhv_MI"
      },
      "outputs": [],
      "source": [
        "df.rename(columns = {'rownumber':'row_number', 'customerid':'customer_id', 'creditscore':'credit_score','numofproducts':'num_of_products', 'hascrcard':'has_cr_card',\n",
        "       'isactivemember':'is_active_member', 'estimatedsalary':'estimated_salary'}, inplace = True)"
      ]
    },
    {
      "cell_type": "markdown",
      "metadata": {
        "id": "x23UBHy0v_MJ"
      },
      "source": [
        "Для обучения модели имеются следующие исходные данные:"
      ]
    },
    {
      "cell_type": "code",
      "execution_count": null,
      "metadata": {
        "id": "tj6eJ1n6v_ML",
        "outputId": "81f39bb0-ff46-453f-b2d5-a3dc5213048d"
      },
      "outputs": [
        {
          "name": "stdout",
          "output_type": "stream",
          "text": [
            "<class 'pandas.core.frame.DataFrame'>\n",
            "RangeIndex: 10000 entries, 0 to 9999\n",
            "Data columns (total 14 columns):\n",
            " #   Column            Non-Null Count  Dtype  \n",
            "---  ------            --------------  -----  \n",
            " 0   row_number        10000 non-null  int64  \n",
            " 1   customer_id       10000 non-null  int64  \n",
            " 2   surname           10000 non-null  object \n",
            " 3   credit_score      10000 non-null  int64  \n",
            " 4   geography         10000 non-null  object \n",
            " 5   gender            10000 non-null  object \n",
            " 6   age               10000 non-null  int64  \n",
            " 7   tenure            9091 non-null   float64\n",
            " 8   balance           10000 non-null  float64\n",
            " 9   num_of_products   10000 non-null  int64  \n",
            " 10  has_cr_card       10000 non-null  int64  \n",
            " 11  is_active_member  10000 non-null  int64  \n",
            " 12  estimated_salary  10000 non-null  float64\n",
            " 13  exited            10000 non-null  int64  \n",
            "dtypes: float64(3), int64(8), object(3)\n",
            "memory usage: 1.1+ MB\n"
          ]
        }
      ],
      "source": [
        "df.info()"
      ]
    },
    {
      "cell_type": "markdown",
      "metadata": {
        "id": "DQVJOXpHv_MM"
      },
      "source": [
        "На первый взгляд данные имеют довольно высокое качество:\n",
        "- все признаки, кроме одного не содержат пробелов.\n",
        "- доля пропусков в признаке tenure - менее 10%.\n",
        "- данные представлены в логически обоснованных форматах, кроме tenure (возможно, имеет смысл преобразовать в int)"
      ]
    },
    {
      "cell_type": "markdown",
      "metadata": {
        "id": "ZjDPf7HKv_MN"
      },
      "source": [
        "Два признака \"geography\" (страна проживания) и \"gender\"(пол) представлены в текстовом формате и, очевидно, придется их подвергнуть кодированию."
      ]
    },
    {
      "cell_type": "markdown",
      "metadata": {
        "id": "fMSDg1qRv_MP"
      },
      "source": [
        "В составе данных имеются избыточные признаки. В частности, маловероятно, что признаки: \n",
        "- row_number — индекс строки в данных\n",
        "- customer_id — уникальный идентификатор клиента\n",
        "- surname — фамилия\n",
        "\n",
        "влияют на то, что клиент потенциально готов покинуть банк. \n",
        "Индекс строки и Идентификатор клиента сугубо служебная информация и вообще никак не связана с финансовыми отношениями клиента и банка. Что касается Фамилии..."
      ]
    },
    {
      "cell_type": "code",
      "execution_count": null,
      "metadata": {
        "id": "GMCHvLg1v_MQ",
        "outputId": "d6f2b7b4-9ee4-40ff-d0d3-fdbecca0fc4a"
      },
      "outputs": [
        {
          "data": {
            "text/plain": [
              "2037"
            ]
          },
          "execution_count": 6,
          "metadata": {},
          "output_type": "execute_result"
        }
      ],
      "source": [
        "# Общее кол-во клиентов, покинувших банк.\n",
        "df.query('exited==1')['surname'].count()"
      ]
    },
    {
      "cell_type": "code",
      "execution_count": null,
      "metadata": {
        "id": "M9nlG8jNv_MR",
        "outputId": "3b291349-a452-4b9b-ea51-fe261666b9ce"
      },
      "outputs": [
        {
          "data": {
            "text/plain": [
              "Lin         9\n",
              "Smith       9\n",
              "McGregor    9\n",
              "Martin      9\n",
              "Wang        7\n",
              "           ..\n",
              "Olson       1\n",
              "Dunn        1\n",
              "McVey       1\n",
              "Chidimma    1\n",
              "Berkeley    1\n",
              "Name: surname, Length: 1188, dtype: int64"
            ]
          },
          "execution_count": 7,
          "metadata": {},
          "output_type": "execute_result"
        }
      ],
      "source": [
        "# Группировка клиентов, покинувших банк, по фамилиям.\n",
        "df.query('exited==1')['surname'].value_counts()"
      ]
    },
    {
      "cell_type": "markdown",
      "metadata": {
        "id": "lGt8moCev_MS"
      },
      "source": [
        "...если из 2-х тысяч человек, покинувших банк, было аж 9 МакГрегоров или Смитов, то это не означает, что фамилия клиента влияет на то, уйдет ли он вскоре из банка! "
      ]
    },
    {
      "cell_type": "markdown",
      "metadata": {
        "id": "uml636hPv_MU"
      },
      "source": [
        "Таким образом, для обучения модели целесообразно использовать следующие признаки:\n",
        "- credit_score — кредитный рейтинг\n",
        "- geography — страна проживания (текстовый)\n",
        "- gender — пол (текстовый)\n",
        "- age — возраст\n",
        "- tenure — сколько лет человек является клиентом банка\n",
        "- balance — баланс на счёте\n",
        "- num_of_products — количество продуктов банка, используемых клиентом\n",
        "- has_cr_card — наличие кредитной карты\n",
        "- is_active_member — активность клиента\n",
        "- estimated_salary — предполагаемая зарплата\n",
        "\n",
        "Из которых два признака - текстовые."
      ]
    },
    {
      "cell_type": "markdown",
      "metadata": {
        "id": "6KUN16rJv_MV"
      },
      "source": [
        "Не откладывая, удалим избыточные признаки из рабочего датасета:"
      ]
    },
    {
      "cell_type": "code",
      "execution_count": null,
      "metadata": {
        "id": "cCGkKX3dv_MV"
      },
      "outputs": [],
      "source": [
        "#удаление избыточных (\"мусорных\") параметров\n",
        "df = df.drop(['row_number', 'customer_id', 'surname'], axis=1)"
      ]
    },
    {
      "cell_type": "markdown",
      "metadata": {
        "id": "gmc0o_TVv_MX"
      },
      "source": [
        "Далее следует обратить внимание на признак __\"tenure__ — сколько лет человек является клиентом банка\""
      ]
    },
    {
      "cell_type": "markdown",
      "metadata": {
        "id": "StpjXFYIv_MY"
      },
      "source": [
        "Признак содержит около 9% пропусков:"
      ]
    },
    {
      "cell_type": "code",
      "execution_count": null,
      "metadata": {
        "scrolled": true,
        "id": "1a8tloJCv_MZ",
        "outputId": "e28c5582-0ad1-464e-93e5-87e0c3a812fb"
      },
      "outputs": [
        {
          "data": {
            "text/plain": [
              "9.09"
            ]
          },
          "execution_count": 9,
          "metadata": {},
          "output_type": "execute_result"
        }
      ],
      "source": [
        "df['tenure'].isna().mean()*100"
      ]
    },
    {
      "cell_type": "markdown",
      "metadata": {
        "id": "9GaI-c6Ev_MZ"
      },
      "source": [
        "при этом всего 11 уникальных значений признака:"
      ]
    },
    {
      "cell_type": "code",
      "execution_count": null,
      "metadata": {
        "id": "fkJ8MSs7v_Ma",
        "outputId": "3986e2b2-8fdd-410f-e470-75c395fad1c0"
      },
      "outputs": [
        {
          "data": {
            "text/plain": [
              "array([ 2.,  1.,  8.,  7.,  4.,  6.,  3., 10.,  5.,  9.,  0., nan])"
            ]
          },
          "execution_count": 10,
          "metadata": {},
          "output_type": "execute_result"
        }
      ],
      "source": [
        "df['tenure'].unique()"
      ]
    },
    {
      "cell_type": "markdown",
      "metadata": {
        "id": "BOG_C1Ouv_Mc"
      },
      "source": [
        "Клиенты по \"сроку обслуживания\" распределяются практически равномерно (см. ниже), если не считать тех, кто \"и года не протянул\" и совсем преданных (10 лет обслуживания)"
      ]
    },
    {
      "cell_type": "code",
      "execution_count": null,
      "metadata": {
        "id": "rZD0G3tcv_Mc",
        "outputId": "91466b8c-3e1c-499d-832f-c1cc49f685b8"
      },
      "outputs": [
        {
          "data": {
            "image/png": "[encoded data removed]",
            "text/plain": [
              "<Figure size 432x288 with 1 Axes>"
            ]
          },
          "metadata": {
            "needs_background": "light"
          },
          "output_type": "display_data"
        }
      ],
      "source": [
        "df['tenure'].plot(kind='hist', grid=True)\n",
        "plt.title(\"Распределение ВСЕХ клиентов по сроку обслуживания\")\n",
        "plt.ylabel(\"Кол-во клиентов\")\n",
        "plt.xlabel('Срок обслуживания, лет')\n",
        "plt.show()"
      ]
    },
    {
      "cell_type": "markdown",
      "metadata": {
        "id": "-AWd88i_v_Md"
      },
      "source": [
        "\"Сбежавшие клиенты\" по \"сроку обслуживания\" распределяются практически также, как вообще все клиенты (см. ниже). Т.е. нельзя однозначно сказать, например, что \"бегут только новички или только ветераны\"."
      ]
    },
    {
      "cell_type": "code",
      "execution_count": null,
      "metadata": {
        "id": "5Jr3yXSLv_Me",
        "outputId": "29ae47d9-6f91-4339-851e-3774f5995bd1"
      },
      "outputs": [
        {
          "data": {
            "image/png": "[encoded data removed]",
            "text/plain": [
              "<Figure size 432x288 with 1 Axes>"
            ]
          },
          "metadata": {
            "needs_background": "light"
          },
          "output_type": "display_data"
        }
      ],
      "source": [
        "df.query('exited==1')['tenure'].plot(kind='hist', grid=True)\n",
        "plt.title(\"Распределение УШЕДШИХ клиентов по сроку обслуживания\")\n",
        "plt.ylabel(\"Кол-во клиентов\")\n",
        "plt.xlabel('Срок обслуживания, лет')\n",
        "plt.show()"
      ]
    },
    {
      "cell_type": "markdown",
      "metadata": {
        "id": "1xgz9pfsv_Mf"
      },
      "source": [
        "9% пропусков в одном из важных параметров с одной стороны терять жаль, но с другой стороны заполнение пропусков - это самостоятельная непростая задача. Поэтому, обучать модель предлагается на данных после удаления пустых строк."
      ]
    },
    {
      "cell_type": "code",
      "execution_count": null,
      "metadata": {
        "id": "jJ0kGmDEv_Mg"
      },
      "outputs": [],
      "source": [
        "# удаляем сразу пропуски в tenure\n",
        "df = df.dropna(subset=['tenure'])\n",
        "df = df.reset_index(drop=True)"
      ]
    },
    {
      "cell_type": "markdown",
      "metadata": {
        "id": "IpuX5lsrv_Mh"
      },
      "source": [
        "**Лирическое отступление:** \n",
        "Медианой заполнял. Но медиана заметно искажает распределние tenure: появляется искусственный \"пик\" на значении \"5\". "
      ]
    },
    {
      "cell_type": "markdown",
      "metadata": {
        "id": "vK0qPIKJv_Mh"
      },
      "source": [
        "Далее ознакомимися с исходными данными в остальных параметрах."
      ]
    },
    {
      "cell_type": "code",
      "execution_count": null,
      "metadata": {
        "id": "aadjcJrxv_Mi",
        "outputId": "6abd37f9-19d8-468c-dce8-52222fe7f5b3"
      },
      "outputs": [
        {
          "data": {
            "text/plain": [
              "min    350\n",
              "max    850\n",
              "Name: credit_score, dtype: int64"
            ]
          },
          "execution_count": 14,
          "metadata": {},
          "output_type": "execute_result"
        }
      ],
      "source": [
        "df['credit_score'].agg(['min','max'])"
      ]
    },
    {
      "cell_type": "markdown",
      "metadata": {
        "id": "W7BoQuJvv_Mj"
      },
      "source": [
        "Очевидных недостатков не наблюдается. "
      ]
    },
    {
      "cell_type": "code",
      "execution_count": null,
      "metadata": {
        "id": "XIRsM5gVv_Mk",
        "outputId": "5222e113-4c21-4fda-9d60-7ad32a509c59"
      },
      "outputs": [
        {
          "data": {
            "text/plain": [
              "array(['France', 'Spain', 'Germany'], dtype=object)"
            ]
          },
          "execution_count": 15,
          "metadata": {},
          "output_type": "execute_result"
        }
      ],
      "source": [
        "df['geography'].unique()"
      ]
    },
    {
      "cell_type": "markdown",
      "metadata": {
        "id": "YF9kRKA4v_Mk"
      },
      "source": [
        "Имеем данные по рем странам. Дефектов не наблюдается. "
      ]
    },
    {
      "cell_type": "code",
      "execution_count": null,
      "metadata": {
        "id": "JdD_P_Flv_Ml",
        "outputId": "9fc4a144-5d7c-44bc-f5ac-b2d4b2eefe8d"
      },
      "outputs": [
        {
          "data": {
            "text/plain": [
              "array(['Female', 'Male'], dtype=object)"
            ]
          },
          "execution_count": 16,
          "metadata": {},
          "output_type": "execute_result"
        }
      ],
      "source": [
        "df['gender'].unique()"
      ]
    },
    {
      "cell_type": "markdown",
      "metadata": {
        "id": "uHkWO2kYv_Ml"
      },
      "source": [
        "Всё логично: мужской пол и женский."
      ]
    },
    {
      "cell_type": "code",
      "execution_count": null,
      "metadata": {
        "id": "t6HLkcV7v_Mm",
        "outputId": "0c606f8e-641b-478c-843a-c292d7d9bdcc"
      },
      "outputs": [
        {
          "data": {
            "text/plain": [
              "min    18\n",
              "max    92\n",
              "Name: age, dtype: int64"
            ]
          },
          "execution_count": 17,
          "metadata": {},
          "output_type": "execute_result"
        }
      ],
      "source": [
        "df['age'].agg(['min','max'])"
      ]
    },
    {
      "cell_type": "markdown",
      "metadata": {
        "id": "e6WIgEhnv_Mm"
      },
      "source": [
        "Данные без отклонений. Клиенты от 18-ти до 92-х лет."
      ]
    },
    {
      "cell_type": "code",
      "execution_count": null,
      "metadata": {
        "id": "48B_YRIFv_Mn",
        "outputId": "b25523fc-c8a2-498a-daa6-83d201367049"
      },
      "outputs": [
        {
          "data": {
            "text/plain": [
              "min         0.00\n",
              "max    250898.09\n",
              "Name: balance, dtype: float64"
            ]
          },
          "execution_count": 18,
          "metadata": {},
          "output_type": "execute_result"
        }
      ],
      "source": [
        "df['balance'].agg(['min','max'])"
      ]
    },
    {
      "cell_type": "markdown",
      "metadata": {
        "id": "sz7sY6wNv_Mn"
      },
      "source": [
        "Ничего странного: у кого-то на счету \"0\", у кого-то - тыщи."
      ]
    },
    {
      "cell_type": "code",
      "execution_count": null,
      "metadata": {
        "id": "eCJd0-Uwv_Mo",
        "outputId": "f89d37f1-62a6-45a1-e045-2c463eda67a1"
      },
      "outputs": [
        {
          "data": {
            "text/plain": [
              "min    1\n",
              "max    4\n",
              "Name: num_of_products, dtype: int64"
            ]
          },
          "execution_count": 19,
          "metadata": {},
          "output_type": "execute_result"
        }
      ],
      "source": [
        "df['num_of_products'].agg(['min','max'])"
      ]
    },
    {
      "cell_type": "markdown",
      "metadata": {
        "id": "dkHtPlHYv_Mo"
      },
      "source": [
        "Всё нормально. Ничего странного."
      ]
    },
    {
      "cell_type": "code",
      "execution_count": null,
      "metadata": {
        "id": "-nMs5Walv_Mp",
        "outputId": "aa71ce5a-4dd0-4b01-d50c-1c9102ba2a5c"
      },
      "outputs": [
        {
          "data": {
            "text/plain": [
              "array([1, 0])"
            ]
          },
          "execution_count": 20,
          "metadata": {},
          "output_type": "execute_result"
        }
      ],
      "source": [
        "df['has_cr_card'].unique()"
      ]
    },
    {
      "cell_type": "markdown",
      "metadata": {
        "id": "igFiI7hPv_Mp"
      },
      "source": [
        "Логично: карта либо есть, либо - нет."
      ]
    },
    {
      "cell_type": "code",
      "execution_count": null,
      "metadata": {
        "id": "19Ei2XNQv_Mq",
        "outputId": "c3875e67-0eee-4518-c3cc-3291fdec5abc"
      },
      "outputs": [
        {
          "data": {
            "text/plain": [
              "array([1, 0])"
            ]
          },
          "execution_count": 21,
          "metadata": {},
          "output_type": "execute_result"
        }
      ],
      "source": [
        "df['is_active_member'].unique()"
      ]
    },
    {
      "cell_type": "markdown",
      "metadata": {
        "id": "H0a1cswhv_Mq"
      },
      "source": [
        "Тут тоже всё логично: активный клиент - получи \"1\". Не акьтвный - \"баранку\""
      ]
    },
    {
      "cell_type": "code",
      "execution_count": null,
      "metadata": {
        "id": "__E6Ge9dv_Mr",
        "outputId": "87b0638d-acab-4aa1-8d68-5d7fd5bb679c"
      },
      "outputs": [
        {
          "data": {
            "text/plain": [
              "min        11.58\n",
              "max    199992.48\n",
              "Name: estimated_salary, dtype: float64"
            ]
          },
          "execution_count": 22,
          "metadata": {},
          "output_type": "execute_result"
        }
      ],
      "source": [
        "df['estimated_salary'].agg(['min','max'])"
      ]
    },
    {
      "cell_type": "markdown",
      "metadata": {
        "id": "YzKeZuqJv_Mr"
      },
      "source": [
        "Всё как в жизни: кто-то лопатой деньги гребет, кто-то - \"от зарплаты до зарплаты\". Но данные нормальные."
      ]
    },
    {
      "cell_type": "code",
      "execution_count": null,
      "metadata": {
        "id": "YgUaQ2YUv_Mr",
        "outputId": "ff851bbc-9f84-4feb-8e0c-5f7a5f367036"
      },
      "outputs": [
        {
          "data": {
            "text/plain": [
              "array([1, 0])"
            ]
          },
          "execution_count": 23,
          "metadata": {},
          "output_type": "execute_result"
        }
      ],
      "source": [
        "df['exited'].unique()"
      ]
    },
    {
      "cell_type": "markdown",
      "metadata": {
        "id": "TAG8gDtJv_Ms"
      },
      "source": [
        "С целевым праметром тоже всё \"ОК\". Приступаем к решению задач проекта."
      ]
    },
    {
      "cell_type": "markdown",
      "metadata": {
        "id": "ys3z-UkDv_Ms"
      },
      "source": [
        "## Исследование задачи"
      ]
    },
    {
      "cell_type": "markdown",
      "metadata": {
        "id": "oJSapEzQv_Mt"
      },
      "source": [
        "В исходном датасете классы представлены в следующей пропорции:"
      ]
    },
    {
      "cell_type": "code",
      "execution_count": null,
      "metadata": {
        "id": "A_2o55U2v_Mt",
        "outputId": "67b78dfd-1f6d-4413-efe6-e5124df8a9e7"
      },
      "outputs": [
        {
          "data": {
            "text/plain": [
              "0    0.796062\n",
              "1    0.203938\n",
              "Name: exited, dtype: float64"
            ]
          },
          "execution_count": 24,
          "metadata": {},
          "output_type": "execute_result"
        }
      ],
      "source": [
        "df['exited'].value_counts(normalize=True)"
      ]
    },
    {
      "cell_type": "code",
      "execution_count": null,
      "metadata": {
        "id": "87dLo73zv_Mt",
        "outputId": "f534b8f0-4b28-4cc6-a45b-86b68994fe48"
      },
      "outputs": [
        {
          "data": {
            "image/png": "[encoded data removed]",
            "text/plain": [
              "<Figure size 432x288 with 1 Axes>"
            ]
          },
          "metadata": {
            "needs_background": "light"
          },
          "output_type": "display_data"
        }
      ],
      "source": [
        "df['exited'].value_counts(normalize=True).plot(kind='bar', grid=True)\n",
        "plt.title(\"Соотношение классов\")\n",
        "plt.ylabel(\"Доля объектов класса\")\n",
        "plt.xlabel('Класс')\n",
        "plt.show()"
      ]
    },
    {
      "cell_type": "markdown",
      "metadata": {
        "id": "7nyJttJDv_Mu"
      },
      "source": [
        "Класс \"1\" - 20,37%. Класс \"0\" - 79,63%  Т.е. баланс (дисбаланс) \"1 к 4\"."
      ]
    },
    {
      "cell_type": "markdown",
      "metadata": {
        "id": "e-VBC6ecv_Mu"
      },
      "source": [
        "Принимая во внимание, что перед нами стоит задача бинарной классификации и, исходя из имеющихся данных, целесообразно построить все дальнейшие действия по следующему плану:\n",
        "\n",
        "1. Готовим на неподготовленных (несбалансированных) данных следующие выборки: обучающую, валидационную и тестовую.\n",
        "2. Обучаем на неподготовленных (несбалансированных) данных следующие модели классификации:\n",
        "- \"логистическая регрессия\"\n",
        "- \"дерево решений\"\n",
        "- \"случайный лес\".\n",
        "3. Для каждой модели, на неподготовленных (несбалансированных) данных, пытаемся максимизировать целевую метрику (f1) до максимального уровня путем подбора гиперпараметров (порог, глубина дерева и т.п.)\n",
        "4. Устраняем дисбаланс классов (взвешивание классов, upsampling и downsampling.) и для каждого из способов устранения дисбаланса обучаем модели (п.2).\n",
        "5. По результатам обучения на сбалансированных данных выбираем лучший способ устранения дисбаланса и лучшую модель.\n",
        "6. Повышаем качество лучшей моедли на сбалансированных данных: подбираем гиперпараметры для достижения максимальной целевой метрики (f1).\n",
        "7. Тестируем лучшую модель на тестовой выборке, подготовленной на шаге 1."
      ]
    },
    {
      "cell_type": "markdown",
      "metadata": {
        "id": "Mb2VoWnIv_Mu"
      },
      "source": [
        "Приступим "
      ]
    },
    {
      "cell_type": "markdown",
      "metadata": {
        "id": "4lDL75WRv_Mv"
      },
      "source": [
        "### Подготовка обучающей, валидацинной и тестовой выборок"
      ]
    },
    {
      "cell_type": "markdown",
      "metadata": {
        "id": "dR0HmfG8v_Mv"
      },
      "source": [
        "Т.к. в рабочем датасете два текстовых (нечисловых) параметра \"geography\" и \"gender\" (подробно см. раздел 1), необходимо провести кодирование. Выполним прямое кодирование (OHE). "
      ]
    },
    {
      "cell_type": "code",
      "execution_count": null,
      "metadata": {
        "id": "MxXVShsHv_Mv"
      },
      "outputs": [],
      "source": [
        "#прямое кодиование\n",
        "df_ohe = pd.get_dummies(df, drop_first=True)"
      ]
    },
    {
      "cell_type": "markdown",
      "metadata": {
        "id": "a7VrozUCv_Mw"
      },
      "source": [
        "Подготовим наборы параметров и целевой признак."
      ]
    },
    {
      "cell_type": "code",
      "execution_count": null,
      "metadata": {
        "id": "DC_YK51mv_Mw",
        "outputId": "afa1b375-c295-49f3-8d23-c98a4bcdbcfb"
      },
      "outputs": [
        {
          "data": {
            "text/plain": [
              "(9091, 11)"
            ]
          },
          "execution_count": 27,
          "metadata": {},
          "output_type": "execute_result"
        }
      ],
      "source": [
        "# набор признаков\n",
        "features = df_ohe.drop('exited', axis=1)\n",
        "features.shape"
      ]
    },
    {
      "cell_type": "code",
      "execution_count": null,
      "metadata": {
        "id": "NG0i5nRcv_Mw",
        "outputId": "346532c1-4b92-41f9-837c-dd3d3f985ac6"
      },
      "outputs": [
        {
          "data": {
            "text/plain": [
              "(9091,)"
            ]
          },
          "execution_count": 28,
          "metadata": {},
          "output_type": "execute_result"
        }
      ],
      "source": [
        "# целевой признак\n",
        "target = df_ohe['exited']\n",
        "target.shape"
      ]
    },
    {
      "cell_type": "markdown",
      "metadata": {
        "id": "8LgfxQ6Ev_Mx"
      },
      "source": [
        "Сформируем обучающую, валидационную и тестовую выборки."
      ]
    },
    {
      "cell_type": "code",
      "execution_count": null,
      "metadata": {
        "id": "rMsfZ97tv_Mx"
      },
      "outputs": [],
      "source": [
        "#выделение обучающей выборки\n",
        "features_train, features_rest, target_train, target_rest = train_test_split(\n",
        "    features, target, train_size= 0.6, random_state=12345)"
      ]
    },
    {
      "cell_type": "code",
      "execution_count": null,
      "metadata": {
        "id": "4WsA5tgRv_Mx"
      },
      "outputs": [],
      "source": [
        "#формирование валидационной и тествой выборок\n",
        "features_valid, features_test, target_valid, target_test = train_test_split(\n",
        "    features_rest, target_rest, test_size= 0.5, random_state=12345)"
      ]
    },
    {
      "cell_type": "markdown",
      "metadata": {
        "id": "WZGmcFoQv_My"
      },
      "source": [
        "Рабочий датасет содержит числовые параметры с разным масштабом. Проведем стандартизацию числовых признаков"
      ]
    },
    {
      "cell_type": "code",
      "execution_count": null,
      "metadata": {
        "id": "w1e8wCKev_My"
      },
      "outputs": [],
      "source": [
        "#список числовых параметров подлежащих стандартизации\n",
        "numeric = ['credit_score', 'age', 'tenure', 'balance', 'estimated_salary','num_of_products']"
      ]
    },
    {
      "cell_type": "code",
      "execution_count": null,
      "metadata": {
        "id": "UMN_qUYJv_My",
        "outputId": "90568970-7527-4fc4-a7fe-da64a9677d0c"
      },
      "outputs": [
        {
          "name": "stderr",
          "output_type": "stream",
          "text": [
            "/tmp/ipykernel_83/855233834.py:5: SettingWithCopyWarning: \n",
            "A value is trying to be set on a copy of a slice from a DataFrame.\n",
            "Try using .loc[row_indexer,col_indexer] = value instead\n",
            "\n",
            "See the caveats in the documentation: https://pandas.pydata.org/pandas-docs/stable/user_guide/indexing.html#returning-a-view-versus-a-copy\n",
            "  features_train[numeric] = scaler.transform(features_train[numeric])\n",
            "/opt/conda/lib/python3.9/site-packages/pandas/core/indexing.py:1738: SettingWithCopyWarning: \n",
            "A value is trying to be set on a copy of a slice from a DataFrame.\n",
            "Try using .loc[row_indexer,col_indexer] = value instead\n",
            "\n",
            "See the caveats in the documentation: https://pandas.pydata.org/pandas-docs/stable/user_guide/indexing.html#returning-a-view-versus-a-copy\n",
            "  self._setitem_single_column(loc, value[:, i].tolist(), pi)\n",
            "/tmp/ipykernel_83/855233834.py:8: SettingWithCopyWarning: \n",
            "A value is trying to be set on a copy of a slice from a DataFrame.\n",
            "Try using .loc[row_indexer,col_indexer] = value instead\n",
            "\n",
            "See the caveats in the documentation: https://pandas.pydata.org/pandas-docs/stable/user_guide/indexing.html#returning-a-view-versus-a-copy\n",
            "  features_valid[numeric] = scaler.transform(features_valid[numeric])\n",
            "/opt/conda/lib/python3.9/site-packages/pandas/core/indexing.py:1738: SettingWithCopyWarning: \n",
            "A value is trying to be set on a copy of a slice from a DataFrame.\n",
            "Try using .loc[row_indexer,col_indexer] = value instead\n",
            "\n",
            "See the caveats in the documentation: https://pandas.pydata.org/pandas-docs/stable/user_guide/indexing.html#returning-a-view-versus-a-copy\n",
            "  self._setitem_single_column(loc, value[:, i].tolist(), pi)\n",
            "/tmp/ipykernel_83/855233834.py:11: SettingWithCopyWarning: \n",
            "A value is trying to be set on a copy of a slice from a DataFrame.\n",
            "Try using .loc[row_indexer,col_indexer] = value instead\n",
            "\n",
            "See the caveats in the documentation: https://pandas.pydata.org/pandas-docs/stable/user_guide/indexing.html#returning-a-view-versus-a-copy\n",
            "  features_test[numeric] = scaler.transform(features_test[numeric])\n",
            "/opt/conda/lib/python3.9/site-packages/pandas/core/indexing.py:1738: SettingWithCopyWarning: \n",
            "A value is trying to be set on a copy of a slice from a DataFrame.\n",
            "Try using .loc[row_indexer,col_indexer] = value instead\n",
            "\n",
            "See the caveats in the documentation: https://pandas.pydata.org/pandas-docs/stable/user_guide/indexing.html#returning-a-view-versus-a-copy\n",
            "  self._setitem_single_column(loc, value[:, i].tolist(), pi)\n"
          ]
        }
      ],
      "source": [
        "#стандартизация числовых параметров\n",
        "scaler = StandardScaler()\n",
        "scaler.fit(features_train[numeric])\n",
        "#стандартизация числовых параметров в обучающей выборке\n",
        "features_train[numeric] = scaler.transform(features_train[numeric])\n",
        "\n",
        "#стандартизация числовых параметров в валидационной выборке\n",
        "features_valid[numeric] = scaler.transform(features_valid[numeric])\n",
        "\n",
        "#стандартизация числовых параметров в тестовой выборке\n",
        "features_test[numeric] = scaler.transform(features_test[numeric])"
      ]
    },
    {
      "cell_type": "code",
      "execution_count": null,
      "metadata": {
        "id": "it-0pvmzv_Mz",
        "outputId": "d9ce8cd4-ad0c-4fa5-c87f-9c8a49787cfb"
      },
      "outputs": [
        {
          "data": {
            "text/html": [
              "<div>\n",
              "<style scoped>\n",
              "    .dataframe tbody tr th:only-of-type {\n",
              "        vertical-align: middle;\n",
              "    }\n",
              "\n",
              "    .dataframe tbody tr th {\n",
              "        vertical-align: top;\n",
              "    }\n",
              "\n",
              "    .dataframe thead th {\n",
              "        text-align: right;\n",
              "    }\n",
              "</style>\n",
              "<table border=\"1\" class=\"dataframe\">\n",
              "  <thead>\n",
              "    <tr style=\"text-align: right;\">\n",
              "      <th></th>\n",
              "      <th>credit_score</th>\n",
              "      <th>age</th>\n",
              "      <th>tenure</th>\n",
              "      <th>balance</th>\n",
              "      <th>num_of_products</th>\n",
              "      <th>has_cr_card</th>\n",
              "      <th>is_active_member</th>\n",
              "      <th>estimated_salary</th>\n",
              "      <th>geography_Germany</th>\n",
              "      <th>geography_Spain</th>\n",
              "      <th>gender_Male</th>\n",
              "    </tr>\n",
              "  </thead>\n",
              "  <tbody>\n",
              "    <tr>\n",
              "      <th>8483</th>\n",
              "      <td>0.809075</td>\n",
              "      <td>-1.039327</td>\n",
              "      <td>-1.025995</td>\n",
              "      <td>0.554904</td>\n",
              "      <td>-0.908179</td>\n",
              "      <td>1</td>\n",
              "      <td>0</td>\n",
              "      <td>0.019508</td>\n",
              "      <td>0</td>\n",
              "      <td>0</td>\n",
              "      <td>0</td>\n",
              "    </tr>\n",
              "    <tr>\n",
              "      <th>3431</th>\n",
              "      <td>-1.152518</td>\n",
              "      <td>-1.227561</td>\n",
              "      <td>0.696524</td>\n",
              "      <td>0.480609</td>\n",
              "      <td>-0.908179</td>\n",
              "      <td>0</td>\n",
              "      <td>0</td>\n",
              "      <td>0.056167</td>\n",
              "      <td>0</td>\n",
              "      <td>0</td>\n",
              "      <td>1</td>\n",
              "    </tr>\n",
              "    <tr>\n",
              "      <th>6770</th>\n",
              "      <td>-0.398853</td>\n",
              "      <td>0.090079</td>\n",
              "      <td>1.385532</td>\n",
              "      <td>-1.237830</td>\n",
              "      <td>-0.908179</td>\n",
              "      <td>1</td>\n",
              "      <td>1</td>\n",
              "      <td>0.848738</td>\n",
              "      <td>0</td>\n",
              "      <td>0</td>\n",
              "      <td>1</td>\n",
              "    </tr>\n",
              "    <tr>\n",
              "      <th>1350</th>\n",
              "      <td>-0.749875</td>\n",
              "      <td>-0.286389</td>\n",
              "      <td>0.352020</td>\n",
              "      <td>-1.237830</td>\n",
              "      <td>0.809300</td>\n",
              "      <td>1</td>\n",
              "      <td>1</td>\n",
              "      <td>-0.894953</td>\n",
              "      <td>0</td>\n",
              "      <td>0</td>\n",
              "      <td>1</td>\n",
              "    </tr>\n",
              "    <tr>\n",
              "      <th>4047</th>\n",
              "      <td>-1.028628</td>\n",
              "      <td>-0.756975</td>\n",
              "      <td>-0.336987</td>\n",
              "      <td>-1.237830</td>\n",
              "      <td>0.809300</td>\n",
              "      <td>0</td>\n",
              "      <td>1</td>\n",
              "      <td>-1.284516</td>\n",
              "      <td>0</td>\n",
              "      <td>0</td>\n",
              "      <td>1</td>\n",
              "    </tr>\n",
              "  </tbody>\n",
              "</table>\n",
              "</div>"
            ],
            "text/plain": [
              "      credit_score       age    tenure   balance  num_of_products  \\\n",
              "8483      0.809075 -1.039327 -1.025995  0.554904        -0.908179   \n",
              "3431     -1.152518 -1.227561  0.696524  0.480609        -0.908179   \n",
              "6770     -0.398853  0.090079  1.385532 -1.237830        -0.908179   \n",
              "1350     -0.749875 -0.286389  0.352020 -1.237830         0.809300   \n",
              "4047     -1.028628 -0.756975 -0.336987 -1.237830         0.809300   \n",
              "\n",
              "      has_cr_card  is_active_member  estimated_salary  geography_Germany  \\\n",
              "8483            1                 0          0.019508                  0   \n",
              "3431            0                 0          0.056167                  0   \n",
              "6770            1                 1          0.848738                  0   \n",
              "1350            1                 1         -0.894953                  0   \n",
              "4047            0                 1         -1.284516                  0   \n",
              "\n",
              "      geography_Spain  gender_Male  \n",
              "8483                0            0  \n",
              "3431                0            1  \n",
              "6770                0            1  \n",
              "1350                0            1  \n",
              "4047                0            1  "
            ]
          },
          "execution_count": 33,
          "metadata": {},
          "output_type": "execute_result"
        }
      ],
      "source": [
        "features_train.head()"
      ]
    },
    {
      "cell_type": "markdown",
      "metadata": {
        "id": "N_JiCtE_v_Mz"
      },
      "source": [
        "Итак. Обучающие данные подготовлены. Согласно задания, устранение дисбаланса на данном этапе проекта не требуется. Т.о. можно переходить к обучению моделей на несбалансированных данных."
      ]
    },
    {
      "cell_type": "code",
      "execution_count": null,
      "metadata": {
        "id": "_ZtzhVTkv_M0",
        "outputId": "ac00cae2-b211-42d4-cb79-a4d0994d7e7a"
      },
      "outputs": [
        {
          "name": "stdout",
          "output_type": "stream",
          "text": [
            "Обучающие параметры: (5454, 11)\n",
            "Обучающий целевой параметр: (5454,)\n",
            "-------------------------------------\n",
            "Валидационные параметры: (1818, 11)\n",
            "Валидационный целевой параметр: (1818,)\n",
            "-------------------------------------\n",
            "Тестовые параметры: (1819, 11)\n",
            "Тестовый целевой параметр: (1819,)\n"
          ]
        }
      ],
      "source": [
        "# набор признаков\n",
        "print('Обучающие параметры:', features_train.shape)\n",
        "print('Обучающий целевой параметр:', target_train.shape)\n",
        "print('-------------------------------------')\n",
        "print('Валидационные параметры:', features_valid.shape)\n",
        "print('Валидационный целевой параметр:', target_valid.shape)\n",
        "print('-------------------------------------')\n",
        "print('Тестовые параметры:', features_test.shape)\n",
        "print('Тестовый целевой параметр:', target_test.shape)"
      ]
    },
    {
      "cell_type": "markdown",
      "metadata": {
        "id": "Js2Refwuv_M0"
      },
      "source": [
        "### Логистическая регрессия (на дисбалансе)"
      ]
    },
    {
      "cell_type": "markdown",
      "metadata": {
        "id": "S42z-BNqv_M0"
      },
      "source": [
        "Подготовим и обучим модель логистической регрессии на несбалансированных данных"
      ]
    },
    {
      "cell_type": "code",
      "execution_count": null,
      "metadata": {
        "id": "KdT5yE1Ov_M1",
        "outputId": "68acc39a-f432-48d6-bb3c-dd32e34e61f8"
      },
      "outputs": [
        {
          "name": "stdout",
          "output_type": "stream",
          "text": [
            "F1 score: 0.30400000000000005\n",
            "ROC AUC score: 0.5844876366066153\n"
          ]
        }
      ],
      "source": [
        "lr = LogisticRegression(random_state=12345, solver='liblinear')\n",
        "lr.fit(features_train, target_train)\n",
        "predicted_valid = lr.predict(features_valid)\n",
        "print('F1 score:', f1_score(target_valid, predicted_valid))\n",
        "print('ROC AUC score:', roc_auc_score(target_valid, predicted_valid))"
      ]
    },
    {
      "cell_type": "markdown",
      "metadata": {
        "id": "ZWpZwRAfv_M1"
      },
      "source": [
        "Модель однозначно выдаёт низкое значение метрики F1 и метрики ROC AUC. Модель немногим лучше \"честной монеты\".\n",
        "Попробуем подобрать порог. Используем функцию \"predict_proba\". Возможно это даст какое-либо улучшение целевой метрики F1."
      ]
    },
    {
      "cell_type": "code",
      "execution_count": null,
      "metadata": {
        "id": "JglKlEn_v_M1"
      },
      "outputs": [],
      "source": [
        "probabilities_valid = lr.predict_proba(features_valid)\n",
        "probabilities_one_valid = probabilities_valid[:, 1]"
      ]
    },
    {
      "cell_type": "code",
      "execution_count": null,
      "metadata": {
        "id": "elC6kkyWv_M2",
        "outputId": "1e27569e-fbc5-40bf-e06f-ebc3bb547df2"
      },
      "outputs": [
        {
          "data": {
            "image/png": "[encoded data removed]",
            "text/plain": [
              "<Figure size 432x288 with 1 Axes>"
            ]
          },
          "metadata": {
            "needs_background": "light"
          },
          "output_type": "display_data"
        }
      ],
      "source": [
        "fpr, tpr, thresholds = roc_curve(target_valid, probabilities_one_valid)\n",
        "plt.figure()\n",
        "plt.plot(fpr, tpr)\n",
        "plt.xlim([0.0, 1.0])\n",
        "plt.ylim([0.0, 1.0])\n",
        "plt.xlabel('False Positive Rate')\n",
        "plt.ylabel('True Positive Rate')\n",
        "plt.title('ROC-кривая')\n",
        "plt.show()\n"
      ]
    },
    {
      "cell_type": "markdown",
      "metadata": {
        "id": "ACo9pwhCv_M2"
      },
      "source": [
        "Полученная ROC-кривая заметно лучше \"случайной модели\", но наша целевая метрика F1 и необходимо максимизировать именно её. Подготовим цикл, который будет перебирать \"порог\" и замерять целевую метрику. "
      ]
    },
    {
      "cell_type": "code",
      "execution_count": null,
      "metadata": {
        "id": "HCmx7jvTv_M3",
        "outputId": "7550c593-6743-4dfb-e17c-b4b60d999c77"
      },
      "outputs": [
        {
          "name": "stdout",
          "output_type": "stream",
          "text": [
            "-----------------------------------------------------\n",
            "Лучший порог: 0.22\n",
            "Лучшая метрика F1: 0.5072886297376094\n",
            "Лучший метрика ROC_AUC: 0.7104841723162334\n"
          ]
        }
      ],
      "source": [
        "best_tres=0\n",
        "best_f1=0\n",
        "best_ROC_AUC=0\n",
        "for threshold in np.arange(0.2, 0.4, 0.02):\n",
        "    predicted_valid =  probabilities_one_valid > threshold  \n",
        "    f1 = f1_score(target_valid, predicted_valid)\n",
        "    roc = roc_auc_score(target_valid, predicted_valid)\n",
        "    #print(\"Порог = {:.2f} | F1 score = {:.4f} | ROC AUC score = {:.4f}\".format(\n",
        "        #threshold, f1, roc))\n",
        "    if f1>best_f1:\n",
        "        best_tres=threshold\n",
        "        best_f1=f1\n",
        "        best_ROC_AUC=roc\n",
        "print('-----------------------------------------------------')\n",
        "print('Лучший порог:', best_tres)\n",
        "print('Лучшая метрика F1:', best_f1)\n",
        "print('Лучший метрика ROC_AUC:', best_ROC_AUC)"
      ]
    },
    {
      "cell_type": "markdown",
      "metadata": {
        "id": "Okf23BZ7v_M3"
      },
      "source": [
        "Итак. Выявлен порого 0.22, который заметно повышает качество модели на несбалансированных данных: F1 повышается с 0.3040 до 0.5073, ROC_AUC повышаестя с 0.5845 до 0.7105. \n",
        "\n",
        "Однако, заданный проектом нижний предел целевой метрики (F1>=0.59) не достигнут. "
      ]
    },
    {
      "cell_type": "markdown",
      "metadata": {
        "id": "d9-j49iKv_M4"
      },
      "source": [
        "Перейдем к следующей модели."
      ]
    },
    {
      "cell_type": "markdown",
      "metadata": {
        "id": "RpTvsP6iv_M4"
      },
      "source": [
        "### Дерево решений (на дисбалансе)"
      ]
    },
    {
      "cell_type": "markdown",
      "metadata": {
        "id": "kPAYmIc5v_M4"
      },
      "source": [
        "Подготовим и обучим модель \"дерево решений\" на несбалансированных данных"
      ]
    },
    {
      "cell_type": "code",
      "execution_count": null,
      "metadata": {
        "id": "zQeh3zL3v_M4",
        "outputId": "9ee13c92-b397-4746-fc1f-b50d44762d60"
      },
      "outputs": [
        {
          "name": "stdout",
          "output_type": "stream",
          "text": [
            "F1 score: 0.4926764314247669\n",
            "ROC AUC score: 0.6797786314764468\n"
          ]
        }
      ],
      "source": [
        "dtc = DecisionTreeClassifier(random_state=12345)#max_depth=depth\n",
        "dtc.fit(features_train, target_train)\n",
        "predicted_valid = dtc.predict(features_valid)\n",
        "print('F1 score:', f1_score(target_valid, predicted_valid))\n",
        "print('ROC AUC score:', roc_auc_score(target_valid, predicted_valid))"
      ]
    },
    {
      "cell_type": "markdown",
      "metadata": {
        "id": "X7aUU8odv_M5"
      },
      "source": [
        "Значение целевой метрики F1 и метрики ROC_AUC заметно лучше, чем у \"логистической регрессии\" до применения порога. Однако, до заданного значения целевой метрики еще далеко. Попробуем подобрать глубину дерева. \n",
        "\n",
        "Для этого используем функцию GridSearchCV, которая подберет оптимальные параметры (ищем локальный максимум)"
      ]
    },
    {
      "cell_type": "markdown",
      "metadata": {
        "id": "te_U2Ivcv_M5"
      },
      "source": [
        "Задаем параметры для подбора"
      ]
    },
    {
      "cell_type": "code",
      "execution_count": null,
      "metadata": {
        "id": "b4XkqlPFv_M5"
      },
      "outputs": [],
      "source": [
        "#здесь и далее для ускорения проверки оставлено только финальное значение искомого параметра\n",
        "# для примера закоментированы варианты подбора\n",
        "params = {'max_depth': [6]} #list(range(5,15,1))}"
      ]
    },
    {
      "cell_type": "markdown",
      "metadata": {
        "id": "2cGUWHUZv_M5"
      },
      "source": [
        "Задаем модель для которой будут подбираться оптимальные параметры для достижения наилучшего показателя F1-меры."
      ]
    },
    {
      "cell_type": "code",
      "execution_count": null,
      "metadata": {
        "id": "ZDrfGF13v_M6"
      },
      "outputs": [],
      "source": [
        "dtc = DecisionTreeClassifier(random_state=12345)"
      ]
    },
    {
      "cell_type": "code",
      "execution_count": null,
      "metadata": {
        "id": "ncT4WM5Lv_M6"
      },
      "outputs": [],
      "source": [
        "clf = GridSearchCV(dtc, params, scoring='f1', cv=3, n_jobs=-1)"
      ]
    },
    {
      "cell_type": "markdown",
      "metadata": {
        "id": "eUnKrsKmv_M6"
      },
      "source": [
        "Запускаем подбор параметров с замером времени"
      ]
    },
    {
      "cell_type": "code",
      "execution_count": null,
      "metadata": {
        "id": "5CG4eRxIv_M6",
        "outputId": "39786589-d45a-488f-eadf-b434b8627417"
      },
      "outputs": [
        {
          "name": "stdout",
          "output_type": "stream",
          "text": [
            "CPU times: user 157 ms, sys: 2.87 ms, total: 160 ms\n",
            "Wall time: 159 ms\n"
          ]
        },
        {
          "data": {
            "text/plain": [
              "GridSearchCV(cv=3, estimator=DecisionTreeClassifier(random_state=12345),\n",
              "             n_jobs=-1, param_grid={'max_depth': [6]}, scoring='f1')"
            ]
          },
          "execution_count": 43,
          "metadata": {},
          "output_type": "execute_result"
        }
      ],
      "source": [
        "%%time\n",
        "clf.fit(features_train,target_train)"
      ]
    },
    {
      "cell_type": "markdown",
      "metadata": {
        "id": "IlgTyPfTv_M7"
      },
      "source": [
        "Понятно, что время показывает заниженное, т.к. фактически оптимальный параметр мной уже подобран заранее. \n",
        "Тем не менее мы имеем следующие параметры:"
      ]
    },
    {
      "cell_type": "code",
      "execution_count": null,
      "metadata": {
        "scrolled": true,
        "id": "O0EhcpWUv_M7",
        "outputId": "a2eb48d0-5e2d-4e2d-a091-7347495ff9b9"
      },
      "outputs": [
        {
          "data": {
            "text/plain": [
              "0.5337649476519607"
            ]
          },
          "execution_count": 44,
          "metadata": {},
          "output_type": "execute_result"
        }
      ],
      "source": [
        "clf.best_score_"
      ]
    },
    {
      "cell_type": "markdown",
      "metadata": {
        "id": "0CNAAx23v_M7"
      },
      "source": [
        "Лучшая F1-мера 0.5337"
      ]
    },
    {
      "cell_type": "code",
      "execution_count": null,
      "metadata": {
        "scrolled": true,
        "id": "BPWa7GJuv_M8",
        "outputId": "94522225-7aa4-4d1e-9f50-576a71857ead"
      },
      "outputs": [
        {
          "data": {
            "text/plain": [
              "{'max_depth': 6}"
            ]
          },
          "execution_count": 45,
          "metadata": {},
          "output_type": "execute_result"
        }
      ],
      "source": [
        "clf.best_params_"
      ]
    },
    {
      "cell_type": "markdown",
      "metadata": {
        "id": "4gMZEjtvv_M8"
      },
      "source": [
        "Лучшая глубина дерева - 6. "
      ]
    },
    {
      "cell_type": "markdown",
      "metadata": {
        "id": "rGnQvjpav_M8"
      },
      "source": [
        "Далее, используя найденный оптимальный параметр, заново обучим модель и проверим её на валидацинных данных:"
      ]
    },
    {
      "cell_type": "code",
      "execution_count": null,
      "metadata": {
        "id": "_fnUciFSv_M8",
        "outputId": "f8923e1c-e370-4f60-f224-981751eb3535"
      },
      "outputs": [
        {
          "name": "stdout",
          "output_type": "stream",
          "text": [
            "F1 score: 0.5606837606837607\n",
            "ROC AUC score: 0.7022394557272156\n"
          ]
        }
      ],
      "source": [
        "dtc_best = DecisionTreeClassifier(random_state=12345, max_depth=clf.best_params_['max_depth'])\n",
        "dtc_best.fit(features_train, target_train)\n",
        "predicted_valid = dtc_best.predict(features_valid)\n",
        "print('F1 score:', f1_score(target_valid, predicted_valid))\n",
        "print('ROC AUC score:', roc_auc_score(target_valid, predicted_valid))"
      ]
    },
    {
      "cell_type": "markdown",
      "metadata": {
        "id": "21MWIQ9-v_M9"
      },
      "source": [
        "Итак. Модель __\"дерева решений\"__ выдаёт на несбалансированных валидационных данных __F1-меру равную 0.5607__, ROC_AUC - 0.7022. \n",
        "Это заметно лучше, чем \"логистическая регрессия\", но заданный проектом нижний предел целевой метрики (F1>=0.59) всё-ещё не достигнут. "
      ]
    },
    {
      "cell_type": "markdown",
      "metadata": {
        "id": "kMxzW8Y5v_M9"
      },
      "source": [
        "Перейдем к следующей модели."
      ]
    },
    {
      "cell_type": "markdown",
      "metadata": {
        "id": "32UcGEWQv_M9"
      },
      "source": [
        "### Случайный лес (на дисбалансе)"
      ]
    },
    {
      "cell_type": "markdown",
      "metadata": {
        "id": "H0O2D_z6v_M9"
      },
      "source": [
        "Подготовим и обучим модель \"случайный лес\" на несбалансированных данных"
      ]
    },
    {
      "cell_type": "code",
      "execution_count": null,
      "metadata": {
        "scrolled": true,
        "id": "Tb2-Y2h1v_M9",
        "outputId": "180b7071-20b7-4fc8-e796-6a31c96eee29"
      },
      "outputs": [
        {
          "name": "stdout",
          "output_type": "stream",
          "text": [
            "F1 score: 0.5851239669421487\n",
            "ROC AUC score: 0.7170519661964779\n"
          ]
        }
      ],
      "source": [
        "rfc = RandomForestClassifier(random_state=12345)\n",
        "rfc.fit(features_train, target_train)\n",
        "predicted_valid = rfc.predict(features_valid)\n",
        "print('F1 score:', f1_score(target_valid, predicted_valid))\n",
        "print('ROC AUC score:', roc_auc_score(target_valid, predicted_valid))"
      ]
    },
    {
      "cell_type": "markdown",
      "metadata": {
        "id": "huMpd3c5v_M-"
      },
      "source": [
        "Значение целевой метрики F1 и метрики ROC_AUC заметно лучше, чем у \"логистической регрессии\" до применения порога и у \"дерева решений\" до оптимизации. Однако, до заданного значения целевой метрики еще далеко. Попробуем подобрать гиперпараметры: кол-во деревьев, глубину деревьев, количество функций,  которые следует учитывать при поиске лучшего разделения. \n",
        "\n",
        "Для этого используем функцию GridSearchCV, которая подберет оптимальные параметры (ищем локальный максимум)"
      ]
    },
    {
      "cell_type": "markdown",
      "metadata": {
        "id": "KEu5vo_kv_M-"
      },
      "source": [
        "Задаем параметры для подбора"
      ]
    },
    {
      "cell_type": "code",
      "execution_count": null,
      "metadata": {
        "id": "ilfZKCqSv_M-"
      },
      "outputs": [],
      "source": [
        "# для сокращения времение проверки я в параметрах оставил только самые успешные \n",
        "# остальные для примера закомментированы в соответсвующих строках\n",
        "\n",
        "params = {\n",
        "    'n_estimators': [316],# list(range(310,330,2)),#list(map(int, np.floor(np.logspace(2, 3, 3)))),\n",
        "    'max_depth': [16], #[14,15,16,17,18,20], #list(range(5,30,5)),\n",
        "    'max_features': [4] #[3,4,5]\n",
        "}"
      ]
    },
    {
      "cell_type": "markdown",
      "metadata": {
        "id": "X95sOsLUv_M-"
      },
      "source": [
        "Задаем модель для которой будут подбираться оптимальные параметры для достижения наилучшего показателя F1-меры."
      ]
    },
    {
      "cell_type": "code",
      "execution_count": null,
      "metadata": {
        "id": "-6Euwn-fv_M_"
      },
      "outputs": [],
      "source": [
        "rfc = RandomForestClassifier(random_state=12345)"
      ]
    },
    {
      "cell_type": "code",
      "execution_count": null,
      "metadata": {
        "id": "pCPaPoYOv_M_"
      },
      "outputs": [],
      "source": [
        "clf = GridSearchCV(rfc, params, scoring='f1', cv=3, n_jobs=-1)"
      ]
    },
    {
      "cell_type": "markdown",
      "metadata": {
        "id": "Q1DXwWBHv_M_"
      },
      "source": [
        "Запускаем подбор параметров с замером времени"
      ]
    },
    {
      "cell_type": "code",
      "execution_count": null,
      "metadata": {
        "id": "rn89Ys8iv_M_",
        "outputId": "e843ff84-5ae6-49c4-91d1-17cca380306b"
      },
      "outputs": [
        {
          "name": "stdout",
          "output_type": "stream",
          "text": [
            "CPU times: user 9.77 s, sys: 27.1 ms, total: 9.79 s\n",
            "Wall time: 9.99 s\n"
          ]
        },
        {
          "data": {
            "text/plain": [
              "GridSearchCV(cv=3, estimator=RandomForestClassifier(random_state=12345),\n",
              "             n_jobs=-1,\n",
              "             param_grid={'max_depth': [16], 'max_features': [4],\n",
              "                         'n_estimators': [316]},\n",
              "             scoring='f1')"
            ]
          },
          "execution_count": 51,
          "metadata": {},
          "output_type": "execute_result"
        }
      ],
      "source": [
        "%%time\n",
        "clf.fit(features_train,target_train)"
      ]
    },
    {
      "cell_type": "markdown",
      "metadata": {
        "id": "FEunMjmHv_NA"
      },
      "source": [
        "Время также показывает заниженное, т.к. фактически оптимальный параметр мной уже подобран заранее. \n",
        "\n",
        "Но оптимальные параметры подобраны:"
      ]
    },
    {
      "cell_type": "code",
      "execution_count": null,
      "metadata": {
        "scrolled": true,
        "id": "KP_0mMCVv_NA",
        "outputId": "2dbcb6f6-3137-4f3f-96c6-6e1f0dd255b5"
      },
      "outputs": [
        {
          "data": {
            "text/plain": [
              "0.5678009776387413"
            ]
          },
          "execution_count": 52,
          "metadata": {},
          "output_type": "execute_result"
        }
      ],
      "source": [
        "clf.best_score_"
      ]
    },
    {
      "cell_type": "markdown",
      "metadata": {
        "id": "MGWH_xHuv_NA"
      },
      "source": [
        "Лучшая F1-мера 0.5708"
      ]
    },
    {
      "cell_type": "code",
      "execution_count": null,
      "metadata": {
        "scrolled": false,
        "id": "nSRzPxAtv_NA",
        "outputId": "1de4bfd8-196c-4c15-cde0-8a518dbad8a9"
      },
      "outputs": [
        {
          "data": {
            "text/plain": [
              "{'max_depth': 16, 'max_features': 4, 'n_estimators': 316}"
            ]
          },
          "execution_count": 53,
          "metadata": {},
          "output_type": "execute_result"
        }
      ],
      "source": [
        "clf.best_params_"
      ]
    },
    {
      "cell_type": "markdown",
      "metadata": {
        "id": "wgDZhK4bv_NB"
      },
      "source": [
        "Лучшая глубина дерева - 16, деревьев - 316, функций - 4. "
      ]
    },
    {
      "cell_type": "markdown",
      "metadata": {
        "id": "Uir3B3Xnv_NB"
      },
      "source": [
        "Далее, используя найденный оптимальный набор параметров, заново обучим модель и проверим её на валидацинных данных:"
      ]
    },
    {
      "cell_type": "code",
      "execution_count": null,
      "metadata": {
        "id": "wqWqyAyZv_NB",
        "outputId": "9df417c9-26a0-485e-832f-dafacc7f4bf2"
      },
      "outputs": [
        {
          "name": "stdout",
          "output_type": "stream",
          "text": [
            "F1 score: 0.5864909390444811\n",
            "ROC AUC score: 0.7180312448804157\n"
          ]
        }
      ],
      "source": [
        "rfc_best = RandomForestClassifier(random_state=12345,\n",
        "                                      max_depth=clf.best_params_['max_depth'], \n",
        "                                      n_estimators=clf.best_params_['n_estimators'], \n",
        "                                      max_features=clf.best_params_['max_features'], \n",
        "                                      min_samples_leaf=1,\n",
        "                                      min_samples_split=2)\n",
        "rfc_best.fit(features_train, target_train)\n",
        "predicted_valid = rfc_best.predict(features_valid)\n",
        "print('F1 score:', f1_score(target_valid, predicted_valid))\n",
        "print('ROC AUC score:', roc_auc_score(target_valid, predicted_valid))"
      ]
    },
    {
      "cell_type": "markdown",
      "metadata": {
        "id": "diNrvbpOv_NC"
      },
      "source": [
        "Модель __\"случайный лес\"__ выдаёт на несбалансированных валидационных данных __F1-меру равную 0.5865__, ROC_AUC - 0.7180. \n",
        "Это заметно лучше, чем \"логистическая регрессия\", но заданный проектом нижний предел целевой метрики (F1>=0.59) всё-ещё не достигнут. "
      ]
    },
    {
      "cell_type": "markdown",
      "metadata": {
        "id": "pvQmDZTuv_NC"
      },
      "source": [
        "Для удобства соберем лучшие результаты моделей в общую таблицу:"
      ]
    },
    {
      "cell_type": "code",
      "execution_count": null,
      "metadata": {
        "id": "03Qxlpf1v_NC",
        "outputId": "9b83fec6-cd3c-4a84-e6b5-0e813e232da7"
      },
      "outputs": [
        {
          "data": {
            "text/html": [
              "<div>\n",
              "<style scoped>\n",
              "    .dataframe tbody tr th:only-of-type {\n",
              "        vertical-align: middle;\n",
              "    }\n",
              "\n",
              "    .dataframe tbody tr th {\n",
              "        vertical-align: top;\n",
              "    }\n",
              "\n",
              "    .dataframe thead th {\n",
              "        text-align: right;\n",
              "    }\n",
              "</style>\n",
              "<table border=\"1\" class=\"dataframe\">\n",
              "  <thead>\n",
              "    <tr style=\"text-align: right;\">\n",
              "      <th></th>\n",
              "      <th>F1</th>\n",
              "      <th>ROC-AUC</th>\n",
              "    </tr>\n",
              "  </thead>\n",
              "  <tbody>\n",
              "    <tr>\n",
              "      <th>Логистическая регрессия</th>\n",
              "      <td>0.5073</td>\n",
              "      <td>0.7105</td>\n",
              "    </tr>\n",
              "    <tr>\n",
              "      <th>Дерево решений</th>\n",
              "      <td>0.5607</td>\n",
              "      <td>0.7022</td>\n",
              "    </tr>\n",
              "    <tr>\n",
              "      <th>Случайный лес</th>\n",
              "      <td>0.5865</td>\n",
              "      <td>0.7180</td>\n",
              "    </tr>\n",
              "  </tbody>\n",
              "</table>\n",
              "</div>"
            ],
            "text/plain": [
              "                             F1  ROC-AUC\n",
              "Логистическая регрессия  0.5073   0.7105\n",
              "Дерево решений           0.5607   0.7022\n",
              "Случайный лес            0.5865   0.7180"
            ]
          },
          "execution_count": 55,
          "metadata": {},
          "output_type": "execute_result"
        }
      ],
      "source": [
        "results=[[0.5073,0.7105],[0.5607,0.7022],[0.5865,0.7180]]\n",
        "index=['Логистическая регрессия','Дерево решений','Случайный лес']\n",
        "res=pd.DataFrame(data=results,index=index, columns=['F1','ROC-AUC'])\n",
        "res"
      ]
    },
    {
      "cell_type": "markdown",
      "metadata": {
        "id": "XIy-mb6lv_NC"
      },
      "source": [
        "**Вывод** \n",
        "\n",
        "Из сводной таблицы очевидно, что макисмальное значение целевой метрики (f1) на несбалансированных данных показала оптимизированная модель \"случайный лес\":  F1_score = 0.5865 и ROC_AUC_score = 0.7180\n",
        "\n",
        "Проектом установлен минимальный порог целевой метрики f1=0.59. \n",
        "\n",
        "Даже на несбалансированных данных этот порог уже почти достигнут.\n",
        "\n",
        "Продолжим. Попытаемся достигнуть лучшего результата на сбалансированных данных."
      ]
    },
    {
      "cell_type": "markdown",
      "metadata": {
        "id": "K6bw0oQUv_ND"
      },
      "source": [
        "## Борьба с дисбалансом"
      ]
    },
    {
      "cell_type": "markdown",
      "metadata": {
        "id": "TI0EjLn0v_ND"
      },
      "source": [
        "Для дальнейшего удобства сформируем две функции: для downsampling и для upsampling, которые на входе принимают соответсвующие обучающие выборки и коэффициенты-мультипликаторы."
      ]
    },
    {
      "cell_type": "code",
      "execution_count": null,
      "metadata": {
        "id": "71o5tGfUv_ND"
      },
      "outputs": [],
      "source": [
        "#даунсэмплинг\n",
        "def downsample(features, target, fraction):\n",
        "    features_zeros = features[target == 0]\n",
        "    features_ones = features[target == 1]\n",
        "    target_zeros = target[target == 0]\n",
        "    target_ones = target[target == 1]\n",
        "\n",
        "    features_downsampled = pd.concat(\n",
        "        [features_zeros.sample(frac=fraction, random_state=12345)] + [features_ones])\n",
        "    \n",
        "    target_downsampled = pd.concat(\n",
        "        [target_zeros.sample(frac=fraction, random_state=12345)] + [target_ones])\n",
        "    \n",
        "    features_downsampled, target_downsampled = shuffle(\n",
        "        features_downsampled, target_downsampled, random_state=12345)\n",
        "    \n",
        "    return features_downsampled, target_downsampled"
      ]
    },
    {
      "cell_type": "code",
      "execution_count": null,
      "metadata": {
        "id": "AttK6UNgv_ND"
      },
      "outputs": [],
      "source": [
        "#апсэмплинг\n",
        "def upsample(features, target, repeat):\n",
        "    features_zeros = features[target == 0]\n",
        "    features_ones = features[target == 1]\n",
        "    target_zeros = target[target == 0]\n",
        "    target_ones = target[target == 1]\n",
        "    features_upsampled = pd.concat([features_zeros] + [features_ones] * repeat)\n",
        "    target_upsampled = pd.concat([target_zeros] + [target_ones] * repeat)\n",
        "    # < добавьте перемешивание >\n",
        "    features_upsampled = shuffle(features_upsampled, random_state=12345, n_samples=None)\n",
        "    target_upsampled = shuffle(target_upsampled, random_state=12345, n_samples=None)\n",
        "    return features_upsampled, target_upsampled"
      ]
    },
    {
      "cell_type": "markdown",
      "metadata": {
        "id": "X3CGGolOv_NE"
      },
      "source": [
        "Далее вызовем функции и сформируем новые сбалансированные обучающие выборки: \n",
        "- features_downsampled - уменьшенная выборка (класс \"0\" уменьшен до размера класса \"1\") \n",
        "- features_upsampled- увеличенная выборка (класс \"1\" увеличен до размера класса \"0\")"
      ]
    },
    {
      "cell_type": "code",
      "execution_count": null,
      "metadata": {
        "id": "yPQ7SB0vv_NE"
      },
      "outputs": [],
      "source": [
        "# вызов даунсэмплинга\n",
        "features_downsampled, target_downsampled = downsample(features_train, target_train, 0.25)"
      ]
    },
    {
      "cell_type": "code",
      "execution_count": null,
      "metadata": {
        "id": "Jsa4brJIv_NE"
      },
      "outputs": [],
      "source": [
        "# вызов апсэмплинга\n",
        "features_upsampled, target_upsampled = upsample(features_train, target_train, 4)"
      ]
    },
    {
      "cell_type": "markdown",
      "metadata": {
        "id": "TY4rZ74wv_NE"
      },
      "source": [
        "Обучающие выборки готовы. Приступим к обучению моделей."
      ]
    },
    {
      "cell_type": "markdown",
      "metadata": {
        "id": "I3quQUOzv_NF"
      },
      "source": [
        "### Логистическая регрессия (на сбалансированных данных)"
      ]
    },
    {
      "cell_type": "markdown",
      "metadata": {
        "id": "oedgXxviv_NF"
      },
      "source": [
        "Подготовим и обучим модель логистической регрессии:\n",
        "- на несбалансированных данных, путем взвешивания классов (добавим параметр class_weight='balanced')\n",
        "- на уменьшенной выборке (features_downsampled)\n",
        "- на увеличенной выборке (features_upsampled)\n",
        "\n",
        "Полученные результаты соберем в сводной таблице и сделаем вывод."
      ]
    },
    {
      "cell_type": "markdown",
      "metadata": {
        "id": "VKi1zRiHv_NF"
      },
      "source": [
        "#### Начнем с обучения модели на несбалансированных данных, путем взвешивания классов."
      ]
    },
    {
      "cell_type": "code",
      "execution_count": null,
      "metadata": {
        "id": "b8tXNTpEv_NF",
        "outputId": "40078293-4bcf-488d-863c-9b919dfb00d7"
      },
      "outputs": [
        {
          "name": "stdout",
          "output_type": "stream",
          "text": [
            "F1 score: 0.509731232622799\n",
            "ROC AUC score: 0.7165604861051031\n"
          ]
        }
      ],
      "source": [
        "model = LogisticRegression(random_state=12345, solver='liblinear', class_weight='balanced')\n",
        "model.fit(features_train, target_train)\n",
        "\n",
        "predicted_valid = model.predict(features_valid)\n",
        "\n",
        "print('F1 score:', f1_score(target_valid, predicted_valid))\n",
        "print('ROC AUC score:', roc_auc_score(target_valid, predicted_valid))"
      ]
    },
    {
      "cell_type": "markdown",
      "metadata": {
        "id": "Orq4_Ls_v_NG"
      },
      "source": [
        "#### Модель на уменьшенной выборке"
      ]
    },
    {
      "cell_type": "code",
      "execution_count": null,
      "metadata": {
        "id": "MQOvVD3Ev_NG",
        "outputId": "9e291857-77df-4de2-ea9f-65a010ccb09d"
      },
      "outputs": [
        {
          "name": "stdout",
          "output_type": "stream",
          "text": [
            "F1 score: 0.5044883303411131\n",
            "ROC AUC score: 0.7144555891594586\n"
          ]
        }
      ],
      "source": [
        "model = LogisticRegression(random_state=12345, solver='liblinear')\n",
        "model.fit(features_downsampled, target_downsampled)\n",
        "\n",
        "predicted_valid = model.predict(features_valid)\n",
        "\n",
        "print('F1 score:', f1_score(target_valid, predicted_valid))\n",
        "print('ROC AUC score:', roc_auc_score(target_valid, predicted_valid))"
      ]
    },
    {
      "cell_type": "markdown",
      "metadata": {
        "id": "wgNn811nv_NG"
      },
      "source": [
        "#### Модель на увеличенной выборке"
      ]
    },
    {
      "cell_type": "code",
      "execution_count": null,
      "metadata": {
        "id": "x-2gkUPMv_NG",
        "outputId": "031d56d7-9b09-4e66-ae61-1a0bebbeec1f"
      },
      "outputs": [
        {
          "name": "stdout",
          "output_type": "stream",
          "text": [
            "F1 score: 0.5085972850678734\n",
            "ROC AUC score: 0.7175784205265648\n"
          ]
        }
      ],
      "source": [
        "model = LogisticRegression(random_state=12345, solver='liblinear')\n",
        "model.fit(features_upsampled, target_upsampled)\n",
        "\n",
        "predicted_valid = model.predict(features_valid)\n",
        "\n",
        "print('F1 score:', f1_score(target_valid, predicted_valid))\n",
        "print('ROC AUC score:', roc_auc_score(target_valid, predicted_valid))"
      ]
    },
    {
      "cell_type": "code",
      "execution_count": null,
      "metadata": {
        "scrolled": true,
        "id": "toYxkM91v_NH",
        "outputId": "4e8dda73-605c-4c55-daf0-c1ab575da1b0"
      },
      "outputs": [
        {
          "data": {
            "text/html": [
              "<div>\n",
              "<style scoped>\n",
              "    .dataframe tbody tr th:only-of-type {\n",
              "        vertical-align: middle;\n",
              "    }\n",
              "\n",
              "    .dataframe tbody tr th {\n",
              "        vertical-align: top;\n",
              "    }\n",
              "\n",
              "    .dataframe thead th {\n",
              "        text-align: right;\n",
              "    }\n",
              "</style>\n",
              "<table border=\"1\" class=\"dataframe\">\n",
              "  <thead>\n",
              "    <tr style=\"text-align: right;\">\n",
              "      <th></th>\n",
              "      <th>F1</th>\n",
              "      <th>ROC-AUC</th>\n",
              "    </tr>\n",
              "  </thead>\n",
              "  <tbody>\n",
              "    <tr>\n",
              "      <th>Взвешивание классов</th>\n",
              "      <td>0.5097</td>\n",
              "      <td>0.7166</td>\n",
              "    </tr>\n",
              "    <tr>\n",
              "      <th>Даунсэмплинг</th>\n",
              "      <td>0.5045</td>\n",
              "      <td>0.7145</td>\n",
              "    </tr>\n",
              "    <tr>\n",
              "      <th>Апсэмплинг</th>\n",
              "      <td>0.5086</td>\n",
              "      <td>0.7176</td>\n",
              "    </tr>\n",
              "  </tbody>\n",
              "</table>\n",
              "</div>"
            ],
            "text/plain": [
              "                         F1  ROC-AUC\n",
              "Взвешивание классов  0.5097   0.7166\n",
              "Даунсэмплинг         0.5045   0.7145\n",
              "Апсэмплинг           0.5086   0.7176"
            ]
          },
          "execution_count": 63,
          "metadata": {},
          "output_type": "execute_result"
        }
      ],
      "source": [
        "results=[[0.5097,0.7166],[0.5045,0.7145],[0.5086,0.7176]]\n",
        "index=['Взвешивание классов','Даунсэмплинг','Апсэмплинг']\n",
        "res=pd.DataFrame(data=results,index=index, columns=['F1','ROC-AUC'])\n",
        "res"
      ]
    },
    {
      "cell_type": "markdown",
      "metadata": {
        "id": "Cg9NsJOWv_NH"
      },
      "source": [
        "**Вывод**\n",
        "\n",
        "Наилучший результат целевой метрики дала модель логистической регрессии на взвешенных классах: F1=0.5097. \n",
        "\n",
        "При этом лучшая метрика ROC_AUC достигается на увеличенной выборке: 0.7176"
      ]
    },
    {
      "cell_type": "markdown",
      "metadata": {
        "id": "766nNuDZv_NH"
      },
      "source": [
        "### Дерево решений (на сбалансированных данных)"
      ]
    },
    {
      "cell_type": "markdown",
      "metadata": {
        "id": "WPO5IDZ6v_NH"
      },
      "source": [
        "Подготовим и обучим модель \"дерево решений\":\n",
        "- на несбалансированных данных, путем взвешивания классов (добавим параметр class_weight='balanced')\n",
        "- на уменьшенной выборке (features_downsampled)\n",
        "- на увеличенной выборке (features_upsampled)\n",
        "\n",
        "Полученные результаты также соберем в сводной таблице и сделаем вывод."
      ]
    },
    {
      "cell_type": "markdown",
      "metadata": {
        "id": "sGh1NPmFv_NI"
      },
      "source": [
        "#### Начнем с обучения модели на несбалансированных данных, путем взвешивания классов."
      ]
    },
    {
      "cell_type": "code",
      "execution_count": null,
      "metadata": {
        "id": "_S4UCfcpv_NI",
        "outputId": "154fe16a-4d7f-42c6-9080-bd620c16d919"
      },
      "outputs": [
        {
          "name": "stdout",
          "output_type": "stream",
          "text": [
            "F1 score: 0.47248322147651006\n",
            "ROC AUC score: 0.6668013481648649\n"
          ]
        }
      ],
      "source": [
        "model_tree = DecisionTreeClassifier(random_state=12345, class_weight='balanced')\n",
        "model_tree.fit(features_train, target_train)\n",
        "\n",
        "predicted_valid = model_tree.predict(features_valid)\n",
        "print('F1 score:', f1_score(target_valid, predicted_valid))\n",
        "print('ROC AUC score:', roc_auc_score(target_valid, predicted_valid))"
      ]
    },
    {
      "cell_type": "markdown",
      "metadata": {
        "id": "LvJrGHvTv_NI"
      },
      "source": [
        "#### Модель на уменьшенной выборке"
      ]
    },
    {
      "cell_type": "code",
      "execution_count": null,
      "metadata": {
        "id": "AH8waB3Xv_NJ",
        "outputId": "39d915ef-fcd9-418e-912d-fa59fdd705eb"
      },
      "outputs": [
        {
          "name": "stdout",
          "output_type": "stream",
          "text": [
            "F1 score: 0.5076507650765076\n",
            "ROC AUC score: 0.7171697741584554\n"
          ]
        }
      ],
      "source": [
        "model_tree = DecisionTreeClassifier(random_state=12345)\n",
        "model_tree.fit(features_downsampled, target_downsampled)\n",
        "\n",
        "predicted_valid = model_tree.predict(features_valid)\n",
        "print('F1 score:', f1_score(target_valid, predicted_valid))\n",
        "print('ROC AUC score:', roc_auc_score(target_valid, predicted_valid))"
      ]
    },
    {
      "cell_type": "markdown",
      "metadata": {
        "id": "maVPG4wOv_NJ"
      },
      "source": [
        "#### Модель на увеличенной выборке"
      ]
    },
    {
      "cell_type": "code",
      "execution_count": null,
      "metadata": {
        "id": "lfORa1bwv_NJ",
        "outputId": "594bc8dd-6447-4f99-de80-e4f64e8a7a53"
      },
      "outputs": [
        {
          "name": "stdout",
          "output_type": "stream",
          "text": [
            "F1 score: 0.46195652173913043\n",
            "ROC AUC score: 0.6598847322722027\n"
          ]
        }
      ],
      "source": [
        "model_tree = DecisionTreeClassifier(random_state=12345)\n",
        "model_tree.fit(features_upsampled, target_upsampled)\n",
        "\n",
        "predicted_valid = model_tree.predict(features_valid)\n",
        "print('F1 score:', f1_score(target_valid, predicted_valid))\n",
        "print('ROC AUC score:', roc_auc_score(target_valid, predicted_valid))"
      ]
    },
    {
      "cell_type": "code",
      "execution_count": null,
      "metadata": {
        "scrolled": true,
        "id": "SKmC0Cptv_NJ",
        "outputId": "c0600a13-ebb9-404c-a3fb-3275aaa096f7"
      },
      "outputs": [
        {
          "data": {
            "text/html": [
              "<div>\n",
              "<style scoped>\n",
              "    .dataframe tbody tr th:only-of-type {\n",
              "        vertical-align: middle;\n",
              "    }\n",
              "\n",
              "    .dataframe tbody tr th {\n",
              "        vertical-align: top;\n",
              "    }\n",
              "\n",
              "    .dataframe thead th {\n",
              "        text-align: right;\n",
              "    }\n",
              "</style>\n",
              "<table border=\"1\" class=\"dataframe\">\n",
              "  <thead>\n",
              "    <tr style=\"text-align: right;\">\n",
              "      <th></th>\n",
              "      <th>F1</th>\n",
              "      <th>ROC-AUC</th>\n",
              "    </tr>\n",
              "  </thead>\n",
              "  <tbody>\n",
              "    <tr>\n",
              "      <th>Взвешивание классов</th>\n",
              "      <td>0.4735</td>\n",
              "      <td>0.6669</td>\n",
              "    </tr>\n",
              "    <tr>\n",
              "      <th>Даунсэмплинг</th>\n",
              "      <td>0.5077</td>\n",
              "      <td>0.7172</td>\n",
              "    </tr>\n",
              "    <tr>\n",
              "      <th>Апсэмплинг</th>\n",
              "      <td>0.4620</td>\n",
              "      <td>0.6599</td>\n",
              "    </tr>\n",
              "  </tbody>\n",
              "</table>\n",
              "</div>"
            ],
            "text/plain": [
              "                         F1  ROC-AUC\n",
              "Взвешивание классов  0.4735   0.6669\n",
              "Даунсэмплинг         0.5077   0.7172\n",
              "Апсэмплинг           0.4620   0.6599"
            ]
          },
          "execution_count": 67,
          "metadata": {},
          "output_type": "execute_result"
        }
      ],
      "source": [
        "results=[[0.4735,0.6669],[0.5077,0.7172],[0.4620,0.6599]]\n",
        "index=['Взвешивание классов','Даунсэмплинг','Апсэмплинг']\n",
        "res=pd.DataFrame(data=results,index=index, columns=['F1','ROC-AUC'])\n",
        "res"
      ]
    },
    {
      "cell_type": "markdown",
      "metadata": {
        "id": "14pkK-Ftv_NK"
      },
      "source": [
        "**Вывод**\n",
        "\n",
        "Наилучший результат целевой метрики дало \"решающее дерево\" на уменьшенной выборке: F1=0.5077. \n",
        "Лучшая метрика ROC_AUC также достигается на уменьшенной выборке: 0.7172"
      ]
    },
    {
      "cell_type": "markdown",
      "metadata": {
        "id": "9EYMwWbQv_NK"
      },
      "source": [
        "### Случайный лес (на сбалансированных данных)"
      ]
    },
    {
      "cell_type": "markdown",
      "metadata": {
        "id": "kNKDJRS4v_NK"
      },
      "source": [
        "Подготовим и обучим модель \"случайный лес\":\n",
        "- на несбалансированных данных, путем взвешивания классов (добавим параметр class_weight='balanced')\n",
        "- на уменьшенной выборке (features_downsampled)\n",
        "- на увеличенной выборке (features_upsampled)\n",
        "\n",
        "Полученные результаты также соберем в сводной таблице и сделаем вывод."
      ]
    },
    {
      "cell_type": "markdown",
      "metadata": {
        "id": "ewIl4IR_v_NK"
      },
      "source": [
        "#### Начнем с обучения модели на несбалансированных данных, путем взвешивания классов."
      ]
    },
    {
      "cell_type": "code",
      "execution_count": null,
      "metadata": {
        "scrolled": true,
        "id": "TvXFNDDqv_NL",
        "outputId": "164d496b-d2c2-403a-a1bd-292d8a7237e8"
      },
      "outputs": [
        {
          "name": "stdout",
          "output_type": "stream",
          "text": [
            "F1 score: 0.5757575757575758\n",
            "ROC AUC score: 0.7108293128298393\n"
          ]
        }
      ],
      "source": [
        "model_forest = RandomForestClassifier(random_state=12345, class_weight='balanced')\n",
        "model_forest.fit(features_train, target_train)\n",
        "\n",
        "predicted_valid = model_forest.predict(features_valid)\n",
        "print('F1 score:', f1_score(target_valid, predicted_valid))\n",
        "print('ROC AUC score:', roc_auc_score(target_valid, predicted_valid))"
      ]
    },
    {
      "cell_type": "markdown",
      "metadata": {
        "id": "wCRnrhFqv_NL"
      },
      "source": [
        "#### Модель на уменьшенной выборке"
      ]
    },
    {
      "cell_type": "code",
      "execution_count": null,
      "metadata": {
        "scrolled": true,
        "id": "XEijaBL7v_NL",
        "outputId": "8b5eaab8-4a78-43df-8c51-d815c1f6b03c"
      },
      "outputs": [
        {
          "name": "stdout",
          "output_type": "stream",
          "text": [
            "F1 score: 0.5878906250000001\n",
            "ROC AUC score: 0.7791487270297484\n"
          ]
        }
      ],
      "source": [
        "model_forest = RandomForestClassifier(random_state=12345)\n",
        "model_forest.fit(features_downsampled, target_downsampled)\n",
        "\n",
        "predicted_valid = model_forest.predict(features_valid)\n",
        "print('F1 score:', f1_score(target_valid, predicted_valid))\n",
        "print('ROC AUC score:', roc_auc_score(target_valid, predicted_valid))"
      ]
    },
    {
      "cell_type": "markdown",
      "metadata": {
        "id": "jEVvSUE1v_NL"
      },
      "source": [
        "#### Модель на увеличенной выборке"
      ]
    },
    {
      "cell_type": "code",
      "execution_count": null,
      "metadata": {
        "scrolled": true,
        "id": "mtf4tNwfv_NL",
        "outputId": "9d423fba-df37-4570-cc07-da8d0a9f406d"
      },
      "outputs": [
        {
          "name": "stdout",
          "output_type": "stream",
          "text": [
            "F1 score: 0.6088235294117647\n",
            "ROC AUC score: 0.7412256077694351\n"
          ]
        }
      ],
      "source": [
        "model_forest = RandomForestClassifier(random_state=12345)\n",
        "model_forest.fit(features_upsampled, target_upsampled)\n",
        "\n",
        "predicted_valid = model_forest.predict(features_valid)\n",
        "print('F1 score:', f1_score(target_valid, predicted_valid))\n",
        "print('ROC AUC score:', roc_auc_score(target_valid, predicted_valid))"
      ]
    },
    {
      "cell_type": "code",
      "execution_count": null,
      "metadata": {
        "scrolled": true,
        "id": "AAXqT2FQv_NM",
        "outputId": "196faf1c-4758-4ec7-f633-bf0c7bc36bc1"
      },
      "outputs": [
        {
          "data": {
            "text/html": [
              "<div>\n",
              "<style scoped>\n",
              "    .dataframe tbody tr th:only-of-type {\n",
              "        vertical-align: middle;\n",
              "    }\n",
              "\n",
              "    .dataframe tbody tr th {\n",
              "        vertical-align: top;\n",
              "    }\n",
              "\n",
              "    .dataframe thead th {\n",
              "        text-align: right;\n",
              "    }\n",
              "</style>\n",
              "<table border=\"1\" class=\"dataframe\">\n",
              "  <thead>\n",
              "    <tr style=\"text-align: right;\">\n",
              "      <th></th>\n",
              "      <th>F1</th>\n",
              "      <th>ROC-AUC</th>\n",
              "    </tr>\n",
              "  </thead>\n",
              "  <tbody>\n",
              "    <tr>\n",
              "      <th>Взвешивание классов</th>\n",
              "      <td>0.5338</td>\n",
              "      <td>0.6898</td>\n",
              "    </tr>\n",
              "    <tr>\n",
              "      <th>Даунсэмплинг</th>\n",
              "      <td>0.5905</td>\n",
              "      <td>0.7697</td>\n",
              "    </tr>\n",
              "    <tr>\n",
              "      <th>Апсэмплинг</th>\n",
              "      <td>0.5781</td>\n",
              "      <td>0.7244</td>\n",
              "    </tr>\n",
              "  </tbody>\n",
              "</table>\n",
              "</div>"
            ],
            "text/plain": [
              "                         F1  ROC-AUC\n",
              "Взвешивание классов  0.5338   0.6898\n",
              "Даунсэмплинг         0.5905   0.7697\n",
              "Апсэмплинг           0.5781   0.7244"
            ]
          },
          "execution_count": 71,
          "metadata": {},
          "output_type": "execute_result"
        }
      ],
      "source": [
        "results=[[0.5338,0.6898],[0.5905,0.7697],[0.5781,0.7244]]\n",
        "index=['Взвешивание классов','Даунсэмплинг','Апсэмплинг']\n",
        "res=pd.DataFrame(data=results,index=index, columns=['F1','ROC-AUC'])\n",
        "res"
      ]
    },
    {
      "cell_type": "markdown",
      "metadata": {
        "id": "n_JH0fgiv_NM"
      },
      "source": [
        "**Вывод**\n",
        "\n",
        "Наилучший результат целевой метрики дал \"случайный лес\" на уменьшенной выборке: F1=0.5905. \n",
        "Лучшая метрика ROC_AUC также достигается на уменьшенной выборке: 0.7697"
      ]
    },
    {
      "cell_type": "markdown",
      "metadata": {
        "id": "25ynbXXFv_NM"
      },
      "source": [
        "### Наилучшая модель \n",
        "\n",
        "__Наилучший результат__ после балансирования классов показала __модель \"случайный лес\" на уменьшенной выборке__. \n",
        "\n",
        "Получены следующие показатели:\n",
        "- F1-мера = 0.5905\n",
        "- ROC-AUC = 0.7697\n",
        "\n",
        "Именно эту модель целесообразно оптимизировать путем подбора гиперпараметров и в дальнейшем тестировать.\n",
        "\n",
        "Второй по качеству результат также показал \"случайный лес\", но на увеличенной выборке:\n",
        "- F1-мера = 0.5781\n",
        "- ROC-AUC = 0.7244\n",
        "\n",
        "В случае, если тест не даст удовлетворительный результат, можно будет использовать вторую по качеству модель.\n",
        "Приступим."
      ]
    },
    {
      "cell_type": "markdown",
      "metadata": {
        "id": "pW62gsy5v_NN"
      },
      "source": [
        "### Оптимизация лучшей модели"
      ]
    },
    {
      "cell_type": "code",
      "execution_count": null,
      "metadata": {
        "id": "tiKQHzoqv_NN"
      },
      "outputs": [],
      "source": [
        "# для сокращения времение проверки я в параметрах оставил только самые успешные \n",
        "# остальные для примера закомментированы в соответсвующих строках\n",
        "\n",
        "params = {\n",
        "    'n_estimators': [350], #list(range(100,500,50)),\n",
        "    'max_depth': [30], #list(range(20,50,10)),\n",
        "    'max_features': [4], #[3,4,5,6], #['auto', 'sqrt', 'log2']\n",
        "    'min_samples_leaf': [2], #range (1,3),\n",
        "    'min_samples_split': [2] #range (2,6,2)\n",
        "}"
      ]
    },
    {
      "cell_type": "markdown",
      "metadata": {
        "id": "QRDaAApJv_NN"
      },
      "source": [
        "Задаем модель для которой будут подбираться оптимальные параметры для достижения наилучшего показателя F1-меры."
      ]
    },
    {
      "cell_type": "code",
      "execution_count": null,
      "metadata": {
        "id": "8vxuhZzrv_NN"
      },
      "outputs": [],
      "source": [
        "#здесь я добавил парамаетр class_weight='balanced'\n",
        "rfc = RandomForestClassifier(random_state=12345, class_weight='balanced')"
      ]
    },
    {
      "cell_type": "code",
      "execution_count": null,
      "metadata": {
        "id": "L__aq7Hfv_NN"
      },
      "outputs": [],
      "source": [
        "clf = GridSearchCV(rfc, params, scoring='f1', cv=3, n_jobs=-1)"
      ]
    },
    {
      "cell_type": "markdown",
      "metadata": {
        "id": "PGvRIZhQv_NO"
      },
      "source": [
        "Запускаем подбор параметров"
      ]
    },
    {
      "cell_type": "code",
      "execution_count": null,
      "metadata": {
        "id": "8wUPDkh5v_NO",
        "outputId": "31c6ca78-7cab-4b53-cca2-0491d8459e54"
      },
      "outputs": [
        {
          "data": {
            "text/plain": [
              "GridSearchCV(cv=3,\n",
              "             estimator=RandomForestClassifier(class_weight='balanced',\n",
              "                                              random_state=12345),\n",
              "             n_jobs=-1,\n",
              "             param_grid={'max_depth': [30], 'max_features': [4],\n",
              "                         'min_samples_leaf': [2], 'min_samples_split': [2],\n",
              "                         'n_estimators': [350]},\n",
              "             scoring='f1')"
            ]
          },
          "execution_count": 75,
          "metadata": {},
          "output_type": "execute_result"
        }
      ],
      "source": [
        "clf.fit(features_train, target_train)"
      ]
    },
    {
      "cell_type": "code",
      "execution_count": null,
      "metadata": {
        "scrolled": true,
        "id": "V-JDNTkev_NO",
        "outputId": "518ab5ae-d026-4b77-ddea-da7416d24892"
      },
      "outputs": [
        {
          "data": {
            "text/plain": [
              "0.5890585286746277"
            ]
          },
          "execution_count": 76,
          "metadata": {},
          "output_type": "execute_result"
        }
      ],
      "source": [
        "clf.best_score_"
      ]
    },
    {
      "cell_type": "code",
      "execution_count": null,
      "metadata": {
        "scrolled": false,
        "id": "jASOQpsIv_NO",
        "outputId": "746ff507-8c2e-48ee-b90b-c4d681a5cdef"
      },
      "outputs": [
        {
          "data": {
            "text/plain": [
              "{'max_depth': 30,\n",
              " 'max_features': 4,\n",
              " 'min_samples_leaf': 2,\n",
              " 'min_samples_split': 2,\n",
              " 'n_estimators': 350}"
            ]
          },
          "execution_count": 77,
          "metadata": {},
          "output_type": "execute_result"
        }
      ],
      "source": [
        "clf.best_params_"
      ]
    },
    {
      "cell_type": "markdown",
      "metadata": {
        "id": "oT1n9Bu4v_NP"
      },
      "source": [
        "Далее, используя найденный оптимальный набор параметров, заново обучим модель и проверим её на валидацинных данных:"
      ]
    },
    {
      "cell_type": "code",
      "execution_count": null,
      "metadata": {
        "scrolled": false,
        "id": "ER1mYi1Lv_NP",
        "outputId": "7d8c3525-9c7f-4979-ee0d-80c7b175f88c"
      },
      "outputs": [
        {
          "name": "stdout",
          "output_type": "stream",
          "text": [
            "F1 score: 0.6305555555555555\n",
            "ROC AUC score: 0.7608111814481913\n"
          ]
        }
      ],
      "source": [
        "model_forest = RandomForestClassifier(random_state=12345,\n",
        "                                      max_depth=clf.best_params_['max_depth'], \n",
        "                                      n_estimators=clf.best_params_['n_estimators'], \n",
        "                                      max_features=clf.best_params_['max_features'], \n",
        "                                      min_samples_leaf=clf.best_params_['min_samples_leaf'],\n",
        "                                      min_samples_split=clf.best_params_['min_samples_split']) \n",
        "\n",
        "model_forest.fit(features_upsampled, target_upsampled)\n",
        "predicted_valid = model_forest.predict(features_valid)\n",
        "print('F1 score:', f1_score(target_valid, predicted_valid))\n",
        "print('ROC AUC score:', roc_auc_score(target_valid, predicted_valid))"
      ]
    },
    {
      "cell_type": "markdown",
      "metadata": {
        "id": "JivCKdAcv_NP"
      },
      "source": [
        "Оптимизированный \"случайный лес\" обученный на увеличенной выборке дал на валидационных данных приемлемый результат: \n",
        "- F1-мера = 0.6306\n",
        "- ROC-AUC = 0.7608\n",
        "\n",
        "Полученный результат, во-первых, превышает заданный проектом порог, во-вторых, позволяет рассчитывать на успешный тест."
      ]
    },
    {
      "cell_type": "markdown",
      "metadata": {
        "id": "RMqB90isv_NP"
      },
      "source": [
        "Итак. В качестве лучшей модели назначим модель \"случайный лес\" обученный на увеличенной выборке."
      ]
    },
    {
      "cell_type": "code",
      "execution_count": null,
      "metadata": {
        "id": "ZKtZmQYxv_NQ"
      },
      "outputs": [],
      "source": [
        "best_model = model_forest"
      ]
    },
    {
      "cell_type": "markdown",
      "metadata": {
        "id": "vuWPFV-gv_NQ"
      },
      "source": [
        "Далее протестируем обученную модель на тестовой выборке."
      ]
    },
    {
      "cell_type": "markdown",
      "metadata": {
        "id": "vB_3jPsyv_NQ"
      },
      "source": [
        "## Тестирование модели"
      ]
    },
    {
      "cell_type": "code",
      "execution_count": null,
      "metadata": {
        "id": "7_Y09XFlv_NQ",
        "outputId": "3dc2ca2b-e9c0-44c6-8043-6f586c09aba6"
      },
      "outputs": [
        {
          "name": "stdout",
          "output_type": "stream",
          "text": [
            "F1 score: 0.6153846153846154\n",
            "ROC AUC score: 0.7617113812617899\n"
          ]
        }
      ],
      "source": [
        "predicted_best = best_model.predict(features_test)\n",
        "print('F1 score:', f1_score(target_test, predicted_best))\n",
        "print('ROC AUC score:', roc_auc_score(target_test, predicted_best))"
      ]
    },
    {
      "cell_type": "code",
      "execution_count": null,
      "metadata": {
        "id": "2it8nmkwv_NQ"
      },
      "outputs": [],
      "source": [
        "probabilities = best_model.predict_proba(features_test)\n",
        "probabilities_one = probabilities[:, 1]"
      ]
    },
    {
      "cell_type": "code",
      "execution_count": null,
      "metadata": {
        "id": "QvUeoOGEv_NR",
        "outputId": "3feeccd7-6ca5-4301-bce5-226001745234"
      },
      "outputs": [
        {
          "data": {
            "image/png": "[encoded data removed]",
            "text/plain": [
              "<Figure size 432x288 with 1 Axes>"
            ]
          },
          "metadata": {
            "needs_background": "light"
          },
          "output_type": "display_data"
        }
      ],
      "source": [
        "fpr, tpr, thresholds = roc_curve(target_test, probabilities_one)\n",
        "plt.figure()\n",
        "plt.plot(fpr, tpr)\n",
        "plt.xlim([0.0, 1.0])\n",
        "plt.ylim([0.0, 1.0])\n",
        "plt.xlabel('False Positive Rate')\n",
        "plt.ylabel('True Positive Rate')\n",
        "plt.title('ROC-кривая')\n",
        "plt.show()"
      ]
    },
    {
      "cell_type": "markdown",
      "metadata": {
        "id": "u6ooXFHCv_NR"
      },
      "source": [
        "## Вывод"
      ]
    },
    {
      "cell_type": "markdown",
      "metadata": {
        "id": "Im7gU96iv_NR"
      },
      "source": [
        "По результатам теста оптимизированная модель \"случайный лес\", обученная на увеличенной (сбалансированной) выборке показала следующие результаты:\n",
        "- F1-мера = 0.6154 > 0,59 \n",
        "- ROC-AUC = 0.7617\n",
        "\n",
        "Таким образом, цель проекта достигнута."
      ]
    },
    {
      "cell_type": "code",
      "execution_count": null,
      "metadata": {
        "id": "3VVoRozsv_NR",
        "outputId": "cc88053c-62a3-46aa-d86e-08a9455b9d58"
      },
      "outputs": [
        {
          "name": "stdout",
          "output_type": "stream",
          "text": [
            "Спасибо за внимание!\n"
          ]
        }
      ],
      "source": [
        "print(\"Спасибо за внимание!\")"
      ]
    }
  ],
  "metadata": {
    "ExecuteTimeLog": [
      {
        "duration": 1057,
        "start_time": "2021-12-29T17:16:19.174Z"
      },
      {
        "duration": 1555,
        "start_time": "2021-12-29T17:16:22.663Z"
      },
      {
        "duration": 4800,
        "start_time": "2021-12-29T17:16:24.901Z"
      },
      {
        "duration": 5046,
        "start_time": "2021-12-29T17:21:12.647Z"
      },
      {
        "duration": 987,
        "start_time": "2021-12-29T17:24:41.526Z"
      },
      {
        "duration": 801,
        "start_time": "2021-12-29T17:26:50.786Z"
      },
      {
        "duration": 4485,
        "start_time": "2021-12-29T17:27:13.663Z"
      },
      {
        "duration": 869,
        "start_time": "2021-12-30T07:08:21.707Z"
      },
      {
        "duration": 1561,
        "start_time": "2021-12-30T07:08:24.144Z"
      },
      {
        "duration": 5720,
        "start_time": "2021-12-30T07:08:25.707Z"
      },
      {
        "duration": 5606,
        "start_time": "2021-12-30T07:09:05.977Z"
      },
      {
        "duration": 6692,
        "start_time": "2021-12-30T07:10:00.397Z"
      },
      {
        "duration": 10533,
        "start_time": "2021-12-30T07:10:15.885Z"
      },
      {
        "duration": 138,
        "start_time": "2021-12-30T07:10:47.981Z"
      },
      {
        "duration": 5705,
        "start_time": "2021-12-30T07:11:02.727Z"
      },
      {
        "duration": 6198,
        "start_time": "2021-12-30T07:11:21.985Z"
      },
      {
        "duration": 5787,
        "start_time": "2021-12-30T07:11:57.347Z"
      },
      {
        "duration": 265,
        "start_time": "2021-12-30T07:12:15.530Z"
      },
      {
        "duration": -137,
        "start_time": "2021-12-30T07:12:29.398Z"
      },
      {
        "duration": 5792,
        "start_time": "2021-12-30T07:12:39.105Z"
      },
      {
        "duration": 6053,
        "start_time": "2021-12-30T07:13:47.948Z"
      },
      {
        "duration": -169,
        "start_time": "2021-12-30T07:14:02.188Z"
      },
      {
        "duration": 56,
        "start_time": "2021-12-30T07:14:05.459Z"
      },
      {
        "duration": 50,
        "start_time": "2021-12-30T07:14:15.212Z"
      },
      {
        "duration": 13,
        "start_time": "2021-12-30T07:33:21.060Z"
      },
      {
        "duration": 11,
        "start_time": "2021-12-30T07:38:21.048Z"
      },
      {
        "duration": 442,
        "start_time": "2021-12-30T07:44:23.684Z"
      },
      {
        "duration": 14,
        "start_time": "2021-12-30T07:44:53.246Z"
      },
      {
        "duration": 11,
        "start_time": "2021-12-30T07:48:18.834Z"
      },
      {
        "duration": 8,
        "start_time": "2021-12-30T07:56:45.007Z"
      },
      {
        "duration": 6,
        "start_time": "2021-12-30T07:57:58.926Z"
      },
      {
        "duration": 6,
        "start_time": "2021-12-30T07:58:14.689Z"
      },
      {
        "duration": 8,
        "start_time": "2021-12-30T07:58:21.158Z"
      },
      {
        "duration": 9,
        "start_time": "2021-12-30T07:58:57.308Z"
      },
      {
        "duration": 7,
        "start_time": "2021-12-30T08:00:31.108Z"
      },
      {
        "duration": 287,
        "start_time": "2021-12-30T08:09:07.548Z"
      },
      {
        "duration": 274,
        "start_time": "2021-12-30T08:11:46.866Z"
      },
      {
        "duration": 468,
        "start_time": "2022-01-02T06:40:31.510Z"
      },
      {
        "duration": 276,
        "start_time": "2022-01-02T06:43:24.273Z"
      },
      {
        "duration": 1925,
        "start_time": "2022-01-02T06:43:30.109Z"
      },
      {
        "duration": -1279,
        "start_time": "2022-01-02T06:43:33.316Z"
      },
      {
        "duration": 292,
        "start_time": "2022-01-02T06:43:52.954Z"
      },
      {
        "duration": 279,
        "start_time": "2022-01-02T06:43:58.382Z"
      },
      {
        "duration": 7,
        "start_time": "2022-01-02T06:44:18.359Z"
      },
      {
        "duration": 52,
        "start_time": "2022-01-02T06:44:19.781Z"
      },
      {
        "duration": 4,
        "start_time": "2022-01-02T06:44:25.933Z"
      },
      {
        "duration": 18,
        "start_time": "2022-01-02T06:44:27.481Z"
      },
      {
        "duration": 7495,
        "start_time": "2022-01-02T06:46:01.420Z"
      },
      {
        "duration": 6,
        "start_time": "2022-01-02T06:46:12.201Z"
      },
      {
        "duration": 6,
        "start_time": "2022-01-02T06:46:14.189Z"
      },
      {
        "duration": 7789,
        "start_time": "2022-01-02T06:46:19.300Z"
      },
      {
        "duration": -1328,
        "start_time": "2022-01-02T06:46:28.419Z"
      },
      {
        "duration": 10,
        "start_time": "2022-01-02T06:46:33.412Z"
      },
      {
        "duration": 13,
        "start_time": "2022-01-02T06:46:36.713Z"
      },
      {
        "duration": 6,
        "start_time": "2022-01-02T06:46:48.470Z"
      },
      {
        "duration": 7,
        "start_time": "2022-01-02T06:46:48.940Z"
      },
      {
        "duration": 6982,
        "start_time": "2022-01-02T06:46:49.722Z"
      },
      {
        "duration": 298,
        "start_time": "2022-01-02T06:47:01.125Z"
      },
      {
        "duration": 287,
        "start_time": "2022-01-02T06:47:05.508Z"
      },
      {
        "duration": 7,
        "start_time": "2022-01-02T06:47:18.028Z"
      },
      {
        "duration": 10,
        "start_time": "2022-01-02T06:47:43.171Z"
      },
      {
        "duration": 9,
        "start_time": "2022-01-02T06:48:27.880Z"
      },
      {
        "duration": 6,
        "start_time": "2022-01-02T07:16:12.285Z"
      },
      {
        "duration": 6,
        "start_time": "2022-01-02T07:19:18.913Z"
      },
      {
        "duration": 5,
        "start_time": "2022-01-02T07:19:19.862Z"
      },
      {
        "duration": 12,
        "start_time": "2022-01-02T07:19:35.214Z"
      },
      {
        "duration": 7,
        "start_time": "2022-01-02T07:20:20.190Z"
      },
      {
        "duration": 48,
        "start_time": "2022-01-02T07:20:20.732Z"
      },
      {
        "duration": 4,
        "start_time": "2022-01-02T07:20:25.767Z"
      },
      {
        "duration": 5,
        "start_time": "2022-01-02T07:20:26.233Z"
      },
      {
        "duration": 7,
        "start_time": "2022-01-02T07:20:26.794Z"
      },
      {
        "duration": 12,
        "start_time": "2022-01-02T07:20:29.143Z"
      },
      {
        "duration": 9,
        "start_time": "2022-01-02T07:24:16.814Z"
      },
      {
        "duration": 5,
        "start_time": "2022-01-02T07:24:17.664Z"
      },
      {
        "duration": 277,
        "start_time": "2022-01-02T07:24:19.842Z"
      },
      {
        "duration": 277,
        "start_time": "2022-01-02T07:24:20.522Z"
      },
      {
        "duration": 10,
        "start_time": "2022-01-02T07:32:10.041Z"
      },
      {
        "duration": 9,
        "start_time": "2022-01-02T07:32:10.962Z"
      },
      {
        "duration": 7,
        "start_time": "2022-01-02T07:32:11.883Z"
      },
      {
        "duration": 5,
        "start_time": "2022-01-02T07:32:12.692Z"
      },
      {
        "duration": 5,
        "start_time": "2022-01-02T07:32:15.832Z"
      },
      {
        "duration": 5,
        "start_time": "2022-01-02T07:32:16.500Z"
      },
      {
        "duration": 5,
        "start_time": "2022-01-02T07:32:17.229Z"
      },
      {
        "duration": 4,
        "start_time": "2022-01-02T07:32:17.692Z"
      },
      {
        "duration": 93,
        "start_time": "2022-01-02T07:33:45.881Z"
      },
      {
        "duration": 7,
        "start_time": "2022-01-02T07:44:25.818Z"
      },
      {
        "duration": 89,
        "start_time": "2022-01-02T07:47:16.621Z"
      },
      {
        "duration": 224,
        "start_time": "2022-01-02T07:47:26.538Z"
      },
      {
        "duration": 230,
        "start_time": "2022-01-02T07:48:39.400Z"
      },
      {
        "duration": 300,
        "start_time": "2022-01-02T07:48:54.979Z"
      },
      {
        "duration": 226,
        "start_time": "2022-01-02T07:49:11.930Z"
      },
      {
        "duration": 1628,
        "start_time": "2022-01-02T07:59:45.755Z"
      },
      {
        "duration": 54,
        "start_time": "2022-01-02T07:59:47.386Z"
      },
      {
        "duration": 4,
        "start_time": "2022-01-02T07:59:47.443Z"
      },
      {
        "duration": 16,
        "start_time": "2022-01-02T07:59:47.449Z"
      },
      {
        "duration": 30,
        "start_time": "2022-01-02T07:59:47.468Z"
      },
      {
        "duration": 10,
        "start_time": "2022-01-02T07:59:47.501Z"
      },
      {
        "duration": 13,
        "start_time": "2022-01-02T07:59:47.517Z"
      },
      {
        "duration": 13,
        "start_time": "2022-01-02T07:59:47.532Z"
      },
      {
        "duration": 6,
        "start_time": "2022-01-02T07:59:47.549Z"
      },
      {
        "duration": 325,
        "start_time": "2022-01-02T07:59:47.557Z"
      },
      {
        "duration": 297,
        "start_time": "2022-01-02T07:59:47.885Z"
      },
      {
        "duration": 8,
        "start_time": "2022-01-02T07:59:48.185Z"
      },
      {
        "duration": 275,
        "start_time": "2022-01-02T07:59:48.196Z"
      },
      {
        "duration": 3,
        "start_time": "2022-01-02T07:59:48.474Z"
      },
      {
        "duration": 11,
        "start_time": "2022-01-02T07:59:48.479Z"
      },
      {
        "duration": 25,
        "start_time": "2022-01-02T07:59:48.493Z"
      },
      {
        "duration": 12,
        "start_time": "2022-01-02T07:59:48.521Z"
      },
      {
        "duration": 9,
        "start_time": "2022-01-02T07:59:48.535Z"
      },
      {
        "duration": 5,
        "start_time": "2022-01-02T07:59:48.547Z"
      },
      {
        "duration": 7,
        "start_time": "2022-01-02T07:59:48.555Z"
      },
      {
        "duration": 5,
        "start_time": "2022-01-02T07:59:48.564Z"
      },
      {
        "duration": 5,
        "start_time": "2022-01-02T07:59:48.618Z"
      },
      {
        "duration": 6,
        "start_time": "2022-01-02T07:59:48.625Z"
      },
      {
        "duration": 7,
        "start_time": "2022-01-02T07:59:48.633Z"
      },
      {
        "duration": 4,
        "start_time": "2022-01-02T08:00:11.506Z"
      },
      {
        "duration": 1604,
        "start_time": "2022-01-03T09:47:51.881Z"
      },
      {
        "duration": 57,
        "start_time": "2022-01-03T09:47:53.487Z"
      },
      {
        "duration": 7,
        "start_time": "2022-01-03T09:47:53.547Z"
      },
      {
        "duration": 6,
        "start_time": "2022-01-03T09:47:53.558Z"
      },
      {
        "duration": 12,
        "start_time": "2022-01-03T09:47:53.566Z"
      },
      {
        "duration": 44,
        "start_time": "2022-01-03T09:47:53.580Z"
      },
      {
        "duration": 14,
        "start_time": "2022-01-03T09:47:53.627Z"
      },
      {
        "duration": 6,
        "start_time": "2022-01-03T09:47:53.643Z"
      },
      {
        "duration": 8,
        "start_time": "2022-01-03T09:47:53.654Z"
      },
      {
        "duration": 340,
        "start_time": "2022-01-03T09:47:53.666Z"
      },
      {
        "duration": 321,
        "start_time": "2022-01-03T09:47:54.008Z"
      },
      {
        "duration": 11,
        "start_time": "2022-01-03T09:47:54.332Z"
      },
      {
        "duration": 276,
        "start_time": "2022-01-03T09:47:54.345Z"
      },
      {
        "duration": 3,
        "start_time": "2022-01-03T09:47:54.624Z"
      },
      {
        "duration": 13,
        "start_time": "2022-01-03T09:47:54.630Z"
      },
      {
        "duration": 6,
        "start_time": "2022-01-03T09:47:54.645Z"
      },
      {
        "duration": 15,
        "start_time": "2022-01-03T09:47:54.653Z"
      },
      {
        "duration": 7,
        "start_time": "2022-01-03T09:47:54.670Z"
      },
      {
        "duration": 52,
        "start_time": "2022-01-03T09:47:54.679Z"
      },
      {
        "duration": 8,
        "start_time": "2022-01-03T09:47:54.734Z"
      },
      {
        "duration": 5,
        "start_time": "2022-01-03T09:47:54.745Z"
      },
      {
        "duration": 13,
        "start_time": "2022-01-03T09:47:54.753Z"
      },
      {
        "duration": 13,
        "start_time": "2022-01-03T09:47:54.769Z"
      },
      {
        "duration": 37,
        "start_time": "2022-01-03T09:47:54.785Z"
      },
      {
        "duration": 467,
        "start_time": "2022-01-03T09:47:54.824Z"
      },
      {
        "duration": -25,
        "start_time": "2022-01-03T09:47:55.320Z"
      },
      {
        "duration": 7,
        "start_time": "2022-01-03T09:48:41.577Z"
      },
      {
        "duration": 52,
        "start_time": "2022-01-03T09:48:45.607Z"
      },
      {
        "duration": 4,
        "start_time": "2022-01-03T09:48:47.447Z"
      },
      {
        "duration": 7,
        "start_time": "2022-01-03T09:48:47.623Z"
      },
      {
        "duration": 12,
        "start_time": "2022-01-03T09:48:47.983Z"
      },
      {
        "duration": 10,
        "start_time": "2022-01-03T09:48:48.680Z"
      },
      {
        "duration": 14,
        "start_time": "2022-01-03T09:48:48.845Z"
      },
      {
        "duration": 7,
        "start_time": "2022-01-03T09:48:49.716Z"
      },
      {
        "duration": 7,
        "start_time": "2022-01-03T09:48:50.053Z"
      },
      {
        "duration": 296,
        "start_time": "2022-01-03T09:48:50.395Z"
      },
      {
        "duration": 382,
        "start_time": "2022-01-03T09:48:50.779Z"
      },
      {
        "duration": 9,
        "start_time": "2022-01-03T09:48:51.745Z"
      },
      {
        "duration": 248,
        "start_time": "2022-01-03T09:48:51.975Z"
      },
      {
        "duration": 3,
        "start_time": "2022-01-03T09:48:52.922Z"
      },
      {
        "duration": 9,
        "start_time": "2022-01-03T09:48:53.195Z"
      },
      {
        "duration": 6,
        "start_time": "2022-01-03T09:48:53.515Z"
      },
      {
        "duration": 9,
        "start_time": "2022-01-03T09:48:54.075Z"
      },
      {
        "duration": 8,
        "start_time": "2022-01-03T09:48:54.495Z"
      },
      {
        "duration": 5,
        "start_time": "2022-01-03T09:48:54.907Z"
      },
      {
        "duration": 6,
        "start_time": "2022-01-03T09:48:56.878Z"
      },
      {
        "duration": 4,
        "start_time": "2022-01-03T09:48:57.371Z"
      },
      {
        "duration": 5,
        "start_time": "2022-01-03T09:48:57.877Z"
      },
      {
        "duration": 5,
        "start_time": "2022-01-03T09:48:58.304Z"
      },
      {
        "duration": 5,
        "start_time": "2022-01-03T09:48:59.250Z"
      },
      {
        "duration": 294,
        "start_time": "2022-01-03T09:48:59.822Z"
      },
      {
        "duration": 5,
        "start_time": "2022-01-03T09:52:09.758Z"
      },
      {
        "duration": 4,
        "start_time": "2022-01-03T09:52:40.582Z"
      },
      {
        "duration": 1588,
        "start_time": "2022-01-03T09:54:29.966Z"
      },
      {
        "duration": 55,
        "start_time": "2022-01-03T09:54:31.557Z"
      },
      {
        "duration": 6,
        "start_time": "2022-01-03T09:54:31.615Z"
      },
      {
        "duration": 10,
        "start_time": "2022-01-03T09:54:31.624Z"
      },
      {
        "duration": 14,
        "start_time": "2022-01-03T09:54:31.636Z"
      },
      {
        "duration": 13,
        "start_time": "2022-01-03T09:54:31.653Z"
      },
      {
        "duration": 58,
        "start_time": "2022-01-03T09:54:31.669Z"
      },
      {
        "duration": 8,
        "start_time": "2022-01-03T09:54:31.729Z"
      },
      {
        "duration": 6,
        "start_time": "2022-01-03T09:54:31.743Z"
      },
      {
        "duration": 327,
        "start_time": "2022-01-03T09:54:31.752Z"
      },
      {
        "duration": 308,
        "start_time": "2022-01-03T09:54:32.081Z"
      },
      {
        "duration": 25,
        "start_time": "2022-01-03T09:54:32.392Z"
      },
      {
        "duration": 256,
        "start_time": "2022-01-03T09:54:32.426Z"
      },
      {
        "duration": 3,
        "start_time": "2022-01-03T09:54:32.685Z"
      },
      {
        "duration": 7,
        "start_time": "2022-01-03T09:54:32.690Z"
      },
      {
        "duration": 27,
        "start_time": "2022-01-03T09:54:32.699Z"
      },
      {
        "duration": 6,
        "start_time": "2022-01-03T09:54:32.729Z"
      },
      {
        "duration": 9,
        "start_time": "2022-01-03T09:54:32.737Z"
      },
      {
        "duration": 8,
        "start_time": "2022-01-03T09:54:32.748Z"
      },
      {
        "duration": 6,
        "start_time": "2022-01-03T09:54:32.759Z"
      },
      {
        "duration": 6,
        "start_time": "2022-01-03T09:54:32.767Z"
      },
      {
        "duration": 9,
        "start_time": "2022-01-03T09:54:32.818Z"
      },
      {
        "duration": 7,
        "start_time": "2022-01-03T09:54:32.829Z"
      },
      {
        "duration": 5,
        "start_time": "2022-01-03T09:54:32.838Z"
      },
      {
        "duration": 8,
        "start_time": "2022-01-03T09:54:32.846Z"
      },
      {
        "duration": 420,
        "start_time": "2022-01-03T09:54:32.856Z"
      },
      {
        "duration": -34,
        "start_time": "2022-01-03T09:54:33.312Z"
      },
      {
        "duration": 19,
        "start_time": "2022-01-03T09:58:43.323Z"
      },
      {
        "duration": 6,
        "start_time": "2022-01-03T10:00:11.561Z"
      },
      {
        "duration": 359,
        "start_time": "2022-01-03T10:01:35.433Z"
      },
      {
        "duration": 6,
        "start_time": "2022-01-03T10:02:14.642Z"
      },
      {
        "duration": 16,
        "start_time": "2022-01-03T10:02:15.186Z"
      },
      {
        "duration": 10,
        "start_time": "2022-01-03T10:02:19.523Z"
      },
      {
        "duration": 290,
        "start_time": "2022-01-03T10:02:55.593Z"
      },
      {
        "duration": 6,
        "start_time": "2022-01-03T10:03:06.661Z"
      },
      {
        "duration": 19,
        "start_time": "2022-01-03T10:03:07.324Z"
      },
      {
        "duration": 1946,
        "start_time": "2022-01-03T10:03:27.872Z"
      },
      {
        "duration": 54,
        "start_time": "2022-01-03T10:03:29.822Z"
      },
      {
        "duration": 4,
        "start_time": "2022-01-03T10:03:29.879Z"
      },
      {
        "duration": 12,
        "start_time": "2022-01-03T10:03:29.886Z"
      },
      {
        "duration": 28,
        "start_time": "2022-01-03T10:03:29.900Z"
      },
      {
        "duration": 23,
        "start_time": "2022-01-03T10:03:29.931Z"
      },
      {
        "duration": 14,
        "start_time": "2022-01-03T10:03:29.956Z"
      },
      {
        "duration": 7,
        "start_time": "2022-01-03T10:03:29.972Z"
      },
      {
        "duration": 7,
        "start_time": "2022-01-03T10:03:30.016Z"
      },
      {
        "duration": 329,
        "start_time": "2022-01-03T10:03:30.027Z"
      },
      {
        "duration": 314,
        "start_time": "2022-01-03T10:03:30.358Z"
      },
      {
        "duration": 9,
        "start_time": "2022-01-03T10:03:30.675Z"
      },
      {
        "duration": 270,
        "start_time": "2022-01-03T10:03:30.687Z"
      },
      {
        "duration": 3,
        "start_time": "2022-01-03T10:03:30.960Z"
      },
      {
        "duration": 17,
        "start_time": "2022-01-03T10:03:30.965Z"
      },
      {
        "duration": 17,
        "start_time": "2022-01-03T10:03:30.984Z"
      },
      {
        "duration": 33,
        "start_time": "2022-01-03T10:03:31.003Z"
      },
      {
        "duration": 465,
        "start_time": "2022-01-03T10:03:31.038Z"
      },
      {
        "duration": -28,
        "start_time": "2022-01-03T10:03:31.534Z"
      },
      {
        "duration": -64,
        "start_time": "2022-01-03T10:03:31.571Z"
      },
      {
        "duration": -66,
        "start_time": "2022-01-03T10:03:31.576Z"
      },
      {
        "duration": -66,
        "start_time": "2022-01-03T10:03:31.577Z"
      },
      {
        "duration": -66,
        "start_time": "2022-01-03T10:03:31.579Z"
      },
      {
        "duration": -66,
        "start_time": "2022-01-03T10:03:31.580Z"
      },
      {
        "duration": -65,
        "start_time": "2022-01-03T10:03:31.581Z"
      },
      {
        "duration": -65,
        "start_time": "2022-01-03T10:03:31.583Z"
      },
      {
        "duration": -64,
        "start_time": "2022-01-03T10:03:31.584Z"
      },
      {
        "duration": -64,
        "start_time": "2022-01-03T10:03:31.586Z"
      },
      {
        "duration": -65,
        "start_time": "2022-01-03T10:03:31.588Z"
      },
      {
        "duration": -65,
        "start_time": "2022-01-03T10:03:31.589Z"
      },
      {
        "duration": -65,
        "start_time": "2022-01-03T10:03:31.591Z"
      },
      {
        "duration": -64,
        "start_time": "2022-01-03T10:03:31.592Z"
      },
      {
        "duration": 319,
        "start_time": "2022-01-03T10:05:18.126Z"
      },
      {
        "duration": 6,
        "start_time": "2022-01-03T10:06:03.695Z"
      },
      {
        "duration": 17,
        "start_time": "2022-01-03T10:06:07.000Z"
      },
      {
        "duration": 6,
        "start_time": "2022-01-03T10:08:52.725Z"
      },
      {
        "duration": 292,
        "start_time": "2022-01-03T10:08:53.665Z"
      },
      {
        "duration": 1741,
        "start_time": "2022-01-03T10:09:03.181Z"
      },
      {
        "duration": 106,
        "start_time": "2022-01-03T10:09:04.926Z"
      },
      {
        "duration": 5,
        "start_time": "2022-01-03T10:09:05.035Z"
      },
      {
        "duration": 9,
        "start_time": "2022-01-03T10:09:05.043Z"
      },
      {
        "duration": 65,
        "start_time": "2022-01-03T10:09:05.055Z"
      },
      {
        "duration": 15,
        "start_time": "2022-01-03T10:09:05.123Z"
      },
      {
        "duration": 13,
        "start_time": "2022-01-03T10:09:05.141Z"
      },
      {
        "duration": 68,
        "start_time": "2022-01-03T10:09:05.156Z"
      },
      {
        "duration": 7,
        "start_time": "2022-01-03T10:09:05.230Z"
      },
      {
        "duration": 611,
        "start_time": "2022-01-03T10:09:05.241Z"
      },
      {
        "duration": 310,
        "start_time": "2022-01-03T10:09:05.855Z"
      },
      {
        "duration": 9,
        "start_time": "2022-01-03T10:09:06.167Z"
      },
      {
        "duration": 264,
        "start_time": "2022-01-03T10:09:06.179Z"
      },
      {
        "duration": 3,
        "start_time": "2022-01-03T10:09:06.445Z"
      },
      {
        "duration": 10,
        "start_time": "2022-01-03T10:09:06.450Z"
      },
      {
        "duration": 8,
        "start_time": "2022-01-03T10:09:06.462Z"
      },
      {
        "duration": 6,
        "start_time": "2022-01-03T10:09:06.472Z"
      },
      {
        "duration": 5,
        "start_time": "2022-01-03T10:09:06.480Z"
      },
      {
        "duration": 476,
        "start_time": "2022-01-03T10:09:06.487Z"
      },
      {
        "duration": -33,
        "start_time": "2022-01-03T10:09:06.998Z"
      },
      {
        "duration": -35,
        "start_time": "2022-01-03T10:09:07.002Z"
      },
      {
        "duration": -35,
        "start_time": "2022-01-03T10:09:07.003Z"
      },
      {
        "duration": -36,
        "start_time": "2022-01-03T10:09:07.005Z"
      },
      {
        "duration": -35,
        "start_time": "2022-01-03T10:09:07.006Z"
      },
      {
        "duration": -35,
        "start_time": "2022-01-03T10:09:07.007Z"
      },
      {
        "duration": -36,
        "start_time": "2022-01-03T10:09:07.009Z"
      },
      {
        "duration": -38,
        "start_time": "2022-01-03T10:09:07.013Z"
      },
      {
        "duration": -39,
        "start_time": "2022-01-03T10:09:07.015Z"
      },
      {
        "duration": -39,
        "start_time": "2022-01-03T10:09:07.017Z"
      },
      {
        "duration": -41,
        "start_time": "2022-01-03T10:09:07.020Z"
      },
      {
        "duration": -41,
        "start_time": "2022-01-03T10:09:07.021Z"
      },
      {
        "duration": -40,
        "start_time": "2022-01-03T10:09:07.022Z"
      },
      {
        "duration": -41,
        "start_time": "2022-01-03T10:09:07.024Z"
      },
      {
        "duration": 20,
        "start_time": "2022-01-03T10:09:18.505Z"
      },
      {
        "duration": 3,
        "start_time": "2022-01-03T10:09:48.373Z"
      },
      {
        "duration": 3,
        "start_time": "2022-01-03T10:09:49.738Z"
      },
      {
        "duration": 288,
        "start_time": "2022-01-03T10:09:50.703Z"
      },
      {
        "duration": 1590,
        "start_time": "2022-01-03T10:10:25.112Z"
      },
      {
        "duration": 59,
        "start_time": "2022-01-03T10:10:26.705Z"
      },
      {
        "duration": 4,
        "start_time": "2022-01-03T10:10:26.766Z"
      },
      {
        "duration": 7,
        "start_time": "2022-01-03T10:10:26.773Z"
      },
      {
        "duration": 44,
        "start_time": "2022-01-03T10:10:26.782Z"
      },
      {
        "duration": 14,
        "start_time": "2022-01-03T10:10:26.830Z"
      },
      {
        "duration": 14,
        "start_time": "2022-01-03T10:10:26.846Z"
      },
      {
        "duration": 15,
        "start_time": "2022-01-03T10:10:26.863Z"
      },
      {
        "duration": 39,
        "start_time": "2022-01-03T10:10:26.882Z"
      },
      {
        "duration": 727,
        "start_time": "2022-01-03T10:10:26.925Z"
      },
      {
        "duration": 669,
        "start_time": "2022-01-03T10:10:27.655Z"
      },
      {
        "duration": 18,
        "start_time": "2022-01-03T10:10:28.333Z"
      },
      {
        "duration": 262,
        "start_time": "2022-01-03T10:10:28.355Z"
      },
      {
        "duration": 3,
        "start_time": "2022-01-03T10:10:28.620Z"
      },
      {
        "duration": 6,
        "start_time": "2022-01-03T10:10:28.627Z"
      },
      {
        "duration": 6,
        "start_time": "2022-01-03T10:10:28.637Z"
      },
      {
        "duration": 11,
        "start_time": "2022-01-03T10:10:28.645Z"
      },
      {
        "duration": 7,
        "start_time": "2022-01-03T10:10:28.658Z"
      },
      {
        "duration": 6,
        "start_time": "2022-01-03T10:10:28.667Z"
      },
      {
        "duration": 426,
        "start_time": "2022-01-03T10:10:28.675Z"
      },
      {
        "duration": -24,
        "start_time": "2022-01-03T10:10:29.127Z"
      },
      {
        "duration": -23,
        "start_time": "2022-01-03T10:10:29.128Z"
      },
      {
        "duration": -24,
        "start_time": "2022-01-03T10:10:29.130Z"
      },
      {
        "duration": -23,
        "start_time": "2022-01-03T10:10:29.132Z"
      },
      {
        "duration": -27,
        "start_time": "2022-01-03T10:10:29.138Z"
      },
      {
        "duration": -27,
        "start_time": "2022-01-03T10:10:29.140Z"
      },
      {
        "duration": -27,
        "start_time": "2022-01-03T10:10:29.142Z"
      },
      {
        "duration": -31,
        "start_time": "2022-01-03T10:10:29.148Z"
      },
      {
        "duration": -32,
        "start_time": "2022-01-03T10:10:29.151Z"
      },
      {
        "duration": -37,
        "start_time": "2022-01-03T10:10:29.157Z"
      },
      {
        "duration": -38,
        "start_time": "2022-01-03T10:10:29.159Z"
      },
      {
        "duration": -38,
        "start_time": "2022-01-03T10:10:29.161Z"
      },
      {
        "duration": -37,
        "start_time": "2022-01-03T10:10:29.162Z"
      },
      {
        "duration": 1520,
        "start_time": "2022-01-03T10:12:23.271Z"
      },
      {
        "duration": 60,
        "start_time": "2022-01-03T10:12:24.793Z"
      },
      {
        "duration": 4,
        "start_time": "2022-01-03T10:12:24.857Z"
      },
      {
        "duration": 6,
        "start_time": "2022-01-03T10:12:24.865Z"
      },
      {
        "duration": 48,
        "start_time": "2022-01-03T10:12:24.874Z"
      },
      {
        "duration": 13,
        "start_time": "2022-01-03T10:12:24.926Z"
      },
      {
        "duration": 13,
        "start_time": "2022-01-03T10:12:24.942Z"
      },
      {
        "duration": 7,
        "start_time": "2022-01-03T10:12:24.957Z"
      },
      {
        "duration": 50,
        "start_time": "2022-01-03T10:12:24.968Z"
      },
      {
        "duration": 336,
        "start_time": "2022-01-03T10:12:25.022Z"
      },
      {
        "duration": 310,
        "start_time": "2022-01-03T10:12:25.360Z"
      },
      {
        "duration": 10,
        "start_time": "2022-01-03T10:12:25.672Z"
      },
      {
        "duration": 347,
        "start_time": "2022-01-03T10:12:25.685Z"
      },
      {
        "duration": 3,
        "start_time": "2022-01-03T10:12:26.035Z"
      },
      {
        "duration": 105,
        "start_time": "2022-01-03T10:12:26.040Z"
      },
      {
        "duration": -365,
        "start_time": "2022-01-03T10:12:26.513Z"
      },
      {
        "duration": -366,
        "start_time": "2022-01-03T10:12:26.515Z"
      },
      {
        "duration": -367,
        "start_time": "2022-01-03T10:12:26.518Z"
      },
      {
        "duration": -368,
        "start_time": "2022-01-03T10:12:26.520Z"
      },
      {
        "duration": -369,
        "start_time": "2022-01-03T10:12:26.522Z"
      },
      {
        "duration": -370,
        "start_time": "2022-01-03T10:12:26.524Z"
      },
      {
        "duration": -371,
        "start_time": "2022-01-03T10:12:26.526Z"
      },
      {
        "duration": -370,
        "start_time": "2022-01-03T10:12:26.527Z"
      },
      {
        "duration": -371,
        "start_time": "2022-01-03T10:12:26.529Z"
      },
      {
        "duration": -372,
        "start_time": "2022-01-03T10:12:26.531Z"
      },
      {
        "duration": -372,
        "start_time": "2022-01-03T10:12:26.532Z"
      },
      {
        "duration": -373,
        "start_time": "2022-01-03T10:12:26.534Z"
      },
      {
        "duration": -392,
        "start_time": "2022-01-03T10:12:26.555Z"
      },
      {
        "duration": -396,
        "start_time": "2022-01-03T10:12:26.560Z"
      },
      {
        "duration": -397,
        "start_time": "2022-01-03T10:12:26.562Z"
      },
      {
        "duration": -398,
        "start_time": "2022-01-03T10:12:26.564Z"
      },
      {
        "duration": -397,
        "start_time": "2022-01-03T10:12:26.565Z"
      },
      {
        "duration": -398,
        "start_time": "2022-01-03T10:12:26.567Z"
      },
      {
        "duration": 4,
        "start_time": "2022-01-03T10:12:34.889Z"
      },
      {
        "duration": 7,
        "start_time": "2022-01-03T10:12:35.629Z"
      },
      {
        "duration": 7,
        "start_time": "2022-01-03T10:12:36.907Z"
      },
      {
        "duration": 4,
        "start_time": "2022-01-03T10:12:37.960Z"
      },
      {
        "duration": 3,
        "start_time": "2022-01-03T10:12:38.870Z"
      },
      {
        "duration": 531,
        "start_time": "2022-01-03T10:12:39.240Z"
      },
      {
        "duration": 1646,
        "start_time": "2022-01-03T10:13:02.388Z"
      },
      {
        "duration": 52,
        "start_time": "2022-01-03T10:13:04.037Z"
      },
      {
        "duration": 4,
        "start_time": "2022-01-03T10:13:04.092Z"
      },
      {
        "duration": 12,
        "start_time": "2022-01-03T10:13:04.099Z"
      },
      {
        "duration": 17,
        "start_time": "2022-01-03T10:13:04.114Z"
      },
      {
        "duration": 14,
        "start_time": "2022-01-03T10:13:04.134Z"
      },
      {
        "duration": 12,
        "start_time": "2022-01-03T10:13:04.150Z"
      },
      {
        "duration": 5,
        "start_time": "2022-01-03T10:13:04.164Z"
      },
      {
        "duration": 5,
        "start_time": "2022-01-03T10:13:04.173Z"
      },
      {
        "duration": 313,
        "start_time": "2022-01-03T10:13:04.181Z"
      },
      {
        "duration": 424,
        "start_time": "2022-01-03T10:13:04.496Z"
      },
      {
        "duration": 13,
        "start_time": "2022-01-03T10:13:04.924Z"
      },
      {
        "duration": 347,
        "start_time": "2022-01-03T10:13:04.940Z"
      },
      {
        "duration": 3,
        "start_time": "2022-01-03T10:13:05.289Z"
      },
      {
        "duration": 8,
        "start_time": "2022-01-03T10:13:05.294Z"
      },
      {
        "duration": 12,
        "start_time": "2022-01-03T10:13:05.317Z"
      },
      {
        "duration": 11,
        "start_time": "2022-01-03T10:13:05.333Z"
      },
      {
        "duration": 7,
        "start_time": "2022-01-03T10:13:05.346Z"
      },
      {
        "duration": 5,
        "start_time": "2022-01-03T10:13:05.355Z"
      },
      {
        "duration": 24,
        "start_time": "2022-01-03T10:13:05.362Z"
      },
      {
        "duration": 455,
        "start_time": "2022-01-03T10:13:05.388Z"
      },
      {
        "duration": -18,
        "start_time": "2022-01-03T10:13:05.864Z"
      },
      {
        "duration": -18,
        "start_time": "2022-01-03T10:13:05.866Z"
      },
      {
        "duration": -49,
        "start_time": "2022-01-03T10:13:05.900Z"
      },
      {
        "duration": -49,
        "start_time": "2022-01-03T10:13:05.902Z"
      },
      {
        "duration": -49,
        "start_time": "2022-01-03T10:13:05.904Z"
      },
      {
        "duration": -49,
        "start_time": "2022-01-03T10:13:05.906Z"
      },
      {
        "duration": -51,
        "start_time": "2022-01-03T10:13:05.910Z"
      },
      {
        "duration": -51,
        "start_time": "2022-01-03T10:13:05.912Z"
      },
      {
        "duration": -49,
        "start_time": "2022-01-03T10:13:05.913Z"
      },
      {
        "duration": -49,
        "start_time": "2022-01-03T10:13:05.915Z"
      },
      {
        "duration": -58,
        "start_time": "2022-01-03T10:13:05.926Z"
      },
      {
        "duration": -57,
        "start_time": "2022-01-03T10:13:05.927Z"
      },
      {
        "duration": 1752,
        "start_time": "2022-01-03T10:14:15.498Z"
      },
      {
        "duration": 55,
        "start_time": "2022-01-03T10:14:17.253Z"
      },
      {
        "duration": 12,
        "start_time": "2022-01-03T10:14:17.310Z"
      },
      {
        "duration": 10,
        "start_time": "2022-01-03T10:14:17.326Z"
      },
      {
        "duration": 14,
        "start_time": "2022-01-03T10:14:17.339Z"
      },
      {
        "duration": 10,
        "start_time": "2022-01-03T10:14:17.355Z"
      },
      {
        "duration": 57,
        "start_time": "2022-01-03T10:14:17.367Z"
      },
      {
        "duration": 6,
        "start_time": "2022-01-03T10:14:17.431Z"
      },
      {
        "duration": 7,
        "start_time": "2022-01-03T10:14:17.440Z"
      },
      {
        "duration": 352,
        "start_time": "2022-01-03T10:14:17.449Z"
      },
      {
        "duration": 316,
        "start_time": "2022-01-03T10:14:17.803Z"
      },
      {
        "duration": 14,
        "start_time": "2022-01-03T10:14:18.122Z"
      },
      {
        "duration": 590,
        "start_time": "2022-01-03T10:14:18.139Z"
      },
      {
        "duration": 3,
        "start_time": "2022-01-03T10:14:18.738Z"
      },
      {
        "duration": 7,
        "start_time": "2022-01-03T10:14:18.743Z"
      },
      {
        "duration": 7,
        "start_time": "2022-01-03T10:14:18.752Z"
      },
      {
        "duration": 3,
        "start_time": "2022-01-03T10:14:18.761Z"
      },
      {
        "duration": 5,
        "start_time": "2022-01-03T10:14:18.766Z"
      },
      {
        "duration": 4,
        "start_time": "2022-01-03T10:14:18.828Z"
      },
      {
        "duration": 30,
        "start_time": "2022-01-03T10:14:18.835Z"
      },
      {
        "duration": 57,
        "start_time": "2022-01-03T10:14:18.868Z"
      },
      {
        "duration": 8,
        "start_time": "2022-01-03T10:14:18.929Z"
      },
      {
        "duration": 12,
        "start_time": "2022-01-03T10:14:18.941Z"
      },
      {
        "duration": 66,
        "start_time": "2022-01-03T10:14:18.956Z"
      },
      {
        "duration": 9,
        "start_time": "2022-01-03T10:14:19.025Z"
      },
      {
        "duration": 5,
        "start_time": "2022-01-03T10:14:19.040Z"
      },
      {
        "duration": 6,
        "start_time": "2022-01-03T10:14:19.048Z"
      },
      {
        "duration": 61,
        "start_time": "2022-01-03T10:14:19.057Z"
      },
      {
        "duration": 10,
        "start_time": "2022-01-03T10:14:19.121Z"
      },
      {
        "duration": 10,
        "start_time": "2022-01-03T10:14:19.137Z"
      },
      {
        "duration": 436,
        "start_time": "2022-01-03T10:14:19.150Z"
      },
      {
        "duration": -31,
        "start_time": "2022-01-03T10:14:19.620Z"
      },
      {
        "duration": -31,
        "start_time": "2022-01-03T10:14:19.622Z"
      },
      {
        "duration": 17,
        "start_time": "2022-01-03T10:14:37.583Z"
      },
      {
        "duration": 47,
        "start_time": "2022-01-03T10:17:41.016Z"
      },
      {
        "duration": 302,
        "start_time": "2022-01-03T10:17:47.461Z"
      },
      {
        "duration": 6,
        "start_time": "2022-01-03T10:17:49.298Z"
      },
      {
        "duration": 1578,
        "start_time": "2022-01-03T10:18:12.486Z"
      },
      {
        "duration": 59,
        "start_time": "2022-01-03T10:18:14.067Z"
      },
      {
        "duration": 4,
        "start_time": "2022-01-03T10:18:14.130Z"
      },
      {
        "duration": 8,
        "start_time": "2022-01-03T10:18:14.136Z"
      },
      {
        "duration": 13,
        "start_time": "2022-01-03T10:18:14.146Z"
      },
      {
        "duration": 10,
        "start_time": "2022-01-03T10:18:14.161Z"
      },
      {
        "duration": 52,
        "start_time": "2022-01-03T10:18:14.173Z"
      },
      {
        "duration": 6,
        "start_time": "2022-01-03T10:18:14.229Z"
      },
      {
        "duration": 16,
        "start_time": "2022-01-03T10:18:14.238Z"
      },
      {
        "duration": 306,
        "start_time": "2022-01-03T10:18:14.256Z"
      },
      {
        "duration": 302,
        "start_time": "2022-01-03T10:18:14.564Z"
      },
      {
        "duration": 9,
        "start_time": "2022-01-03T10:18:14.869Z"
      },
      {
        "duration": 255,
        "start_time": "2022-01-03T10:18:14.880Z"
      },
      {
        "duration": 307,
        "start_time": "2022-01-03T10:18:15.137Z"
      },
      {
        "duration": 6,
        "start_time": "2022-01-03T10:18:15.446Z"
      },
      {
        "duration": 6,
        "start_time": "2022-01-03T10:18:15.454Z"
      },
      {
        "duration": 29,
        "start_time": "2022-01-03T10:18:15.462Z"
      },
      {
        "duration": 463,
        "start_time": "2022-01-03T10:18:15.493Z"
      },
      {
        "duration": -64,
        "start_time": "2022-01-03T10:18:16.023Z"
      },
      {
        "duration": -65,
        "start_time": "2022-01-03T10:18:16.025Z"
      },
      {
        "duration": -65,
        "start_time": "2022-01-03T10:18:16.027Z"
      },
      {
        "duration": -64,
        "start_time": "2022-01-03T10:18:16.028Z"
      },
      {
        "duration": -65,
        "start_time": "2022-01-03T10:18:16.030Z"
      },
      {
        "duration": -64,
        "start_time": "2022-01-03T10:18:16.031Z"
      },
      {
        "duration": -65,
        "start_time": "2022-01-03T10:18:16.033Z"
      },
      {
        "duration": -65,
        "start_time": "2022-01-03T10:18:16.035Z"
      },
      {
        "duration": -65,
        "start_time": "2022-01-03T10:18:16.036Z"
      },
      {
        "duration": -66,
        "start_time": "2022-01-03T10:18:16.038Z"
      },
      {
        "duration": -65,
        "start_time": "2022-01-03T10:18:16.039Z"
      },
      {
        "duration": -66,
        "start_time": "2022-01-03T10:18:16.041Z"
      },
      {
        "duration": -65,
        "start_time": "2022-01-03T10:18:16.043Z"
      },
      {
        "duration": 25,
        "start_time": "2022-01-03T10:19:20.424Z"
      },
      {
        "duration": 6,
        "start_time": "2022-01-03T10:19:34.161Z"
      },
      {
        "duration": 1631,
        "start_time": "2022-01-03T10:20:04.215Z"
      },
      {
        "duration": 52,
        "start_time": "2022-01-03T10:20:05.848Z"
      },
      {
        "duration": 4,
        "start_time": "2022-01-03T10:20:05.904Z"
      },
      {
        "duration": 8,
        "start_time": "2022-01-03T10:20:05.920Z"
      },
      {
        "duration": 14,
        "start_time": "2022-01-03T10:20:05.930Z"
      },
      {
        "duration": 10,
        "start_time": "2022-01-03T10:20:05.946Z"
      },
      {
        "duration": 12,
        "start_time": "2022-01-03T10:20:05.958Z"
      },
      {
        "duration": 6,
        "start_time": "2022-01-03T10:20:05.972Z"
      },
      {
        "duration": 6,
        "start_time": "2022-01-03T10:20:06.019Z"
      },
      {
        "duration": 527,
        "start_time": "2022-01-03T10:20:06.028Z"
      },
      {
        "duration": 493,
        "start_time": "2022-01-03T10:20:06.557Z"
      },
      {
        "duration": 9,
        "start_time": "2022-01-03T10:20:07.053Z"
      },
      {
        "duration": 269,
        "start_time": "2022-01-03T10:20:07.064Z"
      },
      {
        "duration": 2,
        "start_time": "2022-01-03T10:20:07.336Z"
      },
      {
        "duration": 6,
        "start_time": "2022-01-03T10:20:07.341Z"
      },
      {
        "duration": 10,
        "start_time": "2022-01-03T10:20:07.349Z"
      },
      {
        "duration": 4,
        "start_time": "2022-01-03T10:20:07.361Z"
      },
      {
        "duration": 62,
        "start_time": "2022-01-03T10:20:07.368Z"
      },
      {
        "duration": 8,
        "start_time": "2022-01-03T10:20:07.433Z"
      },
      {
        "duration": 18,
        "start_time": "2022-01-03T10:20:07.444Z"
      },
      {
        "duration": 5,
        "start_time": "2022-01-03T10:20:07.465Z"
      },
      {
        "duration": 53,
        "start_time": "2022-01-03T10:20:07.472Z"
      },
      {
        "duration": 10,
        "start_time": "2022-01-03T10:20:07.528Z"
      },
      {
        "duration": 7,
        "start_time": "2022-01-03T10:20:07.541Z"
      },
      {
        "duration": 7,
        "start_time": "2022-01-03T10:20:07.550Z"
      },
      {
        "duration": 5,
        "start_time": "2022-01-03T10:20:07.559Z"
      },
      {
        "duration": 5,
        "start_time": "2022-01-03T10:20:07.568Z"
      },
      {
        "duration": 5,
        "start_time": "2022-01-03T10:20:07.618Z"
      },
      {
        "duration": 6,
        "start_time": "2022-01-03T10:20:07.626Z"
      },
      {
        "duration": 453,
        "start_time": "2022-01-03T10:20:07.635Z"
      },
      {
        "duration": -83,
        "start_time": "2022-01-03T10:20:08.174Z"
      },
      {
        "duration": -87,
        "start_time": "2022-01-03T10:20:08.180Z"
      },
      {
        "duration": 52,
        "start_time": "2022-01-03T10:31:13.846Z"
      },
      {
        "duration": 283,
        "start_time": "2022-01-03T10:31:19.506Z"
      },
      {
        "duration": 6732,
        "start_time": "2022-01-03T10:32:08.546Z"
      },
      {
        "duration": 5,
        "start_time": "2022-01-03T10:33:10.606Z"
      },
      {
        "duration": 1548,
        "start_time": "2022-01-03T10:33:29.224Z"
      },
      {
        "duration": 55,
        "start_time": "2022-01-03T10:33:30.775Z"
      },
      {
        "duration": 4,
        "start_time": "2022-01-03T10:33:30.834Z"
      },
      {
        "duration": 13,
        "start_time": "2022-01-03T10:33:30.841Z"
      },
      {
        "duration": 18,
        "start_time": "2022-01-03T10:33:30.856Z"
      },
      {
        "duration": 22,
        "start_time": "2022-01-03T10:33:30.876Z"
      },
      {
        "duration": 24,
        "start_time": "2022-01-03T10:33:30.900Z"
      },
      {
        "duration": 8,
        "start_time": "2022-01-03T10:33:30.927Z"
      },
      {
        "duration": 14,
        "start_time": "2022-01-03T10:33:30.939Z"
      },
      {
        "duration": 320,
        "start_time": "2022-01-03T10:33:30.956Z"
      },
      {
        "duration": 458,
        "start_time": "2022-01-03T10:33:31.278Z"
      },
      {
        "duration": 7,
        "start_time": "2022-01-03T10:33:31.739Z"
      },
      {
        "duration": 9,
        "start_time": "2022-01-03T10:33:31.748Z"
      },
      {
        "duration": 64,
        "start_time": "2022-01-03T10:33:31.759Z"
      },
      {
        "duration": 497,
        "start_time": "2022-01-03T10:33:31.826Z"
      },
      {
        "duration": 5,
        "start_time": "2022-01-03T10:33:32.326Z"
      },
      {
        "duration": 5,
        "start_time": "2022-01-03T10:33:32.334Z"
      },
      {
        "duration": 8,
        "start_time": "2022-01-03T10:33:32.342Z"
      },
      {
        "duration": 4,
        "start_time": "2022-01-03T10:33:32.352Z"
      },
      {
        "duration": 67,
        "start_time": "2022-01-03T10:33:32.358Z"
      },
      {
        "duration": 8,
        "start_time": "2022-01-03T10:33:32.427Z"
      },
      {
        "duration": 16,
        "start_time": "2022-01-03T10:33:32.437Z"
      },
      {
        "duration": 5,
        "start_time": "2022-01-03T10:33:32.455Z"
      },
      {
        "duration": 10,
        "start_time": "2022-01-03T10:33:32.462Z"
      },
      {
        "duration": 44,
        "start_time": "2022-01-03T10:33:32.474Z"
      },
      {
        "duration": 5,
        "start_time": "2022-01-03T10:33:32.520Z"
      },
      {
        "duration": 5,
        "start_time": "2022-01-03T10:33:32.530Z"
      },
      {
        "duration": 9,
        "start_time": "2022-01-03T10:33:32.537Z"
      },
      {
        "duration": 5,
        "start_time": "2022-01-03T10:33:32.548Z"
      },
      {
        "duration": 5,
        "start_time": "2022-01-03T10:33:32.555Z"
      },
      {
        "duration": 55,
        "start_time": "2022-01-03T10:33:32.562Z"
      },
      {
        "duration": 425,
        "start_time": "2022-01-03T10:33:32.619Z"
      },
      {
        "duration": -85,
        "start_time": "2022-01-03T10:33:33.131Z"
      },
      {
        "duration": -86,
        "start_time": "2022-01-03T10:33:33.133Z"
      },
      {
        "duration": 8,
        "start_time": "2022-01-03T10:33:54.598Z"
      },
      {
        "duration": 8,
        "start_time": "2022-01-03T10:34:22.350Z"
      },
      {
        "duration": 6,
        "start_time": "2022-01-03T10:34:44.823Z"
      },
      {
        "duration": 6,
        "start_time": "2022-01-03T10:35:00.639Z"
      },
      {
        "duration": 9,
        "start_time": "2022-01-03T10:35:12.186Z"
      },
      {
        "duration": 8,
        "start_time": "2022-01-03T10:35:44.528Z"
      },
      {
        "duration": 8,
        "start_time": "2022-01-03T10:36:18.280Z"
      },
      {
        "duration": 6,
        "start_time": "2022-01-03T10:36:38.200Z"
      },
      {
        "duration": 5,
        "start_time": "2022-01-03T10:36:54.479Z"
      },
      {
        "duration": 9,
        "start_time": "2022-01-03T10:37:18.479Z"
      },
      {
        "duration": 6,
        "start_time": "2022-01-03T10:37:41.320Z"
      },
      {
        "duration": 6,
        "start_time": "2022-01-03T10:42:19.159Z"
      },
      {
        "duration": 1555,
        "start_time": "2022-01-03T10:42:25.904Z"
      },
      {
        "duration": 53,
        "start_time": "2022-01-03T10:42:27.462Z"
      },
      {
        "duration": 4,
        "start_time": "2022-01-03T10:42:27.519Z"
      },
      {
        "duration": 7,
        "start_time": "2022-01-03T10:42:27.525Z"
      },
      {
        "duration": 12,
        "start_time": "2022-01-03T10:42:27.535Z"
      },
      {
        "duration": 10,
        "start_time": "2022-01-03T10:42:27.550Z"
      },
      {
        "duration": 55,
        "start_time": "2022-01-03T10:42:27.562Z"
      },
      {
        "duration": 7,
        "start_time": "2022-01-03T10:42:27.620Z"
      },
      {
        "duration": 7,
        "start_time": "2022-01-03T10:42:27.631Z"
      },
      {
        "duration": 8,
        "start_time": "2022-01-03T10:42:27.641Z"
      },
      {
        "duration": 328,
        "start_time": "2022-01-03T10:42:27.652Z"
      },
      {
        "duration": 302,
        "start_time": "2022-01-03T10:42:27.983Z"
      },
      {
        "duration": 6,
        "start_time": "2022-01-03T10:42:28.287Z"
      },
      {
        "duration": 23,
        "start_time": "2022-01-03T10:42:28.295Z"
      },
      {
        "duration": 8,
        "start_time": "2022-01-03T10:42:28.321Z"
      },
      {
        "duration": 20,
        "start_time": "2022-01-03T10:42:28.332Z"
      },
      {
        "duration": 16,
        "start_time": "2022-01-03T10:42:28.354Z"
      },
      {
        "duration": 13,
        "start_time": "2022-01-03T10:42:28.372Z"
      },
      {
        "duration": 30,
        "start_time": "2022-01-03T10:42:28.387Z"
      },
      {
        "duration": 6,
        "start_time": "2022-01-03T10:42:28.419Z"
      },
      {
        "duration": 18,
        "start_time": "2022-01-03T10:42:28.427Z"
      },
      {
        "duration": 17,
        "start_time": "2022-01-03T10:42:28.448Z"
      },
      {
        "duration": 9,
        "start_time": "2022-01-03T10:42:28.468Z"
      },
      {
        "duration": 18,
        "start_time": "2022-01-03T10:42:28.479Z"
      },
      {
        "duration": 253,
        "start_time": "2022-01-03T10:42:28.518Z"
      },
      {
        "duration": 3,
        "start_time": "2022-01-03T10:42:28.773Z"
      },
      {
        "duration": 7,
        "start_time": "2022-01-03T10:42:28.781Z"
      },
      {
        "duration": 25,
        "start_time": "2022-01-03T10:42:28.792Z"
      },
      {
        "duration": 22,
        "start_time": "2022-01-03T10:42:28.821Z"
      },
      {
        "duration": 13,
        "start_time": "2022-01-03T10:42:28.846Z"
      },
      {
        "duration": 29,
        "start_time": "2022-01-03T10:42:28.861Z"
      },
      {
        "duration": 22,
        "start_time": "2022-01-03T10:42:28.893Z"
      },
      {
        "duration": 14,
        "start_time": "2022-01-03T10:42:28.918Z"
      },
      {
        "duration": 8,
        "start_time": "2022-01-03T10:42:28.934Z"
      },
      {
        "duration": 17,
        "start_time": "2022-01-03T10:42:28.944Z"
      },
      {
        "duration": 10,
        "start_time": "2022-01-03T10:42:28.963Z"
      },
      {
        "duration": 22,
        "start_time": "2022-01-03T10:42:28.975Z"
      },
      {
        "duration": 22,
        "start_time": "2022-01-03T10:42:28.999Z"
      },
      {
        "duration": 26,
        "start_time": "2022-01-03T10:42:29.023Z"
      },
      {
        "duration": 20,
        "start_time": "2022-01-03T10:42:29.051Z"
      },
      {
        "duration": 423,
        "start_time": "2022-01-03T10:42:29.074Z"
      },
      {
        "duration": -27,
        "start_time": "2022-01-03T10:42:29.526Z"
      },
      {
        "duration": -28,
        "start_time": "2022-01-03T10:42:29.528Z"
      },
      {
        "duration": 6,
        "start_time": "2022-01-03T10:44:40.528Z"
      },
      {
        "duration": 6,
        "start_time": "2022-01-03T10:45:03.062Z"
      },
      {
        "duration": 7,
        "start_time": "2022-01-03T10:48:07.130Z"
      },
      {
        "duration": 5,
        "start_time": "2022-01-03T10:53:36.800Z"
      },
      {
        "duration": 1556,
        "start_time": "2022-01-03T10:54:07.322Z"
      },
      {
        "duration": 52,
        "start_time": "2022-01-03T10:54:08.881Z"
      },
      {
        "duration": 4,
        "start_time": "2022-01-03T10:54:08.936Z"
      },
      {
        "duration": 6,
        "start_time": "2022-01-03T10:54:08.943Z"
      },
      {
        "duration": 13,
        "start_time": "2022-01-03T10:54:08.952Z"
      },
      {
        "duration": 11,
        "start_time": "2022-01-03T10:54:08.968Z"
      },
      {
        "duration": 45,
        "start_time": "2022-01-03T10:54:08.981Z"
      },
      {
        "duration": 6,
        "start_time": "2022-01-03T10:54:09.028Z"
      },
      {
        "duration": 7,
        "start_time": "2022-01-03T10:54:09.038Z"
      },
      {
        "duration": 6,
        "start_time": "2022-01-03T10:54:09.048Z"
      },
      {
        "duration": 331,
        "start_time": "2022-01-03T10:54:09.056Z"
      },
      {
        "duration": 310,
        "start_time": "2022-01-03T10:54:09.389Z"
      },
      {
        "duration": 8,
        "start_time": "2022-01-03T10:54:09.701Z"
      },
      {
        "duration": 6,
        "start_time": "2022-01-03T10:54:09.718Z"
      },
      {
        "duration": 10,
        "start_time": "2022-01-03T10:54:09.726Z"
      },
      {
        "duration": 11,
        "start_time": "2022-01-03T10:54:09.738Z"
      },
      {
        "duration": 11,
        "start_time": "2022-01-03T10:54:09.752Z"
      },
      {
        "duration": 53,
        "start_time": "2022-01-03T10:54:09.765Z"
      },
      {
        "duration": 7,
        "start_time": "2022-01-03T10:54:09.820Z"
      },
      {
        "duration": 23,
        "start_time": "2022-01-03T10:54:09.829Z"
      },
      {
        "duration": 14,
        "start_time": "2022-01-03T10:54:09.855Z"
      },
      {
        "duration": 22,
        "start_time": "2022-01-03T10:54:09.871Z"
      },
      {
        "duration": 9,
        "start_time": "2022-01-03T10:54:09.895Z"
      },
      {
        "duration": 19,
        "start_time": "2022-01-03T10:54:09.906Z"
      },
      {
        "duration": 262,
        "start_time": "2022-01-03T10:54:09.927Z"
      },
      {
        "duration": 3,
        "start_time": "2022-01-03T10:54:10.192Z"
      },
      {
        "duration": 19,
        "start_time": "2022-01-03T10:54:10.200Z"
      },
      {
        "duration": 8,
        "start_time": "2022-01-03T10:54:10.222Z"
      },
      {
        "duration": 22,
        "start_time": "2022-01-03T10:54:10.232Z"
      },
      {
        "duration": 10,
        "start_time": "2022-01-03T10:54:10.257Z"
      },
      {
        "duration": 53,
        "start_time": "2022-01-03T10:54:10.269Z"
      },
      {
        "duration": 8,
        "start_time": "2022-01-03T10:54:10.325Z"
      },
      {
        "duration": 12,
        "start_time": "2022-01-03T10:54:10.336Z"
      },
      {
        "duration": 18,
        "start_time": "2022-01-03T10:54:10.350Z"
      },
      {
        "duration": 12,
        "start_time": "2022-01-03T10:54:10.370Z"
      },
      {
        "duration": 32,
        "start_time": "2022-01-03T10:54:10.385Z"
      },
      {
        "duration": 6,
        "start_time": "2022-01-03T10:54:10.420Z"
      },
      {
        "duration": 16,
        "start_time": "2022-01-03T10:54:10.428Z"
      },
      {
        "duration": 7,
        "start_time": "2022-01-03T10:54:10.447Z"
      },
      {
        "duration": 11,
        "start_time": "2022-01-03T10:54:10.457Z"
      },
      {
        "duration": 439,
        "start_time": "2022-01-03T10:54:10.470Z"
      },
      {
        "duration": -52,
        "start_time": "2022-01-03T10:54:10.964Z"
      },
      {
        "duration": -54,
        "start_time": "2022-01-03T10:54:10.967Z"
      },
      {
        "duration": 8,
        "start_time": "2022-01-03T10:58:45.229Z"
      },
      {
        "duration": 16,
        "start_time": "2022-01-03T10:58:45.519Z"
      },
      {
        "duration": 1575,
        "start_time": "2022-01-03T11:01:36.983Z"
      },
      {
        "duration": 52,
        "start_time": "2022-01-03T11:01:38.561Z"
      },
      {
        "duration": 4,
        "start_time": "2022-01-03T11:01:38.616Z"
      },
      {
        "duration": 7,
        "start_time": "2022-01-03T11:01:38.622Z"
      },
      {
        "duration": 11,
        "start_time": "2022-01-03T11:01:38.631Z"
      },
      {
        "duration": 10,
        "start_time": "2022-01-03T11:01:38.644Z"
      },
      {
        "duration": 12,
        "start_time": "2022-01-03T11:01:38.657Z"
      },
      {
        "duration": 47,
        "start_time": "2022-01-03T11:01:38.673Z"
      },
      {
        "duration": 6,
        "start_time": "2022-01-03T11:01:38.723Z"
      },
      {
        "duration": 6,
        "start_time": "2022-01-03T11:01:38.732Z"
      },
      {
        "duration": 319,
        "start_time": "2022-01-03T11:01:38.742Z"
      },
      {
        "duration": 286,
        "start_time": "2022-01-03T11:01:39.063Z"
      },
      {
        "duration": 7,
        "start_time": "2022-01-03T11:01:39.352Z"
      },
      {
        "duration": 8,
        "start_time": "2022-01-03T11:01:39.361Z"
      },
      {
        "duration": 6,
        "start_time": "2022-01-03T11:01:39.371Z"
      },
      {
        "duration": 41,
        "start_time": "2022-01-03T11:01:39.380Z"
      },
      {
        "duration": 8,
        "start_time": "2022-01-03T11:01:39.423Z"
      },
      {
        "duration": 8,
        "start_time": "2022-01-03T11:01:39.434Z"
      },
      {
        "duration": 7,
        "start_time": "2022-01-03T11:01:39.444Z"
      },
      {
        "duration": 11,
        "start_time": "2022-01-03T11:01:39.453Z"
      },
      {
        "duration": 54,
        "start_time": "2022-01-03T11:01:39.466Z"
      },
      {
        "duration": 7,
        "start_time": "2022-01-03T11:01:39.523Z"
      },
      {
        "duration": 7,
        "start_time": "2022-01-03T11:01:39.532Z"
      },
      {
        "duration": 11,
        "start_time": "2022-01-03T11:01:39.542Z"
      },
      {
        "duration": 289,
        "start_time": "2022-01-03T11:01:39.556Z"
      },
      {
        "duration": 21,
        "start_time": "2022-01-03T11:01:39.852Z"
      },
      {
        "duration": 9,
        "start_time": "2022-01-03T11:01:39.876Z"
      },
      {
        "duration": 30,
        "start_time": "2022-01-03T11:01:39.887Z"
      },
      {
        "duration": 751,
        "start_time": "2022-01-03T11:01:39.920Z"
      },
      {
        "duration": -56,
        "start_time": "2022-01-03T11:01:40.729Z"
      },
      {
        "duration": -65,
        "start_time": "2022-01-03T11:01:40.740Z"
      },
      {
        "duration": -71,
        "start_time": "2022-01-03T11:01:40.747Z"
      },
      {
        "duration": -72,
        "start_time": "2022-01-03T11:01:40.749Z"
      },
      {
        "duration": -90,
        "start_time": "2022-01-03T11:01:40.769Z"
      },
      {
        "duration": -180,
        "start_time": "2022-01-03T11:01:40.860Z"
      },
      {
        "duration": -183,
        "start_time": "2022-01-03T11:01:40.864Z"
      },
      {
        "duration": -182,
        "start_time": "2022-01-03T11:01:40.865Z"
      },
      {
        "duration": -183,
        "start_time": "2022-01-03T11:01:40.867Z"
      },
      {
        "duration": -183,
        "start_time": "2022-01-03T11:01:40.869Z"
      },
      {
        "duration": -183,
        "start_time": "2022-01-03T11:01:40.870Z"
      },
      {
        "duration": -188,
        "start_time": "2022-01-03T11:01:40.876Z"
      },
      {
        "duration": -161,
        "start_time": "2022-01-03T11:01:40.878Z"
      },
      {
        "duration": 16,
        "start_time": "2022-01-03T11:02:12.050Z"
      },
      {
        "duration": 16,
        "start_time": "2022-01-03T11:02:44.921Z"
      },
      {
        "duration": 1574,
        "start_time": "2022-01-03T11:15:09.890Z"
      },
      {
        "duration": 52,
        "start_time": "2022-01-03T11:15:11.467Z"
      },
      {
        "duration": 4,
        "start_time": "2022-01-03T11:15:11.525Z"
      },
      {
        "duration": 7,
        "start_time": "2022-01-03T11:15:11.531Z"
      },
      {
        "duration": 13,
        "start_time": "2022-01-03T11:15:11.540Z"
      },
      {
        "duration": 10,
        "start_time": "2022-01-03T11:15:11.555Z"
      },
      {
        "duration": 51,
        "start_time": "2022-01-03T11:15:11.567Z"
      },
      {
        "duration": 6,
        "start_time": "2022-01-03T11:15:11.623Z"
      },
      {
        "duration": 7,
        "start_time": "2022-01-03T11:15:11.632Z"
      },
      {
        "duration": 8,
        "start_time": "2022-01-03T11:15:11.642Z"
      },
      {
        "duration": 327,
        "start_time": "2022-01-03T11:15:11.653Z"
      },
      {
        "duration": 296,
        "start_time": "2022-01-03T11:15:11.983Z"
      },
      {
        "duration": 8,
        "start_time": "2022-01-03T11:15:12.282Z"
      },
      {
        "duration": 6,
        "start_time": "2022-01-03T11:15:12.292Z"
      },
      {
        "duration": 21,
        "start_time": "2022-01-03T11:15:12.301Z"
      },
      {
        "duration": 11,
        "start_time": "2022-01-03T11:15:12.324Z"
      },
      {
        "duration": 8,
        "start_time": "2022-01-03T11:15:12.338Z"
      },
      {
        "duration": 7,
        "start_time": "2022-01-03T11:15:12.348Z"
      },
      {
        "duration": 6,
        "start_time": "2022-01-03T11:15:12.357Z"
      },
      {
        "duration": 53,
        "start_time": "2022-01-03T11:15:12.365Z"
      },
      {
        "duration": 10,
        "start_time": "2022-01-03T11:15:12.421Z"
      },
      {
        "duration": 7,
        "start_time": "2022-01-03T11:15:12.433Z"
      },
      {
        "duration": 6,
        "start_time": "2022-01-03T11:15:12.442Z"
      },
      {
        "duration": 8,
        "start_time": "2022-01-03T11:15:12.451Z"
      },
      {
        "duration": 296,
        "start_time": "2022-01-03T11:15:12.462Z"
      },
      {
        "duration": 21,
        "start_time": "2022-01-03T11:15:12.763Z"
      },
      {
        "duration": 9,
        "start_time": "2022-01-03T11:15:12.787Z"
      },
      {
        "duration": 5,
        "start_time": "2022-01-03T11:15:12.818Z"
      },
      {
        "duration": 11,
        "start_time": "2022-01-03T11:15:12.826Z"
      },
      {
        "duration": 8,
        "start_time": "2022-01-03T11:15:12.840Z"
      },
      {
        "duration": 12,
        "start_time": "2022-01-03T11:15:12.850Z"
      },
      {
        "duration": 7,
        "start_time": "2022-01-03T11:15:12.865Z"
      },
      {
        "duration": 45,
        "start_time": "2022-01-03T11:15:12.874Z"
      },
      {
        "duration": 5,
        "start_time": "2022-01-03T11:15:12.922Z"
      },
      {
        "duration": 9,
        "start_time": "2022-01-03T11:15:12.929Z"
      },
      {
        "duration": 8,
        "start_time": "2022-01-03T11:15:12.940Z"
      },
      {
        "duration": 10,
        "start_time": "2022-01-03T11:15:12.950Z"
      },
      {
        "duration": 702,
        "start_time": "2022-01-03T11:15:12.962Z"
      },
      {
        "duration": -9,
        "start_time": "2022-01-03T11:15:13.675Z"
      },
      {
        "duration": -10,
        "start_time": "2022-01-03T11:15:13.677Z"
      },
      {
        "duration": -11,
        "start_time": "2022-01-03T11:15:13.679Z"
      },
      {
        "duration": 6,
        "start_time": "2022-01-03T11:16:32.770Z"
      },
      {
        "duration": 5,
        "start_time": "2022-01-03T11:16:42.710Z"
      },
      {
        "duration": 10,
        "start_time": "2022-01-03T11:16:57.057Z"
      },
      {
        "duration": 37,
        "start_time": "2022-01-03T11:20:13.925Z"
      },
      {
        "duration": 405,
        "start_time": "2022-01-03T11:21:10.457Z"
      },
      {
        "duration": 292,
        "start_time": "2022-01-03T11:21:23.674Z"
      },
      {
        "duration": 1531,
        "start_time": "2022-01-03T11:23:55.239Z"
      },
      {
        "duration": 56,
        "start_time": "2022-01-03T11:23:56.773Z"
      },
      {
        "duration": 4,
        "start_time": "2022-01-03T11:23:56.831Z"
      },
      {
        "duration": 10,
        "start_time": "2022-01-03T11:23:56.838Z"
      },
      {
        "duration": 12,
        "start_time": "2022-01-03T11:23:56.851Z"
      },
      {
        "duration": 51,
        "start_time": "2022-01-03T11:23:56.866Z"
      },
      {
        "duration": 14,
        "start_time": "2022-01-03T11:23:56.919Z"
      },
      {
        "duration": 7,
        "start_time": "2022-01-03T11:23:56.935Z"
      },
      {
        "duration": 6,
        "start_time": "2022-01-03T11:23:56.947Z"
      },
      {
        "duration": 8,
        "start_time": "2022-01-03T11:23:56.956Z"
      },
      {
        "duration": 339,
        "start_time": "2022-01-03T11:23:56.966Z"
      },
      {
        "duration": 291,
        "start_time": "2022-01-03T11:23:57.307Z"
      },
      {
        "duration": 18,
        "start_time": "2022-01-03T11:23:57.600Z"
      },
      {
        "duration": 10,
        "start_time": "2022-01-03T11:23:57.620Z"
      },
      {
        "duration": 11,
        "start_time": "2022-01-03T11:23:57.633Z"
      },
      {
        "duration": 17,
        "start_time": "2022-01-03T11:23:57.646Z"
      },
      {
        "duration": 19,
        "start_time": "2022-01-03T11:23:57.666Z"
      },
      {
        "duration": 32,
        "start_time": "2022-01-03T11:23:57.687Z"
      },
      {
        "duration": 12,
        "start_time": "2022-01-03T11:23:57.721Z"
      },
      {
        "duration": 7,
        "start_time": "2022-01-03T11:23:57.736Z"
      },
      {
        "duration": 6,
        "start_time": "2022-01-03T11:23:57.745Z"
      },
      {
        "duration": 10,
        "start_time": "2022-01-03T11:23:57.753Z"
      },
      {
        "duration": 8,
        "start_time": "2022-01-03T11:23:57.766Z"
      },
      {
        "duration": 49,
        "start_time": "2022-01-03T11:23:57.777Z"
      },
      {
        "duration": 13,
        "start_time": "2022-01-03T11:23:57.829Z"
      },
      {
        "duration": 12,
        "start_time": "2022-01-03T11:23:57.845Z"
      },
      {
        "duration": 271,
        "start_time": "2022-01-03T11:23:57.864Z"
      },
      {
        "duration": 20,
        "start_time": "2022-01-03T11:23:58.139Z"
      },
      {
        "duration": 8,
        "start_time": "2022-01-03T11:23:58.161Z"
      },
      {
        "duration": 5,
        "start_time": "2022-01-03T11:23:58.171Z"
      },
      {
        "duration": 40,
        "start_time": "2022-01-03T11:23:58.179Z"
      },
      {
        "duration": 7,
        "start_time": "2022-01-03T11:23:58.221Z"
      },
      {
        "duration": 4,
        "start_time": "2022-01-03T11:23:58.231Z"
      },
      {
        "duration": 7,
        "start_time": "2022-01-03T11:23:58.237Z"
      },
      {
        "duration": 6,
        "start_time": "2022-01-03T11:23:58.246Z"
      },
      {
        "duration": 6,
        "start_time": "2022-01-03T11:23:58.254Z"
      },
      {
        "duration": 6,
        "start_time": "2022-01-03T11:23:58.262Z"
      },
      {
        "duration": 50,
        "start_time": "2022-01-03T11:23:58.270Z"
      },
      {
        "duration": 6,
        "start_time": "2022-01-03T11:23:58.323Z"
      },
      {
        "duration": 13,
        "start_time": "2022-01-03T11:23:58.331Z"
      },
      {
        "duration": 4,
        "start_time": "2022-01-03T11:23:58.346Z"
      },
      {
        "duration": 77,
        "start_time": "2022-01-03T11:23:58.353Z"
      },
      {
        "duration": 759,
        "start_time": "2022-01-03T11:23:58.433Z"
      },
      {
        "duration": -44,
        "start_time": "2022-01-03T11:23:59.238Z"
      },
      {
        "duration": -45,
        "start_time": "2022-01-03T11:23:59.241Z"
      },
      {
        "duration": -46,
        "start_time": "2022-01-03T11:23:59.243Z"
      },
      {
        "duration": 44,
        "start_time": "2022-01-03T11:24:38.958Z"
      },
      {
        "duration": 105,
        "start_time": "2022-01-03T11:33:27.337Z"
      },
      {
        "duration": 34,
        "start_time": "2022-01-03T11:36:59.906Z"
      },
      {
        "duration": 46,
        "start_time": "2022-01-03T11:37:11.576Z"
      },
      {
        "duration": 85,
        "start_time": "2022-01-03T11:37:19.637Z"
      },
      {
        "duration": 4,
        "start_time": "2022-01-03T11:44:01.867Z"
      },
      {
        "duration": 3,
        "start_time": "2022-01-03T11:44:03.147Z"
      },
      {
        "duration": 420,
        "start_time": "2022-01-03T11:44:04.267Z"
      },
      {
        "duration": 8,
        "start_time": "2022-01-03T11:45:20.658Z"
      },
      {
        "duration": 4,
        "start_time": "2022-01-03T11:45:30.137Z"
      },
      {
        "duration": 264,
        "start_time": "2022-01-03T11:45:31.996Z"
      },
      {
        "duration": 273,
        "start_time": "2022-01-03T11:50:00.706Z"
      },
      {
        "duration": 261,
        "start_time": "2022-01-03T11:50:10.958Z"
      },
      {
        "duration": 300,
        "start_time": "2022-01-03T11:50:16.286Z"
      },
      {
        "duration": 57042,
        "start_time": "2022-01-03T11:54:05.612Z"
      },
      {
        "duration": 4,
        "start_time": "2022-01-03T11:55:13.818Z"
      },
      {
        "duration": 5,
        "start_time": "2022-01-03T11:55:16.884Z"
      },
      {
        "duration": 275,
        "start_time": "2022-01-03T11:55:21.759Z"
      },
      {
        "duration": 293,
        "start_time": "2022-01-03T11:56:13.969Z"
      },
      {
        "duration": 267,
        "start_time": "2022-01-03T11:56:44.078Z"
      },
      {
        "duration": 288,
        "start_time": "2022-01-03T11:57:43.297Z"
      },
      {
        "duration": 2523,
        "start_time": "2022-01-03T11:59:05.019Z"
      },
      {
        "duration": 2428,
        "start_time": "2022-01-03T12:00:36.896Z"
      },
      {
        "duration": 4,
        "start_time": "2022-01-03T12:01:10.486Z"
      },
      {
        "duration": 8,
        "start_time": "2022-01-03T12:01:16.389Z"
      },
      {
        "duration": 335,
        "start_time": "2022-01-03T12:01:29.050Z"
      },
      {
        "duration": 271,
        "start_time": "2022-01-03T12:01:39.657Z"
      },
      {
        "duration": 394,
        "start_time": "2022-01-03T12:04:58.865Z"
      },
      {
        "duration": 248,
        "start_time": "2022-01-03T12:05:19.676Z"
      },
      {
        "duration": 203,
        "start_time": "2022-01-03T12:07:09.146Z"
      },
      {
        "duration": 987,
        "start_time": "2022-01-03T12:07:34.617Z"
      },
      {
        "duration": 6,
        "start_time": "2022-01-03T12:07:43.854Z"
      },
      {
        "duration": 25,
        "start_time": "2022-01-03T12:07:58.995Z"
      },
      {
        "duration": 1137,
        "start_time": "2022-01-04T06:22:09.373Z"
      },
      {
        "duration": 41,
        "start_time": "2022-01-04T06:22:10.513Z"
      },
      {
        "duration": 3,
        "start_time": "2022-01-04T06:22:10.556Z"
      },
      {
        "duration": 37,
        "start_time": "2022-01-04T06:22:10.560Z"
      },
      {
        "duration": 17,
        "start_time": "2022-01-04T06:22:10.599Z"
      },
      {
        "duration": 26,
        "start_time": "2022-01-04T06:22:10.617Z"
      },
      {
        "duration": 22,
        "start_time": "2022-01-04T06:22:10.645Z"
      },
      {
        "duration": 23,
        "start_time": "2022-01-04T06:22:10.669Z"
      },
      {
        "duration": 38,
        "start_time": "2022-01-04T06:22:10.694Z"
      },
      {
        "duration": 34,
        "start_time": "2022-01-04T06:22:10.733Z"
      },
      {
        "duration": 180,
        "start_time": "2022-01-04T06:22:10.768Z"
      },
      {
        "duration": 163,
        "start_time": "2022-01-04T06:22:10.949Z"
      },
      {
        "duration": 7,
        "start_time": "2022-01-04T06:22:11.114Z"
      },
      {
        "duration": 19,
        "start_time": "2022-01-04T06:22:11.122Z"
      },
      {
        "duration": 26,
        "start_time": "2022-01-04T06:22:11.142Z"
      },
      {
        "duration": 22,
        "start_time": "2022-01-04T06:22:11.170Z"
      },
      {
        "duration": 29,
        "start_time": "2022-01-04T06:22:11.194Z"
      },
      {
        "duration": 26,
        "start_time": "2022-01-04T06:22:11.224Z"
      },
      {
        "duration": 24,
        "start_time": "2022-01-04T06:22:11.251Z"
      },
      {
        "duration": 21,
        "start_time": "2022-01-04T06:22:11.277Z"
      },
      {
        "duration": 14,
        "start_time": "2022-01-04T06:22:11.299Z"
      },
      {
        "duration": 26,
        "start_time": "2022-01-04T06:22:11.315Z"
      },
      {
        "duration": 21,
        "start_time": "2022-01-04T06:22:11.346Z"
      },
      {
        "duration": 27,
        "start_time": "2022-01-04T06:22:11.369Z"
      },
      {
        "duration": 21,
        "start_time": "2022-01-04T06:22:11.398Z"
      },
      {
        "duration": 34,
        "start_time": "2022-01-04T06:22:11.421Z"
      },
      {
        "duration": 165,
        "start_time": "2022-01-04T06:22:11.457Z"
      },
      {
        "duration": 23,
        "start_time": "2022-01-04T06:22:11.624Z"
      },
      {
        "duration": 22,
        "start_time": "2022-01-04T06:22:11.649Z"
      },
      {
        "duration": 13,
        "start_time": "2022-01-04T06:22:11.673Z"
      },
      {
        "duration": 25,
        "start_time": "2022-01-04T06:22:11.687Z"
      },
      {
        "duration": 17,
        "start_time": "2022-01-04T06:22:11.714Z"
      },
      {
        "duration": 17,
        "start_time": "2022-01-04T06:22:11.733Z"
      },
      {
        "duration": 33,
        "start_time": "2022-01-04T06:22:11.751Z"
      },
      {
        "duration": 19,
        "start_time": "2022-01-04T06:22:11.785Z"
      },
      {
        "duration": 41,
        "start_time": "2022-01-04T06:22:11.805Z"
      },
      {
        "duration": 23,
        "start_time": "2022-01-04T06:22:11.848Z"
      },
      {
        "duration": 41,
        "start_time": "2022-01-04T06:22:11.872Z"
      },
      {
        "duration": 32,
        "start_time": "2022-01-04T06:22:11.914Z"
      },
      {
        "duration": 27,
        "start_time": "2022-01-04T06:22:11.947Z"
      },
      {
        "duration": 32,
        "start_time": "2022-01-04T06:22:11.975Z"
      },
      {
        "duration": 58,
        "start_time": "2022-01-04T06:22:12.008Z"
      },
      {
        "duration": 79,
        "start_time": "2022-01-04T06:22:12.068Z"
      },
      {
        "duration": 118,
        "start_time": "2022-01-04T06:22:12.149Z"
      },
      {
        "duration": 79,
        "start_time": "2022-01-04T06:22:12.269Z"
      },
      {
        "duration": 2,
        "start_time": "2022-01-04T06:22:12.350Z"
      },
      {
        "duration": 8,
        "start_time": "2022-01-04T06:22:12.354Z"
      },
      {
        "duration": 18,
        "start_time": "2022-01-04T06:22:12.364Z"
      },
      {
        "duration": 34927,
        "start_time": "2022-01-04T06:22:12.384Z"
      },
      {
        "duration": 3,
        "start_time": "2022-01-04T06:22:47.313Z"
      },
      {
        "duration": 9,
        "start_time": "2022-01-04T06:22:47.317Z"
      },
      {
        "duration": 1523,
        "start_time": "2022-01-04T06:22:47.327Z"
      },
      {
        "duration": 5,
        "start_time": "2022-01-04T06:22:48.852Z"
      },
      {
        "duration": 60,
        "start_time": "2022-01-04T06:22:48.858Z"
      },
      {
        "duration": 576,
        "start_time": "2022-01-04T06:22:48.920Z"
      },
      {
        "duration": 3,
        "start_time": "2022-01-04T06:22:49.498Z"
      },
      {
        "duration": 25,
        "start_time": "2022-01-04T06:22:49.503Z"
      },
      {
        "duration": 601,
        "start_time": "2022-01-04T06:22:49.529Z"
      },
      {
        "duration": 161,
        "start_time": "2022-01-04T06:22:49.971Z"
      },
      {
        "duration": 158,
        "start_time": "2022-01-04T06:22:49.976Z"
      },
      {
        "duration": 3,
        "start_time": "2022-01-04T06:25:57.563Z"
      },
      {
        "duration": 1225,
        "start_time": "2022-01-04T06:26:08.987Z"
      },
      {
        "duration": 41,
        "start_time": "2022-01-04T06:26:10.214Z"
      },
      {
        "duration": 2,
        "start_time": "2022-01-04T06:26:10.257Z"
      },
      {
        "duration": 6,
        "start_time": "2022-01-04T06:26:10.261Z"
      },
      {
        "duration": 12,
        "start_time": "2022-01-04T06:26:10.269Z"
      },
      {
        "duration": 12,
        "start_time": "2022-01-04T06:26:10.282Z"
      },
      {
        "duration": 8,
        "start_time": "2022-01-04T06:26:10.296Z"
      },
      {
        "duration": 5,
        "start_time": "2022-01-04T06:26:10.305Z"
      },
      {
        "duration": 29,
        "start_time": "2022-01-04T06:26:10.313Z"
      },
      {
        "duration": 4,
        "start_time": "2022-01-04T06:26:10.344Z"
      },
      {
        "duration": 183,
        "start_time": "2022-01-04T06:26:10.350Z"
      },
      {
        "duration": 172,
        "start_time": "2022-01-04T06:26:10.534Z"
      },
      {
        "duration": 7,
        "start_time": "2022-01-04T06:26:10.707Z"
      },
      {
        "duration": 8,
        "start_time": "2022-01-04T06:26:10.716Z"
      },
      {
        "duration": 19,
        "start_time": "2022-01-04T06:26:10.725Z"
      },
      {
        "duration": 4,
        "start_time": "2022-01-04T06:26:10.746Z"
      },
      {
        "duration": 9,
        "start_time": "2022-01-04T06:26:10.752Z"
      },
      {
        "duration": 8,
        "start_time": "2022-01-04T06:26:10.762Z"
      },
      {
        "duration": 5,
        "start_time": "2022-01-04T06:26:10.771Z"
      },
      {
        "duration": 6,
        "start_time": "2022-01-04T06:26:10.778Z"
      },
      {
        "duration": 22,
        "start_time": "2022-01-04T06:26:10.786Z"
      },
      {
        "duration": 13,
        "start_time": "2022-01-04T06:26:10.809Z"
      },
      {
        "duration": 10,
        "start_time": "2022-01-04T06:26:10.823Z"
      },
      {
        "duration": 9,
        "start_time": "2022-01-04T06:26:10.834Z"
      },
      {
        "duration": 5,
        "start_time": "2022-01-04T06:26:10.845Z"
      },
      {
        "duration": 10,
        "start_time": "2022-01-04T06:26:10.852Z"
      },
      {
        "duration": 152,
        "start_time": "2022-01-04T06:26:10.866Z"
      },
      {
        "duration": 21,
        "start_time": "2022-01-04T06:26:11.020Z"
      },
      {
        "duration": 6,
        "start_time": "2022-01-04T06:26:11.043Z"
      },
      {
        "duration": 5,
        "start_time": "2022-01-04T06:26:11.051Z"
      },
      {
        "duration": 8,
        "start_time": "2022-01-04T06:26:11.057Z"
      },
      {
        "duration": 7,
        "start_time": "2022-01-04T06:26:11.067Z"
      },
      {
        "duration": 4,
        "start_time": "2022-01-04T06:26:11.075Z"
      },
      {
        "duration": 7,
        "start_time": "2022-01-04T06:26:11.080Z"
      },
      {
        "duration": 7,
        "start_time": "2022-01-04T06:26:11.089Z"
      },
      {
        "duration": 9,
        "start_time": "2022-01-04T06:26:11.097Z"
      },
      {
        "duration": 7,
        "start_time": "2022-01-04T06:26:11.107Z"
      },
      {
        "duration": 25,
        "start_time": "2022-01-04T06:26:11.116Z"
      },
      {
        "duration": 8,
        "start_time": "2022-01-04T06:26:11.142Z"
      },
      {
        "duration": 11,
        "start_time": "2022-01-04T06:26:11.151Z"
      },
      {
        "duration": 6,
        "start_time": "2022-01-04T06:26:11.163Z"
      },
      {
        "duration": 32,
        "start_time": "2022-01-04T06:26:11.170Z"
      },
      {
        "duration": 142,
        "start_time": "2022-01-04T06:26:11.203Z"
      },
      {
        "duration": 111,
        "start_time": "2022-01-04T06:26:11.347Z"
      },
      {
        "duration": 65,
        "start_time": "2022-01-04T06:26:11.459Z"
      },
      {
        "duration": 2,
        "start_time": "2022-01-04T06:26:11.526Z"
      },
      {
        "duration": 5,
        "start_time": "2022-01-04T06:26:11.541Z"
      },
      {
        "duration": 6,
        "start_time": "2022-01-04T06:26:11.548Z"
      },
      {
        "duration": 36579,
        "start_time": "2022-01-04T06:26:11.556Z"
      },
      {
        "duration": 7,
        "start_time": "2022-01-04T06:26:48.136Z"
      },
      {
        "duration": 5,
        "start_time": "2022-01-04T06:26:48.145Z"
      },
      {
        "duration": 502,
        "start_time": "2022-01-04T06:26:48.152Z"
      },
      {
        "duration": 7,
        "start_time": "2022-01-04T06:26:48.656Z"
      },
      {
        "duration": 708,
        "start_time": "2022-01-04T06:26:48.664Z"
      },
      {
        "duration": 318,
        "start_time": "2022-01-04T06:26:49.373Z"
      },
      {
        "duration": 1203,
        "start_time": "2022-01-04T06:26:49.692Z"
      },
      {
        "duration": 4,
        "start_time": "2022-01-04T06:26:50.897Z"
      },
      {
        "duration": 7,
        "start_time": "2022-01-04T06:26:50.902Z"
      },
      {
        "duration": 31,
        "start_time": "2022-01-04T06:26:50.911Z"
      },
      {
        "duration": 692,
        "start_time": "2022-01-04T06:26:50.943Z"
      },
      {
        "duration": 106,
        "start_time": "2022-01-04T06:26:51.531Z"
      },
      {
        "duration": 97,
        "start_time": "2022-01-04T06:26:51.542Z"
      },
      {
        "duration": 11,
        "start_time": "2022-01-04T06:38:50.775Z"
      },
      {
        "duration": 25,
        "start_time": "2022-01-04T06:41:01.629Z"
      },
      {
        "duration": 78,
        "start_time": "2022-01-04T06:42:00.520Z"
      },
      {
        "duration": 21,
        "start_time": "2022-01-04T06:42:11.602Z"
      },
      {
        "duration": 30,
        "start_time": "2022-01-04T06:42:26.680Z"
      },
      {
        "duration": 71,
        "start_time": "2022-01-04T06:42:39.762Z"
      },
      {
        "duration": 1107,
        "start_time": "2022-01-04T06:46:51.594Z"
      },
      {
        "duration": 40,
        "start_time": "2022-01-04T06:46:52.703Z"
      },
      {
        "duration": 3,
        "start_time": "2022-01-04T06:46:52.746Z"
      },
      {
        "duration": 6,
        "start_time": "2022-01-04T06:46:52.751Z"
      },
      {
        "duration": 8,
        "start_time": "2022-01-04T06:46:52.759Z"
      },
      {
        "duration": 8,
        "start_time": "2022-01-04T06:46:52.769Z"
      },
      {
        "duration": 8,
        "start_time": "2022-01-04T06:46:52.779Z"
      },
      {
        "duration": 5,
        "start_time": "2022-01-04T06:46:52.789Z"
      },
      {
        "duration": 6,
        "start_time": "2022-01-04T06:46:52.797Z"
      },
      {
        "duration": 5,
        "start_time": "2022-01-04T06:46:52.842Z"
      },
      {
        "duration": 169,
        "start_time": "2022-01-04T06:46:52.849Z"
      },
      {
        "duration": 173,
        "start_time": "2022-01-04T06:46:53.020Z"
      },
      {
        "duration": 8,
        "start_time": "2022-01-04T06:46:53.195Z"
      },
      {
        "duration": 9,
        "start_time": "2022-01-04T06:46:53.204Z"
      },
      {
        "duration": 13,
        "start_time": "2022-01-04T06:46:53.215Z"
      },
      {
        "duration": 5,
        "start_time": "2022-01-04T06:46:53.241Z"
      },
      {
        "duration": 5,
        "start_time": "2022-01-04T06:46:53.248Z"
      },
      {
        "duration": 8,
        "start_time": "2022-01-04T06:46:53.255Z"
      },
      {
        "duration": 6,
        "start_time": "2022-01-04T06:46:53.265Z"
      },
      {
        "duration": 5,
        "start_time": "2022-01-04T06:46:53.273Z"
      },
      {
        "duration": 7,
        "start_time": "2022-01-04T06:46:53.280Z"
      },
      {
        "duration": 13,
        "start_time": "2022-01-04T06:46:53.288Z"
      },
      {
        "duration": 39,
        "start_time": "2022-01-04T06:46:53.302Z"
      },
      {
        "duration": 5,
        "start_time": "2022-01-04T06:46:53.342Z"
      },
      {
        "duration": 9,
        "start_time": "2022-01-04T06:46:53.349Z"
      },
      {
        "duration": 9,
        "start_time": "2022-01-04T06:46:53.359Z"
      },
      {
        "duration": 158,
        "start_time": "2022-01-04T06:46:53.373Z"
      },
      {
        "duration": 12,
        "start_time": "2022-01-04T06:46:53.541Z"
      },
      {
        "duration": 7,
        "start_time": "2022-01-04T06:46:53.555Z"
      },
      {
        "duration": 4,
        "start_time": "2022-01-04T06:46:53.563Z"
      },
      {
        "duration": 6,
        "start_time": "2022-01-04T06:46:53.569Z"
      },
      {
        "duration": 10,
        "start_time": "2022-01-04T06:46:53.577Z"
      },
      {
        "duration": 4,
        "start_time": "2022-01-04T06:46:53.588Z"
      },
      {
        "duration": 6,
        "start_time": "2022-01-04T06:46:53.593Z"
      },
      {
        "duration": 8,
        "start_time": "2022-01-04T06:46:53.601Z"
      },
      {
        "duration": 33,
        "start_time": "2022-01-04T06:46:53.611Z"
      },
      {
        "duration": 6,
        "start_time": "2022-01-04T06:46:53.646Z"
      },
      {
        "duration": 7,
        "start_time": "2022-01-04T06:46:53.654Z"
      },
      {
        "duration": 9,
        "start_time": "2022-01-04T06:46:53.663Z"
      },
      {
        "duration": 12,
        "start_time": "2022-01-04T06:46:53.674Z"
      },
      {
        "duration": 9,
        "start_time": "2022-01-04T06:46:53.688Z"
      },
      {
        "duration": 46,
        "start_time": "2022-01-04T06:46:53.698Z"
      },
      {
        "duration": 10,
        "start_time": "2022-01-04T06:46:53.746Z"
      },
      {
        "duration": 86,
        "start_time": "2022-01-04T06:46:53.758Z"
      },
      {
        "duration": 121,
        "start_time": "2022-01-04T06:46:53.846Z"
      },
      {
        "duration": 82,
        "start_time": "2022-01-04T06:46:53.969Z"
      },
      {
        "duration": 4,
        "start_time": "2022-01-04T06:46:54.053Z"
      },
      {
        "duration": 11,
        "start_time": "2022-01-04T06:46:54.058Z"
      },
      {
        "duration": 4,
        "start_time": "2022-01-04T06:46:54.071Z"
      },
      {
        "duration": 35393,
        "start_time": "2022-01-04T06:46:54.077Z"
      },
      {
        "duration": 4,
        "start_time": "2022-01-04T06:47:29.472Z"
      },
      {
        "duration": 5,
        "start_time": "2022-01-04T06:47:29.477Z"
      },
      {
        "duration": 493,
        "start_time": "2022-01-04T06:47:29.484Z"
      },
      {
        "duration": 696,
        "start_time": "2022-01-04T06:47:29.978Z"
      },
      {
        "duration": 303,
        "start_time": "2022-01-04T06:47:30.676Z"
      },
      {
        "duration": 1191,
        "start_time": "2022-01-04T06:47:30.980Z"
      },
      {
        "duration": 3,
        "start_time": "2022-01-04T06:47:32.173Z"
      },
      {
        "duration": 11,
        "start_time": "2022-01-04T06:47:32.177Z"
      },
      {
        "duration": 19,
        "start_time": "2022-01-04T06:47:32.189Z"
      },
      {
        "duration": 606,
        "start_time": "2022-01-04T06:47:32.209Z"
      },
      {
        "duration": 145,
        "start_time": "2022-01-04T06:47:32.672Z"
      },
      {
        "duration": 138,
        "start_time": "2022-01-04T06:47:32.680Z"
      },
      {
        "duration": 1127,
        "start_time": "2022-01-04T06:51:57.257Z"
      },
      {
        "duration": 41,
        "start_time": "2022-01-04T06:51:58.386Z"
      },
      {
        "duration": 3,
        "start_time": "2022-01-04T06:51:58.432Z"
      },
      {
        "duration": 5,
        "start_time": "2022-01-04T06:51:58.441Z"
      },
      {
        "duration": 10,
        "start_time": "2022-01-04T06:51:58.447Z"
      },
      {
        "duration": 7,
        "start_time": "2022-01-04T06:51:58.459Z"
      },
      {
        "duration": 8,
        "start_time": "2022-01-04T06:51:58.468Z"
      },
      {
        "duration": 4,
        "start_time": "2022-01-04T06:51:58.478Z"
      },
      {
        "duration": 8,
        "start_time": "2022-01-04T06:51:58.484Z"
      },
      {
        "duration": 11,
        "start_time": "2022-01-04T06:51:58.493Z"
      },
      {
        "duration": 184,
        "start_time": "2022-01-04T06:51:58.506Z"
      },
      {
        "duration": 167,
        "start_time": "2022-01-04T06:51:58.691Z"
      },
      {
        "duration": 6,
        "start_time": "2022-01-04T06:51:58.860Z"
      },
      {
        "duration": 11,
        "start_time": "2022-01-04T06:51:58.867Z"
      },
      {
        "duration": 5,
        "start_time": "2022-01-04T06:51:58.879Z"
      },
      {
        "duration": 5,
        "start_time": "2022-01-04T06:51:58.886Z"
      },
      {
        "duration": 10,
        "start_time": "2022-01-04T06:51:58.892Z"
      },
      {
        "duration": 8,
        "start_time": "2022-01-04T06:51:58.904Z"
      },
      {
        "duration": 28,
        "start_time": "2022-01-04T06:51:58.914Z"
      },
      {
        "duration": 6,
        "start_time": "2022-01-04T06:51:58.943Z"
      },
      {
        "duration": 5,
        "start_time": "2022-01-04T06:51:58.950Z"
      },
      {
        "duration": 9,
        "start_time": "2022-01-04T06:51:58.957Z"
      },
      {
        "duration": 9,
        "start_time": "2022-01-04T06:51:58.967Z"
      },
      {
        "duration": 6,
        "start_time": "2022-01-04T06:51:58.978Z"
      },
      {
        "duration": 8,
        "start_time": "2022-01-04T06:51:58.985Z"
      },
      {
        "duration": 9,
        "start_time": "2022-01-04T06:51:58.996Z"
      },
      {
        "duration": 151,
        "start_time": "2022-01-04T06:51:59.006Z"
      },
      {
        "duration": 12,
        "start_time": "2022-01-04T06:51:59.158Z"
      },
      {
        "duration": 8,
        "start_time": "2022-01-04T06:51:59.172Z"
      },
      {
        "duration": 4,
        "start_time": "2022-01-04T06:51:59.182Z"
      },
      {
        "duration": 7,
        "start_time": "2022-01-04T06:51:59.187Z"
      },
      {
        "duration": 6,
        "start_time": "2022-01-04T06:51:59.195Z"
      },
      {
        "duration": 39,
        "start_time": "2022-01-04T06:51:59.203Z"
      },
      {
        "duration": 6,
        "start_time": "2022-01-04T06:51:59.244Z"
      },
      {
        "duration": 5,
        "start_time": "2022-01-04T06:51:59.251Z"
      },
      {
        "duration": 7,
        "start_time": "2022-01-04T06:51:59.258Z"
      },
      {
        "duration": 12,
        "start_time": "2022-01-04T06:51:59.266Z"
      },
      {
        "duration": 8,
        "start_time": "2022-01-04T06:51:59.279Z"
      },
      {
        "duration": 7,
        "start_time": "2022-01-04T06:51:59.289Z"
      },
      {
        "duration": 9,
        "start_time": "2022-01-04T06:51:59.298Z"
      },
      {
        "duration": 6,
        "start_time": "2022-01-04T06:51:59.309Z"
      },
      {
        "duration": 40,
        "start_time": "2022-01-04T06:51:59.316Z"
      },
      {
        "duration": 11,
        "start_time": "2022-01-04T06:51:59.358Z"
      },
      {
        "duration": 78,
        "start_time": "2022-01-04T06:51:59.370Z"
      },
      {
        "duration": 119,
        "start_time": "2022-01-04T06:51:59.450Z"
      },
      {
        "duration": 82,
        "start_time": "2022-01-04T06:51:59.571Z"
      },
      {
        "duration": 3,
        "start_time": "2022-01-04T06:51:59.654Z"
      },
      {
        "duration": 6,
        "start_time": "2022-01-04T06:51:59.658Z"
      },
      {
        "duration": 4,
        "start_time": "2022-01-04T06:51:59.665Z"
      },
      {
        "duration": 4,
        "start_time": "2022-01-04T06:51:59.671Z"
      },
      {
        "duration": 30492,
        "start_time": "2022-01-04T06:51:59.676Z"
      },
      {
        "duration": 4,
        "start_time": "2022-01-04T06:52:30.169Z"
      },
      {
        "duration": 7,
        "start_time": "2022-01-04T06:52:30.175Z"
      },
      {
        "duration": 509,
        "start_time": "2022-01-04T06:52:30.184Z"
      },
      {
        "duration": 91,
        "start_time": "2022-01-04T06:52:30.694Z"
      },
      {
        "duration": 39,
        "start_time": "2022-01-04T06:52:30.787Z"
      },
      {
        "duration": 605,
        "start_time": "2022-01-04T06:52:30.827Z"
      },
      {
        "duration": 8,
        "start_time": "2022-01-04T06:52:31.434Z"
      },
      {
        "duration": 17,
        "start_time": "2022-01-04T06:52:31.444Z"
      },
      {
        "duration": 21,
        "start_time": "2022-01-04T06:52:31.463Z"
      },
      {
        "duration": 634,
        "start_time": "2022-01-04T06:52:31.486Z"
      },
      {
        "duration": 163,
        "start_time": "2022-01-04T06:52:31.959Z"
      },
      {
        "duration": 155,
        "start_time": "2022-01-04T06:52:31.968Z"
      },
      {
        "duration": 5,
        "start_time": "2022-01-04T07:11:57.541Z"
      },
      {
        "duration": 3,
        "start_time": "2022-01-04T07:13:11.296Z"
      },
      {
        "duration": 3,
        "start_time": "2022-01-04T07:13:20.899Z"
      },
      {
        "duration": 4,
        "start_time": "2022-01-04T07:13:35.255Z"
      },
      {
        "duration": 4,
        "start_time": "2022-01-04T07:16:28.550Z"
      },
      {
        "duration": 4,
        "start_time": "2022-01-04T07:16:48.455Z"
      },
      {
        "duration": 4,
        "start_time": "2022-01-04T07:16:57.010Z"
      },
      {
        "duration": 4,
        "start_time": "2022-01-04T07:17:21.578Z"
      },
      {
        "duration": 113,
        "start_time": "2022-01-04T07:17:40.070Z"
      },
      {
        "duration": 74,
        "start_time": "2022-01-04T07:17:53.209Z"
      },
      {
        "duration": 3,
        "start_time": "2022-01-04T07:17:58.879Z"
      },
      {
        "duration": 3,
        "start_time": "2022-01-04T07:18:04.589Z"
      },
      {
        "duration": 3,
        "start_time": "2022-01-04T07:18:46.039Z"
      },
      {
        "duration": 6,
        "start_time": "2022-01-04T07:18:55.007Z"
      },
      {
        "duration": 3,
        "start_time": "2022-01-04T07:19:00.870Z"
      },
      {
        "duration": 3,
        "start_time": "2022-01-04T07:19:02.628Z"
      },
      {
        "duration": 2,
        "start_time": "2022-01-04T07:19:18.701Z"
      },
      {
        "duration": 31682,
        "start_time": "2022-01-04T07:19:24.428Z"
      },
      {
        "duration": 4,
        "start_time": "2022-01-04T07:19:59.088Z"
      },
      {
        "duration": 4,
        "start_time": "2022-01-04T07:19:59.688Z"
      },
      {
        "duration": 2034,
        "start_time": "2022-01-04T07:20:42.219Z"
      },
      {
        "duration": 82,
        "start_time": "2022-01-04T07:21:55.981Z"
      },
      {
        "duration": 2,
        "start_time": "2022-01-04T07:21:56.480Z"
      },
      {
        "duration": 3,
        "start_time": "2022-01-04T07:22:08.301Z"
      },
      {
        "duration": 3,
        "start_time": "2022-01-04T07:22:10.767Z"
      },
      {
        "duration": 2,
        "start_time": "2022-01-04T07:22:11.089Z"
      },
      {
        "duration": 2,
        "start_time": "2022-01-04T07:22:11.597Z"
      },
      {
        "duration": 2,
        "start_time": "2022-01-04T07:22:12.759Z"
      },
      {
        "duration": 3,
        "start_time": "2022-01-04T07:22:13.180Z"
      },
      {
        "duration": 222640,
        "start_time": "2022-01-04T07:22:15.049Z"
      },
      {
        "duration": 4,
        "start_time": "2022-01-04T07:27:53.841Z"
      },
      {
        "duration": 4,
        "start_time": "2022-01-04T07:27:54.591Z"
      },
      {
        "duration": 1738,
        "start_time": "2022-01-04T07:30:06.420Z"
      },
      {
        "duration": 2,
        "start_time": "2022-01-04T07:31:20.059Z"
      },
      {
        "duration": 2,
        "start_time": "2022-01-04T07:31:20.990Z"
      },
      {
        "duration": 3,
        "start_time": "2022-01-04T07:31:21.234Z"
      },
      {
        "duration": 2,
        "start_time": "2022-01-04T07:31:21.804Z"
      },
      {
        "duration": 2,
        "start_time": "2022-01-04T07:31:22.386Z"
      },
      {
        "duration": 3,
        "start_time": "2022-01-04T07:31:23.142Z"
      },
      {
        "duration": 95153,
        "start_time": "2022-01-04T07:31:24.325Z"
      },
      {
        "duration": 4,
        "start_time": "2022-01-04T07:33:23.719Z"
      },
      {
        "duration": 4,
        "start_time": "2022-01-04T07:33:24.356Z"
      },
      {
        "duration": 2453,
        "start_time": "2022-01-04T07:34:02.990Z"
      },
      {
        "duration": 3,
        "start_time": "2022-01-04T07:36:03.035Z"
      },
      {
        "duration": 3,
        "start_time": "2022-01-04T07:36:03.710Z"
      },
      {
        "duration": 2,
        "start_time": "2022-01-04T07:36:03.945Z"
      },
      {
        "duration": 2,
        "start_time": "2022-01-04T07:36:04.183Z"
      },
      {
        "duration": 2,
        "start_time": "2022-01-04T07:36:04.675Z"
      },
      {
        "duration": 3,
        "start_time": "2022-01-04T07:36:05.226Z"
      },
      {
        "duration": 178908,
        "start_time": "2022-01-04T07:36:06.073Z"
      },
      {
        "duration": 4,
        "start_time": "2022-01-04T07:41:31.335Z"
      },
      {
        "duration": 3,
        "start_time": "2022-01-04T07:41:32.415Z"
      },
      {
        "duration": 2029,
        "start_time": "2022-01-04T07:43:17.119Z"
      },
      {
        "duration": 4,
        "start_time": "2022-01-04T07:46:21.847Z"
      },
      {
        "duration": 2022,
        "start_time": "2022-01-04T07:47:53.360Z"
      },
      {
        "duration": 318,
        "start_time": "2022-01-04T07:53:22.744Z"
      },
      {
        "duration": 7,
        "start_time": "2022-01-04T07:53:39.854Z"
      },
      {
        "duration": 145,
        "start_time": "2022-01-04T07:54:32.467Z"
      },
      {
        "duration": 287,
        "start_time": "2022-01-04T08:01:08.663Z"
      },
      {
        "duration": 149,
        "start_time": "2022-01-04T08:01:34.135Z"
      },
      {
        "duration": 3,
        "start_time": "2022-01-04T08:11:14.338Z"
      },
      {
        "duration": 249,
        "start_time": "2022-01-04T08:11:14.987Z"
      },
      {
        "duration": 2,
        "start_time": "2022-01-04T08:12:32.477Z"
      },
      {
        "duration": 32,
        "start_time": "2022-01-04T08:16:33.974Z"
      },
      {
        "duration": 100,
        "start_time": "2022-01-04T08:19:16.497Z"
      },
      {
        "duration": 83,
        "start_time": "2022-01-04T08:20:40.581Z"
      },
      {
        "duration": 67,
        "start_time": "2022-01-04T08:22:20.540Z"
      },
      {
        "duration": 65,
        "start_time": "2022-01-04T08:23:09.260Z"
      },
      {
        "duration": 33,
        "start_time": "2022-01-04T08:26:18.827Z"
      },
      {
        "duration": 344,
        "start_time": "2022-01-04T08:29:28.076Z"
      },
      {
        "duration": 241,
        "start_time": "2022-01-04T08:29:41.919Z"
      },
      {
        "duration": 79,
        "start_time": "2022-01-04T08:29:51.062Z"
      },
      {
        "duration": 76,
        "start_time": "2022-01-04T08:30:36.361Z"
      },
      {
        "duration": 23,
        "start_time": "2022-01-04T08:30:43.992Z"
      },
      {
        "duration": 5,
        "start_time": "2022-01-04T08:31:47.310Z"
      },
      {
        "duration": 139,
        "start_time": "2022-01-04T08:31:49.106Z"
      },
      {
        "duration": 31,
        "start_time": "2022-01-04T08:32:26.229Z"
      },
      {
        "duration": 29,
        "start_time": "2022-01-04T08:33:22.666Z"
      },
      {
        "duration": 30,
        "start_time": "2022-01-04T08:33:57.484Z"
      },
      {
        "duration": 29,
        "start_time": "2022-01-04T08:37:41.289Z"
      },
      {
        "duration": 98,
        "start_time": "2022-01-04T08:37:43.297Z"
      },
      {
        "duration": 3,
        "start_time": "2022-01-04T08:37:52.667Z"
      },
      {
        "duration": 2,
        "start_time": "2022-01-04T08:37:53.847Z"
      },
      {
        "duration": 2,
        "start_time": "2022-01-04T08:37:54.577Z"
      },
      {
        "duration": 912,
        "start_time": "2022-01-04T08:37:56.661Z"
      },
      {
        "duration": 4,
        "start_time": "2022-01-04T08:38:05.543Z"
      },
      {
        "duration": 4,
        "start_time": "2022-01-04T08:38:06.264Z"
      },
      {
        "duration": 27,
        "start_time": "2022-01-04T08:39:42.986Z"
      },
      {
        "duration": 3,
        "start_time": "2022-01-04T08:40:05.016Z"
      },
      {
        "duration": 3,
        "start_time": "2022-01-04T08:40:05.558Z"
      },
      {
        "duration": 3,
        "start_time": "2022-01-04T08:40:05.978Z"
      },
      {
        "duration": 1117,
        "start_time": "2022-01-04T08:40:06.656Z"
      },
      {
        "duration": 4,
        "start_time": "2022-01-04T08:40:12.969Z"
      },
      {
        "duration": 3,
        "start_time": "2022-01-04T08:40:14.095Z"
      },
      {
        "duration": 38,
        "start_time": "2022-01-04T08:41:32.133Z"
      },
      {
        "duration": 3,
        "start_time": "2022-01-04T08:42:08.771Z"
      },
      {
        "duration": 3,
        "start_time": "2022-01-04T08:42:09.332Z"
      },
      {
        "duration": 3,
        "start_time": "2022-01-04T08:42:09.973Z"
      },
      {
        "duration": 906,
        "start_time": "2022-01-04T08:42:10.658Z"
      },
      {
        "duration": 3,
        "start_time": "2022-01-04T08:42:11.917Z"
      },
      {
        "duration": 4,
        "start_time": "2022-01-04T08:42:13.347Z"
      },
      {
        "duration": 31,
        "start_time": "2022-01-04T08:42:29.252Z"
      },
      {
        "duration": 29,
        "start_time": "2022-01-04T08:42:36.794Z"
      },
      {
        "duration": 31,
        "start_time": "2022-01-04T08:43:31.270Z"
      },
      {
        "duration": 30,
        "start_time": "2022-01-04T08:43:37.737Z"
      },
      {
        "duration": 2,
        "start_time": "2022-01-04T08:44:01.781Z"
      },
      {
        "duration": 3,
        "start_time": "2022-01-04T08:44:02.440Z"
      },
      {
        "duration": 3,
        "start_time": "2022-01-04T08:44:03.151Z"
      },
      {
        "duration": 608,
        "start_time": "2022-01-04T08:44:03.840Z"
      },
      {
        "duration": 4,
        "start_time": "2022-01-04T08:44:05.163Z"
      },
      {
        "duration": 4,
        "start_time": "2022-01-04T08:44:06.464Z"
      },
      {
        "duration": 30,
        "start_time": "2022-01-04T08:44:13.770Z"
      },
      {
        "duration": 3,
        "start_time": "2022-01-04T08:44:51.820Z"
      },
      {
        "duration": 3,
        "start_time": "2022-01-04T08:44:52.337Z"
      },
      {
        "duration": 3,
        "start_time": "2022-01-04T08:44:52.797Z"
      },
      {
        "duration": 3,
        "start_time": "2022-01-04T08:46:04.611Z"
      },
      {
        "duration": 3,
        "start_time": "2022-01-04T08:46:05.634Z"
      },
      {
        "duration": 3,
        "start_time": "2022-01-04T08:46:06.452Z"
      },
      {
        "duration": 232,
        "start_time": "2022-01-04T08:46:07.512Z"
      },
      {
        "duration": 4,
        "start_time": "2022-01-04T08:46:10.110Z"
      },
      {
        "duration": 4,
        "start_time": "2022-01-04T08:46:10.750Z"
      },
      {
        "duration": 27,
        "start_time": "2022-01-04T08:46:26.801Z"
      },
      {
        "duration": 3,
        "start_time": "2022-01-04T08:47:56.440Z"
      },
      {
        "duration": 3,
        "start_time": "2022-01-04T08:47:56.990Z"
      },
      {
        "duration": 2,
        "start_time": "2022-01-04T08:47:57.569Z"
      },
      {
        "duration": 437,
        "start_time": "2022-01-04T08:47:58.156Z"
      },
      {
        "duration": 4,
        "start_time": "2022-01-04T08:48:01.305Z"
      },
      {
        "duration": 4,
        "start_time": "2022-01-04T08:48:02.098Z"
      },
      {
        "duration": 24,
        "start_time": "2022-01-04T08:48:17.491Z"
      },
      {
        "duration": 92,
        "start_time": "2022-01-04T08:57:19.735Z"
      },
      {
        "duration": 24,
        "start_time": "2022-01-04T08:57:35.649Z"
      },
      {
        "duration": 3,
        "start_time": "2022-01-04T09:03:25.557Z"
      },
      {
        "duration": 3,
        "start_time": "2022-01-04T09:03:26.329Z"
      },
      {
        "duration": 3,
        "start_time": "2022-01-04T09:03:27.478Z"
      },
      {
        "duration": 32042,
        "start_time": "2022-01-04T09:03:28.186Z"
      },
      {
        "duration": 3,
        "start_time": "2022-01-04T09:04:10.695Z"
      },
      {
        "duration": 4,
        "start_time": "2022-01-04T09:04:11.267Z"
      },
      {
        "duration": 2355,
        "start_time": "2022-01-04T09:04:46.929Z"
      },
      {
        "duration": 12,
        "start_time": "2022-01-04T09:18:39.817Z"
      },
      {
        "duration": 8,
        "start_time": "2022-01-04T09:19:25.413Z"
      },
      {
        "duration": 4,
        "start_time": "2022-01-04T09:19:26.727Z"
      },
      {
        "duration": 8,
        "start_time": "2022-01-04T09:20:09.757Z"
      },
      {
        "duration": 6,
        "start_time": "2022-01-04T09:20:10.319Z"
      },
      {
        "duration": 83,
        "start_time": "2022-01-04T09:21:50.097Z"
      },
      {
        "duration": 3,
        "start_time": "2022-01-04T09:22:31.799Z"
      },
      {
        "duration": 26,
        "start_time": "2022-01-04T09:24:36.247Z"
      },
      {
        "duration": 1184,
        "start_time": "2022-01-04T09:24:56.913Z"
      },
      {
        "duration": 41,
        "start_time": "2022-01-04T09:24:58.099Z"
      },
      {
        "duration": 3,
        "start_time": "2022-01-04T09:24:58.142Z"
      },
      {
        "duration": 14,
        "start_time": "2022-01-04T09:24:58.147Z"
      },
      {
        "duration": 10,
        "start_time": "2022-01-04T09:24:58.163Z"
      },
      {
        "duration": 15,
        "start_time": "2022-01-04T09:24:58.175Z"
      },
      {
        "duration": 9,
        "start_time": "2022-01-04T09:24:58.192Z"
      },
      {
        "duration": 4,
        "start_time": "2022-01-04T09:24:58.204Z"
      },
      {
        "duration": 9,
        "start_time": "2022-01-04T09:24:58.210Z"
      },
      {
        "duration": 23,
        "start_time": "2022-01-04T09:24:58.220Z"
      },
      {
        "duration": 171,
        "start_time": "2022-01-04T09:24:58.245Z"
      },
      {
        "duration": 169,
        "start_time": "2022-01-04T09:24:58.418Z"
      },
      {
        "duration": 6,
        "start_time": "2022-01-04T09:24:58.589Z"
      },
      {
        "duration": 7,
        "start_time": "2022-01-04T09:24:58.597Z"
      },
      {
        "duration": 5,
        "start_time": "2022-01-04T09:24:58.605Z"
      },
      {
        "duration": 6,
        "start_time": "2022-01-04T09:24:58.611Z"
      },
      {
        "duration": 26,
        "start_time": "2022-01-04T09:24:58.618Z"
      },
      {
        "duration": 8,
        "start_time": "2022-01-04T09:24:58.645Z"
      },
      {
        "duration": 10,
        "start_time": "2022-01-04T09:24:58.655Z"
      },
      {
        "duration": 6,
        "start_time": "2022-01-04T09:24:58.666Z"
      },
      {
        "duration": 9,
        "start_time": "2022-01-04T09:24:58.673Z"
      },
      {
        "duration": 8,
        "start_time": "2022-01-04T09:24:58.683Z"
      },
      {
        "duration": 8,
        "start_time": "2022-01-04T09:24:58.694Z"
      },
      {
        "duration": 6,
        "start_time": "2022-01-04T09:24:58.704Z"
      },
      {
        "duration": 9,
        "start_time": "2022-01-04T09:24:58.711Z"
      },
      {
        "duration": 21,
        "start_time": "2022-01-04T09:24:58.721Z"
      },
      {
        "duration": 141,
        "start_time": "2022-01-04T09:24:58.743Z"
      },
      {
        "duration": 12,
        "start_time": "2022-01-04T09:24:58.885Z"
      },
      {
        "duration": 11,
        "start_time": "2022-01-04T09:24:58.898Z"
      },
      {
        "duration": 4,
        "start_time": "2022-01-04T09:24:58.910Z"
      },
      {
        "duration": 25,
        "start_time": "2022-01-04T09:24:58.916Z"
      },
      {
        "duration": 5,
        "start_time": "2022-01-04T09:24:58.943Z"
      },
      {
        "duration": 6,
        "start_time": "2022-01-04T09:24:58.949Z"
      },
      {
        "duration": 4,
        "start_time": "2022-01-04T09:24:58.956Z"
      },
      {
        "duration": 7,
        "start_time": "2022-01-04T09:24:58.962Z"
      },
      {
        "duration": 9,
        "start_time": "2022-01-04T09:24:58.970Z"
      },
      {
        "duration": 8,
        "start_time": "2022-01-04T09:24:58.980Z"
      },
      {
        "duration": 10,
        "start_time": "2022-01-04T09:24:58.989Z"
      },
      {
        "duration": 7,
        "start_time": "2022-01-04T09:24:59.000Z"
      },
      {
        "duration": 39,
        "start_time": "2022-01-04T09:24:59.009Z"
      },
      {
        "duration": 25,
        "start_time": "2022-01-04T09:24:59.050Z"
      },
      {
        "duration": 6,
        "start_time": "2022-01-04T09:24:59.143Z"
      },
      {
        "duration": 329,
        "start_time": "2022-01-04T09:24:59.151Z"
      },
      {
        "duration": 28,
        "start_time": "2022-01-04T09:24:59.482Z"
      },
      {
        "duration": 42,
        "start_time": "2022-01-04T09:24:59.512Z"
      },
      {
        "duration": 2,
        "start_time": "2022-01-04T09:24:59.556Z"
      },
      {
        "duration": 7,
        "start_time": "2022-01-04T09:24:59.560Z"
      },
      {
        "duration": 4,
        "start_time": "2022-01-04T09:24:59.568Z"
      },
      {
        "duration": 528,
        "start_time": "2022-01-04T09:24:59.574Z"
      },
      {
        "duration": 3,
        "start_time": "2022-01-04T09:25:00.104Z"
      },
      {
        "duration": 12,
        "start_time": "2022-01-04T09:25:00.109Z"
      },
      {
        "duration": 35,
        "start_time": "2022-01-04T09:25:00.123Z"
      },
      {
        "duration": 82,
        "start_time": "2022-01-04T09:25:00.160Z"
      },
      {
        "duration": 2,
        "start_time": "2022-01-04T09:25:00.244Z"
      },
      {
        "duration": 7,
        "start_time": "2022-01-04T09:25:00.248Z"
      },
      {
        "duration": 7,
        "start_time": "2022-01-04T09:25:00.257Z"
      },
      {
        "duration": 32345,
        "start_time": "2022-01-04T09:25:00.266Z"
      },
      {
        "duration": 3,
        "start_time": "2022-01-04T09:25:32.613Z"
      },
      {
        "duration": 7,
        "start_time": "2022-01-04T09:25:32.618Z"
      },
      {
        "duration": 2564,
        "start_time": "2022-01-04T09:25:32.627Z"
      },
      {
        "duration": 1163,
        "start_time": "2022-01-04T09:25:35.193Z"
      },
      {
        "duration": 158,
        "start_time": "2022-01-04T09:25:36.199Z"
      },
      {
        "duration": 155,
        "start_time": "2022-01-04T09:25:36.204Z"
      },
      {
        "duration": 151,
        "start_time": "2022-01-04T09:25:36.209Z"
      },
      {
        "duration": 134,
        "start_time": "2022-01-04T09:25:36.227Z"
      },
      {
        "duration": 122,
        "start_time": "2022-01-04T09:25:36.240Z"
      },
      {
        "duration": 118,
        "start_time": "2022-01-04T09:25:36.245Z"
      },
      {
        "duration": 1184,
        "start_time": "2022-01-04T09:26:06.813Z"
      },
      {
        "duration": 39,
        "start_time": "2022-01-04T09:26:07.999Z"
      },
      {
        "duration": 2,
        "start_time": "2022-01-04T09:26:08.041Z"
      },
      {
        "duration": 13,
        "start_time": "2022-01-04T09:26:08.045Z"
      },
      {
        "duration": 8,
        "start_time": "2022-01-04T09:26:08.059Z"
      },
      {
        "duration": 6,
        "start_time": "2022-01-04T09:26:08.069Z"
      },
      {
        "duration": 8,
        "start_time": "2022-01-04T09:26:08.077Z"
      },
      {
        "duration": 6,
        "start_time": "2022-01-04T09:26:08.086Z"
      },
      {
        "duration": 9,
        "start_time": "2022-01-04T09:26:08.094Z"
      },
      {
        "duration": 8,
        "start_time": "2022-01-04T09:26:08.105Z"
      },
      {
        "duration": 176,
        "start_time": "2022-01-04T09:26:08.114Z"
      },
      {
        "duration": 169,
        "start_time": "2022-01-04T09:26:08.291Z"
      },
      {
        "duration": 7,
        "start_time": "2022-01-04T09:26:08.462Z"
      },
      {
        "duration": 7,
        "start_time": "2022-01-04T09:26:08.470Z"
      },
      {
        "duration": 4,
        "start_time": "2022-01-04T09:26:08.479Z"
      },
      {
        "duration": 6,
        "start_time": "2022-01-04T09:26:08.485Z"
      },
      {
        "duration": 6,
        "start_time": "2022-01-04T09:26:08.492Z"
      },
      {
        "duration": 5,
        "start_time": "2022-01-04T09:26:08.499Z"
      },
      {
        "duration": 37,
        "start_time": "2022-01-04T09:26:08.505Z"
      },
      {
        "duration": 5,
        "start_time": "2022-01-04T09:26:08.543Z"
      },
      {
        "duration": 7,
        "start_time": "2022-01-04T09:26:08.550Z"
      },
      {
        "duration": 10,
        "start_time": "2022-01-04T09:26:08.558Z"
      },
      {
        "duration": 10,
        "start_time": "2022-01-04T09:26:08.569Z"
      },
      {
        "duration": 10,
        "start_time": "2022-01-04T09:26:08.580Z"
      },
      {
        "duration": 9,
        "start_time": "2022-01-04T09:26:08.592Z"
      },
      {
        "duration": 12,
        "start_time": "2022-01-04T09:26:08.602Z"
      },
      {
        "duration": 140,
        "start_time": "2022-01-04T09:26:08.617Z"
      },
      {
        "duration": 12,
        "start_time": "2022-01-04T09:26:08.759Z"
      },
      {
        "duration": 5,
        "start_time": "2022-01-04T09:26:08.773Z"
      },
      {
        "duration": 7,
        "start_time": "2022-01-04T09:26:08.780Z"
      },
      {
        "duration": 6,
        "start_time": "2022-01-04T09:26:08.788Z"
      },
      {
        "duration": 9,
        "start_time": "2022-01-04T09:26:08.796Z"
      },
      {
        "duration": 3,
        "start_time": "2022-01-04T09:26:08.806Z"
      },
      {
        "duration": 8,
        "start_time": "2022-01-04T09:26:08.811Z"
      },
      {
        "duration": 22,
        "start_time": "2022-01-04T09:26:08.820Z"
      },
      {
        "duration": 7,
        "start_time": "2022-01-04T09:26:08.843Z"
      },
      {
        "duration": 8,
        "start_time": "2022-01-04T09:26:08.852Z"
      },
      {
        "duration": 8,
        "start_time": "2022-01-04T09:26:08.861Z"
      },
      {
        "duration": 10,
        "start_time": "2022-01-04T09:26:08.870Z"
      },
      {
        "duration": 29,
        "start_time": "2022-01-04T09:26:08.881Z"
      },
      {
        "duration": 35,
        "start_time": "2022-01-04T09:26:08.912Z"
      },
      {
        "duration": 94,
        "start_time": "2022-01-04T09:26:08.949Z"
      },
      {
        "duration": 337,
        "start_time": "2022-01-04T09:26:09.045Z"
      },
      {
        "duration": 29,
        "start_time": "2022-01-04T09:26:09.384Z"
      },
      {
        "duration": 41,
        "start_time": "2022-01-04T09:26:09.415Z"
      },
      {
        "duration": 3,
        "start_time": "2022-01-04T09:26:09.458Z"
      },
      {
        "duration": 5,
        "start_time": "2022-01-04T09:26:09.462Z"
      },
      {
        "duration": 7,
        "start_time": "2022-01-04T09:26:09.468Z"
      },
      {
        "duration": 528,
        "start_time": "2022-01-04T09:26:09.477Z"
      },
      {
        "duration": 3,
        "start_time": "2022-01-04T09:26:10.007Z"
      },
      {
        "duration": 10,
        "start_time": "2022-01-04T09:26:10.012Z"
      },
      {
        "duration": 36,
        "start_time": "2022-01-04T09:26:10.023Z"
      },
      {
        "duration": 66,
        "start_time": "2022-01-04T09:26:10.060Z"
      },
      {
        "duration": 2,
        "start_time": "2022-01-04T09:26:10.141Z"
      },
      {
        "duration": 5,
        "start_time": "2022-01-04T09:26:10.145Z"
      },
      {
        "duration": 4,
        "start_time": "2022-01-04T09:26:10.152Z"
      },
      {
        "duration": 32132,
        "start_time": "2022-01-04T09:26:10.158Z"
      },
      {
        "duration": 3,
        "start_time": "2022-01-04T09:26:42.291Z"
      },
      {
        "duration": 6,
        "start_time": "2022-01-04T09:26:42.296Z"
      },
      {
        "duration": 2415,
        "start_time": "2022-01-04T09:26:42.303Z"
      },
      {
        "duration": 640,
        "start_time": "2022-01-04T09:26:44.720Z"
      },
      {
        "duration": 153,
        "start_time": "2022-01-04T09:26:45.208Z"
      },
      {
        "duration": 143,
        "start_time": "2022-01-04T09:26:45.219Z"
      },
      {
        "duration": 136,
        "start_time": "2022-01-04T09:26:45.227Z"
      },
      {
        "duration": 113,
        "start_time": "2022-01-04T09:26:45.251Z"
      },
      {
        "duration": 92,
        "start_time": "2022-01-04T09:26:45.273Z"
      },
      {
        "duration": 83,
        "start_time": "2022-01-04T09:26:45.283Z"
      },
      {
        "duration": 2738,
        "start_time": "2022-01-04T09:27:24.087Z"
      },
      {
        "duration": 22,
        "start_time": "2022-01-04T10:12:47.016Z"
      },
      {
        "duration": 5,
        "start_time": "2022-01-04T10:12:49.075Z"
      },
      {
        "duration": 140,
        "start_time": "2022-01-04T10:12:50.074Z"
      },
      {
        "duration": 29,
        "start_time": "2022-01-04T10:12:57.187Z"
      },
      {
        "duration": 53,
        "start_time": "2022-01-04T10:13:12.236Z"
      },
      {
        "duration": 29,
        "start_time": "2022-01-04T10:13:38.525Z"
      },
      {
        "duration": 2,
        "start_time": "2022-01-04T10:21:36.555Z"
      },
      {
        "duration": 1133,
        "start_time": "2022-01-04T10:21:47.976Z"
      },
      {
        "duration": 41,
        "start_time": "2022-01-04T10:21:49.111Z"
      },
      {
        "duration": 2,
        "start_time": "2022-01-04T10:21:49.156Z"
      },
      {
        "duration": 6,
        "start_time": "2022-01-04T10:21:49.160Z"
      },
      {
        "duration": 11,
        "start_time": "2022-01-04T10:21:49.167Z"
      },
      {
        "duration": 13,
        "start_time": "2022-01-04T10:21:49.179Z"
      },
      {
        "duration": 8,
        "start_time": "2022-01-04T10:21:49.193Z"
      },
      {
        "duration": 3,
        "start_time": "2022-01-04T10:21:49.204Z"
      },
      {
        "duration": 14,
        "start_time": "2022-01-04T10:21:49.209Z"
      },
      {
        "duration": 20,
        "start_time": "2022-01-04T10:21:49.224Z"
      },
      {
        "duration": 172,
        "start_time": "2022-01-04T10:21:49.245Z"
      },
      {
        "duration": 167,
        "start_time": "2022-01-04T10:21:49.418Z"
      },
      {
        "duration": 6,
        "start_time": "2022-01-04T10:21:49.587Z"
      },
      {
        "duration": 7,
        "start_time": "2022-01-04T10:21:49.595Z"
      },
      {
        "duration": 4,
        "start_time": "2022-01-04T10:21:49.604Z"
      },
      {
        "duration": 7,
        "start_time": "2022-01-04T10:21:49.610Z"
      },
      {
        "duration": 23,
        "start_time": "2022-01-04T10:21:49.619Z"
      },
      {
        "duration": 9,
        "start_time": "2022-01-04T10:21:49.643Z"
      },
      {
        "duration": 6,
        "start_time": "2022-01-04T10:21:49.653Z"
      },
      {
        "duration": 7,
        "start_time": "2022-01-04T10:21:49.661Z"
      },
      {
        "duration": 12,
        "start_time": "2022-01-04T10:21:49.669Z"
      },
      {
        "duration": 9,
        "start_time": "2022-01-04T10:21:49.682Z"
      },
      {
        "duration": 9,
        "start_time": "2022-01-04T10:21:49.692Z"
      },
      {
        "duration": 6,
        "start_time": "2022-01-04T10:21:49.703Z"
      },
      {
        "duration": 11,
        "start_time": "2022-01-04T10:21:49.711Z"
      },
      {
        "duration": 20,
        "start_time": "2022-01-04T10:21:49.726Z"
      },
      {
        "duration": 143,
        "start_time": "2022-01-04T10:21:49.748Z"
      },
      {
        "duration": 12,
        "start_time": "2022-01-04T10:21:49.893Z"
      },
      {
        "duration": 6,
        "start_time": "2022-01-04T10:21:49.907Z"
      },
      {
        "duration": 4,
        "start_time": "2022-01-04T10:21:49.914Z"
      },
      {
        "duration": 26,
        "start_time": "2022-01-04T10:21:49.920Z"
      },
      {
        "duration": 5,
        "start_time": "2022-01-04T10:21:49.948Z"
      },
      {
        "duration": 4,
        "start_time": "2022-01-04T10:21:49.955Z"
      },
      {
        "duration": 5,
        "start_time": "2022-01-04T10:21:49.961Z"
      },
      {
        "duration": 8,
        "start_time": "2022-01-04T10:21:49.968Z"
      },
      {
        "duration": 12,
        "start_time": "2022-01-04T10:21:49.977Z"
      },
      {
        "duration": 9,
        "start_time": "2022-01-04T10:21:49.990Z"
      },
      {
        "duration": 9,
        "start_time": "2022-01-04T10:21:50.001Z"
      },
      {
        "duration": 26,
        "start_time": "2022-01-04T10:21:50.011Z"
      },
      {
        "duration": 48,
        "start_time": "2022-01-04T10:21:50.039Z"
      },
      {
        "duration": 56,
        "start_time": "2022-01-04T10:21:50.088Z"
      },
      {
        "duration": 95,
        "start_time": "2022-01-04T10:21:50.147Z"
      },
      {
        "duration": 245,
        "start_time": "2022-01-04T10:21:50.244Z"
      },
      {
        "duration": 28,
        "start_time": "2022-01-04T10:21:50.491Z"
      },
      {
        "duration": 43,
        "start_time": "2022-01-04T10:21:50.521Z"
      },
      {
        "duration": 3,
        "start_time": "2022-01-04T10:21:50.566Z"
      },
      {
        "duration": 6,
        "start_time": "2022-01-04T10:21:50.570Z"
      },
      {
        "duration": 12,
        "start_time": "2022-01-04T10:21:50.577Z"
      },
      {
        "duration": 521,
        "start_time": "2022-01-04T10:21:50.591Z"
      },
      {
        "duration": 3,
        "start_time": "2022-01-04T10:21:51.113Z"
      },
      {
        "duration": 11,
        "start_time": "2022-01-04T10:21:51.118Z"
      },
      {
        "duration": 31,
        "start_time": "2022-01-04T10:21:51.130Z"
      },
      {
        "duration": 64,
        "start_time": "2022-01-04T10:21:51.163Z"
      },
      {
        "duration": 13,
        "start_time": "2022-01-04T10:21:51.228Z"
      },
      {
        "duration": 5,
        "start_time": "2022-01-04T10:21:51.243Z"
      },
      {
        "duration": 4,
        "start_time": "2022-01-04T10:21:51.250Z"
      },
      {
        "duration": 6768,
        "start_time": "2022-01-04T10:21:51.255Z"
      },
      {
        "duration": 5,
        "start_time": "2022-01-04T10:21:58.025Z"
      },
      {
        "duration": 4,
        "start_time": "2022-01-04T10:21:58.041Z"
      },
      {
        "duration": 2542,
        "start_time": "2022-01-04T10:21:58.047Z"
      },
      {
        "duration": 3,
        "start_time": "2022-01-04T10:22:00.591Z"
      },
      {
        "duration": 14,
        "start_time": "2022-01-04T10:22:00.596Z"
      },
      {
        "duration": 16,
        "start_time": "2022-01-04T10:22:00.612Z"
      },
      {
        "duration": 16,
        "start_time": "2022-01-04T10:22:00.630Z"
      },
      {
        "duration": 18,
        "start_time": "2022-01-04T10:22:00.648Z"
      },
      {
        "duration": 786,
        "start_time": "2022-01-04T10:22:00.668Z"
      },
      {
        "duration": 166,
        "start_time": "2022-01-04T10:22:01.289Z"
      },
      {
        "duration": 163,
        "start_time": "2022-01-04T10:22:01.293Z"
      },
      {
        "duration": 162,
        "start_time": "2022-01-04T10:22:01.295Z"
      },
      {
        "duration": 152,
        "start_time": "2022-01-04T10:22:01.306Z"
      },
      {
        "duration": 150,
        "start_time": "2022-01-04T10:22:01.309Z"
      },
      {
        "duration": 328,
        "start_time": "2022-01-04T10:22:32.629Z"
      },
      {
        "duration": 4,
        "start_time": "2022-01-04T10:22:40.125Z"
      },
      {
        "duration": 4,
        "start_time": "2022-01-04T10:22:58.193Z"
      },
      {
        "duration": 13,
        "start_time": "2022-01-04T10:24:49.532Z"
      },
      {
        "duration": 57,
        "start_time": "2022-01-04T10:25:22.885Z"
      },
      {
        "duration": 28,
        "start_time": "2022-01-04T10:25:48.357Z"
      },
      {
        "duration": 22,
        "start_time": "2022-01-04T10:26:36.175Z"
      },
      {
        "duration": 22,
        "start_time": "2022-01-04T10:28:41.729Z"
      },
      {
        "duration": 15,
        "start_time": "2022-01-04T10:28:42.227Z"
      },
      {
        "duration": 26,
        "start_time": "2022-01-04T10:28:42.807Z"
      },
      {
        "duration": 34,
        "start_time": "2022-01-04T10:29:05.179Z"
      },
      {
        "duration": 16,
        "start_time": "2022-01-04T10:30:09.889Z"
      },
      {
        "duration": 39,
        "start_time": "2022-01-04T10:30:29.730Z"
      },
      {
        "duration": 64,
        "start_time": "2022-01-04T10:31:43.045Z"
      },
      {
        "duration": 42,
        "start_time": "2022-01-04T10:32:21.427Z"
      },
      {
        "duration": 89,
        "start_time": "2022-01-04T10:32:51.449Z"
      },
      {
        "duration": 66,
        "start_time": "2022-01-04T10:35:23.860Z"
      },
      {
        "duration": 41,
        "start_time": "2022-01-04T10:35:25.310Z"
      },
      {
        "duration": 39,
        "start_time": "2022-01-04T10:35:28.981Z"
      },
      {
        "duration": 91,
        "start_time": "2022-01-04T10:35:58.678Z"
      },
      {
        "duration": 13,
        "start_time": "2022-01-04T10:36:02.423Z"
      },
      {
        "duration": 3,
        "start_time": "2022-01-04T11:58:49.577Z"
      },
      {
        "duration": 3,
        "start_time": "2022-01-04T11:58:57.636Z"
      },
      {
        "duration": 3,
        "start_time": "2022-01-04T11:58:58.265Z"
      },
      {
        "duration": 106480,
        "start_time": "2022-01-04T11:59:21.674Z"
      },
      {
        "duration": 4,
        "start_time": "2022-01-04T12:02:41.941Z"
      },
      {
        "duration": 4,
        "start_time": "2022-01-04T12:02:42.462Z"
      },
      {
        "duration": 614,
        "start_time": "2022-01-04T12:05:20.234Z"
      },
      {
        "duration": 584,
        "start_time": "2022-01-04T12:07:05.917Z"
      },
      {
        "duration": 1664,
        "start_time": "2022-01-05T06:38:10.081Z"
      },
      {
        "duration": 228,
        "start_time": "2022-01-05T06:38:11.748Z"
      },
      {
        "duration": 4,
        "start_time": "2022-01-05T06:38:11.979Z"
      },
      {
        "duration": 8,
        "start_time": "2022-01-05T06:38:11.986Z"
      },
      {
        "duration": 13,
        "start_time": "2022-01-05T06:38:11.996Z"
      },
      {
        "duration": 14,
        "start_time": "2022-01-05T06:38:12.012Z"
      },
      {
        "duration": 12,
        "start_time": "2022-01-05T06:38:12.029Z"
      },
      {
        "duration": 7,
        "start_time": "2022-01-05T06:38:12.043Z"
      },
      {
        "duration": 13,
        "start_time": "2022-01-05T06:38:12.054Z"
      },
      {
        "duration": 8,
        "start_time": "2022-01-05T06:38:12.070Z"
      },
      {
        "duration": 303,
        "start_time": "2022-01-05T06:38:12.080Z"
      },
      {
        "duration": 287,
        "start_time": "2022-01-05T06:38:12.385Z"
      },
      {
        "duration": 9,
        "start_time": "2022-01-05T06:38:12.674Z"
      },
      {
        "duration": 10,
        "start_time": "2022-01-05T06:38:12.685Z"
      },
      {
        "duration": 29,
        "start_time": "2022-01-05T06:38:12.698Z"
      },
      {
        "duration": 9,
        "start_time": "2022-01-05T06:38:12.729Z"
      },
      {
        "duration": 6,
        "start_time": "2022-01-05T06:38:12.741Z"
      },
      {
        "duration": 9,
        "start_time": "2022-01-05T06:38:12.749Z"
      },
      {
        "duration": 10,
        "start_time": "2022-01-05T06:38:12.760Z"
      },
      {
        "duration": 7,
        "start_time": "2022-01-05T06:38:12.772Z"
      },
      {
        "duration": 6,
        "start_time": "2022-01-05T06:38:12.824Z"
      },
      {
        "duration": 7,
        "start_time": "2022-01-05T06:38:12.832Z"
      },
      {
        "duration": 8,
        "start_time": "2022-01-05T06:38:12.841Z"
      },
      {
        "duration": 5,
        "start_time": "2022-01-05T06:38:12.852Z"
      },
      {
        "duration": 5,
        "start_time": "2022-01-05T06:38:12.860Z"
      },
      {
        "duration": 58,
        "start_time": "2022-01-05T06:38:12.868Z"
      },
      {
        "duration": 264,
        "start_time": "2022-01-05T06:38:12.933Z"
      },
      {
        "duration": 31,
        "start_time": "2022-01-05T06:38:13.201Z"
      },
      {
        "duration": 10,
        "start_time": "2022-01-05T06:38:13.236Z"
      },
      {
        "duration": 6,
        "start_time": "2022-01-05T06:38:13.249Z"
      },
      {
        "duration": 10,
        "start_time": "2022-01-05T06:38:13.257Z"
      },
      {
        "duration": 12,
        "start_time": "2022-01-05T06:38:13.269Z"
      },
      {
        "duration": 43,
        "start_time": "2022-01-05T06:38:13.283Z"
      },
      {
        "duration": 7,
        "start_time": "2022-01-05T06:38:13.328Z"
      },
      {
        "duration": 7,
        "start_time": "2022-01-05T06:38:13.338Z"
      },
      {
        "duration": 7,
        "start_time": "2022-01-05T06:38:13.347Z"
      },
      {
        "duration": 8,
        "start_time": "2022-01-05T06:38:13.356Z"
      },
      {
        "duration": 8,
        "start_time": "2022-01-05T06:38:13.366Z"
      },
      {
        "duration": 47,
        "start_time": "2022-01-05T06:38:13.376Z"
      },
      {
        "duration": 37,
        "start_time": "2022-01-05T06:38:13.425Z"
      },
      {
        "duration": 60,
        "start_time": "2022-01-05T06:38:13.465Z"
      },
      {
        "duration": 97,
        "start_time": "2022-01-05T06:38:13.528Z"
      },
      {
        "duration": 368,
        "start_time": "2022-01-05T06:38:13.627Z"
      },
      {
        "duration": 53,
        "start_time": "2022-01-05T06:38:13.998Z"
      },
      {
        "duration": 46,
        "start_time": "2022-01-05T06:38:14.054Z"
      },
      {
        "duration": 21,
        "start_time": "2022-01-05T06:38:14.102Z"
      },
      {
        "duration": 7,
        "start_time": "2022-01-05T06:38:14.126Z"
      },
      {
        "duration": 7,
        "start_time": "2022-01-05T06:38:14.136Z"
      },
      {
        "duration": 774,
        "start_time": "2022-01-05T06:38:14.145Z"
      },
      {
        "duration": 6,
        "start_time": "2022-01-05T06:38:14.923Z"
      },
      {
        "duration": 13,
        "start_time": "2022-01-05T06:38:14.931Z"
      },
      {
        "duration": 36,
        "start_time": "2022-01-05T06:38:14.946Z"
      },
      {
        "duration": 129,
        "start_time": "2022-01-05T06:38:14.984Z"
      },
      {
        "duration": 4,
        "start_time": "2022-01-05T06:38:15.123Z"
      },
      {
        "duration": 10,
        "start_time": "2022-01-05T06:38:15.130Z"
      },
      {
        "duration": 7,
        "start_time": "2022-01-05T06:38:15.143Z"
      },
      {
        "duration": 9476,
        "start_time": "2022-01-05T06:38:15.153Z"
      },
      {
        "duration": 7,
        "start_time": "2022-01-05T06:38:24.632Z"
      },
      {
        "duration": 6,
        "start_time": "2022-01-05T06:38:24.642Z"
      },
      {
        "duration": 3712,
        "start_time": "2022-01-05T06:38:24.651Z"
      },
      {
        "duration": 6,
        "start_time": "2022-01-05T06:38:28.365Z"
      },
      {
        "duration": 13,
        "start_time": "2022-01-05T06:38:28.373Z"
      },
      {
        "duration": 38,
        "start_time": "2022-01-05T06:38:28.389Z"
      },
      {
        "duration": 16,
        "start_time": "2022-01-05T06:38:28.429Z"
      },
      {
        "duration": 82,
        "start_time": "2022-01-05T06:38:28.447Z"
      },
      {
        "duration": 107,
        "start_time": "2022-01-05T06:38:28.533Z"
      },
      {
        "duration": 200,
        "start_time": "2022-01-05T06:38:28.726Z"
      },
      {
        "duration": 134,
        "start_time": "2022-01-05T06:38:28.929Z"
      },
      {
        "duration": 24,
        "start_time": "2022-01-05T06:38:29.065Z"
      },
      {
        "duration": 84,
        "start_time": "2022-01-05T06:38:29.092Z"
      },
      {
        "duration": 113,
        "start_time": "2022-01-05T06:38:29.178Z"
      },
      {
        "duration": 71,
        "start_time": "2022-01-05T06:38:29.294Z"
      },
      {
        "duration": 152,
        "start_time": "2022-01-05T06:38:29.367Z"
      },
      {
        "duration": 4,
        "start_time": "2022-01-05T06:38:29.522Z"
      },
      {
        "duration": 5,
        "start_time": "2022-01-05T06:38:29.528Z"
      },
      {
        "duration": 4,
        "start_time": "2022-01-05T06:38:29.536Z"
      },
      {
        "duration": 156788,
        "start_time": "2022-01-05T06:38:29.543Z"
      },
      {
        "duration": 5,
        "start_time": "2022-01-05T06:41:06.334Z"
      },
      {
        "duration": 8,
        "start_time": "2022-01-05T06:41:06.342Z"
      },
      {
        "duration": 918,
        "start_time": "2022-01-05T06:41:06.352Z"
      },
      {
        "duration": 18,
        "start_time": "2022-01-05T06:41:07.278Z"
      },
      {
        "duration": 25,
        "start_time": "2022-01-05T06:41:07.299Z"
      },
      {
        "duration": 4,
        "start_time": "2022-01-05T06:41:07.326Z"
      },
      {
        "duration": 6,
        "start_time": "2022-01-05T06:41:07.332Z"
      },
      {
        "duration": 9,
        "start_time": "2022-01-05T06:41:07.341Z"
      },
      {
        "duration": 5,
        "start_time": "2022-01-05T06:46:09.326Z"
      },
      {
        "duration": 5,
        "start_time": "2022-01-05T06:46:26.152Z"
      },
      {
        "duration": 5,
        "start_time": "2022-01-05T06:46:38.538Z"
      },
      {
        "duration": 5,
        "start_time": "2022-01-05T06:46:53.579Z"
      },
      {
        "duration": 5,
        "start_time": "2022-01-05T06:47:28.747Z"
      },
      {
        "duration": 6,
        "start_time": "2022-01-05T06:47:47.994Z"
      },
      {
        "duration": 5,
        "start_time": "2022-01-05T06:52:15.772Z"
      },
      {
        "duration": 6,
        "start_time": "2022-01-05T06:52:36.938Z"
      },
      {
        "duration": 6,
        "start_time": "2022-01-05T06:52:56.564Z"
      },
      {
        "duration": 1383,
        "start_time": "2022-01-05T06:55:53.650Z"
      },
      {
        "duration": 3,
        "start_time": "2022-01-05T06:56:36.309Z"
      },
      {
        "duration": 128,
        "start_time": "2022-01-05T06:56:46.611Z"
      },
      {
        "duration": 3615,
        "start_time": "2022-01-05T06:57:11.876Z"
      },
      {
        "duration": 4,
        "start_time": "2022-01-05T06:57:19.220Z"
      },
      {
        "duration": 127,
        "start_time": "2022-01-05T06:57:20.530Z"
      },
      {
        "duration": 4,
        "start_time": "2022-01-05T06:59:05.595Z"
      },
      {
        "duration": 3,
        "start_time": "2022-01-05T06:59:06.011Z"
      },
      {
        "duration": 4,
        "start_time": "2022-01-05T06:59:07.220Z"
      },
      {
        "duration": 435712,
        "start_time": "2022-01-05T06:59:08.342Z"
      },
      {
        "duration": 5,
        "start_time": "2022-01-05T07:06:51.255Z"
      },
      {
        "duration": 5,
        "start_time": "2022-01-05T07:06:52.466Z"
      },
      {
        "duration": 5,
        "start_time": "2022-01-05T07:07:01.876Z"
      },
      {
        "duration": 6,
        "start_time": "2022-01-05T07:07:02.443Z"
      },
      {
        "duration": 5,
        "start_time": "2022-01-05T07:07:03.562Z"
      },
      {
        "duration": 2189,
        "start_time": "2022-01-05T07:07:16.925Z"
      },
      {
        "duration": 2137,
        "start_time": "2022-01-05T07:07:27.699Z"
      },
      {
        "duration": 4,
        "start_time": "2022-01-05T07:07:32.108Z"
      },
      {
        "duration": 79,
        "start_time": "2022-01-05T07:07:33.452Z"
      },
      {
        "duration": 94,
        "start_time": "2022-01-05T07:13:42.004Z"
      },
      {
        "duration": 4,
        "start_time": "2022-01-05T07:13:52.925Z"
      },
      {
        "duration": 4,
        "start_time": "2022-01-05T07:13:54.534Z"
      },
      {
        "duration": 4,
        "start_time": "2022-01-05T07:13:55.335Z"
      },
      {
        "duration": 737694,
        "start_time": "2022-01-05T07:13:57.324Z"
      },
      {
        "duration": 7,
        "start_time": "2022-01-05T07:27:21.762Z"
      },
      {
        "duration": 5,
        "start_time": "2022-01-05T07:27:23.024Z"
      },
      {
        "duration": 6,
        "start_time": "2022-01-05T07:27:39.672Z"
      },
      {
        "duration": 6,
        "start_time": "2022-01-05T07:27:40.611Z"
      },
      {
        "duration": 5,
        "start_time": "2022-01-05T07:27:42.870Z"
      },
      {
        "duration": 2221,
        "start_time": "2022-01-05T07:27:44.214Z"
      },
      {
        "duration": 5,
        "start_time": "2022-01-05T07:27:50.524Z"
      },
      {
        "duration": 98,
        "start_time": "2022-01-05T07:27:52.634Z"
      },
      {
        "duration": 4,
        "start_time": "2022-01-05T07:29:34.452Z"
      },
      {
        "duration": 4,
        "start_time": "2022-01-05T07:29:35.323Z"
      },
      {
        "duration": 5,
        "start_time": "2022-01-05T07:29:35.804Z"
      },
      {
        "duration": 49236,
        "start_time": "2022-01-05T07:29:37.164Z"
      },
      {
        "duration": 5,
        "start_time": "2022-01-05T07:31:22.189Z"
      },
      {
        "duration": 5,
        "start_time": "2022-01-05T07:31:26.084Z"
      },
      {
        "duration": 5,
        "start_time": "2022-01-05T07:31:44.645Z"
      },
      {
        "duration": 5,
        "start_time": "2022-01-05T07:31:45.244Z"
      },
      {
        "duration": 6,
        "start_time": "2022-01-05T07:31:45.925Z"
      },
      {
        "duration": 2025,
        "start_time": "2022-01-05T07:31:48.153Z"
      },
      {
        "duration": 4,
        "start_time": "2022-01-05T07:32:14.346Z"
      },
      {
        "duration": 92,
        "start_time": "2022-01-05T07:32:20.024Z"
      },
      {
        "duration": 4,
        "start_time": "2022-01-05T07:34:25.297Z"
      },
      {
        "duration": 4,
        "start_time": "2022-01-05T07:34:26.010Z"
      },
      {
        "duration": 3,
        "start_time": "2022-01-05T07:34:26.468Z"
      },
      {
        "duration": 266216,
        "start_time": "2022-01-05T07:34:27.289Z"
      },
      {
        "duration": 5,
        "start_time": "2022-01-05T07:39:35.411Z"
      },
      {
        "duration": 5,
        "start_time": "2022-01-05T07:39:37.378Z"
      },
      {
        "duration": 5,
        "start_time": "2022-01-05T07:40:01.481Z"
      },
      {
        "duration": 5,
        "start_time": "2022-01-05T07:40:02.342Z"
      },
      {
        "duration": 5,
        "start_time": "2022-01-05T07:40:03.059Z"
      },
      {
        "duration": 2122,
        "start_time": "2022-01-05T07:40:04.068Z"
      },
      {
        "duration": 4,
        "start_time": "2022-01-05T07:40:36.689Z"
      },
      {
        "duration": 80,
        "start_time": "2022-01-05T07:40:39.912Z"
      },
      {
        "duration": 237,
        "start_time": "2022-01-05T07:40:40.950Z"
      },
      {
        "duration": 93,
        "start_time": "2022-01-05T07:40:41.999Z"
      },
      {
        "duration": 87,
        "start_time": "2022-01-05T07:40:46.385Z"
      },
      {
        "duration": 1495,
        "start_time": "2022-01-05T07:50:36.347Z"
      },
      {
        "duration": 48,
        "start_time": "2022-01-05T07:50:37.844Z"
      },
      {
        "duration": 4,
        "start_time": "2022-01-05T07:50:37.895Z"
      },
      {
        "duration": 22,
        "start_time": "2022-01-05T07:50:37.901Z"
      },
      {
        "duration": 11,
        "start_time": "2022-01-05T07:50:37.925Z"
      },
      {
        "duration": 10,
        "start_time": "2022-01-05T07:50:37.938Z"
      },
      {
        "duration": 12,
        "start_time": "2022-01-05T07:50:37.950Z"
      },
      {
        "duration": 6,
        "start_time": "2022-01-05T07:50:37.965Z"
      },
      {
        "duration": 52,
        "start_time": "2022-01-05T07:50:37.973Z"
      },
      {
        "duration": 8,
        "start_time": "2022-01-05T07:50:38.027Z"
      },
      {
        "duration": 341,
        "start_time": "2022-01-05T07:50:38.037Z"
      },
      {
        "duration": 288,
        "start_time": "2022-01-05T07:50:38.381Z"
      },
      {
        "duration": 9,
        "start_time": "2022-01-05T07:50:38.671Z"
      },
      {
        "duration": 10,
        "start_time": "2022-01-05T07:50:38.682Z"
      },
      {
        "duration": 31,
        "start_time": "2022-01-05T07:50:38.695Z"
      },
      {
        "duration": 8,
        "start_time": "2022-01-05T07:50:38.729Z"
      },
      {
        "duration": 6,
        "start_time": "2022-01-05T07:50:38.739Z"
      },
      {
        "duration": 8,
        "start_time": "2022-01-05T07:50:38.747Z"
      },
      {
        "duration": 7,
        "start_time": "2022-01-05T07:50:38.757Z"
      },
      {
        "duration": 58,
        "start_time": "2022-01-05T07:50:38.766Z"
      },
      {
        "duration": 5,
        "start_time": "2022-01-05T07:50:38.827Z"
      },
      {
        "duration": 6,
        "start_time": "2022-01-05T07:50:38.834Z"
      },
      {
        "duration": 7,
        "start_time": "2022-01-05T07:50:38.846Z"
      },
      {
        "duration": 5,
        "start_time": "2022-01-05T07:50:38.857Z"
      },
      {
        "duration": 6,
        "start_time": "2022-01-05T07:50:38.864Z"
      },
      {
        "duration": 54,
        "start_time": "2022-01-05T07:50:38.872Z"
      },
      {
        "duration": 246,
        "start_time": "2022-01-05T07:50:38.928Z"
      },
      {
        "duration": 19,
        "start_time": "2022-01-05T07:50:39.176Z"
      },
      {
        "duration": 27,
        "start_time": "2022-01-05T07:50:39.197Z"
      },
      {
        "duration": 4,
        "start_time": "2022-01-05T07:50:39.227Z"
      },
      {
        "duration": 10,
        "start_time": "2022-01-05T07:50:39.233Z"
      },
      {
        "duration": 15,
        "start_time": "2022-01-05T07:50:39.245Z"
      },
      {
        "duration": 6,
        "start_time": "2022-01-05T07:50:39.262Z"
      },
      {
        "duration": 6,
        "start_time": "2022-01-05T07:50:39.271Z"
      },
      {
        "duration": 45,
        "start_time": "2022-01-05T07:50:39.279Z"
      },
      {
        "duration": 5,
        "start_time": "2022-01-05T07:50:39.327Z"
      },
      {
        "duration": 10,
        "start_time": "2022-01-05T07:50:39.334Z"
      },
      {
        "duration": 13,
        "start_time": "2022-01-05T07:50:39.346Z"
      },
      {
        "duration": 5,
        "start_time": "2022-01-05T07:50:39.362Z"
      },
      {
        "duration": 73,
        "start_time": "2022-01-05T07:50:39.370Z"
      },
      {
        "duration": 82,
        "start_time": "2022-01-05T07:50:39.446Z"
      },
      {
        "duration": 96,
        "start_time": "2022-01-05T07:50:39.531Z"
      },
      {
        "duration": 423,
        "start_time": "2022-01-05T07:50:39.630Z"
      },
      {
        "duration": 45,
        "start_time": "2022-01-05T07:50:40.056Z"
      },
      {
        "duration": 58,
        "start_time": "2022-01-05T07:50:40.103Z"
      },
      {
        "duration": 3,
        "start_time": "2022-01-05T07:50:40.164Z"
      },
      {
        "duration": 6,
        "start_time": "2022-01-05T07:50:40.169Z"
      },
      {
        "duration": 6,
        "start_time": "2022-01-05T07:50:40.177Z"
      },
      {
        "duration": 740,
        "start_time": "2022-01-05T07:50:40.185Z"
      },
      {
        "duration": 5,
        "start_time": "2022-01-05T07:50:40.927Z"
      },
      {
        "duration": 8,
        "start_time": "2022-01-05T07:50:40.934Z"
      },
      {
        "duration": 36,
        "start_time": "2022-01-05T07:50:40.945Z"
      },
      {
        "duration": 146,
        "start_time": "2022-01-05T07:50:40.984Z"
      },
      {
        "duration": 5,
        "start_time": "2022-01-05T07:50:41.133Z"
      },
      {
        "duration": 8,
        "start_time": "2022-01-05T07:50:41.141Z"
      },
      {
        "duration": 5,
        "start_time": "2022-01-05T07:50:41.152Z"
      },
      {
        "duration": 9906,
        "start_time": "2022-01-05T07:50:41.160Z"
      },
      {
        "duration": 7,
        "start_time": "2022-01-05T07:50:51.069Z"
      },
      {
        "duration": 6,
        "start_time": "2022-01-05T07:50:51.079Z"
      },
      {
        "duration": 3727,
        "start_time": "2022-01-05T07:50:51.088Z"
      },
      {
        "duration": 6,
        "start_time": "2022-01-05T07:50:54.822Z"
      },
      {
        "duration": 12,
        "start_time": "2022-01-05T07:50:54.830Z"
      },
      {
        "duration": 18,
        "start_time": "2022-01-05T07:50:54.844Z"
      },
      {
        "duration": 5,
        "start_time": "2022-01-05T07:50:54.864Z"
      },
      {
        "duration": 6,
        "start_time": "2022-01-05T07:50:54.871Z"
      },
      {
        "duration": 6,
        "start_time": "2022-01-05T07:50:54.879Z"
      },
      {
        "duration": 4,
        "start_time": "2022-01-05T07:50:54.923Z"
      },
      {
        "duration": 16,
        "start_time": "2022-01-05T07:50:54.936Z"
      },
      {
        "duration": 4,
        "start_time": "2022-01-05T07:50:54.955Z"
      },
      {
        "duration": 5,
        "start_time": "2022-01-05T07:50:54.962Z"
      },
      {
        "duration": 154,
        "start_time": "2022-01-05T07:50:54.969Z"
      },
      {
        "duration": 198,
        "start_time": "2022-01-05T07:50:55.126Z"
      },
      {
        "duration": 198,
        "start_time": "2022-01-05T07:50:55.328Z"
      },
      {
        "duration": 133,
        "start_time": "2022-01-05T07:50:55.530Z"
      },
      {
        "duration": 24,
        "start_time": "2022-01-05T07:50:55.665Z"
      },
      {
        "duration": 78,
        "start_time": "2022-01-05T07:50:55.691Z"
      },
      {
        "duration": 114,
        "start_time": "2022-01-05T07:50:55.771Z"
      },
      {
        "duration": 75,
        "start_time": "2022-01-05T07:50:55.887Z"
      },
      {
        "duration": 154,
        "start_time": "2022-01-05T07:50:55.964Z"
      },
      {
        "duration": 4,
        "start_time": "2022-01-05T07:50:56.123Z"
      },
      {
        "duration": 6,
        "start_time": "2022-01-05T07:50:56.130Z"
      },
      {
        "duration": 6,
        "start_time": "2022-01-05T07:50:56.138Z"
      },
      {
        "duration": 221118,
        "start_time": "2022-01-05T07:50:56.146Z"
      },
      {
        "duration": 5,
        "start_time": "2022-01-05T07:54:37.267Z"
      },
      {
        "duration": 6,
        "start_time": "2022-01-05T07:54:37.275Z"
      },
      {
        "duration": 39,
        "start_time": "2022-01-05T07:54:37.283Z"
      },
      {
        "duration": 6,
        "start_time": "2022-01-05T07:54:37.324Z"
      },
      {
        "duration": 6,
        "start_time": "2022-01-05T07:54:37.332Z"
      },
      {
        "duration": 2086,
        "start_time": "2022-01-05T07:54:37.340Z"
      },
      {
        "duration": 3,
        "start_time": "2022-01-05T07:54:39.428Z"
      },
      {
        "duration": 98,
        "start_time": "2022-01-05T07:54:39.434Z"
      },
      {
        "duration": 260,
        "start_time": "2022-01-05T07:54:39.535Z"
      },
      {
        "duration": 512,
        "start_time": "2022-01-05T07:54:39.797Z"
      },
      {
        "duration": -419,
        "start_time": "2022-01-05T07:54:40.731Z"
      },
      {
        "duration": -430,
        "start_time": "2022-01-05T07:54:40.743Z"
      },
      {
        "duration": -432,
        "start_time": "2022-01-05T07:54:40.746Z"
      },
      {
        "duration": -442,
        "start_time": "2022-01-05T07:54:40.758Z"
      },
      {
        "duration": -445,
        "start_time": "2022-01-05T07:54:40.762Z"
      },
      {
        "duration": -449,
        "start_time": "2022-01-05T07:54:40.767Z"
      },
      {
        "duration": -458,
        "start_time": "2022-01-05T07:54:40.777Z"
      },
      {
        "duration": -464,
        "start_time": "2022-01-05T07:54:40.785Z"
      },
      {
        "duration": 5,
        "start_time": "2022-01-05T07:54:44.488Z"
      },
      {
        "duration": 5,
        "start_time": "2022-01-05T07:54:46.008Z"
      },
      {
        "duration": 5,
        "start_time": "2022-01-05T07:55:15.727Z"
      },
      {
        "duration": 5,
        "start_time": "2022-01-05T07:55:16.529Z"
      },
      {
        "duration": 6,
        "start_time": "2022-01-05T07:55:17.188Z"
      },
      {
        "duration": 1982,
        "start_time": "2022-01-05T07:55:21.230Z"
      },
      {
        "duration": 75,
        "start_time": "2022-01-05T07:56:00.644Z"
      },
      {
        "duration": 91,
        "start_time": "2022-01-05T07:56:18.893Z"
      },
      {
        "duration": 86,
        "start_time": "2022-01-05T07:56:20.470Z"
      },
      {
        "duration": 304,
        "start_time": "2022-01-05T07:56:28.103Z"
      },
      {
        "duration": 4,
        "start_time": "2022-01-05T07:56:44.642Z"
      },
      {
        "duration": 10,
        "start_time": "2022-01-05T07:56:47.700Z"
      },
      {
        "duration": 70,
        "start_time": "2022-01-05T07:58:38.835Z"
      },
      {
        "duration": 3,
        "start_time": "2022-01-05T07:59:02.590Z"
      },
      {
        "duration": 11,
        "start_time": "2022-01-05T07:59:03.794Z"
      },
      {
        "duration": 5,
        "start_time": "2022-01-05T15:16:46.220Z"
      },
      {
        "duration": 1537,
        "start_time": "2022-01-05T15:18:54.534Z"
      },
      {
        "duration": 52,
        "start_time": "2022-01-05T15:18:56.073Z"
      },
      {
        "duration": 4,
        "start_time": "2022-01-05T15:18:56.129Z"
      },
      {
        "duration": 8,
        "start_time": "2022-01-05T15:18:56.135Z"
      },
      {
        "duration": 14,
        "start_time": "2022-01-05T15:18:56.145Z"
      },
      {
        "duration": 10,
        "start_time": "2022-01-05T15:18:56.161Z"
      },
      {
        "duration": 11,
        "start_time": "2022-01-05T15:18:56.173Z"
      },
      {
        "duration": 6,
        "start_time": "2022-01-05T15:18:56.225Z"
      },
      {
        "duration": 11,
        "start_time": "2022-01-05T15:18:56.233Z"
      },
      {
        "duration": 10,
        "start_time": "2022-01-05T15:18:56.246Z"
      },
      {
        "duration": 312,
        "start_time": "2022-01-05T15:18:56.258Z"
      },
      {
        "duration": 297,
        "start_time": "2022-01-05T15:18:56.572Z"
      },
      {
        "duration": 13,
        "start_time": "2022-01-05T15:18:56.872Z"
      },
      {
        "duration": 12,
        "start_time": "2022-01-05T15:18:56.888Z"
      },
      {
        "duration": 8,
        "start_time": "2022-01-05T15:18:56.924Z"
      },
      {
        "duration": 6,
        "start_time": "2022-01-05T15:18:56.936Z"
      },
      {
        "duration": 6,
        "start_time": "2022-01-05T15:18:56.945Z"
      },
      {
        "duration": 10,
        "start_time": "2022-01-05T15:18:56.953Z"
      },
      {
        "duration": 8,
        "start_time": "2022-01-05T15:18:56.965Z"
      },
      {
        "duration": 53,
        "start_time": "2022-01-05T15:18:56.975Z"
      },
      {
        "duration": 6,
        "start_time": "2022-01-05T15:18:57.031Z"
      },
      {
        "duration": 6,
        "start_time": "2022-01-05T15:18:57.039Z"
      },
      {
        "duration": 8,
        "start_time": "2022-01-05T15:18:57.052Z"
      },
      {
        "duration": 5,
        "start_time": "2022-01-05T15:18:57.064Z"
      },
      {
        "duration": 55,
        "start_time": "2022-01-05T15:18:57.072Z"
      },
      {
        "duration": 10,
        "start_time": "2022-01-05T15:18:57.129Z"
      },
      {
        "duration": 260,
        "start_time": "2022-01-05T15:18:57.141Z"
      },
      {
        "duration": 28,
        "start_time": "2022-01-05T15:18:57.403Z"
      },
      {
        "duration": 10,
        "start_time": "2022-01-05T15:18:57.433Z"
      },
      {
        "duration": 6,
        "start_time": "2022-01-05T15:18:57.445Z"
      },
      {
        "duration": 9,
        "start_time": "2022-01-05T15:18:57.453Z"
      },
      {
        "duration": 8,
        "start_time": "2022-01-05T15:18:57.464Z"
      },
      {
        "duration": 5,
        "start_time": "2022-01-05T15:18:57.474Z"
      },
      {
        "duration": 6,
        "start_time": "2022-01-05T15:18:57.524Z"
      },
      {
        "duration": 7,
        "start_time": "2022-01-05T15:18:57.533Z"
      },
      {
        "duration": 5,
        "start_time": "2022-01-05T15:18:57.543Z"
      },
      {
        "duration": 6,
        "start_time": "2022-01-05T15:18:57.550Z"
      },
      {
        "duration": 6,
        "start_time": "2022-01-05T15:18:57.558Z"
      },
      {
        "duration": 6,
        "start_time": "2022-01-05T15:18:57.567Z"
      },
      {
        "duration": 86,
        "start_time": "2022-01-05T15:18:57.575Z"
      },
      {
        "duration": 63,
        "start_time": "2022-01-05T15:18:57.663Z"
      },
      {
        "duration": 97,
        "start_time": "2022-01-05T15:18:57.729Z"
      },
      {
        "duration": 488,
        "start_time": "2022-01-05T15:18:57.829Z"
      },
      {
        "duration": 68,
        "start_time": "2022-01-05T15:18:58.323Z"
      },
      {
        "duration": 68,
        "start_time": "2022-01-05T15:18:58.394Z"
      },
      {
        "duration": 4,
        "start_time": "2022-01-05T15:18:58.464Z"
      },
      {
        "duration": 7,
        "start_time": "2022-01-05T15:18:58.470Z"
      },
      {
        "duration": 5,
        "start_time": "2022-01-05T15:18:58.479Z"
      },
      {
        "duration": 753,
        "start_time": "2022-01-05T15:18:58.486Z"
      },
      {
        "duration": 5,
        "start_time": "2022-01-05T15:18:59.242Z"
      },
      {
        "duration": 6,
        "start_time": "2022-01-05T15:18:59.249Z"
      },
      {
        "duration": 33,
        "start_time": "2022-01-05T15:18:59.258Z"
      },
      {
        "duration": 112,
        "start_time": "2022-01-05T15:18:59.324Z"
      },
      {
        "duration": 4,
        "start_time": "2022-01-05T15:18:59.439Z"
      },
      {
        "duration": 8,
        "start_time": "2022-01-05T15:18:59.446Z"
      },
      {
        "duration": 6,
        "start_time": "2022-01-05T15:18:59.456Z"
      },
      {
        "duration": 9740,
        "start_time": "2022-01-05T15:18:59.464Z"
      },
      {
        "duration": 16,
        "start_time": "2022-01-05T15:19:09.207Z"
      },
      {
        "duration": 9,
        "start_time": "2022-01-05T15:19:09.226Z"
      },
      {
        "duration": 3616,
        "start_time": "2022-01-05T15:19:09.237Z"
      },
      {
        "duration": 6,
        "start_time": "2022-01-05T15:19:12.855Z"
      },
      {
        "duration": 6,
        "start_time": "2022-01-05T15:19:12.863Z"
      },
      {
        "duration": 18,
        "start_time": "2022-01-05T15:19:12.871Z"
      },
      {
        "duration": 31,
        "start_time": "2022-01-05T15:19:12.892Z"
      },
      {
        "duration": 6,
        "start_time": "2022-01-05T15:19:12.926Z"
      },
      {
        "duration": 9,
        "start_time": "2022-01-05T15:19:12.935Z"
      },
      {
        "duration": 9,
        "start_time": "2022-01-05T15:19:12.947Z"
      },
      {
        "duration": 58,
        "start_time": "2022-01-05T15:19:12.966Z"
      },
      {
        "duration": 6,
        "start_time": "2022-01-05T15:19:13.028Z"
      },
      {
        "duration": 5,
        "start_time": "2022-01-05T15:19:13.037Z"
      },
      {
        "duration": 89,
        "start_time": "2022-01-05T15:19:13.044Z"
      },
      {
        "duration": 116,
        "start_time": "2022-01-05T15:19:13.137Z"
      },
      {
        "duration": 201,
        "start_time": "2022-01-05T15:19:13.325Z"
      },
      {
        "duration": 136,
        "start_time": "2022-01-05T15:19:13.529Z"
      },
      {
        "duration": 24,
        "start_time": "2022-01-05T15:19:13.668Z"
      },
      {
        "duration": 81,
        "start_time": "2022-01-05T15:19:13.694Z"
      },
      {
        "duration": 114,
        "start_time": "2022-01-05T15:19:13.778Z"
      },
      {
        "duration": 74,
        "start_time": "2022-01-05T15:19:13.895Z"
      },
      {
        "duration": 157,
        "start_time": "2022-01-05T15:19:13.971Z"
      },
      {
        "duration": 4,
        "start_time": "2022-01-05T15:19:14.130Z"
      },
      {
        "duration": 9,
        "start_time": "2022-01-05T15:19:14.136Z"
      },
      {
        "duration": 5,
        "start_time": "2022-01-05T15:19:14.147Z"
      },
      {
        "duration": 6347,
        "start_time": "2022-01-05T15:19:14.154Z"
      },
      {
        "duration": 4,
        "start_time": "2022-01-05T15:19:20.504Z"
      },
      {
        "duration": 4,
        "start_time": "2022-01-05T15:19:20.524Z"
      },
      {
        "duration": 7,
        "start_time": "2022-01-05T15:19:20.530Z"
      },
      {
        "duration": 7,
        "start_time": "2022-01-05T15:19:20.539Z"
      },
      {
        "duration": 6,
        "start_time": "2022-01-05T15:19:20.548Z"
      },
      {
        "duration": 2030,
        "start_time": "2022-01-05T15:19:20.557Z"
      },
      {
        "duration": 3,
        "start_time": "2022-01-05T15:19:22.589Z"
      },
      {
        "duration": 96,
        "start_time": "2022-01-05T15:19:22.595Z"
      },
      {
        "duration": 252,
        "start_time": "2022-01-05T15:19:22.694Z"
      },
      {
        "duration": 80,
        "start_time": "2022-01-05T15:19:22.949Z"
      },
      {
        "duration": 99,
        "start_time": "2022-01-05T15:19:23.031Z"
      },
      {
        "duration": 96,
        "start_time": "2022-01-05T15:19:23.132Z"
      },
      {
        "duration": 64,
        "start_time": "2022-01-05T15:19:23.231Z"
      },
      {
        "duration": 4,
        "start_time": "2022-01-05T15:19:23.297Z"
      },
      {
        "duration": 31,
        "start_time": "2022-01-05T15:19:23.303Z"
      },
      {
        "duration": 5,
        "start_time": "2022-01-05T15:19:23.337Z"
      },
      {
        "duration": 4,
        "start_time": "2022-01-05T15:19:23.345Z"
      },
      {
        "duration": 7,
        "start_time": "2022-01-05T15:19:23.351Z"
      },
      {
        "duration": 7,
        "start_time": "2022-01-05T15:19:23.360Z"
      },
      {
        "duration": 1507,
        "start_time": "2022-01-05T15:31:49.337Z"
      },
      {
        "duration": 52,
        "start_time": "2022-01-05T15:31:50.847Z"
      },
      {
        "duration": 3,
        "start_time": "2022-01-05T15:31:50.902Z"
      },
      {
        "duration": 19,
        "start_time": "2022-01-05T15:31:50.908Z"
      },
      {
        "duration": 14,
        "start_time": "2022-01-05T15:31:50.929Z"
      },
      {
        "duration": 10,
        "start_time": "2022-01-05T15:31:50.945Z"
      },
      {
        "duration": 11,
        "start_time": "2022-01-05T15:31:50.957Z"
      },
      {
        "duration": 2,
        "start_time": "2022-01-05T15:31:50.972Z"
      },
      {
        "duration": 51,
        "start_time": "2022-01-05T15:31:50.977Z"
      },
      {
        "duration": 10,
        "start_time": "2022-01-05T15:31:51.030Z"
      },
      {
        "duration": 304,
        "start_time": "2022-01-05T15:31:51.042Z"
      },
      {
        "duration": 290,
        "start_time": "2022-01-05T15:31:51.348Z"
      },
      {
        "duration": 10,
        "start_time": "2022-01-05T15:31:51.640Z"
      },
      {
        "duration": 11,
        "start_time": "2022-01-05T15:31:51.653Z"
      },
      {
        "duration": 8,
        "start_time": "2022-01-05T15:31:51.666Z"
      },
      {
        "duration": 7,
        "start_time": "2022-01-05T15:31:51.676Z"
      },
      {
        "duration": 6,
        "start_time": "2022-01-05T15:31:51.723Z"
      },
      {
        "duration": 10,
        "start_time": "2022-01-05T15:31:51.731Z"
      },
      {
        "duration": 8,
        "start_time": "2022-01-05T15:31:51.744Z"
      },
      {
        "duration": 7,
        "start_time": "2022-01-05T15:31:51.754Z"
      },
      {
        "duration": 7,
        "start_time": "2022-01-05T15:31:51.763Z"
      },
      {
        "duration": 52,
        "start_time": "2022-01-05T15:31:51.772Z"
      },
      {
        "duration": 8,
        "start_time": "2022-01-05T15:31:51.830Z"
      },
      {
        "duration": 6,
        "start_time": "2022-01-05T15:31:51.841Z"
      },
      {
        "duration": 6,
        "start_time": "2022-01-05T15:31:51.849Z"
      },
      {
        "duration": 9,
        "start_time": "2022-01-05T15:31:51.857Z"
      },
      {
        "duration": 308,
        "start_time": "2022-01-05T15:31:51.868Z"
      },
      {
        "duration": 266,
        "start_time": "2022-01-05T15:31:52.179Z"
      },
      {
        "duration": 65,
        "start_time": "2022-01-05T15:31:52.447Z"
      },
      {
        "duration": 4,
        "start_time": "2022-01-05T15:31:52.523Z"
      },
      {
        "duration": 189,
        "start_time": "2022-01-05T15:31:52.530Z"
      },
      {
        "duration": 74,
        "start_time": "2022-01-05T15:31:52.722Z"
      },
      {
        "duration": 6,
        "start_time": "2022-01-05T15:31:52.797Z"
      },
      {
        "duration": 6,
        "start_time": "2022-01-05T15:31:52.824Z"
      },
      {
        "duration": 16,
        "start_time": "2022-01-05T15:31:52.833Z"
      },
      {
        "duration": 6,
        "start_time": "2022-01-05T15:31:52.851Z"
      },
      {
        "duration": 6,
        "start_time": "2022-01-05T15:31:52.860Z"
      },
      {
        "duration": 5,
        "start_time": "2022-01-05T15:31:52.869Z"
      },
      {
        "duration": 46,
        "start_time": "2022-01-05T15:31:52.877Z"
      },
      {
        "duration": 46,
        "start_time": "2022-01-05T15:31:52.925Z"
      },
      {
        "duration": 356,
        "start_time": "2022-01-05T15:31:52.973Z"
      },
      {
        "duration": 192,
        "start_time": "2022-01-05T15:31:53.332Z"
      },
      {
        "duration": 374,
        "start_time": "2022-01-05T15:31:53.527Z"
      },
      {
        "duration": 58,
        "start_time": "2022-01-05T15:31:53.903Z"
      },
      {
        "duration": 650,
        "start_time": "2022-01-05T15:31:53.964Z"
      },
      {
        "duration": 4,
        "start_time": "2022-01-05T15:31:54.623Z"
      },
      {
        "duration": 8,
        "start_time": "2022-01-05T15:31:54.630Z"
      },
      {
        "duration": 5,
        "start_time": "2022-01-05T15:31:54.641Z"
      },
      {
        "duration": 11080,
        "start_time": "2022-01-05T15:31:54.649Z"
      },
      {
        "duration": 5,
        "start_time": "2022-01-05T15:32:05.732Z"
      },
      {
        "duration": 16,
        "start_time": "2022-01-05T15:32:05.739Z"
      },
      {
        "duration": 403,
        "start_time": "2022-01-05T15:32:05.757Z"
      },
      {
        "duration": 873,
        "start_time": "2022-01-05T15:32:06.163Z"
      },
      {
        "duration": 5,
        "start_time": "2022-01-05T15:32:07.039Z"
      },
      {
        "duration": 6,
        "start_time": "2022-01-05T15:32:07.047Z"
      },
      {
        "duration": 5,
        "start_time": "2022-01-05T15:32:07.055Z"
      },
      {
        "duration": 5211,
        "start_time": "2022-01-05T15:32:07.062Z"
      },
      {
        "duration": 5,
        "start_time": "2022-01-05T15:32:12.275Z"
      },
      {
        "duration": 8,
        "start_time": "2022-01-05T15:32:12.282Z"
      },
      {
        "duration": 1771,
        "start_time": "2022-01-05T15:32:12.293Z"
      },
      {
        "duration": 5,
        "start_time": "2022-01-05T15:32:14.066Z"
      },
      {
        "duration": 12,
        "start_time": "2022-01-05T15:32:14.073Z"
      },
      {
        "duration": 194,
        "start_time": "2022-01-05T15:32:14.088Z"
      },
      {
        "duration": 5,
        "start_time": "2022-01-05T15:32:14.285Z"
      },
      {
        "duration": 9,
        "start_time": "2022-01-05T15:32:14.292Z"
      },
      {
        "duration": 23,
        "start_time": "2022-01-05T15:32:14.303Z"
      },
      {
        "duration": 6,
        "start_time": "2022-01-05T15:32:14.329Z"
      },
      {
        "duration": 318,
        "start_time": "2022-01-05T15:32:14.343Z"
      },
      {
        "duration": 5,
        "start_time": "2022-01-05T15:32:14.665Z"
      },
      {
        "duration": 8,
        "start_time": "2022-01-05T15:32:14.672Z"
      },
      {
        "duration": 445,
        "start_time": "2022-01-05T15:32:14.683Z"
      },
      {
        "duration": 205,
        "start_time": "2022-01-05T15:32:15.223Z"
      },
      {
        "duration": 598,
        "start_time": "2022-01-05T15:32:15.432Z"
      },
      {
        "duration": 657,
        "start_time": "2022-01-05T15:32:16.033Z"
      },
      {
        "duration": 187,
        "start_time": "2022-01-05T15:32:16.693Z"
      },
      {
        "duration": 852,
        "start_time": "2022-01-05T15:32:16.883Z"
      },
      {
        "duration": 851,
        "start_time": "2022-01-05T15:32:17.737Z"
      },
      {
        "duration": 314,
        "start_time": "2022-01-05T15:32:18.590Z"
      },
      {
        "duration": 1559,
        "start_time": "2022-01-05T15:32:18.907Z"
      },
      {
        "duration": 4,
        "start_time": "2022-01-05T15:32:20.468Z"
      },
      {
        "duration": 12,
        "start_time": "2022-01-05T15:32:20.474Z"
      },
      {
        "duration": 6,
        "start_time": "2022-01-05T15:32:20.488Z"
      },
      {
        "duration": 6490,
        "start_time": "2022-01-05T15:32:20.496Z"
      },
      {
        "duration": 5,
        "start_time": "2022-01-05T15:32:26.988Z"
      },
      {
        "duration": 9,
        "start_time": "2022-01-05T15:32:26.995Z"
      },
      {
        "duration": 5,
        "start_time": "2022-01-05T15:32:27.023Z"
      },
      {
        "duration": 8,
        "start_time": "2022-01-05T15:32:27.030Z"
      },
      {
        "duration": 10,
        "start_time": "2022-01-05T15:32:27.040Z"
      },
      {
        "duration": 1774,
        "start_time": "2022-01-05T15:32:27.052Z"
      },
      {
        "duration": 4,
        "start_time": "2022-01-05T15:32:28.828Z"
      },
      {
        "duration": 136,
        "start_time": "2022-01-05T15:32:28.834Z"
      },
      {
        "duration": 254,
        "start_time": "2022-01-05T15:32:28.972Z"
      },
      {
        "duration": 68,
        "start_time": "2022-01-05T15:32:29.228Z"
      },
      {
        "duration": 145,
        "start_time": "2022-01-05T15:32:29.298Z"
      },
      {
        "duration": 136,
        "start_time": "2022-01-05T15:32:29.446Z"
      },
      {
        "duration": 78,
        "start_time": "2022-01-05T15:32:29.584Z"
      },
      {
        "duration": 3,
        "start_time": "2022-01-05T15:32:29.664Z"
      },
      {
        "duration": 13,
        "start_time": "2022-01-05T15:32:29.671Z"
      },
      {
        "duration": 4,
        "start_time": "2022-01-05T15:32:29.686Z"
      },
      {
        "duration": 3,
        "start_time": "2022-01-05T15:32:29.724Z"
      },
      {
        "duration": 7,
        "start_time": "2022-01-05T15:32:29.730Z"
      },
      {
        "duration": 7,
        "start_time": "2022-01-05T15:32:29.739Z"
      },
      {
        "duration": 1571,
        "start_time": "2022-01-05T15:36:28.915Z"
      },
      {
        "duration": 71,
        "start_time": "2022-01-05T15:36:30.489Z"
      },
      {
        "duration": 6,
        "start_time": "2022-01-05T15:36:30.564Z"
      },
      {
        "duration": 25,
        "start_time": "2022-01-05T15:36:30.573Z"
      },
      {
        "duration": 38,
        "start_time": "2022-01-05T15:36:30.601Z"
      },
      {
        "duration": 22,
        "start_time": "2022-01-05T15:36:30.643Z"
      },
      {
        "duration": 28,
        "start_time": "2022-01-05T15:36:30.668Z"
      },
      {
        "duration": 24,
        "start_time": "2022-01-05T15:36:30.699Z"
      },
      {
        "duration": 41,
        "start_time": "2022-01-05T15:36:30.729Z"
      },
      {
        "duration": 25,
        "start_time": "2022-01-05T15:36:30.774Z"
      },
      {
        "duration": 311,
        "start_time": "2022-01-05T15:36:30.801Z"
      },
      {
        "duration": 296,
        "start_time": "2022-01-05T15:36:31.122Z"
      },
      {
        "duration": 9,
        "start_time": "2022-01-05T15:36:31.421Z"
      },
      {
        "duration": 44,
        "start_time": "2022-01-05T15:36:31.432Z"
      },
      {
        "duration": 14,
        "start_time": "2022-01-05T15:36:31.478Z"
      },
      {
        "duration": 21,
        "start_time": "2022-01-05T15:36:31.495Z"
      },
      {
        "duration": 11,
        "start_time": "2022-01-05T15:36:31.518Z"
      },
      {
        "duration": 8,
        "start_time": "2022-01-05T15:36:31.532Z"
      },
      {
        "duration": 8,
        "start_time": "2022-01-05T15:36:31.543Z"
      },
      {
        "duration": 7,
        "start_time": "2022-01-05T15:36:31.553Z"
      },
      {
        "duration": 7,
        "start_time": "2022-01-05T15:36:31.562Z"
      },
      {
        "duration": 54,
        "start_time": "2022-01-05T15:36:31.571Z"
      },
      {
        "duration": 23,
        "start_time": "2022-01-05T15:36:31.627Z"
      },
      {
        "duration": 10,
        "start_time": "2022-01-05T15:36:31.653Z"
      },
      {
        "duration": 11,
        "start_time": "2022-01-05T15:36:31.666Z"
      },
      {
        "duration": 12,
        "start_time": "2022-01-05T15:36:31.680Z"
      },
      {
        "duration": 358,
        "start_time": "2022-01-05T15:36:31.722Z"
      },
      {
        "duration": 37,
        "start_time": "2022-01-05T15:36:32.086Z"
      },
      {
        "duration": 11,
        "start_time": "2022-01-05T15:36:32.126Z"
      },
      {
        "duration": 12,
        "start_time": "2022-01-05T15:36:32.140Z"
      },
      {
        "duration": 14,
        "start_time": "2022-01-05T15:36:32.155Z"
      },
      {
        "duration": 16,
        "start_time": "2022-01-05T15:36:32.172Z"
      },
      {
        "duration": 8,
        "start_time": "2022-01-05T15:36:32.190Z"
      },
      {
        "duration": 27,
        "start_time": "2022-01-05T15:36:32.200Z"
      },
      {
        "duration": 7,
        "start_time": "2022-01-05T15:36:32.230Z"
      },
      {
        "duration": 7,
        "start_time": "2022-01-05T15:36:32.239Z"
      },
      {
        "duration": 10,
        "start_time": "2022-01-05T15:36:32.248Z"
      },
      {
        "duration": 7,
        "start_time": "2022-01-05T15:36:32.260Z"
      },
      {
        "duration": 7,
        "start_time": "2022-01-05T15:36:32.269Z"
      },
      {
        "duration": 75,
        "start_time": "2022-01-05T15:36:32.279Z"
      },
      {
        "duration": 78,
        "start_time": "2022-01-05T15:36:32.357Z"
      },
      {
        "duration": 10,
        "start_time": "2022-01-05T15:36:32.522Z"
      },
      {
        "duration": 423,
        "start_time": "2022-01-05T15:36:32.536Z"
      },
      {
        "duration": 62,
        "start_time": "2022-01-05T15:36:32.962Z"
      },
      {
        "duration": 43,
        "start_time": "2022-01-05T15:36:33.027Z"
      },
      {
        "duration": 3,
        "start_time": "2022-01-05T15:36:33.073Z"
      },
      {
        "duration": 10,
        "start_time": "2022-01-05T15:36:33.079Z"
      },
      {
        "duration": 31,
        "start_time": "2022-01-05T15:36:33.092Z"
      },
      {
        "duration": 773,
        "start_time": "2022-01-05T15:36:33.125Z"
      },
      {
        "duration": 24,
        "start_time": "2022-01-05T15:36:33.902Z"
      },
      {
        "duration": 7,
        "start_time": "2022-01-05T15:36:33.930Z"
      },
      {
        "duration": 38,
        "start_time": "2022-01-05T15:36:33.940Z"
      },
      {
        "duration": 157,
        "start_time": "2022-01-05T15:36:33.981Z"
      },
      {
        "duration": 5,
        "start_time": "2022-01-05T15:36:34.141Z"
      },
      {
        "duration": 6,
        "start_time": "2022-01-05T15:36:34.149Z"
      },
      {
        "duration": 6,
        "start_time": "2022-01-05T15:36:34.158Z"
      },
      {
        "duration": 9795,
        "start_time": "2022-01-05T15:36:34.167Z"
      },
      {
        "duration": 5,
        "start_time": "2022-01-05T15:36:43.965Z"
      },
      {
        "duration": 8,
        "start_time": "2022-01-05T15:36:43.973Z"
      },
      {
        "duration": 3672,
        "start_time": "2022-01-05T15:36:43.983Z"
      },
      {
        "duration": 6,
        "start_time": "2022-01-05T15:36:47.657Z"
      },
      {
        "duration": 11,
        "start_time": "2022-01-05T15:36:47.665Z"
      },
      {
        "duration": 22,
        "start_time": "2022-01-05T15:36:47.678Z"
      },
      {
        "duration": 22,
        "start_time": "2022-01-05T15:36:47.703Z"
      },
      {
        "duration": 11,
        "start_time": "2022-01-05T15:36:47.728Z"
      },
      {
        "duration": 18,
        "start_time": "2022-01-05T15:36:47.742Z"
      },
      {
        "duration": 13,
        "start_time": "2022-01-05T15:36:47.763Z"
      },
      {
        "duration": 47,
        "start_time": "2022-01-05T15:36:47.778Z"
      },
      {
        "duration": 7,
        "start_time": "2022-01-05T15:36:47.828Z"
      },
      {
        "duration": 7,
        "start_time": "2022-01-05T15:36:47.838Z"
      },
      {
        "duration": 177,
        "start_time": "2022-01-05T15:36:47.848Z"
      },
      {
        "duration": 200,
        "start_time": "2022-01-05T15:36:48.028Z"
      },
      {
        "duration": 99,
        "start_time": "2022-01-05T15:36:48.231Z"
      },
      {
        "duration": 135,
        "start_time": "2022-01-05T15:36:48.333Z"
      },
      {
        "duration": 25,
        "start_time": "2022-01-05T15:36:48.471Z"
      },
      {
        "duration": 57,
        "start_time": "2022-01-05T15:36:48.523Z"
      },
      {
        "duration": 120,
        "start_time": "2022-01-05T15:36:48.583Z"
      },
      {
        "duration": 76,
        "start_time": "2022-01-05T15:36:48.705Z"
      },
      {
        "duration": 159,
        "start_time": "2022-01-05T15:36:48.783Z"
      },
      {
        "duration": 4,
        "start_time": "2022-01-05T15:36:48.944Z"
      },
      {
        "duration": 7,
        "start_time": "2022-01-05T15:36:48.957Z"
      },
      {
        "duration": 16,
        "start_time": "2022-01-05T15:36:48.968Z"
      },
      {
        "duration": 6324,
        "start_time": "2022-01-05T15:36:48.987Z"
      },
      {
        "duration": 5,
        "start_time": "2022-01-05T15:36:55.324Z"
      },
      {
        "duration": 8,
        "start_time": "2022-01-05T15:36:55.332Z"
      },
      {
        "duration": 7,
        "start_time": "2022-01-05T15:36:55.342Z"
      },
      {
        "duration": 9,
        "start_time": "2022-01-05T15:36:55.351Z"
      },
      {
        "duration": 8,
        "start_time": "2022-01-05T15:36:55.362Z"
      },
      {
        "duration": 2038,
        "start_time": "2022-01-05T15:36:55.372Z"
      },
      {
        "duration": 10,
        "start_time": "2022-01-05T15:36:57.413Z"
      },
      {
        "duration": 101,
        "start_time": "2022-01-05T15:36:57.426Z"
      },
      {
        "duration": 265,
        "start_time": "2022-01-05T15:36:57.530Z"
      },
      {
        "duration": 118,
        "start_time": "2022-01-05T15:36:57.798Z"
      },
      {
        "duration": 133,
        "start_time": "2022-01-05T15:36:57.919Z"
      },
      {
        "duration": 127,
        "start_time": "2022-01-05T15:36:58.056Z"
      },
      {
        "duration": 119,
        "start_time": "2022-01-05T15:36:58.186Z"
      },
      {
        "duration": 14,
        "start_time": "2022-01-05T15:36:58.309Z"
      },
      {
        "duration": 17,
        "start_time": "2022-01-05T15:36:58.326Z"
      },
      {
        "duration": 5,
        "start_time": "2022-01-05T15:36:58.347Z"
      },
      {
        "duration": 6,
        "start_time": "2022-01-05T15:36:58.355Z"
      },
      {
        "duration": 6,
        "start_time": "2022-01-05T15:36:58.364Z"
      },
      {
        "duration": 5,
        "start_time": "2022-01-05T15:36:58.372Z"
      },
      {
        "duration": 734,
        "start_time": "2022-01-05T15:57:44.747Z"
      },
      {
        "duration": 7,
        "start_time": "2022-01-05T16:00:57.637Z"
      },
      {
        "duration": 6,
        "start_time": "2022-01-05T16:01:26.878Z"
      },
      {
        "duration": 15,
        "start_time": "2022-01-05T16:01:28.929Z"
      },
      {
        "duration": 54,
        "start_time": "2022-01-05T16:01:35.218Z"
      },
      {
        "duration": 4,
        "start_time": "2022-01-05T16:01:36.484Z"
      },
      {
        "duration": 5,
        "start_time": "2022-01-05T16:01:36.639Z"
      },
      {
        "duration": 11,
        "start_time": "2022-01-05T16:01:36.956Z"
      },
      {
        "duration": 11,
        "start_time": "2022-01-05T16:01:38.388Z"
      },
      {
        "duration": 20,
        "start_time": "2022-01-05T16:01:39.317Z"
      },
      {
        "duration": 6,
        "start_time": "2022-01-05T16:01:42.189Z"
      },
      {
        "duration": 8,
        "start_time": "2022-01-05T16:01:45.168Z"
      },
      {
        "duration": 7,
        "start_time": "2022-01-05T16:01:49.541Z"
      },
      {
        "duration": 296,
        "start_time": "2022-01-05T16:01:51.814Z"
      },
      {
        "duration": 290,
        "start_time": "2022-01-05T16:01:53.588Z"
      },
      {
        "duration": 3,
        "start_time": "2022-01-05T16:01:57.938Z"
      },
      {
        "duration": 6,
        "start_time": "2022-01-05T16:01:59.048Z"
      },
      {
        "duration": 12,
        "start_time": "2022-01-05T16:02:00.246Z"
      },
      {
        "duration": 291,
        "start_time": "2022-01-05T16:02:39.984Z"
      },
      {
        "duration": 304,
        "start_time": "2022-01-05T16:02:44.708Z"
      },
      {
        "duration": 22,
        "start_time": "2022-01-05T16:28:00.302Z"
      },
      {
        "duration": 10,
        "start_time": "2022-01-05T16:28:02.581Z"
      },
      {
        "duration": 6,
        "start_time": "2022-01-05T16:28:03.431Z"
      },
      {
        "duration": 9,
        "start_time": "2022-01-05T16:28:48.501Z"
      },
      {
        "duration": 6,
        "start_time": "2022-01-05T16:28:49.083Z"
      },
      {
        "duration": 317,
        "start_time": "2022-01-05T16:33:51.617Z"
      },
      {
        "duration": 314,
        "start_time": "2022-01-05T16:34:39.987Z"
      },
      {
        "duration": 315,
        "start_time": "2022-01-05T16:34:51.349Z"
      },
      {
        "duration": 314,
        "start_time": "2022-01-05T16:35:20.604Z"
      },
      {
        "duration": 1544,
        "start_time": "2022-01-05T16:35:44.342Z"
      },
      {
        "duration": 56,
        "start_time": "2022-01-05T16:35:45.889Z"
      },
      {
        "duration": 4,
        "start_time": "2022-01-05T16:35:45.948Z"
      },
      {
        "duration": 9,
        "start_time": "2022-01-05T16:35:45.954Z"
      },
      {
        "duration": 16,
        "start_time": "2022-01-05T16:35:45.965Z"
      },
      {
        "duration": 10,
        "start_time": "2022-01-05T16:35:45.983Z"
      },
      {
        "duration": 45,
        "start_time": "2022-01-05T16:35:45.995Z"
      },
      {
        "duration": 8,
        "start_time": "2022-01-05T16:35:46.045Z"
      },
      {
        "duration": 8,
        "start_time": "2022-01-05T16:35:46.056Z"
      },
      {
        "duration": 8,
        "start_time": "2022-01-05T16:35:46.067Z"
      },
      {
        "duration": 353,
        "start_time": "2022-01-05T16:35:46.078Z"
      },
      {
        "duration": 328,
        "start_time": "2022-01-05T16:35:46.435Z"
      },
      {
        "duration": 11,
        "start_time": "2022-01-05T16:35:46.766Z"
      },
      {
        "duration": 10,
        "start_time": "2022-01-05T16:35:46.779Z"
      },
      {
        "duration": 36,
        "start_time": "2022-01-05T16:35:46.792Z"
      },
      {
        "duration": 17,
        "start_time": "2022-01-05T16:35:46.834Z"
      },
      {
        "duration": 15,
        "start_time": "2022-01-05T16:35:46.854Z"
      },
      {
        "duration": 9,
        "start_time": "2022-01-05T16:35:46.871Z"
      },
      {
        "duration": 7,
        "start_time": "2022-01-05T16:35:46.882Z"
      },
      {
        "duration": 36,
        "start_time": "2022-01-05T16:35:46.892Z"
      },
      {
        "duration": 11,
        "start_time": "2022-01-05T16:35:46.931Z"
      },
      {
        "duration": 10,
        "start_time": "2022-01-05T16:35:46.945Z"
      },
      {
        "duration": 5,
        "start_time": "2022-01-05T16:35:46.963Z"
      },
      {
        "duration": 9,
        "start_time": "2022-01-05T16:35:46.972Z"
      },
      {
        "duration": 294,
        "start_time": "2022-01-05T16:35:46.983Z"
      },
      {
        "duration": 20,
        "start_time": "2022-01-05T16:35:47.280Z"
      },
      {
        "duration": 32,
        "start_time": "2022-01-05T16:35:47.303Z"
      },
      {
        "duration": 11,
        "start_time": "2022-01-05T16:35:47.338Z"
      },
      {
        "duration": 15,
        "start_time": "2022-01-05T16:35:47.351Z"
      },
      {
        "duration": 8,
        "start_time": "2022-01-05T16:35:47.369Z"
      },
      {
        "duration": 15,
        "start_time": "2022-01-05T16:35:47.379Z"
      },
      {
        "duration": 31,
        "start_time": "2022-01-05T16:35:47.396Z"
      },
      {
        "duration": 8,
        "start_time": "2022-01-05T16:35:47.430Z"
      },
      {
        "duration": 8,
        "start_time": "2022-01-05T16:35:47.441Z"
      },
      {
        "duration": 13,
        "start_time": "2022-01-05T16:35:47.452Z"
      },
      {
        "duration": 16,
        "start_time": "2022-01-05T16:35:47.467Z"
      },
      {
        "duration": 4,
        "start_time": "2022-01-05T16:35:47.485Z"
      },
      {
        "duration": 70,
        "start_time": "2022-01-05T16:35:47.492Z"
      },
      {
        "duration": 81,
        "start_time": "2022-01-05T16:35:47.564Z"
      },
      {
        "duration": 8,
        "start_time": "2022-01-05T16:35:47.724Z"
      },
      {
        "duration": 443,
        "start_time": "2022-01-05T16:35:47.735Z"
      },
      {
        "duration": 71,
        "start_time": "2022-01-05T16:35:48.180Z"
      },
      {
        "duration": 43,
        "start_time": "2022-01-05T16:35:48.254Z"
      },
      {
        "duration": 3,
        "start_time": "2022-01-05T16:35:48.300Z"
      },
      {
        "duration": 7,
        "start_time": "2022-01-05T16:35:48.324Z"
      },
      {
        "duration": 6,
        "start_time": "2022-01-05T16:35:48.340Z"
      },
      {
        "duration": 789,
        "start_time": "2022-01-05T16:35:48.349Z"
      },
      {
        "duration": 5,
        "start_time": "2022-01-05T16:35:49.141Z"
      },
      {
        "duration": 13,
        "start_time": "2022-01-05T16:35:49.148Z"
      },
      {
        "duration": 46,
        "start_time": "2022-01-05T16:35:49.163Z"
      },
      {
        "duration": 118,
        "start_time": "2022-01-05T16:35:49.212Z"
      },
      {
        "duration": 5,
        "start_time": "2022-01-05T16:35:49.333Z"
      },
      {
        "duration": 6,
        "start_time": "2022-01-05T16:35:49.341Z"
      },
      {
        "duration": 6,
        "start_time": "2022-01-05T16:35:49.350Z"
      },
      {
        "duration": 10569,
        "start_time": "2022-01-05T16:35:49.359Z"
      },
      {
        "duration": 8,
        "start_time": "2022-01-05T16:35:59.931Z"
      },
      {
        "duration": 8,
        "start_time": "2022-01-05T16:35:59.942Z"
      },
      {
        "duration": 4033,
        "start_time": "2022-01-05T16:35:59.952Z"
      },
      {
        "duration": 6,
        "start_time": "2022-01-05T16:36:03.987Z"
      },
      {
        "duration": 11,
        "start_time": "2022-01-05T16:36:03.995Z"
      },
      {
        "duration": 19,
        "start_time": "2022-01-05T16:36:04.023Z"
      },
      {
        "duration": 6,
        "start_time": "2022-01-05T16:36:04.044Z"
      },
      {
        "duration": 8,
        "start_time": "2022-01-05T16:36:04.052Z"
      },
      {
        "duration": 7,
        "start_time": "2022-01-05T16:36:04.062Z"
      },
      {
        "duration": 6,
        "start_time": "2022-01-05T16:36:04.071Z"
      },
      {
        "duration": 67,
        "start_time": "2022-01-05T16:36:04.079Z"
      },
      {
        "duration": 5,
        "start_time": "2022-01-05T16:36:04.148Z"
      },
      {
        "duration": 5,
        "start_time": "2022-01-05T16:36:04.161Z"
      },
      {
        "duration": 68,
        "start_time": "2022-01-05T16:36:04.169Z"
      },
      {
        "duration": 188,
        "start_time": "2022-01-05T16:36:04.251Z"
      },
      {
        "duration": 184,
        "start_time": "2022-01-05T16:36:04.443Z"
      },
      {
        "duration": 149,
        "start_time": "2022-01-05T16:36:04.630Z"
      },
      {
        "duration": 52,
        "start_time": "2022-01-05T16:36:04.781Z"
      },
      {
        "duration": 56,
        "start_time": "2022-01-05T16:36:04.836Z"
      },
      {
        "duration": 126,
        "start_time": "2022-01-05T16:36:04.895Z"
      },
      {
        "duration": 68,
        "start_time": "2022-01-05T16:36:05.025Z"
      },
      {
        "duration": 180,
        "start_time": "2022-01-05T16:36:05.095Z"
      },
      {
        "duration": 4,
        "start_time": "2022-01-05T16:36:05.278Z"
      },
      {
        "duration": 8,
        "start_time": "2022-01-05T16:36:05.284Z"
      },
      {
        "duration": 6,
        "start_time": "2022-01-05T16:36:05.294Z"
      },
      {
        "duration": 6957,
        "start_time": "2022-01-05T16:36:05.302Z"
      },
      {
        "duration": 7,
        "start_time": "2022-01-05T16:36:12.262Z"
      },
      {
        "duration": 11,
        "start_time": "2022-01-05T16:36:12.271Z"
      },
      {
        "duration": 8,
        "start_time": "2022-01-05T16:36:12.284Z"
      },
      {
        "duration": 41,
        "start_time": "2022-01-05T16:36:12.294Z"
      },
      {
        "duration": 11,
        "start_time": "2022-01-05T16:36:12.339Z"
      },
      {
        "duration": 2192,
        "start_time": "2022-01-05T16:36:12.352Z"
      },
      {
        "duration": 4,
        "start_time": "2022-01-05T16:36:14.546Z"
      },
      {
        "duration": 106,
        "start_time": "2022-01-05T16:36:14.552Z"
      },
      {
        "duration": 266,
        "start_time": "2022-01-05T16:36:14.661Z"
      },
      {
        "duration": 76,
        "start_time": "2022-01-05T16:36:14.930Z"
      },
      {
        "duration": 99,
        "start_time": "2022-01-05T16:36:15.024Z"
      },
      {
        "duration": 97,
        "start_time": "2022-01-05T16:36:15.126Z"
      },
      {
        "duration": 71,
        "start_time": "2022-01-05T16:36:15.228Z"
      },
      {
        "duration": 3,
        "start_time": "2022-01-05T16:36:15.302Z"
      },
      {
        "duration": 10,
        "start_time": "2022-01-05T16:36:15.323Z"
      },
      {
        "duration": 9,
        "start_time": "2022-01-05T16:36:15.335Z"
      },
      {
        "duration": 15,
        "start_time": "2022-01-05T16:36:15.346Z"
      },
      {
        "duration": 8,
        "start_time": "2022-01-05T16:36:15.364Z"
      },
      {
        "duration": 18,
        "start_time": "2022-01-05T16:36:15.374Z"
      },
      {
        "duration": 16,
        "start_time": "2022-01-05T16:42:39.313Z"
      },
      {
        "duration": 1512,
        "start_time": "2022-01-05T16:45:46.826Z"
      },
      {
        "duration": 52,
        "start_time": "2022-01-05T16:45:48.340Z"
      },
      {
        "duration": 4,
        "start_time": "2022-01-05T16:45:48.395Z"
      },
      {
        "duration": 7,
        "start_time": "2022-01-05T16:45:48.401Z"
      },
      {
        "duration": 11,
        "start_time": "2022-01-05T16:45:48.424Z"
      },
      {
        "duration": 9,
        "start_time": "2022-01-05T16:45:48.437Z"
      },
      {
        "duration": 13,
        "start_time": "2022-01-05T16:45:48.449Z"
      },
      {
        "duration": 8,
        "start_time": "2022-01-05T16:45:48.465Z"
      },
      {
        "duration": 51,
        "start_time": "2022-01-05T16:45:48.478Z"
      },
      {
        "duration": 8,
        "start_time": "2022-01-05T16:45:48.533Z"
      },
      {
        "duration": 346,
        "start_time": "2022-01-05T16:45:48.543Z"
      },
      {
        "duration": 326,
        "start_time": "2022-01-05T16:45:48.893Z"
      },
      {
        "duration": 12,
        "start_time": "2022-01-05T16:45:49.224Z"
      },
      {
        "duration": 9,
        "start_time": "2022-01-05T16:45:49.238Z"
      },
      {
        "duration": 8,
        "start_time": "2022-01-05T16:45:49.250Z"
      },
      {
        "duration": 8,
        "start_time": "2022-01-05T16:45:49.260Z"
      },
      {
        "duration": 58,
        "start_time": "2022-01-05T16:45:49.271Z"
      },
      {
        "duration": 10,
        "start_time": "2022-01-05T16:45:49.332Z"
      },
      {
        "duration": 8,
        "start_time": "2022-01-05T16:45:49.345Z"
      },
      {
        "duration": 13,
        "start_time": "2022-01-05T16:45:49.356Z"
      },
      {
        "duration": 52,
        "start_time": "2022-01-05T16:45:49.372Z"
      },
      {
        "duration": 9,
        "start_time": "2022-01-05T16:45:49.427Z"
      },
      {
        "duration": 9,
        "start_time": "2022-01-05T16:45:49.438Z"
      },
      {
        "duration": 10,
        "start_time": "2022-01-05T16:45:49.449Z"
      },
      {
        "duration": 269,
        "start_time": "2022-01-05T16:45:49.461Z"
      },
      {
        "duration": 20,
        "start_time": "2022-01-05T16:45:49.733Z"
      },
      {
        "duration": 8,
        "start_time": "2022-01-05T16:45:49.759Z"
      },
      {
        "duration": 5,
        "start_time": "2022-01-05T16:45:49.771Z"
      },
      {
        "duration": 47,
        "start_time": "2022-01-05T16:45:49.778Z"
      },
      {
        "duration": 7,
        "start_time": "2022-01-05T16:45:49.827Z"
      },
      {
        "duration": 5,
        "start_time": "2022-01-05T16:45:49.837Z"
      },
      {
        "duration": 34,
        "start_time": "2022-01-05T16:45:49.844Z"
      },
      {
        "duration": 48,
        "start_time": "2022-01-05T16:45:49.881Z"
      },
      {
        "duration": 99,
        "start_time": "2022-01-05T16:45:49.932Z"
      },
      {
        "duration": 93,
        "start_time": "2022-01-05T16:45:50.033Z"
      },
      {
        "duration": 371,
        "start_time": "2022-01-05T16:45:50.129Z"
      },
      {
        "duration": 57,
        "start_time": "2022-01-05T16:45:50.503Z"
      },
      {
        "duration": 63,
        "start_time": "2022-01-05T16:45:50.563Z"
      },
      {
        "duration": 4,
        "start_time": "2022-01-05T16:45:50.629Z"
      },
      {
        "duration": 9,
        "start_time": "2022-01-05T16:45:50.636Z"
      },
      {
        "duration": 11,
        "start_time": "2022-01-05T16:45:50.648Z"
      },
      {
        "duration": 718,
        "start_time": "2022-01-05T16:45:50.661Z"
      },
      {
        "duration": 4,
        "start_time": "2022-01-05T16:45:51.382Z"
      },
      {
        "duration": 7,
        "start_time": "2022-01-05T16:45:51.389Z"
      },
      {
        "duration": 56,
        "start_time": "2022-01-05T16:45:51.398Z"
      },
      {
        "duration": 112,
        "start_time": "2022-01-05T16:45:51.458Z"
      },
      {
        "duration": 3,
        "start_time": "2022-01-05T16:45:51.573Z"
      },
      {
        "duration": 8,
        "start_time": "2022-01-05T16:45:51.578Z"
      },
      {
        "duration": 9,
        "start_time": "2022-01-05T16:45:51.588Z"
      },
      {
        "duration": 9515,
        "start_time": "2022-01-05T16:45:51.599Z"
      },
      {
        "duration": 5,
        "start_time": "2022-01-05T16:46:01.124Z"
      },
      {
        "duration": 9,
        "start_time": "2022-01-05T16:46:01.132Z"
      },
      {
        "duration": 3660,
        "start_time": "2022-01-05T16:46:01.144Z"
      },
      {
        "duration": 5,
        "start_time": "2022-01-05T16:46:04.807Z"
      },
      {
        "duration": 10,
        "start_time": "2022-01-05T16:46:04.814Z"
      },
      {
        "duration": 17,
        "start_time": "2022-01-05T16:46:04.826Z"
      },
      {
        "duration": 5,
        "start_time": "2022-01-05T16:46:04.846Z"
      },
      {
        "duration": 12,
        "start_time": "2022-01-05T16:46:04.853Z"
      },
      {
        "duration": 6,
        "start_time": "2022-01-05T16:46:04.868Z"
      },
      {
        "duration": 47,
        "start_time": "2022-01-05T16:46:04.877Z"
      },
      {
        "duration": 19,
        "start_time": "2022-01-05T16:46:04.927Z"
      },
      {
        "duration": 6,
        "start_time": "2022-01-05T16:46:04.949Z"
      },
      {
        "duration": 6,
        "start_time": "2022-01-05T16:46:04.958Z"
      },
      {
        "duration": 156,
        "start_time": "2022-01-05T16:46:04.967Z"
      },
      {
        "duration": 196,
        "start_time": "2022-01-05T16:46:05.127Z"
      },
      {
        "duration": 199,
        "start_time": "2022-01-05T16:46:05.326Z"
      },
      {
        "duration": 136,
        "start_time": "2022-01-05T16:46:05.528Z"
      },
      {
        "duration": 24,
        "start_time": "2022-01-05T16:46:05.667Z"
      },
      {
        "duration": 82,
        "start_time": "2022-01-05T16:46:05.694Z"
      },
      {
        "duration": 121,
        "start_time": "2022-01-05T16:46:05.779Z"
      },
      {
        "duration": 73,
        "start_time": "2022-01-05T16:46:05.903Z"
      },
      {
        "duration": 161,
        "start_time": "2022-01-05T16:46:05.979Z"
      },
      {
        "duration": 4,
        "start_time": "2022-01-05T16:46:06.142Z"
      },
      {
        "duration": 7,
        "start_time": "2022-01-05T16:46:06.149Z"
      },
      {
        "duration": 13,
        "start_time": "2022-01-05T16:46:06.159Z"
      },
      {
        "duration": 6535,
        "start_time": "2022-01-05T16:46:06.174Z"
      },
      {
        "duration": 4,
        "start_time": "2022-01-05T16:46:12.724Z"
      },
      {
        "duration": 13,
        "start_time": "2022-01-05T16:46:12.731Z"
      },
      {
        "duration": 7,
        "start_time": "2022-01-05T16:46:12.746Z"
      },
      {
        "duration": 7,
        "start_time": "2022-01-05T16:46:12.755Z"
      },
      {
        "duration": 5,
        "start_time": "2022-01-05T16:46:12.770Z"
      },
      {
        "duration": 2188,
        "start_time": "2022-01-05T16:46:12.777Z"
      },
      {
        "duration": 3,
        "start_time": "2022-01-05T16:46:14.968Z"
      },
      {
        "duration": 103,
        "start_time": "2022-01-05T16:46:14.973Z"
      },
      {
        "duration": 248,
        "start_time": "2022-01-05T16:46:15.079Z"
      },
      {
        "duration": 71,
        "start_time": "2022-01-05T16:46:15.330Z"
      },
      {
        "duration": 105,
        "start_time": "2022-01-05T16:46:15.403Z"
      },
      {
        "duration": 91,
        "start_time": "2022-01-05T16:46:15.511Z"
      },
      {
        "duration": 85,
        "start_time": "2022-01-05T16:46:15.605Z"
      },
      {
        "duration": 4,
        "start_time": "2022-01-05T16:46:15.692Z"
      },
      {
        "duration": 31,
        "start_time": "2022-01-05T16:46:15.698Z"
      },
      {
        "duration": 4,
        "start_time": "2022-01-05T16:46:15.732Z"
      },
      {
        "duration": 6,
        "start_time": "2022-01-05T16:46:15.738Z"
      },
      {
        "duration": 5,
        "start_time": "2022-01-05T16:46:15.746Z"
      },
      {
        "duration": 5,
        "start_time": "2022-01-05T16:46:15.754Z"
      },
      {
        "duration": 435,
        "start_time": "2022-01-05T16:48:37.786Z"
      },
      {
        "duration": 133,
        "start_time": "2022-01-05T16:48:58.197Z"
      },
      {
        "duration": 12,
        "start_time": "2022-01-05T16:48:59.596Z"
      },
      {
        "duration": 252,
        "start_time": "2022-01-05T16:49:00.474Z"
      },
      {
        "duration": 54,
        "start_time": "2022-01-05T16:49:01.705Z"
      },
      {
        "duration": 1662,
        "start_time": "2022-01-05T16:49:19.118Z"
      },
      {
        "duration": 52,
        "start_time": "2022-01-05T16:49:20.783Z"
      },
      {
        "duration": 5,
        "start_time": "2022-01-05T16:49:20.838Z"
      },
      {
        "duration": 8,
        "start_time": "2022-01-05T16:49:20.845Z"
      },
      {
        "duration": 12,
        "start_time": "2022-01-05T16:49:20.856Z"
      },
      {
        "duration": 10,
        "start_time": "2022-01-05T16:49:20.870Z"
      },
      {
        "duration": 44,
        "start_time": "2022-01-05T16:49:20.883Z"
      },
      {
        "duration": 6,
        "start_time": "2022-01-05T16:49:20.929Z"
      },
      {
        "duration": 11,
        "start_time": "2022-01-05T16:49:20.941Z"
      },
      {
        "duration": 8,
        "start_time": "2022-01-05T16:49:20.956Z"
      },
      {
        "duration": 480,
        "start_time": "2022-01-05T16:49:20.967Z"
      },
      {
        "duration": 457,
        "start_time": "2022-01-05T16:49:21.450Z"
      },
      {
        "duration": 20,
        "start_time": "2022-01-05T16:49:21.910Z"
      },
      {
        "duration": 7,
        "start_time": "2022-01-05T16:49:21.933Z"
      },
      {
        "duration": 6,
        "start_time": "2022-01-05T16:49:21.943Z"
      },
      {
        "duration": 6,
        "start_time": "2022-01-05T16:49:21.952Z"
      },
      {
        "duration": 9,
        "start_time": "2022-01-05T16:49:21.960Z"
      },
      {
        "duration": 56,
        "start_time": "2022-01-05T16:49:21.972Z"
      },
      {
        "duration": 8,
        "start_time": "2022-01-05T16:49:22.030Z"
      },
      {
        "duration": 8,
        "start_time": "2022-01-05T16:49:22.040Z"
      },
      {
        "duration": 8,
        "start_time": "2022-01-05T16:49:22.050Z"
      },
      {
        "duration": 9,
        "start_time": "2022-01-05T16:49:22.071Z"
      },
      {
        "duration": 42,
        "start_time": "2022-01-05T16:49:22.083Z"
      },
      {
        "duration": 16,
        "start_time": "2022-01-05T16:49:22.128Z"
      },
      {
        "duration": 343,
        "start_time": "2022-01-05T16:49:22.147Z"
      },
      {
        "duration": 40,
        "start_time": "2022-01-05T16:49:22.493Z"
      },
      {
        "duration": 11,
        "start_time": "2022-01-05T16:49:22.543Z"
      },
      {
        "duration": 6,
        "start_time": "2022-01-05T16:49:22.559Z"
      },
      {
        "duration": 10,
        "start_time": "2022-01-05T16:49:22.568Z"
      },
      {
        "duration": 42,
        "start_time": "2022-01-05T16:49:22.581Z"
      },
      {
        "duration": 5,
        "start_time": "2022-01-05T16:49:22.626Z"
      },
      {
        "duration": 36,
        "start_time": "2022-01-05T16:49:22.634Z"
      },
      {
        "duration": 16,
        "start_time": "2022-01-05T16:49:22.673Z"
      },
      {
        "duration": 201,
        "start_time": "2022-01-05T16:49:22.723Z"
      },
      {
        "duration": 16,
        "start_time": "2022-01-05T16:49:22.926Z"
      },
      {
        "duration": 388,
        "start_time": "2022-01-05T16:49:23.026Z"
      },
      {
        "duration": 70,
        "start_time": "2022-01-05T16:49:23.417Z"
      },
      {
        "duration": 65,
        "start_time": "2022-01-05T16:49:23.489Z"
      },
      {
        "duration": 4,
        "start_time": "2022-01-05T16:49:23.557Z"
      },
      {
        "duration": 8,
        "start_time": "2022-01-05T16:49:23.563Z"
      },
      {
        "duration": 5,
        "start_time": "2022-01-05T16:49:23.574Z"
      },
      {
        "duration": 1078,
        "start_time": "2022-01-05T16:49:23.582Z"
      },
      {
        "duration": 13,
        "start_time": "2022-01-05T16:49:24.663Z"
      },
      {
        "duration": 7,
        "start_time": "2022-01-05T16:49:24.678Z"
      },
      {
        "duration": 77,
        "start_time": "2022-01-05T16:49:24.687Z"
      },
      {
        "duration": 160,
        "start_time": "2022-01-05T16:49:24.767Z"
      },
      {
        "duration": 4,
        "start_time": "2022-01-05T16:49:24.931Z"
      },
      {
        "duration": 7,
        "start_time": "2022-01-05T16:49:24.939Z"
      },
      {
        "duration": 8,
        "start_time": "2022-01-05T16:49:24.948Z"
      },
      {
        "duration": 10114,
        "start_time": "2022-01-05T16:49:24.959Z"
      },
      {
        "duration": 5,
        "start_time": "2022-01-05T16:49:35.076Z"
      },
      {
        "duration": 10,
        "start_time": "2022-01-05T16:49:35.083Z"
      },
      {
        "duration": 3714,
        "start_time": "2022-01-05T16:49:35.095Z"
      },
      {
        "duration": 14,
        "start_time": "2022-01-05T16:49:38.811Z"
      },
      {
        "duration": 8,
        "start_time": "2022-01-05T16:49:38.828Z"
      },
      {
        "duration": 23,
        "start_time": "2022-01-05T16:49:38.839Z"
      },
      {
        "duration": 6,
        "start_time": "2022-01-05T16:49:38.865Z"
      },
      {
        "duration": 6,
        "start_time": "2022-01-05T16:49:38.874Z"
      },
      {
        "duration": 42,
        "start_time": "2022-01-05T16:49:38.883Z"
      },
      {
        "duration": 7,
        "start_time": "2022-01-05T16:49:38.927Z"
      },
      {
        "duration": 16,
        "start_time": "2022-01-05T16:49:38.936Z"
      },
      {
        "duration": 5,
        "start_time": "2022-01-05T16:49:38.955Z"
      },
      {
        "duration": 9,
        "start_time": "2022-01-05T16:49:38.962Z"
      },
      {
        "duration": 87,
        "start_time": "2022-01-05T16:49:38.973Z"
      },
      {
        "duration": 113,
        "start_time": "2022-01-05T16:49:39.122Z"
      },
      {
        "duration": 204,
        "start_time": "2022-01-05T16:49:39.323Z"
      },
      {
        "duration": 44,
        "start_time": "2022-01-05T16:49:39.624Z"
      },
      {
        "duration": 24,
        "start_time": "2022-01-05T16:49:39.671Z"
      },
      {
        "duration": 80,
        "start_time": "2022-01-05T16:49:39.697Z"
      },
      {
        "duration": 122,
        "start_time": "2022-01-05T16:49:39.779Z"
      },
      {
        "duration": 72,
        "start_time": "2022-01-05T16:49:39.904Z"
      },
      {
        "duration": 163,
        "start_time": "2022-01-05T16:49:39.979Z"
      },
      {
        "duration": 4,
        "start_time": "2022-01-05T16:49:40.144Z"
      },
      {
        "duration": 6,
        "start_time": "2022-01-05T16:49:40.151Z"
      },
      {
        "duration": 6,
        "start_time": "2022-01-05T16:49:40.159Z"
      },
      {
        "duration": 6495,
        "start_time": "2022-01-05T16:49:40.167Z"
      },
      {
        "duration": 5,
        "start_time": "2022-01-05T16:49:46.665Z"
      },
      {
        "duration": 10,
        "start_time": "2022-01-05T16:49:46.673Z"
      },
      {
        "duration": 9,
        "start_time": "2022-01-05T16:49:46.685Z"
      },
      {
        "duration": 4,
        "start_time": "2022-01-05T16:49:46.724Z"
      },
      {
        "duration": 4,
        "start_time": "2022-01-05T16:49:46.737Z"
      },
      {
        "duration": 2178,
        "start_time": "2022-01-05T16:49:46.745Z"
      },
      {
        "duration": 3,
        "start_time": "2022-01-05T16:49:48.926Z"
      },
      {
        "duration": 115,
        "start_time": "2022-01-05T16:49:48.931Z"
      },
      {
        "duration": 381,
        "start_time": "2022-01-05T16:49:49.048Z"
      },
      {
        "duration": 118,
        "start_time": "2022-01-05T16:49:49.432Z"
      },
      {
        "duration": 133,
        "start_time": "2022-01-05T16:49:49.553Z"
      },
      {
        "duration": 91,
        "start_time": "2022-01-05T16:49:49.689Z"
      },
      {
        "duration": 103,
        "start_time": "2022-01-05T16:49:49.783Z"
      },
      {
        "duration": 4,
        "start_time": "2022-01-05T16:49:49.889Z"
      },
      {
        "duration": 31,
        "start_time": "2022-01-05T16:49:49.896Z"
      },
      {
        "duration": 9,
        "start_time": "2022-01-05T16:49:49.931Z"
      },
      {
        "duration": 6,
        "start_time": "2022-01-05T16:49:49.944Z"
      },
      {
        "duration": 7,
        "start_time": "2022-01-05T16:49:49.952Z"
      },
      {
        "duration": 8,
        "start_time": "2022-01-05T16:49:49.962Z"
      },
      {
        "duration": 14,
        "start_time": "2022-01-05T17:00:34.206Z"
      },
      {
        "duration": 47,
        "start_time": "2022-01-05T17:06:31.888Z"
      },
      {
        "duration": 93,
        "start_time": "2022-01-05T17:21:38.742Z"
      },
      {
        "duration": 3,
        "start_time": "2022-01-05T17:21:47.302Z"
      },
      {
        "duration": 8,
        "start_time": "2022-01-05T17:21:49.652Z"
      },
      {
        "duration": 4,
        "start_time": "2022-01-05T17:22:45.963Z"
      },
      {
        "duration": 4,
        "start_time": "2022-01-05T17:23:24.490Z"
      },
      {
        "duration": 4,
        "start_time": "2022-01-05T17:23:31.020Z"
      },
      {
        "duration": 437,
        "start_time": "2022-01-05T17:23:32.840Z"
      },
      {
        "duration": 4,
        "start_time": "2022-01-05T17:23:56.184Z"
      },
      {
        "duration": 5,
        "start_time": "2022-01-05T17:23:56.695Z"
      },
      {
        "duration": 5,
        "start_time": "2022-01-05T17:23:57.322Z"
      },
      {
        "duration": 90,
        "start_time": "2022-01-05T17:24:00.231Z"
      },
      {
        "duration": 6,
        "start_time": "2022-01-05T17:24:03.929Z"
      },
      {
        "duration": 6,
        "start_time": "2022-01-05T17:24:04.682Z"
      },
      {
        "duration": 6,
        "start_time": "2022-01-05T17:24:58.847Z"
      },
      {
        "duration": 5,
        "start_time": "2022-01-05T17:25:37.094Z"
      },
      {
        "duration": 5,
        "start_time": "2022-01-05T17:25:37.819Z"
      },
      {
        "duration": 5,
        "start_time": "2022-01-05T17:25:39.171Z"
      },
      {
        "duration": 30,
        "start_time": "2022-01-05T17:26:10.781Z"
      },
      {
        "duration": 4,
        "start_time": "2022-01-05T17:28:28.580Z"
      },
      {
        "duration": 4,
        "start_time": "2022-01-05T17:28:29.393Z"
      },
      {
        "duration": 87,
        "start_time": "2022-01-05T17:29:09.817Z"
      },
      {
        "duration": 5,
        "start_time": "2022-01-05T17:31:38.379Z"
      },
      {
        "duration": 32,
        "start_time": "2022-01-05T17:33:02.403Z"
      },
      {
        "duration": 1723,
        "start_time": "2022-01-05T17:58:17.578Z"
      },
      {
        "duration": 54,
        "start_time": "2022-01-05T17:58:19.304Z"
      },
      {
        "duration": 5,
        "start_time": "2022-01-05T17:58:19.362Z"
      },
      {
        "duration": 9,
        "start_time": "2022-01-05T17:58:19.370Z"
      },
      {
        "duration": 14,
        "start_time": "2022-01-05T17:58:19.381Z"
      },
      {
        "duration": 36,
        "start_time": "2022-01-05T17:58:19.397Z"
      },
      {
        "duration": 13,
        "start_time": "2022-01-05T17:58:19.436Z"
      },
      {
        "duration": 5,
        "start_time": "2022-01-05T17:58:19.452Z"
      },
      {
        "duration": 7,
        "start_time": "2022-01-05T17:58:19.462Z"
      },
      {
        "duration": 53,
        "start_time": "2022-01-05T17:58:19.472Z"
      },
      {
        "duration": 357,
        "start_time": "2022-01-05T17:58:19.528Z"
      },
      {
        "duration": 414,
        "start_time": "2022-01-05T17:58:19.887Z"
      },
      {
        "duration": 9,
        "start_time": "2022-01-05T17:58:20.304Z"
      },
      {
        "duration": 8,
        "start_time": "2022-01-05T17:58:20.324Z"
      },
      {
        "duration": 17,
        "start_time": "2022-01-05T17:58:20.334Z"
      },
      {
        "duration": 6,
        "start_time": "2022-01-05T17:58:20.354Z"
      },
      {
        "duration": 20,
        "start_time": "2022-01-05T17:58:20.363Z"
      },
      {
        "duration": 8,
        "start_time": "2022-01-05T17:58:20.386Z"
      },
      {
        "duration": 7,
        "start_time": "2022-01-05T17:58:20.424Z"
      },
      {
        "duration": 6,
        "start_time": "2022-01-05T17:58:20.434Z"
      },
      {
        "duration": 7,
        "start_time": "2022-01-05T17:58:20.443Z"
      },
      {
        "duration": 9,
        "start_time": "2022-01-05T17:58:20.452Z"
      },
      {
        "duration": 9,
        "start_time": "2022-01-05T17:58:20.463Z"
      },
      {
        "duration": 56,
        "start_time": "2022-01-05T17:58:20.474Z"
      },
      {
        "duration": 261,
        "start_time": "2022-01-05T17:58:20.533Z"
      },
      {
        "duration": 31,
        "start_time": "2022-01-05T17:58:20.796Z"
      },
      {
        "duration": 9,
        "start_time": "2022-01-05T17:58:20.834Z"
      },
      {
        "duration": 7,
        "start_time": "2022-01-05T17:58:20.847Z"
      },
      {
        "duration": 20,
        "start_time": "2022-01-05T17:58:20.856Z"
      },
      {
        "duration": 7,
        "start_time": "2022-01-05T17:58:20.879Z"
      },
      {
        "duration": 10,
        "start_time": "2022-01-05T17:58:20.889Z"
      },
      {
        "duration": 34,
        "start_time": "2022-01-05T17:58:20.924Z"
      },
      {
        "duration": 16,
        "start_time": "2022-01-05T17:58:20.961Z"
      },
      {
        "duration": 145,
        "start_time": "2022-01-05T17:58:20.979Z"
      },
      {
        "duration": 97,
        "start_time": "2022-01-05T17:58:21.128Z"
      },
      {
        "duration": 402,
        "start_time": "2022-01-05T17:58:21.228Z"
      },
      {
        "duration": 44,
        "start_time": "2022-01-05T17:58:21.632Z"
      },
      {
        "duration": 64,
        "start_time": "2022-01-05T17:58:21.678Z"
      },
      {
        "duration": 4,
        "start_time": "2022-01-05T17:58:21.744Z"
      },
      {
        "duration": 8,
        "start_time": "2022-01-05T17:58:21.750Z"
      },
      {
        "duration": 7,
        "start_time": "2022-01-05T17:58:21.761Z"
      },
      {
        "duration": 182,
        "start_time": "2022-01-05T17:58:21.770Z"
      },
      {
        "duration": 5,
        "start_time": "2022-01-05T17:58:21.954Z"
      },
      {
        "duration": 6,
        "start_time": "2022-01-05T17:58:21.962Z"
      },
      {
        "duration": 58,
        "start_time": "2022-01-05T17:58:21.971Z"
      },
      {
        "duration": 116,
        "start_time": "2022-01-05T17:58:22.032Z"
      },
      {
        "duration": 4,
        "start_time": "2022-01-05T17:58:22.150Z"
      },
      {
        "duration": 6,
        "start_time": "2022-01-05T17:58:22.156Z"
      },
      {
        "duration": 5,
        "start_time": "2022-01-05T17:58:22.165Z"
      },
      {
        "duration": 9843,
        "start_time": "2022-01-05T17:58:22.173Z"
      },
      {
        "duration": 7,
        "start_time": "2022-01-05T17:58:32.018Z"
      },
      {
        "duration": 6,
        "start_time": "2022-01-05T17:58:32.027Z"
      },
      {
        "duration": 3583,
        "start_time": "2022-01-05T17:58:32.035Z"
      },
      {
        "duration": 6,
        "start_time": "2022-01-05T17:58:35.623Z"
      },
      {
        "duration": 18,
        "start_time": "2022-01-05T17:58:35.631Z"
      },
      {
        "duration": 22,
        "start_time": "2022-01-05T17:58:35.652Z"
      },
      {
        "duration": 6,
        "start_time": "2022-01-05T17:58:35.676Z"
      },
      {
        "duration": 21,
        "start_time": "2022-01-05T17:58:35.685Z"
      },
      {
        "duration": 20,
        "start_time": "2022-01-05T17:58:35.709Z"
      },
      {
        "duration": 10,
        "start_time": "2022-01-05T17:58:35.732Z"
      },
      {
        "duration": 21,
        "start_time": "2022-01-05T17:58:35.744Z"
      },
      {
        "duration": 6,
        "start_time": "2022-01-05T17:58:35.767Z"
      },
      {
        "duration": 7,
        "start_time": "2022-01-05T17:58:35.776Z"
      },
      {
        "duration": 143,
        "start_time": "2022-01-05T17:58:35.786Z"
      },
      {
        "duration": 193,
        "start_time": "2022-01-05T17:58:35.932Z"
      },
      {
        "duration": 199,
        "start_time": "2022-01-05T17:58:36.129Z"
      },
      {
        "duration": 132,
        "start_time": "2022-01-05T17:58:36.332Z"
      },
      {
        "duration": 23,
        "start_time": "2022-01-05T17:58:36.467Z"
      },
      {
        "duration": 80,
        "start_time": "2022-01-05T17:58:36.492Z"
      },
      {
        "duration": 108,
        "start_time": "2022-01-05T17:58:36.574Z"
      },
      {
        "duration": 77,
        "start_time": "2022-01-05T17:58:36.684Z"
      },
      {
        "duration": 155,
        "start_time": "2022-01-05T17:58:36.763Z"
      },
      {
        "duration": 4,
        "start_time": "2022-01-05T17:58:36.920Z"
      },
      {
        "duration": 11,
        "start_time": "2022-01-05T17:58:36.926Z"
      },
      {
        "duration": 6,
        "start_time": "2022-01-05T17:58:36.940Z"
      },
      {
        "duration": 6681,
        "start_time": "2022-01-05T17:58:36.948Z"
      },
      {
        "duration": 7,
        "start_time": "2022-01-05T17:58:43.632Z"
      },
      {
        "duration": 10,
        "start_time": "2022-01-05T17:58:43.642Z"
      },
      {
        "duration": 15,
        "start_time": "2022-01-05T17:58:43.655Z"
      },
      {
        "duration": 7,
        "start_time": "2022-01-05T17:58:43.673Z"
      },
      {
        "duration": 6,
        "start_time": "2022-01-05T17:58:43.726Z"
      },
      {
        "duration": 2058,
        "start_time": "2022-01-05T17:58:43.735Z"
      },
      {
        "duration": 4,
        "start_time": "2022-01-05T17:58:45.796Z"
      },
      {
        "duration": 97,
        "start_time": "2022-01-05T17:58:45.803Z"
      },
      {
        "duration": 245,
        "start_time": "2022-01-05T17:58:45.902Z"
      },
      {
        "duration": 80,
        "start_time": "2022-01-05T17:58:46.150Z"
      },
      {
        "duration": 108,
        "start_time": "2022-01-05T17:58:46.233Z"
      },
      {
        "duration": 102,
        "start_time": "2022-01-05T17:58:46.344Z"
      },
      {
        "duration": 85,
        "start_time": "2022-01-05T17:58:46.448Z"
      },
      {
        "duration": 4,
        "start_time": "2022-01-05T17:58:46.536Z"
      },
      {
        "duration": 12,
        "start_time": "2022-01-05T17:58:46.544Z"
      },
      {
        "duration": 5,
        "start_time": "2022-01-05T17:58:46.559Z"
      },
      {
        "duration": 4,
        "start_time": "2022-01-05T17:58:46.567Z"
      },
      {
        "duration": 5,
        "start_time": "2022-01-05T17:58:46.574Z"
      },
      {
        "duration": 3,
        "start_time": "2022-01-05T17:58:46.624Z"
      },
      {
        "duration": 4,
        "start_time": "2022-01-05T18:06:12.322Z"
      },
      {
        "duration": 4,
        "start_time": "2022-01-05T18:06:13.431Z"
      },
      {
        "duration": 4,
        "start_time": "2022-01-05T18:06:13.998Z"
      },
      {
        "duration": 20662,
        "start_time": "2022-01-05T18:06:16.162Z"
      },
      {
        "duration": 5,
        "start_time": "2022-01-05T18:06:42.823Z"
      },
      {
        "duration": 10,
        "start_time": "2022-01-05T18:06:43.540Z"
      },
      {
        "duration": 6,
        "start_time": "2022-01-05T18:06:45.380Z"
      },
      {
        "duration": 5,
        "start_time": "2022-01-05T18:06:45.853Z"
      },
      {
        "duration": 6,
        "start_time": "2022-01-05T18:06:46.340Z"
      },
      {
        "duration": 1440,
        "start_time": "2022-01-05T18:16:12.603Z"
      },
      {
        "duration": 5,
        "start_time": "2022-01-05T18:17:18.671Z"
      },
      {
        "duration": 1545,
        "start_time": "2022-01-05T18:21:55.935Z"
      },
      {
        "duration": 53,
        "start_time": "2022-01-05T18:21:57.483Z"
      },
      {
        "duration": 4,
        "start_time": "2022-01-05T18:21:57.539Z"
      },
      {
        "duration": 8,
        "start_time": "2022-01-05T18:21:57.545Z"
      },
      {
        "duration": 14,
        "start_time": "2022-01-05T18:21:57.556Z"
      },
      {
        "duration": 17,
        "start_time": "2022-01-05T18:21:57.573Z"
      },
      {
        "duration": 43,
        "start_time": "2022-01-05T18:21:57.592Z"
      },
      {
        "duration": 6,
        "start_time": "2022-01-05T18:21:57.638Z"
      },
      {
        "duration": 17,
        "start_time": "2022-01-05T18:21:57.648Z"
      },
      {
        "duration": 14,
        "start_time": "2022-01-05T18:21:57.668Z"
      },
      {
        "duration": 356,
        "start_time": "2022-01-05T18:21:57.685Z"
      },
      {
        "duration": 357,
        "start_time": "2022-01-05T18:21:58.044Z"
      },
      {
        "duration": 24,
        "start_time": "2022-01-05T18:21:58.404Z"
      },
      {
        "duration": 10,
        "start_time": "2022-01-05T18:21:58.431Z"
      },
      {
        "duration": 12,
        "start_time": "2022-01-05T18:21:58.443Z"
      },
      {
        "duration": 11,
        "start_time": "2022-01-05T18:21:58.457Z"
      },
      {
        "duration": 9,
        "start_time": "2022-01-05T18:21:58.471Z"
      },
      {
        "duration": 46,
        "start_time": "2022-01-05T18:21:58.482Z"
      },
      {
        "duration": 14,
        "start_time": "2022-01-05T18:21:58.531Z"
      },
      {
        "duration": 9,
        "start_time": "2022-01-05T18:21:58.547Z"
      },
      {
        "duration": 12,
        "start_time": "2022-01-05T18:21:58.558Z"
      },
      {
        "duration": 12,
        "start_time": "2022-01-05T18:21:58.572Z"
      },
      {
        "duration": 43,
        "start_time": "2022-01-05T18:21:58.587Z"
      },
      {
        "duration": 13,
        "start_time": "2022-01-05T18:21:58.633Z"
      },
      {
        "duration": 323,
        "start_time": "2022-01-05T18:21:58.649Z"
      },
      {
        "duration": 21,
        "start_time": "2022-01-05T18:21:58.974Z"
      },
      {
        "duration": 26,
        "start_time": "2022-01-05T18:21:59.003Z"
      },
      {
        "duration": 5,
        "start_time": "2022-01-05T18:21:59.034Z"
      },
      {
        "duration": 18,
        "start_time": "2022-01-05T18:21:59.041Z"
      },
      {
        "duration": 15,
        "start_time": "2022-01-05T18:21:59.062Z"
      },
      {
        "duration": 5,
        "start_time": "2022-01-05T18:21:59.080Z"
      },
      {
        "duration": 66,
        "start_time": "2022-01-05T18:21:59.088Z"
      },
      {
        "duration": 19,
        "start_time": "2022-01-05T18:21:59.157Z"
      },
      {
        "duration": 70,
        "start_time": "2022-01-05T18:21:59.179Z"
      },
      {
        "duration": 98,
        "start_time": "2022-01-05T18:21:59.327Z"
      },
      {
        "duration": 373,
        "start_time": "2022-01-05T18:21:59.430Z"
      },
      {
        "duration": 55,
        "start_time": "2022-01-05T18:21:59.806Z"
      },
      {
        "duration": 60,
        "start_time": "2022-01-05T18:21:59.863Z"
      },
      {
        "duration": 4,
        "start_time": "2022-01-05T18:21:59.925Z"
      },
      {
        "duration": 20,
        "start_time": "2022-01-05T18:21:59.931Z"
      },
      {
        "duration": 7,
        "start_time": "2022-01-05T18:21:59.954Z"
      },
      {
        "duration": 186,
        "start_time": "2022-01-05T18:21:59.964Z"
      },
      {
        "duration": 5,
        "start_time": "2022-01-05T18:22:00.153Z"
      },
      {
        "duration": 18,
        "start_time": "2022-01-05T18:22:00.160Z"
      },
      {
        "duration": 64,
        "start_time": "2022-01-05T18:22:00.181Z"
      },
      {
        "duration": 157,
        "start_time": "2022-01-05T18:22:00.248Z"
      },
      {
        "duration": 16,
        "start_time": "2022-01-05T18:22:00.408Z"
      },
      {
        "duration": 14,
        "start_time": "2022-01-05T18:22:00.428Z"
      },
      {
        "duration": 13,
        "start_time": "2022-01-05T18:22:00.445Z"
      },
      {
        "duration": 9773,
        "start_time": "2022-01-05T18:22:00.460Z"
      },
      {
        "duration": 4,
        "start_time": "2022-01-05T18:22:10.236Z"
      },
      {
        "duration": 10,
        "start_time": "2022-01-05T18:22:10.243Z"
      },
      {
        "duration": 3343,
        "start_time": "2022-01-05T18:22:10.255Z"
      },
      {
        "duration": 6,
        "start_time": "2022-01-05T18:22:13.600Z"
      },
      {
        "duration": 8,
        "start_time": "2022-01-05T18:22:13.624Z"
      },
      {
        "duration": 22,
        "start_time": "2022-01-05T18:22:13.635Z"
      },
      {
        "duration": 16,
        "start_time": "2022-01-05T18:22:13.660Z"
      },
      {
        "duration": 17,
        "start_time": "2022-01-05T18:22:13.680Z"
      },
      {
        "duration": 27,
        "start_time": "2022-01-05T18:22:13.700Z"
      },
      {
        "duration": 7,
        "start_time": "2022-01-05T18:22:13.730Z"
      },
      {
        "duration": 21,
        "start_time": "2022-01-05T18:22:13.740Z"
      },
      {
        "duration": 5,
        "start_time": "2022-01-05T18:22:13.763Z"
      },
      {
        "duration": 52,
        "start_time": "2022-01-05T18:22:13.770Z"
      },
      {
        "duration": 102,
        "start_time": "2022-01-05T18:22:13.825Z"
      },
      {
        "duration": 201,
        "start_time": "2022-01-05T18:22:13.933Z"
      },
      {
        "duration": 189,
        "start_time": "2022-01-05T18:22:14.138Z"
      },
      {
        "duration": 131,
        "start_time": "2022-01-05T18:22:14.331Z"
      },
      {
        "duration": 27,
        "start_time": "2022-01-05T18:22:14.464Z"
      },
      {
        "duration": 85,
        "start_time": "2022-01-05T18:22:14.494Z"
      },
      {
        "duration": 122,
        "start_time": "2022-01-05T18:22:14.581Z"
      },
      {
        "duration": 74,
        "start_time": "2022-01-05T18:22:14.706Z"
      },
      {
        "duration": 161,
        "start_time": "2022-01-05T18:22:14.783Z"
      },
      {
        "duration": 4,
        "start_time": "2022-01-05T18:22:14.946Z"
      },
      {
        "duration": 6,
        "start_time": "2022-01-05T18:22:14.953Z"
      },
      {
        "duration": 8,
        "start_time": "2022-01-05T18:22:14.961Z"
      },
      {
        "duration": 9339,
        "start_time": "2022-01-05T18:22:14.972Z"
      },
      {
        "duration": 7,
        "start_time": "2022-01-05T18:22:24.323Z"
      },
      {
        "duration": 8,
        "start_time": "2022-01-05T18:22:24.332Z"
      },
      {
        "duration": 10,
        "start_time": "2022-01-05T18:22:24.342Z"
      },
      {
        "duration": 11,
        "start_time": "2022-01-05T18:22:24.355Z"
      },
      {
        "duration": 5,
        "start_time": "2022-01-05T18:22:24.374Z"
      },
      {
        "duration": 2140,
        "start_time": "2022-01-05T18:22:24.381Z"
      },
      {
        "duration": 3,
        "start_time": "2022-01-05T18:22:26.524Z"
      },
      {
        "duration": 103,
        "start_time": "2022-01-05T18:22:26.529Z"
      },
      {
        "duration": 260,
        "start_time": "2022-01-05T18:22:26.635Z"
      },
      {
        "duration": 78,
        "start_time": "2022-01-05T18:22:26.898Z"
      },
      {
        "duration": 106,
        "start_time": "2022-01-05T18:22:26.978Z"
      },
      {
        "duration": 98,
        "start_time": "2022-01-05T18:22:27.086Z"
      },
      {
        "duration": 79,
        "start_time": "2022-01-05T18:22:27.187Z"
      },
      {
        "duration": 3,
        "start_time": "2022-01-05T18:22:27.270Z"
      },
      {
        "duration": 12,
        "start_time": "2022-01-05T18:22:27.275Z"
      },
      {
        "duration": 4,
        "start_time": "2022-01-05T18:22:27.289Z"
      },
      {
        "duration": 29,
        "start_time": "2022-01-05T18:22:27.295Z"
      },
      {
        "duration": 6,
        "start_time": "2022-01-05T18:22:27.327Z"
      },
      {
        "duration": 7,
        "start_time": "2022-01-05T18:22:27.335Z"
      },
      {
        "duration": 10,
        "start_time": "2022-01-05T18:31:38.280Z"
      },
      {
        "duration": 483,
        "start_time": "2022-01-05T18:31:57.970Z"
      },
      {
        "duration": 11,
        "start_time": "2022-01-05T18:32:20.790Z"
      },
      {
        "duration": 310,
        "start_time": "2022-01-05T18:33:11.661Z"
      },
      {
        "duration": 12,
        "start_time": "2022-01-05T18:33:28.420Z"
      },
      {
        "duration": 11,
        "start_time": "2022-01-05T18:34:47.470Z"
      },
      {
        "duration": 18,
        "start_time": "2022-01-05T18:38:08.223Z"
      },
      {
        "duration": 16,
        "start_time": "2022-01-05T18:38:57.787Z"
      },
      {
        "duration": 1602,
        "start_time": "2022-01-05T18:41:20.883Z"
      },
      {
        "duration": 53,
        "start_time": "2022-01-05T18:41:22.488Z"
      },
      {
        "duration": 3,
        "start_time": "2022-01-05T18:41:22.545Z"
      },
      {
        "duration": 8,
        "start_time": "2022-01-05T18:41:22.551Z"
      },
      {
        "duration": 15,
        "start_time": "2022-01-05T18:41:22.562Z"
      },
      {
        "duration": 10,
        "start_time": "2022-01-05T18:41:22.579Z"
      },
      {
        "duration": 41,
        "start_time": "2022-01-05T18:41:22.591Z"
      },
      {
        "duration": 6,
        "start_time": "2022-01-05T18:41:22.635Z"
      },
      {
        "duration": 14,
        "start_time": "2022-01-05T18:41:22.645Z"
      },
      {
        "duration": 10,
        "start_time": "2022-01-05T18:41:22.662Z"
      },
      {
        "duration": 340,
        "start_time": "2022-01-05T18:41:22.675Z"
      },
      {
        "duration": 318,
        "start_time": "2022-01-05T18:41:23.023Z"
      },
      {
        "duration": 12,
        "start_time": "2022-01-05T18:41:23.345Z"
      },
      {
        "duration": 12,
        "start_time": "2022-01-05T18:41:23.359Z"
      },
      {
        "duration": 12,
        "start_time": "2022-01-05T18:41:23.374Z"
      },
      {
        "duration": 35,
        "start_time": "2022-01-05T18:41:23.389Z"
      },
      {
        "duration": 9,
        "start_time": "2022-01-05T18:41:23.427Z"
      },
      {
        "duration": 12,
        "start_time": "2022-01-05T18:41:23.439Z"
      },
      {
        "duration": 8,
        "start_time": "2022-01-05T18:41:23.454Z"
      },
      {
        "duration": 6,
        "start_time": "2022-01-05T18:41:23.464Z"
      },
      {
        "duration": 52,
        "start_time": "2022-01-05T18:41:23.473Z"
      },
      {
        "duration": 10,
        "start_time": "2022-01-05T18:41:23.528Z"
      },
      {
        "duration": 7,
        "start_time": "2022-01-05T18:41:23.542Z"
      },
      {
        "duration": 15,
        "start_time": "2022-01-05T18:41:23.551Z"
      },
      {
        "duration": 382,
        "start_time": "2022-01-05T18:41:23.569Z"
      },
      {
        "duration": 20,
        "start_time": "2022-01-05T18:41:23.954Z"
      },
      {
        "duration": 11,
        "start_time": "2022-01-05T18:41:23.982Z"
      },
      {
        "duration": 6,
        "start_time": "2022-01-05T18:41:24.023Z"
      },
      {
        "duration": 14,
        "start_time": "2022-01-05T18:41:24.031Z"
      },
      {
        "duration": 7,
        "start_time": "2022-01-05T18:41:24.048Z"
      },
      {
        "duration": 6,
        "start_time": "2022-01-05T18:41:24.057Z"
      },
      {
        "duration": 85,
        "start_time": "2022-01-05T18:41:24.066Z"
      },
      {
        "duration": 69,
        "start_time": "2022-01-05T18:41:24.154Z"
      },
      {
        "duration": 199,
        "start_time": "2022-01-05T18:41:24.226Z"
      },
      {
        "duration": 95,
        "start_time": "2022-01-05T18:41:24.428Z"
      },
      {
        "duration": 596,
        "start_time": "2022-01-05T18:41:24.527Z"
      },
      {
        "duration": 46,
        "start_time": "2022-01-05T18:41:25.126Z"
      },
      {
        "duration": 65,
        "start_time": "2022-01-05T18:41:25.174Z"
      },
      {
        "duration": 3,
        "start_time": "2022-01-05T18:41:25.242Z"
      },
      {
        "duration": 10,
        "start_time": "2022-01-05T18:41:25.248Z"
      },
      {
        "duration": 7,
        "start_time": "2022-01-05T18:41:25.261Z"
      },
      {
        "duration": 215,
        "start_time": "2022-01-05T18:41:25.271Z"
      },
      {
        "duration": 5,
        "start_time": "2022-01-05T18:41:25.489Z"
      },
      {
        "duration": 27,
        "start_time": "2022-01-05T18:41:25.497Z"
      },
      {
        "duration": 39,
        "start_time": "2022-01-05T18:41:25.527Z"
      },
      {
        "duration": 159,
        "start_time": "2022-01-05T18:41:25.569Z"
      },
      {
        "duration": 5,
        "start_time": "2022-01-05T18:41:25.731Z"
      },
      {
        "duration": 3,
        "start_time": "2022-01-05T18:41:25.738Z"
      },
      {
        "duration": 17,
        "start_time": "2022-01-05T18:41:25.744Z"
      },
      {
        "duration": 10532,
        "start_time": "2022-01-05T18:41:25.764Z"
      },
      {
        "duration": 6,
        "start_time": "2022-01-05T18:41:36.299Z"
      },
      {
        "duration": 5,
        "start_time": "2022-01-05T18:41:36.324Z"
      },
      {
        "duration": 4566,
        "start_time": "2022-01-05T18:41:36.332Z"
      },
      {
        "duration": 23,
        "start_time": "2022-01-05T18:41:40.900Z"
      },
      {
        "duration": 8,
        "start_time": "2022-01-05T18:41:40.927Z"
      },
      {
        "duration": 8,
        "start_time": "2022-01-05T18:41:40.939Z"
      },
      {
        "duration": 23,
        "start_time": "2022-01-05T18:41:40.951Z"
      },
      {
        "duration": 46,
        "start_time": "2022-01-05T18:41:40.978Z"
      },
      {
        "duration": 8,
        "start_time": "2022-01-05T18:41:41.027Z"
      },
      {
        "duration": 7,
        "start_time": "2022-01-05T18:41:41.038Z"
      },
      {
        "duration": 7,
        "start_time": "2022-01-05T18:41:41.049Z"
      },
      {
        "duration": 18,
        "start_time": "2022-01-05T18:41:41.059Z"
      },
      {
        "duration": 47,
        "start_time": "2022-01-05T18:41:41.079Z"
      },
      {
        "duration": 23,
        "start_time": "2022-01-05T18:41:41.128Z"
      },
      {
        "duration": 80,
        "start_time": "2022-01-05T18:41:41.154Z"
      },
      {
        "duration": 190,
        "start_time": "2022-01-05T18:41:41.237Z"
      },
      {
        "duration": 193,
        "start_time": "2022-01-05T18:41:41.431Z"
      },
      {
        "duration": 134,
        "start_time": "2022-01-05T18:41:41.628Z"
      },
      {
        "duration": 26,
        "start_time": "2022-01-05T18:41:41.764Z"
      },
      {
        "duration": 81,
        "start_time": "2022-01-05T18:41:41.792Z"
      },
      {
        "duration": 117,
        "start_time": "2022-01-05T18:41:41.876Z"
      },
      {
        "duration": 82,
        "start_time": "2022-01-05T18:41:41.996Z"
      },
      {
        "duration": 206,
        "start_time": "2022-01-05T18:41:42.080Z"
      },
      {
        "duration": 4,
        "start_time": "2022-01-05T18:41:42.289Z"
      },
      {
        "duration": 6,
        "start_time": "2022-01-05T18:41:42.295Z"
      },
      {
        "duration": 4,
        "start_time": "2022-01-05T18:41:42.323Z"
      },
      {
        "duration": 6930,
        "start_time": "2022-01-05T18:41:42.329Z"
      },
      {
        "duration": 6,
        "start_time": "2022-01-05T18:41:49.262Z"
      },
      {
        "duration": 9,
        "start_time": "2022-01-05T18:41:49.270Z"
      },
      {
        "duration": 10,
        "start_time": "2022-01-05T18:41:49.281Z"
      },
      {
        "duration": 5,
        "start_time": "2022-01-05T18:41:49.330Z"
      },
      {
        "duration": 6,
        "start_time": "2022-01-05T18:41:49.338Z"
      },
      {
        "duration": 2099,
        "start_time": "2022-01-05T18:41:49.347Z"
      },
      {
        "duration": 3,
        "start_time": "2022-01-05T18:41:51.449Z"
      },
      {
        "duration": 107,
        "start_time": "2022-01-05T18:41:51.455Z"
      },
      {
        "duration": 270,
        "start_time": "2022-01-05T18:41:51.564Z"
      },
      {
        "duration": 66,
        "start_time": "2022-01-05T18:41:51.837Z"
      },
      {
        "duration": 126,
        "start_time": "2022-01-05T18:41:51.905Z"
      },
      {
        "duration": 102,
        "start_time": "2022-01-05T18:41:52.034Z"
      },
      {
        "duration": 105,
        "start_time": "2022-01-05T18:41:52.138Z"
      },
      {
        "duration": 3,
        "start_time": "2022-01-05T18:41:52.246Z"
      },
      {
        "duration": 14,
        "start_time": "2022-01-05T18:41:52.251Z"
      },
      {
        "duration": 5,
        "start_time": "2022-01-05T18:41:52.267Z"
      },
      {
        "duration": 7,
        "start_time": "2022-01-05T18:41:52.274Z"
      },
      {
        "duration": 39,
        "start_time": "2022-01-05T18:41:52.284Z"
      },
      {
        "duration": 4,
        "start_time": "2022-01-05T18:41:52.326Z"
      },
      {
        "duration": 1532,
        "start_time": "2022-01-05T18:44:23.657Z"
      },
      {
        "duration": 51,
        "start_time": "2022-01-05T18:44:25.192Z"
      },
      {
        "duration": 4,
        "start_time": "2022-01-05T18:44:25.246Z"
      },
      {
        "duration": 7,
        "start_time": "2022-01-05T18:44:25.253Z"
      },
      {
        "duration": 18,
        "start_time": "2022-01-05T18:44:25.265Z"
      },
      {
        "duration": 40,
        "start_time": "2022-01-05T18:44:25.286Z"
      },
      {
        "duration": 15,
        "start_time": "2022-01-05T18:44:25.329Z"
      },
      {
        "duration": 7,
        "start_time": "2022-01-05T18:44:25.346Z"
      },
      {
        "duration": 8,
        "start_time": "2022-01-05T18:44:25.358Z"
      },
      {
        "duration": 7,
        "start_time": "2022-01-05T18:44:25.369Z"
      },
      {
        "duration": 428,
        "start_time": "2022-01-05T18:44:25.379Z"
      },
      {
        "duration": 529,
        "start_time": "2022-01-05T18:44:25.809Z"
      },
      {
        "duration": 12,
        "start_time": "2022-01-05T18:44:26.340Z"
      },
      {
        "duration": 9,
        "start_time": "2022-01-05T18:44:26.355Z"
      },
      {
        "duration": 7,
        "start_time": "2022-01-05T18:44:26.366Z"
      },
      {
        "duration": 127,
        "start_time": "2022-01-05T18:44:26.376Z"
      },
      {
        "duration": 16,
        "start_time": "2022-01-05T18:44:26.505Z"
      },
      {
        "duration": 7,
        "start_time": "2022-01-05T18:44:26.524Z"
      },
      {
        "duration": 8,
        "start_time": "2022-01-05T18:44:26.533Z"
      },
      {
        "duration": 6,
        "start_time": "2022-01-05T18:44:26.543Z"
      },
      {
        "duration": 6,
        "start_time": "2022-01-05T18:44:26.551Z"
      },
      {
        "duration": 7,
        "start_time": "2022-01-05T18:44:26.559Z"
      },
      {
        "duration": 6,
        "start_time": "2022-01-05T18:44:26.568Z"
      },
      {
        "duration": 10,
        "start_time": "2022-01-05T18:44:26.623Z"
      },
      {
        "duration": 252,
        "start_time": "2022-01-05T18:44:26.635Z"
      },
      {
        "duration": 34,
        "start_time": "2022-01-05T18:44:26.889Z"
      },
      {
        "duration": 10,
        "start_time": "2022-01-05T18:44:26.929Z"
      },
      {
        "duration": 6,
        "start_time": "2022-01-05T18:44:26.943Z"
      },
      {
        "duration": 8,
        "start_time": "2022-01-05T18:44:26.951Z"
      },
      {
        "duration": 12,
        "start_time": "2022-01-05T18:44:26.961Z"
      },
      {
        "duration": 14,
        "start_time": "2022-01-05T18:44:26.975Z"
      },
      {
        "duration": 66,
        "start_time": "2022-01-05T18:44:26.992Z"
      },
      {
        "duration": 17,
        "start_time": "2022-01-05T18:44:27.060Z"
      },
      {
        "duration": 73,
        "start_time": "2022-01-05T18:44:27.079Z"
      },
      {
        "duration": 7,
        "start_time": "2022-01-05T18:44:27.227Z"
      },
      {
        "duration": 344,
        "start_time": "2022-01-05T18:44:27.325Z"
      },
      {
        "duration": 58,
        "start_time": "2022-01-05T18:44:27.671Z"
      },
      {
        "duration": 42,
        "start_time": "2022-01-05T18:44:27.732Z"
      },
      {
        "duration": 4,
        "start_time": "2022-01-05T18:44:27.776Z"
      },
      {
        "duration": 5,
        "start_time": "2022-01-05T18:44:27.783Z"
      },
      {
        "duration": 33,
        "start_time": "2022-01-05T18:44:27.791Z"
      },
      {
        "duration": 160,
        "start_time": "2022-01-05T18:44:27.826Z"
      },
      {
        "duration": 5,
        "start_time": "2022-01-05T18:44:27.989Z"
      },
      {
        "duration": 5,
        "start_time": "2022-01-05T18:44:27.996Z"
      },
      {
        "duration": 46,
        "start_time": "2022-01-05T18:44:28.004Z"
      },
      {
        "duration": 145,
        "start_time": "2022-01-05T18:44:28.052Z"
      },
      {
        "duration": 5,
        "start_time": "2022-01-05T18:44:28.201Z"
      },
      {
        "duration": 25,
        "start_time": "2022-01-05T18:44:28.208Z"
      },
      {
        "duration": 14,
        "start_time": "2022-01-05T18:44:28.236Z"
      },
      {
        "duration": 10008,
        "start_time": "2022-01-05T18:44:28.253Z"
      },
      {
        "duration": 6,
        "start_time": "2022-01-05T18:44:38.263Z"
      },
      {
        "duration": 8,
        "start_time": "2022-01-05T18:44:38.271Z"
      },
      {
        "duration": 3377,
        "start_time": "2022-01-05T18:44:38.281Z"
      },
      {
        "duration": 15,
        "start_time": "2022-01-05T18:44:41.661Z"
      },
      {
        "duration": 7,
        "start_time": "2022-01-05T18:44:41.678Z"
      },
      {
        "duration": 7,
        "start_time": "2022-01-05T18:44:41.688Z"
      },
      {
        "duration": 15,
        "start_time": "2022-01-05T18:44:41.723Z"
      },
      {
        "duration": 6,
        "start_time": "2022-01-05T18:44:41.740Z"
      },
      {
        "duration": 5,
        "start_time": "2022-01-05T18:44:41.748Z"
      },
      {
        "duration": 6,
        "start_time": "2022-01-05T18:44:41.756Z"
      },
      {
        "duration": 6,
        "start_time": "2022-01-05T18:44:41.765Z"
      },
      {
        "duration": 62,
        "start_time": "2022-01-05T18:44:41.774Z"
      },
      {
        "duration": 4,
        "start_time": "2022-01-05T18:44:41.839Z"
      },
      {
        "duration": 5,
        "start_time": "2022-01-05T18:44:41.846Z"
      },
      {
        "duration": 174,
        "start_time": "2022-01-05T18:44:41.853Z"
      },
      {
        "duration": 100,
        "start_time": "2022-01-05T18:44:42.029Z"
      },
      {
        "duration": 193,
        "start_time": "2022-01-05T18:44:42.135Z"
      },
      {
        "duration": 134,
        "start_time": "2022-01-05T18:44:42.331Z"
      },
      {
        "duration": 23,
        "start_time": "2022-01-05T18:44:42.468Z"
      },
      {
        "duration": 81,
        "start_time": "2022-01-05T18:44:42.493Z"
      },
      {
        "duration": 119,
        "start_time": "2022-01-05T18:44:42.577Z"
      },
      {
        "duration": 72,
        "start_time": "2022-01-05T18:44:42.698Z"
      },
      {
        "duration": 156,
        "start_time": "2022-01-05T18:44:42.772Z"
      },
      {
        "duration": 4,
        "start_time": "2022-01-05T18:44:42.930Z"
      },
      {
        "duration": 6,
        "start_time": "2022-01-05T18:44:42.936Z"
      },
      {
        "duration": 6,
        "start_time": "2022-01-05T18:44:42.944Z"
      },
      {
        "duration": 8494,
        "start_time": "2022-01-05T18:44:42.952Z"
      },
      {
        "duration": 6,
        "start_time": "2022-01-05T18:44:51.449Z"
      },
      {
        "duration": 9,
        "start_time": "2022-01-05T18:44:51.457Z"
      },
      {
        "duration": 6,
        "start_time": "2022-01-05T18:44:51.468Z"
      },
      {
        "duration": 42,
        "start_time": "2022-01-05T18:44:51.483Z"
      },
      {
        "duration": 6,
        "start_time": "2022-01-05T18:44:51.528Z"
      },
      {
        "duration": 2054,
        "start_time": "2022-01-05T18:44:51.537Z"
      },
      {
        "duration": 3,
        "start_time": "2022-01-05T18:44:53.594Z"
      },
      {
        "duration": 98,
        "start_time": "2022-01-05T18:44:53.600Z"
      },
      {
        "duration": 271,
        "start_time": "2022-01-05T18:44:53.701Z"
      },
      {
        "duration": 79,
        "start_time": "2022-01-05T18:44:53.975Z"
      },
      {
        "duration": 105,
        "start_time": "2022-01-05T18:44:54.056Z"
      },
      {
        "duration": 92,
        "start_time": "2022-01-05T18:44:54.163Z"
      },
      {
        "duration": 84,
        "start_time": "2022-01-05T18:44:54.258Z"
      },
      {
        "duration": 3,
        "start_time": "2022-01-05T18:44:54.345Z"
      },
      {
        "duration": 13,
        "start_time": "2022-01-05T18:44:54.350Z"
      },
      {
        "duration": 4,
        "start_time": "2022-01-05T18:44:54.365Z"
      },
      {
        "duration": 5,
        "start_time": "2022-01-05T18:44:54.371Z"
      },
      {
        "duration": 5,
        "start_time": "2022-01-05T18:44:54.378Z"
      },
      {
        "duration": 3,
        "start_time": "2022-01-05T18:44:54.424Z"
      },
      {
        "duration": 12,
        "start_time": "2022-01-05T18:50:36.874Z"
      },
      {
        "duration": 6,
        "start_time": "2022-01-05T18:52:57.609Z"
      },
      {
        "duration": 13,
        "start_time": "2022-01-05T19:05:16.391Z"
      },
      {
        "duration": 56,
        "start_time": "2022-01-05T19:06:47.973Z"
      },
      {
        "duration": 1403,
        "start_time": "2022-01-05T19:16:39.062Z"
      },
      {
        "duration": 57,
        "start_time": "2022-01-05T19:16:40.468Z"
      },
      {
        "duration": 4,
        "start_time": "2022-01-05T19:16:40.528Z"
      },
      {
        "duration": 18,
        "start_time": "2022-01-05T19:16:40.534Z"
      },
      {
        "duration": 13,
        "start_time": "2022-01-05T19:16:40.554Z"
      },
      {
        "duration": 10,
        "start_time": "2022-01-05T19:16:40.570Z"
      },
      {
        "duration": 40,
        "start_time": "2022-01-05T19:16:40.582Z"
      },
      {
        "duration": 6,
        "start_time": "2022-01-05T19:16:40.625Z"
      },
      {
        "duration": 9,
        "start_time": "2022-01-05T19:16:40.635Z"
      },
      {
        "duration": 10,
        "start_time": "2022-01-05T19:16:40.647Z"
      },
      {
        "duration": 323,
        "start_time": "2022-01-05T19:16:40.659Z"
      },
      {
        "duration": 314,
        "start_time": "2022-01-05T19:16:40.984Z"
      },
      {
        "duration": 23,
        "start_time": "2022-01-05T19:16:41.300Z"
      },
      {
        "duration": 18,
        "start_time": "2022-01-05T19:16:41.325Z"
      },
      {
        "duration": 18,
        "start_time": "2022-01-05T19:16:41.345Z"
      },
      {
        "duration": 16,
        "start_time": "2022-01-05T19:16:41.365Z"
      },
      {
        "duration": 9,
        "start_time": "2022-01-05T19:16:41.383Z"
      },
      {
        "duration": 27,
        "start_time": "2022-01-05T19:16:41.394Z"
      },
      {
        "duration": 12,
        "start_time": "2022-01-05T19:16:41.423Z"
      },
      {
        "duration": 15,
        "start_time": "2022-01-05T19:16:41.437Z"
      },
      {
        "duration": 5,
        "start_time": "2022-01-05T19:16:41.455Z"
      },
      {
        "duration": 14,
        "start_time": "2022-01-05T19:16:41.462Z"
      },
      {
        "duration": 19,
        "start_time": "2022-01-05T19:16:41.479Z"
      },
      {
        "duration": 18,
        "start_time": "2022-01-05T19:16:41.500Z"
      },
      {
        "duration": 321,
        "start_time": "2022-01-05T19:16:41.524Z"
      },
      {
        "duration": 20,
        "start_time": "2022-01-05T19:16:41.847Z"
      },
      {
        "duration": 8,
        "start_time": "2022-01-05T19:16:41.928Z"
      },
      {
        "duration": 11,
        "start_time": "2022-01-05T19:16:41.940Z"
      },
      {
        "duration": 15,
        "start_time": "2022-01-05T19:16:41.953Z"
      },
      {
        "duration": 53,
        "start_time": "2022-01-05T19:16:41.971Z"
      },
      {
        "duration": 7,
        "start_time": "2022-01-05T19:16:42.026Z"
      },
      {
        "duration": 93,
        "start_time": "2022-01-05T19:16:42.035Z"
      },
      {
        "duration": 18,
        "start_time": "2022-01-05T19:16:42.130Z"
      },
      {
        "duration": 273,
        "start_time": "2022-01-05T19:16:42.150Z"
      },
      {
        "duration": 7,
        "start_time": "2022-01-05T19:16:42.426Z"
      },
      {
        "duration": 625,
        "start_time": "2022-01-05T19:16:42.436Z"
      },
      {
        "duration": 172,
        "start_time": "2022-01-05T19:16:43.063Z"
      },
      {
        "duration": 114,
        "start_time": "2022-01-05T19:16:43.238Z"
      },
      {
        "duration": 5,
        "start_time": "2022-01-05T19:16:43.355Z"
      },
      {
        "duration": 6,
        "start_time": "2022-01-05T19:16:43.362Z"
      },
      {
        "duration": 4,
        "start_time": "2022-01-05T19:16:43.424Z"
      },
      {
        "duration": 255,
        "start_time": "2022-01-05T19:16:43.430Z"
      },
      {
        "duration": 4,
        "start_time": "2022-01-05T19:16:43.688Z"
      },
      {
        "duration": 29,
        "start_time": "2022-01-05T19:16:43.695Z"
      },
      {
        "duration": 29,
        "start_time": "2022-01-05T19:16:43.726Z"
      },
      {
        "duration": 114,
        "start_time": "2022-01-05T19:16:43.758Z"
      },
      {
        "duration": 4,
        "start_time": "2022-01-05T19:16:43.875Z"
      },
      {
        "duration": 7,
        "start_time": "2022-01-05T19:16:43.881Z"
      },
      {
        "duration": 11,
        "start_time": "2022-01-05T19:16:43.890Z"
      },
      {
        "duration": 9493,
        "start_time": "2022-01-05T19:16:43.903Z"
      },
      {
        "duration": 4,
        "start_time": "2022-01-05T19:16:53.399Z"
      },
      {
        "duration": 17,
        "start_time": "2022-01-05T19:16:53.406Z"
      },
      {
        "duration": 3114,
        "start_time": "2022-01-05T19:16:53.425Z"
      },
      {
        "duration": 12,
        "start_time": "2022-01-05T19:16:56.542Z"
      },
      {
        "duration": 7,
        "start_time": "2022-01-05T19:16:56.556Z"
      },
      {
        "duration": 7,
        "start_time": "2022-01-05T19:16:56.565Z"
      },
      {
        "duration": 49,
        "start_time": "2022-01-05T19:16:56.574Z"
      },
      {
        "duration": 16,
        "start_time": "2022-01-05T19:16:56.626Z"
      },
      {
        "duration": 88,
        "start_time": "2022-01-05T19:16:56.645Z"
      },
      {
        "duration": 100,
        "start_time": "2022-01-05T19:16:56.825Z"
      },
      {
        "duration": 202,
        "start_time": "2022-01-05T19:16:56.928Z"
      },
      {
        "duration": 98,
        "start_time": "2022-01-05T19:16:57.133Z"
      },
      {
        "duration": 47,
        "start_time": "2022-01-05T19:16:57.233Z"
      },
      {
        "duration": 51,
        "start_time": "2022-01-05T19:16:57.283Z"
      },
      {
        "duration": 55,
        "start_time": "2022-01-05T19:16:57.337Z"
      },
      {
        "duration": 29,
        "start_time": "2022-01-05T19:16:57.395Z"
      },
      {
        "duration": 112,
        "start_time": "2022-01-05T19:16:57.427Z"
      },
      {
        "duration": 60,
        "start_time": "2022-01-05T19:16:57.542Z"
      },
      {
        "duration": 170,
        "start_time": "2022-01-05T19:16:57.604Z"
      },
      {
        "duration": 11,
        "start_time": "2022-01-05T19:16:57.776Z"
      },
      {
        "duration": 13,
        "start_time": "2022-01-05T19:16:57.789Z"
      },
      {
        "duration": 19,
        "start_time": "2022-01-05T19:16:57.804Z"
      },
      {
        "duration": 14,
        "start_time": "2022-01-05T19:16:57.825Z"
      },
      {
        "duration": 6310,
        "start_time": "2022-01-05T19:16:57.842Z"
      },
      {
        "duration": 4,
        "start_time": "2022-01-05T19:17:04.155Z"
      },
      {
        "duration": 8,
        "start_time": "2022-01-05T19:17:04.161Z"
      },
      {
        "duration": 7,
        "start_time": "2022-01-05T19:17:04.171Z"
      },
      {
        "duration": 43,
        "start_time": "2022-01-05T19:17:04.181Z"
      },
      {
        "duration": 5,
        "start_time": "2022-01-05T19:17:04.227Z"
      },
      {
        "duration": 2001,
        "start_time": "2022-01-05T19:17:04.235Z"
      },
      {
        "duration": 4,
        "start_time": "2022-01-05T19:17:06.243Z"
      },
      {
        "duration": 106,
        "start_time": "2022-01-05T19:17:06.249Z"
      },
      {
        "duration": 260,
        "start_time": "2022-01-05T19:17:06.358Z"
      },
      {
        "duration": 65,
        "start_time": "2022-01-05T19:17:06.623Z"
      },
      {
        "duration": 114,
        "start_time": "2022-01-05T19:17:06.690Z"
      },
      {
        "duration": 89,
        "start_time": "2022-01-05T19:17:06.806Z"
      },
      {
        "duration": 80,
        "start_time": "2022-01-05T19:17:06.898Z"
      },
      {
        "duration": 3,
        "start_time": "2022-01-05T19:17:06.981Z"
      },
      {
        "duration": 15,
        "start_time": "2022-01-05T19:17:06.986Z"
      },
      {
        "duration": 5,
        "start_time": "2022-01-05T19:17:07.024Z"
      },
      {
        "duration": 4,
        "start_time": "2022-01-05T19:17:07.032Z"
      },
      {
        "duration": 7,
        "start_time": "2022-01-05T19:17:07.039Z"
      },
      {
        "duration": 9,
        "start_time": "2022-01-05T19:17:07.048Z"
      },
      {
        "duration": 11,
        "start_time": "2022-01-05T19:26:53.495Z"
      },
      {
        "duration": 46,
        "start_time": "2022-01-05T19:29:27.334Z"
      },
      {
        "duration": 26,
        "start_time": "2022-01-05T19:30:15.929Z"
      },
      {
        "duration": 17,
        "start_time": "2022-01-05T19:31:48.128Z"
      },
      {
        "duration": 100,
        "start_time": "2022-01-05T19:33:58.901Z"
      },
      {
        "duration": 62,
        "start_time": "2022-01-05T19:34:34.135Z"
      },
      {
        "duration": 142,
        "start_time": "2022-01-05T19:34:55.781Z"
      },
      {
        "duration": 13,
        "start_time": "2022-01-05T19:36:12.093Z"
      },
      {
        "duration": 375,
        "start_time": "2022-01-05T19:44:58.945Z"
      },
      {
        "duration": 2523,
        "start_time": "2022-01-05T19:45:05.590Z"
      },
      {
        "duration": 7,
        "start_time": "2022-01-05T19:45:11.407Z"
      },
      {
        "duration": 5,
        "start_time": "2022-01-05T19:45:12.025Z"
      },
      {
        "duration": 6,
        "start_time": "2022-01-05T19:45:24.309Z"
      },
      {
        "duration": 5,
        "start_time": "2022-01-05T19:45:24.725Z"
      },
      {
        "duration": 5,
        "start_time": "2022-01-05T19:45:25.282Z"
      },
      {
        "duration": 2066,
        "start_time": "2022-01-05T19:45:26.125Z"
      },
      {
        "duration": 1969,
        "start_time": "2022-01-05T19:45:55.556Z"
      },
      {
        "duration": 3,
        "start_time": "2022-01-05T19:45:57.528Z"
      },
      {
        "duration": 103,
        "start_time": "2022-01-05T19:45:57.534Z"
      },
      {
        "duration": 251,
        "start_time": "2022-01-05T19:45:57.639Z"
      },
      {
        "duration": 64,
        "start_time": "2022-01-05T19:45:58.975Z"
      },
      {
        "duration": 87,
        "start_time": "2022-01-05T19:46:05.751Z"
      },
      {
        "duration": 768,
        "start_time": "2022-01-05T19:50:33.127Z"
      },
      {
        "duration": 6388,
        "start_time": "2022-01-05T19:55:17.235Z"
      },
      {
        "duration": 6,
        "start_time": "2022-01-05T19:55:23.626Z"
      },
      {
        "duration": 5,
        "start_time": "2022-01-05T19:55:45.082Z"
      },
      {
        "duration": 2053,
        "start_time": "2022-01-05T19:56:05.375Z"
      },
      {
        "duration": 1518,
        "start_time": "2022-01-05T20:00:56.035Z"
      },
      {
        "duration": 51,
        "start_time": "2022-01-05T20:00:57.555Z"
      },
      {
        "duration": 4,
        "start_time": "2022-01-05T20:00:57.609Z"
      },
      {
        "duration": 5,
        "start_time": "2022-01-05T20:00:57.623Z"
      },
      {
        "duration": 13,
        "start_time": "2022-01-05T20:00:57.630Z"
      },
      {
        "duration": 12,
        "start_time": "2022-01-05T20:00:57.646Z"
      },
      {
        "duration": 16,
        "start_time": "2022-01-05T20:00:57.661Z"
      },
      {
        "duration": 5,
        "start_time": "2022-01-05T20:00:57.683Z"
      },
      {
        "duration": 6,
        "start_time": "2022-01-05T20:00:57.725Z"
      },
      {
        "duration": 8,
        "start_time": "2022-01-05T20:00:57.734Z"
      },
      {
        "duration": 350,
        "start_time": "2022-01-05T20:00:57.745Z"
      },
      {
        "duration": 425,
        "start_time": "2022-01-05T20:00:58.098Z"
      },
      {
        "duration": 10,
        "start_time": "2022-01-05T20:00:58.525Z"
      },
      {
        "duration": 10,
        "start_time": "2022-01-05T20:00:58.537Z"
      },
      {
        "duration": 9,
        "start_time": "2022-01-05T20:00:58.550Z"
      },
      {
        "duration": 8,
        "start_time": "2022-01-05T20:00:58.562Z"
      },
      {
        "duration": 50,
        "start_time": "2022-01-05T20:00:58.573Z"
      },
      {
        "duration": 9,
        "start_time": "2022-01-05T20:00:58.625Z"
      },
      {
        "duration": 8,
        "start_time": "2022-01-05T20:00:58.636Z"
      },
      {
        "duration": 7,
        "start_time": "2022-01-05T20:00:58.646Z"
      },
      {
        "duration": 7,
        "start_time": "2022-01-05T20:00:58.656Z"
      },
      {
        "duration": 58,
        "start_time": "2022-01-05T20:00:58.666Z"
      },
      {
        "duration": 6,
        "start_time": "2022-01-05T20:00:58.732Z"
      },
      {
        "duration": 10,
        "start_time": "2022-01-05T20:00:58.744Z"
      },
      {
        "duration": 268,
        "start_time": "2022-01-05T20:00:58.756Z"
      },
      {
        "duration": 20,
        "start_time": "2022-01-05T20:00:59.027Z"
      },
      {
        "duration": 8,
        "start_time": "2022-01-05T20:00:59.050Z"
      },
      {
        "duration": 5,
        "start_time": "2022-01-05T20:00:59.060Z"
      },
      {
        "duration": 7,
        "start_time": "2022-01-05T20:00:59.067Z"
      },
      {
        "duration": 50,
        "start_time": "2022-01-05T20:00:59.076Z"
      },
      {
        "duration": 4,
        "start_time": "2022-01-05T20:00:59.128Z"
      },
      {
        "duration": 36,
        "start_time": "2022-01-05T20:00:59.135Z"
      },
      {
        "duration": 16,
        "start_time": "2022-01-05T20:00:59.173Z"
      },
      {
        "duration": 66,
        "start_time": "2022-01-05T20:00:59.191Z"
      },
      {
        "duration": 98,
        "start_time": "2022-01-05T20:00:59.327Z"
      },
      {
        "duration": 410,
        "start_time": "2022-01-05T20:00:59.429Z"
      },
      {
        "duration": 45,
        "start_time": "2022-01-05T20:00:59.842Z"
      },
      {
        "duration": 64,
        "start_time": "2022-01-05T20:00:59.890Z"
      },
      {
        "duration": 4,
        "start_time": "2022-01-05T20:00:59.957Z"
      },
      {
        "duration": 7,
        "start_time": "2022-01-05T20:00:59.963Z"
      },
      {
        "duration": 7,
        "start_time": "2022-01-05T20:00:59.973Z"
      },
      {
        "duration": 191,
        "start_time": "2022-01-05T20:00:59.982Z"
      },
      {
        "duration": 4,
        "start_time": "2022-01-05T20:01:00.176Z"
      },
      {
        "duration": 10,
        "start_time": "2022-01-05T20:01:00.182Z"
      },
      {
        "duration": 53,
        "start_time": "2022-01-05T20:01:00.194Z"
      },
      {
        "duration": 113,
        "start_time": "2022-01-05T20:01:00.250Z"
      },
      {
        "duration": 3,
        "start_time": "2022-01-05T20:01:00.366Z"
      },
      {
        "duration": 7,
        "start_time": "2022-01-05T20:01:00.372Z"
      },
      {
        "duration": 9,
        "start_time": "2022-01-05T20:01:00.381Z"
      },
      {
        "duration": 9645,
        "start_time": "2022-01-05T20:01:00.392Z"
      },
      {
        "duration": 5,
        "start_time": "2022-01-05T20:01:10.039Z"
      },
      {
        "duration": 8,
        "start_time": "2022-01-05T20:01:10.046Z"
      },
      {
        "duration": 3951,
        "start_time": "2022-01-05T20:01:10.056Z"
      },
      {
        "duration": 18,
        "start_time": "2022-01-05T20:01:14.010Z"
      },
      {
        "duration": 11,
        "start_time": "2022-01-05T20:01:14.031Z"
      },
      {
        "duration": 8,
        "start_time": "2022-01-05T20:01:14.044Z"
      },
      {
        "duration": 24,
        "start_time": "2022-01-05T20:01:14.055Z"
      },
      {
        "duration": 16,
        "start_time": "2022-01-05T20:01:14.082Z"
      },
      {
        "duration": 104,
        "start_time": "2022-01-05T20:01:14.123Z"
      },
      {
        "duration": 199,
        "start_time": "2022-01-05T20:01:14.229Z"
      },
      {
        "duration": 193,
        "start_time": "2022-01-05T20:01:14.431Z"
      },
      {
        "duration": 102,
        "start_time": "2022-01-05T20:01:14.628Z"
      },
      {
        "duration": 49,
        "start_time": "2022-01-05T20:01:14.732Z"
      },
      {
        "duration": 53,
        "start_time": "2022-01-05T20:01:14.784Z"
      },
      {
        "duration": 59,
        "start_time": "2022-01-05T20:01:14.839Z"
      },
      {
        "duration": 29,
        "start_time": "2022-01-05T20:01:14.900Z"
      },
      {
        "duration": 123,
        "start_time": "2022-01-05T20:01:14.932Z"
      },
      {
        "duration": 71,
        "start_time": "2022-01-05T20:01:15.063Z"
      },
      {
        "duration": 159,
        "start_time": "2022-01-05T20:01:15.138Z"
      },
      {
        "duration": 23,
        "start_time": "2022-01-05T20:01:15.300Z"
      },
      {
        "duration": 4,
        "start_time": "2022-01-05T20:01:15.325Z"
      },
      {
        "duration": 4,
        "start_time": "2022-01-05T20:01:15.331Z"
      },
      {
        "duration": 5,
        "start_time": "2022-01-05T20:01:15.338Z"
      },
      {
        "duration": 2321,
        "start_time": "2022-01-05T20:01:15.346Z"
      },
      {
        "duration": 6,
        "start_time": "2022-01-05T20:01:17.670Z"
      },
      {
        "duration": 15,
        "start_time": "2022-01-05T20:01:17.678Z"
      },
      {
        "duration": 778,
        "start_time": "2022-01-05T20:01:17.695Z"
      },
      {
        "duration": 3,
        "start_time": "2022-01-05T20:01:18.476Z"
      },
      {
        "duration": 6279,
        "start_time": "2022-01-05T20:01:18.482Z"
      },
      {
        "duration": 5,
        "start_time": "2022-01-05T20:01:24.764Z"
      },
      {
        "duration": 9,
        "start_time": "2022-01-05T20:01:24.771Z"
      },
      {
        "duration": 2092,
        "start_time": "2022-01-05T20:01:24.782Z"
      },
      {
        "duration": 4,
        "start_time": "2022-01-05T20:01:26.877Z"
      },
      {
        "duration": 783,
        "start_time": "2022-01-05T20:01:26.885Z"
      },
      {
        "duration": 300,
        "start_time": "2022-01-05T20:01:27.370Z"
      },
      {
        "duration": 298,
        "start_time": "2022-01-05T20:01:27.374Z"
      },
      {
        "duration": 296,
        "start_time": "2022-01-05T20:01:27.378Z"
      },
      {
        "duration": 250,
        "start_time": "2022-01-05T20:01:27.425Z"
      },
      {
        "duration": 237,
        "start_time": "2022-01-05T20:01:27.439Z"
      },
      {
        "duration": 235,
        "start_time": "2022-01-05T20:01:27.443Z"
      },
      {
        "duration": 231,
        "start_time": "2022-01-05T20:01:27.448Z"
      },
      {
        "duration": 224,
        "start_time": "2022-01-05T20:01:27.457Z"
      },
      {
        "duration": 88,
        "start_time": "2022-01-05T20:03:26.314Z"
      },
      {
        "duration": 4,
        "start_time": "2022-01-05T20:10:33.125Z"
      },
      {
        "duration": 6145,
        "start_time": "2022-01-05T20:10:45.532Z"
      },
      {
        "duration": 5,
        "start_time": "2022-01-05T20:10:55.088Z"
      },
      {
        "duration": 5,
        "start_time": "2022-01-05T20:10:59.880Z"
      },
      {
        "duration": 5,
        "start_time": "2022-01-05T20:11:39.022Z"
      },
      {
        "duration": 3,
        "start_time": "2022-01-05T20:11:40.252Z"
      },
      {
        "duration": 4,
        "start_time": "2022-01-05T20:11:45.296Z"
      },
      {
        "duration": 1566,
        "start_time": "2022-01-05T20:33:06.684Z"
      },
      {
        "duration": 51,
        "start_time": "2022-01-05T20:33:08.253Z"
      },
      {
        "duration": 3,
        "start_time": "2022-01-05T20:33:08.307Z"
      },
      {
        "duration": 14,
        "start_time": "2022-01-05T20:33:08.313Z"
      },
      {
        "duration": 14,
        "start_time": "2022-01-05T20:33:08.329Z"
      },
      {
        "duration": 10,
        "start_time": "2022-01-05T20:33:08.345Z"
      },
      {
        "duration": 12,
        "start_time": "2022-01-05T20:33:08.358Z"
      },
      {
        "duration": 49,
        "start_time": "2022-01-05T20:33:08.374Z"
      },
      {
        "duration": 6,
        "start_time": "2022-01-05T20:33:08.426Z"
      },
      {
        "duration": 6,
        "start_time": "2022-01-05T20:33:08.435Z"
      },
      {
        "duration": 327,
        "start_time": "2022-01-05T20:33:08.444Z"
      },
      {
        "duration": 319,
        "start_time": "2022-01-05T20:33:08.774Z"
      },
      {
        "duration": 9,
        "start_time": "2022-01-05T20:33:09.096Z"
      },
      {
        "duration": 17,
        "start_time": "2022-01-05T20:33:09.107Z"
      },
      {
        "duration": 9,
        "start_time": "2022-01-05T20:33:09.127Z"
      },
      {
        "duration": 6,
        "start_time": "2022-01-05T20:33:09.138Z"
      },
      {
        "duration": 9,
        "start_time": "2022-01-05T20:33:09.146Z"
      },
      {
        "duration": 8,
        "start_time": "2022-01-05T20:33:09.157Z"
      },
      {
        "duration": 7,
        "start_time": "2022-01-05T20:33:09.168Z"
      },
      {
        "duration": 6,
        "start_time": "2022-01-05T20:33:09.224Z"
      },
      {
        "duration": 11,
        "start_time": "2022-01-05T20:33:09.232Z"
      },
      {
        "duration": 12,
        "start_time": "2022-01-05T20:33:09.245Z"
      },
      {
        "duration": 5,
        "start_time": "2022-01-05T20:33:09.263Z"
      },
      {
        "duration": 10,
        "start_time": "2022-01-05T20:33:09.272Z"
      },
      {
        "duration": 236,
        "start_time": "2022-01-05T20:33:09.323Z"
      },
      {
        "duration": 22,
        "start_time": "2022-01-05T20:33:09.562Z"
      },
      {
        "duration": 11,
        "start_time": "2022-01-05T20:33:09.586Z"
      },
      {
        "duration": 26,
        "start_time": "2022-01-05T20:33:09.599Z"
      },
      {
        "duration": 9,
        "start_time": "2022-01-05T20:33:09.628Z"
      },
      {
        "duration": 6,
        "start_time": "2022-01-05T20:33:09.639Z"
      },
      {
        "duration": 4,
        "start_time": "2022-01-05T20:33:09.648Z"
      },
      {
        "duration": 86,
        "start_time": "2022-01-05T20:33:09.655Z"
      },
      {
        "duration": 17,
        "start_time": "2022-01-05T20:33:09.744Z"
      },
      {
        "duration": 63,
        "start_time": "2022-01-05T20:33:09.763Z"
      },
      {
        "duration": 97,
        "start_time": "2022-01-05T20:33:09.829Z"
      },
      {
        "duration": 419,
        "start_time": "2022-01-05T20:33:09.929Z"
      },
      {
        "duration": 45,
        "start_time": "2022-01-05T20:33:10.350Z"
      },
      {
        "duration": 62,
        "start_time": "2022-01-05T20:33:10.397Z"
      },
      {
        "duration": 4,
        "start_time": "2022-01-05T20:33:10.461Z"
      },
      {
        "duration": 5,
        "start_time": "2022-01-05T20:33:10.467Z"
      },
      {
        "duration": 15,
        "start_time": "2022-01-05T20:33:10.475Z"
      },
      {
        "duration": 169,
        "start_time": "2022-01-05T20:33:10.492Z"
      },
      {
        "duration": 4,
        "start_time": "2022-01-05T20:33:10.664Z"
      },
      {
        "duration": 10,
        "start_time": "2022-01-05T20:33:10.671Z"
      },
      {
        "duration": 53,
        "start_time": "2022-01-05T20:33:10.683Z"
      },
      {
        "duration": 110,
        "start_time": "2022-01-05T20:33:10.739Z"
      },
      {
        "duration": 4,
        "start_time": "2022-01-05T20:33:10.851Z"
      },
      {
        "duration": 5,
        "start_time": "2022-01-05T20:33:10.857Z"
      },
      {
        "duration": 4,
        "start_time": "2022-01-05T20:33:10.864Z"
      },
      {
        "duration": 10060,
        "start_time": "2022-01-05T20:33:10.870Z"
      },
      {
        "duration": 5,
        "start_time": "2022-01-05T20:33:20.932Z"
      },
      {
        "duration": 7,
        "start_time": "2022-01-05T20:33:20.940Z"
      },
      {
        "duration": 3151,
        "start_time": "2022-01-05T20:33:20.949Z"
      },
      {
        "duration": 21,
        "start_time": "2022-01-05T20:33:24.103Z"
      },
      {
        "duration": 5,
        "start_time": "2022-01-05T20:33:24.127Z"
      },
      {
        "duration": 9,
        "start_time": "2022-01-05T20:33:24.135Z"
      },
      {
        "duration": 17,
        "start_time": "2022-01-05T20:33:24.146Z"
      },
      {
        "duration": 16,
        "start_time": "2022-01-05T20:33:24.166Z"
      },
      {
        "duration": 143,
        "start_time": "2022-01-05T20:33:24.184Z"
      },
      {
        "duration": 198,
        "start_time": "2022-01-05T20:33:24.330Z"
      },
      {
        "duration": 195,
        "start_time": "2022-01-05T20:33:24.531Z"
      },
      {
        "duration": 102,
        "start_time": "2022-01-05T20:33:24.730Z"
      },
      {
        "duration": 43,
        "start_time": "2022-01-05T20:33:24.835Z"
      },
      {
        "duration": 53,
        "start_time": "2022-01-05T20:33:24.880Z"
      },
      {
        "duration": 55,
        "start_time": "2022-01-05T20:33:24.935Z"
      },
      {
        "duration": 30,
        "start_time": "2022-01-05T20:33:24.993Z"
      },
      {
        "duration": 115,
        "start_time": "2022-01-05T20:33:25.026Z"
      },
      {
        "duration": 75,
        "start_time": "2022-01-05T20:33:25.149Z"
      },
      {
        "duration": 157,
        "start_time": "2022-01-05T20:33:25.228Z"
      },
      {
        "duration": 11,
        "start_time": "2022-01-05T20:33:25.387Z"
      },
      {
        "duration": 4,
        "start_time": "2022-01-05T20:33:25.401Z"
      },
      {
        "duration": 3,
        "start_time": "2022-01-05T20:33:25.424Z"
      },
      {
        "duration": 6,
        "start_time": "2022-01-05T20:33:25.430Z"
      },
      {
        "duration": 2326,
        "start_time": "2022-01-05T20:33:25.439Z"
      },
      {
        "duration": 5,
        "start_time": "2022-01-05T20:33:27.767Z"
      },
      {
        "duration": 7,
        "start_time": "2022-01-05T20:33:27.774Z"
      },
      {
        "duration": 815,
        "start_time": "2022-01-05T20:33:27.783Z"
      },
      {
        "duration": 5,
        "start_time": "2022-01-05T20:33:28.601Z"
      },
      {
        "duration": 4,
        "start_time": "2022-01-05T20:33:28.624Z"
      },
      {
        "duration": 5,
        "start_time": "2022-01-05T20:33:28.631Z"
      },
      {
        "duration": 1553,
        "start_time": "2022-01-05T20:53:36.215Z"
      },
      {
        "duration": 52,
        "start_time": "2022-01-05T20:53:37.771Z"
      },
      {
        "duration": 4,
        "start_time": "2022-01-05T20:53:37.828Z"
      },
      {
        "duration": 7,
        "start_time": "2022-01-05T20:53:37.836Z"
      },
      {
        "duration": 14,
        "start_time": "2022-01-05T20:53:37.846Z"
      },
      {
        "duration": 11,
        "start_time": "2022-01-05T20:53:37.863Z"
      },
      {
        "duration": 15,
        "start_time": "2022-01-05T20:53:37.922Z"
      },
      {
        "duration": 7,
        "start_time": "2022-01-05T20:53:37.940Z"
      },
      {
        "duration": 8,
        "start_time": "2022-01-05T20:53:37.953Z"
      },
      {
        "duration": 8,
        "start_time": "2022-01-05T20:53:37.965Z"
      },
      {
        "duration": 330,
        "start_time": "2022-01-05T20:53:38.024Z"
      },
      {
        "duration": 313,
        "start_time": "2022-01-05T20:53:38.357Z"
      },
      {
        "duration": 10,
        "start_time": "2022-01-05T20:53:38.672Z"
      },
      {
        "duration": 9,
        "start_time": "2022-01-05T20:53:38.684Z"
      },
      {
        "duration": 30,
        "start_time": "2022-01-05T20:53:38.695Z"
      },
      {
        "duration": 6,
        "start_time": "2022-01-05T20:53:38.727Z"
      },
      {
        "duration": 8,
        "start_time": "2022-01-05T20:53:38.735Z"
      },
      {
        "duration": 8,
        "start_time": "2022-01-05T20:53:38.745Z"
      },
      {
        "duration": 8,
        "start_time": "2022-01-05T20:53:38.755Z"
      },
      {
        "duration": 6,
        "start_time": "2022-01-05T20:53:38.765Z"
      },
      {
        "duration": 53,
        "start_time": "2022-01-05T20:53:38.773Z"
      },
      {
        "duration": 8,
        "start_time": "2022-01-05T20:53:38.829Z"
      },
      {
        "duration": 6,
        "start_time": "2022-01-05T20:53:38.839Z"
      },
      {
        "duration": 10,
        "start_time": "2022-01-05T20:53:38.848Z"
      },
      {
        "duration": 266,
        "start_time": "2022-01-05T20:53:38.860Z"
      },
      {
        "duration": 19,
        "start_time": "2022-01-05T20:53:39.129Z"
      },
      {
        "duration": 8,
        "start_time": "2022-01-05T20:53:39.155Z"
      },
      {
        "duration": 5,
        "start_time": "2022-01-05T20:53:39.167Z"
      },
      {
        "duration": 48,
        "start_time": "2022-01-05T20:53:39.175Z"
      },
      {
        "duration": 8,
        "start_time": "2022-01-05T20:53:39.226Z"
      },
      {
        "duration": 18,
        "start_time": "2022-01-05T20:53:39.236Z"
      },
      {
        "duration": 54,
        "start_time": "2022-01-05T20:53:39.257Z"
      },
      {
        "duration": 19,
        "start_time": "2022-01-05T20:53:39.313Z"
      },
      {
        "duration": 94,
        "start_time": "2022-01-05T20:53:39.334Z"
      },
      {
        "duration": 95,
        "start_time": "2022-01-05T20:53:39.431Z"
      },
      {
        "duration": 421,
        "start_time": "2022-01-05T20:53:39.530Z"
      },
      {
        "duration": 44,
        "start_time": "2022-01-05T20:53:39.954Z"
      },
      {
        "duration": 61,
        "start_time": "2022-01-05T20:53:40.000Z"
      },
      {
        "duration": 3,
        "start_time": "2022-01-05T20:53:40.064Z"
      },
      {
        "duration": 7,
        "start_time": "2022-01-05T20:53:40.069Z"
      },
      {
        "duration": 6,
        "start_time": "2022-01-05T20:53:40.078Z"
      },
      {
        "duration": 175,
        "start_time": "2022-01-05T20:53:40.086Z"
      },
      {
        "duration": 5,
        "start_time": "2022-01-05T20:53:40.265Z"
      },
      {
        "duration": 8,
        "start_time": "2022-01-05T20:53:40.273Z"
      },
      {
        "duration": 59,
        "start_time": "2022-01-05T20:53:40.284Z"
      },
      {
        "duration": 118,
        "start_time": "2022-01-05T20:53:40.345Z"
      },
      {
        "duration": 3,
        "start_time": "2022-01-05T20:53:40.466Z"
      },
      {
        "duration": 6,
        "start_time": "2022-01-05T20:53:40.472Z"
      },
      {
        "duration": 7,
        "start_time": "2022-01-05T20:53:40.481Z"
      },
      {
        "duration": 10311,
        "start_time": "2022-01-05T20:53:40.491Z"
      },
      {
        "duration": 5,
        "start_time": "2022-01-05T20:53:50.805Z"
      },
      {
        "duration": 5,
        "start_time": "2022-01-05T20:53:50.824Z"
      },
      {
        "duration": 3167,
        "start_time": "2022-01-05T20:53:50.832Z"
      },
      {
        "duration": 23,
        "start_time": "2022-01-05T20:53:54.002Z"
      },
      {
        "duration": 10,
        "start_time": "2022-01-05T20:53:54.028Z"
      },
      {
        "duration": 9,
        "start_time": "2022-01-05T20:53:54.041Z"
      },
      {
        "duration": 17,
        "start_time": "2022-01-05T20:53:54.053Z"
      },
      {
        "duration": 17,
        "start_time": "2022-01-05T20:53:54.072Z"
      },
      {
        "duration": 138,
        "start_time": "2022-01-05T20:53:54.091Z"
      },
      {
        "duration": 116,
        "start_time": "2022-01-05T20:53:54.232Z"
      },
      {
        "duration": 201,
        "start_time": "2022-01-05T20:53:54.426Z"
      },
      {
        "duration": 102,
        "start_time": "2022-01-05T20:53:54.631Z"
      },
      {
        "duration": 44,
        "start_time": "2022-01-05T20:53:54.736Z"
      },
      {
        "duration": 55,
        "start_time": "2022-01-05T20:53:54.782Z"
      },
      {
        "duration": 53,
        "start_time": "2022-01-05T20:53:54.840Z"
      },
      {
        "duration": 29,
        "start_time": "2022-01-05T20:53:54.896Z"
      },
      {
        "duration": 119,
        "start_time": "2022-01-05T20:53:54.928Z"
      },
      {
        "duration": 77,
        "start_time": "2022-01-05T20:53:55.050Z"
      },
      {
        "duration": 154,
        "start_time": "2022-01-05T20:53:55.130Z"
      },
      {
        "duration": 12,
        "start_time": "2022-01-05T20:53:55.286Z"
      },
      {
        "duration": 5,
        "start_time": "2022-01-05T20:53:55.300Z"
      },
      {
        "duration": 3,
        "start_time": "2022-01-05T20:53:55.324Z"
      },
      {
        "duration": 7,
        "start_time": "2022-01-05T20:53:55.329Z"
      },
      {
        "duration": 2354,
        "start_time": "2022-01-05T20:53:55.338Z"
      },
      {
        "duration": 7,
        "start_time": "2022-01-05T20:53:57.695Z"
      },
      {
        "duration": 6,
        "start_time": "2022-01-05T20:53:57.723Z"
      },
      {
        "duration": 785,
        "start_time": "2022-01-05T20:53:57.732Z"
      },
      {
        "duration": 4,
        "start_time": "2022-01-05T20:53:58.524Z"
      },
      {
        "duration": 7,
        "start_time": "2022-01-05T20:53:58.530Z"
      },
      {
        "duration": 5,
        "start_time": "2022-01-05T20:53:58.539Z"
      },
      {
        "duration": 368686,
        "start_time": "2022-01-05T20:53:58.552Z"
      },
      {
        "duration": 5,
        "start_time": "2022-01-05T21:00:07.241Z"
      },
      {
        "duration": 9,
        "start_time": "2022-01-05T21:00:07.249Z"
      },
      {
        "duration": 5224,
        "start_time": "2022-01-05T21:00:07.261Z"
      },
      {
        "duration": 3,
        "start_time": "2022-01-05T21:00:12.487Z"
      },
      {
        "duration": 226,
        "start_time": "2022-01-05T21:00:12.492Z"
      },
      {
        "duration": 3,
        "start_time": "2022-01-05T21:00:12.723Z"
      },
      {
        "duration": 5,
        "start_time": "2022-01-05T21:00:12.729Z"
      },
      {
        "duration": 5,
        "start_time": "2022-01-05T21:00:12.737Z"
      },
      {
        "duration": 4,
        "start_time": "2022-01-05T21:00:12.745Z"
      },
      {
        "duration": 4,
        "start_time": "2022-01-05T21:04:26.306Z"
      },
      {
        "duration": 4,
        "start_time": "2022-01-05T21:04:27.662Z"
      },
      {
        "duration": 4,
        "start_time": "2022-01-05T21:04:28.712Z"
      },
      {
        "duration": 16484,
        "start_time": "2022-01-05T21:04:31.631Z"
      },
      {
        "duration": 6,
        "start_time": "2022-01-05T21:04:58.853Z"
      },
      {
        "duration": 5,
        "start_time": "2022-01-05T21:05:05.330Z"
      },
      {
        "duration": 5175,
        "start_time": "2022-01-05T21:05:13.531Z"
      },
      {
        "duration": 5,
        "start_time": "2022-01-05T21:05:28.131Z"
      },
      {
        "duration": 194,
        "start_time": "2022-01-05T21:05:30.281Z"
      },
      {
        "duration": 1612,
        "start_time": "2022-01-05T21:06:11.991Z"
      },
      {
        "duration": 53,
        "start_time": "2022-01-05T21:06:13.606Z"
      },
      {
        "duration": 4,
        "start_time": "2022-01-05T21:06:13.662Z"
      },
      {
        "duration": 10,
        "start_time": "2022-01-05T21:06:13.668Z"
      },
      {
        "duration": 14,
        "start_time": "2022-01-05T21:06:13.680Z"
      },
      {
        "duration": 31,
        "start_time": "2022-01-05T21:06:13.696Z"
      },
      {
        "duration": 15,
        "start_time": "2022-01-05T21:06:13.729Z"
      },
      {
        "duration": 6,
        "start_time": "2022-01-05T21:06:13.749Z"
      },
      {
        "duration": 11,
        "start_time": "2022-01-05T21:06:13.758Z"
      },
      {
        "duration": 9,
        "start_time": "2022-01-05T21:06:13.771Z"
      },
      {
        "duration": 309,
        "start_time": "2022-01-05T21:06:13.822Z"
      },
      {
        "duration": 337,
        "start_time": "2022-01-05T21:06:14.133Z"
      },
      {
        "duration": 9,
        "start_time": "2022-01-05T21:06:14.472Z"
      },
      {
        "duration": 8,
        "start_time": "2022-01-05T21:06:14.483Z"
      },
      {
        "duration": 31,
        "start_time": "2022-01-05T21:06:14.494Z"
      },
      {
        "duration": 5,
        "start_time": "2022-01-05T21:06:14.527Z"
      },
      {
        "duration": 8,
        "start_time": "2022-01-05T21:06:14.535Z"
      },
      {
        "duration": 10,
        "start_time": "2022-01-05T21:06:14.545Z"
      },
      {
        "duration": 7,
        "start_time": "2022-01-05T21:06:14.557Z"
      },
      {
        "duration": 6,
        "start_time": "2022-01-05T21:06:14.567Z"
      },
      {
        "duration": 6,
        "start_time": "2022-01-05T21:06:14.623Z"
      },
      {
        "duration": 10,
        "start_time": "2022-01-05T21:06:14.632Z"
      },
      {
        "duration": 5,
        "start_time": "2022-01-05T21:06:14.651Z"
      },
      {
        "duration": 9,
        "start_time": "2022-01-05T21:06:14.661Z"
      },
      {
        "duration": 299,
        "start_time": "2022-01-05T21:06:14.672Z"
      },
      {
        "duration": 20,
        "start_time": "2022-01-05T21:06:14.974Z"
      },
      {
        "duration": 28,
        "start_time": "2022-01-05T21:06:14.997Z"
      },
      {
        "duration": 6,
        "start_time": "2022-01-05T21:06:15.028Z"
      },
      {
        "duration": 12,
        "start_time": "2022-01-05T21:06:15.036Z"
      },
      {
        "duration": 13,
        "start_time": "2022-01-05T21:06:15.050Z"
      },
      {
        "duration": 14,
        "start_time": "2022-01-05T21:06:15.065Z"
      },
      {
        "duration": 59,
        "start_time": "2022-01-05T21:06:15.081Z"
      },
      {
        "duration": 18,
        "start_time": "2022-01-05T21:06:15.143Z"
      },
      {
        "duration": 161,
        "start_time": "2022-01-05T21:06:15.163Z"
      },
      {
        "duration": 6,
        "start_time": "2022-01-05T21:06:15.327Z"
      },
      {
        "duration": 435,
        "start_time": "2022-01-05T21:06:15.336Z"
      },
      {
        "duration": 54,
        "start_time": "2022-01-05T21:06:15.773Z"
      },
      {
        "duration": 48,
        "start_time": "2022-01-05T21:06:15.829Z"
      },
      {
        "duration": 4,
        "start_time": "2022-01-05T21:06:15.880Z"
      },
      {
        "duration": 8,
        "start_time": "2022-01-05T21:06:15.886Z"
      },
      {
        "duration": 27,
        "start_time": "2022-01-05T21:06:15.897Z"
      },
      {
        "duration": 171,
        "start_time": "2022-01-05T21:06:15.927Z"
      },
      {
        "duration": 4,
        "start_time": "2022-01-05T21:06:16.101Z"
      },
      {
        "duration": 20,
        "start_time": "2022-01-05T21:06:16.107Z"
      },
      {
        "duration": 32,
        "start_time": "2022-01-05T21:06:16.129Z"
      },
      {
        "duration": 127,
        "start_time": "2022-01-05T21:06:16.164Z"
      },
      {
        "duration": 4,
        "start_time": "2022-01-05T21:06:16.293Z"
      },
      {
        "duration": 23,
        "start_time": "2022-01-05T21:06:16.300Z"
      },
      {
        "duration": 12,
        "start_time": "2022-01-05T21:06:16.326Z"
      },
      {
        "duration": 9609,
        "start_time": "2022-01-05T21:06:16.341Z"
      },
      {
        "duration": 4,
        "start_time": "2022-01-05T21:06:25.953Z"
      },
      {
        "duration": 7,
        "start_time": "2022-01-05T21:06:25.960Z"
      },
      {
        "duration": 3180,
        "start_time": "2022-01-05T21:06:25.969Z"
      },
      {
        "duration": 12,
        "start_time": "2022-01-05T21:06:29.151Z"
      },
      {
        "duration": 6,
        "start_time": "2022-01-05T21:06:29.165Z"
      },
      {
        "duration": 11,
        "start_time": "2022-01-05T21:06:29.173Z"
      },
      {
        "duration": 42,
        "start_time": "2022-01-05T21:06:29.187Z"
      },
      {
        "duration": 16,
        "start_time": "2022-01-05T21:06:29.231Z"
      },
      {
        "duration": 80,
        "start_time": "2022-01-05T21:06:29.249Z"
      },
      {
        "duration": 195,
        "start_time": "2022-01-05T21:06:29.332Z"
      },
      {
        "duration": 201,
        "start_time": "2022-01-05T21:06:29.530Z"
      },
      {
        "duration": 12,
        "start_time": "2022-01-05T21:06:29.824Z"
      },
      {
        "duration": 57,
        "start_time": "2022-01-05T21:06:29.838Z"
      },
      {
        "duration": 36,
        "start_time": "2022-01-05T21:06:29.897Z"
      },
      {
        "duration": 54,
        "start_time": "2022-01-05T21:06:29.935Z"
      },
      {
        "duration": 34,
        "start_time": "2022-01-05T21:06:29.992Z"
      },
      {
        "duration": 115,
        "start_time": "2022-01-05T21:06:30.029Z"
      },
      {
        "duration": 75,
        "start_time": "2022-01-05T21:06:30.153Z"
      },
      {
        "duration": 154,
        "start_time": "2022-01-05T21:06:30.232Z"
      },
      {
        "duration": 12,
        "start_time": "2022-01-05T21:06:30.388Z"
      },
      {
        "duration": 21,
        "start_time": "2022-01-05T21:06:30.402Z"
      },
      {
        "duration": 24,
        "start_time": "2022-01-05T21:06:30.425Z"
      },
      {
        "duration": 22,
        "start_time": "2022-01-05T21:06:30.451Z"
      },
      {
        "duration": 2240,
        "start_time": "2022-01-05T21:06:30.476Z"
      },
      {
        "duration": 6,
        "start_time": "2022-01-05T21:06:32.719Z"
      },
      {
        "duration": 7,
        "start_time": "2022-01-05T21:06:32.727Z"
      },
      {
        "duration": 739,
        "start_time": "2022-01-05T21:06:32.736Z"
      },
      {
        "duration": 4,
        "start_time": "2022-01-05T21:06:33.478Z"
      },
      {
        "duration": 7,
        "start_time": "2022-01-05T21:06:33.484Z"
      },
      {
        "duration": 7,
        "start_time": "2022-01-05T21:06:33.493Z"
      },
      {
        "duration": 15532,
        "start_time": "2022-01-05T21:06:33.524Z"
      },
      {
        "duration": 6,
        "start_time": "2022-01-05T21:06:49.059Z"
      },
      {
        "duration": 7,
        "start_time": "2022-01-05T21:06:49.067Z"
      },
      {
        "duration": 4892,
        "start_time": "2022-01-05T21:06:49.076Z"
      },
      {
        "duration": 3,
        "start_time": "2022-01-05T21:06:53.971Z"
      },
      {
        "duration": 220,
        "start_time": "2022-01-05T21:06:53.976Z"
      },
      {
        "duration": 4,
        "start_time": "2022-01-05T21:06:54.199Z"
      },
      {
        "duration": 337,
        "start_time": "2022-01-06T12:27:49.109Z"
      },
      {
        "duration": 1711,
        "start_time": "2022-01-06T12:27:59.133Z"
      },
      {
        "duration": 54,
        "start_time": "2022-01-06T12:28:00.847Z"
      },
      {
        "duration": 5,
        "start_time": "2022-01-06T12:28:00.904Z"
      },
      {
        "duration": 31,
        "start_time": "2022-01-06T12:28:00.912Z"
      },
      {
        "duration": 25,
        "start_time": "2022-01-06T12:28:00.945Z"
      },
      {
        "duration": 26,
        "start_time": "2022-01-06T12:28:00.973Z"
      },
      {
        "duration": 20,
        "start_time": "2022-01-06T12:28:01.001Z"
      },
      {
        "duration": 34,
        "start_time": "2022-01-06T12:28:01.023Z"
      },
      {
        "duration": 25,
        "start_time": "2022-01-06T12:28:01.061Z"
      },
      {
        "duration": 11,
        "start_time": "2022-01-06T12:28:01.089Z"
      },
      {
        "duration": 325,
        "start_time": "2022-01-06T12:28:01.102Z"
      },
      {
        "duration": 352,
        "start_time": "2022-01-06T12:28:01.430Z"
      },
      {
        "duration": 10,
        "start_time": "2022-01-06T12:28:01.784Z"
      },
      {
        "duration": 9,
        "start_time": "2022-01-06T12:28:01.796Z"
      },
      {
        "duration": 11,
        "start_time": "2022-01-06T12:28:01.807Z"
      },
      {
        "duration": 18,
        "start_time": "2022-01-06T12:28:01.820Z"
      },
      {
        "duration": 34,
        "start_time": "2022-01-06T12:28:01.840Z"
      },
      {
        "duration": 12,
        "start_time": "2022-01-06T12:28:01.877Z"
      },
      {
        "duration": 10,
        "start_time": "2022-01-06T12:28:01.891Z"
      },
      {
        "duration": 33,
        "start_time": "2022-01-06T12:28:01.904Z"
      },
      {
        "duration": 9,
        "start_time": "2022-01-06T12:28:01.940Z"
      },
      {
        "duration": 8,
        "start_time": "2022-01-06T12:28:01.967Z"
      },
      {
        "duration": 12,
        "start_time": "2022-01-06T12:28:01.977Z"
      },
      {
        "duration": 13,
        "start_time": "2022-01-06T12:28:01.991Z"
      },
      {
        "duration": 274,
        "start_time": "2022-01-06T12:28:02.006Z"
      },
      {
        "duration": 20,
        "start_time": "2022-01-06T12:28:02.282Z"
      },
      {
        "duration": 9,
        "start_time": "2022-01-06T12:28:02.309Z"
      },
      {
        "duration": 6,
        "start_time": "2022-01-06T12:28:02.323Z"
      },
      {
        "duration": 11,
        "start_time": "2022-01-06T12:28:02.368Z"
      },
      {
        "duration": 15,
        "start_time": "2022-01-06T12:28:02.381Z"
      },
      {
        "duration": 4,
        "start_time": "2022-01-06T12:28:02.399Z"
      },
      {
        "duration": 65,
        "start_time": "2022-01-06T12:28:02.406Z"
      },
      {
        "duration": 18,
        "start_time": "2022-01-06T12:28:02.473Z"
      },
      {
        "duration": 173,
        "start_time": "2022-01-06T12:28:02.494Z"
      },
      {
        "duration": 12,
        "start_time": "2022-01-06T12:28:02.670Z"
      },
      {
        "duration": 432,
        "start_time": "2022-01-06T12:28:02.686Z"
      },
      {
        "duration": 58,
        "start_time": "2022-01-06T12:28:03.120Z"
      },
      {
        "duration": 44,
        "start_time": "2022-01-06T12:28:03.181Z"
      },
      {
        "duration": 3,
        "start_time": "2022-01-06T12:28:03.227Z"
      },
      {
        "duration": 8,
        "start_time": "2022-01-06T12:28:03.233Z"
      },
      {
        "duration": 24,
        "start_time": "2022-01-06T12:28:03.244Z"
      },
      {
        "duration": 186,
        "start_time": "2022-01-06T12:28:03.270Z"
      },
      {
        "duration": 10,
        "start_time": "2022-01-06T12:28:03.459Z"
      },
      {
        "duration": 21,
        "start_time": "2022-01-06T12:28:03.472Z"
      },
      {
        "duration": 37,
        "start_time": "2022-01-06T12:28:03.496Z"
      },
      {
        "duration": 135,
        "start_time": "2022-01-06T12:28:03.536Z"
      },
      {
        "duration": 4,
        "start_time": "2022-01-06T12:28:03.673Z"
      },
      {
        "duration": 8,
        "start_time": "2022-01-06T12:28:03.680Z"
      },
      {
        "duration": 6,
        "start_time": "2022-01-06T12:28:03.691Z"
      },
      {
        "duration": 10075,
        "start_time": "2022-01-06T12:28:03.699Z"
      },
      {
        "duration": 4,
        "start_time": "2022-01-06T12:28:13.777Z"
      },
      {
        "duration": 9,
        "start_time": "2022-01-06T12:28:13.784Z"
      },
      {
        "duration": 3421,
        "start_time": "2022-01-06T12:28:13.795Z"
      },
      {
        "duration": 12,
        "start_time": "2022-01-06T12:28:17.219Z"
      },
      {
        "duration": 33,
        "start_time": "2022-01-06T12:28:17.234Z"
      },
      {
        "duration": 14,
        "start_time": "2022-01-06T12:28:17.269Z"
      },
      {
        "duration": 18,
        "start_time": "2022-01-06T12:28:17.285Z"
      },
      {
        "duration": 17,
        "start_time": "2022-01-06T12:28:17.305Z"
      },
      {
        "duration": 144,
        "start_time": "2022-01-06T12:28:17.324Z"
      },
      {
        "duration": 205,
        "start_time": "2022-01-06T12:28:17.471Z"
      },
      {
        "duration": 102,
        "start_time": "2022-01-06T12:28:17.768Z"
      },
      {
        "duration": 102,
        "start_time": "2022-01-06T12:28:17.873Z"
      },
      {
        "duration": 48,
        "start_time": "2022-01-06T12:28:17.978Z"
      },
      {
        "duration": 57,
        "start_time": "2022-01-06T12:28:18.028Z"
      },
      {
        "duration": 59,
        "start_time": "2022-01-06T12:28:18.087Z"
      },
      {
        "duration": 26,
        "start_time": "2022-01-06T12:28:18.149Z"
      },
      {
        "duration": 130,
        "start_time": "2022-01-06T12:28:18.178Z"
      },
      {
        "duration": 78,
        "start_time": "2022-01-06T12:28:18.310Z"
      },
      {
        "duration": 169,
        "start_time": "2022-01-06T12:28:18.391Z"
      },
      {
        "duration": 12,
        "start_time": "2022-01-06T12:28:18.568Z"
      },
      {
        "duration": 5,
        "start_time": "2022-01-06T12:28:18.582Z"
      },
      {
        "duration": 6,
        "start_time": "2022-01-06T12:28:18.589Z"
      },
      {
        "duration": 5,
        "start_time": "2022-01-06T12:28:18.598Z"
      },
      {
        "duration": 2469,
        "start_time": "2022-01-06T12:28:18.605Z"
      },
      {
        "duration": 6,
        "start_time": "2022-01-06T12:28:21.076Z"
      },
      {
        "duration": 20,
        "start_time": "2022-01-06T12:28:21.084Z"
      },
      {
        "duration": 789,
        "start_time": "2022-01-06T12:28:21.106Z"
      },
      {
        "duration": 4,
        "start_time": "2022-01-06T12:28:21.897Z"
      },
      {
        "duration": 6,
        "start_time": "2022-01-06T12:28:21.904Z"
      },
      {
        "duration": 7,
        "start_time": "2022-01-06T12:28:21.912Z"
      },
      {
        "duration": 17000,
        "start_time": "2022-01-06T12:28:21.927Z"
      },
      {
        "duration": 5,
        "start_time": "2022-01-06T12:28:38.931Z"
      },
      {
        "duration": 6,
        "start_time": "2022-01-06T12:28:38.939Z"
      },
      {
        "duration": 5662,
        "start_time": "2022-01-06T12:28:38.947Z"
      },
      {
        "duration": 4,
        "start_time": "2022-01-06T12:28:44.612Z"
      },
      {
        "duration": 235,
        "start_time": "2022-01-06T12:28:44.619Z"
      },
      {
        "duration": 234,
        "start_time": "2022-01-06T12:28:44.857Z"
      },
      {
        "duration": 288,
        "start_time": "2022-01-06T12:28:45.093Z"
      },
      {
        "duration": 6,
        "start_time": "2022-01-06T12:28:45.384Z"
      },
      {
        "duration": 94,
        "start_time": "2022-01-06T12:39:37.988Z"
      },
      {
        "duration": 90,
        "start_time": "2022-01-06T12:39:45.114Z"
      },
      {
        "duration": 129,
        "start_time": "2022-01-06T12:40:13.939Z"
      },
      {
        "duration": 8,
        "start_time": "2022-01-06T12:41:42.029Z"
      },
      {
        "duration": 4,
        "start_time": "2022-01-06T12:42:54.028Z"
      },
      {
        "duration": 6,
        "start_time": "2022-01-06T12:43:20.615Z"
      },
      {
        "duration": 5,
        "start_time": "2022-01-06T12:43:36.959Z"
      },
      {
        "duration": 5,
        "start_time": "2022-01-06T12:43:43.315Z"
      },
      {
        "duration": 8,
        "start_time": "2022-01-06T12:44:55.482Z"
      },
      {
        "duration": 4,
        "start_time": "2022-01-06T13:48:13.673Z"
      },
      {
        "duration": 4,
        "start_time": "2022-01-06T13:48:15.439Z"
      },
      {
        "duration": 4,
        "start_time": "2022-01-06T13:48:17.016Z"
      },
      {
        "duration": 1614,
        "start_time": "2022-01-06T15:17:12.961Z"
      },
      {
        "duration": 68,
        "start_time": "2022-01-06T15:17:14.578Z"
      },
      {
        "duration": 5,
        "start_time": "2022-01-06T15:17:14.651Z"
      },
      {
        "duration": 7,
        "start_time": "2022-01-06T15:17:14.667Z"
      },
      {
        "duration": 13,
        "start_time": "2022-01-06T15:17:14.676Z"
      },
      {
        "duration": 13,
        "start_time": "2022-01-06T15:17:14.692Z"
      },
      {
        "duration": 62,
        "start_time": "2022-01-06T15:17:14.707Z"
      },
      {
        "duration": 6,
        "start_time": "2022-01-06T15:17:14.772Z"
      },
      {
        "duration": 11,
        "start_time": "2022-01-06T15:17:14.781Z"
      },
      {
        "duration": 9,
        "start_time": "2022-01-06T15:17:14.795Z"
      },
      {
        "duration": 392,
        "start_time": "2022-01-06T15:17:14.807Z"
      },
      {
        "duration": 347,
        "start_time": "2022-01-06T15:17:15.201Z"
      },
      {
        "duration": 19,
        "start_time": "2022-01-06T15:17:15.550Z"
      },
      {
        "duration": 10,
        "start_time": "2022-01-06T15:17:15.571Z"
      },
      {
        "duration": 8,
        "start_time": "2022-01-06T15:17:15.583Z"
      },
      {
        "duration": 6,
        "start_time": "2022-01-06T15:17:15.594Z"
      },
      {
        "duration": 8,
        "start_time": "2022-01-06T15:17:15.602Z"
      },
      {
        "duration": 60,
        "start_time": "2022-01-06T15:17:15.612Z"
      },
      {
        "duration": 9,
        "start_time": "2022-01-06T15:17:15.674Z"
      },
      {
        "duration": 7,
        "start_time": "2022-01-06T15:17:15.686Z"
      },
      {
        "duration": 8,
        "start_time": "2022-01-06T15:17:15.695Z"
      },
      {
        "duration": 9,
        "start_time": "2022-01-06T15:17:15.706Z"
      },
      {
        "duration": 52,
        "start_time": "2022-01-06T15:17:15.721Z"
      },
      {
        "duration": 17,
        "start_time": "2022-01-06T15:17:15.777Z"
      },
      {
        "duration": 311,
        "start_time": "2022-01-06T15:17:15.797Z"
      },
      {
        "duration": 20,
        "start_time": "2022-01-06T15:17:16.110Z"
      },
      {
        "duration": 9,
        "start_time": "2022-01-06T15:17:16.132Z"
      },
      {
        "duration": 28,
        "start_time": "2022-01-06T15:17:16.143Z"
      },
      {
        "duration": 18,
        "start_time": "2022-01-06T15:17:16.173Z"
      },
      {
        "duration": 14,
        "start_time": "2022-01-06T15:17:16.193Z"
      },
      {
        "duration": 11,
        "start_time": "2022-01-06T15:17:16.209Z"
      },
      {
        "duration": 59,
        "start_time": "2022-01-06T15:17:16.222Z"
      },
      {
        "duration": 17,
        "start_time": "2022-01-06T15:17:16.284Z"
      },
      {
        "duration": 8,
        "start_time": "2022-01-06T15:17:16.303Z"
      },
      {
        "duration": 76,
        "start_time": "2022-01-06T15:17:16.314Z"
      },
      {
        "duration": 99,
        "start_time": "2022-01-06T15:17:16.469Z"
      },
      {
        "duration": 364,
        "start_time": "2022-01-06T15:17:16.571Z"
      },
      {
        "duration": 58,
        "start_time": "2022-01-06T15:17:16.937Z"
      },
      {
        "duration": 45,
        "start_time": "2022-01-06T15:17:16.997Z"
      },
      {
        "duration": 25,
        "start_time": "2022-01-06T15:17:17.044Z"
      },
      {
        "duration": 11,
        "start_time": "2022-01-06T15:17:17.071Z"
      },
      {
        "duration": 6,
        "start_time": "2022-01-06T15:17:17.085Z"
      },
      {
        "duration": 181,
        "start_time": "2022-01-06T15:17:17.094Z"
      },
      {
        "duration": 6,
        "start_time": "2022-01-06T15:17:17.278Z"
      },
      {
        "duration": 11,
        "start_time": "2022-01-06T15:17:17.286Z"
      },
      {
        "duration": 37,
        "start_time": "2022-01-06T15:17:17.300Z"
      },
      {
        "duration": 140,
        "start_time": "2022-01-06T15:17:17.339Z"
      },
      {
        "duration": 4,
        "start_time": "2022-01-06T15:17:17.481Z"
      },
      {
        "duration": 6,
        "start_time": "2022-01-06T15:17:17.487Z"
      },
      {
        "duration": 6,
        "start_time": "2022-01-06T15:17:17.496Z"
      },
      {
        "duration": 10112,
        "start_time": "2022-01-06T15:17:17.505Z"
      },
      {
        "duration": 6,
        "start_time": "2022-01-06T15:17:27.621Z"
      },
      {
        "duration": 10,
        "start_time": "2022-01-06T15:17:27.630Z"
      },
      {
        "duration": 3585,
        "start_time": "2022-01-06T15:17:27.643Z"
      },
      {
        "duration": 14,
        "start_time": "2022-01-06T15:17:31.231Z"
      },
      {
        "duration": 6,
        "start_time": "2022-01-06T15:17:31.269Z"
      },
      {
        "duration": 13,
        "start_time": "2022-01-06T15:17:31.278Z"
      },
      {
        "duration": 22,
        "start_time": "2022-01-06T15:17:31.294Z"
      },
      {
        "duration": 25,
        "start_time": "2022-01-06T15:17:31.319Z"
      },
      {
        "duration": 130,
        "start_time": "2022-01-06T15:17:31.346Z"
      },
      {
        "duration": 105,
        "start_time": "2022-01-06T15:17:31.568Z"
      },
      {
        "duration": 193,
        "start_time": "2022-01-06T15:17:31.676Z"
      },
      {
        "duration": 102,
        "start_time": "2022-01-06T15:17:31.873Z"
      },
      {
        "duration": 53,
        "start_time": "2022-01-06T15:17:31.978Z"
      },
      {
        "duration": 53,
        "start_time": "2022-01-06T15:17:32.034Z"
      },
      {
        "duration": 62,
        "start_time": "2022-01-06T15:17:32.090Z"
      },
      {
        "duration": 13,
        "start_time": "2022-01-06T15:17:32.168Z"
      },
      {
        "duration": 138,
        "start_time": "2022-01-06T15:17:32.191Z"
      },
      {
        "duration": 83,
        "start_time": "2022-01-06T15:17:32.333Z"
      },
      {
        "duration": 170,
        "start_time": "2022-01-06T15:17:32.419Z"
      },
      {
        "duration": 16,
        "start_time": "2022-01-06T15:17:32.592Z"
      },
      {
        "duration": 7,
        "start_time": "2022-01-06T15:17:32.611Z"
      },
      {
        "duration": 16,
        "start_time": "2022-01-06T15:17:32.620Z"
      },
      {
        "duration": 6,
        "start_time": "2022-01-06T15:17:32.639Z"
      },
      {
        "duration": 1793,
        "start_time": "2022-01-07T09:49:24.245Z"
      },
      {
        "duration": 57,
        "start_time": "2022-01-07T09:49:26.041Z"
      },
      {
        "duration": 4,
        "start_time": "2022-01-07T09:49:26.101Z"
      },
      {
        "duration": 7,
        "start_time": "2022-01-07T09:49:26.107Z"
      },
      {
        "duration": 13,
        "start_time": "2022-01-07T09:49:26.117Z"
      },
      {
        "duration": 44,
        "start_time": "2022-01-07T09:49:26.132Z"
      },
      {
        "duration": 13,
        "start_time": "2022-01-07T09:49:26.178Z"
      },
      {
        "duration": 7,
        "start_time": "2022-01-07T09:49:26.193Z"
      },
      {
        "duration": 9,
        "start_time": "2022-01-07T09:49:26.204Z"
      },
      {
        "duration": 6,
        "start_time": "2022-01-07T09:49:26.217Z"
      },
      {
        "duration": 318,
        "start_time": "2022-01-07T09:49:26.264Z"
      },
      {
        "duration": 322,
        "start_time": "2022-01-07T09:49:26.585Z"
      },
      {
        "duration": 9,
        "start_time": "2022-01-07T09:49:26.909Z"
      },
      {
        "duration": 8,
        "start_time": "2022-01-07T09:49:26.921Z"
      },
      {
        "duration": 36,
        "start_time": "2022-01-07T09:49:26.932Z"
      },
      {
        "duration": 7,
        "start_time": "2022-01-07T09:49:26.972Z"
      },
      {
        "duration": 10,
        "start_time": "2022-01-07T09:49:26.982Z"
      },
      {
        "duration": 10,
        "start_time": "2022-01-07T09:49:26.996Z"
      },
      {
        "duration": 9,
        "start_time": "2022-01-07T09:49:27.009Z"
      },
      {
        "duration": 7,
        "start_time": "2022-01-07T09:49:27.063Z"
      },
      {
        "duration": 7,
        "start_time": "2022-01-07T09:49:27.073Z"
      },
      {
        "duration": 8,
        "start_time": "2022-01-07T09:49:27.083Z"
      },
      {
        "duration": 6,
        "start_time": "2022-01-07T09:49:27.094Z"
      },
      {
        "duration": 9,
        "start_time": "2022-01-07T09:49:27.102Z"
      },
      {
        "duration": 248,
        "start_time": "2022-01-07T09:49:27.163Z"
      },
      {
        "duration": 19,
        "start_time": "2022-01-07T09:49:27.413Z"
      },
      {
        "duration": 25,
        "start_time": "2022-01-07T09:49:27.439Z"
      },
      {
        "duration": 5,
        "start_time": "2022-01-07T09:49:27.469Z"
      },
      {
        "duration": 11,
        "start_time": "2022-01-07T09:49:27.477Z"
      },
      {
        "duration": 10,
        "start_time": "2022-01-07T09:49:27.491Z"
      },
      {
        "duration": 4,
        "start_time": "2022-01-07T09:49:27.504Z"
      },
      {
        "duration": 105,
        "start_time": "2022-01-07T09:49:27.512Z"
      },
      {
        "duration": 44,
        "start_time": "2022-01-07T09:49:27.621Z"
      },
      {
        "duration": 8,
        "start_time": "2022-01-07T09:49:27.668Z"
      },
      {
        "duration": 90,
        "start_time": "2022-01-07T09:49:27.678Z"
      },
      {
        "duration": 93,
        "start_time": "2022-01-07T09:49:27.772Z"
      },
      {
        "duration": 333,
        "start_time": "2022-01-07T09:49:27.964Z"
      },
      {
        "duration": 46,
        "start_time": "2022-01-07T09:49:28.299Z"
      },
      {
        "duration": 46,
        "start_time": "2022-01-07T09:49:28.364Z"
      },
      {
        "duration": 4,
        "start_time": "2022-01-07T09:49:28.413Z"
      },
      {
        "duration": 5,
        "start_time": "2022-01-07T09:49:28.421Z"
      },
      {
        "duration": 5,
        "start_time": "2022-01-07T09:49:28.464Z"
      },
      {
        "duration": 244,
        "start_time": "2022-01-07T09:49:28.472Z"
      },
      {
        "duration": 6,
        "start_time": "2022-01-07T09:49:28.719Z"
      },
      {
        "duration": 14,
        "start_time": "2022-01-07T09:49:28.728Z"
      },
      {
        "duration": 44,
        "start_time": "2022-01-07T09:49:28.762Z"
      },
      {
        "duration": 180,
        "start_time": "2022-01-07T09:49:28.809Z"
      },
      {
        "duration": 4,
        "start_time": "2022-01-07T09:49:28.992Z"
      },
      {
        "duration": 8,
        "start_time": "2022-01-07T09:49:28.998Z"
      },
      {
        "duration": 9,
        "start_time": "2022-01-07T09:49:29.009Z"
      },
      {
        "duration": 15132,
        "start_time": "2022-01-07T09:49:29.021Z"
      },
      {
        "duration": 9,
        "start_time": "2022-01-07T09:49:44.156Z"
      },
      {
        "duration": 6,
        "start_time": "2022-01-07T09:49:44.168Z"
      },
      {
        "duration": 3357,
        "start_time": "2022-01-07T09:49:44.177Z"
      },
      {
        "duration": 13,
        "start_time": "2022-01-07T09:49:47.536Z"
      },
      {
        "duration": 7,
        "start_time": "2022-01-07T09:49:47.562Z"
      },
      {
        "duration": 6,
        "start_time": "2022-01-07T09:49:47.572Z"
      },
      {
        "duration": 18,
        "start_time": "2022-01-07T09:49:47.581Z"
      },
      {
        "duration": 17,
        "start_time": "2022-01-07T09:49:47.602Z"
      },
      {
        "duration": 141,
        "start_time": "2022-01-07T09:49:47.621Z"
      },
      {
        "duration": 117,
        "start_time": "2022-01-07T09:49:47.766Z"
      },
      {
        "duration": 202,
        "start_time": "2022-01-07T09:49:47.965Z"
      },
      {
        "duration": 99,
        "start_time": "2022-01-07T09:49:48.171Z"
      },
      {
        "duration": 48,
        "start_time": "2022-01-07T09:49:48.273Z"
      },
      {
        "duration": 54,
        "start_time": "2022-01-07T09:49:48.324Z"
      },
      {
        "duration": 83,
        "start_time": "2022-01-07T09:49:48.381Z"
      },
      {
        "duration": 12,
        "start_time": "2022-01-07T09:49:48.467Z"
      },
      {
        "duration": 130,
        "start_time": "2022-01-07T09:49:48.482Z"
      },
      {
        "duration": 84,
        "start_time": "2022-01-07T09:49:48.614Z"
      },
      {
        "duration": 229,
        "start_time": "2022-01-07T09:49:48.701Z"
      },
      {
        "duration": 17,
        "start_time": "2022-01-07T09:49:48.934Z"
      },
      {
        "duration": 437,
        "start_time": "2022-01-07T09:49:48.963Z"
      },
      {
        "duration": -250,
        "start_time": "2022-01-07T09:49:49.653Z"
      },
      {
        "duration": -260,
        "start_time": "2022-01-07T09:49:49.664Z"
      },
      {
        "duration": -269,
        "start_time": "2022-01-07T09:49:49.674Z"
      },
      {
        "duration": -277,
        "start_time": "2022-01-07T09:49:49.684Z"
      },
      {
        "duration": -285,
        "start_time": "2022-01-07T09:49:49.694Z"
      },
      {
        "duration": -296,
        "start_time": "2022-01-07T09:49:49.706Z"
      },
      {
        "duration": -306,
        "start_time": "2022-01-07T09:49:49.717Z"
      },
      {
        "duration": -317,
        "start_time": "2022-01-07T09:49:49.729Z"
      },
      {
        "duration": -326,
        "start_time": "2022-01-07T09:49:49.740Z"
      },
      {
        "duration": -336,
        "start_time": "2022-01-07T09:49:49.752Z"
      },
      {
        "duration": -345,
        "start_time": "2022-01-07T09:49:49.763Z"
      },
      {
        "duration": -355,
        "start_time": "2022-01-07T09:49:49.774Z"
      },
      {
        "duration": 5,
        "start_time": "2022-01-07T09:52:26.483Z"
      },
      {
        "duration": 4,
        "start_time": "2022-01-07T09:52:29.373Z"
      },
      {
        "duration": 4,
        "start_time": "2022-01-07T09:52:30.413Z"
      },
      {
        "duration": 603444,
        "start_time": "2022-01-07T09:52:32.453Z"
      },
      {
        "duration": 6,
        "start_time": "2022-01-07T10:03:41.718Z"
      },
      {
        "duration": 5,
        "start_time": "2022-01-07T10:03:51.238Z"
      },
      {
        "duration": 7816,
        "start_time": "2022-01-07T10:04:16.179Z"
      },
      {
        "duration": 1918,
        "start_time": "2022-01-07T10:35:17.790Z"
      },
      {
        "duration": 84,
        "start_time": "2022-01-07T10:35:19.711Z"
      },
      {
        "duration": 6,
        "start_time": "2022-01-07T10:35:19.800Z"
      },
      {
        "duration": 8,
        "start_time": "2022-01-07T10:35:19.810Z"
      },
      {
        "duration": 55,
        "start_time": "2022-01-07T10:35:19.822Z"
      },
      {
        "duration": 20,
        "start_time": "2022-01-07T10:35:19.880Z"
      },
      {
        "duration": 17,
        "start_time": "2022-01-07T10:35:19.903Z"
      },
      {
        "duration": 7,
        "start_time": "2022-01-07T10:35:19.923Z"
      },
      {
        "duration": 7,
        "start_time": "2022-01-07T10:35:19.965Z"
      },
      {
        "duration": 7,
        "start_time": "2022-01-07T10:35:19.976Z"
      },
      {
        "duration": 370,
        "start_time": "2022-01-07T10:35:19.985Z"
      },
      {
        "duration": 343,
        "start_time": "2022-01-07T10:35:20.362Z"
      },
      {
        "duration": 11,
        "start_time": "2022-01-07T10:35:20.707Z"
      },
      {
        "duration": 10,
        "start_time": "2022-01-07T10:35:20.721Z"
      },
      {
        "duration": 35,
        "start_time": "2022-01-07T10:35:20.733Z"
      },
      {
        "duration": 10,
        "start_time": "2022-01-07T10:35:20.770Z"
      },
      {
        "duration": 13,
        "start_time": "2022-01-07T10:35:20.783Z"
      },
      {
        "duration": 19,
        "start_time": "2022-01-07T10:35:20.798Z"
      },
      {
        "duration": 44,
        "start_time": "2022-01-07T10:35:20.820Z"
      },
      {
        "duration": 6,
        "start_time": "2022-01-07T10:35:20.866Z"
      },
      {
        "duration": 15,
        "start_time": "2022-01-07T10:35:20.875Z"
      },
      {
        "duration": 16,
        "start_time": "2022-01-07T10:35:20.893Z"
      },
      {
        "duration": 8,
        "start_time": "2022-01-07T10:35:20.912Z"
      },
      {
        "duration": 11,
        "start_time": "2022-01-07T10:35:20.962Z"
      },
      {
        "duration": 405,
        "start_time": "2022-01-07T10:35:20.976Z"
      },
      {
        "duration": 20,
        "start_time": "2022-01-07T10:35:21.384Z"
      },
      {
        "duration": 10,
        "start_time": "2022-01-07T10:35:21.411Z"
      },
      {
        "duration": 38,
        "start_time": "2022-01-07T10:35:21.428Z"
      },
      {
        "duration": 16,
        "start_time": "2022-01-07T10:35:21.470Z"
      },
      {
        "duration": 12,
        "start_time": "2022-01-07T10:35:21.488Z"
      },
      {
        "duration": 14,
        "start_time": "2022-01-07T10:35:21.502Z"
      },
      {
        "duration": 80,
        "start_time": "2022-01-07T10:35:21.520Z"
      },
      {
        "duration": 27,
        "start_time": "2022-01-07T10:35:21.605Z"
      },
      {
        "duration": 31,
        "start_time": "2022-01-07T10:35:21.635Z"
      },
      {
        "duration": 95,
        "start_time": "2022-01-07T10:35:21.669Z"
      },
      {
        "duration": 11,
        "start_time": "2022-01-07T10:35:21.769Z"
      },
      {
        "duration": 459,
        "start_time": "2022-01-07T10:35:21.784Z"
      },
      {
        "duration": 60,
        "start_time": "2022-01-07T10:35:22.245Z"
      },
      {
        "duration": 64,
        "start_time": "2022-01-07T10:35:22.307Z"
      },
      {
        "duration": 3,
        "start_time": "2022-01-07T10:35:22.374Z"
      },
      {
        "duration": 6,
        "start_time": "2022-01-07T10:35:22.379Z"
      },
      {
        "duration": 5,
        "start_time": "2022-01-07T10:35:22.387Z"
      },
      {
        "duration": 197,
        "start_time": "2022-01-07T10:35:22.394Z"
      },
      {
        "duration": 5,
        "start_time": "2022-01-07T10:35:22.593Z"
      },
      {
        "duration": 6,
        "start_time": "2022-01-07T10:35:22.600Z"
      },
      {
        "duration": 70,
        "start_time": "2022-01-07T10:35:22.609Z"
      },
      {
        "duration": 133,
        "start_time": "2022-01-07T10:35:22.682Z"
      },
      {
        "duration": 5,
        "start_time": "2022-01-07T10:35:22.818Z"
      },
      {
        "duration": 6,
        "start_time": "2022-01-07T10:35:22.826Z"
      },
      {
        "duration": 28,
        "start_time": "2022-01-07T10:35:22.835Z"
      },
      {
        "duration": 10748,
        "start_time": "2022-01-07T10:35:22.865Z"
      },
      {
        "duration": 6,
        "start_time": "2022-01-07T10:35:33.615Z"
      },
      {
        "duration": 6,
        "start_time": "2022-01-07T10:35:33.624Z"
      },
      {
        "duration": 3589,
        "start_time": "2022-01-07T10:35:33.632Z"
      },
      {
        "duration": 14,
        "start_time": "2022-01-07T10:35:37.223Z"
      },
      {
        "duration": 29,
        "start_time": "2022-01-07T10:35:37.240Z"
      },
      {
        "duration": 8,
        "start_time": "2022-01-07T10:35:37.274Z"
      },
      {
        "duration": 25,
        "start_time": "2022-01-07T10:35:37.284Z"
      },
      {
        "duration": 26,
        "start_time": "2022-01-07T10:35:37.312Z"
      },
      {
        "duration": 135,
        "start_time": "2022-01-07T10:35:37.341Z"
      },
      {
        "duration": 199,
        "start_time": "2022-01-07T10:35:37.564Z"
      },
      {
        "duration": 100,
        "start_time": "2022-01-07T10:35:37.766Z"
      },
      {
        "duration": 97,
        "start_time": "2022-01-07T10:35:37.870Z"
      },
      {
        "duration": 48,
        "start_time": "2022-01-07T10:35:37.970Z"
      },
      {
        "duration": 59,
        "start_time": "2022-01-07T10:35:38.021Z"
      },
      {
        "duration": 80,
        "start_time": "2022-01-07T10:35:38.083Z"
      },
      {
        "duration": 13,
        "start_time": "2022-01-07T10:35:38.166Z"
      },
      {
        "duration": 135,
        "start_time": "2022-01-07T10:35:38.183Z"
      },
      {
        "duration": 83,
        "start_time": "2022-01-07T10:35:38.321Z"
      },
      {
        "duration": 168,
        "start_time": "2022-01-07T10:35:38.407Z"
      },
      {
        "duration": 13,
        "start_time": "2022-01-07T10:35:38.578Z"
      },
      {
        "duration": 5,
        "start_time": "2022-01-07T10:35:38.594Z"
      },
      {
        "duration": 7,
        "start_time": "2022-01-07T10:35:38.602Z"
      },
      {
        "duration": 5,
        "start_time": "2022-01-07T10:35:38.612Z"
      },
      {
        "duration": 892,
        "start_time": "2022-01-07T10:35:38.620Z"
      },
      {
        "duration": -243,
        "start_time": "2022-01-07T10:35:39.759Z"
      },
      {
        "duration": -245,
        "start_time": "2022-01-07T10:35:39.763Z"
      },
      {
        "duration": -248,
        "start_time": "2022-01-07T10:35:39.767Z"
      },
      {
        "duration": -251,
        "start_time": "2022-01-07T10:35:39.771Z"
      },
      {
        "duration": -257,
        "start_time": "2022-01-07T10:35:39.778Z"
      },
      {
        "duration": -266,
        "start_time": "2022-01-07T10:35:39.788Z"
      },
      {
        "duration": -274,
        "start_time": "2022-01-07T10:35:39.797Z"
      },
      {
        "duration": -278,
        "start_time": "2022-01-07T10:35:39.802Z"
      },
      {
        "duration": -280,
        "start_time": "2022-01-07T10:35:39.806Z"
      },
      {
        "duration": 622428,
        "start_time": "2022-01-07T10:37:56.412Z"
      },
      {
        "duration": 20,
        "start_time": "2022-01-07T10:48:18.844Z"
      },
      {
        "duration": 6,
        "start_time": "2022-01-07T10:48:18.868Z"
      },
      {
        "duration": 7,
        "start_time": "2022-01-07T10:52:32.600Z"
      },
      {
        "duration": 8,
        "start_time": "2022-01-07T10:52:36.614Z"
      },
      {
        "duration": 6,
        "start_time": "2022-01-07T10:53:10.462Z"
      },
      {
        "duration": 5,
        "start_time": "2022-01-07T10:53:39.431Z"
      },
      {
        "duration": 6147,
        "start_time": "2022-01-07T10:54:05.795Z"
      },
      {
        "duration": 3,
        "start_time": "2022-01-07T10:54:21.434Z"
      },
      {
        "duration": 262,
        "start_time": "2022-01-07T10:54:31.137Z"
      },
      {
        "duration": 194,
        "start_time": "2022-01-07T10:54:35.921Z"
      },
      {
        "duration": 265,
        "start_time": "2022-01-07T10:54:36.844Z"
      },
      {
        "duration": 6,
        "start_time": "2022-01-07T11:06:44.913Z"
      },
      {
        "duration": 5,
        "start_time": "2022-01-07T11:10:52.686Z"
      },
      {
        "duration": 199,
        "start_time": "2022-01-07T11:10:55.192Z"
      },
      {
        "duration": 177,
        "start_time": "2022-01-07T11:11:44.711Z"
      },
      {
        "duration": 413,
        "start_time": "2022-01-07T11:11:45.303Z"
      },
      {
        "duration": 1612,
        "start_time": "2022-01-07T11:16:18.115Z"
      },
      {
        "duration": 57,
        "start_time": "2022-01-07T11:16:19.730Z"
      },
      {
        "duration": 5,
        "start_time": "2022-01-07T11:16:19.790Z"
      },
      {
        "duration": 19,
        "start_time": "2022-01-07T11:16:19.798Z"
      },
      {
        "duration": 21,
        "start_time": "2022-01-07T11:16:19.820Z"
      },
      {
        "duration": 27,
        "start_time": "2022-01-07T11:16:19.844Z"
      },
      {
        "duration": 18,
        "start_time": "2022-01-07T11:16:19.873Z"
      },
      {
        "duration": 6,
        "start_time": "2022-01-07T11:16:19.894Z"
      },
      {
        "duration": 15,
        "start_time": "2022-01-07T11:16:19.904Z"
      },
      {
        "duration": 22,
        "start_time": "2022-01-07T11:16:19.922Z"
      },
      {
        "duration": 342,
        "start_time": "2022-01-07T11:16:19.946Z"
      },
      {
        "duration": 331,
        "start_time": "2022-01-07T11:16:20.292Z"
      },
      {
        "duration": 11,
        "start_time": "2022-01-07T11:16:20.626Z"
      },
      {
        "duration": 28,
        "start_time": "2022-01-07T11:16:20.639Z"
      },
      {
        "duration": 6,
        "start_time": "2022-01-07T11:16:20.669Z"
      },
      {
        "duration": 8,
        "start_time": "2022-01-07T11:16:20.677Z"
      },
      {
        "duration": 8,
        "start_time": "2022-01-07T11:16:20.687Z"
      },
      {
        "duration": 12,
        "start_time": "2022-01-07T11:16:20.698Z"
      },
      {
        "duration": 49,
        "start_time": "2022-01-07T11:16:20.714Z"
      },
      {
        "duration": 10,
        "start_time": "2022-01-07T11:16:20.766Z"
      },
      {
        "duration": 13,
        "start_time": "2022-01-07T11:16:20.779Z"
      },
      {
        "duration": 11,
        "start_time": "2022-01-07T11:16:20.794Z"
      },
      {
        "duration": 7,
        "start_time": "2022-01-07T11:16:20.808Z"
      },
      {
        "duration": 55,
        "start_time": "2022-01-07T11:16:20.818Z"
      },
      {
        "duration": 396,
        "start_time": "2022-01-07T11:16:20.876Z"
      },
      {
        "duration": 31,
        "start_time": "2022-01-07T11:16:21.275Z"
      },
      {
        "duration": 12,
        "start_time": "2022-01-07T11:16:21.318Z"
      },
      {
        "duration": 31,
        "start_time": "2022-01-07T11:16:21.335Z"
      },
      {
        "duration": 14,
        "start_time": "2022-01-07T11:16:21.369Z"
      },
      {
        "duration": 10,
        "start_time": "2022-01-07T11:16:21.387Z"
      },
      {
        "duration": 5,
        "start_time": "2022-01-07T11:16:21.400Z"
      },
      {
        "duration": 80,
        "start_time": "2022-01-07T11:16:21.408Z"
      },
      {
        "duration": 24,
        "start_time": "2022-01-07T11:16:21.490Z"
      },
      {
        "duration": 9,
        "start_time": "2022-01-07T11:16:21.518Z"
      },
      {
        "duration": 101,
        "start_time": "2022-01-07T11:16:21.567Z"
      },
      {
        "duration": 93,
        "start_time": "2022-01-07T11:16:21.671Z"
      },
      {
        "duration": 357,
        "start_time": "2022-01-07T11:16:21.767Z"
      },
      {
        "duration": 58,
        "start_time": "2022-01-07T11:16:22.127Z"
      },
      {
        "duration": 46,
        "start_time": "2022-01-07T11:16:22.188Z"
      },
      {
        "duration": 27,
        "start_time": "2022-01-07T11:16:22.237Z"
      },
      {
        "duration": 5,
        "start_time": "2022-01-07T11:16:22.268Z"
      },
      {
        "duration": 5,
        "start_time": "2022-01-07T11:16:22.276Z"
      },
      {
        "duration": 198,
        "start_time": "2022-01-07T11:16:22.284Z"
      },
      {
        "duration": 6,
        "start_time": "2022-01-07T11:16:22.486Z"
      },
      {
        "duration": 7,
        "start_time": "2022-01-07T11:16:22.495Z"
      },
      {
        "duration": 78,
        "start_time": "2022-01-07T11:16:22.505Z"
      },
      {
        "duration": 174,
        "start_time": "2022-01-07T11:16:22.586Z"
      },
      {
        "duration": 5,
        "start_time": "2022-01-07T11:16:22.763Z"
      },
      {
        "duration": 6,
        "start_time": "2022-01-07T11:16:22.772Z"
      },
      {
        "duration": 11,
        "start_time": "2022-01-07T11:16:22.781Z"
      },
      {
        "duration": 1661,
        "start_time": "2022-01-07T11:18:17.761Z"
      },
      {
        "duration": 59,
        "start_time": "2022-01-07T11:18:19.425Z"
      },
      {
        "duration": 5,
        "start_time": "2022-01-07T11:18:19.489Z"
      },
      {
        "duration": 7,
        "start_time": "2022-01-07T11:18:19.498Z"
      },
      {
        "duration": 12,
        "start_time": "2022-01-07T11:18:19.508Z"
      },
      {
        "duration": 50,
        "start_time": "2022-01-07T11:18:19.522Z"
      },
      {
        "duration": 18,
        "start_time": "2022-01-07T11:18:19.575Z"
      },
      {
        "duration": 8,
        "start_time": "2022-01-07T11:18:19.596Z"
      },
      {
        "duration": 9,
        "start_time": "2022-01-07T11:18:19.609Z"
      },
      {
        "duration": 7,
        "start_time": "2022-01-07T11:18:19.663Z"
      },
      {
        "duration": 343,
        "start_time": "2022-01-07T11:18:19.672Z"
      },
      {
        "duration": 336,
        "start_time": "2022-01-07T11:18:20.018Z"
      },
      {
        "duration": 11,
        "start_time": "2022-01-07T11:18:20.357Z"
      },
      {
        "duration": 9,
        "start_time": "2022-01-07T11:18:20.371Z"
      },
      {
        "duration": 8,
        "start_time": "2022-01-07T11:18:20.383Z"
      },
      {
        "duration": 6,
        "start_time": "2022-01-07T11:18:20.395Z"
      },
      {
        "duration": 65,
        "start_time": "2022-01-07T11:18:20.403Z"
      },
      {
        "duration": 9,
        "start_time": "2022-01-07T11:18:20.471Z"
      },
      {
        "duration": 8,
        "start_time": "2022-01-07T11:18:20.483Z"
      },
      {
        "duration": 7,
        "start_time": "2022-01-07T11:18:20.493Z"
      },
      {
        "duration": 6,
        "start_time": "2022-01-07T11:18:20.503Z"
      },
      {
        "duration": 70,
        "start_time": "2022-01-07T11:18:20.511Z"
      },
      {
        "duration": 8,
        "start_time": "2022-01-07T11:18:20.584Z"
      },
      {
        "duration": 15,
        "start_time": "2022-01-07T11:18:20.594Z"
      },
      {
        "duration": 287,
        "start_time": "2022-01-07T11:18:20.611Z"
      },
      {
        "duration": 20,
        "start_time": "2022-01-07T11:18:20.900Z"
      },
      {
        "duration": 37,
        "start_time": "2022-01-07T11:18:20.928Z"
      },
      {
        "duration": 5,
        "start_time": "2022-01-07T11:18:20.969Z"
      },
      {
        "duration": 8,
        "start_time": "2022-01-07T11:18:20.977Z"
      },
      {
        "duration": 12,
        "start_time": "2022-01-07T11:18:20.988Z"
      },
      {
        "duration": 11,
        "start_time": "2022-01-07T11:18:21.002Z"
      },
      {
        "duration": 79,
        "start_time": "2022-01-07T11:18:21.016Z"
      },
      {
        "duration": 19,
        "start_time": "2022-01-07T11:18:21.097Z"
      },
      {
        "duration": 10,
        "start_time": "2022-01-07T11:18:21.119Z"
      },
      {
        "duration": 204,
        "start_time": "2022-01-07T11:18:21.164Z"
      },
      {
        "duration": 99,
        "start_time": "2022-01-07T11:18:21.371Z"
      },
      {
        "duration": 420,
        "start_time": "2022-01-07T11:18:21.474Z"
      },
      {
        "duration": 46,
        "start_time": "2022-01-07T11:18:21.897Z"
      },
      {
        "duration": 50,
        "start_time": "2022-01-07T11:18:21.962Z"
      },
      {
        "duration": 4,
        "start_time": "2022-01-07T11:18:22.014Z"
      },
      {
        "duration": 7,
        "start_time": "2022-01-07T11:18:22.020Z"
      },
      {
        "duration": 38,
        "start_time": "2022-01-07T11:18:22.030Z"
      },
      {
        "duration": 188,
        "start_time": "2022-01-07T11:18:22.070Z"
      },
      {
        "duration": 5,
        "start_time": "2022-01-07T11:18:22.263Z"
      },
      {
        "duration": 6,
        "start_time": "2022-01-07T11:18:22.271Z"
      },
      {
        "duration": 31,
        "start_time": "2022-01-07T11:18:22.279Z"
      },
      {
        "duration": 147,
        "start_time": "2022-01-07T11:18:22.313Z"
      },
      {
        "duration": 4,
        "start_time": "2022-01-07T11:18:22.463Z"
      },
      {
        "duration": 6,
        "start_time": "2022-01-07T11:18:22.470Z"
      },
      {
        "duration": 6,
        "start_time": "2022-01-07T11:18:22.478Z"
      },
      {
        "duration": 11205,
        "start_time": "2022-01-07T11:18:22.486Z"
      },
      {
        "duration": 5,
        "start_time": "2022-01-07T11:18:33.694Z"
      },
      {
        "duration": 7,
        "start_time": "2022-01-07T11:18:33.702Z"
      },
      {
        "duration": 3727,
        "start_time": "2022-01-07T11:18:33.712Z"
      },
      {
        "duration": 24,
        "start_time": "2022-01-07T11:18:37.442Z"
      },
      {
        "duration": 11,
        "start_time": "2022-01-07T11:18:37.470Z"
      },
      {
        "duration": 8,
        "start_time": "2022-01-07T11:18:37.483Z"
      },
      {
        "duration": 18,
        "start_time": "2022-01-07T11:18:37.494Z"
      },
      {
        "duration": 63,
        "start_time": "2022-01-07T11:18:37.515Z"
      },
      {
        "duration": 182,
        "start_time": "2022-01-07T11:18:37.581Z"
      },
      {
        "duration": 201,
        "start_time": "2022-01-07T11:18:37.766Z"
      },
      {
        "duration": 105,
        "start_time": "2022-01-07T11:18:37.970Z"
      },
      {
        "duration": 12,
        "start_time": "2022-01-07T11:18:38.182Z"
      },
      {
        "duration": 87,
        "start_time": "2022-01-07T11:18:38.197Z"
      },
      {
        "duration": 27,
        "start_time": "2022-01-07T11:18:38.287Z"
      },
      {
        "duration": 83,
        "start_time": "2022-01-07T11:18:38.317Z"
      },
      {
        "duration": 12,
        "start_time": "2022-01-07T11:18:38.403Z"
      },
      {
        "duration": 133,
        "start_time": "2022-01-07T11:18:38.418Z"
      },
      {
        "duration": 71,
        "start_time": "2022-01-07T11:18:38.553Z"
      },
      {
        "duration": 180,
        "start_time": "2022-01-07T11:18:38.626Z"
      },
      {
        "duration": 12,
        "start_time": "2022-01-07T11:18:38.808Z"
      },
      {
        "duration": 5,
        "start_time": "2022-01-07T11:18:38.823Z"
      },
      {
        "duration": 31,
        "start_time": "2022-01-07T11:18:38.831Z"
      },
      {
        "duration": 10,
        "start_time": "2022-01-07T11:18:38.865Z"
      },
      {
        "duration": 11047,
        "start_time": "2022-01-07T11:18:38.877Z"
      },
      {
        "duration": 6,
        "start_time": "2022-01-07T11:18:49.927Z"
      },
      {
        "duration": 29,
        "start_time": "2022-01-07T11:18:49.936Z"
      },
      {
        "duration": 6241,
        "start_time": "2022-01-07T11:18:49.968Z"
      },
      {
        "duration": 4,
        "start_time": "2022-01-07T11:18:56.211Z"
      },
      {
        "duration": 249,
        "start_time": "2022-01-07T11:18:56.218Z"
      },
      {
        "duration": 295,
        "start_time": "2022-01-07T11:18:56.476Z"
      },
      {
        "duration": 363,
        "start_time": "2022-01-07T11:18:56.775Z"
      },
      {
        "duration": 5,
        "start_time": "2022-01-07T11:18:57.141Z"
      },
      {
        "duration": 5,
        "start_time": "2022-01-07T11:41:04.845Z"
      },
      {
        "duration": 202,
        "start_time": "2022-01-07T11:41:06.035Z"
      },
      {
        "duration": 2653,
        "start_time": "2022-03-19T06:51:23.748Z"
      },
      {
        "duration": 59,
        "start_time": "2022-03-19T06:51:26.405Z"
      },
      {
        "duration": 16,
        "start_time": "2022-03-19T06:51:26.466Z"
      },
      {
        "duration": 5,
        "start_time": "2022-03-19T06:51:26.484Z"
      },
      {
        "duration": 34,
        "start_time": "2022-03-19T06:51:26.492Z"
      },
      {
        "duration": 16,
        "start_time": "2022-03-19T06:51:26.529Z"
      },
      {
        "duration": 41,
        "start_time": "2022-03-19T06:51:26.548Z"
      },
      {
        "duration": 6,
        "start_time": "2022-03-19T06:51:26.592Z"
      },
      {
        "duration": 11,
        "start_time": "2022-03-19T06:51:26.600Z"
      },
      {
        "duration": 16,
        "start_time": "2022-03-19T06:51:26.613Z"
      },
      {
        "duration": 279,
        "start_time": "2022-03-19T06:51:26.631Z"
      },
      {
        "duration": 238,
        "start_time": "2022-03-19T06:51:26.912Z"
      },
      {
        "duration": 10,
        "start_time": "2022-03-19T06:51:27.153Z"
      },
      {
        "duration": 8,
        "start_time": "2022-03-19T06:51:27.184Z"
      },
      {
        "duration": 11,
        "start_time": "2022-03-19T06:51:27.195Z"
      },
      {
        "duration": 6,
        "start_time": "2022-03-19T06:51:27.209Z"
      },
      {
        "duration": 10,
        "start_time": "2022-03-19T06:51:27.217Z"
      },
      {
        "duration": 10,
        "start_time": "2022-03-19T06:51:27.229Z"
      },
      {
        "duration": 47,
        "start_time": "2022-03-19T06:51:27.241Z"
      },
      {
        "duration": 9,
        "start_time": "2022-03-19T06:51:27.290Z"
      },
      {
        "duration": 11,
        "start_time": "2022-03-19T06:51:27.302Z"
      },
      {
        "duration": 9,
        "start_time": "2022-03-19T06:51:27.315Z"
      },
      {
        "duration": 6,
        "start_time": "2022-03-19T06:51:27.327Z"
      },
      {
        "duration": 52,
        "start_time": "2022-03-19T06:51:27.336Z"
      },
      {
        "duration": 210,
        "start_time": "2022-03-19T06:51:27.390Z"
      },
      {
        "duration": 15,
        "start_time": "2022-03-19T06:51:27.602Z"
      },
      {
        "duration": 22,
        "start_time": "2022-03-19T06:51:27.619Z"
      },
      {
        "duration": 9,
        "start_time": "2022-03-19T06:51:27.644Z"
      },
      {
        "duration": 28,
        "start_time": "2022-03-19T06:51:27.655Z"
      },
      {
        "duration": 25,
        "start_time": "2022-03-19T06:51:27.685Z"
      },
      {
        "duration": 19,
        "start_time": "2022-03-19T06:51:27.712Z"
      },
      {
        "duration": 53,
        "start_time": "2022-03-19T06:51:27.733Z"
      },
      {
        "duration": 18,
        "start_time": "2022-03-19T06:51:27.788Z"
      },
      {
        "duration": 19,
        "start_time": "2022-03-19T06:51:27.808Z"
      },
      {
        "duration": 160,
        "start_time": "2022-03-19T06:51:27.830Z"
      },
      {
        "duration": 96,
        "start_time": "2022-03-19T06:51:27.994Z"
      },
      {
        "duration": 456,
        "start_time": "2022-03-19T06:51:28.093Z"
      },
      {
        "duration": 83,
        "start_time": "2022-03-19T06:51:28.552Z"
      },
      {
        "duration": 77,
        "start_time": "2022-03-19T06:51:28.638Z"
      },
      {
        "duration": 4,
        "start_time": "2022-03-19T06:51:28.718Z"
      },
      {
        "duration": 14,
        "start_time": "2022-03-19T06:51:28.730Z"
      },
      {
        "duration": 20,
        "start_time": "2022-03-19T06:51:28.746Z"
      },
      {
        "duration": 179,
        "start_time": "2022-03-19T06:51:28.768Z"
      },
      {
        "duration": 6,
        "start_time": "2022-03-19T06:51:28.949Z"
      },
      {
        "duration": 26,
        "start_time": "2022-03-19T06:51:28.958Z"
      },
      {
        "duration": 45,
        "start_time": "2022-03-19T06:51:28.986Z"
      },
      {
        "duration": 928,
        "start_time": "2022-03-19T06:51:29.034Z"
      },
      {
        "duration": 5,
        "start_time": "2022-03-19T06:51:29.965Z"
      },
      {
        "duration": 11,
        "start_time": "2022-03-19T06:51:29.983Z"
      },
      {
        "duration": 14,
        "start_time": "2022-03-19T06:51:29.996Z"
      },
      {
        "duration": 10027,
        "start_time": "2022-03-19T06:51:30.013Z"
      },
      {
        "duration": 6,
        "start_time": "2022-03-19T06:51:40.042Z"
      },
      {
        "duration": 40,
        "start_time": "2022-03-19T06:51:40.052Z"
      },
      {
        "duration": 3312,
        "start_time": "2022-03-19T06:51:40.095Z"
      },
      {
        "duration": 13,
        "start_time": "2022-03-19T06:51:43.410Z"
      },
      {
        "duration": 14,
        "start_time": "2022-03-19T06:51:43.425Z"
      },
      {
        "duration": 7,
        "start_time": "2022-03-19T06:51:43.441Z"
      },
      {
        "duration": 41,
        "start_time": "2022-03-19T06:51:43.451Z"
      },
      {
        "duration": 17,
        "start_time": "2022-03-19T06:51:43.494Z"
      },
      {
        "duration": 73,
        "start_time": "2022-03-19T06:51:43.513Z"
      },
      {
        "duration": 113,
        "start_time": "2022-03-19T06:51:43.590Z"
      },
      {
        "duration": 203,
        "start_time": "2022-03-19T06:51:43.785Z"
      },
      {
        "duration": 101,
        "start_time": "2022-03-19T06:51:43.991Z"
      },
      {
        "duration": 50,
        "start_time": "2022-03-19T06:51:44.095Z"
      },
      {
        "duration": 66,
        "start_time": "2022-03-19T06:51:44.148Z"
      },
      {
        "duration": 98,
        "start_time": "2022-03-19T06:51:44.217Z"
      },
      {
        "duration": 17,
        "start_time": "2022-03-19T06:51:44.318Z"
      },
      {
        "duration": 907,
        "start_time": "2022-03-19T06:51:44.337Z"
      },
      {
        "duration": 490,
        "start_time": "2022-03-19T06:51:45.247Z"
      },
      {
        "duration": 1268,
        "start_time": "2022-03-19T06:51:45.739Z"
      },
      {
        "duration": 12,
        "start_time": "2022-03-19T06:51:47.009Z"
      },
      {
        "duration": 16,
        "start_time": "2022-03-19T06:51:47.024Z"
      },
      {
        "duration": 22,
        "start_time": "2022-03-19T06:51:47.042Z"
      },
      {
        "duration": 15,
        "start_time": "2022-03-19T06:51:47.067Z"
      },
      {
        "duration": 10557,
        "start_time": "2022-03-19T06:51:47.084Z"
      },
      {
        "duration": 5,
        "start_time": "2022-03-19T06:51:57.644Z"
      },
      {
        "duration": 8,
        "start_time": "2022-03-19T06:51:57.651Z"
      },
      {
        "duration": 5138,
        "start_time": "2022-03-19T06:51:57.682Z"
      },
      {
        "duration": 5,
        "start_time": "2022-03-19T06:52:02.823Z"
      },
      {
        "duration": 212,
        "start_time": "2022-03-19T06:52:02.830Z"
      },
      {
        "duration": 190,
        "start_time": "2022-03-19T06:52:03.045Z"
      },
      {
        "duration": 196,
        "start_time": "2022-03-19T06:52:03.237Z"
      },
      {
        "duration": 5,
        "start_time": "2022-03-19T06:52:03.435Z"
      }
    ],
    "kernelspec": {
      "display_name": "Python 3 (ipykernel)",
      "language": "python",
      "name": "python3"
    },
    "language_info": {
      "codemirror_mode": {
        "name": "ipython",
        "version": 3
      },
      "file_extension": ".py",
      "mimetype": "text/x-python",
      "name": "python",
      "nbconvert_exporter": "python",
      "pygments_lexer": "ipython3",
      "version": "3.9.5"
    },
    "toc": {
      "base_numbering": 1,
      "nav_menu": {},
      "number_sections": true,
      "sideBar": true,
      "skip_h1_title": true,
      "title_cell": "Содержание",
      "title_sidebar": "Contents",
      "toc_cell": true,
      "toc_position": {
        "height": "calc(100% - 180px)",
        "left": "10px",
        "top": "150px",
        "width": "335.6px"
      },
      "toc_section_display": true,
      "toc_window_display": true
    },
    "colab": {
      "name": "bank_churn_forecast.ipynb",
      "provenance": []
    }
  },
  "nbformat": 4,
  "nbformat_minor": 0
}