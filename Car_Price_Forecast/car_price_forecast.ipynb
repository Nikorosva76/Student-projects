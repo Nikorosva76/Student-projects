{
 "cells": [
  {
   "cell_type": "markdown",
   "metadata": {
    "id": "NzgsNEeLSN0l"
   },
   "source": [
    "# Определение стоимости автомобилей"
   ]
  },
  {
   "cell_type": "markdown",
   "metadata": {
    "id": "PBSLRAeKSN0r"
   },
   "source": [
    "Сервис по продаже автомобилей с пробегом «Не бит, не крашен» разрабатывает приложение для привлечения новых клиентов. В нём можно быстро узнать рыночную стоимость своего автомобиля. В вашем распоряжении исторические данные: технические характеристики, комплектации и цены автомобилей. Вам нужно построить модель для определения стоимости. \n",
    "\n",
    "Заказчику важны:\n",
    "\n",
    "- качество предсказания;\n",
    "- скорость предсказания;\n",
    "- время обучения."
   ]
  },
  {
   "cell_type": "code",
   "execution_count": 1,
   "metadata": {
    "colab": {
     "base_uri": "https://localhost:8080/"
    },
    "id": "DcOynm8qSTaV",
    "outputId": "1a2dc69e-7b15-45a5-bfe6-a5665a6e69bf",
    "scrolled": true
   },
   "outputs": [
    {
     "name": "stdout",
     "output_type": "stream",
     "text": [
      "Requirement already satisfied: catboost in /opt/conda/lib/python3.9/site-packages (1.0.3)\n",
      "Requirement already satisfied: scipy in /opt/conda/lib/python3.9/site-packages (from catboost) (1.7.3)\n",
      "Requirement already satisfied: numpy>=1.16.0 in /opt/conda/lib/python3.9/site-packages (from catboost) (1.20.1)\n",
      "Requirement already satisfied: matplotlib in /opt/conda/lib/python3.9/site-packages (from catboost) (3.3.4)\n",
      "Requirement already satisfied: graphviz in /opt/conda/lib/python3.9/site-packages (from catboost) (0.19.1)\n",
      "Requirement already satisfied: plotly in /opt/conda/lib/python3.9/site-packages (from catboost) (5.4.0)\n",
      "Requirement already satisfied: six in /opt/conda/lib/python3.9/site-packages (from catboost) (1.16.0)\n",
      "Requirement already satisfied: pandas>=0.24.0 in /opt/conda/lib/python3.9/site-packages (from catboost) (1.2.4)\n",
      "Requirement already satisfied: python-dateutil>=2.7.3 in /opt/conda/lib/python3.9/site-packages (from pandas>=0.24.0->catboost) (2.8.1)\n",
      "Requirement already satisfied: pytz>=2017.3 in /opt/conda/lib/python3.9/site-packages (from pandas>=0.24.0->catboost) (2021.1)\n",
      "Requirement already satisfied: pyparsing!=2.0.4,!=2.1.2,!=2.1.6,>=2.0.3 in /opt/conda/lib/python3.9/site-packages (from matplotlib->catboost) (2.4.7)\n",
      "Requirement already satisfied: pillow>=6.2.0 in /opt/conda/lib/python3.9/site-packages (from matplotlib->catboost) (8.4.0)\n",
      "Requirement already satisfied: cycler>=0.10 in /opt/conda/lib/python3.9/site-packages (from matplotlib->catboost) (0.11.0)\n",
      "Requirement already satisfied: kiwisolver>=1.0.1 in /opt/conda/lib/python3.9/site-packages (from matplotlib->catboost) (1.3.2)\n",
      "Requirement already satisfied: tenacity>=6.2.0 in /opt/conda/lib/python3.9/site-packages (from plotly->catboost) (8.0.1)\n",
      "Requirement already satisfied: lightgbm in /opt/conda/lib/python3.9/site-packages (3.3.1)\n",
      "Requirement already satisfied: numpy in /opt/conda/lib/python3.9/site-packages (from lightgbm) (1.20.1)\n",
      "Requirement already satisfied: scipy in /opt/conda/lib/python3.9/site-packages (from lightgbm) (1.7.3)\n",
      "Requirement already satisfied: scikit-learn!=0.22.0 in /opt/conda/lib/python3.9/site-packages (from lightgbm) (0.24.1)\n",
      "Requirement already satisfied: wheel in /opt/conda/lib/python3.9/site-packages (from lightgbm) (0.36.2)\n",
      "Requirement already satisfied: joblib>=0.11 in /opt/conda/lib/python3.9/site-packages (from scikit-learn!=0.22.0->lightgbm) (1.1.0)\n",
      "Requirement already satisfied: threadpoolctl>=2.0.0 in /opt/conda/lib/python3.9/site-packages (from scikit-learn!=0.22.0->lightgbm) (3.0.0)\n"
     ]
    }
   ],
   "source": [
    "import pandas as pd\n",
    "import seaborn as sns\n",
    "import numpy as np\n",
    "import time\n",
    "\n",
    "!pip install pandas_profiling==1.4.1 -q\n",
    "import pandas_profiling\n",
    "\n",
    "from matplotlib import pyplot\n",
    "import matplotlib.pyplot as plt\n",
    "import plotly.express as px\n",
    "\n",
    "from sklearn.model_selection import train_test_split\n",
    "\n",
    "from sklearn.linear_model import LinearRegression, LassoCV\n",
    "                            \n",
    "from sklearn.ensemble import RandomForestRegressor\n",
    "\n",
    "!pip install catboost\n",
    "import catboost as ctb\n",
    "from catboost import CatBoostRegressor\n",
    "\n",
    "!pip install lightgbm\n",
    "import lightgbm as lgbm\n",
    "from lightgbm import LGBMRegressor\n",
    "\n",
    "from sklearn.metrics import mean_squared_error #MSE\n",
    "\n",
    "from sklearn.preprocessing import OrdinalEncoder \n",
    "from sklearn.preprocessing import StandardScaler \n"
   ]
  },
  {
   "cell_type": "markdown",
   "metadata": {
    "id": "fntsTyZ1SN0s"
   },
   "source": [
    "## Подготовка данных"
   ]
  },
  {
   "cell_type": "code",
   "execution_count": 2,
   "metadata": {
    "colab": {
     "base_uri": "https://localhost:8080/"
    },
    "id": "pFTh5PspTmHW",
    "outputId": "f8a06208-68e4-4f59-a0a3-f76116b2a461"
   },
   "outputs": [],
   "source": [
    "try:\n",
    "  # загрузка с сервера Яндекс\n",
    "  df = pd.read_csv('/datasets/autos.csv')#, sep='\\,')\n",
    "  \n",
    "except:\n",
    "  #загрузка файла с гугл диска\n",
    "  from google.colab import drive\n",
    "  drive.mount('/content/drive')\n",
    "  df = pd.read_csv('/content/drive/MyDrive/Data_CSV/autos.csv')#, sep='\\t') "
   ]
  },
  {
   "cell_type": "code",
   "execution_count": 3,
   "metadata": {
    "colab": {
     "base_uri": "https://localhost:8080/",
     "height": 312
    },
    "id": "MflPlN2fSXxo",
    "outputId": "fab576dc-1c1e-4205-bf50-198cdd888382"
   },
   "outputs": [
    {
     "data": {
      "text/html": [
       "<div>\n",
       "<style scoped>\n",
       "    .dataframe tbody tr th:only-of-type {\n",
       "        vertical-align: middle;\n",
       "    }\n",
       "\n",
       "    .dataframe tbody tr th {\n",
       "        vertical-align: top;\n",
       "    }\n",
       "\n",
       "    .dataframe thead th {\n",
       "        text-align: right;\n",
       "    }\n",
       "</style>\n",
       "<table border=\"1\" class=\"dataframe\">\n",
       "  <thead>\n",
       "    <tr style=\"text-align: right;\">\n",
       "      <th></th>\n",
       "      <th>DateCrawled</th>\n",
       "      <th>Price</th>\n",
       "      <th>VehicleType</th>\n",
       "      <th>RegistrationYear</th>\n",
       "      <th>Gearbox</th>\n",
       "      <th>Power</th>\n",
       "      <th>Model</th>\n",
       "      <th>Kilometer</th>\n",
       "      <th>RegistrationMonth</th>\n",
       "      <th>FuelType</th>\n",
       "      <th>Brand</th>\n",
       "      <th>NotRepaired</th>\n",
       "      <th>DateCreated</th>\n",
       "      <th>NumberOfPictures</th>\n",
       "      <th>PostalCode</th>\n",
       "      <th>LastSeen</th>\n",
       "    </tr>\n",
       "  </thead>\n",
       "  <tbody>\n",
       "    <tr>\n",
       "      <th>0</th>\n",
       "      <td>2016-03-24 11:52:17</td>\n",
       "      <td>480</td>\n",
       "      <td>NaN</td>\n",
       "      <td>1993</td>\n",
       "      <td>manual</td>\n",
       "      <td>0</td>\n",
       "      <td>golf</td>\n",
       "      <td>150000</td>\n",
       "      <td>0</td>\n",
       "      <td>petrol</td>\n",
       "      <td>volkswagen</td>\n",
       "      <td>NaN</td>\n",
       "      <td>2016-03-24 00:00:00</td>\n",
       "      <td>0</td>\n",
       "      <td>70435</td>\n",
       "      <td>2016-04-07 03:16:57</td>\n",
       "    </tr>\n",
       "    <tr>\n",
       "      <th>1</th>\n",
       "      <td>2016-03-24 10:58:45</td>\n",
       "      <td>18300</td>\n",
       "      <td>coupe</td>\n",
       "      <td>2011</td>\n",
       "      <td>manual</td>\n",
       "      <td>190</td>\n",
       "      <td>NaN</td>\n",
       "      <td>125000</td>\n",
       "      <td>5</td>\n",
       "      <td>gasoline</td>\n",
       "      <td>audi</td>\n",
       "      <td>yes</td>\n",
       "      <td>2016-03-24 00:00:00</td>\n",
       "      <td>0</td>\n",
       "      <td>66954</td>\n",
       "      <td>2016-04-07 01:46:50</td>\n",
       "    </tr>\n",
       "    <tr>\n",
       "      <th>2</th>\n",
       "      <td>2016-03-14 12:52:21</td>\n",
       "      <td>9800</td>\n",
       "      <td>suv</td>\n",
       "      <td>2004</td>\n",
       "      <td>auto</td>\n",
       "      <td>163</td>\n",
       "      <td>grand</td>\n",
       "      <td>125000</td>\n",
       "      <td>8</td>\n",
       "      <td>gasoline</td>\n",
       "      <td>jeep</td>\n",
       "      <td>NaN</td>\n",
       "      <td>2016-03-14 00:00:00</td>\n",
       "      <td>0</td>\n",
       "      <td>90480</td>\n",
       "      <td>2016-04-05 12:47:46</td>\n",
       "    </tr>\n",
       "  </tbody>\n",
       "</table>\n",
       "</div>"
      ],
      "text/plain": [
       "           DateCrawled  Price VehicleType  RegistrationYear Gearbox  Power  \\\n",
       "0  2016-03-24 11:52:17    480         NaN              1993  manual      0   \n",
       "1  2016-03-24 10:58:45  18300       coupe              2011  manual    190   \n",
       "2  2016-03-14 12:52:21   9800         suv              2004    auto    163   \n",
       "\n",
       "   Model  Kilometer  RegistrationMonth  FuelType       Brand NotRepaired  \\\n",
       "0   golf     150000                  0    petrol  volkswagen         NaN   \n",
       "1    NaN     125000                  5  gasoline        audi         yes   \n",
       "2  grand     125000                  8  gasoline        jeep         NaN   \n",
       "\n",
       "           DateCreated  NumberOfPictures  PostalCode             LastSeen  \n",
       "0  2016-03-24 00:00:00                 0       70435  2016-04-07 03:16:57  \n",
       "1  2016-03-24 00:00:00                 0       66954  2016-04-07 01:46:50  \n",
       "2  2016-03-14 00:00:00                 0       90480  2016-04-05 12:47:46  "
      ]
     },
     "execution_count": 3,
     "metadata": {},
     "output_type": "execute_result"
    }
   ],
   "source": [
    "df.head(3)"
   ]
  },
  {
   "cell_type": "markdown",
   "metadata": {
    "id": "-_dxUO3rcINd"
   },
   "source": [
    "Для начала приведем в порядок названия стольбцов"
   ]
  },
  {
   "cell_type": "code",
   "execution_count": 4,
   "metadata": {
    "id": "iNWVrLVkZ23_"
   },
   "outputs": [],
   "source": [
    "# сделаем змеиный регистр\n",
    "df.columns = df.columns.str.lower()\n",
    "df.rename(columns = {'datecrawled':'date_crawled',\n",
    "                    'vehicletype':'vehicle_type',\n",
    "                    'registrationyear': 'registration_year',\n",
    "                    'gearbox':'gear_box',\n",
    "                    'registrationmonth':'registration_month',\n",
    "                    'fueltype':'fuel_type',\n",
    "                    'notrepaired':'not_repaired',                    \n",
    "                    'datecreated':'date_created',\n",
    "                    'numberofpictures':'number_of_pictures',\n",
    "                    'postalcode':'postal_code',\n",
    "                    'lastseen':'last_seen'},\n",
    "            inplace = True)"
   ]
  },
  {
   "cell_type": "markdown",
   "metadata": {
    "id": "vN0vxOQUfNLk"
   },
   "source": [
    "### Далее ознакомимся с составом данных"
   ]
  },
  {
   "cell_type": "code",
   "execution_count": 5,
   "metadata": {
    "colab": {
     "base_uri": "https://localhost:8080/"
    },
    "id": "xu_Nbx8-SX0a",
    "outputId": "3e009a4e-ca19-4172-c410-6a58af7e5fda"
   },
   "outputs": [
    {
     "name": "stdout",
     "output_type": "stream",
     "text": [
      "<class 'pandas.core.frame.DataFrame'>\n",
      "RangeIndex: 354369 entries, 0 to 354368\n",
      "Data columns (total 16 columns):\n",
      " #   Column              Non-Null Count   Dtype \n",
      "---  ------              --------------   ----- \n",
      " 0   date_crawled        354369 non-null  object\n",
      " 1   price               354369 non-null  int64 \n",
      " 2   vehicle_type        316879 non-null  object\n",
      " 3   registration_year   354369 non-null  int64 \n",
      " 4   gear_box            334536 non-null  object\n",
      " 5   power               354369 non-null  int64 \n",
      " 6   model               334664 non-null  object\n",
      " 7   kilometer           354369 non-null  int64 \n",
      " 8   registration_month  354369 non-null  int64 \n",
      " 9   fuel_type           321474 non-null  object\n",
      " 10  brand               354369 non-null  object\n",
      " 11  not_repaired        283215 non-null  object\n",
      " 12  date_created        354369 non-null  object\n",
      " 13  number_of_pictures  354369 non-null  int64 \n",
      " 14  postal_code         354369 non-null  int64 \n",
      " 15  last_seen           354369 non-null  object\n",
      "dtypes: int64(7), object(9)\n",
      "memory usage: 43.3+ MB\n"
     ]
    }
   ],
   "source": [
    "df.info()"
   ]
  },
  {
   "cell_type": "markdown",
   "metadata": {
    "id": "dGO2j8ApgwKO"
   },
   "source": [
    "Немаленький датасет: 354 369 записей. Типы данных соответствуют содержанию, если не принимать во внимание признаки дат. При этом стоит проанализировать пригодность некоторых данных для целей проекта. Так, например, дата скачивания анкеты _(\"date_crawled\")_ врядли имеет какое-либо влияние на цену продажи авто. Это же касается и признака дата создания анкеты _(\" date_created \")_. \n",
    "\n",
    "Т.е. необходимо будет проверить влияние некоторых признаков на цену продажи с тем, чтобы скорректировать набор обучающих признаков."
   ]
  },
  {
   "cell_type": "code",
   "execution_count": 6,
   "metadata": {
    "colab": {
     "base_uri": "https://localhost:8080/"
    },
    "id": "ehkXLMBGfd9t",
    "outputId": "83c767e6-fc71-4745-de7d-f1e2550774ba"
   },
   "outputs": [
    {
     "data": {
      "text/plain": [
       "not_repaired          20.08\n",
       "vehicle_type          10.58\n",
       "fuel_type              9.28\n",
       "gear_box               5.60\n",
       "model                  5.56\n",
       "date_crawled           0.00\n",
       "price                  0.00\n",
       "registration_year      0.00\n",
       "power                  0.00\n",
       "kilometer              0.00\n",
       "registration_month     0.00\n",
       "brand                  0.00\n",
       "date_created           0.00\n",
       "number_of_pictures     0.00\n",
       "postal_code            0.00\n",
       "last_seen              0.00\n",
       "dtype: float64"
      ]
     },
     "execution_count": 6,
     "metadata": {},
     "output_type": "execute_result"
    }
   ],
   "source": [
    "round(df.isna().mean()*100,2).sort_values(ascending=False)"
   ]
  },
  {
   "cell_type": "code",
   "execution_count": 7,
   "metadata": {
    "colab": {
     "base_uri": "https://localhost:8080/"
    },
    "id": "Z-WgvQfHI0ZK",
    "outputId": "9c90ce60-5a3f-44dc-b9ab-dbd4311cb6e3"
   },
   "outputs": [
    {
     "data": {
      "text/plain": [
       "4"
      ]
     },
     "execution_count": 7,
     "metadata": {},
     "output_type": "execute_result"
    }
   ],
   "source": [
    "df.duplicated().sum()"
   ]
  },
  {
   "cell_type": "markdown",
   "metadata": {
    "id": "3wfHQOycfTaP"
   },
   "source": [
    "Качество данных не самое плохое: признаков с пропусками относительно не много. \n",
    "\n",
    "Всего 4 полных дубликата (и то не факт, может совпадение). \n",
    "\n",
    "Но признаки __\"not_repaired\"__ , __\"vehicle_type\"__  и __\"fuel_type\"__ содержат неприемлемое кол-во пропусков. Признаки __\"gear_box\"__ и __\"model\"__ также довольно разрежены. \n",
    "\n",
    "Далее необходимо будет оценить возможность/целесообразность заполнения пропусков, принимая во внимание, что некоторые алгоритмы, например CATBoost, нейтральны к пропускам."
   ]
  },
  {
   "cell_type": "markdown",
   "metadata": {
    "id": "LcN43gGzjt1X"
   },
   "source": [
    "Ниже рассмотрим каждый признак подробнее на предмет наличия/отсутсвия аномалий. Предварительно подготовим служебную функцию _def char(column)_для вывода характеристик столбца."
   ]
  },
  {
   "cell_type": "code",
   "execution_count": 8,
   "metadata": {
    "id": "pSuR2tUv4ldO"
   },
   "outputs": [],
   "source": [
    "def char(column):\n",
    "  print(\"\\033[34m {}\".format(''))\n",
    "  print('Признак: \"' + df.columns[column] + '\"')\n",
    "  print(\"\\033[31m {}\".format(''))\n",
    "  print('Пропусков ', round(df[df.columns[column]].isna().mean()*100,2), ' %')\n",
    "  print('---------------------------------------------------------------')\n",
    "\n",
    "  #вывод характеристик цифровых признаков\n",
    "  if df[df.columns[column]].dtypes=='int64':\n",
    "    print(\"\\033[30m {}\".format(''))\n",
    "    print(df[df.columns[column]].describe())\n",
    "    df[df.columns[column]].plot(kind='hist', rot=45, figsize=(10,6), grid=True)\n",
    "    plt.title('Распределение значений признака \"' + df.columns[column] +'\"')\n",
    "    plt.ylabel(\"Количество значений\")\n",
    "    plt.show()\n",
    "  \n",
    "  #вывод характеристик категориальных признаков\n",
    "  elif df[df.columns[column]].dtypes=='object':\n",
    "    print(\"\\033[30m {}\".format(''))\n",
    "    print('Уникальных значений признака: ',pd.Series(df[df.columns[column]].unique()).count())\n",
    "    print('---------------------------------------------------------------')\n",
    "    print(df[df.columns[column]].unique())\n",
    "    print('---------------------------------------------------------------')\n",
    "    print(df[df.columns[column]].value_counts())\n",
    "\n",
    "  #return print('Пропусков ', round(df[df.columns[column]].isna().mean()*100,2), ' %')"
   ]
  },
  {
   "cell_type": "code",
   "execution_count": 9,
   "metadata": {},
   "outputs": [],
   "source": [
    "#pandas_profiling.ProfileReport(df)"
   ]
  },
  {
   "cell_type": "markdown",
   "metadata": {
    "id": "qUNo-RuL8n_t"
   },
   "source": [
    "### Теперь приступим к изучению признаков и их влиянию на целевой признак \"цена авто\""
   ]
  },
  {
   "cell_type": "markdown",
   "metadata": {
    "id": "RAORykrxWBDZ"
   },
   "source": [
    "Начнем с \"беспроблемных\" признаков и далее перейдем к признакам с пропусками."
   ]
  },
  {
   "cell_type": "markdown",
   "metadata": {
    "id": "w1YpqsF-rLKr"
   },
   "source": [
    "#### 0 \"date_crawled\""
   ]
  },
  {
   "cell_type": "code",
   "execution_count": 10,
   "metadata": {
    "colab": {
     "base_uri": "https://localhost:8080/"
    },
    "id": "tftlkD7a41y_",
    "outputId": "25a63aff-db5d-4f27-96e2-5bc35e77dee1"
   },
   "outputs": [
    {
     "name": "stdout",
     "output_type": "stream",
     "text": [
      "\u001b[34m \n",
      "Признак: \"date_crawled\"\n",
      "\u001b[31m \n",
      "Пропусков  0.0  %\n",
      "---------------------------------------------------------------\n",
      "\u001b[30m \n",
      "Уникальных значений признака:  271174\n",
      "---------------------------------------------------------------\n",
      "['2016-03-24 11:52:17' '2016-03-24 10:58:45' '2016-03-14 12:52:21' ...\n",
      " '2016-03-21 09:50:58' '2016-03-14 17:48:27' '2016-03-19 18:57:12']\n",
      "---------------------------------------------------------------\n",
      "2016-03-24 14:49:47    7\n",
      "2016-03-19 21:49:56    6\n",
      "2016-03-26 22:57:31    6\n",
      "2016-03-07 17:36:19    5\n",
      "2016-04-04 22:38:11    5\n",
      "                      ..\n",
      "2016-03-15 20:53:39    1\n",
      "2016-03-29 18:46:39    1\n",
      "2016-03-07 13:52:57    1\n",
      "2016-03-14 19:36:42    1\n",
      "2016-03-09 17:52:00    1\n",
      "Name: date_crawled, Length: 271174, dtype: int64\n"
     ]
    }
   ],
   "source": [
    "char(0)"
   ]
  },
  {
   "cell_type": "markdown",
   "metadata": {
    "id": "2eMuiX-s75hE"
   },
   "source": [
    "Как видим, за один временной промежуток размером \"1 минута\" не более 7-ми скачиваний. Исходя из цели проекта, нам необходимо оценить влияние признака на стоимость авто.  Сделать это на основании такого представления данных не получиться. Требуется отформатировать даты."
   ]
  },
  {
   "cell_type": "code",
   "execution_count": 11,
   "metadata": {
    "colab": {
     "base_uri": "https://localhost:8080/",
     "height": 312
    },
    "id": "qseyhFq19q0V",
    "outputId": "47c04200-5f22-4c4c-c38f-28433cc6bd7c"
   },
   "outputs": [
    {
     "data": {
      "text/html": [
       "<div>\n",
       "<style scoped>\n",
       "    .dataframe tbody tr th:only-of-type {\n",
       "        vertical-align: middle;\n",
       "    }\n",
       "\n",
       "    .dataframe tbody tr th {\n",
       "        vertical-align: top;\n",
       "    }\n",
       "\n",
       "    .dataframe thead th {\n",
       "        text-align: right;\n",
       "    }\n",
       "</style>\n",
       "<table border=\"1\" class=\"dataframe\">\n",
       "  <thead>\n",
       "    <tr style=\"text-align: right;\">\n",
       "      <th></th>\n",
       "      <th>date_crawled</th>\n",
       "      <th>price</th>\n",
       "      <th>vehicle_type</th>\n",
       "      <th>registration_year</th>\n",
       "      <th>gear_box</th>\n",
       "      <th>power</th>\n",
       "      <th>model</th>\n",
       "      <th>kilometer</th>\n",
       "      <th>registration_month</th>\n",
       "      <th>fuel_type</th>\n",
       "      <th>brand</th>\n",
       "      <th>not_repaired</th>\n",
       "      <th>date_created</th>\n",
       "      <th>number_of_pictures</th>\n",
       "      <th>postal_code</th>\n",
       "      <th>last_seen</th>\n",
       "      <th>date_crawled_new</th>\n",
       "    </tr>\n",
       "  </thead>\n",
       "  <tbody>\n",
       "    <tr>\n",
       "      <th>0</th>\n",
       "      <td>2016-03-24 11:52:17</td>\n",
       "      <td>480</td>\n",
       "      <td>NaN</td>\n",
       "      <td>1993</td>\n",
       "      <td>manual</td>\n",
       "      <td>0</td>\n",
       "      <td>golf</td>\n",
       "      <td>150000</td>\n",
       "      <td>0</td>\n",
       "      <td>petrol</td>\n",
       "      <td>volkswagen</td>\n",
       "      <td>NaN</td>\n",
       "      <td>2016-03-24 00:00:00</td>\n",
       "      <td>0</td>\n",
       "      <td>70435</td>\n",
       "      <td>2016-04-07 03:16:57</td>\n",
       "      <td>2016-03-24 11:52:17</td>\n",
       "    </tr>\n",
       "    <tr>\n",
       "      <th>1</th>\n",
       "      <td>2016-03-24 10:58:45</td>\n",
       "      <td>18300</td>\n",
       "      <td>coupe</td>\n",
       "      <td>2011</td>\n",
       "      <td>manual</td>\n",
       "      <td>190</td>\n",
       "      <td>NaN</td>\n",
       "      <td>125000</td>\n",
       "      <td>5</td>\n",
       "      <td>gasoline</td>\n",
       "      <td>audi</td>\n",
       "      <td>yes</td>\n",
       "      <td>2016-03-24 00:00:00</td>\n",
       "      <td>0</td>\n",
       "      <td>66954</td>\n",
       "      <td>2016-04-07 01:46:50</td>\n",
       "      <td>2016-03-24 10:58:45</td>\n",
       "    </tr>\n",
       "    <tr>\n",
       "      <th>2</th>\n",
       "      <td>2016-03-14 12:52:21</td>\n",
       "      <td>9800</td>\n",
       "      <td>suv</td>\n",
       "      <td>2004</td>\n",
       "      <td>auto</td>\n",
       "      <td>163</td>\n",
       "      <td>grand</td>\n",
       "      <td>125000</td>\n",
       "      <td>8</td>\n",
       "      <td>gasoline</td>\n",
       "      <td>jeep</td>\n",
       "      <td>NaN</td>\n",
       "      <td>2016-03-14 00:00:00</td>\n",
       "      <td>0</td>\n",
       "      <td>90480</td>\n",
       "      <td>2016-04-05 12:47:46</td>\n",
       "      <td>2016-03-14 12:52:21</td>\n",
       "    </tr>\n",
       "  </tbody>\n",
       "</table>\n",
       "</div>"
      ],
      "text/plain": [
       "          date_crawled  price vehicle_type  registration_year gear_box  power  \\\n",
       "0  2016-03-24 11:52:17    480          NaN               1993   manual      0   \n",
       "1  2016-03-24 10:58:45  18300        coupe               2011   manual    190   \n",
       "2  2016-03-14 12:52:21   9800          suv               2004     auto    163   \n",
       "\n",
       "   model  kilometer  registration_month fuel_type       brand not_repaired  \\\n",
       "0   golf     150000                   0    petrol  volkswagen          NaN   \n",
       "1    NaN     125000                   5  gasoline        audi          yes   \n",
       "2  grand     125000                   8  gasoline        jeep          NaN   \n",
       "\n",
       "          date_created  number_of_pictures  postal_code            last_seen  \\\n",
       "0  2016-03-24 00:00:00                   0        70435  2016-04-07 03:16:57   \n",
       "1  2016-03-24 00:00:00                   0        66954  2016-04-07 01:46:50   \n",
       "2  2016-03-14 00:00:00                   0        90480  2016-04-05 12:47:46   \n",
       "\n",
       "     date_crawled_new  \n",
       "0 2016-03-24 11:52:17  \n",
       "1 2016-03-24 10:58:45  \n",
       "2 2016-03-14 12:52:21  "
      ]
     },
     "execution_count": 11,
     "metadata": {},
     "output_type": "execute_result"
    }
   ],
   "source": [
    "df['date_crawled_new']=pd.to_datetime(df['date_crawled'], format='%Y-%m-%dT%H:%M:%S')\n",
    "#df['date_crawled'].transform(pd.to_datetime(df['date_crawled'], format='%Y-%m-%dT%H:%M:%S'))\n",
    "df.head(3)"
   ]
  },
  {
   "cell_type": "markdown",
   "metadata": {
    "id": "_RNnv77GCsn1"
   },
   "source": [
    "Далее посмотрим диапазон лет, месяцев, дней и т.д."
   ]
  },
  {
   "cell_type": "code",
   "execution_count": 12,
   "metadata": {
    "colab": {
     "base_uri": "https://localhost:8080/"
    },
    "id": "JFF1znVLA4_9",
    "outputId": "151ab37c-5e94-4a7e-e4db-ec96c58349b8"
   },
   "outputs": [
    {
     "name": "stdout",
     "output_type": "stream",
     "text": [
      "2016\n",
      "2016\n"
     ]
    }
   ],
   "source": [
    "#диапазон лет \n",
    "print(pd.DatetimeIndex(df['date_crawled_new']).year.min())\n",
    "print(pd.DatetimeIndex(df['date_crawled_new']).year.max())\n"
   ]
  },
  {
   "cell_type": "code",
   "execution_count": 13,
   "metadata": {
    "colab": {
     "base_uri": "https://localhost:8080/"
    },
    "id": "N_uQJXaaCazN",
    "outputId": "8dc6f826-3b6c-4510-c690-cb69e9c0c78d"
   },
   "outputs": [
    {
     "name": "stdout",
     "output_type": "stream",
     "text": [
      "3\n",
      "4\n"
     ]
    }
   ],
   "source": [
    "#диапазон месяцев \n",
    "print(pd.DatetimeIndex(df['date_crawled_new']).month.min())\n",
    "print(pd.DatetimeIndex(df['date_crawled_new']).month.max())"
   ]
  },
  {
   "cell_type": "code",
   "execution_count": 14,
   "metadata": {
    "colab": {
     "base_uri": "https://localhost:8080/"
    },
    "id": "NR2Jy8YrG1Ew",
    "outputId": "9867b0c3-771a-4ff8-de06-db3a4bffdb13"
   },
   "outputs": [
    {
     "data": {
      "text/plain": [
       "Timedelta('33 days 00:30:36')"
      ]
     },
     "execution_count": 14,
     "metadata": {},
     "output_type": "execute_result"
    }
   ],
   "source": [
    "# диапазон дней\n",
    "df['date_crawled_new'].max() - df['date_crawled_new'].min()"
   ]
  },
  {
   "cell_type": "code",
   "execution_count": 15,
   "metadata": {
    "colab": {
     "base_uri": "https://localhost:8080/"
    },
    "id": "j5t5mE1xHYtp",
    "outputId": "35205e32-495c-44df-eb5d-ed4436d39e4b"
   },
   "outputs": [
    {
     "name": "stdout",
     "output_type": "stream",
     "text": [
      "2016-04-07 14:36:58\n",
      "2016-03-05 14:06:22\n"
     ]
    }
   ],
   "source": [
    "#диапазон дат\n",
    "print(df['date_crawled_new'].max())\n",
    "print(df['date_crawled_new'].min())"
   ]
  },
  {
   "cell_type": "markdown",
   "metadata": {
    "id": "DEMPUdz6C62E"
   },
   "source": [
    "Т.е. скачивания датируются мартом-апрелем 2016 г. и укладываются во временной диапазон 33 дня! Очень странный признак с точки зрения влияния на цену авто. \n",
    "\n",
    "Для верности посмотрим есть ли хоть какая-то зависимость цены авто от месяца скачивания анкеты."
   ]
  },
  {
   "cell_type": "code",
   "execution_count": 16,
   "metadata": {
    "colab": {
     "base_uri": "https://localhost:8080/",
     "height": 175
    },
    "id": "t-u_iLMaDXMl",
    "outputId": "78364a51-b81a-48b9-dde3-24dc31c464d2"
   },
   "outputs": [
    {
     "data": {
      "text/html": [
       "<div>\n",
       "<style scoped>\n",
       "    .dataframe tbody tr th:only-of-type {\n",
       "        vertical-align: middle;\n",
       "    }\n",
       "\n",
       "    .dataframe tbody tr th {\n",
       "        vertical-align: top;\n",
       "    }\n",
       "\n",
       "    .dataframe thead tr th {\n",
       "        text-align: left;\n",
       "    }\n",
       "\n",
       "    .dataframe thead tr:last-of-type th {\n",
       "        text-align: right;\n",
       "    }\n",
       "</style>\n",
       "<table border=\"1\" class=\"dataframe\">\n",
       "  <thead>\n",
       "    <tr>\n",
       "      <th></th>\n",
       "      <th>count</th>\n",
       "      <th>mean</th>\n",
       "      <th>median</th>\n",
       "    </tr>\n",
       "    <tr>\n",
       "      <th></th>\n",
       "      <th>price</th>\n",
       "      <th>price</th>\n",
       "      <th>price</th>\n",
       "    </tr>\n",
       "    <tr>\n",
       "      <th>month</th>\n",
       "      <th></th>\n",
       "      <th></th>\n",
       "      <th></th>\n",
       "    </tr>\n",
       "  </thead>\n",
       "  <tbody>\n",
       "    <tr>\n",
       "      <th>3</th>\n",
       "      <td>296824</td>\n",
       "      <td>4383.801040</td>\n",
       "      <td>2700</td>\n",
       "    </tr>\n",
       "    <tr>\n",
       "      <th>4</th>\n",
       "      <td>57545</td>\n",
       "      <td>4586.130593</td>\n",
       "      <td>2899</td>\n",
       "    </tr>\n",
       "  </tbody>\n",
       "</table>\n",
       "</div>"
      ],
      "text/plain": [
       "        count         mean median\n",
       "        price        price  price\n",
       "month                            \n",
       "3      296824  4383.801040   2700\n",
       "4       57545  4586.130593   2899"
      ]
     },
     "execution_count": 16,
     "metadata": {},
     "output_type": "execute_result"
    }
   ],
   "source": [
    "df1 = pd.DataFrame(columns=['price','month'])\n",
    "df1['price'] = df['price']\n",
    "df1['month'] = pd.DatetimeIndex(df['date_crawled_new']).month\n",
    "#df1.head()\n",
    "pd.pivot_table(df1, values='price', index='month', columns=None, aggfunc=['count','mean','median'])#, sort=True)"
   ]
  },
  {
   "cell_type": "markdown",
   "metadata": {
    "id": "aytdwtqYGKcW"
   },
   "source": [
    "Понятнее не стало. Принимая во внимание, что признак \"дата скачивания анкеты из базы\" __('date_crawled')__ имеет невнятное значение (кто скачивал? из какой базы? какую анкету? и т.п.) и невнятную временную фрагментацию, целесообразно из обучающего набора данных этот признак исключить. Соответсвенно, и искусственно добавленный столбец __'date_crawled_new'__ также следует удалить."
   ]
  },
  {
   "cell_type": "markdown",
   "metadata": {
    "id": "2cFvze7_JTOd"
   },
   "source": [
    "Продолжим"
   ]
  },
  {
   "cell_type": "markdown",
   "metadata": {
    "id": "Qt3OTCfarRCF"
   },
   "source": [
    "#### 1 \"price\""
   ]
  },
  {
   "cell_type": "code",
   "execution_count": 17,
   "metadata": {
    "colab": {
     "base_uri": "https://localhost:8080/",
     "height": 683
    },
    "id": "sZTl_B_NXHiF",
    "outputId": "702545ec-f2d5-4428-a20a-1b9b6c618191"
   },
   "outputs": [
    {
     "name": "stdout",
     "output_type": "stream",
     "text": [
      "\u001b[34m \n",
      "Признак: \"price\"\n",
      "\u001b[31m \n",
      "Пропусков  0.0  %\n",
      "---------------------------------------------------------------\n",
      "\u001b[30m \n",
      "count    354369.000000\n",
      "mean       4416.656776\n",
      "std        4514.158514\n",
      "min           0.000000\n",
      "25%        1050.000000\n",
      "50%        2700.000000\n",
      "75%        6400.000000\n",
      "max       20000.000000\n",
      "Name: price, dtype: float64\n"
     ]
    }
   ],
   "source": [
    "char(1)"
   ]
  },
  {
   "cell_type": "markdown",
   "metadata": {
    "id": "gQogrUIXOSeE"
   },
   "source": [
    "Странные авто за 0 евро! Может \"продавцы\" перепутали \"отдам в хорошие руки\" и \"продажа авто\"?! Но аномальных цен нет. Продолжим."
   ]
  },
  {
   "cell_type": "code",
   "execution_count": 18,
   "metadata": {},
   "outputs": [
    {
     "data": {
      "text/plain": [
       "12112"
      ]
     },
     "execution_count": 18,
     "metadata": {},
     "output_type": "execute_result"
    }
   ],
   "source": [
    "df.query('price<=10')['price'].count()"
   ]
  },
  {
   "cell_type": "markdown",
   "metadata": {
    "id": "kaSTzi4grWRE"
   },
   "source": [
    "#### 3 \"registration_year\""
   ]
  },
  {
   "cell_type": "code",
   "execution_count": 19,
   "metadata": {
    "colab": {
     "base_uri": "https://localhost:8080/",
     "height": 683
    },
    "id": "Y-PR4b3gXSuX",
    "outputId": "e22043e0-441e-46b3-8569-79734906f776"
   },
   "outputs": [
    {
     "name": "stdout",
     "output_type": "stream",
     "text": [
      "\u001b[34m \n",
      "Признак: \"registration_year\"\n",
      "\u001b[31m \n",
      "Пропусков  0.0  %\n",
      "---------------------------------------------------------------\n",
      "\u001b[30m \n",
      "count    354369.000000\n",
      "mean       2004.234448\n",
      "std          90.227958\n",
      "min        1000.000000\n",
      "25%        1999.000000\n",
      "50%        2003.000000\n",
      "75%        2008.000000\n",
      "max        9999.000000\n",
      "Name: registration_year, dtype: float64\n"
     ]
    }
   ],
   "source": [
    "char(3)"
   ]
  },
  {
   "cell_type": "markdown",
   "metadata": {
    "id": "oel_1Vp4XYhl"
   },
   "source": [
    "Авто из будущего!!!  А еще авто из раннего средневековья!!! До Леонардо!!!Интересено, сколько за них просят?\n",
    "\n",
    "Не будем фантазерами: машины выпуска ранее 1950 г. это или хлам или раритет. На них ценообразование особенное. А машины после 2022 г. еще не выпустили. Так и отфильтруем."
   ]
  },
  {
   "cell_type": "code",
   "execution_count": 20,
   "metadata": {
    "colab": {
     "base_uri": "https://localhost:8080/",
     "height": 834
    },
    "id": "kyxJAVRRXoXn",
    "outputId": "6d2d011e-678b-4aae-c748-4b6ecc44b845"
   },
   "outputs": [
    {
     "data": {
      "text/html": [
       "<div>\n",
       "<style scoped>\n",
       "    .dataframe tbody tr th:only-of-type {\n",
       "        vertical-align: middle;\n",
       "    }\n",
       "\n",
       "    .dataframe tbody tr th {\n",
       "        vertical-align: top;\n",
       "    }\n",
       "\n",
       "    .dataframe thead th {\n",
       "        text-align: right;\n",
       "    }\n",
       "</style>\n",
       "<table border=\"1\" class=\"dataframe\">\n",
       "  <thead>\n",
       "    <tr style=\"text-align: right;\">\n",
       "      <th></th>\n",
       "      <th>date_crawled</th>\n",
       "      <th>price</th>\n",
       "      <th>vehicle_type</th>\n",
       "      <th>registration_year</th>\n",
       "      <th>gear_box</th>\n",
       "      <th>power</th>\n",
       "      <th>model</th>\n",
       "      <th>kilometer</th>\n",
       "      <th>registration_month</th>\n",
       "      <th>fuel_type</th>\n",
       "      <th>brand</th>\n",
       "      <th>not_repaired</th>\n",
       "      <th>date_created</th>\n",
       "      <th>number_of_pictures</th>\n",
       "      <th>postal_code</th>\n",
       "      <th>last_seen</th>\n",
       "      <th>date_crawled_new</th>\n",
       "    </tr>\n",
       "  </thead>\n",
       "  <tbody>\n",
       "    <tr>\n",
       "      <th>12946</th>\n",
       "      <td>2016-03-29 18:39:40</td>\n",
       "      <td>49</td>\n",
       "      <td>NaN</td>\n",
       "      <td>5000</td>\n",
       "      <td>NaN</td>\n",
       "      <td>0</td>\n",
       "      <td>golf</td>\n",
       "      <td>5000</td>\n",
       "      <td>12</td>\n",
       "      <td>NaN</td>\n",
       "      <td>volkswagen</td>\n",
       "      <td>NaN</td>\n",
       "      <td>2016-03-29 00:00:00</td>\n",
       "      <td>0</td>\n",
       "      <td>74523</td>\n",
       "      <td>2016-04-06 04:16:14</td>\n",
       "      <td>2016-03-29 18:39:40</td>\n",
       "    </tr>\n",
       "    <tr>\n",
       "      <th>15147</th>\n",
       "      <td>2016-03-14 00:52:02</td>\n",
       "      <td>0</td>\n",
       "      <td>NaN</td>\n",
       "      <td>9999</td>\n",
       "      <td>NaN</td>\n",
       "      <td>0</td>\n",
       "      <td>NaN</td>\n",
       "      <td>10000</td>\n",
       "      <td>0</td>\n",
       "      <td>NaN</td>\n",
       "      <td>sonstige_autos</td>\n",
       "      <td>NaN</td>\n",
       "      <td>2016-03-13 00:00:00</td>\n",
       "      <td>0</td>\n",
       "      <td>32689</td>\n",
       "      <td>2016-03-21 23:46:46</td>\n",
       "      <td>2016-03-14 00:52:02</td>\n",
       "    </tr>\n",
       "    <tr>\n",
       "      <th>15870</th>\n",
       "      <td>2016-04-02 11:55:48</td>\n",
       "      <td>1700</td>\n",
       "      <td>NaN</td>\n",
       "      <td>3200</td>\n",
       "      <td>NaN</td>\n",
       "      <td>0</td>\n",
       "      <td>NaN</td>\n",
       "      <td>5000</td>\n",
       "      <td>0</td>\n",
       "      <td>NaN</td>\n",
       "      <td>sonstige_autos</td>\n",
       "      <td>NaN</td>\n",
       "      <td>2016-04-02 00:00:00</td>\n",
       "      <td>0</td>\n",
       "      <td>33649</td>\n",
       "      <td>2016-04-06 09:46:13</td>\n",
       "      <td>2016-04-02 11:55:48</td>\n",
       "    </tr>\n",
       "    <tr>\n",
       "      <th>17271</th>\n",
       "      <td>2016-03-23 16:43:29</td>\n",
       "      <td>700</td>\n",
       "      <td>NaN</td>\n",
       "      <td>9999</td>\n",
       "      <td>NaN</td>\n",
       "      <td>0</td>\n",
       "      <td>other</td>\n",
       "      <td>10000</td>\n",
       "      <td>0</td>\n",
       "      <td>NaN</td>\n",
       "      <td>opel</td>\n",
       "      <td>NaN</td>\n",
       "      <td>2016-03-23 00:00:00</td>\n",
       "      <td>0</td>\n",
       "      <td>21769</td>\n",
       "      <td>2016-04-05 20:16:15</td>\n",
       "      <td>2016-03-23 16:43:29</td>\n",
       "    </tr>\n",
       "    <tr>\n",
       "      <th>17346</th>\n",
       "      <td>2016-03-06 16:06:20</td>\n",
       "      <td>6500</td>\n",
       "      <td>NaN</td>\n",
       "      <td>8888</td>\n",
       "      <td>NaN</td>\n",
       "      <td>0</td>\n",
       "      <td>NaN</td>\n",
       "      <td>10000</td>\n",
       "      <td>0</td>\n",
       "      <td>NaN</td>\n",
       "      <td>sonstige_autos</td>\n",
       "      <td>NaN</td>\n",
       "      <td>2016-03-06 00:00:00</td>\n",
       "      <td>0</td>\n",
       "      <td>55262</td>\n",
       "      <td>2016-03-30 20:46:55</td>\n",
       "      <td>2016-03-06 16:06:20</td>\n",
       "    </tr>\n",
       "    <tr>\n",
       "      <th>...</th>\n",
       "      <td>...</td>\n",
       "      <td>...</td>\n",
       "      <td>...</td>\n",
       "      <td>...</td>\n",
       "      <td>...</td>\n",
       "      <td>...</td>\n",
       "      <td>...</td>\n",
       "      <td>...</td>\n",
       "      <td>...</td>\n",
       "      <td>...</td>\n",
       "      <td>...</td>\n",
       "      <td>...</td>\n",
       "      <td>...</td>\n",
       "      <td>...</td>\n",
       "      <td>...</td>\n",
       "      <td>...</td>\n",
       "      <td>...</td>\n",
       "    </tr>\n",
       "    <tr>\n",
       "      <th>334967</th>\n",
       "      <td>2016-03-20 17:53:51</td>\n",
       "      <td>12000</td>\n",
       "      <td>NaN</td>\n",
       "      <td>4000</td>\n",
       "      <td>NaN</td>\n",
       "      <td>500</td>\n",
       "      <td>golf</td>\n",
       "      <td>5000</td>\n",
       "      <td>0</td>\n",
       "      <td>NaN</td>\n",
       "      <td>volkswagen</td>\n",
       "      <td>no</td>\n",
       "      <td>2016-03-20 00:00:00</td>\n",
       "      <td>0</td>\n",
       "      <td>57392</td>\n",
       "      <td>2016-04-07 00:46:30</td>\n",
       "      <td>2016-03-20 17:53:51</td>\n",
       "    </tr>\n",
       "    <tr>\n",
       "      <th>335727</th>\n",
       "      <td>2016-03-09 07:01:27</td>\n",
       "      <td>0</td>\n",
       "      <td>NaN</td>\n",
       "      <td>7500</td>\n",
       "      <td>manual</td>\n",
       "      <td>0</td>\n",
       "      <td>other</td>\n",
       "      <td>10000</td>\n",
       "      <td>0</td>\n",
       "      <td>petrol</td>\n",
       "      <td>mini</td>\n",
       "      <td>no</td>\n",
       "      <td>2016-03-09 00:00:00</td>\n",
       "      <td>0</td>\n",
       "      <td>9669</td>\n",
       "      <td>2016-03-19 19:44:50</td>\n",
       "      <td>2016-03-09 07:01:27</td>\n",
       "    </tr>\n",
       "    <tr>\n",
       "      <th>338829</th>\n",
       "      <td>2016-03-24 19:49:36</td>\n",
       "      <td>50</td>\n",
       "      <td>NaN</td>\n",
       "      <td>3000</td>\n",
       "      <td>NaN</td>\n",
       "      <td>3000</td>\n",
       "      <td>golf</td>\n",
       "      <td>100000</td>\n",
       "      <td>6</td>\n",
       "      <td>NaN</td>\n",
       "      <td>volkswagen</td>\n",
       "      <td>yes</td>\n",
       "      <td>2016-03-24 00:00:00</td>\n",
       "      <td>0</td>\n",
       "      <td>23992</td>\n",
       "      <td>2016-04-03 13:17:57</td>\n",
       "      <td>2016-03-24 19:49:36</td>\n",
       "    </tr>\n",
       "    <tr>\n",
       "      <th>340548</th>\n",
       "      <td>2016-04-02 17:44:03</td>\n",
       "      <td>0</td>\n",
       "      <td>NaN</td>\n",
       "      <td>3500</td>\n",
       "      <td>manual</td>\n",
       "      <td>75</td>\n",
       "      <td>NaN</td>\n",
       "      <td>5000</td>\n",
       "      <td>3</td>\n",
       "      <td>petrol</td>\n",
       "      <td>sonstige_autos</td>\n",
       "      <td>NaN</td>\n",
       "      <td>2016-04-02 00:00:00</td>\n",
       "      <td>0</td>\n",
       "      <td>96465</td>\n",
       "      <td>2016-04-04 15:17:51</td>\n",
       "      <td>2016-04-02 17:44:03</td>\n",
       "    </tr>\n",
       "    <tr>\n",
       "      <th>341791</th>\n",
       "      <td>2016-03-28 17:37:30</td>\n",
       "      <td>1</td>\n",
       "      <td>NaN</td>\n",
       "      <td>3000</td>\n",
       "      <td>NaN</td>\n",
       "      <td>0</td>\n",
       "      <td>zafira</td>\n",
       "      <td>5000</td>\n",
       "      <td>0</td>\n",
       "      <td>NaN</td>\n",
       "      <td>opel</td>\n",
       "      <td>NaN</td>\n",
       "      <td>2016-03-28 00:00:00</td>\n",
       "      <td>0</td>\n",
       "      <td>26624</td>\n",
       "      <td>2016-04-02 22:17:49</td>\n",
       "      <td>2016-03-28 17:37:30</td>\n",
       "    </tr>\n",
       "  </tbody>\n",
       "</table>\n",
       "<p>105 rows × 17 columns</p>\n",
       "</div>"
      ],
      "text/plain": [
       "               date_crawled  price vehicle_type  registration_year gear_box  \\\n",
       "12946   2016-03-29 18:39:40     49          NaN               5000      NaN   \n",
       "15147   2016-03-14 00:52:02      0          NaN               9999      NaN   \n",
       "15870   2016-04-02 11:55:48   1700          NaN               3200      NaN   \n",
       "17271   2016-03-23 16:43:29    700          NaN               9999      NaN   \n",
       "17346   2016-03-06 16:06:20   6500          NaN               8888      NaN   \n",
       "...                     ...    ...          ...                ...      ...   \n",
       "334967  2016-03-20 17:53:51  12000          NaN               4000      NaN   \n",
       "335727  2016-03-09 07:01:27      0          NaN               7500   manual   \n",
       "338829  2016-03-24 19:49:36     50          NaN               3000      NaN   \n",
       "340548  2016-04-02 17:44:03      0          NaN               3500   manual   \n",
       "341791  2016-03-28 17:37:30      1          NaN               3000      NaN   \n",
       "\n",
       "        power   model  kilometer  registration_month fuel_type  \\\n",
       "12946       0    golf       5000                  12       NaN   \n",
       "15147       0     NaN      10000                   0       NaN   \n",
       "15870       0     NaN       5000                   0       NaN   \n",
       "17271       0   other      10000                   0       NaN   \n",
       "17346       0     NaN      10000                   0       NaN   \n",
       "...       ...     ...        ...                 ...       ...   \n",
       "334967    500    golf       5000                   0       NaN   \n",
       "335727      0   other      10000                   0    petrol   \n",
       "338829   3000    golf     100000                   6       NaN   \n",
       "340548     75     NaN       5000                   3    petrol   \n",
       "341791      0  zafira       5000                   0       NaN   \n",
       "\n",
       "                 brand not_repaired         date_created  number_of_pictures  \\\n",
       "12946       volkswagen          NaN  2016-03-29 00:00:00                   0   \n",
       "15147   sonstige_autos          NaN  2016-03-13 00:00:00                   0   \n",
       "15870   sonstige_autos          NaN  2016-04-02 00:00:00                   0   \n",
       "17271             opel          NaN  2016-03-23 00:00:00                   0   \n",
       "17346   sonstige_autos          NaN  2016-03-06 00:00:00                   0   \n",
       "...                ...          ...                  ...                 ...   \n",
       "334967      volkswagen           no  2016-03-20 00:00:00                   0   \n",
       "335727            mini           no  2016-03-09 00:00:00                   0   \n",
       "338829      volkswagen          yes  2016-03-24 00:00:00                   0   \n",
       "340548  sonstige_autos          NaN  2016-04-02 00:00:00                   0   \n",
       "341791            opel          NaN  2016-03-28 00:00:00                   0   \n",
       "\n",
       "        postal_code            last_seen    date_crawled_new  \n",
       "12946         74523  2016-04-06 04:16:14 2016-03-29 18:39:40  \n",
       "15147         32689  2016-03-21 23:46:46 2016-03-14 00:52:02  \n",
       "15870         33649  2016-04-06 09:46:13 2016-04-02 11:55:48  \n",
       "17271         21769  2016-04-05 20:16:15 2016-03-23 16:43:29  \n",
       "17346         55262  2016-03-30 20:46:55 2016-03-06 16:06:20  \n",
       "...             ...                  ...                 ...  \n",
       "334967        57392  2016-04-07 00:46:30 2016-03-20 17:53:51  \n",
       "335727         9669  2016-03-19 19:44:50 2016-03-09 07:01:27  \n",
       "338829        23992  2016-04-03 13:17:57 2016-03-24 19:49:36  \n",
       "340548        96465  2016-04-04 15:17:51 2016-04-02 17:44:03  \n",
       "341791        26624  2016-04-02 22:17:49 2016-03-28 17:37:30  \n",
       "\n",
       "[105 rows x 17 columns]"
      ]
     },
     "execution_count": 20,
     "metadata": {},
     "output_type": "execute_result"
    }
   ],
   "source": [
    "# авто из будущего\n",
    "df[df['registration_year']>2022]#['gear_box'].count()"
   ]
  },
  {
   "cell_type": "markdown",
   "metadata": {
    "id": "2uohUyLsX925"
   },
   "source": [
    "Их аж 105 штук!!! Во многих не указана модель. Цены странные. Пробег одинаковый. Кузов и коробка передач не указаны. __Похоже на \"мусор\". Удалим!__"
   ]
  },
  {
   "cell_type": "code",
   "execution_count": 21,
   "metadata": {
    "id": "pX8krbqdaWmg"
   },
   "outputs": [],
   "source": [
    "df.drop(index=df[df['registration_year']>2022].index, inplace=True)"
   ]
  },
  {
   "cell_type": "code",
   "execution_count": 22,
   "metadata": {
    "colab": {
     "base_uri": "https://localhost:8080/",
     "height": 834
    },
    "id": "f1DL8MBrZKq0",
    "outputId": "f200451a-96ca-46b1-faa6-7c112eb8c38c"
   },
   "outputs": [
    {
     "data": {
      "text/html": [
       "<div>\n",
       "<style scoped>\n",
       "    .dataframe tbody tr th:only-of-type {\n",
       "        vertical-align: middle;\n",
       "    }\n",
       "\n",
       "    .dataframe tbody tr th {\n",
       "        vertical-align: top;\n",
       "    }\n",
       "\n",
       "    .dataframe thead th {\n",
       "        text-align: right;\n",
       "    }\n",
       "</style>\n",
       "<table border=\"1\" class=\"dataframe\">\n",
       "  <thead>\n",
       "    <tr style=\"text-align: right;\">\n",
       "      <th></th>\n",
       "      <th>date_crawled</th>\n",
       "      <th>price</th>\n",
       "      <th>vehicle_type</th>\n",
       "      <th>registration_year</th>\n",
       "      <th>gear_box</th>\n",
       "      <th>power</th>\n",
       "      <th>model</th>\n",
       "      <th>kilometer</th>\n",
       "      <th>registration_month</th>\n",
       "      <th>fuel_type</th>\n",
       "      <th>brand</th>\n",
       "      <th>not_repaired</th>\n",
       "      <th>date_created</th>\n",
       "      <th>number_of_pictures</th>\n",
       "      <th>postal_code</th>\n",
       "      <th>last_seen</th>\n",
       "      <th>date_crawled_new</th>\n",
       "    </tr>\n",
       "  </thead>\n",
       "  <tbody>\n",
       "    <tr>\n",
       "      <th>15</th>\n",
       "      <td>2016-03-11 21:39:15</td>\n",
       "      <td>450</td>\n",
       "      <td>small</td>\n",
       "      <td>1910</td>\n",
       "      <td>NaN</td>\n",
       "      <td>0</td>\n",
       "      <td>ka</td>\n",
       "      <td>5000</td>\n",
       "      <td>0</td>\n",
       "      <td>petrol</td>\n",
       "      <td>ford</td>\n",
       "      <td>NaN</td>\n",
       "      <td>2016-03-11 00:00:00</td>\n",
       "      <td>0</td>\n",
       "      <td>24148</td>\n",
       "      <td>2016-03-19 08:46:47</td>\n",
       "      <td>2016-03-11 21:39:15</td>\n",
       "    </tr>\n",
       "    <tr>\n",
       "      <th>622</th>\n",
       "      <td>2016-03-16 16:55:09</td>\n",
       "      <td>0</td>\n",
       "      <td>NaN</td>\n",
       "      <td>1111</td>\n",
       "      <td>NaN</td>\n",
       "      <td>0</td>\n",
       "      <td>NaN</td>\n",
       "      <td>5000</td>\n",
       "      <td>0</td>\n",
       "      <td>NaN</td>\n",
       "      <td>opel</td>\n",
       "      <td>NaN</td>\n",
       "      <td>2016-03-16 00:00:00</td>\n",
       "      <td>0</td>\n",
       "      <td>44628</td>\n",
       "      <td>2016-03-20 16:44:37</td>\n",
       "      <td>2016-03-16 16:55:09</td>\n",
       "    </tr>\n",
       "    <tr>\n",
       "      <th>1928</th>\n",
       "      <td>2016-03-25 15:58:21</td>\n",
       "      <td>7000</td>\n",
       "      <td>suv</td>\n",
       "      <td>1945</td>\n",
       "      <td>manual</td>\n",
       "      <td>48</td>\n",
       "      <td>other</td>\n",
       "      <td>150000</td>\n",
       "      <td>2</td>\n",
       "      <td>petrol</td>\n",
       "      <td>volkswagen</td>\n",
       "      <td>no</td>\n",
       "      <td>2016-03-25 00:00:00</td>\n",
       "      <td>0</td>\n",
       "      <td>58135</td>\n",
       "      <td>2016-03-25 15:58:21</td>\n",
       "      <td>2016-03-25 15:58:21</td>\n",
       "    </tr>\n",
       "    <tr>\n",
       "      <th>2273</th>\n",
       "      <td>2016-03-15 21:44:32</td>\n",
       "      <td>1800</td>\n",
       "      <td>convertible</td>\n",
       "      <td>1925</td>\n",
       "      <td>NaN</td>\n",
       "      <td>0</td>\n",
       "      <td>NaN</td>\n",
       "      <td>5000</td>\n",
       "      <td>1</td>\n",
       "      <td>NaN</td>\n",
       "      <td>sonstige_autos</td>\n",
       "      <td>no</td>\n",
       "      <td>2016-03-15 00:00:00</td>\n",
       "      <td>0</td>\n",
       "      <td>79288</td>\n",
       "      <td>2016-04-07 05:15:34</td>\n",
       "      <td>2016-03-15 21:44:32</td>\n",
       "    </tr>\n",
       "    <tr>\n",
       "      <th>6629</th>\n",
       "      <td>2016-04-02 13:47:16</td>\n",
       "      <td>0</td>\n",
       "      <td>small</td>\n",
       "      <td>1910</td>\n",
       "      <td>NaN</td>\n",
       "      <td>0</td>\n",
       "      <td>NaN</td>\n",
       "      <td>5000</td>\n",
       "      <td>1</td>\n",
       "      <td>other</td>\n",
       "      <td>sonstige_autos</td>\n",
       "      <td>NaN</td>\n",
       "      <td>2016-04-02 00:00:00</td>\n",
       "      <td>0</td>\n",
       "      <td>93105</td>\n",
       "      <td>2016-04-04 11:16:30</td>\n",
       "      <td>2016-04-02 13:47:16</td>\n",
       "    </tr>\n",
       "    <tr>\n",
       "      <th>...</th>\n",
       "      <td>...</td>\n",
       "      <td>...</td>\n",
       "      <td>...</td>\n",
       "      <td>...</td>\n",
       "      <td>...</td>\n",
       "      <td>...</td>\n",
       "      <td>...</td>\n",
       "      <td>...</td>\n",
       "      <td>...</td>\n",
       "      <td>...</td>\n",
       "      <td>...</td>\n",
       "      <td>...</td>\n",
       "      <td>...</td>\n",
       "      <td>...</td>\n",
       "      <td>...</td>\n",
       "      <td>...</td>\n",
       "      <td>...</td>\n",
       "    </tr>\n",
       "    <tr>\n",
       "      <th>346046</th>\n",
       "      <td>2016-03-26 16:45:28</td>\n",
       "      <td>18900</td>\n",
       "      <td>suv</td>\n",
       "      <td>1943</td>\n",
       "      <td>manual</td>\n",
       "      <td>60</td>\n",
       "      <td>other</td>\n",
       "      <td>150000</td>\n",
       "      <td>3</td>\n",
       "      <td>petrol</td>\n",
       "      <td>volkswagen</td>\n",
       "      <td>no</td>\n",
       "      <td>2016-03-26 00:00:00</td>\n",
       "      <td>0</td>\n",
       "      <td>51065</td>\n",
       "      <td>2016-03-26 16:45:28</td>\n",
       "      <td>2016-03-26 16:45:28</td>\n",
       "    </tr>\n",
       "    <tr>\n",
       "      <th>348830</th>\n",
       "      <td>2016-03-22 00:38:15</td>\n",
       "      <td>1</td>\n",
       "      <td>NaN</td>\n",
       "      <td>1000</td>\n",
       "      <td>NaN</td>\n",
       "      <td>1000</td>\n",
       "      <td>NaN</td>\n",
       "      <td>150000</td>\n",
       "      <td>0</td>\n",
       "      <td>NaN</td>\n",
       "      <td>sonstige_autos</td>\n",
       "      <td>NaN</td>\n",
       "      <td>2016-03-21 00:00:00</td>\n",
       "      <td>0</td>\n",
       "      <td>41472</td>\n",
       "      <td>2016-04-05 14:18:01</td>\n",
       "      <td>2016-03-22 00:38:15</td>\n",
       "    </tr>\n",
       "    <tr>\n",
       "      <th>351682</th>\n",
       "      <td>2016-03-12 00:57:39</td>\n",
       "      <td>11500</td>\n",
       "      <td>NaN</td>\n",
       "      <td>1800</td>\n",
       "      <td>NaN</td>\n",
       "      <td>16</td>\n",
       "      <td>other</td>\n",
       "      <td>5000</td>\n",
       "      <td>6</td>\n",
       "      <td>petrol</td>\n",
       "      <td>fiat</td>\n",
       "      <td>NaN</td>\n",
       "      <td>2016-03-11 00:00:00</td>\n",
       "      <td>0</td>\n",
       "      <td>16515</td>\n",
       "      <td>2016-04-05 19:47:27</td>\n",
       "      <td>2016-03-12 00:57:39</td>\n",
       "    </tr>\n",
       "    <tr>\n",
       "      <th>353531</th>\n",
       "      <td>2016-03-16 21:56:55</td>\n",
       "      <td>6000</td>\n",
       "      <td>sedan</td>\n",
       "      <td>1937</td>\n",
       "      <td>manual</td>\n",
       "      <td>38</td>\n",
       "      <td>other</td>\n",
       "      <td>5000</td>\n",
       "      <td>0</td>\n",
       "      <td>petrol</td>\n",
       "      <td>mercedes_benz</td>\n",
       "      <td>NaN</td>\n",
       "      <td>2016-03-16 00:00:00</td>\n",
       "      <td>0</td>\n",
       "      <td>23936</td>\n",
       "      <td>2016-03-30 18:47:41</td>\n",
       "      <td>2016-03-16 21:56:55</td>\n",
       "    </tr>\n",
       "    <tr>\n",
       "      <th>353961</th>\n",
       "      <td>2016-03-17 13:54:22</td>\n",
       "      <td>200</td>\n",
       "      <td>NaN</td>\n",
       "      <td>1910</td>\n",
       "      <td>NaN</td>\n",
       "      <td>0</td>\n",
       "      <td>NaN</td>\n",
       "      <td>5000</td>\n",
       "      <td>0</td>\n",
       "      <td>petrol</td>\n",
       "      <td>sonstige_autos</td>\n",
       "      <td>NaN</td>\n",
       "      <td>2016-03-17 00:00:00</td>\n",
       "      <td>0</td>\n",
       "      <td>42289</td>\n",
       "      <td>2016-03-31 22:46:47</td>\n",
       "      <td>2016-03-17 13:54:22</td>\n",
       "    </tr>\n",
       "  </tbody>\n",
       "</table>\n",
       "<p>246 rows × 17 columns</p>\n",
       "</div>"
      ],
      "text/plain": [
       "               date_crawled  price vehicle_type  registration_year gear_box  \\\n",
       "15      2016-03-11 21:39:15    450        small               1910      NaN   \n",
       "622     2016-03-16 16:55:09      0          NaN               1111      NaN   \n",
       "1928    2016-03-25 15:58:21   7000          suv               1945   manual   \n",
       "2273    2016-03-15 21:44:32   1800  convertible               1925      NaN   \n",
       "6629    2016-04-02 13:47:16      0        small               1910      NaN   \n",
       "...                     ...    ...          ...                ...      ...   \n",
       "346046  2016-03-26 16:45:28  18900          suv               1943   manual   \n",
       "348830  2016-03-22 00:38:15      1          NaN               1000      NaN   \n",
       "351682  2016-03-12 00:57:39  11500          NaN               1800      NaN   \n",
       "353531  2016-03-16 21:56:55   6000        sedan               1937   manual   \n",
       "353961  2016-03-17 13:54:22    200          NaN               1910      NaN   \n",
       "\n",
       "        power  model  kilometer  registration_month fuel_type           brand  \\\n",
       "15          0     ka       5000                   0    petrol            ford   \n",
       "622         0    NaN       5000                   0       NaN            opel   \n",
       "1928       48  other     150000                   2    petrol      volkswagen   \n",
       "2273        0    NaN       5000                   1       NaN  sonstige_autos   \n",
       "6629        0    NaN       5000                   1     other  sonstige_autos   \n",
       "...       ...    ...        ...                 ...       ...             ...   \n",
       "346046     60  other     150000                   3    petrol      volkswagen   \n",
       "348830   1000    NaN     150000                   0       NaN  sonstige_autos   \n",
       "351682     16  other       5000                   6    petrol            fiat   \n",
       "353531     38  other       5000                   0    petrol   mercedes_benz   \n",
       "353961      0    NaN       5000                   0    petrol  sonstige_autos   \n",
       "\n",
       "       not_repaired         date_created  number_of_pictures  postal_code  \\\n",
       "15              NaN  2016-03-11 00:00:00                   0        24148   \n",
       "622             NaN  2016-03-16 00:00:00                   0        44628   \n",
       "1928             no  2016-03-25 00:00:00                   0        58135   \n",
       "2273             no  2016-03-15 00:00:00                   0        79288   \n",
       "6629            NaN  2016-04-02 00:00:00                   0        93105   \n",
       "...             ...                  ...                 ...          ...   \n",
       "346046           no  2016-03-26 00:00:00                   0        51065   \n",
       "348830          NaN  2016-03-21 00:00:00                   0        41472   \n",
       "351682          NaN  2016-03-11 00:00:00                   0        16515   \n",
       "353531          NaN  2016-03-16 00:00:00                   0        23936   \n",
       "353961          NaN  2016-03-17 00:00:00                   0        42289   \n",
       "\n",
       "                  last_seen    date_crawled_new  \n",
       "15      2016-03-19 08:46:47 2016-03-11 21:39:15  \n",
       "622     2016-03-20 16:44:37 2016-03-16 16:55:09  \n",
       "1928    2016-03-25 15:58:21 2016-03-25 15:58:21  \n",
       "2273    2016-04-07 05:15:34 2016-03-15 21:44:32  \n",
       "6629    2016-04-04 11:16:30 2016-04-02 13:47:16  \n",
       "...                     ...                 ...  \n",
       "346046  2016-03-26 16:45:28 2016-03-26 16:45:28  \n",
       "348830  2016-04-05 14:18:01 2016-03-22 00:38:15  \n",
       "351682  2016-04-05 19:47:27 2016-03-12 00:57:39  \n",
       "353531  2016-03-30 18:47:41 2016-03-16 21:56:55  \n",
       "353961  2016-03-31 22:46:47 2016-03-17 13:54:22  \n",
       "\n",
       "[246 rows x 17 columns]"
      ]
     },
     "execution_count": 22,
     "metadata": {},
     "output_type": "execute_result"
    }
   ],
   "source": [
    "# авто из прошлого\n",
    "df[df['registration_year']<1950]#['registration_year'].count()"
   ]
  },
  {
   "cell_type": "markdown",
   "metadata": {
    "id": "7zwsLZRyZSOu"
   },
   "source": [
    "А этих даже больше, чем из будущего: 246! Не ну я знал, что Ford старая фирма. Но что на столько старая! С 1000 г. н.э. мондэо делает! И пробег всего 5000 км. __В мусорку!!!Всех!!!__"
   ]
  },
  {
   "cell_type": "code",
   "execution_count": 23,
   "metadata": {
    "id": "NIATw0Apa-M5"
   },
   "outputs": [],
   "source": [
    "df.drop(index=df[df['registration_year']<1950].index, inplace=True)\n",
    "df = df.reset_index(drop=True)"
   ]
  },
  {
   "cell_type": "markdown",
   "metadata": {
    "id": "CtIrycOkbPWF"
   },
   "source": [
    "Проверим, что получилось после зачистки."
   ]
  },
  {
   "cell_type": "code",
   "execution_count": 24,
   "metadata": {
    "colab": {
     "base_uri": "https://localhost:8080/",
     "height": 678
    },
    "id": "K6_yTfeUbH8w",
    "outputId": "4d7767f5-f723-4cf9-88a0-b48846e4156b"
   },
   "outputs": [
    {
     "name": "stdout",
     "output_type": "stream",
     "text": [
      "\u001b[34m \n",
      "Признак: \"registration_year\"\n",
      "\u001b[31m \n",
      "Пропусков  0.0  %\n",
      "---------------------------------------------------------------\n",
      "\u001b[30m \n",
      "count    354018.000000\n",
      "mean       2003.126301\n",
      "std           7.303350\n",
      "min        1950.000000\n",
      "25%        1999.000000\n",
      "50%        2003.000000\n",
      "75%        2008.000000\n",
      "max        2019.000000\n",
      "Name: registration_year, dtype: float64\n"
     ]
    }
   ],
   "source": [
    "char(3)"
   ]
  },
  {
   "cell_type": "markdown",
   "metadata": {
    "id": "CK5StE-vbXyw"
   },
   "source": [
    "Ну теперь более вменяемо выглядит. Продолжим."
   ]
  },
  {
   "cell_type": "markdown",
   "metadata": {
    "id": "cTPzBG62rcCr"
   },
   "source": [
    "\n",
    "\n",
    "#### 5 \"power\""
   ]
  },
  {
   "cell_type": "code",
   "execution_count": 25,
   "metadata": {
    "colab": {
     "base_uri": "https://localhost:8080/",
     "height": 683
    },
    "id": "nqaCp5DrdDwM",
    "outputId": "5fe2da4f-5314-4f03-fac2-4587b1cdf95d"
   },
   "outputs": [
    {
     "name": "stdout",
     "output_type": "stream",
     "text": [
      "\u001b[34m \n",
      "Признак: \"power\"\n",
      "\u001b[31m \n",
      "Пропусков  0.0  %\n",
      "---------------------------------------------------------------\n",
      "\u001b[30m \n",
      "count    354018.000000\n",
      "mean        110.119005\n",
      "std         189.557911\n",
      "min           0.000000\n",
      "25%          69.000000\n",
      "50%         105.000000\n",
      "75%         143.000000\n",
      "max       20000.000000\n",
      "Name: power, dtype: float64\n"
     ]
    }
   ],
   "source": [
    "char(5)"
   ]
  },
  {
   "cell_type": "markdown",
   "metadata": {
    "id": "xXyE9_k2dIF_"
   },
   "source": [
    "Авто без мотора и авто 20000 л.с.!!!Интересно. Опять же будем реалистами. Нас не интересуют авто без мотора (менее 20 л.с.) и мощностью более 500 л.с. Это всё про уникальные авто. Проверим."
   ]
  },
  {
   "cell_type": "code",
   "execution_count": 26,
   "metadata": {
    "colab": {
     "base_uri": "https://localhost:8080/",
     "height": 834
    },
    "id": "Z9mbMVy2dWQU",
    "outputId": "7ce7a958-35ae-4e07-ded2-927286c6b1cc"
   },
   "outputs": [
    {
     "data": {
      "text/html": [
       "<div>\n",
       "<style scoped>\n",
       "    .dataframe tbody tr th:only-of-type {\n",
       "        vertical-align: middle;\n",
       "    }\n",
       "\n",
       "    .dataframe tbody tr th {\n",
       "        vertical-align: top;\n",
       "    }\n",
       "\n",
       "    .dataframe thead th {\n",
       "        text-align: right;\n",
       "    }\n",
       "</style>\n",
       "<table border=\"1\" class=\"dataframe\">\n",
       "  <thead>\n",
       "    <tr style=\"text-align: right;\">\n",
       "      <th></th>\n",
       "      <th>date_crawled</th>\n",
       "      <th>price</th>\n",
       "      <th>vehicle_type</th>\n",
       "      <th>registration_year</th>\n",
       "      <th>gear_box</th>\n",
       "      <th>power</th>\n",
       "      <th>model</th>\n",
       "      <th>kilometer</th>\n",
       "      <th>registration_month</th>\n",
       "      <th>fuel_type</th>\n",
       "      <th>brand</th>\n",
       "      <th>not_repaired</th>\n",
       "      <th>date_created</th>\n",
       "      <th>number_of_pictures</th>\n",
       "      <th>postal_code</th>\n",
       "      <th>last_seen</th>\n",
       "      <th>date_crawled_new</th>\n",
       "    </tr>\n",
       "  </thead>\n",
       "  <tbody>\n",
       "    <tr>\n",
       "      <th>1814</th>\n",
       "      <td>2016-03-22 20:52:00</td>\n",
       "      <td>3200</td>\n",
       "      <td>small</td>\n",
       "      <td>2004</td>\n",
       "      <td>manual</td>\n",
       "      <td>1398</td>\n",
       "      <td>corolla</td>\n",
       "      <td>5000</td>\n",
       "      <td>6</td>\n",
       "      <td>petrol</td>\n",
       "      <td>toyota</td>\n",
       "      <td>no</td>\n",
       "      <td>2016-03-22 00:00:00</td>\n",
       "      <td>0</td>\n",
       "      <td>22043</td>\n",
       "      <td>2016-03-22 21:43:26</td>\n",
       "      <td>2016-03-22 20:52:00</td>\n",
       "    </tr>\n",
       "    <tr>\n",
       "      <th>2099</th>\n",
       "      <td>2016-03-21 11:55:22</td>\n",
       "      <td>0</td>\n",
       "      <td>sedan</td>\n",
       "      <td>1999</td>\n",
       "      <td>NaN</td>\n",
       "      <td>1799</td>\n",
       "      <td>vectra</td>\n",
       "      <td>150000</td>\n",
       "      <td>1</td>\n",
       "      <td>petrol</td>\n",
       "      <td>opel</td>\n",
       "      <td>yes</td>\n",
       "      <td>2016-03-21 00:00:00</td>\n",
       "      <td>0</td>\n",
       "      <td>1723</td>\n",
       "      <td>2016-04-04 04:49:06</td>\n",
       "      <td>2016-03-21 11:55:22</td>\n",
       "    </tr>\n",
       "    <tr>\n",
       "      <th>3742</th>\n",
       "      <td>2016-03-21 14:48:31</td>\n",
       "      <td>0</td>\n",
       "      <td>NaN</td>\n",
       "      <td>2017</td>\n",
       "      <td>manual</td>\n",
       "      <td>750</td>\n",
       "      <td>NaN</td>\n",
       "      <td>150000</td>\n",
       "      <td>8</td>\n",
       "      <td>petrol</td>\n",
       "      <td>smart</td>\n",
       "      <td>no</td>\n",
       "      <td>2016-03-21 00:00:00</td>\n",
       "      <td>0</td>\n",
       "      <td>49356</td>\n",
       "      <td>2016-03-24 03:44:59</td>\n",
       "      <td>2016-03-21 14:48:31</td>\n",
       "    </tr>\n",
       "    <tr>\n",
       "      <th>4056</th>\n",
       "      <td>2016-04-03 20:31:00</td>\n",
       "      <td>3100</td>\n",
       "      <td>sedan</td>\n",
       "      <td>2005</td>\n",
       "      <td>manual</td>\n",
       "      <td>953</td>\n",
       "      <td>colt</td>\n",
       "      <td>150000</td>\n",
       "      <td>4</td>\n",
       "      <td>gasoline</td>\n",
       "      <td>mitsubishi</td>\n",
       "      <td>no</td>\n",
       "      <td>2016-04-03 00:00:00</td>\n",
       "      <td>0</td>\n",
       "      <td>60326</td>\n",
       "      <td>2016-04-07 14:56:46</td>\n",
       "      <td>2016-04-03 20:31:00</td>\n",
       "    </tr>\n",
       "    <tr>\n",
       "      <th>5324</th>\n",
       "      <td>2016-03-29 19:44:48</td>\n",
       "      <td>500</td>\n",
       "      <td>wagon</td>\n",
       "      <td>1999</td>\n",
       "      <td>manual</td>\n",
       "      <td>1001</td>\n",
       "      <td>astra</td>\n",
       "      <td>150000</td>\n",
       "      <td>7</td>\n",
       "      <td>petrol</td>\n",
       "      <td>opel</td>\n",
       "      <td>NaN</td>\n",
       "      <td>2016-03-29 00:00:00</td>\n",
       "      <td>0</td>\n",
       "      <td>33154</td>\n",
       "      <td>2016-04-06 05:44:36</td>\n",
       "      <td>2016-03-29 19:44:48</td>\n",
       "    </tr>\n",
       "    <tr>\n",
       "      <th>...</th>\n",
       "      <td>...</td>\n",
       "      <td>...</td>\n",
       "      <td>...</td>\n",
       "      <td>...</td>\n",
       "      <td>...</td>\n",
       "      <td>...</td>\n",
       "      <td>...</td>\n",
       "      <td>...</td>\n",
       "      <td>...</td>\n",
       "      <td>...</td>\n",
       "      <td>...</td>\n",
       "      <td>...</td>\n",
       "      <td>...</td>\n",
       "      <td>...</td>\n",
       "      <td>...</td>\n",
       "      <td>...</td>\n",
       "      <td>...</td>\n",
       "    </tr>\n",
       "    <tr>\n",
       "      <th>348620</th>\n",
       "      <td>2016-04-04 18:53:25</td>\n",
       "      <td>250</td>\n",
       "      <td>small</td>\n",
       "      <td>1999</td>\n",
       "      <td>manual</td>\n",
       "      <td>1241</td>\n",
       "      <td>ypsilon</td>\n",
       "      <td>150000</td>\n",
       "      <td>5</td>\n",
       "      <td>petrol</td>\n",
       "      <td>lancia</td>\n",
       "      <td>yes</td>\n",
       "      <td>2016-04-04 00:00:00</td>\n",
       "      <td>0</td>\n",
       "      <td>28259</td>\n",
       "      <td>2016-04-04 18:53:25</td>\n",
       "      <td>2016-04-04 18:53:25</td>\n",
       "    </tr>\n",
       "    <tr>\n",
       "      <th>351598</th>\n",
       "      <td>2016-03-07 21:36:19</td>\n",
       "      <td>1500</td>\n",
       "      <td>bus</td>\n",
       "      <td>2001</td>\n",
       "      <td>manual</td>\n",
       "      <td>1001</td>\n",
       "      <td>zafira</td>\n",
       "      <td>5000</td>\n",
       "      <td>7</td>\n",
       "      <td>gasoline</td>\n",
       "      <td>opel</td>\n",
       "      <td>no</td>\n",
       "      <td>2016-03-07 00:00:00</td>\n",
       "      <td>0</td>\n",
       "      <td>66117</td>\n",
       "      <td>2016-03-09 12:47:08</td>\n",
       "      <td>2016-03-07 21:36:19</td>\n",
       "    </tr>\n",
       "    <tr>\n",
       "      <th>353144</th>\n",
       "      <td>2016-04-02 20:54:21</td>\n",
       "      <td>12500</td>\n",
       "      <td>NaN</td>\n",
       "      <td>2017</td>\n",
       "      <td>manual</td>\n",
       "      <td>2000</td>\n",
       "      <td>other</td>\n",
       "      <td>60000</td>\n",
       "      <td>0</td>\n",
       "      <td>gasoline</td>\n",
       "      <td>chrysler</td>\n",
       "      <td>no</td>\n",
       "      <td>2016-04-02 00:00:00</td>\n",
       "      <td>0</td>\n",
       "      <td>44145</td>\n",
       "      <td>2016-04-06 21:44:39</td>\n",
       "      <td>2016-04-02 20:54:21</td>\n",
       "    </tr>\n",
       "    <tr>\n",
       "      <th>353283</th>\n",
       "      <td>2016-03-23 23:55:21</td>\n",
       "      <td>2400</td>\n",
       "      <td>sedan</td>\n",
       "      <td>2007</td>\n",
       "      <td>manual</td>\n",
       "      <td>650</td>\n",
       "      <td>c2</td>\n",
       "      <td>150000</td>\n",
       "      <td>8</td>\n",
       "      <td>petrol</td>\n",
       "      <td>citroen</td>\n",
       "      <td>NaN</td>\n",
       "      <td>2016-03-23 00:00:00</td>\n",
       "      <td>0</td>\n",
       "      <td>45277</td>\n",
       "      <td>2016-03-27 01:15:17</td>\n",
       "      <td>2016-03-23 23:55:21</td>\n",
       "    </tr>\n",
       "    <tr>\n",
       "      <th>353909</th>\n",
       "      <td>2016-03-09 17:59:03</td>\n",
       "      <td>399</td>\n",
       "      <td>other</td>\n",
       "      <td>1994</td>\n",
       "      <td>NaN</td>\n",
       "      <td>1103</td>\n",
       "      <td>3er</td>\n",
       "      <td>150000</td>\n",
       "      <td>0</td>\n",
       "      <td>NaN</td>\n",
       "      <td>bmw</td>\n",
       "      <td>NaN</td>\n",
       "      <td>2016-03-09 00:00:00</td>\n",
       "      <td>0</td>\n",
       "      <td>56235</td>\n",
       "      <td>2016-03-17 09:17:08</td>\n",
       "      <td>2016-03-09 17:59:03</td>\n",
       "    </tr>\n",
       "  </tbody>\n",
       "</table>\n",
       "<p>445 rows × 17 columns</p>\n",
       "</div>"
      ],
      "text/plain": [
       "               date_crawled  price vehicle_type  registration_year gear_box  \\\n",
       "1814    2016-03-22 20:52:00   3200        small               2004   manual   \n",
       "2099    2016-03-21 11:55:22      0        sedan               1999      NaN   \n",
       "3742    2016-03-21 14:48:31      0          NaN               2017   manual   \n",
       "4056    2016-04-03 20:31:00   3100        sedan               2005   manual   \n",
       "5324    2016-03-29 19:44:48    500        wagon               1999   manual   \n",
       "...                     ...    ...          ...                ...      ...   \n",
       "348620  2016-04-04 18:53:25    250        small               1999   manual   \n",
       "351598  2016-03-07 21:36:19   1500          bus               2001   manual   \n",
       "353144  2016-04-02 20:54:21  12500          NaN               2017   manual   \n",
       "353283  2016-03-23 23:55:21   2400        sedan               2007   manual   \n",
       "353909  2016-03-09 17:59:03    399        other               1994      NaN   \n",
       "\n",
       "        power    model  kilometer  registration_month fuel_type       brand  \\\n",
       "1814     1398  corolla       5000                   6    petrol      toyota   \n",
       "2099     1799   vectra     150000                   1    petrol        opel   \n",
       "3742      750      NaN     150000                   8    petrol       smart   \n",
       "4056      953     colt     150000                   4  gasoline  mitsubishi   \n",
       "5324     1001    astra     150000                   7    petrol        opel   \n",
       "...       ...      ...        ...                 ...       ...         ...   \n",
       "348620   1241  ypsilon     150000                   5    petrol      lancia   \n",
       "351598   1001   zafira       5000                   7  gasoline        opel   \n",
       "353144   2000    other      60000                   0  gasoline    chrysler   \n",
       "353283    650       c2     150000                   8    petrol     citroen   \n",
       "353909   1103      3er     150000                   0       NaN         bmw   \n",
       "\n",
       "       not_repaired         date_created  number_of_pictures  postal_code  \\\n",
       "1814             no  2016-03-22 00:00:00                   0        22043   \n",
       "2099            yes  2016-03-21 00:00:00                   0         1723   \n",
       "3742             no  2016-03-21 00:00:00                   0        49356   \n",
       "4056             no  2016-04-03 00:00:00                   0        60326   \n",
       "5324            NaN  2016-03-29 00:00:00                   0        33154   \n",
       "...             ...                  ...                 ...          ...   \n",
       "348620          yes  2016-04-04 00:00:00                   0        28259   \n",
       "351598           no  2016-03-07 00:00:00                   0        66117   \n",
       "353144           no  2016-04-02 00:00:00                   0        44145   \n",
       "353283          NaN  2016-03-23 00:00:00                   0        45277   \n",
       "353909          NaN  2016-03-09 00:00:00                   0        56235   \n",
       "\n",
       "                  last_seen    date_crawled_new  \n",
       "1814    2016-03-22 21:43:26 2016-03-22 20:52:00  \n",
       "2099    2016-04-04 04:49:06 2016-03-21 11:55:22  \n",
       "3742    2016-03-24 03:44:59 2016-03-21 14:48:31  \n",
       "4056    2016-04-07 14:56:46 2016-04-03 20:31:00  \n",
       "5324    2016-04-06 05:44:36 2016-03-29 19:44:48  \n",
       "...                     ...                 ...  \n",
       "348620  2016-04-04 18:53:25 2016-04-04 18:53:25  \n",
       "351598  2016-03-09 12:47:08 2016-03-07 21:36:19  \n",
       "353144  2016-04-06 21:44:39 2016-04-02 20:54:21  \n",
       "353283  2016-03-27 01:15:17 2016-03-23 23:55:21  \n",
       "353909  2016-03-17 09:17:08 2016-03-09 17:59:03  \n",
       "\n",
       "[445 rows x 17 columns]"
      ]
     },
     "execution_count": 26,
     "metadata": {},
     "output_type": "execute_result"
    }
   ],
   "source": [
    "# авто супер повер\n",
    "df[df['power']>500]#['gear_box'].count()"
   ]
  },
  {
   "cell_type": "markdown",
   "metadata": {
    "id": "4AIzFQRdeDw8"
   },
   "source": [
    "Очень похоже, что народ путает мощность (л.с.) и объем двигателя (куб.см.). Можно заморочиться и попробовать восстановить, но у нас итак более 300 тыс. авто. 445 штук роли не играют. __Удаляем!__"
   ]
  },
  {
   "cell_type": "code",
   "execution_count": 27,
   "metadata": {
    "id": "dHXbwIq-eaZ5"
   },
   "outputs": [],
   "source": [
    "df.drop(index=df[df['power']>500].index, inplace=True)\n",
    "df = df.reset_index(drop=True)"
   ]
  },
  {
   "cell_type": "code",
   "execution_count": 28,
   "metadata": {
    "colab": {
     "base_uri": "https://localhost:8080/",
     "height": 834
    },
    "id": "82SlleDtenUx",
    "outputId": "f650af94-b7a0-4577-b294-e8242c7ae08b"
   },
   "outputs": [
    {
     "data": {
      "text/html": [
       "<div>\n",
       "<style scoped>\n",
       "    .dataframe tbody tr th:only-of-type {\n",
       "        vertical-align: middle;\n",
       "    }\n",
       "\n",
       "    .dataframe tbody tr th {\n",
       "        vertical-align: top;\n",
       "    }\n",
       "\n",
       "    .dataframe thead th {\n",
       "        text-align: right;\n",
       "    }\n",
       "</style>\n",
       "<table border=\"1\" class=\"dataframe\">\n",
       "  <thead>\n",
       "    <tr style=\"text-align: right;\">\n",
       "      <th></th>\n",
       "      <th>date_crawled</th>\n",
       "      <th>price</th>\n",
       "      <th>vehicle_type</th>\n",
       "      <th>registration_year</th>\n",
       "      <th>gear_box</th>\n",
       "      <th>power</th>\n",
       "      <th>model</th>\n",
       "      <th>kilometer</th>\n",
       "      <th>registration_month</th>\n",
       "      <th>fuel_type</th>\n",
       "      <th>brand</th>\n",
       "      <th>not_repaired</th>\n",
       "      <th>date_created</th>\n",
       "      <th>number_of_pictures</th>\n",
       "      <th>postal_code</th>\n",
       "      <th>last_seen</th>\n",
       "      <th>date_crawled_new</th>\n",
       "    </tr>\n",
       "  </thead>\n",
       "  <tbody>\n",
       "    <tr>\n",
       "      <th>0</th>\n",
       "      <td>2016-03-24 11:52:17</td>\n",
       "      <td>480</td>\n",
       "      <td>NaN</td>\n",
       "      <td>1993</td>\n",
       "      <td>manual</td>\n",
       "      <td>0</td>\n",
       "      <td>golf</td>\n",
       "      <td>150000</td>\n",
       "      <td>0</td>\n",
       "      <td>petrol</td>\n",
       "      <td>volkswagen</td>\n",
       "      <td>NaN</td>\n",
       "      <td>2016-03-24 00:00:00</td>\n",
       "      <td>0</td>\n",
       "      <td>70435</td>\n",
       "      <td>2016-04-07 03:16:57</td>\n",
       "      <td>2016-03-24 11:52:17</td>\n",
       "    </tr>\n",
       "    <tr>\n",
       "      <th>31</th>\n",
       "      <td>2016-03-15 20:59:01</td>\n",
       "      <td>245</td>\n",
       "      <td>sedan</td>\n",
       "      <td>1994</td>\n",
       "      <td>NaN</td>\n",
       "      <td>0</td>\n",
       "      <td>golf</td>\n",
       "      <td>150000</td>\n",
       "      <td>2</td>\n",
       "      <td>petrol</td>\n",
       "      <td>volkswagen</td>\n",
       "      <td>no</td>\n",
       "      <td>2016-03-15 00:00:00</td>\n",
       "      <td>0</td>\n",
       "      <td>44145</td>\n",
       "      <td>2016-03-17 18:17:43</td>\n",
       "      <td>2016-03-15 20:59:01</td>\n",
       "    </tr>\n",
       "    <tr>\n",
       "      <th>36</th>\n",
       "      <td>2016-03-28 17:50:15</td>\n",
       "      <td>1500</td>\n",
       "      <td>NaN</td>\n",
       "      <td>2016</td>\n",
       "      <td>NaN</td>\n",
       "      <td>0</td>\n",
       "      <td>kangoo</td>\n",
       "      <td>150000</td>\n",
       "      <td>1</td>\n",
       "      <td>gasoline</td>\n",
       "      <td>renault</td>\n",
       "      <td>no</td>\n",
       "      <td>2016-03-28 00:00:00</td>\n",
       "      <td>0</td>\n",
       "      <td>46483</td>\n",
       "      <td>2016-03-30 09:18:02</td>\n",
       "      <td>2016-03-28 17:50:15</td>\n",
       "    </tr>\n",
       "    <tr>\n",
       "      <th>39</th>\n",
       "      <td>2016-03-26 22:06:17</td>\n",
       "      <td>0</td>\n",
       "      <td>NaN</td>\n",
       "      <td>1990</td>\n",
       "      <td>NaN</td>\n",
       "      <td>0</td>\n",
       "      <td>corsa</td>\n",
       "      <td>150000</td>\n",
       "      <td>1</td>\n",
       "      <td>petrol</td>\n",
       "      <td>opel</td>\n",
       "      <td>NaN</td>\n",
       "      <td>2016-03-26 00:00:00</td>\n",
       "      <td>0</td>\n",
       "      <td>56412</td>\n",
       "      <td>2016-03-27 17:43:34</td>\n",
       "      <td>2016-03-26 22:06:17</td>\n",
       "    </tr>\n",
       "    <tr>\n",
       "      <th>53</th>\n",
       "      <td>2016-03-17 07:56:40</td>\n",
       "      <td>4700</td>\n",
       "      <td>wagon</td>\n",
       "      <td>2005</td>\n",
       "      <td>manual</td>\n",
       "      <td>0</td>\n",
       "      <td>signum</td>\n",
       "      <td>150000</td>\n",
       "      <td>0</td>\n",
       "      <td>NaN</td>\n",
       "      <td>opel</td>\n",
       "      <td>no</td>\n",
       "      <td>2016-03-17 00:00:00</td>\n",
       "      <td>0</td>\n",
       "      <td>88433</td>\n",
       "      <td>2016-04-04 04:17:32</td>\n",
       "      <td>2016-03-17 07:56:40</td>\n",
       "    </tr>\n",
       "    <tr>\n",
       "      <th>...</th>\n",
       "      <td>...</td>\n",
       "      <td>...</td>\n",
       "      <td>...</td>\n",
       "      <td>...</td>\n",
       "      <td>...</td>\n",
       "      <td>...</td>\n",
       "      <td>...</td>\n",
       "      <td>...</td>\n",
       "      <td>...</td>\n",
       "      <td>...</td>\n",
       "      <td>...</td>\n",
       "      <td>...</td>\n",
       "      <td>...</td>\n",
       "      <td>...</td>\n",
       "      <td>...</td>\n",
       "      <td>...</td>\n",
       "      <td>...</td>\n",
       "    </tr>\n",
       "    <tr>\n",
       "      <th>353550</th>\n",
       "      <td>2016-03-07 17:06:35</td>\n",
       "      <td>2600</td>\n",
       "      <td>NaN</td>\n",
       "      <td>2005</td>\n",
       "      <td>auto</td>\n",
       "      <td>0</td>\n",
       "      <td>c_klasse</td>\n",
       "      <td>150000</td>\n",
       "      <td>9</td>\n",
       "      <td>NaN</td>\n",
       "      <td>mercedes_benz</td>\n",
       "      <td>NaN</td>\n",
       "      <td>2016-03-07 00:00:00</td>\n",
       "      <td>0</td>\n",
       "      <td>61169</td>\n",
       "      <td>2016-03-08 21:28:38</td>\n",
       "      <td>2016-03-07 17:06:35</td>\n",
       "    </tr>\n",
       "    <tr>\n",
       "      <th>353564</th>\n",
       "      <td>2016-04-02 20:37:03</td>\n",
       "      <td>3999</td>\n",
       "      <td>wagon</td>\n",
       "      <td>2005</td>\n",
       "      <td>manual</td>\n",
       "      <td>3</td>\n",
       "      <td>3er</td>\n",
       "      <td>150000</td>\n",
       "      <td>5</td>\n",
       "      <td>gasoline</td>\n",
       "      <td>bmw</td>\n",
       "      <td>no</td>\n",
       "      <td>2016-04-02 00:00:00</td>\n",
       "      <td>0</td>\n",
       "      <td>81825</td>\n",
       "      <td>2016-04-06 20:47:12</td>\n",
       "      <td>2016-04-02 20:37:03</td>\n",
       "    </tr>\n",
       "    <tr>\n",
       "      <th>353567</th>\n",
       "      <td>2016-03-27 20:36:20</td>\n",
       "      <td>1150</td>\n",
       "      <td>bus</td>\n",
       "      <td>2000</td>\n",
       "      <td>manual</td>\n",
       "      <td>0</td>\n",
       "      <td>zafira</td>\n",
       "      <td>150000</td>\n",
       "      <td>3</td>\n",
       "      <td>petrol</td>\n",
       "      <td>opel</td>\n",
       "      <td>no</td>\n",
       "      <td>2016-03-27 00:00:00</td>\n",
       "      <td>0</td>\n",
       "      <td>26624</td>\n",
       "      <td>2016-03-29 10:17:23</td>\n",
       "      <td>2016-03-27 20:36:20</td>\n",
       "    </tr>\n",
       "    <tr>\n",
       "      <th>353568</th>\n",
       "      <td>2016-03-21 09:50:58</td>\n",
       "      <td>0</td>\n",
       "      <td>NaN</td>\n",
       "      <td>2005</td>\n",
       "      <td>manual</td>\n",
       "      <td>0</td>\n",
       "      <td>colt</td>\n",
       "      <td>150000</td>\n",
       "      <td>7</td>\n",
       "      <td>petrol</td>\n",
       "      <td>mitsubishi</td>\n",
       "      <td>yes</td>\n",
       "      <td>2016-03-21 00:00:00</td>\n",
       "      <td>0</td>\n",
       "      <td>2694</td>\n",
       "      <td>2016-03-21 10:42:49</td>\n",
       "      <td>2016-03-21 09:50:58</td>\n",
       "    </tr>\n",
       "    <tr>\n",
       "      <th>353569</th>\n",
       "      <td>2016-03-14 17:48:27</td>\n",
       "      <td>2200</td>\n",
       "      <td>NaN</td>\n",
       "      <td>2005</td>\n",
       "      <td>NaN</td>\n",
       "      <td>0</td>\n",
       "      <td>NaN</td>\n",
       "      <td>20000</td>\n",
       "      <td>1</td>\n",
       "      <td>NaN</td>\n",
       "      <td>sonstige_autos</td>\n",
       "      <td>NaN</td>\n",
       "      <td>2016-03-14 00:00:00</td>\n",
       "      <td>0</td>\n",
       "      <td>39576</td>\n",
       "      <td>2016-04-06 00:46:52</td>\n",
       "      <td>2016-03-14 17:48:27</td>\n",
       "    </tr>\n",
       "  </tbody>\n",
       "</table>\n",
       "<p>40396 rows × 17 columns</p>\n",
       "</div>"
      ],
      "text/plain": [
       "               date_crawled  price vehicle_type  registration_year gear_box  \\\n",
       "0       2016-03-24 11:52:17    480          NaN               1993   manual   \n",
       "31      2016-03-15 20:59:01    245        sedan               1994      NaN   \n",
       "36      2016-03-28 17:50:15   1500          NaN               2016      NaN   \n",
       "39      2016-03-26 22:06:17      0          NaN               1990      NaN   \n",
       "53      2016-03-17 07:56:40   4700        wagon               2005   manual   \n",
       "...                     ...    ...          ...                ...      ...   \n",
       "353550  2016-03-07 17:06:35   2600          NaN               2005     auto   \n",
       "353564  2016-04-02 20:37:03   3999        wagon               2005   manual   \n",
       "353567  2016-03-27 20:36:20   1150          bus               2000   manual   \n",
       "353568  2016-03-21 09:50:58      0          NaN               2005   manual   \n",
       "353569  2016-03-14 17:48:27   2200          NaN               2005      NaN   \n",
       "\n",
       "        power     model  kilometer  registration_month fuel_type  \\\n",
       "0           0      golf     150000                   0    petrol   \n",
       "31          0      golf     150000                   2    petrol   \n",
       "36          0    kangoo     150000                   1  gasoline   \n",
       "39          0     corsa     150000                   1    petrol   \n",
       "53          0    signum     150000                   0       NaN   \n",
       "...       ...       ...        ...                 ...       ...   \n",
       "353550      0  c_klasse     150000                   9       NaN   \n",
       "353564      3       3er     150000                   5  gasoline   \n",
       "353567      0    zafira     150000                   3    petrol   \n",
       "353568      0      colt     150000                   7    petrol   \n",
       "353569      0       NaN      20000                   1       NaN   \n",
       "\n",
       "                 brand not_repaired         date_created  number_of_pictures  \\\n",
       "0           volkswagen          NaN  2016-03-24 00:00:00                   0   \n",
       "31          volkswagen           no  2016-03-15 00:00:00                   0   \n",
       "36             renault           no  2016-03-28 00:00:00                   0   \n",
       "39                opel          NaN  2016-03-26 00:00:00                   0   \n",
       "53                opel           no  2016-03-17 00:00:00                   0   \n",
       "...                ...          ...                  ...                 ...   \n",
       "353550   mercedes_benz          NaN  2016-03-07 00:00:00                   0   \n",
       "353564             bmw           no  2016-04-02 00:00:00                   0   \n",
       "353567            opel           no  2016-03-27 00:00:00                   0   \n",
       "353568      mitsubishi          yes  2016-03-21 00:00:00                   0   \n",
       "353569  sonstige_autos          NaN  2016-03-14 00:00:00                   0   \n",
       "\n",
       "        postal_code            last_seen    date_crawled_new  \n",
       "0             70435  2016-04-07 03:16:57 2016-03-24 11:52:17  \n",
       "31            44145  2016-03-17 18:17:43 2016-03-15 20:59:01  \n",
       "36            46483  2016-03-30 09:18:02 2016-03-28 17:50:15  \n",
       "39            56412  2016-03-27 17:43:34 2016-03-26 22:06:17  \n",
       "53            88433  2016-04-04 04:17:32 2016-03-17 07:56:40  \n",
       "...             ...                  ...                 ...  \n",
       "353550        61169  2016-03-08 21:28:38 2016-03-07 17:06:35  \n",
       "353564        81825  2016-04-06 20:47:12 2016-04-02 20:37:03  \n",
       "353567        26624  2016-03-29 10:17:23 2016-03-27 20:36:20  \n",
       "353568         2694  2016-03-21 10:42:49 2016-03-21 09:50:58  \n",
       "353569        39576  2016-04-06 00:46:52 2016-03-14 17:48:27  \n",
       "\n",
       "[40396 rows x 17 columns]"
      ]
     },
     "execution_count": 28,
     "metadata": {},
     "output_type": "execute_result"
    }
   ],
   "source": [
    "# маломощные авто\n",
    "df[df['power']<=20]#['power'].mean()"
   ]
  },
  {
   "cell_type": "markdown",
   "metadata": {
    "id": "UfEBNWhGenUy"
   },
   "source": [
    "Ну тут всё гораздо хуже. Похоже что 40 тыс. \"продавцов\" решили не указывать мощность двигателя. Написали \"0\" и пр. \"белиберду\". Видимо решили, что итак данных хватает. Им то да. А нам то нет. С точки зрения обучения модели - это конечно не пропуски. Но очевидно же, что более 10% признака содержат \"мусор\". Попробуем обучить как есть. Но, если качество будет совсем уж неприемлемое, придется восстанавливать данные. __Удалять нельзя!__  \n",
    "\n",
    "Продолжим."
   ]
  },
  {
   "cell_type": "markdown",
   "metadata": {
    "id": "qNT8TAZKrfUM"
   },
   "source": [
    "\n",
    "#### 7 \"kilometer\""
   ]
  },
  {
   "cell_type": "code",
   "execution_count": 29,
   "metadata": {
    "colab": {
     "base_uri": "https://localhost:8080/",
     "height": 687
    },
    "id": "ihV6oP3_gWuL",
    "outputId": "e6cbecf1-e3ae-4971-cce1-e8296e79980f"
   },
   "outputs": [
    {
     "name": "stdout",
     "output_type": "stream",
     "text": [
      "\u001b[34m \n",
      "Признак: \"kilometer\"\n",
      "\u001b[31m \n",
      "Пропусков  0.0  %\n",
      "---------------------------------------------------------------\n",
      "\u001b[30m \n",
      "count    353573.000000\n",
      "mean     128310.023673\n",
      "std       37759.637025\n",
      "min        5000.000000\n",
      "25%      125000.000000\n",
      "50%      150000.000000\n",
      "75%      150000.000000\n",
      "max      150000.000000\n",
      "Name: kilometer, dtype: float64\n"
     ]
    }
   ],
   "source": [
    "char(7)"
   ]
  },
  {
   "cell_type": "markdown",
   "metadata": {
    "id": "ED6d69tFgdlt"
   },
   "source": [
    "Здесь поводов для подозрений нет. Хотя подавляющее большинство машин с \"хорошим таким\" пробегом.\n",
    "\n",
    "Двигаемся дальше."
   ]
  },
  {
   "cell_type": "markdown",
   "metadata": {
    "id": "4haRkTn2rh0p"
   },
   "source": [
    "#### 8 \"registration_month\""
   ]
  },
  {
   "cell_type": "code",
   "execution_count": 30,
   "metadata": {
    "colab": {
     "base_uri": "https://localhost:8080/",
     "height": 669
    },
    "id": "PwEeA04Mgw3X",
    "outputId": "3af2344c-e768-4ab6-fbac-aa37e851edea"
   },
   "outputs": [
    {
     "name": "stdout",
     "output_type": "stream",
     "text": [
      "\u001b[34m \n",
      "Признак: \"registration_month\"\n",
      "\u001b[31m \n",
      "Пропусков  0.0  %\n",
      "---------------------------------------------------------------\n",
      "\u001b[30m \n",
      "count    353573.000000\n",
      "mean          5.718856\n",
      "std           3.724559\n",
      "min           0.000000\n",
      "25%           3.000000\n",
      "50%           6.000000\n",
      "75%           9.000000\n",
      "max          12.000000\n",
      "Name: registration_month, dtype: float64\n"
     ]
    }
   ],
   "source": [
    "char(8)"
   ]
  },
  {
   "cell_type": "markdown",
   "metadata": {
    "id": "2FWC0nHsg3rl"
   },
   "source": [
    "Около 30 тыс. \"продавцев\" живет по своему календарю, где есть \"0-й\" месяц. Проверим."
   ]
  },
  {
   "cell_type": "code",
   "execution_count": 31,
   "metadata": {
    "colab": {
     "base_uri": "https://localhost:8080/",
     "height": 834
    },
    "id": "6nJLvA4OhFwb",
    "outputId": "f4585786-35e1-4ded-e541-4a705058ebc3"
   },
   "outputs": [
    {
     "data": {
      "text/html": [
       "<div>\n",
       "<style scoped>\n",
       "    .dataframe tbody tr th:only-of-type {\n",
       "        vertical-align: middle;\n",
       "    }\n",
       "\n",
       "    .dataframe tbody tr th {\n",
       "        vertical-align: top;\n",
       "    }\n",
       "\n",
       "    .dataframe thead th {\n",
       "        text-align: right;\n",
       "    }\n",
       "</style>\n",
       "<table border=\"1\" class=\"dataframe\">\n",
       "  <thead>\n",
       "    <tr style=\"text-align: right;\">\n",
       "      <th></th>\n",
       "      <th>date_crawled</th>\n",
       "      <th>price</th>\n",
       "      <th>vehicle_type</th>\n",
       "      <th>registration_year</th>\n",
       "      <th>gear_box</th>\n",
       "      <th>power</th>\n",
       "      <th>model</th>\n",
       "      <th>kilometer</th>\n",
       "      <th>registration_month</th>\n",
       "      <th>fuel_type</th>\n",
       "      <th>brand</th>\n",
       "      <th>not_repaired</th>\n",
       "      <th>date_created</th>\n",
       "      <th>number_of_pictures</th>\n",
       "      <th>postal_code</th>\n",
       "      <th>last_seen</th>\n",
       "      <th>date_crawled_new</th>\n",
       "    </tr>\n",
       "  </thead>\n",
       "  <tbody>\n",
       "    <tr>\n",
       "      <th>0</th>\n",
       "      <td>2016-03-24 11:52:17</td>\n",
       "      <td>480</td>\n",
       "      <td>NaN</td>\n",
       "      <td>1993</td>\n",
       "      <td>manual</td>\n",
       "      <td>0</td>\n",
       "      <td>golf</td>\n",
       "      <td>150000</td>\n",
       "      <td>0</td>\n",
       "      <td>petrol</td>\n",
       "      <td>volkswagen</td>\n",
       "      <td>NaN</td>\n",
       "      <td>2016-03-24 00:00:00</td>\n",
       "      <td>0</td>\n",
       "      <td>70435</td>\n",
       "      <td>2016-04-07 03:16:57</td>\n",
       "      <td>2016-03-24 11:52:17</td>\n",
       "    </tr>\n",
       "    <tr>\n",
       "      <th>9</th>\n",
       "      <td>2016-03-17 10:53:50</td>\n",
       "      <td>999</td>\n",
       "      <td>small</td>\n",
       "      <td>1998</td>\n",
       "      <td>manual</td>\n",
       "      <td>101</td>\n",
       "      <td>golf</td>\n",
       "      <td>150000</td>\n",
       "      <td>0</td>\n",
       "      <td>NaN</td>\n",
       "      <td>volkswagen</td>\n",
       "      <td>NaN</td>\n",
       "      <td>2016-03-17 00:00:00</td>\n",
       "      <td>0</td>\n",
       "      <td>27472</td>\n",
       "      <td>2016-03-31 17:17:06</td>\n",
       "      <td>2016-03-17 10:53:50</td>\n",
       "    </tr>\n",
       "    <tr>\n",
       "      <th>15</th>\n",
       "      <td>2016-04-01 12:46:46</td>\n",
       "      <td>300</td>\n",
       "      <td>NaN</td>\n",
       "      <td>2016</td>\n",
       "      <td>NaN</td>\n",
       "      <td>60</td>\n",
       "      <td>polo</td>\n",
       "      <td>150000</td>\n",
       "      <td>0</td>\n",
       "      <td>petrol</td>\n",
       "      <td>volkswagen</td>\n",
       "      <td>NaN</td>\n",
       "      <td>2016-04-01 00:00:00</td>\n",
       "      <td>0</td>\n",
       "      <td>38871</td>\n",
       "      <td>2016-04-01 12:46:46</td>\n",
       "      <td>2016-04-01 12:46:46</td>\n",
       "    </tr>\n",
       "    <tr>\n",
       "      <th>35</th>\n",
       "      <td>2016-03-11 11:50:37</td>\n",
       "      <td>1600</td>\n",
       "      <td>other</td>\n",
       "      <td>1991</td>\n",
       "      <td>manual</td>\n",
       "      <td>75</td>\n",
       "      <td>kadett</td>\n",
       "      <td>70000</td>\n",
       "      <td>0</td>\n",
       "      <td>NaN</td>\n",
       "      <td>opel</td>\n",
       "      <td>NaN</td>\n",
       "      <td>2016-03-11 00:00:00</td>\n",
       "      <td>0</td>\n",
       "      <td>2943</td>\n",
       "      <td>2016-04-07 03:46:09</td>\n",
       "      <td>2016-03-11 11:50:37</td>\n",
       "    </tr>\n",
       "    <tr>\n",
       "      <th>53</th>\n",
       "      <td>2016-03-17 07:56:40</td>\n",
       "      <td>4700</td>\n",
       "      <td>wagon</td>\n",
       "      <td>2005</td>\n",
       "      <td>manual</td>\n",
       "      <td>0</td>\n",
       "      <td>signum</td>\n",
       "      <td>150000</td>\n",
       "      <td>0</td>\n",
       "      <td>NaN</td>\n",
       "      <td>opel</td>\n",
       "      <td>no</td>\n",
       "      <td>2016-03-17 00:00:00</td>\n",
       "      <td>0</td>\n",
       "      <td>88433</td>\n",
       "      <td>2016-04-04 04:17:32</td>\n",
       "      <td>2016-03-17 07:56:40</td>\n",
       "    </tr>\n",
       "    <tr>\n",
       "      <th>...</th>\n",
       "      <td>...</td>\n",
       "      <td>...</td>\n",
       "      <td>...</td>\n",
       "      <td>...</td>\n",
       "      <td>...</td>\n",
       "      <td>...</td>\n",
       "      <td>...</td>\n",
       "      <td>...</td>\n",
       "      <td>...</td>\n",
       "      <td>...</td>\n",
       "      <td>...</td>\n",
       "      <td>...</td>\n",
       "      <td>...</td>\n",
       "      <td>...</td>\n",
       "      <td>...</td>\n",
       "      <td>...</td>\n",
       "      <td>...</td>\n",
       "    </tr>\n",
       "    <tr>\n",
       "      <th>353509</th>\n",
       "      <td>2016-04-03 13:46:24</td>\n",
       "      <td>3500</td>\n",
       "      <td>NaN</td>\n",
       "      <td>1995</td>\n",
       "      <td>NaN</td>\n",
       "      <td>0</td>\n",
       "      <td>polo</td>\n",
       "      <td>150000</td>\n",
       "      <td>0</td>\n",
       "      <td>NaN</td>\n",
       "      <td>volkswagen</td>\n",
       "      <td>NaN</td>\n",
       "      <td>2016-04-03 00:00:00</td>\n",
       "      <td>0</td>\n",
       "      <td>74579</td>\n",
       "      <td>2016-04-05 12:44:38</td>\n",
       "      <td>2016-04-03 13:46:24</td>\n",
       "    </tr>\n",
       "    <tr>\n",
       "      <th>353522</th>\n",
       "      <td>2016-03-15 19:57:11</td>\n",
       "      <td>400</td>\n",
       "      <td>wagon</td>\n",
       "      <td>1991</td>\n",
       "      <td>manual</td>\n",
       "      <td>0</td>\n",
       "      <td>legacy</td>\n",
       "      <td>150000</td>\n",
       "      <td>0</td>\n",
       "      <td>petrol</td>\n",
       "      <td>subaru</td>\n",
       "      <td>NaN</td>\n",
       "      <td>2016-03-15 00:00:00</td>\n",
       "      <td>0</td>\n",
       "      <td>24558</td>\n",
       "      <td>2016-03-19 15:49:00</td>\n",
       "      <td>2016-03-15 19:57:11</td>\n",
       "    </tr>\n",
       "    <tr>\n",
       "      <th>353530</th>\n",
       "      <td>2016-03-31 19:36:18</td>\n",
       "      <td>1300</td>\n",
       "      <td>small</td>\n",
       "      <td>1999</td>\n",
       "      <td>manual</td>\n",
       "      <td>75</td>\n",
       "      <td>2_reihe</td>\n",
       "      <td>125000</td>\n",
       "      <td>0</td>\n",
       "      <td>NaN</td>\n",
       "      <td>peugeot</td>\n",
       "      <td>NaN</td>\n",
       "      <td>2016-03-31 00:00:00</td>\n",
       "      <td>0</td>\n",
       "      <td>35102</td>\n",
       "      <td>2016-04-06 13:44:44</td>\n",
       "      <td>2016-03-31 19:36:18</td>\n",
       "    </tr>\n",
       "    <tr>\n",
       "      <th>353533</th>\n",
       "      <td>2016-03-30 20:55:30</td>\n",
       "      <td>350</td>\n",
       "      <td>small</td>\n",
       "      <td>1996</td>\n",
       "      <td>NaN</td>\n",
       "      <td>65</td>\n",
       "      <td>punto</td>\n",
       "      <td>150000</td>\n",
       "      <td>0</td>\n",
       "      <td>NaN</td>\n",
       "      <td>fiat</td>\n",
       "      <td>NaN</td>\n",
       "      <td>2016-03-30 00:00:00</td>\n",
       "      <td>0</td>\n",
       "      <td>25436</td>\n",
       "      <td>2016-04-07 13:50:41</td>\n",
       "      <td>2016-03-30 20:55:30</td>\n",
       "    </tr>\n",
       "    <tr>\n",
       "      <th>353541</th>\n",
       "      <td>2016-03-26 14:38:18</td>\n",
       "      <td>11500</td>\n",
       "      <td>sedan</td>\n",
       "      <td>2004</td>\n",
       "      <td>auto</td>\n",
       "      <td>445</td>\n",
       "      <td>7er</td>\n",
       "      <td>125000</td>\n",
       "      <td>0</td>\n",
       "      <td>petrol</td>\n",
       "      <td>bmw</td>\n",
       "      <td>NaN</td>\n",
       "      <td>2016-03-26 00:00:00</td>\n",
       "      <td>0</td>\n",
       "      <td>4107</td>\n",
       "      <td>2016-04-06 20:45:16</td>\n",
       "      <td>2016-03-26 14:38:18</td>\n",
       "    </tr>\n",
       "  </tbody>\n",
       "</table>\n",
       "<p>37064 rows × 17 columns</p>\n",
       "</div>"
      ],
      "text/plain": [
       "               date_crawled  price vehicle_type  registration_year gear_box  \\\n",
       "0       2016-03-24 11:52:17    480          NaN               1993   manual   \n",
       "9       2016-03-17 10:53:50    999        small               1998   manual   \n",
       "15      2016-04-01 12:46:46    300          NaN               2016      NaN   \n",
       "35      2016-03-11 11:50:37   1600        other               1991   manual   \n",
       "53      2016-03-17 07:56:40   4700        wagon               2005   manual   \n",
       "...                     ...    ...          ...                ...      ...   \n",
       "353509  2016-04-03 13:46:24   3500          NaN               1995      NaN   \n",
       "353522  2016-03-15 19:57:11    400        wagon               1991   manual   \n",
       "353530  2016-03-31 19:36:18   1300        small               1999   manual   \n",
       "353533  2016-03-30 20:55:30    350        small               1996      NaN   \n",
       "353541  2016-03-26 14:38:18  11500        sedan               2004     auto   \n",
       "\n",
       "        power    model  kilometer  registration_month fuel_type       brand  \\\n",
       "0           0     golf     150000                   0    petrol  volkswagen   \n",
       "9         101     golf     150000                   0       NaN  volkswagen   \n",
       "15         60     polo     150000                   0    petrol  volkswagen   \n",
       "35         75   kadett      70000                   0       NaN        opel   \n",
       "53          0   signum     150000                   0       NaN        opel   \n",
       "...       ...      ...        ...                 ...       ...         ...   \n",
       "353509      0     polo     150000                   0       NaN  volkswagen   \n",
       "353522      0   legacy     150000                   0    petrol      subaru   \n",
       "353530     75  2_reihe     125000                   0       NaN     peugeot   \n",
       "353533     65    punto     150000                   0       NaN        fiat   \n",
       "353541    445      7er     125000                   0    petrol         bmw   \n",
       "\n",
       "       not_repaired         date_created  number_of_pictures  postal_code  \\\n",
       "0               NaN  2016-03-24 00:00:00                   0        70435   \n",
       "9               NaN  2016-03-17 00:00:00                   0        27472   \n",
       "15              NaN  2016-04-01 00:00:00                   0        38871   \n",
       "35              NaN  2016-03-11 00:00:00                   0         2943   \n",
       "53               no  2016-03-17 00:00:00                   0        88433   \n",
       "...             ...                  ...                 ...          ...   \n",
       "353509          NaN  2016-04-03 00:00:00                   0        74579   \n",
       "353522          NaN  2016-03-15 00:00:00                   0        24558   \n",
       "353530          NaN  2016-03-31 00:00:00                   0        35102   \n",
       "353533          NaN  2016-03-30 00:00:00                   0        25436   \n",
       "353541          NaN  2016-03-26 00:00:00                   0         4107   \n",
       "\n",
       "                  last_seen    date_crawled_new  \n",
       "0       2016-04-07 03:16:57 2016-03-24 11:52:17  \n",
       "9       2016-03-31 17:17:06 2016-03-17 10:53:50  \n",
       "15      2016-04-01 12:46:46 2016-04-01 12:46:46  \n",
       "35      2016-04-07 03:46:09 2016-03-11 11:50:37  \n",
       "53      2016-04-04 04:17:32 2016-03-17 07:56:40  \n",
       "...                     ...                 ...  \n",
       "353509  2016-04-05 12:44:38 2016-04-03 13:46:24  \n",
       "353522  2016-03-19 15:49:00 2016-03-15 19:57:11  \n",
       "353530  2016-04-06 13:44:44 2016-03-31 19:36:18  \n",
       "353533  2016-04-07 13:50:41 2016-03-30 20:55:30  \n",
       "353541  2016-04-06 20:45:16 2016-03-26 14:38:18  \n",
       "\n",
       "[37064 rows x 17 columns]"
      ]
     },
     "execution_count": 31,
     "metadata": {},
     "output_type": "execute_result"
    }
   ],
   "source": [
    "# маломощные авто\n",
    "df[df['registration_month']==0]#['power'].mean()"
   ]
  },
  {
   "cell_type": "markdown",
   "metadata": {
    "id": "rRCmDIbFhZ2b"
   },
   "source": [
    "Ну да. Таких 37 тыс. Среди них и те, кто мощность двигателя указывать не любит. \n",
    "\n",
    "Удалять нельзя! Восстанавливать не понятно как. \n",
    "\n",
    "Тогда вопрос: а так уж важен месяц регистрации, если год регистрации, например, 1996-й? Да и вообще. О какой регистрации идет речь? \n",
    "\n",
    "Понятно, что месяц - это скорее категориальный признак. Но вдруг..."
   ]
  },
  {
   "cell_type": "code",
   "execution_count": 32,
   "metadata": {
    "colab": {
     "base_uri": "https://localhost:8080/"
    },
    "id": "MY9bJMHGiP11",
    "outputId": "e9109bec-c479-4357-e9f2-7423bde9a8d5"
   },
   "outputs": [
    {
     "data": {
      "text/plain": [
       "0.1103007457669738"
      ]
     },
     "execution_count": 32,
     "metadata": {},
     "output_type": "execute_result"
    }
   ],
   "source": [
    "df['price'].corr(df['registration_month'])"
   ]
  },
  {
   "cell_type": "markdown",
   "metadata": {
    "id": "gcuxIAQhiZ6Z"
   },
   "source": [
    "Ну не то чтобы совсем никакой корреляции. Но 0.11 - так себе корреляция, слабенькая. А как насчет года регистрации."
   ]
  },
  {
   "cell_type": "code",
   "execution_count": 33,
   "metadata": {
    "colab": {
     "base_uri": "https://localhost:8080/"
    },
    "id": "rzVheY2zillM",
    "outputId": "d5b93f18-8a10-4deb-869c-6185d1abd5a3"
   },
   "outputs": [
    {
     "data": {
      "text/plain": [
       "0.3798065737690396"
      ]
     },
     "execution_count": 33,
     "metadata": {},
     "output_type": "execute_result"
    }
   ],
   "source": [
    "df['price'].corr(df['registration_year'])"
   ]
  },
  {
   "cell_type": "markdown",
   "metadata": {
    "id": "gx6i3nG3iq9K"
   },
   "source": [
    "Вот тут уже очевидно сильнее. При таком раскладе есть основания признак \"месяц регистрации\" (__\"registration_month\"__)из рабочего датасета удалить. "
   ]
  },
  {
   "cell_type": "markdown",
   "metadata": {
    "id": "gyMZVe8XjpnG"
   },
   "source": [
    "Удаление всех избыточных признаков сделаем в конце раздела. А сейчас продолжим исследование признаков."
   ]
  },
  {
   "cell_type": "markdown",
   "metadata": {
    "id": "ler9pYyKrruw"
   },
   "source": [
    "#### 10 \"brand\""
   ]
  },
  {
   "cell_type": "code",
   "execution_count": 34,
   "metadata": {
    "colab": {
     "base_uri": "https://localhost:8080/"
    },
    "id": "QmG58mL_j1ue",
    "outputId": "83e58de9-6146-4cc6-a168-d0712b36fa90"
   },
   "outputs": [
    {
     "name": "stdout",
     "output_type": "stream",
     "text": [
      "\u001b[34m \n",
      "Признак: \"brand\"\n",
      "\u001b[31m \n",
      "Пропусков  0.0  %\n",
      "---------------------------------------------------------------\n",
      "\u001b[30m \n",
      "Уникальных значений признака:  40\n",
      "---------------------------------------------------------------\n",
      "['volkswagen' 'audi' 'jeep' 'skoda' 'bmw' 'peugeot' 'ford' 'mazda'\n",
      " 'nissan' 'renault' 'mercedes_benz' 'opel' 'seat' 'citroen' 'honda' 'fiat'\n",
      " 'mini' 'smart' 'hyundai' 'sonstige_autos' 'alfa_romeo' 'subaru' 'volvo'\n",
      " 'mitsubishi' 'kia' 'suzuki' 'lancia' 'toyota' 'chevrolet' 'dacia'\n",
      " 'daihatsu' 'trabant' 'saab' 'chrysler' 'jaguar' 'daewoo' 'porsche'\n",
      " 'rover' 'land_rover' 'lada']\n",
      "---------------------------------------------------------------\n",
      "volkswagen        76875\n",
      "opel              39837\n",
      "bmw               36847\n",
      "mercedes_benz     31984\n",
      "audi              29405\n",
      "ford              25126\n",
      "renault           17897\n",
      "peugeot           10985\n",
      "fiat               9618\n",
      "seat               6896\n",
      "mazda              5608\n",
      "skoda              5495\n",
      "smart              5239\n",
      "citroen            5125\n",
      "nissan             4933\n",
      "toyota             4600\n",
      "hyundai            3583\n",
      "sonstige_autos     3267\n",
      "volvo              3207\n",
      "mini               3198\n",
      "mitsubishi         3014\n",
      "honda              2814\n",
      "kia                2463\n",
      "suzuki             2321\n",
      "alfa_romeo         2308\n",
      "chevrolet          1744\n",
      "chrysler           1433\n",
      "dacia               899\n",
      "daihatsu            806\n",
      "subaru              758\n",
      "porsche             750\n",
      "jeep                670\n",
      "trabant             579\n",
      "land_rover          544\n",
      "daewoo              541\n",
      "saab                525\n",
      "jaguar              502\n",
      "rover               485\n",
      "lancia              467\n",
      "lada                225\n",
      "Name: brand, dtype: int64\n"
     ]
    }
   ],
   "source": [
    "char(10)"
   ]
  },
  {
   "cell_type": "markdown",
   "metadata": {
    "id": "QT-D1Gevm8M5"
   },
   "source": [
    "Ну тут хоть всё прилично. Продолжим."
   ]
  },
  {
   "cell_type": "markdown",
   "metadata": {
    "id": "aRh9tbkzruRA"
   },
   "source": [
    "#### 12 \"date_created\""
   ]
  },
  {
   "cell_type": "code",
   "execution_count": 35,
   "metadata": {
    "colab": {
     "base_uri": "https://localhost:8080/"
    },
    "id": "aki-orR0oQgb",
    "outputId": "66ca828a-0ec2-4b83-823b-d8586fd47451"
   },
   "outputs": [
    {
     "name": "stdout",
     "output_type": "stream",
     "text": [
      "\u001b[34m \n",
      "Признак: \"date_created\"\n",
      "\u001b[31m \n",
      "Пропусков  0.0  %\n",
      "---------------------------------------------------------------\n",
      "\u001b[30m \n",
      "Уникальных значений признака:  109\n",
      "---------------------------------------------------------------\n",
      "['2016-03-24 00:00:00' '2016-03-14 00:00:00' '2016-03-17 00:00:00'\n",
      " '2016-03-31 00:00:00' '2016-04-04 00:00:00' '2016-04-01 00:00:00'\n",
      " '2016-03-21 00:00:00' '2016-03-26 00:00:00' '2016-04-07 00:00:00'\n",
      " '2016-03-15 00:00:00' '2016-03-20 00:00:00' '2016-03-23 00:00:00'\n",
      " '2016-03-27 00:00:00' '2016-03-12 00:00:00' '2016-03-13 00:00:00'\n",
      " '2016-03-18 00:00:00' '2016-03-10 00:00:00' '2016-03-07 00:00:00'\n",
      " '2016-03-09 00:00:00' '2016-03-08 00:00:00' '2016-04-03 00:00:00'\n",
      " '2016-03-29 00:00:00' '2016-03-25 00:00:00' '2016-03-11 00:00:00'\n",
      " '2016-03-28 00:00:00' '2016-03-30 00:00:00' '2016-03-22 00:00:00'\n",
      " '2016-02-09 00:00:00' '2016-03-05 00:00:00' '2016-04-02 00:00:00'\n",
      " '2016-03-16 00:00:00' '2016-03-19 00:00:00' '2016-04-05 00:00:00'\n",
      " '2016-03-06 00:00:00' '2016-02-12 00:00:00' '2016-03-03 00:00:00'\n",
      " '2016-03-01 00:00:00' '2016-03-04 00:00:00' '2016-04-06 00:00:00'\n",
      " '2016-02-15 00:00:00' '2016-02-24 00:00:00' '2016-02-27 00:00:00'\n",
      " '2015-03-20 00:00:00' '2016-02-28 00:00:00' '2016-02-17 00:00:00'\n",
      " '2016-01-27 00:00:00' '2016-02-20 00:00:00' '2016-02-29 00:00:00'\n",
      " '2016-02-10 00:00:00' '2016-02-23 00:00:00' '2016-02-21 00:00:00'\n",
      " '2015-11-02 00:00:00' '2016-02-19 00:00:00' '2016-02-26 00:00:00'\n",
      " '2016-02-11 00:00:00' '2016-01-10 00:00:00' '2016-02-06 00:00:00'\n",
      " '2016-02-18 00:00:00' '2016-01-29 00:00:00' '2016-03-02 00:00:00'\n",
      " '2015-12-06 00:00:00' '2016-01-24 00:00:00' '2016-01-30 00:00:00'\n",
      " '2016-02-02 00:00:00' '2016-02-16 00:00:00' '2016-02-13 00:00:00'\n",
      " '2016-02-05 00:00:00' '2016-02-22 00:00:00' '2015-11-17 00:00:00'\n",
      " '2014-03-10 00:00:00' '2016-02-07 00:00:00' '2016-01-23 00:00:00'\n",
      " '2016-02-25 00:00:00' '2016-02-14 00:00:00' '2016-01-02 00:00:00'\n",
      " '2015-09-04 00:00:00' '2015-11-12 00:00:00' '2015-12-27 00:00:00'\n",
      " '2015-11-24 00:00:00' '2016-01-20 00:00:00' '2016-02-03 00:00:00'\n",
      " '2015-12-05 00:00:00' '2015-08-07 00:00:00' '2016-01-28 00:00:00'\n",
      " '2016-01-31 00:00:00' '2016-02-08 00:00:00' '2016-01-07 00:00:00'\n",
      " '2016-01-22 00:00:00' '2016-01-18 00:00:00' '2016-01-08 00:00:00'\n",
      " '2015-11-23 00:00:00' '2016-01-13 00:00:00' '2016-01-17 00:00:00'\n",
      " '2016-01-15 00:00:00' '2015-11-08 00:00:00' '2016-01-26 00:00:00'\n",
      " '2016-02-04 00:00:00' '2016-01-25 00:00:00' '2016-01-16 00:00:00'\n",
      " '2015-08-10 00:00:00' '2016-01-03 00:00:00' '2016-01-19 00:00:00'\n",
      " '2015-12-30 00:00:00' '2016-02-01 00:00:00' '2015-12-17 00:00:00'\n",
      " '2015-11-10 00:00:00' '2016-01-06 00:00:00' '2015-09-09 00:00:00'\n",
      " '2015-06-18 00:00:00']\n",
      "---------------------------------------------------------------\n",
      "2016-04-03 00:00:00    13690\n",
      "2016-04-04 00:00:00    13283\n",
      "2016-03-20 00:00:00    12885\n",
      "2016-03-12 00:00:00    12813\n",
      "2016-03-21 00:00:00    12661\n",
      "                       ...  \n",
      "2016-01-18 00:00:00        1\n",
      "2014-03-10 00:00:00        1\n",
      "2015-12-06 00:00:00        1\n",
      "2015-09-09 00:00:00        1\n",
      "2015-06-18 00:00:00        1\n",
      "Name: date_created, Length: 109, dtype: int64\n"
     ]
    }
   ],
   "source": [
    "char(12)"
   ]
  },
  {
   "cell_type": "markdown",
   "metadata": {
    "id": "tjtfuwVaobMb"
   },
   "source": [
    "Видимо, следует повторить операции по аналогии с __\"date_crawled\"__"
   ]
  },
  {
   "cell_type": "code",
   "execution_count": 36,
   "metadata": {
    "colab": {
     "base_uri": "https://localhost:8080/",
     "height": 312
    },
    "id": "sQSXQShjoyVv",
    "outputId": "4ae1ebba-b075-4d7f-bbcd-3c95ea73755c"
   },
   "outputs": [
    {
     "data": {
      "text/html": [
       "<div>\n",
       "<style scoped>\n",
       "    .dataframe tbody tr th:only-of-type {\n",
       "        vertical-align: middle;\n",
       "    }\n",
       "\n",
       "    .dataframe tbody tr th {\n",
       "        vertical-align: top;\n",
       "    }\n",
       "\n",
       "    .dataframe thead th {\n",
       "        text-align: right;\n",
       "    }\n",
       "</style>\n",
       "<table border=\"1\" class=\"dataframe\">\n",
       "  <thead>\n",
       "    <tr style=\"text-align: right;\">\n",
       "      <th></th>\n",
       "      <th>date_crawled</th>\n",
       "      <th>price</th>\n",
       "      <th>vehicle_type</th>\n",
       "      <th>registration_year</th>\n",
       "      <th>gear_box</th>\n",
       "      <th>power</th>\n",
       "      <th>model</th>\n",
       "      <th>kilometer</th>\n",
       "      <th>registration_month</th>\n",
       "      <th>fuel_type</th>\n",
       "      <th>brand</th>\n",
       "      <th>not_repaired</th>\n",
       "      <th>date_created</th>\n",
       "      <th>number_of_pictures</th>\n",
       "      <th>postal_code</th>\n",
       "      <th>last_seen</th>\n",
       "      <th>date_crawled_new</th>\n",
       "      <th>date_created_new</th>\n",
       "    </tr>\n",
       "  </thead>\n",
       "  <tbody>\n",
       "    <tr>\n",
       "      <th>0</th>\n",
       "      <td>2016-03-24 11:52:17</td>\n",
       "      <td>480</td>\n",
       "      <td>NaN</td>\n",
       "      <td>1993</td>\n",
       "      <td>manual</td>\n",
       "      <td>0</td>\n",
       "      <td>golf</td>\n",
       "      <td>150000</td>\n",
       "      <td>0</td>\n",
       "      <td>petrol</td>\n",
       "      <td>volkswagen</td>\n",
       "      <td>NaN</td>\n",
       "      <td>2016-03-24 00:00:00</td>\n",
       "      <td>0</td>\n",
       "      <td>70435</td>\n",
       "      <td>2016-04-07 03:16:57</td>\n",
       "      <td>2016-03-24 11:52:17</td>\n",
       "      <td>2016-03-24</td>\n",
       "    </tr>\n",
       "    <tr>\n",
       "      <th>1</th>\n",
       "      <td>2016-03-24 10:58:45</td>\n",
       "      <td>18300</td>\n",
       "      <td>coupe</td>\n",
       "      <td>2011</td>\n",
       "      <td>manual</td>\n",
       "      <td>190</td>\n",
       "      <td>NaN</td>\n",
       "      <td>125000</td>\n",
       "      <td>5</td>\n",
       "      <td>gasoline</td>\n",
       "      <td>audi</td>\n",
       "      <td>yes</td>\n",
       "      <td>2016-03-24 00:00:00</td>\n",
       "      <td>0</td>\n",
       "      <td>66954</td>\n",
       "      <td>2016-04-07 01:46:50</td>\n",
       "      <td>2016-03-24 10:58:45</td>\n",
       "      <td>2016-03-24</td>\n",
       "    </tr>\n",
       "    <tr>\n",
       "      <th>2</th>\n",
       "      <td>2016-03-14 12:52:21</td>\n",
       "      <td>9800</td>\n",
       "      <td>suv</td>\n",
       "      <td>2004</td>\n",
       "      <td>auto</td>\n",
       "      <td>163</td>\n",
       "      <td>grand</td>\n",
       "      <td>125000</td>\n",
       "      <td>8</td>\n",
       "      <td>gasoline</td>\n",
       "      <td>jeep</td>\n",
       "      <td>NaN</td>\n",
       "      <td>2016-03-14 00:00:00</td>\n",
       "      <td>0</td>\n",
       "      <td>90480</td>\n",
       "      <td>2016-04-05 12:47:46</td>\n",
       "      <td>2016-03-14 12:52:21</td>\n",
       "      <td>2016-03-14</td>\n",
       "    </tr>\n",
       "  </tbody>\n",
       "</table>\n",
       "</div>"
      ],
      "text/plain": [
       "          date_crawled  price vehicle_type  registration_year gear_box  power  \\\n",
       "0  2016-03-24 11:52:17    480          NaN               1993   manual      0   \n",
       "1  2016-03-24 10:58:45  18300        coupe               2011   manual    190   \n",
       "2  2016-03-14 12:52:21   9800          suv               2004     auto    163   \n",
       "\n",
       "   model  kilometer  registration_month fuel_type       brand not_repaired  \\\n",
       "0   golf     150000                   0    petrol  volkswagen          NaN   \n",
       "1    NaN     125000                   5  gasoline        audi          yes   \n",
       "2  grand     125000                   8  gasoline        jeep          NaN   \n",
       "\n",
       "          date_created  number_of_pictures  postal_code            last_seen  \\\n",
       "0  2016-03-24 00:00:00                   0        70435  2016-04-07 03:16:57   \n",
       "1  2016-03-24 00:00:00                   0        66954  2016-04-07 01:46:50   \n",
       "2  2016-03-14 00:00:00                   0        90480  2016-04-05 12:47:46   \n",
       "\n",
       "     date_crawled_new date_created_new  \n",
       "0 2016-03-24 11:52:17       2016-03-24  \n",
       "1 2016-03-24 10:58:45       2016-03-24  \n",
       "2 2016-03-14 12:52:21       2016-03-14  "
      ]
     },
     "execution_count": 36,
     "metadata": {},
     "output_type": "execute_result"
    }
   ],
   "source": [
    "df['date_created_new']=pd.to_datetime(df['date_created'], format='%Y-%m-%dT%H:%M:%S')\n",
    "#df['date_crawled'].transform(pd.to_datetime(df['date_crawled'], format='%Y-%m-%dT%H:%M:%S'))\n",
    "df.head(3)"
   ]
  },
  {
   "cell_type": "markdown",
   "metadata": {
    "id": "pikvWzw-oyVw"
   },
   "source": [
    "Далее посмотрим диапазон лет, месяцев, дней и т.д."
   ]
  },
  {
   "cell_type": "code",
   "execution_count": 37,
   "metadata": {
    "colab": {
     "base_uri": "https://localhost:8080/"
    },
    "id": "mNuBlR_JoyVw",
    "outputId": "eb572bd3-1850-4793-f5ad-0f3b647fa34f"
   },
   "outputs": [
    {
     "name": "stdout",
     "output_type": "stream",
     "text": [
      "2014\n",
      "2016\n"
     ]
    }
   ],
   "source": [
    "#диапазон лет \n",
    "print(pd.DatetimeIndex(df['date_created_new']).year.min())\n",
    "print(pd.DatetimeIndex(df['date_created_new']).year.max())\n"
   ]
  },
  {
   "cell_type": "code",
   "execution_count": 38,
   "metadata": {
    "colab": {
     "base_uri": "https://localhost:8080/"
    },
    "id": "1Ow5huGooyVw",
    "outputId": "8a9306e3-a7ec-4793-dd30-d33a3c75dde2"
   },
   "outputs": [
    {
     "name": "stdout",
     "output_type": "stream",
     "text": [
      "1\n",
      "12\n"
     ]
    }
   ],
   "source": [
    "#диапазон месяцев \n",
    "print(pd.DatetimeIndex(df['date_created_new']).month.min())\n",
    "print(pd.DatetimeIndex(df['date_created_new']).month.max())"
   ]
  },
  {
   "cell_type": "code",
   "execution_count": 39,
   "metadata": {
    "colab": {
     "base_uri": "https://localhost:8080/"
    },
    "id": "cGAmnRPyoyVw",
    "outputId": "3da48ad1-d2cf-4ded-ad27-9385c5129564"
   },
   "outputs": [
    {
     "data": {
      "text/plain": [
       "Timedelta('759 days 00:00:00')"
      ]
     },
     "execution_count": 39,
     "metadata": {},
     "output_type": "execute_result"
    }
   ],
   "source": [
    "# диапазон дней\n",
    "df['date_created_new'].max() - df['date_created_new'].min()"
   ]
  },
  {
   "cell_type": "code",
   "execution_count": 40,
   "metadata": {
    "colab": {
     "base_uri": "https://localhost:8080/"
    },
    "id": "JR6Fq8A_oyVw",
    "outputId": "3d5897c3-7008-4ec4-abd0-8d106bb4345d"
   },
   "outputs": [
    {
     "name": "stdout",
     "output_type": "stream",
     "text": [
      "2016-04-07 00:00:00\n",
      "2014-03-10 00:00:00\n"
     ]
    }
   ],
   "source": [
    "#диапазон дат\n",
    "print(df['date_created_new'].max())\n",
    "print(df['date_created_new'].min())"
   ]
  },
  {
   "cell_type": "markdown",
   "metadata": {
    "id": "dIHLbcl9oyVw"
   },
   "source": [
    "Т.е. анкеты в исходном датасете были созданы в интервале между 10.03.2014 и 07.04.2016. Очень напоминает историю с датой скачивания.\n",
    "\n",
    "Посмотрим есть ли зависимость цены авто от года/месяца создания анкеты."
   ]
  },
  {
   "cell_type": "code",
   "execution_count": 41,
   "metadata": {
    "colab": {
     "base_uri": "https://localhost:8080/",
     "height": 457
    },
    "id": "ekYrhltzoyVw",
    "outputId": "76c7f6cb-d2c0-4a03-c4e6-67d3c5103eba"
   },
   "outputs": [
    {
     "data": {
      "text/html": [
       "<div>\n",
       "<style scoped>\n",
       "    .dataframe tbody tr th:only-of-type {\n",
       "        vertical-align: middle;\n",
       "    }\n",
       "\n",
       "    .dataframe tbody tr th {\n",
       "        vertical-align: top;\n",
       "    }\n",
       "\n",
       "    .dataframe thead tr th {\n",
       "        text-align: left;\n",
       "    }\n",
       "\n",
       "    .dataframe thead tr:last-of-type th {\n",
       "        text-align: right;\n",
       "    }\n",
       "</style>\n",
       "<table border=\"1\" class=\"dataframe\">\n",
       "  <thead>\n",
       "    <tr>\n",
       "      <th></th>\n",
       "      <th></th>\n",
       "      <th>count</th>\n",
       "      <th>mean</th>\n",
       "      <th>median</th>\n",
       "    </tr>\n",
       "    <tr>\n",
       "      <th></th>\n",
       "      <th></th>\n",
       "      <th>price</th>\n",
       "      <th>price</th>\n",
       "      <th>price</th>\n",
       "    </tr>\n",
       "    <tr>\n",
       "      <th>year</th>\n",
       "      <th>month</th>\n",
       "      <th></th>\n",
       "      <th></th>\n",
       "      <th></th>\n",
       "    </tr>\n",
       "  </thead>\n",
       "  <tbody>\n",
       "    <tr>\n",
       "      <th>2014</th>\n",
       "      <th>3</th>\n",
       "      <td>1</td>\n",
       "      <td>8999.000000</td>\n",
       "      <td>8999.0</td>\n",
       "    </tr>\n",
       "    <tr>\n",
       "      <th rowspan=\"6\" valign=\"top\">2015</th>\n",
       "      <th>3</th>\n",
       "      <td>1</td>\n",
       "      <td>6000.000000</td>\n",
       "      <td>6000.0</td>\n",
       "    </tr>\n",
       "    <tr>\n",
       "      <th>6</th>\n",
       "      <td>1</td>\n",
       "      <td>10400.000000</td>\n",
       "      <td>10400.0</td>\n",
       "    </tr>\n",
       "    <tr>\n",
       "      <th>8</th>\n",
       "      <td>2</td>\n",
       "      <td>9725.000000</td>\n",
       "      <td>9725.0</td>\n",
       "    </tr>\n",
       "    <tr>\n",
       "      <th>9</th>\n",
       "      <td>3</td>\n",
       "      <td>3566.666667</td>\n",
       "      <td>600.0</td>\n",
       "    </tr>\n",
       "    <tr>\n",
       "      <th>11</th>\n",
       "      <td>9</td>\n",
       "      <td>7753.888889</td>\n",
       "      <td>5999.0</td>\n",
       "    </tr>\n",
       "    <tr>\n",
       "      <th>12</th>\n",
       "      <td>9</td>\n",
       "      <td>7249.888889</td>\n",
       "      <td>6950.0</td>\n",
       "    </tr>\n",
       "    <tr>\n",
       "      <th rowspan=\"4\" valign=\"top\">2016</th>\n",
       "      <th>1</th>\n",
       "      <td>70</td>\n",
       "      <td>7922.885714</td>\n",
       "      <td>7449.5</td>\n",
       "    </tr>\n",
       "    <tr>\n",
       "      <th>2</th>\n",
       "      <td>396</td>\n",
       "      <td>6186.744949</td>\n",
       "      <td>5274.5</td>\n",
       "    </tr>\n",
       "    <tr>\n",
       "      <th>3</th>\n",
       "      <td>296095</td>\n",
       "      <td>4382.783634</td>\n",
       "      <td>2700.0</td>\n",
       "    </tr>\n",
       "    <tr>\n",
       "      <th>4</th>\n",
       "      <td>56986</td>\n",
       "      <td>4581.185484</td>\n",
       "      <td>2899.0</td>\n",
       "    </tr>\n",
       "  </tbody>\n",
       "</table>\n",
       "</div>"
      ],
      "text/plain": [
       "             count          mean   median\n",
       "             price         price    price\n",
       "year month                               \n",
       "2014 3           1   8999.000000   8999.0\n",
       "2015 3           1   6000.000000   6000.0\n",
       "     6           1  10400.000000  10400.0\n",
       "     8           2   9725.000000   9725.0\n",
       "     9           3   3566.666667    600.0\n",
       "     11          9   7753.888889   5999.0\n",
       "     12          9   7249.888889   6950.0\n",
       "2016 1          70   7922.885714   7449.5\n",
       "     2         396   6186.744949   5274.5\n",
       "     3      296095   4382.783634   2700.0\n",
       "     4       56986   4581.185484   2899.0"
      ]
     },
     "execution_count": 41,
     "metadata": {},
     "output_type": "execute_result"
    }
   ],
   "source": [
    "df1 = pd.DataFrame(columns=['price','year','month'])\n",
    "df1['price'] = df['price']\n",
    "df1['year'] = pd.DatetimeIndex(df['date_created_new']).year\n",
    "df1['month'] = pd.DatetimeIndex(df['date_created_new']).month\n",
    "#df1.head()\n",
    "pd.pivot_table(df1, values='price', index=['year','month'], columns=None, aggfunc=['count','mean','median'])#, sort=True)"
   ]
  },
  {
   "cell_type": "markdown",
   "metadata": {
    "id": "fJwKe-_zoyVx"
   },
   "source": [
    "Подавляющее большинство анкет создано в марте-апреле 2016 г. В остальных периодах \"крохи\". \n",
    "\n",
    "Все симптомы \"болезни\" как у признака __'date_crawled'__. Т.о. целесообразно из обучающего набора данных признак __'date_created'__ исключить. Соответственно, и искусственно добавленный столбец __'date_created_new'__ также следует удалить."
   ]
  },
  {
   "cell_type": "markdown",
   "metadata": {
    "id": "6mqzp_GQx5k_"
   },
   "source": [
    "#### 13 \"number_of_pictures\""
   ]
  },
  {
   "cell_type": "code",
   "execution_count": 42,
   "metadata": {
    "colab": {
     "base_uri": "https://localhost:8080/",
     "height": 677
    },
    "id": "x6iw__yW7kH8",
    "outputId": "9126612a-352c-4717-eba5-0b080babb291"
   },
   "outputs": [
    {
     "name": "stdout",
     "output_type": "stream",
     "text": [
      "\u001b[34m \n",
      "Признак: \"number_of_pictures\"\n",
      "\u001b[31m \n",
      "Пропусков  0.0  %\n",
      "---------------------------------------------------------------\n",
      "\u001b[30m \n",
      "count    353573.0\n",
      "mean          0.0\n",
      "std           0.0\n",
      "min           0.0\n",
      "25%           0.0\n",
      "50%           0.0\n",
      "75%           0.0\n",
      "max           0.0\n",
      "Name: number_of_pictures, dtype: float64\n"
     ]
    }
   ],
   "source": [
    "char(13)"
   ]
  },
  {
   "cell_type": "markdown",
   "metadata": {
    "id": "qnUrHXZSyJGE"
   },
   "source": [
    "Прекрасный признак. __На помойку!__"
   ]
  },
  {
   "cell_type": "markdown",
   "metadata": {
    "id": "89i6yyvz0A3z"
   },
   "source": [
    "#### 14 \"postal_code\""
   ]
  },
  {
   "cell_type": "code",
   "execution_count": 43,
   "metadata": {
    "colab": {
     "base_uri": "https://localhost:8080/",
     "height": 687
    },
    "id": "YKOGrBRK7kLP",
    "outputId": "ea041926-7000-483c-b8ab-90b06180595c"
   },
   "outputs": [
    {
     "name": "stdout",
     "output_type": "stream",
     "text": [
      "\u001b[34m \n",
      "Признак: \"postal_code\"\n",
      "\u001b[31m \n",
      "Пропусков  0.0  %\n",
      "---------------------------------------------------------------\n",
      "\u001b[30m \n",
      "count    353573.000000\n",
      "mean      50519.027434\n",
      "std       25782.491049\n",
      "min        1067.000000\n",
      "25%       30165.000000\n",
      "50%       49419.000000\n",
      "75%       71088.000000\n",
      "max       99998.000000\n",
      "Name: postal_code, dtype: float64\n"
     ]
    }
   ],
   "source": [
    "char(14)"
   ]
  },
  {
   "cell_type": "markdown",
   "metadata": {
    "id": "j0ugiMwL0Ise"
   },
   "source": [
    "Несмотря на то, что признак в формате int, это скорее категориальные значения.\n",
    "Пропусков нет. Для проверки на аномальность надо знать систему почтовой индексации, вероятно, в США. Но я ничего такого делать не планирую. Извините.\n",
    "\n",
    "Вот посмотреть на разницу в ценах на сопоставимые машины в разных регионах \"индексах\" кратенько можно."
   ]
  },
  {
   "cell_type": "code",
   "execution_count": 44,
   "metadata": {
    "colab": {
     "base_uri": "https://localhost:8080/"
    },
    "id": "Vz77uUFO000X",
    "outputId": "70d45d8f-9197-4af0-9343-597a529eed61"
   },
   "outputs": [
    {
     "name": "stdout",
     "output_type": "stream",
     "text": [
      "                                                           count   min   max  \\\n",
      "brand model registration_year power kilometer postal_code                      \n",
      "audi  a2    2016              75    150000    12247            1  4000  4000   \n",
      "                                              38895            2  2750  2900   \n",
      "                                              50170            1  2780  2780   \n",
      "                                              51103            1  4250  4250   \n",
      "                                              64287            1  4900  4900   \n",
      "                                              81476            1  4100  4100   \n",
      "                                              85072            1  5000  5000   \n",
      "                                              97506            1  3000  3000   \n",
      "\n",
      "                                                           mean  \n",
      "brand model registration_year power kilometer postal_code        \n",
      "audi  a2    2016              75    150000    12247        4000  \n",
      "                                              38895        2825  \n",
      "                                              50170        2780  \n",
      "                                              51103        4250  \n",
      "                                              64287        4900  \n",
      "                                              81476        4100  \n",
      "                                              85072        5000  \n",
      "                                              97506        3000  \n"
     ]
    }
   ],
   "source": [
    "print(df.query('brand==\"audi\"').\n",
    "      query('model==\"a2\"').\n",
    "      query('registration_year == 2016').\n",
    "      query('power==75').\n",
    "      query('kilometer==150000').\n",
    "      groupby(by=['brand','model','registration_year', 'power','kilometer','postal_code'])['price'].agg(['count','min','max','mean']))#.to_markdown())"
   ]
  },
  {
   "cell_type": "markdown",
   "metadata": {
    "id": "N883ockz5ekB"
   },
   "source": [
    "Если \"на глаз\", то цена на сопоставимые машины заметно, местами почти в 2 раза, отличается. \n",
    "\n",
    "На всякий случай корреляцию..."
   ]
  },
  {
   "cell_type": "code",
   "execution_count": 45,
   "metadata": {
    "colab": {
     "base_uri": "https://localhost:8080/"
    },
    "id": "1sBCwlFh59Ax",
    "outputId": "f424f98f-476b-4eb1-e016-af789d8032d8"
   },
   "outputs": [
    {
     "data": {
      "text/plain": [
       "0.07589626783024993"
      ]
     },
     "execution_count": 45,
     "metadata": {},
     "output_type": "execute_result"
    }
   ],
   "source": [
    "df['price'].corr(df['postal_code'])"
   ]
  },
  {
   "cell_type": "markdown",
   "metadata": {
    "id": "QH_gIG1N6IIc"
   },
   "source": [
    "Ну в цифровом виде почтовый код влияет очень слабо. Хотя некоторое влияние всё же имеется. Поэтому признак в рабочем датасете сохраним. Но вероятно придеться из него сделать формат object, чтобы затем подвергнуть OrdinalEncoding."
   ]
  },
  {
   "cell_type": "markdown",
   "metadata": {
    "id": "s1FpOjeS0yRm"
   },
   "source": [
    "#### 15 \"last_seen\""
   ]
  },
  {
   "cell_type": "code",
   "execution_count": 46,
   "metadata": {
    "colab": {
     "base_uri": "https://localhost:8080/"
    },
    "id": "FZ5As4vP7kN6",
    "outputId": "60c50e46-fedb-4bf8-badf-4d23efe9cbdf"
   },
   "outputs": [
    {
     "name": "stdout",
     "output_type": "stream",
     "text": [
      "\u001b[34m \n",
      "Признак: \"last_seen\"\n",
      "\u001b[31m \n",
      "Пропусков  0.0  %\n",
      "---------------------------------------------------------------\n",
      "\u001b[30m \n",
      "Уникальных значений признака:  178829\n",
      "---------------------------------------------------------------\n",
      "['2016-04-07 03:16:57' '2016-04-07 01:46:50' '2016-04-05 12:47:46' ...\n",
      " '2016-03-19 20:44:43' '2016-03-29 10:17:23' '2016-03-21 10:42:49']\n",
      "---------------------------------------------------------------\n",
      "2016-04-06 13:45:54    17\n",
      "2016-04-07 09:45:10    16\n",
      "2016-04-07 00:45:17    16\n",
      "2016-04-06 01:15:23    16\n",
      "2016-04-07 13:17:48    16\n",
      "                       ..\n",
      "2016-03-16 04:16:44     1\n",
      "2016-03-24 17:25:30     1\n",
      "2016-03-09 10:39:34     1\n",
      "2016-03-07 19:47:32     1\n",
      "2016-03-08 16:18:24     1\n",
      "Name: last_seen, Length: 178829, dtype: int64\n"
     ]
    }
   ],
   "source": [
    "char(15) "
   ]
  },
  {
   "cell_type": "markdown",
   "metadata": {
    "id": "kn-Oxvtq6uLb"
   },
   "source": [
    "Снова здорова! Обрабатываем как __\"date_crawled\"__"
   ]
  },
  {
   "cell_type": "code",
   "execution_count": 47,
   "metadata": {
    "colab": {
     "base_uri": "https://localhost:8080/",
     "height": 312
    },
    "id": "X7LOXyNl67oa",
    "outputId": "dadcb36c-1f75-4734-b987-8cae46e5ce68"
   },
   "outputs": [
    {
     "data": {
      "text/html": [
       "<div>\n",
       "<style scoped>\n",
       "    .dataframe tbody tr th:only-of-type {\n",
       "        vertical-align: middle;\n",
       "    }\n",
       "\n",
       "    .dataframe tbody tr th {\n",
       "        vertical-align: top;\n",
       "    }\n",
       "\n",
       "    .dataframe thead th {\n",
       "        text-align: right;\n",
       "    }\n",
       "</style>\n",
       "<table border=\"1\" class=\"dataframe\">\n",
       "  <thead>\n",
       "    <tr style=\"text-align: right;\">\n",
       "      <th></th>\n",
       "      <th>date_crawled</th>\n",
       "      <th>price</th>\n",
       "      <th>vehicle_type</th>\n",
       "      <th>registration_year</th>\n",
       "      <th>gear_box</th>\n",
       "      <th>power</th>\n",
       "      <th>model</th>\n",
       "      <th>kilometer</th>\n",
       "      <th>registration_month</th>\n",
       "      <th>fuel_type</th>\n",
       "      <th>brand</th>\n",
       "      <th>not_repaired</th>\n",
       "      <th>date_created</th>\n",
       "      <th>number_of_pictures</th>\n",
       "      <th>postal_code</th>\n",
       "      <th>last_seen</th>\n",
       "      <th>date_crawled_new</th>\n",
       "      <th>date_created_new</th>\n",
       "      <th>last_seen_new</th>\n",
       "    </tr>\n",
       "  </thead>\n",
       "  <tbody>\n",
       "    <tr>\n",
       "      <th>0</th>\n",
       "      <td>2016-03-24 11:52:17</td>\n",
       "      <td>480</td>\n",
       "      <td>NaN</td>\n",
       "      <td>1993</td>\n",
       "      <td>manual</td>\n",
       "      <td>0</td>\n",
       "      <td>golf</td>\n",
       "      <td>150000</td>\n",
       "      <td>0</td>\n",
       "      <td>petrol</td>\n",
       "      <td>volkswagen</td>\n",
       "      <td>NaN</td>\n",
       "      <td>2016-03-24 00:00:00</td>\n",
       "      <td>0</td>\n",
       "      <td>70435</td>\n",
       "      <td>2016-04-07 03:16:57</td>\n",
       "      <td>2016-03-24 11:52:17</td>\n",
       "      <td>2016-03-24</td>\n",
       "      <td>2016-04-07 03:16:57</td>\n",
       "    </tr>\n",
       "    <tr>\n",
       "      <th>1</th>\n",
       "      <td>2016-03-24 10:58:45</td>\n",
       "      <td>18300</td>\n",
       "      <td>coupe</td>\n",
       "      <td>2011</td>\n",
       "      <td>manual</td>\n",
       "      <td>190</td>\n",
       "      <td>NaN</td>\n",
       "      <td>125000</td>\n",
       "      <td>5</td>\n",
       "      <td>gasoline</td>\n",
       "      <td>audi</td>\n",
       "      <td>yes</td>\n",
       "      <td>2016-03-24 00:00:00</td>\n",
       "      <td>0</td>\n",
       "      <td>66954</td>\n",
       "      <td>2016-04-07 01:46:50</td>\n",
       "      <td>2016-03-24 10:58:45</td>\n",
       "      <td>2016-03-24</td>\n",
       "      <td>2016-04-07 01:46:50</td>\n",
       "    </tr>\n",
       "    <tr>\n",
       "      <th>2</th>\n",
       "      <td>2016-03-14 12:52:21</td>\n",
       "      <td>9800</td>\n",
       "      <td>suv</td>\n",
       "      <td>2004</td>\n",
       "      <td>auto</td>\n",
       "      <td>163</td>\n",
       "      <td>grand</td>\n",
       "      <td>125000</td>\n",
       "      <td>8</td>\n",
       "      <td>gasoline</td>\n",
       "      <td>jeep</td>\n",
       "      <td>NaN</td>\n",
       "      <td>2016-03-14 00:00:00</td>\n",
       "      <td>0</td>\n",
       "      <td>90480</td>\n",
       "      <td>2016-04-05 12:47:46</td>\n",
       "      <td>2016-03-14 12:52:21</td>\n",
       "      <td>2016-03-14</td>\n",
       "      <td>2016-04-05 12:47:46</td>\n",
       "    </tr>\n",
       "  </tbody>\n",
       "</table>\n",
       "</div>"
      ],
      "text/plain": [
       "          date_crawled  price vehicle_type  registration_year gear_box  power  \\\n",
       "0  2016-03-24 11:52:17    480          NaN               1993   manual      0   \n",
       "1  2016-03-24 10:58:45  18300        coupe               2011   manual    190   \n",
       "2  2016-03-14 12:52:21   9800          suv               2004     auto    163   \n",
       "\n",
       "   model  kilometer  registration_month fuel_type       brand not_repaired  \\\n",
       "0   golf     150000                   0    petrol  volkswagen          NaN   \n",
       "1    NaN     125000                   5  gasoline        audi          yes   \n",
       "2  grand     125000                   8  gasoline        jeep          NaN   \n",
       "\n",
       "          date_created  number_of_pictures  postal_code            last_seen  \\\n",
       "0  2016-03-24 00:00:00                   0        70435  2016-04-07 03:16:57   \n",
       "1  2016-03-24 00:00:00                   0        66954  2016-04-07 01:46:50   \n",
       "2  2016-03-14 00:00:00                   0        90480  2016-04-05 12:47:46   \n",
       "\n",
       "     date_crawled_new date_created_new       last_seen_new  \n",
       "0 2016-03-24 11:52:17       2016-03-24 2016-04-07 03:16:57  \n",
       "1 2016-03-24 10:58:45       2016-03-24 2016-04-07 01:46:50  \n",
       "2 2016-03-14 12:52:21       2016-03-14 2016-04-05 12:47:46  "
      ]
     },
     "execution_count": 47,
     "metadata": {},
     "output_type": "execute_result"
    }
   ],
   "source": [
    "df['last_seen_new']=pd.to_datetime(df['last_seen'], format='%Y-%m-%dT%H:%M:%S')\n",
    "#df['date_crawled'].transform(pd.to_datetime(df['date_crawled'], format='%Y-%m-%dT%H:%M:%S'))\n",
    "df.head(3)"
   ]
  },
  {
   "cell_type": "markdown",
   "metadata": {
    "id": "BqIxFfMC67ob"
   },
   "source": [
    "Далее посмотрим диапазон лет, месяцев, дней и т.д."
   ]
  },
  {
   "cell_type": "code",
   "execution_count": 48,
   "metadata": {
    "colab": {
     "base_uri": "https://localhost:8080/"
    },
    "id": "kTtm21oc67ob",
    "outputId": "c8c5fbca-57c6-40c2-c3d7-f2bdf4a325b8"
   },
   "outputs": [
    {
     "name": "stdout",
     "output_type": "stream",
     "text": [
      "2016\n",
      "2016\n"
     ]
    }
   ],
   "source": [
    "#диапазон лет \n",
    "print(pd.DatetimeIndex(df['last_seen_new']).year.min())\n",
    "print(pd.DatetimeIndex(df['last_seen_new']).year.max())\n"
   ]
  },
  {
   "cell_type": "code",
   "execution_count": 49,
   "metadata": {
    "colab": {
     "base_uri": "https://localhost:8080/"
    },
    "id": "F5d4wbZx67ob",
    "outputId": "430ae3b1-9252-43e3-b7bb-8018fa61d602"
   },
   "outputs": [
    {
     "name": "stdout",
     "output_type": "stream",
     "text": [
      "3\n",
      "4\n"
     ]
    }
   ],
   "source": [
    "#диапазон месяцев \n",
    "print(pd.DatetimeIndex(df['last_seen_new']).month.min())\n",
    "print(pd.DatetimeIndex(df['last_seen_new']).month.max())"
   ]
  },
  {
   "cell_type": "code",
   "execution_count": 50,
   "metadata": {
    "colab": {
     "base_uri": "https://localhost:8080/"
    },
    "id": "GW_zL8sE67oc",
    "outputId": "a35aac17-b1c5-44ab-bd4b-4a4a8a085714"
   },
   "outputs": [
    {
     "data": {
      "text/plain": [
       "Timedelta('33 days 00:43:43')"
      ]
     },
     "execution_count": 50,
     "metadata": {},
     "output_type": "execute_result"
    }
   ],
   "source": [
    "# диапазон дней\n",
    "df['last_seen_new'].max() - df['last_seen_new'].min()"
   ]
  },
  {
   "cell_type": "code",
   "execution_count": 51,
   "metadata": {
    "colab": {
     "base_uri": "https://localhost:8080/"
    },
    "id": "iFQFLYQZ67oc",
    "outputId": "d3bb4c7d-01b5-4ed1-fd2a-02bf12854f20"
   },
   "outputs": [
    {
     "name": "stdout",
     "output_type": "stream",
     "text": [
      "2016-04-07 14:58:51\n",
      "2016-03-05 14:15:08\n"
     ]
    }
   ],
   "source": [
    "#диапазон дат\n",
    "print(df['last_seen_new'].max())\n",
    "print(df['last_seen_new'].min())"
   ]
  },
  {
   "cell_type": "markdown",
   "metadata": {
    "id": "zjvdD4w867oc"
   },
   "source": [
    "Т.е. последние активности датируются мартом-апрелем 2016 г. и укладываются во временной диапазон 33 дня! Знакомая история.\n",
    "\n",
    "Для верности посмотрим есть ли хоть какая-то зависимость цены авто от месяца последней активности."
   ]
  },
  {
   "cell_type": "code",
   "execution_count": 52,
   "metadata": {
    "colab": {
     "base_uri": "https://localhost:8080/",
     "height": 175
    },
    "id": "5ieAMVGO67oc",
    "outputId": "9995ed6f-8575-458a-87e2-869308d7eecd"
   },
   "outputs": [
    {
     "data": {
      "text/html": [
       "<div>\n",
       "<style scoped>\n",
       "    .dataframe tbody tr th:only-of-type {\n",
       "        vertical-align: middle;\n",
       "    }\n",
       "\n",
       "    .dataframe tbody tr th {\n",
       "        vertical-align: top;\n",
       "    }\n",
       "\n",
       "    .dataframe thead tr th {\n",
       "        text-align: left;\n",
       "    }\n",
       "\n",
       "    .dataframe thead tr:last-of-type th {\n",
       "        text-align: right;\n",
       "    }\n",
       "</style>\n",
       "<table border=\"1\" class=\"dataframe\">\n",
       "  <thead>\n",
       "    <tr>\n",
       "      <th></th>\n",
       "      <th>count</th>\n",
       "      <th>mean</th>\n",
       "      <th>median</th>\n",
       "    </tr>\n",
       "    <tr>\n",
       "      <th></th>\n",
       "      <th>price</th>\n",
       "      <th>price</th>\n",
       "      <th>price</th>\n",
       "    </tr>\n",
       "    <tr>\n",
       "      <th>month</th>\n",
       "      <th></th>\n",
       "      <th></th>\n",
       "      <th></th>\n",
       "    </tr>\n",
       "  </thead>\n",
       "  <tbody>\n",
       "    <tr>\n",
       "      <th>3</th>\n",
       "      <td>153800</td>\n",
       "      <td>3648.677412</td>\n",
       "      <td>2199</td>\n",
       "    </tr>\n",
       "    <tr>\n",
       "      <th>4</th>\n",
       "      <td>199773</td>\n",
       "      <td>5009.747594</td>\n",
       "      <td>3300</td>\n",
       "    </tr>\n",
       "  </tbody>\n",
       "</table>\n",
       "</div>"
      ],
      "text/plain": [
       "        count         mean median\n",
       "        price        price  price\n",
       "month                            \n",
       "3      153800  3648.677412   2199\n",
       "4      199773  5009.747594   3300"
      ]
     },
     "execution_count": 52,
     "metadata": {},
     "output_type": "execute_result"
    }
   ],
   "source": [
    "df1 = pd.DataFrame(columns=['price','month'])\n",
    "df1['price'] = df['price']\n",
    "df1['month'] = pd.DatetimeIndex(df['last_seen_new']).month\n",
    "#df1.head()\n",
    "pd.pivot_table(df1, values='price', index='month', columns=None, aggfunc=['count','mean','median'])#, sort=True)"
   ]
  },
  {
   "cell_type": "markdown",
   "metadata": {
    "id": "wvqKgtZb67oc"
   },
   "source": [
    "Понятнее снова не стало. Все симптомы \"болезни\" снова как у признака __'date_crawled'__. Т.о. целесообразно из обучающего набора данных признак __'last_seen'__ исключить. Соответственно, и искусственно добавленный столбец __'last_seen_new'__ также следует удалить."
   ]
  },
  {
   "cell_type": "markdown",
   "metadata": {
    "id": "77mzyHHh67oc"
   },
   "source": [
    "Продолжим"
   ]
  },
  {
   "cell_type": "markdown",
   "metadata": {
    "id": "_Ci8hUsA9KNd"
   },
   "source": [
    "#### 11 \"not_repaired\""
   ]
  },
  {
   "cell_type": "code",
   "execution_count": 53,
   "metadata": {
    "colab": {
     "base_uri": "https://localhost:8080/"
    },
    "id": "wQviLICl9L4w",
    "outputId": "b35206a2-847f-450c-96ca-56684322db69"
   },
   "outputs": [
    {
     "name": "stdout",
     "output_type": "stream",
     "text": [
      "\u001b[34m \n",
      "Признак: \"not_repaired\"\n",
      "\u001b[31m \n",
      "Пропусков  20.01  %\n",
      "---------------------------------------------------------------\n",
      "\u001b[30m \n",
      "Уникальных значений признака:  2\n",
      "---------------------------------------------------------------\n",
      "[nan 'yes' 'no']\n",
      "---------------------------------------------------------------\n",
      "no     246888\n",
      "yes     35952\n",
      "Name: not_repaired, dtype: int64\n"
     ]
    }
   ],
   "source": [
    "char(11)"
   ]
  },
  {
   "cell_type": "markdown",
   "metadata": {
    "id": "rh0j8Ajc9QLE"
   },
   "source": [
    "Проблема одна: про 21% авто не известно была машина в ремонте или нет. \n",
    "\n",
    "Восстановить эти данные невозможно. Удалить 21% датасета - неприемлемо. \n",
    "\n",
    "Придется заменить \"nan\" значением \"unknown\" и в дальнейшем подвергнуть признак OrdinalEncoding, если понадобиться."
   ]
  },
  {
   "cell_type": "code",
   "execution_count": 54,
   "metadata": {
    "id": "_K8zWHL1-gRB"
   },
   "outputs": [],
   "source": [
    "df['not_repaired'] = df['not_repaired'].fillna('unknown')"
   ]
  },
  {
   "cell_type": "markdown",
   "metadata": {
    "id": "UHiGTwph_Gp1"
   },
   "source": [
    "Продолжим."
   ]
  },
  {
   "cell_type": "markdown",
   "metadata": {
    "id": "PrgNZfj0r0GG"
   },
   "source": [
    "#### 2 \"vehicle_type\""
   ]
  },
  {
   "cell_type": "code",
   "execution_count": 55,
   "metadata": {
    "colab": {
     "base_uri": "https://localhost:8080/"
    },
    "id": "WkR7xybM7a1X",
    "outputId": "0a19c904-b369-4263-9858-89dab0033668"
   },
   "outputs": [
    {
     "name": "stdout",
     "output_type": "stream",
     "text": [
      "\u001b[34m \n",
      "Признак: \"vehicle_type\"\n",
      "\u001b[31m \n",
      "Пропусков  10.52  %\n",
      "---------------------------------------------------------------\n",
      "\u001b[30m \n",
      "Уникальных значений признака:  8\n",
      "---------------------------------------------------------------\n",
      "[nan 'coupe' 'suv' 'small' 'sedan' 'convertible' 'bus' 'wagon' 'other']\n",
      "---------------------------------------------------------------\n",
      "sedan          91310\n",
      "small          79728\n",
      "wagon          65086\n",
      "bus            28744\n",
      "convertible    20177\n",
      "coupe          16129\n",
      "suv            11966\n",
      "other           3250\n",
      "Name: vehicle_type, dtype: int64\n"
     ]
    }
   ],
   "source": [
    "char(2)"
   ]
  },
  {
   "cell_type": "markdown",
   "metadata": {
    "id": "lKNK0RpiJluo"
   },
   "source": [
    "С типом кузова всё относительно хорошо, не считая высокой доли пропусков. Очевидно, что тип кузова имеет важное значение для покупателя автомобиля. Т.е. влияет на цену авто. Поэтому следует попытаться восстановить пропуски. \n",
    "\n",
    "Первым, что приходит на ум - это восстановление пропусков по марке/модели авто, которые уже есть в исходном датасете. Попробуем.\n"
   ]
  },
  {
   "cell_type": "code",
   "execution_count": 56,
   "metadata": {
    "colab": {
     "base_uri": "https://localhost:8080/"
    },
    "id": "6gnGzHqSODNy",
    "outputId": "e665bfed-f2e4-4ee6-b7c3-4a170f7905a5"
   },
   "outputs": [
    {
     "data": {
      "text/plain": [
       "brand       model   \n",
       "alfa_romeo  145         14\n",
       "            147         80\n",
       "            156         46\n",
       "            159         12\n",
       "            other       25\n",
       "                        ..\n",
       "volvo       v40         68\n",
       "            v50         11\n",
       "            v60          1\n",
       "            v70         24\n",
       "            xc_reihe     7\n",
       "Name: brand, Length: 283, dtype: int64"
      ]
     },
     "execution_count": 56,
     "metadata": {},
     "output_type": "execute_result"
    }
   ],
   "source": [
    "# краткий обзор пропусков по моделям\n",
    "df[df['vehicle_type'].isna()].groupby(by=['brand','model'])['brand'].count()"
   ]
  },
  {
   "cell_type": "code",
   "execution_count": 57,
   "metadata": {
    "colab": {
     "base_uri": "https://localhost:8080/"
    },
    "id": "fVceLqdrO2no",
    "outputId": "090ffc00-fcae-411a-a634-55e60d3efc0e"
   },
   "outputs": [
    {
     "data": {
      "text/plain": [
       "brand       model     vehicle_type\n",
       "alfa_romeo  145       coupe             2\n",
       "                      other             1\n",
       "                      sedan            13\n",
       "                      small            19\n",
       "            147       coupe            27\n",
       "                                     ... \n",
       "volvo       v70       coupe             1\n",
       "                      wagon           608\n",
       "            xc_reihe  sedan             3\n",
       "                      suv             216\n",
       "                      wagon            41\n",
       "Name: vehicle_type, Length: 1408, dtype: int64"
      ]
     },
     "execution_count": 57,
     "metadata": {},
     "output_type": "execute_result"
    }
   ],
   "source": [
    "# краткий обзор какие бывают кузова по моделям\n",
    "df.groupby(by=['brand','model','vehicle_type'])['vehicle_type'].count()"
   ]
  },
  {
   "cell_type": "markdown",
   "metadata": {
    "id": "fng0ySblPhd2"
   },
   "source": [
    "Как видим, разные модели одного и того же бренда могут быть в разных \"кузовах\". Т.е. точно восстановить \"тип кузова\" по бренду и модели не получиться. \n",
    "\n",
    "Придется заменить \"nan\" значением \"unknown\" и в дальнейшем подвергнуть признак OrdinalEncoding, если понадобиться."
   ]
  },
  {
   "cell_type": "code",
   "execution_count": 58,
   "metadata": {
    "id": "ME42UydLYjZx"
   },
   "outputs": [],
   "source": [
    "df['vehicle_type'] = df['vehicle_type'].fillna('unknown')"
   ]
  },
  {
   "cell_type": "markdown",
   "metadata": {
    "id": "H_v0g8oF_TyA"
   },
   "source": [
    "#### 9 \"fuel_type\""
   ]
  },
  {
   "cell_type": "code",
   "execution_count": 59,
   "metadata": {
    "colab": {
     "base_uri": "https://localhost:8080/"
    },
    "id": "cBOgieNv_Y6H",
    "outputId": "5c296f91-eb2a-464c-e1ee-372ed9a20910"
   },
   "outputs": [
    {
     "name": "stdout",
     "output_type": "stream",
     "text": [
      "\u001b[34m \n",
      "Признак: \"fuel_type\"\n",
      "\u001b[31m \n",
      "Пропусков  9.22  %\n",
      "---------------------------------------------------------------\n",
      "\u001b[30m \n",
      "Уникальных значений признака:  7\n",
      "---------------------------------------------------------------\n",
      "['petrol' 'gasoline' nan 'lpg' 'other' 'hybrid' 'cng' 'electric']\n",
      "---------------------------------------------------------------\n",
      "petrol      215972\n",
      "gasoline     98628\n",
      "lpg           5304\n",
      "cng            562\n",
      "hybrid         232\n",
      "other          199\n",
      "electric        89\n",
      "Name: fuel_type, dtype: int64\n"
     ]
    }
   ],
   "source": [
    "char(9)"
   ]
  },
  {
   "cell_type": "markdown",
   "metadata": {
    "id": "2oyf127GxVu8"
   },
   "source": [
    "Восстанавливать затруднительно, да и нецелесообразно.\n",
    "Придется заменить \"nan\" значением \"unknown\" и в дальнейшем подвергнуть признак OrdinalEncoding, если понадобиться."
   ]
  },
  {
   "cell_type": "code",
   "execution_count": 60,
   "metadata": {
    "id": "565WQ0IqY9s6"
   },
   "outputs": [],
   "source": [
    "df['fuel_type'] = df['fuel_type'].fillna('unknown')"
   ]
  },
  {
   "cell_type": "markdown",
   "metadata": {
    "id": "XBXP7xnLGIyO"
   },
   "source": [
    "#### 6 \"model\""
   ]
  },
  {
   "cell_type": "code",
   "execution_count": 61,
   "metadata": {
    "colab": {
     "base_uri": "https://localhost:8080/"
    },
    "id": "IT_UDdwHGM14",
    "outputId": "f6e3029f-ba66-49c8-81ef-a285e23c0793"
   },
   "outputs": [
    {
     "name": "stdout",
     "output_type": "stream",
     "text": [
      "\u001b[34m \n",
      "Признак: \"model\"\n",
      "\u001b[31m \n",
      "Пропусков  5.51  %\n",
      "---------------------------------------------------------------\n",
      "\u001b[30m \n",
      "Уникальных значений признака:  250\n",
      "---------------------------------------------------------------\n",
      "['golf' nan 'grand' 'fabia' '3er' '2_reihe' 'other' 'c_max' '3_reihe'\n",
      " 'passat' 'navara' 'polo' 'twingo' 'a_klasse' 'scirocco' '5er' 'meriva'\n",
      " 'arosa' 'c4' 'civic' 'transporter' 'punto' 'e_klasse' 'clio' 'kadett'\n",
      " 'kangoo' 'corsa' 'one' 'fortwo' '1er' 'b_klasse' 'signum' 'astra' 'a8'\n",
      " 'jetta' 'fiesta' 'c_klasse' 'micra' 'vito' 'sprinter' '156' 'escort'\n",
      " 'forester' 'xc_reihe' 'scenic' 'a4' 'ka' 'a1' 'insignia' 'combo' 'focus'\n",
      " 'tt' 'a6' 'jazz' 'omega' 'slk' '7er' '80' '147' '100' 'z_reihe'\n",
      " 'sportage' 'sorento' 'v40' 'ibiza' 'mustang' 'eos' 'touran' 'getz' 'a3'\n",
      " 'almera' 'megane' 'lupo' 'r19' 'zafira' 'caddy' 'mondeo' 'cordoba' 'colt'\n",
      " 'impreza' 'vectra' 'berlingo' 'tiguan' 'i_reihe' 'espace' 'sharan'\n",
      " '6_reihe' 'panda' 'up' 'seicento' 'ceed' '5_reihe' 'yeti' 'octavia' 'mii'\n",
      " 'rx_reihe' '6er' 'modus' 'fox' 'matiz' 'beetle' 'c1' 'rio' 'touareg'\n",
      " 'logan' 'spider' 'cuore' 's_max' 'a2' 'galaxy' 'c3' 'viano' 's_klasse'\n",
      " '1_reihe' 'avensis' 'roomster' 'sl' 'kaefer' 'santa' 'cooper' 'leon'\n",
      " '4_reihe' 'a5' '500' 'laguna' 'ptcruiser' 'clk' 'primera' 'x_reihe'\n",
      " 'exeo' '159' 'transit' 'juke' 'qashqai' 'carisma' 'accord' 'corolla'\n",
      " 'lanos' 'phaeton' 'verso' 'swift' 'rav' 'picanto' 'boxster' 'kalos'\n",
      " 'superb' 'stilo' 'alhambra' 'mx_reihe' 'roadster' 'ypsilon' 'cayenne'\n",
      " 'galant' 'justy' '90' 'sirion' 'crossfire' 'agila' 'duster' 'cr_reihe'\n",
      " 'v50' 'c_reihe' 'v_klasse' 'm_klasse' 'yaris' 'c5' 'aygo' 'cc' 'carnival'\n",
      " 'fusion' '911' 'bora' 'forfour' 'm_reihe' 'cl' 'tigra' '300c' 'spark'\n",
      " 'v70' 'kuga' 'x_type' 'ducato' 's_type' 'x_trail' 'toledo' 'altea'\n",
      " 'voyager' 'calibra' 'bravo' 'antara' 'tucson' 'citigo' 'jimny' 'wrangler'\n",
      " 'lybra' 'q7' 'lancer' 'captiva' 'c2' 'discovery' 'freelander' 'sandero'\n",
      " 'note' '900' 'cherokee' 'clubman' 'samara' 'defender' '601' 'cx_reihe'\n",
      " 'legacy' 'pajero' 'auris' 'niva' 's60' 'nubira' 'vivaro' 'g_klasse'\n",
      " 'lodgy' '850' 'range_rover' 'q3' 'serie_2' 'glk' 'charade' 'croma'\n",
      " 'outlander' 'doblo' 'musa' 'move' '9000' 'v60' '145' 'aveo' '200' 'b_max'\n",
      " 'range_rover_sport' 'terios' 'rangerover' 'q5' 'range_rover_evoque'\n",
      " 'materia' 'delta' 'gl' 'kalina' 'amarok' 'elefantino' 'i3' 'kappa'\n",
      " 'serie_3' 'serie_1']\n",
      "---------------------------------------------------------------\n",
      "golf                  29193\n",
      "other                 24316\n",
      "3er                   19738\n",
      "polo                  13045\n",
      "corsa                 12547\n",
      "                      ...  \n",
      "i3                        8\n",
      "serie_3                   4\n",
      "rangerover                4\n",
      "serie_1                   2\n",
      "range_rover_evoque        2\n",
      "Name: model, Length: 250, dtype: int64\n"
     ]
    }
   ],
   "source": [
    "char(6)"
   ]
  },
  {
   "cell_type": "code",
   "execution_count": 62,
   "metadata": {
    "id": "Sp8slsRyGgV3"
   },
   "outputs": [],
   "source": [
    "#df.duplicated(subset=['brand','model'])"
   ]
  },
  {
   "cell_type": "code",
   "execution_count": 63,
   "metadata": {
    "id": "QPKecJ6KocyA"
   },
   "outputs": [],
   "source": [
    "#sorted(df[df['model'].isna()==False]['model'].unique())"
   ]
  },
  {
   "cell_type": "markdown",
   "metadata": {
    "id": "6nCVwheusKZL"
   },
   "source": [
    "Есть неявные дубликаты:'range_rover', и  'rangerover'. Их имеет смысл привести к одному виду:'range_rover'.\n",
    "\n"
   ]
  },
  {
   "cell_type": "code",
   "execution_count": 64,
   "metadata": {
    "id": "bqf0jZDPKim-"
   },
   "outputs": [],
   "source": [
    "df['model'] = df['model'].replace('rangerover', 'range_rover')"
   ]
  },
  {
   "cell_type": "code",
   "execution_count": 65,
   "metadata": {
    "colab": {
     "base_uri": "https://localhost:8080/"
    },
    "id": "8Cl756qvMjAE",
    "outputId": "13266832-e23d-4f27-841a-32398a41f915"
   },
   "outputs": [
    {
     "data": {
      "text/plain": [
       "brand       vehicle_type\n",
       "alfa_romeo  coupe           16\n",
       "            other            1\n",
       "            sedan           40\n",
       "            small            7\n",
       "            unknown         55\n",
       "                            ..\n",
       "volvo       coupe            1\n",
       "            sedan           24\n",
       "            suv              1\n",
       "            unknown         32\n",
       "            wagon           51\n",
       "Name: brand, Length: 294, dtype: int64"
      ]
     },
     "execution_count": 65,
     "metadata": {},
     "output_type": "execute_result"
    }
   ],
   "source": [
    "# краткий обзор пропусков по брендам кузовам \n",
    "df[df['model'].isna()].groupby(by=['brand','vehicle_type'])['brand'].count()"
   ]
  },
  {
   "cell_type": "markdown",
   "metadata": {
    "id": "hKKzu5smNHBP"
   },
   "source": [
    "Для восстановления модели авто данных недостаточно. Удалять 5,5% данных нецелесообразно. \n",
    "\n",
    "Предлагается заменить \"nan\" на \"unknown\". Хуже не будет, т.к. перед обучением для линейных моделей всё-равно придется OrdinalEncoding делать. А бустингам всё равно: одним значением признака больше - одним меньше. "
   ]
  },
  {
   "cell_type": "code",
   "execution_count": 66,
   "metadata": {
    "id": "-e6eB5T3N-uU"
   },
   "outputs": [],
   "source": [
    "df['model'] = df['model'].fillna('unknown')"
   ]
  },
  {
   "cell_type": "markdown",
   "metadata": {
    "id": "ylt_fp5iOfJZ"
   },
   "source": [
    "Продолжим"
   ]
  },
  {
   "cell_type": "markdown",
   "metadata": {
    "id": "LC6Y9KPAZvbr"
   },
   "source": [
    "#### 4 \"gear_box\""
   ]
  },
  {
   "cell_type": "code",
   "execution_count": 67,
   "metadata": {
    "colab": {
     "base_uri": "https://localhost:8080/"
    },
    "id": "I-xD5OXvZ0UJ",
    "outputId": "5f70da65-1cc4-4a08-cd7f-b3fb7ec92979"
   },
   "outputs": [
    {
     "name": "stdout",
     "output_type": "stream",
     "text": [
      "\u001b[34m \n",
      "Признак: \"gear_box\"\n",
      "\u001b[31m \n",
      "Пропусков  5.54  %\n",
      "---------------------------------------------------------------\n",
      "\u001b[30m \n",
      "Уникальных значений признака:  2\n",
      "---------------------------------------------------------------\n",
      "['manual' 'auto' nan]\n",
      "---------------------------------------------------------------\n",
      "manual    267845\n",
      "auto       66152\n",
      "Name: gear_box, dtype: int64\n"
     ]
    }
   ],
   "source": [
    "char(4)"
   ]
  },
  {
   "cell_type": "markdown",
   "metadata": {
    "id": "NyeGBxnvxDNR"
   },
   "source": [
    "Восстанавливать затруднительно, да и нецелесообразно.\n",
    "Придется заменить \"nan\" значением \"unknown\" и в дальнейшем подвергнуть признак OrdinalEncoding, если понадобиться."
   ]
  },
  {
   "cell_type": "code",
   "execution_count": 68,
   "metadata": {
    "id": "aRpGtrbxZ-yu"
   },
   "outputs": [],
   "source": [
    "df['gear_box'] = df['gear_box'].fillna('unknown')"
   ]
  },
  {
   "cell_type": "markdown",
   "metadata": {
    "id": "e1wpABG_IJhF"
   },
   "source": [
    "### Теперь исключим из рабочего набора данных признаки, которые выше были определены как \"бесполезные\"."
   ]
  },
  {
   "cell_type": "code",
   "execution_count": 69,
   "metadata": {
    "id": "UpuHDGSxIJAv"
   },
   "outputs": [],
   "source": [
    "#df = df.drop(['date_crawled','date_crawled_new',\n",
    "              #'registration_month',\n",
    "              #'date_created', 'date_created_new',\n",
    "              #'last_seen','last_seen_new',\n",
    "              #'number_of_pictures'], axis=1)\n",
    "\n",
    "\n",
    "df = df[['price', 'vehicle_type', 'registration_year', 'gear_box', 'power',\n",
    "       'model', 'kilometer', 'fuel_type', 'brand', 'not_repaired',\n",
    "       'postal_code']]"
   ]
  },
  {
   "cell_type": "markdown",
   "metadata": {
    "id": "yGxms0Gl_nfx"
   },
   "source": [
    "Проверим результаты предобработки данных"
   ]
  },
  {
   "cell_type": "code",
   "execution_count": 70,
   "metadata": {
    "colab": {
     "base_uri": "https://localhost:8080/"
    },
    "id": "K2ze1Z42A2x2",
    "outputId": "7b3b49fd-d0f1-40dd-a197-8b215fc6cd9d"
   },
   "outputs": [
    {
     "name": "stdout",
     "output_type": "stream",
     "text": [
      "<class 'pandas.core.frame.DataFrame'>\n",
      "RangeIndex: 353573 entries, 0 to 353572\n",
      "Data columns (total 11 columns):\n",
      " #   Column             Non-Null Count   Dtype \n",
      "---  ------             --------------   ----- \n",
      " 0   price              353573 non-null  int64 \n",
      " 1   vehicle_type       353573 non-null  object\n",
      " 2   registration_year  353573 non-null  int64 \n",
      " 3   gear_box           353573 non-null  object\n",
      " 4   power              353573 non-null  int64 \n",
      " 5   model              353573 non-null  object\n",
      " 6   kilometer          353573 non-null  int64 \n",
      " 7   fuel_type          353573 non-null  object\n",
      " 8   brand              353573 non-null  object\n",
      " 9   not_repaired       353573 non-null  object\n",
      " 10  postal_code        353573 non-null  int64 \n",
      "dtypes: int64(5), object(6)\n",
      "memory usage: 29.7+ MB\n"
     ]
    }
   ],
   "source": [
    "df.info()"
   ]
  },
  {
   "cell_type": "code",
   "execution_count": 71,
   "metadata": {
    "colab": {
     "base_uri": "https://localhost:8080/"
    },
    "id": "ImaAPvl3_scO",
    "outputId": "02ef462f-1ad1-4a40-8120-4c504fecce92"
   },
   "outputs": [
    {
     "data": {
      "text/plain": [
       "price                0.0\n",
       "vehicle_type         0.0\n",
       "registration_year    0.0\n",
       "gear_box             0.0\n",
       "power                0.0\n",
       "model                0.0\n",
       "kilometer            0.0\n",
       "fuel_type            0.0\n",
       "brand                0.0\n",
       "not_repaired         0.0\n",
       "postal_code          0.0\n",
       "dtype: float64"
      ]
     },
     "execution_count": 71,
     "metadata": {},
     "output_type": "execute_result"
    }
   ],
   "source": [
    "round(df.isna().mean()*100,2).sort_values(ascending=False)"
   ]
  },
  {
   "cell_type": "markdown",
   "metadata": {
    "id": "G4S3mvp7AndC"
   },
   "source": [
    "Готово. После предобработки в нашем распоряжении осталось более 350-ти тысяч записей. Переходим к обучению моделей."
   ]
  },
  {
   "cell_type": "markdown",
   "metadata": {
    "id": "FJWQi6gaSN0t"
   },
   "source": [
    "## Обучение моделей"
   ]
  },
  {
   "cell_type": "markdown",
   "metadata": {
    "id": "Is77SEbXVOLy"
   },
   "source": [
    "Обучим несколько моделей регрессии:\n",
    "1. LinearRegression\n",
    "2. Случайный лес \n",
    "3. Lasso\n",
    "4. CatBoost\n",
    "5. LightGBM\n",
    "\n",
    "Все модели применим \"сырые\", т.е. с гиперпараметрами по умолчанию (без указания гиперпараметров).\n",
    "Качество предсказаний оценим для всех моделей метрикой RMSE.\n",
    "Также зафиксируем время обучения и предсказания.\n"
   ]
  },
  {
   "cell_type": "markdown",
   "metadata": {
    "id": "qggC4Q1rXwJK"
   },
   "source": [
    "Для удобства анализа подготовим шаблон сводной таблицы результатов, функцию замера времени и функцию моделирования(принимает модель и обучающие наборы, выдаёт RMSE и время исполнения)."
   ]
  },
  {
   "cell_type": "code",
   "execution_count": 72,
   "metadata": {
    "id": "FvnOot8dSN0t"
   },
   "outputs": [],
   "source": [
    "# шаблон сводной таблицы результатов моделирования \n",
    "results = []\n",
    "results=pd.DataFrame(columns=['REGRESSOR','RMSE','Fit Time, sec', 'Prediction Time, sec', 'Total time, sec.'])"
   ]
  },
  {
   "cell_type": "code",
   "execution_count": 73,
   "metadata": {
    "id": "HCXXGWMo3jJG"
   },
   "outputs": [],
   "source": [
    "# функция замера времени операций\n",
    "def exec_time(start, end):\n",
    "   diff_time = end - start\n",
    "   return round(diff_time,2)"
   ]
  },
  {
   "cell_type": "code",
   "execution_count": 74,
   "metadata": {
    "id": "_ZaEXCOCV9_1"
   },
   "outputs": [],
   "source": [
    "# обучение моделей и сохранение результато в сводной таблице result\n",
    "def modeling(model, features_train,target_train, features_valid, target_valid):\n",
    "  \n",
    "  global results\n",
    "\n",
    "  #начинаем отсчет времени обучения\n",
    "  start = time.time()\n",
    "  #учим модель\n",
    "  model.fit(features_train, target_train)\n",
    "  #заканчиваем отсчет времени\n",
    "  end = time.time()\n",
    "  #фиксируем время обучения модели\n",
    "  fit_time =  exec_time(start,end) \n",
    "\n",
    "  #начинаем отсчет времени предсказания\n",
    "  start = time.time()\n",
    "  #получаем предсказания\n",
    "  predicted_valid = model.predict(features_valid)\n",
    "  #заканчиваем отсчет времени предсказания\n",
    "  end = time.time()\n",
    "  #фиксируем время предсказания\n",
    "  pred_time =  exec_time(start,end) \n",
    "   \n",
    "  #оцениваем rmse\n",
    "  rmse = round((mean_squared_error(target_valid, predicted_valid)**0.5),4)\n",
    "   \n",
    "  # заполняем таблицу результатов\n",
    "  row = [model, rmse, fit_time, pred_time, fit_time + pred_time ]\n",
    "  results.loc[len(results)] = row "
   ]
  },
  {
   "cell_type": "markdown",
   "metadata": {
    "id": "4epqSsmhCqkY"
   },
   "source": [
    "Подготовим наборы данных для моделирования. Сначала проведем OrdinalEncoding, а затем сформируем train и valid наборы."
   ]
  },
  {
   "cell_type": "code",
   "execution_count": 75,
   "metadata": {
    "id": "J-ocOC2kvCyx"
   },
   "outputs": [],
   "source": [
    "#OE\n",
    "#encoder = OrdinalEncoder() \n",
    "#df =  pd.DataFrame(encoder.fit_transform(df), columns=df.columns)\n",
    "#df.head()"
   ]
  },
  {
   "cell_type": "code",
   "execution_count": 76,
   "metadata": {
    "colab": {
     "base_uri": "https://localhost:8080/"
    },
    "id": "C00ALvh-SB1B",
    "outputId": "0b536fe6-769c-4d67-9bdd-abd2fa6898f2"
   },
   "outputs": [
    {
     "data": {
      "text/plain": [
       "(353573, 10)"
      ]
     },
     "execution_count": 76,
     "metadata": {},
     "output_type": "execute_result"
    }
   ],
   "source": [
    "# набор обучающих признаков\n",
    "features = df.drop('price', axis=1)\n",
    "features.shape"
   ]
  },
  {
   "cell_type": "code",
   "execution_count": 77,
   "metadata": {},
   "outputs": [
    {
     "data": {
      "text/plain": [
       "(353573, 10)"
      ]
     },
     "execution_count": 77,
     "metadata": {},
     "output_type": "execute_result"
    }
   ],
   "source": [
    "#OE\n",
    "encoder = OrdinalEncoder() \n",
    "features =  pd.DataFrame(encoder.fit_transform(features), columns=features.columns)\n",
    "features.shape"
   ]
  },
  {
   "cell_type": "code",
   "execution_count": 78,
   "metadata": {
    "colab": {
     "base_uri": "https://localhost:8080/"
    },
    "id": "MWUCWEReSmH2",
    "outputId": "4ad21913-e767-4963-9e20-8068d71f0107"
   },
   "outputs": [
    {
     "data": {
      "text/plain": [
       "(353573,)"
      ]
     },
     "execution_count": 78,
     "metadata": {},
     "output_type": "execute_result"
    }
   ],
   "source": [
    "# целевой признак\n",
    "target = df['price']\n",
    "target.shape"
   ]
  },
  {
   "cell_type": "code",
   "execution_count": 79,
   "metadata": {
    "id": "WVVT9Y8ZTcUd"
   },
   "outputs": [],
   "source": [
    "#разбиение на обучающую и валидационную выборки\n",
    "features_train, features_valid, target_train, target_valid = train_test_split(\n",
    "    features, target, train_size= 0.75, random_state=12345)"
   ]
  },
  {
   "cell_type": "code",
   "execution_count": 80,
   "metadata": {
    "colab": {
     "base_uri": "https://localhost:8080/"
    },
    "id": "wHCY6RWHUbPw",
    "outputId": "9a94cca1-e965-44c7-defc-df3cee73474d",
    "scrolled": false
   },
   "outputs": [
    {
     "name": "stdout",
     "output_type": "stream",
     "text": [
      "Обучающие параметры: (265179, 10)\n",
      "Обучающий целевой параметр: (265179,)\n",
      "-------------------------------------\n",
      "Валидационные параметры: (88394, 10)\n",
      "Валидационный целевой параметр: (88394,)\n",
      "-------------------------------------\n"
     ]
    }
   ],
   "source": [
    "print('Обучающие параметры:', features_train.shape)\n",
    "print('Обучающий целевой параметр:', target_train.shape)\n",
    "print('-------------------------------------')\n",
    "print('Валидационные параметры:', features_valid.shape)\n",
    "print('Валидационный целевой параметр:', target_valid.shape)\n",
    "print('-------------------------------------')\n",
    "#print('Тестовые параметры:', features_test.shape)\n",
    "#print('Тестовый целевой параметр:', target_test.shape)"
   ]
  },
  {
   "cell_type": "markdown",
   "metadata": {
    "id": "wm-EjMjO8AgS"
   },
   "source": [
    "Далее обучим \"сырые\" модели и рассчитаем метрики качества"
   ]
  },
  {
   "cell_type": "markdown",
   "metadata": {
    "id": "hi-3oH5Xy6ZB"
   },
   "source": [
    "#### Линейная регрессия"
   ]
  },
  {
   "cell_type": "code",
   "execution_count": 81,
   "metadata": {
    "colab": {
     "base_uri": "https://localhost:8080/"
    },
    "id": "e6oiB7sHXB36",
    "outputId": "1b2a5142-b648-4e58-9f86-04517da9d8bf"
   },
   "outputs": [
    {
     "name": "stdout",
     "output_type": "stream",
     "text": [
      "CPU times: user 168 ms, sys: 175 ms, total: 344 ms\n",
      "Wall time: 298 ms\n"
     ]
    }
   ],
   "source": [
    "%%time\n",
    "lr=LinearRegression()\n",
    "modeling(lr, features_train,target_train, features_valid, target_valid)"
   ]
  },
  {
   "cell_type": "markdown",
   "metadata": {
    "id": "iGdl93ceJFWb"
   },
   "source": [
    "#### Случайный лес"
   ]
  },
  {
   "cell_type": "code",
   "execution_count": 82,
   "metadata": {
    "colab": {
     "base_uri": "https://localhost:8080/"
    },
    "id": "-E-Iya9FGYmG",
    "outputId": "ad644320-b2ed-4cec-a440-df24bd56580e"
   },
   "outputs": [
    {
     "name": "stdout",
     "output_type": "stream",
     "text": [
      "CPU times: user 2min 16s, sys: 1.06 s, total: 2min 17s\n",
      "Wall time: 2min 18s\n"
     ]
    }
   ],
   "source": [
    "%%time\n",
    "rfr = RandomForestRegressor(random_state=12345)\n",
    "modeling(rfr, features_train,target_train, features_valid, target_valid)"
   ]
  },
  {
   "cell_type": "markdown",
   "metadata": {
    "id": "mNXlhSBuJRRF"
   },
   "source": [
    "#### Lasso регрессия"
   ]
  },
  {
   "cell_type": "code",
   "execution_count": 83,
   "metadata": {
    "colab": {
     "base_uri": "https://localhost:8080/"
    },
    "id": "ANEM6SCyGpUN",
    "outputId": "2ddb9922-45ef-4bfa-c058-a82553bfe5d3"
   },
   "outputs": [
    {
     "name": "stdout",
     "output_type": "stream",
     "text": [
      "CPU times: user 3.75 s, sys: 3.98 s, total: 7.73 s\n",
      "Wall time: 7.71 s\n"
     ]
    }
   ],
   "source": [
    "%%time\n",
    "lasso = LassoCV(random_state=12345)\n",
    "modeling(lasso, features_train,target_train, features_valid, target_valid)"
   ]
  },
  {
   "cell_type": "markdown",
   "metadata": {
    "id": "XhzDpbyLy-Rc"
   },
   "source": [
    "#### CATBoost регрессия"
   ]
  },
  {
   "cell_type": "code",
   "execution_count": 84,
   "metadata": {
    "colab": {
     "base_uri": "https://localhost:8080/"
    },
    "id": "VHY9SHp9WAhl",
    "outputId": "545e494f-2635-42ba-b1a4-a2fa72a768d9"
   },
   "outputs": [
    {
     "name": "stdout",
     "output_type": "stream",
     "text": [
      "Learning rate set to 0.098878\n",
      "0:\tlearn: 4240.6935827\ttotal: 105ms\tremaining: 1m 44s\n",
      "100:\tlearn: 1951.9616026\ttotal: 4.37s\tremaining: 38.9s\n",
      "200:\tlearn: 1857.6608152\ttotal: 8.7s\tremaining: 34.6s\n",
      "300:\tlearn: 1812.3307833\ttotal: 13s\tremaining: 30.2s\n",
      "400:\tlearn: 1780.7570875\ttotal: 17.3s\tremaining: 25.9s\n",
      "500:\tlearn: 1757.0539762\ttotal: 21.6s\tremaining: 21.6s\n",
      "600:\tlearn: 1736.6764139\ttotal: 26s\tremaining: 17.3s\n",
      "700:\tlearn: 1719.2758122\ttotal: 30.3s\tremaining: 12.9s\n",
      "800:\tlearn: 1704.1315565\ttotal: 34.4s\tremaining: 8.54s\n",
      "900:\tlearn: 1690.2114374\ttotal: 38.5s\tremaining: 4.23s\n",
      "999:\tlearn: 1678.4619979\ttotal: 42.6s\tremaining: 0us\n",
      "CPU times: user 42.8 s, sys: 226 ms, total: 43 s\n",
      "Wall time: 44.7 s\n"
     ]
    }
   ],
   "source": [
    "%%time\n",
    "cbr = CatBoostRegressor(random_state=12345, verbose=100)\n",
    "modeling(cbr, features_train,target_train, features_valid, target_valid)"
   ]
  },
  {
   "cell_type": "markdown",
   "metadata": {
    "id": "hb90aMuwzFOj"
   },
   "source": [
    "#### LightGBM регрессия"
   ]
  },
  {
   "cell_type": "code",
   "execution_count": 85,
   "metadata": {
    "colab": {
     "base_uri": "https://localhost:8080/"
    },
    "id": "SGdqpnI0npti",
    "outputId": "dfb2c14e-380f-46be-a32e-2715f175fd4c"
   },
   "outputs": [
    {
     "name": "stdout",
     "output_type": "stream",
     "text": [
      "CPU times: user 42.3 s, sys: 442 ms, total: 42.7 s\n",
      "Wall time: 43.2 s\n"
     ]
    }
   ],
   "source": [
    "%%time\n",
    "lgbm = LGBMRegressor(random_state=12345)\n",
    "modeling(lgbm, features_train,target_train, features_valid, target_valid)"
   ]
  },
  {
   "cell_type": "markdown",
   "metadata": {
    "id": "8rZAJ4DzSN0u"
   },
   "source": [
    "## Анализ моделей"
   ]
  },
  {
   "cell_type": "code",
   "execution_count": 86,
   "metadata": {
    "colab": {
     "base_uri": "https://localhost:8080/"
    },
    "id": "GtRZdprmWAny",
    "outputId": "3ad7ce9e-7d94-4352-f71d-4be4f2fd22b4"
   },
   "outputs": [
    {
     "data": {
      "text/html": [
       "<div>\n",
       "<style scoped>\n",
       "    .dataframe tbody tr th:only-of-type {\n",
       "        vertical-align: middle;\n",
       "    }\n",
       "\n",
       "    .dataframe tbody tr th {\n",
       "        vertical-align: top;\n",
       "    }\n",
       "\n",
       "    .dataframe thead th {\n",
       "        text-align: right;\n",
       "    }\n",
       "</style>\n",
       "<table border=\"1\" class=\"dataframe\">\n",
       "  <thead>\n",
       "    <tr style=\"text-align: right;\">\n",
       "      <th></th>\n",
       "      <th>REGRESSOR</th>\n",
       "      <th>RMSE</th>\n",
       "      <th>Fit Time, sec</th>\n",
       "      <th>Prediction Time, sec</th>\n",
       "      <th>Total time, sec.</th>\n",
       "    </tr>\n",
       "  </thead>\n",
       "  <tbody>\n",
       "    <tr>\n",
       "      <th>1</th>\n",
       "      <td>(DecisionTreeRegressor(max_features='auto', ra...</td>\n",
       "      <td>1714.1514</td>\n",
       "      <td>132.10</td>\n",
       "      <td>5.98</td>\n",
       "      <td>138.08</td>\n",
       "    </tr>\n",
       "    <tr>\n",
       "      <th>3</th>\n",
       "      <td>&lt;catboost.core.CatBoostRegressor object at 0x7...</td>\n",
       "      <td>1735.7185</td>\n",
       "      <td>44.54</td>\n",
       "      <td>0.11</td>\n",
       "      <td>44.65</td>\n",
       "    </tr>\n",
       "    <tr>\n",
       "      <th>4</th>\n",
       "      <td>LGBMRegressor(random_state=12345)</td>\n",
       "      <td>1827.3259</td>\n",
       "      <td>42.35</td>\n",
       "      <td>0.89</td>\n",
       "      <td>43.24</td>\n",
       "    </tr>\n",
       "    <tr>\n",
       "      <th>0</th>\n",
       "      <td>LinearRegression()</td>\n",
       "      <td>3168.4710</td>\n",
       "      <td>0.28</td>\n",
       "      <td>0.01</td>\n",
       "      <td>0.29</td>\n",
       "    </tr>\n",
       "    <tr>\n",
       "      <th>2</th>\n",
       "      <td>LassoCV(random_state=12345)</td>\n",
       "      <td>3286.6591</td>\n",
       "      <td>7.64</td>\n",
       "      <td>0.06</td>\n",
       "      <td>7.70</td>\n",
       "    </tr>\n",
       "  </tbody>\n",
       "</table>\n",
       "</div>"
      ],
      "text/plain": [
       "                                           REGRESSOR       RMSE  \\\n",
       "1  (DecisionTreeRegressor(max_features='auto', ra...  1714.1514   \n",
       "3  <catboost.core.CatBoostRegressor object at 0x7...  1735.7185   \n",
       "4                  LGBMRegressor(random_state=12345)  1827.3259   \n",
       "0                                 LinearRegression()  3168.4710   \n",
       "2                        LassoCV(random_state=12345)  3286.6591   \n",
       "\n",
       "   Fit Time, sec  Prediction Time, sec  Total time, sec.  \n",
       "1         132.10                  5.98            138.08  \n",
       "3          44.54                  0.11             44.65  \n",
       "4          42.35                  0.89             43.24  \n",
       "0           0.28                  0.01              0.29  \n",
       "2           7.64                  0.06              7.70  "
      ]
     },
     "metadata": {},
     "output_type": "display_data"
    }
   ],
   "source": [
    "#colab метод to_markdown() выполняет, а тренажер Yandex нет. поэтому такая конструкция\n",
    "try:\n",
    "    print(results.sort_values(by='RMSE', ascending=True).to_markdown())\n",
    "except:\n",
    "    display(results.sort_values(by='RMSE', ascending=True))"
   ]
  },
  {
   "cell_type": "markdown",
   "metadata": {
    "id": "NoEstrRwyA5R"
   },
   "source": [
    "По качеству предсказания самый высокий результат из \"сырых\" моделей выдал Случайный лес. Рейтинг по скорости обучения 4-й.    \n",
    "\n",
    "CATBoost выдал второй по качеству результат, но при этом самое худшее время.\n",
    "\n",
    "Заданный проектом LightGBM выдал третий по качеству результат за очень приличное (малое) время. При этом качество по отношению к Случайному лесу и CATBoost хуже не критично.\n",
    "\n",
    "\"Обычные\" регрессоры Linear и Lasso сработали \"почти мгновенно\", но качество в 2 раза хуже!\n",
    "\n",
    "**Таким образом, LightGBM по соотношению \"время-качество\" явно лидирует.**"
   ]
  },
  {
   "cell_type": "markdown",
   "metadata": {
    "id": "h7lNdNQfz_DZ"
   },
   "source": [
    "Поскольку заданием проекта предусмотрено обязательное применение LightGBM, то имеет смысл проверить даст ли настройка гиперпараметров увеличение качества, при некритичном увеличении скорости обучения."
   ]
  },
  {
   "cell_type": "code",
   "execution_count": 87,
   "metadata": {
    "colab": {
     "base_uri": "https://localhost:8080/"
    },
    "id": "v2Jczh8TtXkm",
    "outputId": "311a1eaa-589d-437f-aa45-cdb3f8193aac"
   },
   "outputs": [
    {
     "name": "stdout",
     "output_type": "stream",
     "text": [
      "CPU times: user 2min 17s, sys: 1.16 s, total: 2min 18s\n",
      "Wall time: 2min 20s\n"
     ]
    }
   ],
   "source": [
    "%%time\n",
    "lgbm = LGBMRegressor(random_state=12345, learning_rate = 0.07, max_depth = 6, n_estimators=500)\n",
    "modeling(lgbm, features_train,target_train, features_valid, target_valid)"
   ]
  },
  {
   "cell_type": "code",
   "execution_count": 88,
   "metadata": {
    "colab": {
     "base_uri": "https://localhost:8080/"
    },
    "id": "elUXJscquEVx",
    "outputId": "c4eb4202-04f6-44af-eb1f-9b1171269a09"
   },
   "outputs": [
    {
     "data": {
      "text/html": [
       "<div>\n",
       "<style scoped>\n",
       "    .dataframe tbody tr th:only-of-type {\n",
       "        vertical-align: middle;\n",
       "    }\n",
       "\n",
       "    .dataframe tbody tr th {\n",
       "        vertical-align: top;\n",
       "    }\n",
       "\n",
       "    .dataframe thead th {\n",
       "        text-align: right;\n",
       "    }\n",
       "</style>\n",
       "<table border=\"1\" class=\"dataframe\">\n",
       "  <thead>\n",
       "    <tr style=\"text-align: right;\">\n",
       "      <th></th>\n",
       "      <th>REGRESSOR</th>\n",
       "      <th>RMSE</th>\n",
       "      <th>Fit Time, sec</th>\n",
       "      <th>Prediction Time, sec</th>\n",
       "      <th>Total time, sec.</th>\n",
       "    </tr>\n",
       "  </thead>\n",
       "  <tbody>\n",
       "    <tr>\n",
       "      <th>1</th>\n",
       "      <td>(DecisionTreeRegressor(max_features='auto', ra...</td>\n",
       "      <td>1714.1514</td>\n",
       "      <td>132.10</td>\n",
       "      <td>5.98</td>\n",
       "      <td>138.08</td>\n",
       "    </tr>\n",
       "    <tr>\n",
       "      <th>3</th>\n",
       "      <td>&lt;catboost.core.CatBoostRegressor object at 0x7...</td>\n",
       "      <td>1735.7185</td>\n",
       "      <td>44.54</td>\n",
       "      <td>0.11</td>\n",
       "      <td>44.65</td>\n",
       "    </tr>\n",
       "    <tr>\n",
       "      <th>5</th>\n",
       "      <td>LGBMRegressor(learning_rate=0.07, max_depth=6,...</td>\n",
       "      <td>1747.8015</td>\n",
       "      <td>136.49</td>\n",
       "      <td>3.72</td>\n",
       "      <td>140.21</td>\n",
       "    </tr>\n",
       "    <tr>\n",
       "      <th>4</th>\n",
       "      <td>LGBMRegressor(random_state=12345)</td>\n",
       "      <td>1827.3259</td>\n",
       "      <td>42.35</td>\n",
       "      <td>0.89</td>\n",
       "      <td>43.24</td>\n",
       "    </tr>\n",
       "    <tr>\n",
       "      <th>0</th>\n",
       "      <td>LinearRegression()</td>\n",
       "      <td>3168.4710</td>\n",
       "      <td>0.28</td>\n",
       "      <td>0.01</td>\n",
       "      <td>0.29</td>\n",
       "    </tr>\n",
       "    <tr>\n",
       "      <th>2</th>\n",
       "      <td>LassoCV(random_state=12345)</td>\n",
       "      <td>3286.6591</td>\n",
       "      <td>7.64</td>\n",
       "      <td>0.06</td>\n",
       "      <td>7.70</td>\n",
       "    </tr>\n",
       "  </tbody>\n",
       "</table>\n",
       "</div>"
      ],
      "text/plain": [
       "                                           REGRESSOR       RMSE  \\\n",
       "1  (DecisionTreeRegressor(max_features='auto', ra...  1714.1514   \n",
       "3  <catboost.core.CatBoostRegressor object at 0x7...  1735.7185   \n",
       "5  LGBMRegressor(learning_rate=0.07, max_depth=6,...  1747.8015   \n",
       "4                  LGBMRegressor(random_state=12345)  1827.3259   \n",
       "0                                 LinearRegression()  3168.4710   \n",
       "2                        LassoCV(random_state=12345)  3286.6591   \n",
       "\n",
       "   Fit Time, sec  Prediction Time, sec  Total time, sec.  \n",
       "1         132.10                  5.98            138.08  \n",
       "3          44.54                  0.11             44.65  \n",
       "5         136.49                  3.72            140.21  \n",
       "4          42.35                  0.89             43.24  \n",
       "0           0.28                  0.01              0.29  \n",
       "2           7.64                  0.06              7.70  "
      ]
     },
     "metadata": {},
     "output_type": "display_data"
    }
   ],
   "source": [
    "#colab метод to_markdown() выполняет, а тренажер Yandex нет. поэтому такая конструкция\n",
    "try:\n",
    "    print(results.sort_values(by='RMSE', ascending=True).to_markdown())\n",
    "except:\n",
    "    display(results.sort_values(by='RMSE', ascending=True))"
   ]
  },
  {
   "cell_type": "markdown",
   "metadata": {
    "id": "TK6fxIILlQXY"
   },
   "source": [
    "Настройка 4-х гиперпараметров LightGBM вывела его на первое место по качеству предсказания (RMSE снизился с 1827.3259 до 1747.8015), но время работы выросло в 4-е раза (выросло с 7.69 сек. до 33.50 сек.). Результат стал заметно лучше, чем у Случайного леса и CATBoost, но время работы  __в три раза больше Случайного леса__.  \n",
    "\n",
    "Понятно, что сравнение не вполне корректное, т.к. не все модели подвергнуты донастройке гиперпараметров."
   ]
  },
  {
   "cell_type": "markdown",
   "metadata": {
    "id": "HGou1HvUp-RV"
   },
   "source": [
    "### Выводы:\n",
    "\n",
    "\n",
    "\n"
   ]
  },
  {
   "cell_type": "markdown",
   "metadata": {
    "id": "KjSbqlzWqMrp"
   },
   "source": [
    "- В соответсвии с заданием для оценки стоимости авто была обучена модель регрессии LightGBM. \n",
    "- Кроме того, для сравнения, были обучены еще несколько моделей (случайный лес, CATBoost, Lasso и линейная регрессия). \n",
    "- Изначально модели были обучены без настройки гиперпараметров. \n",
    "- __По соотношению \"время - качество\" модель LightGBM заняла первое место среди обученных моделей.__ \n",
    "- После небольшой ручной донастройки гиперпараметров LightGBM дала незначительный прирост качества при трехкратном увеличении времени обучения/прогнозирования.\n",
    "- После донастройки гиперпараметров __по соотношению \"время - качество\" модель LightGBM также заняла первое место среди всех обученных моделей.__ \n"
   ]
  },
  {
   "cell_type": "code",
   "execution_count": 91,
   "metadata": {
    "colab": {
     "base_uri": "https://localhost:8080/"
    },
    "id": "dYSLHhBTSN0v",
    "outputId": "1f7ef06a-06a0-4490-c91a-e350e448a185"
   },
   "outputs": [
    {
     "name": "stdout",
     "output_type": "stream",
     "text": [
      "Спасибо за внимание!\n"
     ]
    }
   ],
   "source": [
    "print('Спасибо за внимание!')"
   ]
  }
 ],
 "metadata": {
  "ExecuteTimeLog": [
   {
    "duration": 15673,
    "start_time": "2022-02-26T05:54:22.788Z"
   },
   {
    "duration": 863,
    "start_time": "2022-02-26T05:54:38.463Z"
   },
   {
    "duration": 16,
    "start_time": "2022-02-26T05:54:39.330Z"
   },
   {
    "duration": 72,
    "start_time": "2022-02-26T05:54:39.348Z"
   },
   {
    "duration": 124,
    "start_time": "2022-02-26T05:54:39.421Z"
   },
   {
    "duration": 128,
    "start_time": "2022-02-26T05:54:39.547Z"
   },
   {
    "duration": 482,
    "start_time": "2022-02-26T05:54:39.678Z"
   },
   {
    "duration": 6,
    "start_time": "2022-02-26T05:54:40.162Z"
   },
   {
    "duration": 574,
    "start_time": "2022-02-26T05:54:40.170Z"
   },
   {
    "duration": 68,
    "start_time": "2022-02-26T05:54:40.746Z"
   },
   {
    "duration": 59,
    "start_time": "2022-02-26T05:54:40.817Z"
   },
   {
    "duration": 80,
    "start_time": "2022-02-26T05:54:40.878Z"
   },
   {
    "duration": 8,
    "start_time": "2022-02-26T05:54:40.960Z"
   },
   {
    "duration": 7,
    "start_time": "2022-02-26T05:54:40.970Z"
   },
   {
    "duration": 407,
    "start_time": "2022-02-26T05:54:40.979Z"
   },
   {
    "duration": -1409,
    "start_time": "2022-02-26T05:54:42.799Z"
   },
   {
    "duration": -1413,
    "start_time": "2022-02-26T05:54:42.804Z"
   },
   {
    "duration": -1448,
    "start_time": "2022-02-26T05:54:42.840Z"
   },
   {
    "duration": -1451,
    "start_time": "2022-02-26T05:54:42.844Z"
   },
   {
    "duration": -1454,
    "start_time": "2022-02-26T05:54:42.848Z"
   },
   {
    "duration": -1457,
    "start_time": "2022-02-26T05:54:42.852Z"
   },
   {
    "duration": -1460,
    "start_time": "2022-02-26T05:54:42.856Z"
   },
   {
    "duration": -1463,
    "start_time": "2022-02-26T05:54:42.859Z"
   },
   {
    "duration": -1466,
    "start_time": "2022-02-26T05:54:42.863Z"
   },
   {
    "duration": -1469,
    "start_time": "2022-02-26T05:54:42.867Z"
   },
   {
    "duration": -1471,
    "start_time": "2022-02-26T05:54:42.870Z"
   },
   {
    "duration": -1474,
    "start_time": "2022-02-26T05:54:42.874Z"
   },
   {
    "duration": -1477,
    "start_time": "2022-02-26T05:54:42.878Z"
   },
   {
    "duration": -1486,
    "start_time": "2022-02-26T05:54:42.888Z"
   },
   {
    "duration": -1489,
    "start_time": "2022-02-26T05:54:42.892Z"
   },
   {
    "duration": -1492,
    "start_time": "2022-02-26T05:54:42.896Z"
   },
   {
    "duration": -1495,
    "start_time": "2022-02-26T05:54:42.900Z"
   },
   {
    "duration": -1498,
    "start_time": "2022-02-26T05:54:42.904Z"
   },
   {
    "duration": -1500,
    "start_time": "2022-02-26T05:54:42.907Z"
   },
   {
    "duration": -1509,
    "start_time": "2022-02-26T05:54:42.917Z"
   },
   {
    "duration": -1512,
    "start_time": "2022-02-26T05:54:42.921Z"
   },
   {
    "duration": -1515,
    "start_time": "2022-02-26T05:54:42.925Z"
   },
   {
    "duration": -1518,
    "start_time": "2022-02-26T05:54:42.929Z"
   },
   {
    "duration": -1546,
    "start_time": "2022-02-26T05:54:42.958Z"
   },
   {
    "duration": -1549,
    "start_time": "2022-02-26T05:54:42.962Z"
   },
   {
    "duration": -1604,
    "start_time": "2022-02-26T05:54:43.018Z"
   },
   {
    "duration": -1607,
    "start_time": "2022-02-26T05:54:43.022Z"
   },
   {
    "duration": -1609,
    "start_time": "2022-02-26T05:54:43.026Z"
   },
   {
    "duration": -1612,
    "start_time": "2022-02-26T05:54:43.030Z"
   },
   {
    "duration": -1614,
    "start_time": "2022-02-26T05:54:43.033Z"
   },
   {
    "duration": -1728,
    "start_time": "2022-02-26T05:54:43.148Z"
   },
   {
    "duration": -1731,
    "start_time": "2022-02-26T05:54:43.152Z"
   },
   {
    "duration": -1733,
    "start_time": "2022-02-26T05:54:43.155Z"
   },
   {
    "duration": -1737,
    "start_time": "2022-02-26T05:54:43.159Z"
   },
   {
    "duration": -1740,
    "start_time": "2022-02-26T05:54:43.163Z"
   },
   {
    "duration": -1743,
    "start_time": "2022-02-26T05:54:43.167Z"
   },
   {
    "duration": -1878,
    "start_time": "2022-02-26T05:54:43.304Z"
   },
   {
    "duration": -1976,
    "start_time": "2022-02-26T05:54:43.403Z"
   },
   {
    "duration": -1979,
    "start_time": "2022-02-26T05:54:43.407Z"
   },
   {
    "duration": -1982,
    "start_time": "2022-02-26T05:54:43.411Z"
   },
   {
    "duration": -1984,
    "start_time": "2022-02-26T05:54:43.414Z"
   },
   {
    "duration": -1987,
    "start_time": "2022-02-26T05:54:43.418Z"
   },
   {
    "duration": -1988,
    "start_time": "2022-02-26T05:54:43.421Z"
   },
   {
    "duration": -1991,
    "start_time": "2022-02-26T05:54:43.425Z"
   },
   {
    "duration": -1993,
    "start_time": "2022-02-26T05:54:43.429Z"
   },
   {
    "duration": -1996,
    "start_time": "2022-02-26T05:54:43.433Z"
   },
   {
    "duration": -1998,
    "start_time": "2022-02-26T05:54:43.436Z"
   },
   {
    "duration": -2001,
    "start_time": "2022-02-26T05:54:43.440Z"
   },
   {
    "duration": -2004,
    "start_time": "2022-02-26T05:54:43.444Z"
   },
   {
    "duration": -2006,
    "start_time": "2022-02-26T05:54:43.447Z"
   },
   {
    "duration": -2008,
    "start_time": "2022-02-26T05:54:43.451Z"
   },
   {
    "duration": -2063,
    "start_time": "2022-02-26T05:54:43.507Z"
   },
   {
    "duration": -2065,
    "start_time": "2022-02-26T05:54:43.510Z"
   },
   {
    "duration": -2068,
    "start_time": "2022-02-26T05:54:43.514Z"
   },
   {
    "duration": -2071,
    "start_time": "2022-02-26T05:54:43.518Z"
   },
   {
    "duration": -2074,
    "start_time": "2022-02-26T05:54:43.522Z"
   },
   {
    "duration": -2095,
    "start_time": "2022-02-26T05:54:43.544Z"
   },
   {
    "duration": -2098,
    "start_time": "2022-02-26T05:54:43.548Z"
   },
   {
    "duration": -2100,
    "start_time": "2022-02-26T05:54:43.551Z"
   },
   {
    "duration": -2103,
    "start_time": "2022-02-26T05:54:43.555Z"
   },
   {
    "duration": -2106,
    "start_time": "2022-02-26T05:54:43.559Z"
   },
   {
    "duration": -2109,
    "start_time": "2022-02-26T05:54:43.562Z"
   },
   {
    "duration": -2112,
    "start_time": "2022-02-26T05:54:43.566Z"
   },
   {
    "duration": -2115,
    "start_time": "2022-02-26T05:54:43.570Z"
   },
   {
    "duration": -2067,
    "start_time": "2022-02-26T05:54:43.580Z"
   },
   {
    "duration": -2070,
    "start_time": "2022-02-26T05:54:43.584Z"
   },
   {
    "duration": -2071,
    "start_time": "2022-02-26T05:54:43.587Z"
   },
   {
    "duration": -2074,
    "start_time": "2022-02-26T05:54:43.591Z"
   },
   {
    "duration": -2076,
    "start_time": "2022-02-26T05:54:43.595Z"
   },
   {
    "duration": -2077,
    "start_time": "2022-02-26T05:54:43.598Z"
   },
   {
    "duration": -2080,
    "start_time": "2022-02-26T05:54:43.602Z"
   },
   {
    "duration": -2082,
    "start_time": "2022-02-26T05:54:43.606Z"
   },
   {
    "duration": 58,
    "start_time": "2022-02-26T05:57:53.182Z"
   },
   {
    "duration": 121,
    "start_time": "2022-02-26T05:58:04.001Z"
   },
   {
    "duration": 15647,
    "start_time": "2022-02-26T05:58:14.122Z"
   },
   {
    "duration": 888,
    "start_time": "2022-02-26T05:58:29.771Z"
   },
   {
    "duration": 20,
    "start_time": "2022-02-26T05:58:30.661Z"
   },
   {
    "duration": 75,
    "start_time": "2022-02-26T05:58:30.683Z"
   },
   {
    "duration": 128,
    "start_time": "2022-02-26T05:58:30.760Z"
   },
   {
    "duration": 130,
    "start_time": "2022-02-26T05:58:30.889Z"
   },
   {
    "duration": 488,
    "start_time": "2022-02-26T05:58:31.021Z"
   },
   {
    "duration": 7,
    "start_time": "2022-02-26T05:58:31.512Z"
   },
   {
    "duration": 567,
    "start_time": "2022-02-26T05:58:31.521Z"
   },
   {
    "duration": 64,
    "start_time": "2022-02-26T05:58:32.090Z"
   },
   {
    "duration": 70,
    "start_time": "2022-02-26T05:58:32.156Z"
   },
   {
    "duration": 58,
    "start_time": "2022-02-26T05:58:32.227Z"
   },
   {
    "duration": 6,
    "start_time": "2022-02-26T05:58:32.287Z"
   },
   {
    "duration": 6,
    "start_time": "2022-02-26T05:58:32.312Z"
   },
   {
    "duration": 131,
    "start_time": "2022-02-26T05:58:32.319Z"
   },
   {
    "duration": 338,
    "start_time": "2022-02-26T05:58:32.452Z"
   },
   {
    "duration": 325,
    "start_time": "2022-02-26T05:58:32.792Z"
   },
   {
    "duration": 26,
    "start_time": "2022-02-26T05:58:33.119Z"
   },
   {
    "duration": 83,
    "start_time": "2022-02-26T05:58:33.146Z"
   },
   {
    "duration": 25,
    "start_time": "2022-02-26T05:58:33.231Z"
   },
   {
    "duration": 169,
    "start_time": "2022-02-26T05:58:33.257Z"
   },
   {
    "duration": 327,
    "start_time": "2022-02-26T05:58:33.428Z"
   },
   {
    "duration": 316,
    "start_time": "2022-02-26T05:58:33.759Z"
   },
   {
    "duration": 36,
    "start_time": "2022-02-26T05:58:34.077Z"
   },
   {
    "duration": 137,
    "start_time": "2022-02-26T05:58:34.114Z"
   },
   {
    "duration": 35,
    "start_time": "2022-02-26T05:58:34.253Z"
   },
   {
    "duration": 408,
    "start_time": "2022-02-26T05:58:34.290Z"
   },
   {
    "duration": 295,
    "start_time": "2022-02-26T05:58:34.700Z"
   },
   {
    "duration": 44,
    "start_time": "2022-02-26T05:58:34.997Z"
   },
   {
    "duration": 11,
    "start_time": "2022-02-26T05:58:35.042Z"
   },
   {
    "duration": 10,
    "start_time": "2022-02-26T05:58:35.054Z"
   },
   {
    "duration": 98,
    "start_time": "2022-02-26T05:58:35.065Z"
   },
   {
    "duration": 90,
    "start_time": "2022-02-26T05:58:35.165Z"
   },
   {
    "duration": 60,
    "start_time": "2022-02-26T05:58:35.257Z"
   },
   {
    "duration": 58,
    "start_time": "2022-02-26T05:58:35.318Z"
   },
   {
    "duration": 73,
    "start_time": "2022-02-26T05:58:35.377Z"
   },
   {
    "duration": 5,
    "start_time": "2022-02-26T05:58:35.452Z"
   },
   {
    "duration": 5,
    "start_time": "2022-02-26T05:58:35.459Z"
   },
   {
    "duration": 421,
    "start_time": "2022-02-26T05:58:35.465Z"
   },
   {
    "duration": -1409,
    "start_time": "2022-02-26T05:58:37.297Z"
   },
   {
    "duration": -1412,
    "start_time": "2022-02-26T05:58:37.301Z"
   },
   {
    "duration": -1430,
    "start_time": "2022-02-26T05:58:37.319Z"
   },
   {
    "duration": -1433,
    "start_time": "2022-02-26T05:58:37.323Z"
   },
   {
    "duration": -1436,
    "start_time": "2022-02-26T05:58:37.327Z"
   },
   {
    "duration": -1439,
    "start_time": "2022-02-26T05:58:37.331Z"
   },
   {
    "duration": -1441,
    "start_time": "2022-02-26T05:58:37.334Z"
   },
   {
    "duration": -1445,
    "start_time": "2022-02-26T05:58:37.339Z"
   },
   {
    "duration": -1448,
    "start_time": "2022-02-26T05:58:37.343Z"
   },
   {
    "duration": -1452,
    "start_time": "2022-02-26T05:58:37.347Z"
   },
   {
    "duration": -1461,
    "start_time": "2022-02-26T05:58:37.357Z"
   },
   {
    "duration": -1464,
    "start_time": "2022-02-26T05:58:37.361Z"
   },
   {
    "duration": -1467,
    "start_time": "2022-02-26T05:58:37.365Z"
   },
   {
    "duration": -1470,
    "start_time": "2022-02-26T05:58:37.369Z"
   },
   {
    "duration": -1473,
    "start_time": "2022-02-26T05:58:37.373Z"
   },
   {
    "duration": -1476,
    "start_time": "2022-02-26T05:58:37.377Z"
   },
   {
    "duration": -1479,
    "start_time": "2022-02-26T05:58:37.381Z"
   },
   {
    "duration": -1482,
    "start_time": "2022-02-26T05:58:37.385Z"
   },
   {
    "duration": -1495,
    "start_time": "2022-02-26T05:58:37.399Z"
   },
   {
    "duration": -1500,
    "start_time": "2022-02-26T05:58:37.405Z"
   },
   {
    "duration": -1505,
    "start_time": "2022-02-26T05:58:37.411Z"
   },
   {
    "duration": -1510,
    "start_time": "2022-02-26T05:58:37.416Z"
   },
   {
    "duration": -1514,
    "start_time": "2022-02-26T05:58:37.421Z"
   },
   {
    "duration": -1518,
    "start_time": "2022-02-26T05:58:37.426Z"
   },
   {
    "duration": -1521,
    "start_time": "2022-02-26T05:58:37.430Z"
   },
   {
    "duration": -1525,
    "start_time": "2022-02-26T05:58:37.435Z"
   },
   {
    "duration": -1529,
    "start_time": "2022-02-26T05:58:37.440Z"
   },
   {
    "duration": -1533,
    "start_time": "2022-02-26T05:58:37.445Z"
   },
   {
    "duration": -1553,
    "start_time": "2022-02-26T05:58:37.466Z"
   },
   {
    "duration": -1557,
    "start_time": "2022-02-26T05:58:37.471Z"
   },
   {
    "duration": -1562,
    "start_time": "2022-02-26T05:58:37.476Z"
   },
   {
    "duration": -1566,
    "start_time": "2022-02-26T05:58:37.481Z"
   },
   {
    "duration": -1569,
    "start_time": "2022-02-26T05:58:37.485Z"
   },
   {
    "duration": -1606,
    "start_time": "2022-02-26T05:58:37.523Z"
   },
   {
    "duration": -1609,
    "start_time": "2022-02-26T05:58:37.527Z"
   },
   {
    "duration": -1613,
    "start_time": "2022-02-26T05:58:37.531Z"
   },
   {
    "duration": -1623,
    "start_time": "2022-02-26T05:58:37.542Z"
   },
   {
    "duration": -1626,
    "start_time": "2022-02-26T05:58:37.546Z"
   },
   {
    "duration": -1628,
    "start_time": "2022-02-26T05:58:37.549Z"
   },
   {
    "duration": -1631,
    "start_time": "2022-02-26T05:58:37.553Z"
   },
   {
    "duration": -1633,
    "start_time": "2022-02-26T05:58:37.556Z"
   },
   {
    "duration": -1637,
    "start_time": "2022-02-26T05:58:37.561Z"
   },
   {
    "duration": -1640,
    "start_time": "2022-02-26T05:58:37.565Z"
   },
   {
    "duration": -1647,
    "start_time": "2022-02-26T05:58:37.572Z"
   },
   {
    "duration": -1650,
    "start_time": "2022-02-26T05:58:37.576Z"
   },
   {
    "duration": -1653,
    "start_time": "2022-02-26T05:58:37.580Z"
   },
   {
    "duration": -1662,
    "start_time": "2022-02-26T05:58:37.590Z"
   },
   {
    "duration": -1665,
    "start_time": "2022-02-26T05:58:37.594Z"
   },
   {
    "duration": 181,
    "start_time": "2022-02-26T05:59:05.270Z"
   },
   {
    "duration": 278,
    "start_time": "2022-02-26T05:59:09.224Z"
   },
   {
    "duration": 313,
    "start_time": "2022-02-26T05:59:09.782Z"
   },
   {
    "duration": 229,
    "start_time": "2022-02-26T05:59:10.303Z"
   },
   {
    "duration": 12,
    "start_time": "2022-02-26T05:59:10.674Z"
   },
   {
    "duration": 423,
    "start_time": "2022-02-26T05:59:11.304Z"
   },
   {
    "duration": 67,
    "start_time": "2022-02-26T05:59:11.961Z"
   },
   {
    "duration": 63,
    "start_time": "2022-02-26T05:59:12.652Z"
   },
   {
    "duration": 65,
    "start_time": "2022-02-26T05:59:12.882Z"
   },
   {
    "duration": 6,
    "start_time": "2022-02-26T05:59:13.064Z"
   },
   {
    "duration": 6,
    "start_time": "2022-02-26T05:59:13.262Z"
   },
   {
    "duration": 253,
    "start_time": "2022-02-26T05:59:13.652Z"
   },
   {
    "duration": 71,
    "start_time": "2022-02-26T05:59:14.441Z"
   },
   {
    "duration": 115,
    "start_time": "2022-02-26T05:59:23.532Z"
   },
   {
    "duration": 71,
    "start_time": "2022-02-26T05:59:28.853Z"
   },
   {
    "duration": 20,
    "start_time": "2022-02-26T05:59:29.212Z"
   },
   {
    "duration": 76,
    "start_time": "2022-02-26T05:59:29.891Z"
   },
   {
    "duration": 51,
    "start_time": "2022-02-26T05:59:30.214Z"
   },
   {
    "duration": 89,
    "start_time": "2022-02-26T05:59:30.385Z"
   },
   {
    "duration": 20,
    "start_time": "2022-02-26T05:59:30.714Z"
   },
   {
    "duration": 76,
    "start_time": "2022-02-26T05:59:31.044Z"
   },
   {
    "duration": 23,
    "start_time": "2022-02-26T05:59:31.381Z"
   },
   {
    "duration": 79,
    "start_time": "2022-02-26T05:59:31.759Z"
   },
   {
    "duration": 3,
    "start_time": "2022-02-26T05:59:31.894Z"
   },
   {
    "duration": 3,
    "start_time": "2022-02-26T05:59:32.061Z"
   },
   {
    "duration": 13,
    "start_time": "2022-02-26T05:59:32.412Z"
   },
   {
    "duration": 41,
    "start_time": "2022-02-26T05:59:32.582Z"
   },
   {
    "duration": 18,
    "start_time": "2022-02-26T05:59:32.894Z"
   },
   {
    "duration": 71,
    "start_time": "2022-02-26T05:59:33.452Z"
   },
   {
    "duration": 20,
    "start_time": "2022-02-26T05:59:33.824Z"
   },
   {
    "duration": 19,
    "start_time": "2022-02-26T05:59:34.172Z"
   },
   {
    "duration": 74,
    "start_time": "2022-02-26T05:59:34.914Z"
   },
   {
    "duration": 80,
    "start_time": "2022-02-26T05:59:35.669Z"
   },
   {
    "duration": 6,
    "start_time": "2022-02-26T05:59:37.076Z"
   },
   {
    "duration": 3,
    "start_time": "2022-02-26T05:59:37.190Z"
   },
   {
    "duration": 5,
    "start_time": "2022-02-26T05:59:37.370Z"
   },
   {
    "duration": 3,
    "start_time": "2022-02-26T05:59:38.122Z"
   },
   {
    "duration": 27,
    "start_time": "2022-02-26T05:59:38.482Z"
   },
   {
    "duration": 678,
    "start_time": "2022-02-26T05:59:38.670Z"
   },
   {
    "duration": 3,
    "start_time": "2022-02-26T05:59:39.350Z"
   },
   {
    "duration": 64,
    "start_time": "2022-02-26T05:59:39.355Z"
   },
   {
    "duration": 5,
    "start_time": "2022-02-26T05:59:39.590Z"
   },
   {
    "duration": 346,
    "start_time": "2022-02-26T05:59:40.467Z"
   },
   {
    "duration": 12327,
    "start_time": "2022-02-26T05:59:56.263Z"
   },
   {
    "duration": 2922,
    "start_time": "2022-02-26T06:00:08.592Z"
   },
   {
    "duration": 139004,
    "start_time": "2022-02-26T06:00:11.517Z"
   },
   {
    "duration": 9601,
    "start_time": "2022-02-26T06:02:30.523Z"
   },
   {
    "duration": 192,
    "start_time": "2022-02-26T06:02:40.126Z"
   },
   {
    "duration": -1412,
    "start_time": "2022-02-26T06:02:41.732Z"
   },
   {
    "duration": -1443,
    "start_time": "2022-02-26T06:02:41.764Z"
   },
   {
    "duration": -1446,
    "start_time": "2022-02-26T06:02:41.768Z"
   },
   {
    "duration": 17,
    "start_time": "2022-02-26T06:04:15.441Z"
   },
   {
    "duration": 33006,
    "start_time": "2022-02-26T06:04:54.941Z"
   },
   {
    "duration": 17,
    "start_time": "2022-02-26T06:06:33.664Z"
   },
   {
    "duration": 3,
    "start_time": "2022-02-26T06:07:14.310Z"
   },
   {
    "duration": 23929,
    "start_time": "2022-02-26T06:24:57.050Z"
   },
   {
    "duration": 191,
    "start_time": "2022-02-26T06:25:24.911Z"
   },
   {
    "duration": 21769,
    "start_time": "2022-02-26T06:26:20.420Z"
   },
   {
    "duration": 6923,
    "start_time": "2022-02-26T06:26:42.191Z"
   },
   {
    "duration": 16,
    "start_time": "2022-02-26T06:31:34.710Z"
   },
   {
    "duration": 13,
    "start_time": "2022-02-26T06:31:49.012Z"
   },
   {
    "duration": 8045,
    "start_time": "2022-02-26T06:45:51.432Z"
   },
   {
    "duration": 847,
    "start_time": "2022-02-26T06:45:59.479Z"
   },
   {
    "duration": 18,
    "start_time": "2022-02-26T06:46:00.328Z"
   },
   {
    "duration": 75,
    "start_time": "2022-02-26T06:46:00.347Z"
   },
   {
    "duration": 135,
    "start_time": "2022-02-26T06:46:00.423Z"
   },
   {
    "duration": 134,
    "start_time": "2022-02-26T06:46:00.560Z"
   },
   {
    "duration": 512,
    "start_time": "2022-02-26T06:46:00.695Z"
   },
   {
    "duration": 9,
    "start_time": "2022-02-26T06:46:01.210Z"
   },
   {
    "duration": 16096,
    "start_time": "2022-02-26T06:46:01.221Z"
   },
   {
    "duration": 500,
    "start_time": "2022-02-26T06:46:17.319Z"
   },
   {
    "duration": 61,
    "start_time": "2022-02-26T06:46:17.820Z"
   },
   {
    "duration": 74,
    "start_time": "2022-02-26T06:46:17.883Z"
   },
   {
    "duration": 70,
    "start_time": "2022-02-26T06:46:17.960Z"
   },
   {
    "duration": 7,
    "start_time": "2022-02-26T06:46:18.032Z"
   },
   {
    "duration": 10,
    "start_time": "2022-02-26T06:46:18.040Z"
   },
   {
    "duration": 134,
    "start_time": "2022-02-26T06:46:18.051Z"
   },
   {
    "duration": 146,
    "start_time": "2022-02-26T06:46:18.187Z"
   },
   {
    "duration": 19,
    "start_time": "2022-02-26T06:46:18.335Z"
   },
   {
    "duration": 125,
    "start_time": "2022-02-26T06:46:18.355Z"
   },
   {
    "duration": 33,
    "start_time": "2022-02-26T06:46:18.481Z"
   },
   {
    "duration": 60,
    "start_time": "2022-02-26T06:46:18.516Z"
   },
   {
    "duration": 42,
    "start_time": "2022-02-26T06:46:18.578Z"
   },
   {
    "duration": 166,
    "start_time": "2022-02-26T06:46:18.624Z"
   },
   {
    "duration": 119,
    "start_time": "2022-02-26T06:46:18.793Z"
   },
   {
    "duration": 121,
    "start_time": "2022-02-26T06:46:18.913Z"
   },
   {
    "duration": 25,
    "start_time": "2022-02-26T06:46:19.036Z"
   },
   {
    "duration": 143,
    "start_time": "2022-02-26T06:46:19.063Z"
   },
   {
    "duration": 35,
    "start_time": "2022-02-26T06:46:19.211Z"
   },
   {
    "duration": 124,
    "start_time": "2022-02-26T06:46:19.248Z"
   },
   {
    "duration": 138,
    "start_time": "2022-02-26T06:46:19.374Z"
   },
   {
    "duration": 37,
    "start_time": "2022-02-26T06:46:19.514Z"
   },
   {
    "duration": 11,
    "start_time": "2022-02-26T06:46:19.553Z"
   },
   {
    "duration": 11,
    "start_time": "2022-02-26T06:46:19.565Z"
   },
   {
    "duration": 103,
    "start_time": "2022-02-26T06:46:19.577Z"
   },
   {
    "duration": 89,
    "start_time": "2022-02-26T06:46:19.682Z"
   },
   {
    "duration": 64,
    "start_time": "2022-02-26T06:46:19.772Z"
   },
   {
    "duration": 59,
    "start_time": "2022-02-26T06:46:19.839Z"
   },
   {
    "duration": 60,
    "start_time": "2022-02-26T06:46:19.911Z"
   },
   {
    "duration": 7,
    "start_time": "2022-02-26T06:46:19.973Z"
   },
   {
    "duration": 32,
    "start_time": "2022-02-26T06:46:19.981Z"
   },
   {
    "duration": 186,
    "start_time": "2022-02-26T06:46:20.016Z"
   },
   {
    "duration": 117,
    "start_time": "2022-02-26T06:46:20.204Z"
   },
   {
    "duration": 141,
    "start_time": "2022-02-26T06:46:20.323Z"
   },
   {
    "duration": 376,
    "start_time": "2022-02-26T06:46:20.466Z"
   },
   {
    "duration": -1415,
    "start_time": "2022-02-26T06:46:22.260Z"
   },
   {
    "duration": -1417,
    "start_time": "2022-02-26T06:46:22.264Z"
   },
   {
    "duration": -1421,
    "start_time": "2022-02-26T06:46:22.269Z"
   },
   {
    "duration": -1450,
    "start_time": "2022-02-26T06:46:22.300Z"
   },
   {
    "duration": -1460,
    "start_time": "2022-02-26T06:46:22.311Z"
   },
   {
    "duration": -1462,
    "start_time": "2022-02-26T06:46:22.315Z"
   },
   {
    "duration": -1466,
    "start_time": "2022-02-26T06:46:22.320Z"
   },
   {
    "duration": -1469,
    "start_time": "2022-02-26T06:46:22.324Z"
   },
   {
    "duration": -1472,
    "start_time": "2022-02-26T06:46:22.329Z"
   },
   {
    "duration": -1475,
    "start_time": "2022-02-26T06:46:22.333Z"
   },
   {
    "duration": -1478,
    "start_time": "2022-02-26T06:46:22.338Z"
   },
   {
    "duration": -1481,
    "start_time": "2022-02-26T06:46:22.342Z"
   },
   {
    "duration": -1484,
    "start_time": "2022-02-26T06:46:22.346Z"
   },
   {
    "duration": -1487,
    "start_time": "2022-02-26T06:46:22.351Z"
   },
   {
    "duration": -1490,
    "start_time": "2022-02-26T06:46:22.355Z"
   },
   {
    "duration": -1492,
    "start_time": "2022-02-26T06:46:22.359Z"
   },
   {
    "duration": -1496,
    "start_time": "2022-02-26T06:46:22.364Z"
   },
   {
    "duration": -1499,
    "start_time": "2022-02-26T06:46:22.368Z"
   },
   {
    "duration": -1502,
    "start_time": "2022-02-26T06:46:22.373Z"
   },
   {
    "duration": -1506,
    "start_time": "2022-02-26T06:46:22.378Z"
   },
   {
    "duration": -1508,
    "start_time": "2022-02-26T06:46:22.382Z"
   },
   {
    "duration": -1511,
    "start_time": "2022-02-26T06:46:22.386Z"
   },
   {
    "duration": -1515,
    "start_time": "2022-02-26T06:46:22.391Z"
   },
   {
    "duration": -1574,
    "start_time": "2022-02-26T06:46:22.452Z"
   },
   {
    "duration": -1577,
    "start_time": "2022-02-26T06:46:22.456Z"
   },
   {
    "duration": -1579,
    "start_time": "2022-02-26T06:46:22.460Z"
   },
   {
    "duration": -1583,
    "start_time": "2022-02-26T06:46:22.465Z"
   },
   {
    "duration": -1586,
    "start_time": "2022-02-26T06:46:22.470Z"
   },
   {
    "duration": -1561,
    "start_time": "2022-02-26T06:46:22.474Z"
   },
   {
    "duration": -1565,
    "start_time": "2022-02-26T06:46:22.479Z"
   },
   {
    "duration": -1567,
    "start_time": "2022-02-26T06:46:22.483Z"
   },
   {
    "duration": -1581,
    "start_time": "2022-02-26T06:46:22.498Z"
   },
   {
    "duration": -1590,
    "start_time": "2022-02-26T06:46:22.510Z"
   },
   {
    "duration": -1594,
    "start_time": "2022-02-26T06:46:22.515Z"
   },
   {
    "duration": -1597,
    "start_time": "2022-02-26T06:46:22.519Z"
   },
   {
    "duration": -1600,
    "start_time": "2022-02-26T06:46:22.523Z"
   },
   {
    "duration": -1604,
    "start_time": "2022-02-26T06:46:22.528Z"
   },
   {
    "duration": -1607,
    "start_time": "2022-02-26T06:46:22.532Z"
   },
   {
    "duration": -1611,
    "start_time": "2022-02-26T06:46:22.537Z"
   },
   {
    "duration": -1615,
    "start_time": "2022-02-26T06:46:22.542Z"
   },
   {
    "duration": -1618,
    "start_time": "2022-02-26T06:46:22.546Z"
   },
   {
    "duration": -1620,
    "start_time": "2022-02-26T06:46:22.550Z"
   },
   {
    "duration": -1624,
    "start_time": "2022-02-26T06:46:22.555Z"
   },
   {
    "duration": -1627,
    "start_time": "2022-02-26T06:46:22.559Z"
   },
   {
    "duration": -1630,
    "start_time": "2022-02-26T06:46:22.564Z"
   },
   {
    "duration": 46,
    "start_time": "2022-02-26T06:51:12.153Z"
   },
   {
    "duration": 8481,
    "start_time": "2022-02-26T06:51:18.717Z"
   },
   {
    "duration": 833,
    "start_time": "2022-02-26T06:51:27.201Z"
   },
   {
    "duration": 17,
    "start_time": "2022-02-26T06:51:28.036Z"
   },
   {
    "duration": 71,
    "start_time": "2022-02-26T06:51:28.055Z"
   },
   {
    "duration": 131,
    "start_time": "2022-02-26T06:51:28.128Z"
   },
   {
    "duration": 117,
    "start_time": "2022-02-26T06:51:28.261Z"
   },
   {
    "duration": 477,
    "start_time": "2022-02-26T06:51:28.380Z"
   },
   {
    "duration": 6,
    "start_time": "2022-02-26T06:51:28.859Z"
   },
   {
    "duration": 15891,
    "start_time": "2022-02-26T06:51:28.867Z"
   },
   {
    "duration": 531,
    "start_time": "2022-02-26T06:51:44.761Z"
   },
   {
    "duration": 64,
    "start_time": "2022-02-26T06:51:45.294Z"
   },
   {
    "duration": 68,
    "start_time": "2022-02-26T06:51:45.359Z"
   },
   {
    "duration": 57,
    "start_time": "2022-02-26T06:51:45.429Z"
   },
   {
    "duration": 25,
    "start_time": "2022-02-26T06:51:45.488Z"
   },
   {
    "duration": 4,
    "start_time": "2022-02-26T06:51:45.515Z"
   },
   {
    "duration": 123,
    "start_time": "2022-02-26T06:51:45.521Z"
   },
   {
    "duration": 141,
    "start_time": "2022-02-26T06:51:45.645Z"
   },
   {
    "duration": 24,
    "start_time": "2022-02-26T06:51:45.788Z"
   },
   {
    "duration": 116,
    "start_time": "2022-02-26T06:51:45.814Z"
   },
   {
    "duration": 23,
    "start_time": "2022-02-26T06:51:45.932Z"
   },
   {
    "duration": 71,
    "start_time": "2022-02-26T06:51:45.956Z"
   },
   {
    "duration": 22,
    "start_time": "2022-02-26T06:51:46.029Z"
   },
   {
    "duration": 160,
    "start_time": "2022-02-26T06:51:46.052Z"
   },
   {
    "duration": 104,
    "start_time": "2022-02-26T06:51:46.213Z"
   },
   {
    "duration": 118,
    "start_time": "2022-02-26T06:51:46.319Z"
   },
   {
    "duration": 25,
    "start_time": "2022-02-26T06:51:46.438Z"
   },
   {
    "duration": 139,
    "start_time": "2022-02-26T06:51:46.467Z"
   },
   {
    "duration": 35,
    "start_time": "2022-02-26T06:51:46.609Z"
   },
   {
    "duration": 117,
    "start_time": "2022-02-26T06:51:46.645Z"
   },
   {
    "duration": 120,
    "start_time": "2022-02-26T06:51:46.764Z"
   },
   {
    "duration": 43,
    "start_time": "2022-02-26T06:51:46.886Z"
   },
   {
    "duration": 11,
    "start_time": "2022-02-26T06:51:46.931Z"
   },
   {
    "duration": 11,
    "start_time": "2022-02-26T06:51:46.944Z"
   },
   {
    "duration": 100,
    "start_time": "2022-02-26T06:51:46.957Z"
   },
   {
    "duration": 82,
    "start_time": "2022-02-26T06:51:47.059Z"
   },
   {
    "duration": 51,
    "start_time": "2022-02-26T06:51:47.143Z"
   },
   {
    "duration": 68,
    "start_time": "2022-02-26T06:51:47.196Z"
   },
   {
    "duration": 73,
    "start_time": "2022-02-26T06:51:47.266Z"
   },
   {
    "duration": 5,
    "start_time": "2022-02-26T06:51:47.341Z"
   },
   {
    "duration": 10,
    "start_time": "2022-02-26T06:51:47.348Z"
   },
   {
    "duration": 183,
    "start_time": "2022-02-26T06:51:47.360Z"
   },
   {
    "duration": 116,
    "start_time": "2022-02-26T06:51:47.545Z"
   },
   {
    "duration": 136,
    "start_time": "2022-02-26T06:51:47.663Z"
   },
   {
    "duration": 53,
    "start_time": "2022-02-26T06:51:47.801Z"
   },
   {
    "duration": 11,
    "start_time": "2022-02-26T06:51:47.857Z"
   },
   {
    "duration": 402,
    "start_time": "2022-02-26T06:51:47.870Z"
   },
   {
    "duration": 74,
    "start_time": "2022-02-26T06:51:48.274Z"
   },
   {
    "duration": 72,
    "start_time": "2022-02-26T06:51:48.349Z"
   },
   {
    "duration": 59,
    "start_time": "2022-02-26T06:51:48.423Z"
   },
   {
    "duration": 5,
    "start_time": "2022-02-26T06:51:48.483Z"
   },
   {
    "duration": 23,
    "start_time": "2022-02-26T06:51:48.490Z"
   },
   {
    "duration": 118,
    "start_time": "2022-02-26T06:51:48.514Z"
   },
   {
    "duration": 91,
    "start_time": "2022-02-26T06:51:48.633Z"
   },
   {
    "duration": 19,
    "start_time": "2022-02-26T06:51:48.725Z"
   },
   {
    "duration": 87,
    "start_time": "2022-02-26T06:51:48.746Z"
   },
   {
    "duration": 48,
    "start_time": "2022-02-26T06:51:48.835Z"
   },
   {
    "duration": 102,
    "start_time": "2022-02-26T06:51:48.885Z"
   },
   {
    "duration": 23,
    "start_time": "2022-02-26T06:51:48.989Z"
   },
   {
    "duration": 77,
    "start_time": "2022-02-26T06:51:49.014Z"
   },
   {
    "duration": 31,
    "start_time": "2022-02-26T06:51:49.092Z"
   },
   {
    "duration": 91,
    "start_time": "2022-02-26T06:51:49.124Z"
   },
   {
    "duration": 2,
    "start_time": "2022-02-26T06:51:49.216Z"
   },
   {
    "duration": 7,
    "start_time": "2022-02-26T06:51:49.220Z"
   },
   {
    "duration": 15,
    "start_time": "2022-02-26T06:51:49.229Z"
   },
   {
    "duration": 41,
    "start_time": "2022-02-26T06:51:49.246Z"
   },
   {
    "duration": 34,
    "start_time": "2022-02-26T06:51:49.288Z"
   },
   {
    "duration": 87,
    "start_time": "2022-02-26T06:51:49.324Z"
   },
   {
    "duration": 19,
    "start_time": "2022-02-26T06:51:49.413Z"
   },
   {
    "duration": 31,
    "start_time": "2022-02-26T06:51:49.434Z"
   },
   {
    "duration": 95,
    "start_time": "2022-02-26T06:51:49.466Z"
   },
   {
    "duration": 85,
    "start_time": "2022-02-26T06:51:49.563Z"
   },
   {
    "duration": 5,
    "start_time": "2022-02-26T06:51:49.651Z"
   },
   {
    "duration": 6,
    "start_time": "2022-02-26T06:51:49.658Z"
   },
   {
    "duration": 6,
    "start_time": "2022-02-26T06:51:49.666Z"
   },
   {
    "duration": 29,
    "start_time": "2022-02-26T06:51:49.674Z"
   },
   {
    "duration": 25,
    "start_time": "2022-02-26T06:51:49.704Z"
   },
   {
    "duration": 706,
    "start_time": "2022-02-26T06:51:49.731Z"
   },
   {
    "duration": 4,
    "start_time": "2022-02-26T06:51:50.438Z"
   },
   {
    "duration": 68,
    "start_time": "2022-02-26T06:51:50.443Z"
   },
   {
    "duration": 4,
    "start_time": "2022-02-26T06:51:50.513Z"
   },
   {
    "duration": 299,
    "start_time": "2022-02-26T06:51:50.522Z"
   },
   {
    "duration": 11622,
    "start_time": "2022-02-26T06:51:50.823Z"
   },
   {
    "duration": 2669,
    "start_time": "2022-02-26T06:52:02.447Z"
   },
   {
    "duration": 138309,
    "start_time": "2022-02-26T06:52:05.119Z"
   },
   {
    "duration": 7784,
    "start_time": "2022-02-26T06:54:23.429Z"
   },
   {
    "duration": 19,
    "start_time": "2022-02-26T06:54:31.215Z"
   },
   {
    "duration": 33580,
    "start_time": "2022-02-26T06:54:31.236Z"
   },
   {
    "duration": 18,
    "start_time": "2022-02-26T06:55:04.817Z"
   },
   {
    "duration": 10,
    "start_time": "2022-02-26T06:55:04.837Z"
   },
   {
    "duration": 32596,
    "start_time": "2022-02-26T07:01:36.522Z"
   },
   {
    "duration": 446,
    "start_time": "2022-02-26T07:07:42.806Z"
   },
   {
    "duration": 55,
    "start_time": "2022-02-26T07:08:24.420Z"
   },
   {
    "duration": 60,
    "start_time": "2022-02-26T07:08:46.981Z"
   },
   {
    "duration": 191,
    "start_time": "2022-02-26T07:08:59.240Z"
   },
   {
    "duration": 179,
    "start_time": "2022-02-26T07:09:36.596Z"
   },
   {
    "duration": 214,
    "start_time": "2022-02-26T07:09:49.588Z"
   },
   {
    "duration": 102,
    "start_time": "2022-02-26T07:26:43.120Z"
   },
   {
    "duration": 6042,
    "start_time": "2022-02-26T07:26:58.919Z"
   },
   {
    "duration": 180,
    "start_time": "2022-02-26T07:30:29.710Z"
   },
   {
    "duration": 4,
    "start_time": "2022-02-26T07:30:36.650Z"
   },
   {
    "duration": 57,
    "start_time": "2022-02-26T07:31:32.621Z"
   },
   {
    "duration": 609478,
    "start_time": "2022-02-26T07:31:42.256Z"
   },
   {
    "duration": 18,
    "start_time": "2022-02-26T07:42:14.570Z"
   },
   {
    "duration": 2,
    "start_time": "2022-02-26T07:48:55.178Z"
   },
   {
    "duration": 7779,
    "start_time": "2022-02-26T07:51:08.971Z"
   },
   {
    "duration": 844,
    "start_time": "2022-02-26T07:51:16.752Z"
   },
   {
    "duration": 20,
    "start_time": "2022-02-26T07:51:17.598Z"
   },
   {
    "duration": 63,
    "start_time": "2022-02-26T07:51:17.620Z"
   },
   {
    "duration": 132,
    "start_time": "2022-02-26T07:51:17.685Z"
   },
   {
    "duration": 121,
    "start_time": "2022-02-26T07:51:17.819Z"
   },
   {
    "duration": 470,
    "start_time": "2022-02-26T07:51:17.942Z"
   },
   {
    "duration": 6,
    "start_time": "2022-02-26T07:51:18.415Z"
   },
   {
    "duration": 16158,
    "start_time": "2022-02-26T07:51:18.423Z"
   },
   {
    "duration": 531,
    "start_time": "2022-02-26T07:51:34.583Z"
   },
   {
    "duration": 61,
    "start_time": "2022-02-26T07:51:35.116Z"
   },
   {
    "duration": 71,
    "start_time": "2022-02-26T07:51:35.179Z"
   },
   {
    "duration": 69,
    "start_time": "2022-02-26T07:51:35.252Z"
   },
   {
    "duration": 5,
    "start_time": "2022-02-26T07:51:35.323Z"
   },
   {
    "duration": 9,
    "start_time": "2022-02-26T07:51:35.329Z"
   },
   {
    "duration": 128,
    "start_time": "2022-02-26T07:51:35.339Z"
   },
   {
    "duration": 151,
    "start_time": "2022-02-26T07:51:35.469Z"
   },
   {
    "duration": 20,
    "start_time": "2022-02-26T07:51:35.622Z"
   },
   {
    "duration": 132,
    "start_time": "2022-02-26T07:51:35.644Z"
   },
   {
    "duration": 24,
    "start_time": "2022-02-26T07:51:35.777Z"
   },
   {
    "duration": 67,
    "start_time": "2022-02-26T07:51:35.803Z"
   },
   {
    "duration": 24,
    "start_time": "2022-02-26T07:51:35.872Z"
   },
   {
    "duration": 163,
    "start_time": "2022-02-26T07:51:35.915Z"
   },
   {
    "duration": 117,
    "start_time": "2022-02-26T07:51:36.081Z"
   },
   {
    "duration": 126,
    "start_time": "2022-02-26T07:51:36.200Z"
   },
   {
    "duration": 26,
    "start_time": "2022-02-26T07:51:36.328Z"
   },
   {
    "duration": 142,
    "start_time": "2022-02-26T07:51:36.356Z"
   },
   {
    "duration": 40,
    "start_time": "2022-02-26T07:51:36.500Z"
   },
   {
    "duration": 127,
    "start_time": "2022-02-26T07:51:36.542Z"
   },
   {
    "duration": 129,
    "start_time": "2022-02-26T07:51:36.671Z"
   },
   {
    "duration": 44,
    "start_time": "2022-02-26T07:51:36.801Z"
   },
   {
    "duration": 11,
    "start_time": "2022-02-26T07:51:36.846Z"
   },
   {
    "duration": 11,
    "start_time": "2022-02-26T07:51:36.858Z"
   },
   {
    "duration": 100,
    "start_time": "2022-02-26T07:51:36.871Z"
   },
   {
    "duration": 86,
    "start_time": "2022-02-26T07:51:36.974Z"
   },
   {
    "duration": 66,
    "start_time": "2022-02-26T07:51:37.062Z"
   },
   {
    "duration": 56,
    "start_time": "2022-02-26T07:51:37.130Z"
   },
   {
    "duration": 77,
    "start_time": "2022-02-26T07:51:37.188Z"
   },
   {
    "duration": 7,
    "start_time": "2022-02-26T07:51:37.267Z"
   },
   {
    "duration": 6,
    "start_time": "2022-02-26T07:51:37.275Z"
   },
   {
    "duration": 214,
    "start_time": "2022-02-26T07:51:37.283Z"
   },
   {
    "duration": 112,
    "start_time": "2022-02-26T07:51:37.500Z"
   },
   {
    "duration": 132,
    "start_time": "2022-02-26T07:51:37.614Z"
   },
   {
    "duration": 49,
    "start_time": "2022-02-26T07:51:37.749Z"
   },
   {
    "duration": 11,
    "start_time": "2022-02-26T07:51:37.813Z"
   },
   {
    "duration": 391,
    "start_time": "2022-02-26T07:51:37.826Z"
   },
   {
    "duration": 65,
    "start_time": "2022-02-26T07:51:38.219Z"
   },
   {
    "duration": 75,
    "start_time": "2022-02-26T07:51:38.286Z"
   },
   {
    "duration": 68,
    "start_time": "2022-02-26T07:51:38.363Z"
   },
   {
    "duration": 6,
    "start_time": "2022-02-26T07:51:38.432Z"
   },
   {
    "duration": 6,
    "start_time": "2022-02-26T07:51:38.440Z"
   },
   {
    "duration": 133,
    "start_time": "2022-02-26T07:51:38.448Z"
   },
   {
    "duration": 80,
    "start_time": "2022-02-26T07:51:38.583Z"
   },
   {
    "duration": 20,
    "start_time": "2022-02-26T07:51:38.665Z"
   },
   {
    "duration": 90,
    "start_time": "2022-02-26T07:51:38.687Z"
   },
   {
    "duration": 64,
    "start_time": "2022-02-26T07:51:38.779Z"
   },
   {
    "duration": 93,
    "start_time": "2022-02-26T07:51:38.845Z"
   },
   {
    "duration": 17,
    "start_time": "2022-02-26T07:51:38.940Z"
   },
   {
    "duration": 87,
    "start_time": "2022-02-26T07:51:38.958Z"
   },
   {
    "duration": 18,
    "start_time": "2022-02-26T07:51:39.047Z"
   },
   {
    "duration": 91,
    "start_time": "2022-02-26T07:51:39.066Z"
   },
   {
    "duration": 2,
    "start_time": "2022-02-26T07:51:39.160Z"
   },
   {
    "duration": 6,
    "start_time": "2022-02-26T07:51:39.164Z"
   },
   {
    "duration": 17,
    "start_time": "2022-02-26T07:51:39.172Z"
   },
   {
    "duration": 45,
    "start_time": "2022-02-26T07:51:39.191Z"
   },
   {
    "duration": 18,
    "start_time": "2022-02-26T07:51:39.237Z"
   },
   {
    "duration": 93,
    "start_time": "2022-02-26T07:51:39.257Z"
   },
   {
    "duration": 20,
    "start_time": "2022-02-26T07:51:39.355Z"
   },
   {
    "duration": 46,
    "start_time": "2022-02-26T07:51:39.377Z"
   },
   {
    "duration": 80,
    "start_time": "2022-02-26T07:51:39.424Z"
   },
   {
    "duration": 78,
    "start_time": "2022-02-26T07:51:39.512Z"
   },
   {
    "duration": 21,
    "start_time": "2022-02-26T07:51:39.591Z"
   },
   {
    "duration": 22,
    "start_time": "2022-02-26T07:51:39.614Z"
   },
   {
    "duration": 9,
    "start_time": "2022-02-26T07:51:39.638Z"
   },
   {
    "duration": 23,
    "start_time": "2022-02-26T07:51:39.649Z"
   },
   {
    "duration": 36,
    "start_time": "2022-02-26T07:51:39.674Z"
   },
   {
    "duration": 713,
    "start_time": "2022-02-26T07:51:39.712Z"
   },
   {
    "duration": 4,
    "start_time": "2022-02-26T07:51:40.427Z"
   },
   {
    "duration": 62,
    "start_time": "2022-02-26T07:51:40.432Z"
   },
   {
    "duration": 16,
    "start_time": "2022-02-26T07:51:40.496Z"
   },
   {
    "duration": 399,
    "start_time": "2022-02-26T07:51:40.514Z"
   },
   {
    "duration": 11646,
    "start_time": "2022-02-26T07:51:40.916Z"
   },
   {
    "duration": 2555,
    "start_time": "2022-02-26T07:51:52.564Z"
   },
   {
    "duration": 138707,
    "start_time": "2022-02-26T07:51:55.121Z"
   },
   {
    "duration": 8085,
    "start_time": "2022-02-26T07:54:13.830Z"
   },
   {
    "duration": 18,
    "start_time": "2022-02-26T07:54:21.916Z"
   },
   {
    "duration": 32277,
    "start_time": "2022-02-26T07:54:21.935Z"
   },
   {
    "duration": 18,
    "start_time": "2022-02-26T07:54:54.214Z"
   },
   {
    "duration": 8,
    "start_time": "2022-02-26T07:54:54.234Z"
   },
   {
    "duration": 5,
    "start_time": "2022-02-26T07:54:54.244Z"
   },
   {
    "duration": 606188,
    "start_time": "2022-02-26T07:54:54.250Z"
   },
   {
    "duration": 86,
    "start_time": "2022-02-26T08:05:00.440Z"
   },
   {
    "duration": 111,
    "start_time": "2022-02-26T08:14:46.266Z"
   },
   {
    "duration": 7982,
    "start_time": "2022-02-26T08:18:27.287Z"
   },
   {
    "duration": 910,
    "start_time": "2022-02-26T08:18:35.272Z"
   },
   {
    "duration": 28,
    "start_time": "2022-02-26T08:18:36.185Z"
   },
   {
    "duration": 67,
    "start_time": "2022-02-26T08:18:36.216Z"
   },
   {
    "duration": 127,
    "start_time": "2022-02-26T08:18:36.284Z"
   },
   {
    "duration": 128,
    "start_time": "2022-02-26T08:18:36.413Z"
   },
   {
    "duration": 497,
    "start_time": "2022-02-26T08:18:36.543Z"
   },
   {
    "duration": 6,
    "start_time": "2022-02-26T08:18:37.043Z"
   },
   {
    "duration": 16061,
    "start_time": "2022-02-26T08:18:37.051Z"
   },
   {
    "duration": 548,
    "start_time": "2022-02-26T08:18:53.115Z"
   },
   {
    "duration": 64,
    "start_time": "2022-02-26T08:18:53.664Z"
   },
   {
    "duration": 58,
    "start_time": "2022-02-26T08:18:53.729Z"
   },
   {
    "duration": 75,
    "start_time": "2022-02-26T08:18:53.789Z"
   },
   {
    "duration": 6,
    "start_time": "2022-02-26T08:18:53.865Z"
   },
   {
    "duration": 12,
    "start_time": "2022-02-26T08:18:53.872Z"
   },
   {
    "duration": 136,
    "start_time": "2022-02-26T08:18:53.885Z"
   },
   {
    "duration": 154,
    "start_time": "2022-02-26T08:18:54.023Z"
   },
   {
    "duration": 21,
    "start_time": "2022-02-26T08:18:54.179Z"
   },
   {
    "duration": 130,
    "start_time": "2022-02-26T08:18:54.212Z"
   },
   {
    "duration": 25,
    "start_time": "2022-02-26T08:18:54.344Z"
   },
   {
    "duration": 76,
    "start_time": "2022-02-26T08:18:54.371Z"
   },
   {
    "duration": 25,
    "start_time": "2022-02-26T08:18:54.449Z"
   },
   {
    "duration": 176,
    "start_time": "2022-02-26T08:18:54.476Z"
   },
   {
    "duration": 118,
    "start_time": "2022-02-26T08:18:54.653Z"
   },
   {
    "duration": 123,
    "start_time": "2022-02-26T08:18:54.773Z"
   },
   {
    "duration": 33,
    "start_time": "2022-02-26T08:18:54.898Z"
   },
   {
    "duration": 145,
    "start_time": "2022-02-26T08:18:54.936Z"
   },
   {
    "duration": 44,
    "start_time": "2022-02-26T08:18:55.084Z"
   },
   {
    "duration": 127,
    "start_time": "2022-02-26T08:18:55.130Z"
   },
   {
    "duration": 125,
    "start_time": "2022-02-26T08:18:55.258Z"
   },
   {
    "duration": 43,
    "start_time": "2022-02-26T08:18:55.385Z"
   },
   {
    "duration": 10,
    "start_time": "2022-02-26T08:18:55.430Z"
   },
   {
    "duration": 10,
    "start_time": "2022-02-26T08:18:55.441Z"
   },
   {
    "duration": 98,
    "start_time": "2022-02-26T08:18:55.453Z"
   },
   {
    "duration": 86,
    "start_time": "2022-02-26T08:18:55.553Z"
   },
   {
    "duration": 55,
    "start_time": "2022-02-26T08:18:55.641Z"
   },
   {
    "duration": 58,
    "start_time": "2022-02-26T08:18:55.712Z"
   },
   {
    "duration": 81,
    "start_time": "2022-02-26T08:18:55.772Z"
   },
   {
    "duration": 7,
    "start_time": "2022-02-26T08:18:55.855Z"
   },
   {
    "duration": 6,
    "start_time": "2022-02-26T08:18:55.864Z"
   },
   {
    "duration": 210,
    "start_time": "2022-02-26T08:18:55.872Z"
   },
   {
    "duration": 119,
    "start_time": "2022-02-26T08:18:56.084Z"
   },
   {
    "duration": 146,
    "start_time": "2022-02-26T08:18:56.205Z"
   },
   {
    "duration": 58,
    "start_time": "2022-02-26T08:18:56.353Z"
   },
   {
    "duration": 10,
    "start_time": "2022-02-26T08:18:56.413Z"
   },
   {
    "duration": 387,
    "start_time": "2022-02-26T08:18:56.424Z"
   },
   {
    "duration": 71,
    "start_time": "2022-02-26T08:18:56.813Z"
   },
   {
    "duration": 79,
    "start_time": "2022-02-26T08:18:56.886Z"
   },
   {
    "duration": 74,
    "start_time": "2022-02-26T08:18:56.966Z"
   },
   {
    "duration": 6,
    "start_time": "2022-02-26T08:18:57.042Z"
   },
   {
    "duration": 8,
    "start_time": "2022-02-26T08:18:57.050Z"
   },
   {
    "duration": 129,
    "start_time": "2022-02-26T08:18:57.059Z"
   },
   {
    "duration": 85,
    "start_time": "2022-02-26T08:18:57.189Z"
   },
   {
    "duration": 19,
    "start_time": "2022-02-26T08:18:57.276Z"
   },
   {
    "duration": 89,
    "start_time": "2022-02-26T08:18:57.297Z"
   },
   {
    "duration": 58,
    "start_time": "2022-02-26T08:18:57.387Z"
   },
   {
    "duration": 98,
    "start_time": "2022-02-26T08:18:57.446Z"
   },
   {
    "duration": 19,
    "start_time": "2022-02-26T08:18:57.546Z"
   },
   {
    "duration": 90,
    "start_time": "2022-02-26T08:18:57.566Z"
   },
   {
    "duration": 19,
    "start_time": "2022-02-26T08:18:57.658Z"
   },
   {
    "duration": 89,
    "start_time": "2022-02-26T08:18:57.679Z"
   },
   {
    "duration": 2,
    "start_time": "2022-02-26T08:18:57.770Z"
   },
   {
    "duration": 8,
    "start_time": "2022-02-26T08:18:57.773Z"
   },
   {
    "duration": 20,
    "start_time": "2022-02-26T08:18:57.783Z"
   },
   {
    "duration": 41,
    "start_time": "2022-02-26T08:18:57.805Z"
   },
   {
    "duration": 18,
    "start_time": "2022-02-26T08:18:57.848Z"
   },
   {
    "duration": 92,
    "start_time": "2022-02-26T08:18:57.868Z"
   },
   {
    "duration": 19,
    "start_time": "2022-02-26T08:18:57.961Z"
   },
   {
    "duration": 46,
    "start_time": "2022-02-26T08:18:57.982Z"
   },
   {
    "duration": 85,
    "start_time": "2022-02-26T08:18:58.030Z"
   },
   {
    "duration": 77,
    "start_time": "2022-02-26T08:18:58.118Z"
   },
   {
    "duration": 21,
    "start_time": "2022-02-26T08:18:58.197Z"
   },
   {
    "duration": 7,
    "start_time": "2022-02-26T08:18:58.220Z"
   },
   {
    "duration": 12,
    "start_time": "2022-02-26T08:18:58.228Z"
   },
   {
    "duration": 8,
    "start_time": "2022-02-26T08:18:58.242Z"
   },
   {
    "duration": 24,
    "start_time": "2022-02-26T08:18:58.252Z"
   },
   {
    "duration": 709,
    "start_time": "2022-02-26T08:18:58.278Z"
   },
   {
    "duration": 4,
    "start_time": "2022-02-26T08:18:58.988Z"
   },
   {
    "duration": 65,
    "start_time": "2022-02-26T08:18:58.993Z"
   },
   {
    "duration": 5,
    "start_time": "2022-02-26T08:18:59.060Z"
   },
   {
    "duration": 346,
    "start_time": "2022-02-26T08:18:59.071Z"
   },
   {
    "duration": 12841,
    "start_time": "2022-02-26T08:18:59.420Z"
   },
   {
    "duration": 2557,
    "start_time": "2022-02-26T08:19:12.263Z"
   },
   {
    "duration": 135314,
    "start_time": "2022-02-26T08:19:14.912Z"
   },
   {
    "duration": 8604,
    "start_time": "2022-02-26T08:21:30.228Z"
   },
   {
    "duration": 16,
    "start_time": "2022-02-26T08:21:38.834Z"
   },
   {
    "duration": 34875,
    "start_time": "2022-02-26T08:21:38.851Z"
   },
   {
    "duration": 17,
    "start_time": "2022-02-26T08:22:13.728Z"
   },
   {
    "duration": 10,
    "start_time": "2022-02-26T08:22:13.747Z"
   },
   {
    "duration": 7,
    "start_time": "2022-02-26T08:22:13.759Z"
   },
   {
    "duration": 144,
    "start_time": "2022-02-26T08:22:13.768Z"
   },
   {
    "duration": 17,
    "start_time": "2022-02-26T08:22:13.913Z"
   },
   {
    "duration": 57,
    "start_time": "2022-02-26T08:52:14.194Z"
   },
   {
    "duration": 10591,
    "start_time": "2022-03-19T10:13:13.958Z"
   },
   {
    "duration": 984,
    "start_time": "2022-03-19T10:13:24.552Z"
   },
   {
    "duration": 20,
    "start_time": "2022-03-19T10:13:25.538Z"
   },
   {
    "duration": 9,
    "start_time": "2022-03-19T10:13:25.560Z"
   },
   {
    "duration": 180,
    "start_time": "2022-03-19T10:13:25.571Z"
   },
   {
    "duration": 165,
    "start_time": "2022-03-19T10:13:25.752Z"
   },
   {
    "duration": 503,
    "start_time": "2022-03-19T10:13:25.920Z"
   },
   {
    "duration": 9,
    "start_time": "2022-03-19T10:13:26.425Z"
   },
   {
    "duration": 9776,
    "start_time": "2022-03-19T10:13:26.435Z"
   },
   {
    "duration": 0,
    "start_time": "2022-03-19T10:13:36.218Z"
   },
   {
    "duration": 0,
    "start_time": "2022-03-19T10:13:36.219Z"
   },
   {
    "duration": 0,
    "start_time": "2022-03-19T10:13:36.220Z"
   },
   {
    "duration": 0,
    "start_time": "2022-03-19T10:13:36.221Z"
   },
   {
    "duration": 0,
    "start_time": "2022-03-19T10:13:36.222Z"
   },
   {
    "duration": 0,
    "start_time": "2022-03-19T10:13:36.223Z"
   },
   {
    "duration": 0,
    "start_time": "2022-03-19T10:13:36.224Z"
   },
   {
    "duration": 0,
    "start_time": "2022-03-19T10:13:36.225Z"
   },
   {
    "duration": 0,
    "start_time": "2022-03-19T10:13:36.225Z"
   },
   {
    "duration": 0,
    "start_time": "2022-03-19T10:13:36.226Z"
   },
   {
    "duration": 0,
    "start_time": "2022-03-19T10:13:36.227Z"
   },
   {
    "duration": 0,
    "start_time": "2022-03-19T10:13:36.228Z"
   },
   {
    "duration": 0,
    "start_time": "2022-03-19T10:13:36.229Z"
   },
   {
    "duration": 0,
    "start_time": "2022-03-19T10:13:36.230Z"
   },
   {
    "duration": 0,
    "start_time": "2022-03-19T10:13:36.231Z"
   },
   {
    "duration": 0,
    "start_time": "2022-03-19T10:13:36.232Z"
   },
   {
    "duration": 0,
    "start_time": "2022-03-19T10:13:36.233Z"
   },
   {
    "duration": 0,
    "start_time": "2022-03-19T10:13:36.234Z"
   },
   {
    "duration": 0,
    "start_time": "2022-03-19T10:13:36.235Z"
   },
   {
    "duration": 0,
    "start_time": "2022-03-19T10:13:36.236Z"
   },
   {
    "duration": 0,
    "start_time": "2022-03-19T10:13:36.237Z"
   },
   {
    "duration": 0,
    "start_time": "2022-03-19T10:13:36.238Z"
   },
   {
    "duration": 0,
    "start_time": "2022-03-19T10:13:36.239Z"
   },
   {
    "duration": 0,
    "start_time": "2022-03-19T10:13:36.240Z"
   },
   {
    "duration": 0,
    "start_time": "2022-03-19T10:13:36.241Z"
   },
   {
    "duration": 0,
    "start_time": "2022-03-19T10:13:36.242Z"
   },
   {
    "duration": 0,
    "start_time": "2022-03-19T10:13:36.243Z"
   },
   {
    "duration": 0,
    "start_time": "2022-03-19T10:13:36.244Z"
   },
   {
    "duration": 0,
    "start_time": "2022-03-19T10:13:36.245Z"
   },
   {
    "duration": 0,
    "start_time": "2022-03-19T10:13:36.246Z"
   },
   {
    "duration": 0,
    "start_time": "2022-03-19T10:13:36.247Z"
   },
   {
    "duration": 0,
    "start_time": "2022-03-19T10:13:36.248Z"
   },
   {
    "duration": 0,
    "start_time": "2022-03-19T10:13:36.248Z"
   },
   {
    "duration": 0,
    "start_time": "2022-03-19T10:13:36.249Z"
   },
   {
    "duration": 0,
    "start_time": "2022-03-19T10:13:36.250Z"
   },
   {
    "duration": 0,
    "start_time": "2022-03-19T10:13:36.302Z"
   },
   {
    "duration": 0,
    "start_time": "2022-03-19T10:13:36.323Z"
   },
   {
    "duration": 0,
    "start_time": "2022-03-19T10:13:36.325Z"
   },
   {
    "duration": 0,
    "start_time": "2022-03-19T10:13:36.326Z"
   },
   {
    "duration": 0,
    "start_time": "2022-03-19T10:13:36.328Z"
   },
   {
    "duration": 0,
    "start_time": "2022-03-19T10:13:36.329Z"
   },
   {
    "duration": 0,
    "start_time": "2022-03-19T10:13:36.331Z"
   },
   {
    "duration": 0,
    "start_time": "2022-03-19T10:13:36.332Z"
   },
   {
    "duration": 0,
    "start_time": "2022-03-19T10:13:36.334Z"
   },
   {
    "duration": 0,
    "start_time": "2022-03-19T10:13:36.336Z"
   },
   {
    "duration": 0,
    "start_time": "2022-03-19T10:13:36.337Z"
   },
   {
    "duration": 0,
    "start_time": "2022-03-19T10:13:36.338Z"
   },
   {
    "duration": 0,
    "start_time": "2022-03-19T10:13:36.340Z"
   },
   {
    "duration": 0,
    "start_time": "2022-03-19T10:13:36.341Z"
   },
   {
    "duration": 0,
    "start_time": "2022-03-19T10:13:36.343Z"
   },
   {
    "duration": 0,
    "start_time": "2022-03-19T10:13:36.345Z"
   },
   {
    "duration": 0,
    "start_time": "2022-03-19T10:13:36.346Z"
   },
   {
    "duration": 0,
    "start_time": "2022-03-19T10:13:36.347Z"
   },
   {
    "duration": 0,
    "start_time": "2022-03-19T10:13:36.348Z"
   },
   {
    "duration": 0,
    "start_time": "2022-03-19T10:13:36.409Z"
   },
   {
    "duration": 0,
    "start_time": "2022-03-19T10:13:36.410Z"
   },
   {
    "duration": 0,
    "start_time": "2022-03-19T10:13:36.410Z"
   },
   {
    "duration": 0,
    "start_time": "2022-03-19T10:13:36.418Z"
   },
   {
    "duration": 0,
    "start_time": "2022-03-19T10:13:36.419Z"
   },
   {
    "duration": 0,
    "start_time": "2022-03-19T10:13:36.421Z"
   },
   {
    "duration": 0,
    "start_time": "2022-03-19T10:13:36.422Z"
   },
   {
    "duration": 0,
    "start_time": "2022-03-19T10:13:36.423Z"
   },
   {
    "duration": 0,
    "start_time": "2022-03-19T10:13:36.424Z"
   },
   {
    "duration": 0,
    "start_time": "2022-03-19T10:13:36.425Z"
   },
   {
    "duration": 0,
    "start_time": "2022-03-19T10:13:36.426Z"
   },
   {
    "duration": 0,
    "start_time": "2022-03-19T10:13:36.427Z"
   },
   {
    "duration": 1,
    "start_time": "2022-03-19T10:13:36.428Z"
   },
   {
    "duration": 0,
    "start_time": "2022-03-19T10:13:36.430Z"
   },
   {
    "duration": 0,
    "start_time": "2022-03-19T10:13:36.431Z"
   },
   {
    "duration": 0,
    "start_time": "2022-03-19T10:13:36.433Z"
   },
   {
    "duration": 0,
    "start_time": "2022-03-19T10:13:36.434Z"
   },
   {
    "duration": 0,
    "start_time": "2022-03-19T10:13:36.435Z"
   },
   {
    "duration": 0,
    "start_time": "2022-03-19T10:13:36.436Z"
   },
   {
    "duration": 0,
    "start_time": "2022-03-19T10:13:36.437Z"
   },
   {
    "duration": 0,
    "start_time": "2022-03-19T10:13:36.438Z"
   },
   {
    "duration": 0,
    "start_time": "2022-03-19T10:13:36.439Z"
   },
   {
    "duration": 0,
    "start_time": "2022-03-19T10:13:36.441Z"
   },
   {
    "duration": 0,
    "start_time": "2022-03-19T10:13:36.442Z"
   },
   {
    "duration": 0,
    "start_time": "2022-03-19T10:13:36.443Z"
   },
   {
    "duration": 0,
    "start_time": "2022-03-19T10:13:36.444Z"
   },
   {
    "duration": 0,
    "start_time": "2022-03-19T10:13:36.505Z"
   },
   {
    "duration": 0,
    "start_time": "2022-03-19T10:13:36.506Z"
   },
   {
    "duration": 11615,
    "start_time": "2022-03-19T10:14:27.178Z"
   },
   {
    "duration": 1069,
    "start_time": "2022-03-19T10:14:38.796Z"
   },
   {
    "duration": 19,
    "start_time": "2022-03-19T10:14:39.867Z"
   },
   {
    "duration": 14,
    "start_time": "2022-03-19T10:14:39.888Z"
   },
   {
    "duration": 198,
    "start_time": "2022-03-19T10:14:39.904Z"
   },
   {
    "duration": 220,
    "start_time": "2022-03-19T10:14:40.104Z"
   },
   {
    "duration": 586,
    "start_time": "2022-03-19T10:14:40.325Z"
   },
   {
    "duration": 11,
    "start_time": "2022-03-19T10:14:40.913Z"
   },
   {
    "duration": 10,
    "start_time": "2022-03-19T10:14:40.926Z"
   },
   {
    "duration": 668,
    "start_time": "2022-03-19T10:14:40.940Z"
   },
   {
    "duration": 101,
    "start_time": "2022-03-19T10:14:41.610Z"
   },
   {
    "duration": 116,
    "start_time": "2022-03-19T10:14:41.713Z"
   },
   {
    "duration": 73,
    "start_time": "2022-03-19T10:14:41.830Z"
   },
   {
    "duration": 7,
    "start_time": "2022-03-19T10:14:41.905Z"
   },
   {
    "duration": 16,
    "start_time": "2022-03-19T10:14:41.914Z"
   },
   {
    "duration": 196,
    "start_time": "2022-03-19T10:14:41.932Z"
   },
   {
    "duration": 210,
    "start_time": "2022-03-19T10:14:42.130Z"
   },
   {
    "duration": 20,
    "start_time": "2022-03-19T10:14:42.342Z"
   },
   {
    "duration": 156,
    "start_time": "2022-03-19T10:14:42.363Z"
   },
   {
    "duration": 41,
    "start_time": "2022-03-19T10:14:42.522Z"
   },
   {
    "duration": 103,
    "start_time": "2022-03-19T10:14:42.566Z"
   },
   {
    "duration": 54,
    "start_time": "2022-03-19T10:14:42.671Z"
   },
   {
    "duration": 177,
    "start_time": "2022-03-19T10:14:42.728Z"
   },
   {
    "duration": 114,
    "start_time": "2022-03-19T10:14:42.908Z"
   },
   {
    "duration": 123,
    "start_time": "2022-03-19T10:14:43.024Z"
   },
   {
    "duration": 54,
    "start_time": "2022-03-19T10:14:43.149Z"
   },
   {
    "duration": 141,
    "start_time": "2022-03-19T10:14:43.205Z"
   },
   {
    "duration": 38,
    "start_time": "2022-03-19T10:14:43.352Z"
   },
   {
    "duration": 125,
    "start_time": "2022-03-19T10:14:43.400Z"
   },
   {
    "duration": 129,
    "start_time": "2022-03-19T10:14:43.527Z"
   },
   {
    "duration": 45,
    "start_time": "2022-03-19T10:14:43.658Z"
   },
   {
    "duration": 12,
    "start_time": "2022-03-19T10:14:43.705Z"
   },
   {
    "duration": 10,
    "start_time": "2022-03-19T10:14:43.719Z"
   },
   {
    "duration": 128,
    "start_time": "2022-03-19T10:14:43.731Z"
   },
   {
    "duration": 119,
    "start_time": "2022-03-19T10:14:43.861Z"
   },
   {
    "duration": 77,
    "start_time": "2022-03-19T10:14:43.982Z"
   },
   {
    "duration": 82,
    "start_time": "2022-03-19T10:14:44.061Z"
   },
   {
    "duration": 73,
    "start_time": "2022-03-19T10:14:44.145Z"
   },
   {
    "duration": 7,
    "start_time": "2022-03-19T10:14:44.220Z"
   },
   {
    "duration": 20,
    "start_time": "2022-03-19T10:14:44.229Z"
   },
   {
    "duration": 214,
    "start_time": "2022-03-19T10:14:44.251Z"
   },
   {
    "duration": 205,
    "start_time": "2022-03-19T10:14:44.467Z"
   },
   {
    "duration": 131,
    "start_time": "2022-03-19T10:14:44.675Z"
   },
   {
    "duration": 55,
    "start_time": "2022-03-19T10:14:44.808Z"
   },
   {
    "duration": 11,
    "start_time": "2022-03-19T10:14:44.865Z"
   },
   {
    "duration": 480,
    "start_time": "2022-03-19T10:14:44.878Z"
   },
   {
    "duration": 79,
    "start_time": "2022-03-19T10:14:45.360Z"
   },
   {
    "duration": 86,
    "start_time": "2022-03-19T10:14:45.441Z"
   },
   {
    "duration": 79,
    "start_time": "2022-03-19T10:14:45.529Z"
   },
   {
    "duration": 8,
    "start_time": "2022-03-19T10:14:45.610Z"
   },
   {
    "duration": 12,
    "start_time": "2022-03-19T10:14:45.620Z"
   },
   {
    "duration": 152,
    "start_time": "2022-03-19T10:14:45.634Z"
   },
   {
    "duration": 101,
    "start_time": "2022-03-19T10:14:45.788Z"
   },
   {
    "duration": 25,
    "start_time": "2022-03-19T10:14:45.902Z"
   },
   {
    "duration": 119,
    "start_time": "2022-03-19T10:14:45.929Z"
   },
   {
    "duration": 68,
    "start_time": "2022-03-19T10:14:46.050Z"
   },
   {
    "duration": 134,
    "start_time": "2022-03-19T10:14:46.120Z"
   },
   {
    "duration": 24,
    "start_time": "2022-03-19T10:14:46.256Z"
   },
   {
    "duration": 133,
    "start_time": "2022-03-19T10:14:46.282Z"
   },
   {
    "duration": 32,
    "start_time": "2022-03-19T10:14:46.417Z"
   },
   {
    "duration": 113,
    "start_time": "2022-03-19T10:14:46.451Z"
   },
   {
    "duration": 3,
    "start_time": "2022-03-19T10:14:46.566Z"
   },
   {
    "duration": 9,
    "start_time": "2022-03-19T10:14:46.571Z"
   },
   {
    "duration": 32,
    "start_time": "2022-03-19T10:14:46.582Z"
   },
   {
    "duration": 44,
    "start_time": "2022-03-19T10:14:46.616Z"
   },
   {
    "duration": 43,
    "start_time": "2022-03-19T10:14:46.662Z"
   },
   {
    "duration": 107,
    "start_time": "2022-03-19T10:14:46.707Z"
   },
   {
    "duration": 25,
    "start_time": "2022-03-19T10:14:46.815Z"
   },
   {
    "duration": 29,
    "start_time": "2022-03-19T10:14:46.843Z"
   },
   {
    "duration": 130,
    "start_time": "2022-03-19T10:14:46.874Z"
   },
   {
    "duration": 103,
    "start_time": "2022-03-19T10:14:47.006Z"
   },
   {
    "duration": 6,
    "start_time": "2022-03-19T10:14:47.111Z"
   },
   {
    "duration": 11,
    "start_time": "2022-03-19T10:14:47.120Z"
   },
   {
    "duration": 11,
    "start_time": "2022-03-19T10:14:47.133Z"
   },
   {
    "duration": 40,
    "start_time": "2022-03-19T10:14:47.147Z"
   },
   {
    "duration": 51,
    "start_time": "2022-03-19T10:14:47.189Z"
   },
   {
    "duration": 773,
    "start_time": "2022-03-19T10:14:47.241Z"
   },
   {
    "duration": 4,
    "start_time": "2022-03-19T10:14:48.016Z"
   },
   {
    "duration": 76,
    "start_time": "2022-03-19T10:14:48.022Z"
   },
   {
    "duration": 6,
    "start_time": "2022-03-19T10:14:48.100Z"
   },
   {
    "duration": 400,
    "start_time": "2022-03-19T10:14:48.108Z"
   },
   {
    "duration": 139749,
    "start_time": "2022-03-19T10:14:48.601Z"
   },
   {
    "duration": 9876,
    "start_time": "2022-03-19T10:17:08.351Z"
   },
   {
    "duration": 46542,
    "start_time": "2022-03-19T10:17:18.310Z"
   },
   {
    "duration": 114258,
    "start_time": "2022-03-19T10:18:04.854Z"
   },
   {
    "duration": 46,
    "start_time": "2022-03-19T10:19:59.114Z"
   },
   {
    "duration": 10683,
    "start_time": "2022-03-19T10:29:06.160Z"
   },
   {
    "duration": 1019,
    "start_time": "2022-03-19T10:29:16.846Z"
   },
   {
    "duration": 19,
    "start_time": "2022-03-19T10:29:17.867Z"
   },
   {
    "duration": 7,
    "start_time": "2022-03-19T10:29:17.905Z"
   },
   {
    "duration": 179,
    "start_time": "2022-03-19T10:29:17.915Z"
   },
   {
    "duration": 176,
    "start_time": "2022-03-19T10:29:18.101Z"
   },
   {
    "duration": 561,
    "start_time": "2022-03-19T10:29:18.278Z"
   },
   {
    "duration": 8,
    "start_time": "2022-03-19T10:29:18.841Z"
   },
   {
    "duration": 9,
    "start_time": "2022-03-19T10:29:18.851Z"
   },
   {
    "duration": 598,
    "start_time": "2022-03-19T10:29:18.862Z"
   },
   {
    "duration": 91,
    "start_time": "2022-03-19T10:29:19.462Z"
   },
   {
    "duration": 90,
    "start_time": "2022-03-19T10:29:19.555Z"
   },
   {
    "duration": 81,
    "start_time": "2022-03-19T10:29:19.648Z"
   },
   {
    "duration": 8,
    "start_time": "2022-03-19T10:29:19.733Z"
   },
   {
    "duration": 13,
    "start_time": "2022-03-19T10:29:19.742Z"
   },
   {
    "duration": 149,
    "start_time": "2022-03-19T10:29:19.757Z"
   },
   {
    "duration": 178,
    "start_time": "2022-03-19T10:29:19.909Z"
   },
   {
    "duration": 28,
    "start_time": "2022-03-19T10:29:20.090Z"
   },
   {
    "duration": 130,
    "start_time": "2022-03-19T10:29:20.121Z"
   },
   {
    "duration": 26,
    "start_time": "2022-03-19T10:29:20.253Z"
   },
   {
    "duration": 71,
    "start_time": "2022-03-19T10:29:20.303Z"
   },
   {
    "duration": 45,
    "start_time": "2022-03-19T10:29:20.376Z"
   },
   {
    "duration": 157,
    "start_time": "2022-03-19T10:29:20.425Z"
   },
   {
    "duration": 117,
    "start_time": "2022-03-19T10:29:20.584Z"
   },
   {
    "duration": 133,
    "start_time": "2022-03-19T10:29:20.705Z"
   },
   {
    "duration": 26,
    "start_time": "2022-03-19T10:29:20.840Z"
   },
   {
    "duration": 157,
    "start_time": "2022-03-19T10:29:20.869Z"
   },
   {
    "duration": 36,
    "start_time": "2022-03-19T10:29:21.030Z"
   },
   {
    "duration": 123,
    "start_time": "2022-03-19T10:29:21.069Z"
   },
   {
    "duration": 139,
    "start_time": "2022-03-19T10:29:21.194Z"
   },
   {
    "duration": 36,
    "start_time": "2022-03-19T10:29:21.335Z"
   },
   {
    "duration": 36,
    "start_time": "2022-03-19T10:29:21.373Z"
   },
   {
    "duration": 13,
    "start_time": "2022-03-19T10:29:21.412Z"
   },
   {
    "duration": 124,
    "start_time": "2022-03-19T10:29:21.427Z"
   },
   {
    "duration": 123,
    "start_time": "2022-03-19T10:29:21.553Z"
   },
   {
    "duration": 84,
    "start_time": "2022-03-19T10:29:21.679Z"
   },
   {
    "duration": 84,
    "start_time": "2022-03-19T10:29:21.765Z"
   },
   {
    "duration": 76,
    "start_time": "2022-03-19T10:29:21.851Z"
   },
   {
    "duration": 7,
    "start_time": "2022-03-19T10:29:21.930Z"
   },
   {
    "duration": 8,
    "start_time": "2022-03-19T10:29:21.939Z"
   },
   {
    "duration": 229,
    "start_time": "2022-03-19T10:29:21.953Z"
   },
   {
    "duration": 114,
    "start_time": "2022-03-19T10:29:22.183Z"
   },
   {
    "duration": 248,
    "start_time": "2022-03-19T10:29:22.306Z"
   },
   {
    "duration": 71,
    "start_time": "2022-03-19T10:29:22.556Z"
   },
   {
    "duration": 11,
    "start_time": "2022-03-19T10:29:22.629Z"
   },
   {
    "duration": 484,
    "start_time": "2022-03-19T10:29:22.642Z"
   },
   {
    "duration": 93,
    "start_time": "2022-03-19T10:29:23.128Z"
   },
   {
    "duration": 70,
    "start_time": "2022-03-19T10:29:23.222Z"
   },
   {
    "duration": 75,
    "start_time": "2022-03-19T10:29:23.305Z"
   },
   {
    "duration": 26,
    "start_time": "2022-03-19T10:29:23.382Z"
   },
   {
    "duration": 19,
    "start_time": "2022-03-19T10:29:23.410Z"
   },
   {
    "duration": 131,
    "start_time": "2022-03-19T10:29:23.431Z"
   },
   {
    "duration": 109,
    "start_time": "2022-03-19T10:29:23.563Z"
   },
   {
    "duration": 43,
    "start_time": "2022-03-19T10:29:23.674Z"
   },
   {
    "duration": 118,
    "start_time": "2022-03-19T10:29:23.720Z"
   },
   {
    "duration": 52,
    "start_time": "2022-03-19T10:29:23.840Z"
   },
   {
    "duration": 147,
    "start_time": "2022-03-19T10:29:23.894Z"
   },
   {
    "duration": 23,
    "start_time": "2022-03-19T10:29:24.042Z"
   },
   {
    "duration": 115,
    "start_time": "2022-03-19T10:29:24.067Z"
   },
   {
    "duration": 51,
    "start_time": "2022-03-19T10:29:24.184Z"
   },
   {
    "duration": 116,
    "start_time": "2022-03-19T10:29:24.237Z"
   },
   {
    "duration": 2,
    "start_time": "2022-03-19T10:29:24.355Z"
   },
   {
    "duration": 8,
    "start_time": "2022-03-19T10:29:24.359Z"
   },
   {
    "duration": 17,
    "start_time": "2022-03-19T10:29:24.369Z"
   },
   {
    "duration": 66,
    "start_time": "2022-03-19T10:29:24.388Z"
   },
   {
    "duration": 22,
    "start_time": "2022-03-19T10:29:24.456Z"
   },
   {
    "duration": 139,
    "start_time": "2022-03-19T10:29:24.481Z"
   },
   {
    "duration": 25,
    "start_time": "2022-03-19T10:29:24.626Z"
   },
   {
    "duration": 27,
    "start_time": "2022-03-19T10:29:24.653Z"
   },
   {
    "duration": 123,
    "start_time": "2022-03-19T10:29:24.682Z"
   },
   {
    "duration": 118,
    "start_time": "2022-03-19T10:29:24.808Z"
   },
   {
    "duration": 15,
    "start_time": "2022-03-19T10:29:24.928Z"
   },
   {
    "duration": 17,
    "start_time": "2022-03-19T10:29:24.945Z"
   },
   {
    "duration": 17,
    "start_time": "2022-03-19T10:29:24.965Z"
   },
   {
    "duration": 24,
    "start_time": "2022-03-19T10:29:24.984Z"
   },
   {
    "duration": 57,
    "start_time": "2022-03-19T10:29:25.010Z"
   },
   {
    "duration": 802,
    "start_time": "2022-03-19T10:29:25.069Z"
   },
   {
    "duration": 4,
    "start_time": "2022-03-19T10:29:25.873Z"
   },
   {
    "duration": 72,
    "start_time": "2022-03-19T10:29:25.878Z"
   },
   {
    "duration": 6,
    "start_time": "2022-03-19T10:29:25.952Z"
   },
   {
    "duration": 267,
    "start_time": "2022-03-19T10:29:25.959Z"
   },
   {
    "duration": 142141,
    "start_time": "2022-03-19T10:29:26.228Z"
   },
   {
    "duration": 10833,
    "start_time": "2022-03-19T10:31:48.371Z"
   },
   {
    "duration": 45443,
    "start_time": "2022-03-19T10:31:59.209Z"
   },
   {
    "duration": 153876,
    "start_time": "2022-03-19T10:32:44.654Z"
   },
   {
    "duration": 112,
    "start_time": "2022-03-19T10:35:18.533Z"
   },
   {
    "duration": 129,
    "start_time": "2022-03-19T10:38:33.262Z"
   },
   {
    "duration": 48,
    "start_time": "2022-03-19T10:38:33.393Z"
   },
   {
    "duration": 3,
    "start_time": "2022-03-19T10:38:33.443Z"
   },
   {
    "duration": 323,
    "start_time": "2022-03-19T10:38:33.452Z"
   },
   {
    "duration": 48,
    "start_time": "2022-03-19T10:38:33.777Z"
   },
   {
    "duration": 10327,
    "start_time": "2022-03-19T10:39:12.442Z"
   },
   {
    "duration": 963,
    "start_time": "2022-03-19T10:39:22.772Z"
   },
   {
    "duration": 19,
    "start_time": "2022-03-19T10:39:23.737Z"
   },
   {
    "duration": 6,
    "start_time": "2022-03-19T10:39:23.759Z"
   },
   {
    "duration": 190,
    "start_time": "2022-03-19T10:39:23.767Z"
   },
   {
    "duration": 154,
    "start_time": "2022-03-19T10:39:23.958Z"
   },
   {
    "duration": 528,
    "start_time": "2022-03-19T10:39:24.116Z"
   },
   {
    "duration": 9,
    "start_time": "2022-03-19T10:39:24.646Z"
   },
   {
    "duration": 99,
    "start_time": "2022-03-19T10:39:24.658Z"
   },
   {
    "duration": 619,
    "start_time": "2022-03-19T10:39:24.760Z"
   },
   {
    "duration": 86,
    "start_time": "2022-03-19T10:39:25.380Z"
   },
   {
    "duration": 90,
    "start_time": "2022-03-19T10:39:25.468Z"
   },
   {
    "duration": 77,
    "start_time": "2022-03-19T10:39:25.560Z"
   },
   {
    "duration": 7,
    "start_time": "2022-03-19T10:39:25.639Z"
   },
   {
    "duration": 14,
    "start_time": "2022-03-19T10:39:25.648Z"
   },
   {
    "duration": 170,
    "start_time": "2022-03-19T10:39:25.664Z"
   },
   {
    "duration": 181,
    "start_time": "2022-03-19T10:39:25.835Z"
   },
   {
    "duration": 20,
    "start_time": "2022-03-19T10:39:26.018Z"
   },
   {
    "duration": 123,
    "start_time": "2022-03-19T10:39:26.040Z"
   },
   {
    "duration": 41,
    "start_time": "2022-03-19T10:39:26.165Z"
   },
   {
    "duration": 71,
    "start_time": "2022-03-19T10:39:26.208Z"
   },
   {
    "duration": 46,
    "start_time": "2022-03-19T10:39:26.281Z"
   },
   {
    "duration": 165,
    "start_time": "2022-03-19T10:39:26.329Z"
   },
   {
    "duration": 118,
    "start_time": "2022-03-19T10:39:26.497Z"
   },
   {
    "duration": 116,
    "start_time": "2022-03-19T10:39:26.622Z"
   },
   {
    "duration": 27,
    "start_time": "2022-03-19T10:39:26.740Z"
   },
   {
    "duration": 150,
    "start_time": "2022-03-19T10:39:26.769Z"
   },
   {
    "duration": 38,
    "start_time": "2022-03-19T10:39:26.925Z"
   },
   {
    "duration": 131,
    "start_time": "2022-03-19T10:39:26.965Z"
   },
   {
    "duration": 127,
    "start_time": "2022-03-19T10:39:27.098Z"
   },
   {
    "duration": 40,
    "start_time": "2022-03-19T10:39:27.228Z"
   },
   {
    "duration": 12,
    "start_time": "2022-03-19T10:39:27.270Z"
   },
   {
    "duration": 16,
    "start_time": "2022-03-19T10:39:27.303Z"
   },
   {
    "duration": 117,
    "start_time": "2022-03-19T10:39:27.321Z"
   },
   {
    "duration": 119,
    "start_time": "2022-03-19T10:39:27.439Z"
   },
   {
    "duration": 105,
    "start_time": "2022-03-19T10:39:27.560Z"
   },
   {
    "duration": 82,
    "start_time": "2022-03-19T10:39:27.668Z"
   },
   {
    "duration": 82,
    "start_time": "2022-03-19T10:39:27.752Z"
   },
   {
    "duration": 8,
    "start_time": "2022-03-19T10:39:27.836Z"
   },
   {
    "duration": 8,
    "start_time": "2022-03-19T10:39:27.846Z"
   },
   {
    "duration": 240,
    "start_time": "2022-03-19T10:39:27.856Z"
   },
   {
    "duration": 284,
    "start_time": "2022-03-19T10:39:28.102Z"
   },
   {
    "duration": 147,
    "start_time": "2022-03-19T10:39:28.389Z"
   },
   {
    "duration": 67,
    "start_time": "2022-03-19T10:39:28.538Z"
   },
   {
    "duration": 15,
    "start_time": "2022-03-19T10:39:28.607Z"
   },
   {
    "duration": 447,
    "start_time": "2022-03-19T10:39:28.624Z"
   },
   {
    "duration": 82,
    "start_time": "2022-03-19T10:39:29.073Z"
   },
   {
    "duration": 86,
    "start_time": "2022-03-19T10:39:29.156Z"
   },
   {
    "duration": 85,
    "start_time": "2022-03-19T10:39:29.244Z"
   },
   {
    "duration": 8,
    "start_time": "2022-03-19T10:39:29.332Z"
   },
   {
    "duration": 12,
    "start_time": "2022-03-19T10:39:29.342Z"
   },
   {
    "duration": 147,
    "start_time": "2022-03-19T10:39:29.356Z"
   },
   {
    "duration": 98,
    "start_time": "2022-03-19T10:39:29.504Z"
   },
   {
    "duration": 28,
    "start_time": "2022-03-19T10:39:29.604Z"
   },
   {
    "duration": 110,
    "start_time": "2022-03-19T10:39:29.633Z"
   },
   {
    "duration": 67,
    "start_time": "2022-03-19T10:39:29.745Z"
   },
   {
    "duration": 115,
    "start_time": "2022-03-19T10:39:29.814Z"
   },
   {
    "duration": 23,
    "start_time": "2022-03-19T10:39:29.931Z"
   },
   {
    "duration": 120,
    "start_time": "2022-03-19T10:39:29.956Z"
   },
   {
    "duration": 35,
    "start_time": "2022-03-19T10:39:30.078Z"
   },
   {
    "duration": 120,
    "start_time": "2022-03-19T10:39:30.115Z"
   },
   {
    "duration": 2,
    "start_time": "2022-03-19T10:39:30.237Z"
   },
   {
    "duration": 28,
    "start_time": "2022-03-19T10:39:30.241Z"
   },
   {
    "duration": 51,
    "start_time": "2022-03-19T10:39:30.271Z"
   },
   {
    "duration": 51,
    "start_time": "2022-03-19T10:39:30.324Z"
   },
   {
    "duration": 21,
    "start_time": "2022-03-19T10:39:30.377Z"
   },
   {
    "duration": 128,
    "start_time": "2022-03-19T10:39:30.401Z"
   },
   {
    "duration": 23,
    "start_time": "2022-03-19T10:39:30.531Z"
   },
   {
    "duration": 35,
    "start_time": "2022-03-19T10:39:30.557Z"
   },
   {
    "duration": 141,
    "start_time": "2022-03-19T10:39:30.594Z"
   },
   {
    "duration": 141,
    "start_time": "2022-03-19T10:39:30.737Z"
   },
   {
    "duration": 6,
    "start_time": "2022-03-19T10:39:30.880Z"
   },
   {
    "duration": 52,
    "start_time": "2022-03-19T10:39:30.887Z"
   },
   {
    "duration": 25,
    "start_time": "2022-03-19T10:39:30.942Z"
   },
   {
    "duration": 122,
    "start_time": "2022-03-19T10:39:30.970Z"
   },
   {
    "duration": 96,
    "start_time": "2022-03-19T10:39:31.095Z"
   },
   {
    "duration": 924,
    "start_time": "2022-03-19T10:39:31.193Z"
   },
   {
    "duration": 6,
    "start_time": "2022-03-19T10:39:32.119Z"
   },
   {
    "duration": 91,
    "start_time": "2022-03-19T10:39:32.127Z"
   },
   {
    "duration": 6,
    "start_time": "2022-03-19T10:39:32.221Z"
   },
   {
    "duration": 378,
    "start_time": "2022-03-19T10:39:32.230Z"
   },
   {
    "duration": 133598,
    "start_time": "2022-03-19T10:39:32.617Z"
   },
   {
    "duration": 5201,
    "start_time": "2022-03-19T10:41:46.217Z"
   },
   {
    "duration": 42960,
    "start_time": "2022-03-19T10:41:51.502Z"
   },
   {
    "duration": 48750,
    "start_time": "2022-03-19T10:42:34.463Z"
   },
   {
    "duration": 44,
    "start_time": "2022-03-19T10:43:23.215Z"
   },
   {
    "duration": 27258,
    "start_time": "2022-03-19T10:43:23.261Z"
   },
   {
    "duration": 43,
    "start_time": "2022-03-19T10:43:50.522Z"
   },
   {
    "duration": 141,
    "start_time": "2022-03-19T10:43:50.567Z"
   },
   {
    "duration": 45,
    "start_time": "2022-03-19T10:43:50.710Z"
   },
   {
    "duration": 4,
    "start_time": "2022-03-19T10:43:50.757Z"
   },
   {
    "duration": 298,
    "start_time": "2022-03-19T10:44:28.062Z"
   },
   {
    "duration": 9982,
    "start_time": "2022-03-19T10:44:50.081Z"
   },
   {
    "duration": 1075,
    "start_time": "2022-03-19T10:45:00.066Z"
   },
   {
    "duration": 23,
    "start_time": "2022-03-19T10:45:01.143Z"
   },
   {
    "duration": 6,
    "start_time": "2022-03-19T10:45:01.168Z"
   },
   {
    "duration": 197,
    "start_time": "2022-03-19T10:45:01.176Z"
   },
   {
    "duration": 178,
    "start_time": "2022-03-19T10:45:01.375Z"
   },
   {
    "duration": 556,
    "start_time": "2022-03-19T10:45:01.555Z"
   },
   {
    "duration": 9,
    "start_time": "2022-03-19T10:45:02.114Z"
   },
   {
    "duration": 32,
    "start_time": "2022-03-19T10:45:02.126Z"
   },
   {
    "duration": 602,
    "start_time": "2022-03-19T10:45:02.161Z"
   },
   {
    "duration": 80,
    "start_time": "2022-03-19T10:45:02.766Z"
   },
   {
    "duration": 89,
    "start_time": "2022-03-19T10:45:02.848Z"
   },
   {
    "duration": 82,
    "start_time": "2022-03-19T10:45:02.939Z"
   },
   {
    "duration": 7,
    "start_time": "2022-03-19T10:45:03.023Z"
   },
   {
    "duration": 12,
    "start_time": "2022-03-19T10:45:03.032Z"
   },
   {
    "duration": 169,
    "start_time": "2022-03-19T10:45:03.046Z"
   },
   {
    "duration": 168,
    "start_time": "2022-03-19T10:45:03.217Z"
   },
   {
    "duration": 28,
    "start_time": "2022-03-19T10:45:03.387Z"
   },
   {
    "duration": 126,
    "start_time": "2022-03-19T10:45:03.417Z"
   },
   {
    "duration": 30,
    "start_time": "2022-03-19T10:45:03.544Z"
   },
   {
    "duration": 88,
    "start_time": "2022-03-19T10:45:03.576Z"
   },
   {
    "duration": 42,
    "start_time": "2022-03-19T10:45:03.666Z"
   },
   {
    "duration": 163,
    "start_time": "2022-03-19T10:45:03.710Z"
   },
   {
    "duration": 114,
    "start_time": "2022-03-19T10:45:03.876Z"
   },
   {
    "duration": 132,
    "start_time": "2022-03-19T10:45:03.992Z"
   },
   {
    "duration": 29,
    "start_time": "2022-03-19T10:45:04.126Z"
   },
   {
    "duration": 157,
    "start_time": "2022-03-19T10:45:04.157Z"
   },
   {
    "duration": 38,
    "start_time": "2022-03-19T10:45:04.319Z"
   },
   {
    "duration": 120,
    "start_time": "2022-03-19T10:45:04.359Z"
   },
   {
    "duration": 127,
    "start_time": "2022-03-19T10:45:04.481Z"
   },
   {
    "duration": 37,
    "start_time": "2022-03-19T10:45:04.610Z"
   },
   {
    "duration": 10,
    "start_time": "2022-03-19T10:45:04.649Z"
   },
   {
    "duration": 16,
    "start_time": "2022-03-19T10:45:04.661Z"
   },
   {
    "duration": 130,
    "start_time": "2022-03-19T10:45:04.679Z"
   },
   {
    "duration": 124,
    "start_time": "2022-03-19T10:45:04.810Z"
   },
   {
    "duration": 71,
    "start_time": "2022-03-19T10:45:04.936Z"
   },
   {
    "duration": 65,
    "start_time": "2022-03-19T10:45:05.009Z"
   },
   {
    "duration": 89,
    "start_time": "2022-03-19T10:45:05.076Z"
   },
   {
    "duration": 7,
    "start_time": "2022-03-19T10:45:05.167Z"
   },
   {
    "duration": 38,
    "start_time": "2022-03-19T10:45:05.177Z"
   },
   {
    "duration": 211,
    "start_time": "2022-03-19T10:45:05.218Z"
   },
   {
    "duration": 205,
    "start_time": "2022-03-19T10:45:05.432Z"
   },
   {
    "duration": 130,
    "start_time": "2022-03-19T10:45:05.639Z"
   },
   {
    "duration": 64,
    "start_time": "2022-03-19T10:45:05.771Z"
   },
   {
    "duration": 11,
    "start_time": "2022-03-19T10:45:05.837Z"
   },
   {
    "duration": 486,
    "start_time": "2022-03-19T10:45:05.850Z"
   },
   {
    "duration": 84,
    "start_time": "2022-03-19T10:45:06.338Z"
   },
   {
    "duration": 80,
    "start_time": "2022-03-19T10:45:06.424Z"
   },
   {
    "duration": 73,
    "start_time": "2022-03-19T10:45:06.506Z"
   },
   {
    "duration": 21,
    "start_time": "2022-03-19T10:45:06.581Z"
   },
   {
    "duration": 8,
    "start_time": "2022-03-19T10:45:06.607Z"
   },
   {
    "duration": 143,
    "start_time": "2022-03-19T10:45:06.617Z"
   },
   {
    "duration": 105,
    "start_time": "2022-03-19T10:45:06.762Z"
   },
   {
    "duration": 39,
    "start_time": "2022-03-19T10:45:06.869Z"
   },
   {
    "duration": 94,
    "start_time": "2022-03-19T10:45:06.911Z"
   },
   {
    "duration": 56,
    "start_time": "2022-03-19T10:45:07.007Z"
   },
   {
    "duration": 122,
    "start_time": "2022-03-19T10:45:07.065Z"
   },
   {
    "duration": 37,
    "start_time": "2022-03-19T10:45:07.189Z"
   },
   {
    "duration": 114,
    "start_time": "2022-03-19T10:45:07.228Z"
   },
   {
    "duration": 24,
    "start_time": "2022-03-19T10:45:07.343Z"
   },
   {
    "duration": 114,
    "start_time": "2022-03-19T10:45:07.370Z"
   },
   {
    "duration": 3,
    "start_time": "2022-03-19T10:45:07.486Z"
   },
   {
    "duration": 5,
    "start_time": "2022-03-19T10:45:07.503Z"
   },
   {
    "duration": 20,
    "start_time": "2022-03-19T10:45:07.510Z"
   },
   {
    "duration": 42,
    "start_time": "2022-03-19T10:45:07.533Z"
   },
   {
    "duration": 44,
    "start_time": "2022-03-19T10:45:07.577Z"
   },
   {
    "duration": 110,
    "start_time": "2022-03-19T10:45:07.623Z"
   },
   {
    "duration": 23,
    "start_time": "2022-03-19T10:45:07.735Z"
   },
   {
    "duration": 29,
    "start_time": "2022-03-19T10:45:07.760Z"
   },
   {
    "duration": 115,
    "start_time": "2022-03-19T10:45:07.800Z"
   },
   {
    "duration": 118,
    "start_time": "2022-03-19T10:45:07.917Z"
   },
   {
    "duration": 6,
    "start_time": "2022-03-19T10:45:08.037Z"
   },
   {
    "duration": 9,
    "start_time": "2022-03-19T10:45:08.044Z"
   },
   {
    "duration": 8,
    "start_time": "2022-03-19T10:45:08.055Z"
   },
   {
    "duration": 9,
    "start_time": "2022-03-19T10:45:08.064Z"
   },
   {
    "duration": 51,
    "start_time": "2022-03-19T10:45:08.076Z"
   },
   {
    "duration": 791,
    "start_time": "2022-03-19T10:45:08.129Z"
   },
   {
    "duration": 5,
    "start_time": "2022-03-19T10:45:08.922Z"
   },
   {
    "duration": 54,
    "start_time": "2022-03-19T10:45:08.929Z"
   },
   {
    "duration": 19,
    "start_time": "2022-03-19T10:45:08.986Z"
   },
   {
    "duration": 314,
    "start_time": "2022-03-19T10:45:09.010Z"
   },
   {
    "duration": 138172,
    "start_time": "2022-03-19T10:45:09.423Z"
   },
   {
    "duration": 7723,
    "start_time": "2022-03-19T10:47:27.601Z"
   },
   {
    "duration": 44663,
    "start_time": "2022-03-19T10:47:35.404Z"
   },
   {
    "duration": 43252,
    "start_time": "2022-03-19T10:48:20.069Z"
   },
   {
    "duration": 98,
    "start_time": "2022-03-19T10:49:03.324Z"
   },
   {
    "duration": 140222,
    "start_time": "2022-03-19T10:49:03.424Z"
   },
   {
    "duration": 100,
    "start_time": "2022-03-19T10:51:23.649Z"
   },
   {
    "duration": 121,
    "start_time": "2022-03-19T10:51:23.751Z"
   },
   {
    "duration": 53,
    "start_time": "2022-03-19T10:51:23.874Z"
   },
   {
    "duration": 4,
    "start_time": "2022-03-19T10:51:23.928Z"
   }
  ],
  "colab": {
   "collapsed_sections": [],
   "name": "Project9_Car_Price.ipynb",
   "provenance": [],
   "toc_visible": true
  },
  "kernelspec": {
   "display_name": "Python 3 (ipykernel)",
   "language": "python",
   "name": "python3"
  },
  "language_info": {
   "codemirror_mode": {
    "name": "ipython",
    "version": 3
   },
   "file_extension": ".py",
   "mimetype": "text/x-python",
   "name": "python",
   "nbconvert_exporter": "python",
   "pygments_lexer": "ipython3",
   "version": "3.9.5"
  },
  "toc": {
   "base_numbering": 1,
   "nav_menu": {},
   "number_sections": true,
   "sideBar": true,
   "skip_h1_title": true,
   "title_cell": "Table of Contents",
   "title_sidebar": "Contents",
   "toc_cell": false,
   "toc_position": {},
   "toc_section_display": true,
   "toc_window_display": true
  }
 },
 "nbformat": 4,
 "nbformat_minor": 1
}
